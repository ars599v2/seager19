{
 "cells": [
  {
   "cell_type": "code",
   "execution_count": 3,
   "id": "b1f1d017-0a13-40f6-8f07-b3560bde78f8",
   "metadata": {},
   "outputs": [
    {
     "name": "stdout",
     "output_type": "stream",
     "text": [
      "Requirement already satisfied: xarray==0.17 in ./env/lib/python3.8/site-packages (from -r requirements/pangeo.txt (line 4)) (0.17.0)\n",
      "Requirement already satisfied: matplotlib>=3.1 in ./env/lib/python3.8/site-packages (from -r requirements/pangeo.txt (line 5)) (3.3.4)\n",
      "Requirement already satisfied: cmip6_preprocessing in ./env/lib/python3.8/site-packages (from -r requirements/pangeo.txt (line 6)) (0.5.0)\n",
      "Requirement already satisfied: pytest in ./env/lib/python3.8/site-packages (from -r requirements/pangeo.txt (line 9)) (7.0.0)\n",
      "Requirement already satisfied: coveralls in ./env/lib/python3.8/site-packages (from -r requirements/pangeo.txt (line 10)) (3.3.1)\n",
      "Requirement already satisfied: recursive_diff in ./env/lib/python3.8/site-packages (from -r requirements/pangeo.txt (line 11)) (1.0.0)\n",
      "Requirement already satisfied: typeguard in ./env/lib/python3.8/site-packages (from -r requirements/pangeo.txt (line 12)) (2.13.3)\n",
      "Requirement already satisfied: numpy in ./env/lib/python3.8/site-packages (from -r requirements/pangeo.txt (line 15)) (1.19.5)\n",
      "Requirement already satisfied: scipy in ./env/lib/python3.8/site-packages (from -r requirements/pangeo.txt (line 16)) (1.6.2)\n",
      "Requirement already satisfied: numba in /home/jovyan/.local/lib/python3.8/site-packages (from -r requirements/pangeo.txt (line 17)) (0.51.2)\n",
      "Requirement already satisfied: pandas in ./env/lib/python3.8/site-packages (from -r requirements/pangeo.txt (line 18)) (1.3.0)\n",
      "Requirement already satisfied: uncertainties in ./env/lib/python3.8/site-packages (from -r requirements/pangeo.txt (line 20)) (3.1.6)\n",
      "Requirement already satisfied: tqdm in ./env/lib/python3.8/site-packages (from -r requirements/pangeo.txt (line 23)) (4.62.3)\n",
      "Requirement already satisfied: jupyterlab in ./env/lib/python3.8/site-packages (from -r requirements/pangeo.txt (line 24)) (3.2.9)\n",
      "Requirement already satisfied: jupyter in ./env/lib/python3.8/site-packages (from -r requirements/pangeo.txt (line 25)) (1.0.0)\n",
      "Requirement already satisfied: ipython in ./env/lib/python3.8/site-packages (from -r requirements/pangeo.txt (line 26)) (7.30.1)\n",
      "Requirement already satisfied: jupyterthemes in ./env/lib/python3.8/site-packages (from -r requirements/pangeo.txt (line 27)) (0.20.0)\n",
      "Requirement already satisfied: eccodes in ./env/lib/python3.8/site-packages (from -r requirements/pangeo.txt (line 30)) (1.4.0)\n",
      "Requirement already satisfied: cftime in ./env/lib/python3.8/site-packages (from -r requirements/pangeo.txt (line 31)) (1.5.0)\n",
      "Requirement already satisfied: dask[complete] in ./env/lib/python3.8/site-packages (from -r requirements/pangeo.txt (line 32)) (2021.7.0)\n",
      "Requirement already satisfied: nc-time-axis in ./env/lib/python3.8/site-packages (from -r requirements/pangeo.txt (line 34)) (1.4.0)\n",
      "Requirement already satisfied: netCDF4 in ./env/lib/python3.8/site-packages (from -r requirements/pangeo.txt (line 35)) (1.5.8)\n",
      "Requirement already satisfied: hydra-core in ./env/lib/python3.8/site-packages (from -r requirements/pangeo.txt (line 38)) (1.1.1)\n",
      "Requirement already satisfied: wandb in ./env/lib/python3.8/site-packages (from -r requirements/pangeo.txt (line 41)) (0.12.10)\n",
      "Requirement already satisfied: seaborn in ./env/lib/python3.8/site-packages (from -r requirements/pangeo.txt (line 44)) (0.11.2)\n",
      "Requirement already satisfied: cmocean in ./env/lib/python3.8/site-packages (from -r requirements/pangeo.txt (line 45)) (2.0)\n",
      "Requirement already satisfied: requests in ./env/lib/python3.8/site-packages (from -r requirements/pangeo.txt (line 48)) (2.27.1)\n",
      "Requirement already satisfied: zipfile38 in ./env/lib/python3.8/site-packages (from -r requirements/pangeo.txt (line 49)) (0.0.3)\n",
      "Requirement already satisfied: aiohttp in ./env/lib/python3.8/site-packages (from -r requirements/pangeo.txt (line 50)) (3.8.1)\n",
      "Requirement already satisfied: intake-esm in ./env/lib/python3.8/site-packages (from -r requirements/pangeo.txt (line 53)) (2021.8.17)\n",
      "Requirement already satisfied: intake in ./env/lib/python3.8/site-packages (from -r requirements/pangeo.txt (line 54)) (0.6.5)\n",
      "Requirement already satisfied: intake-xarray in ./env/lib/python3.8/site-packages (from -r requirements/pangeo.txt (line 55)) (0.5.0)\n",
      "Requirement already satisfied: gcsfs in ./env/lib/python3.8/site-packages (from -r requirements/pangeo.txt (line 56)) (2022.1.0)\n",
      "Requirement already satisfied: setuptools>=40.4 in ./env/lib/python3.8/site-packages (from xarray==0.17->-r requirements/pangeo.txt (line 4)) (52.0.0.post20210125)\n",
      "Requirement already satisfied: python-dateutil>=2.1 in ./env/lib/python3.8/site-packages (from matplotlib>=3.1->-r requirements/pangeo.txt (line 5)) (2.8.1)\n",
      "Requirement already satisfied: kiwisolver>=1.0.1 in ./env/lib/python3.8/site-packages (from matplotlib>=3.1->-r requirements/pangeo.txt (line 5)) (1.3.1)\n",
      "Requirement already satisfied: cycler>=0.10 in ./env/lib/python3.8/site-packages (from matplotlib>=3.1->-r requirements/pangeo.txt (line 5)) (0.10.0)\n",
      "Requirement already satisfied: pyparsing!=2.0.4,!=2.1.2,!=2.1.6,>=2.0.3 in ./env/lib/python3.8/site-packages (from matplotlib>=3.1->-r requirements/pangeo.txt (line 5)) (2.4.7)\n",
      "Requirement already satisfied: pillow>=6.2.0 in ./env/lib/python3.8/site-packages (from matplotlib>=3.1->-r requirements/pangeo.txt (line 5)) (8.3.1)\n",
      "Requirement already satisfied: pytz>=2017.3 in ./env/lib/python3.8/site-packages (from pandas->-r requirements/pangeo.txt (line 18)) (2021.1)\n",
      "Requirement already satisfied: six in ./env/lib/python3.8/site-packages (from cycler>=0.10->matplotlib>=3.1->-r requirements/pangeo.txt (line 5)) (1.16.0)\n",
      "Requirement already satisfied: xarrayutils in ./env/lib/python3.8/site-packages (from cmip6_preprocessing->-r requirements/pangeo.txt (line 6)) (1.0.0)\n",
      "Requirement already satisfied: xgcm in ./env/lib/python3.8/site-packages (from cmip6_preprocessing->-r requirements/pangeo.txt (line 6)) (0.5.2)\n",
      "Requirement already satisfied: packaging in ./env/lib/python3.8/site-packages (from pytest->-r requirements/pangeo.txt (line 9)) (21.3)\n",
      "Requirement already satisfied: iniconfig in ./env/lib/python3.8/site-packages (from pytest->-r requirements/pangeo.txt (line 9)) (1.1.1)\n",
      "Requirement already satisfied: py>=1.8.2 in ./env/lib/python3.8/site-packages (from pytest->-r requirements/pangeo.txt (line 9)) (1.11.0)\n",
      "Requirement already satisfied: attrs>=19.2.0 in ./env/lib/python3.8/site-packages (from pytest->-r requirements/pangeo.txt (line 9)) (21.2.0)\n",
      "Requirement already satisfied: pluggy<2.0,>=0.12 in ./env/lib/python3.8/site-packages (from pytest->-r requirements/pangeo.txt (line 9)) (1.0.0)\n",
      "Requirement already satisfied: tomli>=1.0.0 in ./env/lib/python3.8/site-packages (from pytest->-r requirements/pangeo.txt (line 9)) (2.0.1)\n",
      "Requirement already satisfied: docopt>=0.6.1 in ./env/lib/python3.8/site-packages (from coveralls->-r requirements/pangeo.txt (line 10)) (0.6.2)\n",
      "Requirement already satisfied: coverage!=6.0.*,!=6.1,!=6.1.1,<7.0,>=4.1 in ./env/lib/python3.8/site-packages (from coveralls->-r requirements/pangeo.txt (line 10)) (6.3.1)\n",
      "Requirement already satisfied: certifi>=2017.4.17 in ./env/lib/python3.8/site-packages (from requests->-r requirements/pangeo.txt (line 48)) (2021.10.8)\n",
      "Requirement already satisfied: idna<4,>=2.5 in ./env/lib/python3.8/site-packages (from requests->-r requirements/pangeo.txt (line 48)) (3.3)\n",
      "Requirement already satisfied: urllib3<1.27,>=1.21.1 in ./env/lib/python3.8/site-packages (from requests->-r requirements/pangeo.txt (line 48)) (1.26.8)\n",
      "Requirement already satisfied: charset-normalizer~=2.0.0 in ./env/lib/python3.8/site-packages (from requests->-r requirements/pangeo.txt (line 48)) (2.0.11)\n",
      "Requirement already satisfied: llvmlite<0.35,>=0.34.0.dev0 in /home/jovyan/.local/lib/python3.8/site-packages (from numba->-r requirements/pangeo.txt (line 17)) (0.34.0)\n",
      "Requirement already satisfied: future in ./env/lib/python3.8/site-packages (from uncertainties->-r requirements/pangeo.txt (line 20)) (0.18.2)\n",
      "Requirement already satisfied: jupyterlab-server~=2.3 in ./env/lib/python3.8/site-packages (from jupyterlab->-r requirements/pangeo.txt (line 24)) (2.10.3)\n",
      "Requirement already satisfied: jinja2>=2.1 in ./env/lib/python3.8/site-packages (from jupyterlab->-r requirements/pangeo.txt (line 24)) (3.0.3)\n",
      "Requirement already satisfied: tornado>=6.1.0 in ./env/lib/python3.8/site-packages (from jupyterlab->-r requirements/pangeo.txt (line 24)) (6.1)\n",
      "Requirement already satisfied: jupyter-core in ./env/lib/python3.8/site-packages (from jupyterlab->-r requirements/pangeo.txt (line 24)) (4.9.1)\n",
      "Requirement already satisfied: jupyter-server~=1.4 in ./env/lib/python3.8/site-packages (from jupyterlab->-r requirements/pangeo.txt (line 24)) (1.13.5)\n",
      "Requirement already satisfied: nbclassic~=0.2 in ./env/lib/python3.8/site-packages (from jupyterlab->-r requirements/pangeo.txt (line 24)) (0.3.5)\n",
      "Requirement already satisfied: MarkupSafe>=2.0 in ./env/lib/python3.8/site-packages (from jinja2>=2.1->jupyterlab->-r requirements/pangeo.txt (line 24)) (2.0.1)\n",
      "Requirement already satisfied: nbformat in ./env/lib/python3.8/site-packages (from jupyter-server~=1.4->jupyterlab->-r requirements/pangeo.txt (line 24)) (5.1.3)\n",
      "Requirement already satisfied: nbconvert in ./env/lib/python3.8/site-packages (from jupyter-server~=1.4->jupyterlab->-r requirements/pangeo.txt (line 24)) (6.3.0)\n",
      "Requirement already satisfied: anyio<4,>=3.1.0 in ./env/lib/python3.8/site-packages (from jupyter-server~=1.4->jupyterlab->-r requirements/pangeo.txt (line 24)) (3.5.0)\n",
      "Requirement already satisfied: traitlets>=5 in ./env/lib/python3.8/site-packages (from jupyter-server~=1.4->jupyterlab->-r requirements/pangeo.txt (line 24)) (5.1.1)\n",
      "Requirement already satisfied: ipython-genutils in ./env/lib/python3.8/site-packages (from jupyter-server~=1.4->jupyterlab->-r requirements/pangeo.txt (line 24)) (0.2.0)\n",
      "Requirement already satisfied: terminado>=0.8.3 in ./env/lib/python3.8/site-packages (from jupyter-server~=1.4->jupyterlab->-r requirements/pangeo.txt (line 24)) (0.12.1)\n",
      "Requirement already satisfied: prometheus-client in ./env/lib/python3.8/site-packages (from jupyter-server~=1.4->jupyterlab->-r requirements/pangeo.txt (line 24)) (0.12.0)\n",
      "Requirement already satisfied: jupyter-client>=6.1.1 in ./env/lib/python3.8/site-packages (from jupyter-server~=1.4->jupyterlab->-r requirements/pangeo.txt (line 24)) (7.1.0)\n",
      "Requirement already satisfied: Send2Trash in ./env/lib/python3.8/site-packages (from jupyter-server~=1.4->jupyterlab->-r requirements/pangeo.txt (line 24)) (1.8.0)\n",
      "Requirement already satisfied: pyzmq>=17 in ./env/lib/python3.8/site-packages (from jupyter-server~=1.4->jupyterlab->-r requirements/pangeo.txt (line 24)) (22.3.0)\n",
      "Requirement already satisfied: websocket-client in ./env/lib/python3.8/site-packages (from jupyter-server~=1.4->jupyterlab->-r requirements/pangeo.txt (line 24)) (1.2.3)\n",
      "Requirement already satisfied: argon2-cffi in ./env/lib/python3.8/site-packages (from jupyter-server~=1.4->jupyterlab->-r requirements/pangeo.txt (line 24)) (21.2.0)\n",
      "Requirement already satisfied: sniffio>=1.1 in ./env/lib/python3.8/site-packages (from anyio<4,>=3.1.0->jupyter-server~=1.4->jupyterlab->-r requirements/pangeo.txt (line 24)) (1.2.0)\n",
      "Requirement already satisfied: entrypoints in ./env/lib/python3.8/site-packages (from jupyter-client>=6.1.1->jupyter-server~=1.4->jupyterlab->-r requirements/pangeo.txt (line 24)) (0.3)\n",
      "Requirement already satisfied: nest-asyncio>=1.5 in ./env/lib/python3.8/site-packages (from jupyter-client>=6.1.1->jupyter-server~=1.4->jupyterlab->-r requirements/pangeo.txt (line 24)) (1.5.4)\n",
      "Requirement already satisfied: json5 in ./env/lib/python3.8/site-packages (from jupyterlab-server~=2.3->jupyterlab->-r requirements/pangeo.txt (line 24)) (0.9.6)\n",
      "Requirement already satisfied: babel in ./env/lib/python3.8/site-packages (from jupyterlab-server~=2.3->jupyterlab->-r requirements/pangeo.txt (line 24)) (2.9.1)\n",
      "Requirement already satisfied: jsonschema>=3.0.1 in ./env/lib/python3.8/site-packages (from jupyterlab-server~=2.3->jupyterlab->-r requirements/pangeo.txt (line 24)) (4.2.1)\n",
      "Requirement already satisfied: importlib-resources>=1.4.0 in ./env/lib/python3.8/site-packages (from jsonschema>=3.0.1->jupyterlab-server~=2.3->jupyterlab->-r requirements/pangeo.txt (line 24)) (5.4.0)\n",
      "Requirement already satisfied: pyrsistent!=0.17.0,!=0.17.1,!=0.17.2,>=0.14.0 in ./env/lib/python3.8/site-packages (from jsonschema>=3.0.1->jupyterlab-server~=2.3->jupyterlab->-r requirements/pangeo.txt (line 24)) (0.18.0)\n",
      "Requirement already satisfied: zipp>=3.1.0 in ./env/lib/python3.8/site-packages (from importlib-resources>=1.4.0->jsonschema>=3.0.1->jupyterlab-server~=2.3->jupyterlab->-r requirements/pangeo.txt (line 24)) (3.6.0)\n",
      "Requirement already satisfied: notebook<7 in ./env/lib/python3.8/site-packages (from nbclassic~=0.2->jupyterlab->-r requirements/pangeo.txt (line 24)) (6.4.6)\n",
      "Requirement already satisfied: ipykernel in ./env/lib/python3.8/site-packages (from notebook<7->nbclassic~=0.2->jupyterlab->-r requirements/pangeo.txt (line 24)) (6.6.0)\n",
      "Requirement already satisfied: ptyprocess in ./env/lib/python3.8/site-packages (from terminado>=0.8.3->jupyter-server~=1.4->jupyterlab->-r requirements/pangeo.txt (line 24)) (0.7.0)\n",
      "Requirement already satisfied: ipywidgets in ./env/lib/python3.8/site-packages (from jupyter->-r requirements/pangeo.txt (line 25)) (7.6.5)\n",
      "Requirement already satisfied: jupyter-console in ./env/lib/python3.8/site-packages (from jupyter->-r requirements/pangeo.txt (line 25)) (6.4.0)\n",
      "Requirement already satisfied: qtconsole in ./env/lib/python3.8/site-packages (from jupyter->-r requirements/pangeo.txt (line 25)) (5.2.1)\n",
      "Requirement already satisfied: backcall in ./env/lib/python3.8/site-packages (from ipython->-r requirements/pangeo.txt (line 26)) (0.2.0)\n",
      "Requirement already satisfied: prompt-toolkit!=3.0.0,!=3.0.1,<3.1.0,>=2.0.0 in ./env/lib/python3.8/site-packages (from ipython->-r requirements/pangeo.txt (line 26)) (3.0.23)\n",
      "Requirement already satisfied: matplotlib-inline in ./env/lib/python3.8/site-packages (from ipython->-r requirements/pangeo.txt (line 26)) (0.1.3)\n",
      "Requirement already satisfied: pexpect>4.3 in ./env/lib/python3.8/site-packages (from ipython->-r requirements/pangeo.txt (line 26)) (4.8.0)\n",
      "Requirement already satisfied: pickleshare in ./env/lib/python3.8/site-packages (from ipython->-r requirements/pangeo.txt (line 26)) (0.7.5)\n",
      "Requirement already satisfied: jedi>=0.16 in ./env/lib/python3.8/site-packages (from ipython->-r requirements/pangeo.txt (line 26)) (0.18.1)\n",
      "Requirement already satisfied: pygments in ./env/lib/python3.8/site-packages (from ipython->-r requirements/pangeo.txt (line 26)) (2.10.0)\n",
      "Requirement already satisfied: decorator in ./env/lib/python3.8/site-packages (from ipython->-r requirements/pangeo.txt (line 26)) (5.1.1)\n",
      "Requirement already satisfied: parso<0.9.0,>=0.8.0 in ./env/lib/python3.8/site-packages (from jedi>=0.16->ipython->-r requirements/pangeo.txt (line 26)) (0.8.3)\n",
      "Requirement already satisfied: wcwidth in ./env/lib/python3.8/site-packages (from prompt-toolkit!=3.0.0,!=3.0.1,<3.1.0,>=2.0.0->ipython->-r requirements/pangeo.txt (line 26)) (0.2.5)\n",
      "Requirement already satisfied: lesscpy>=0.11.2 in ./env/lib/python3.8/site-packages (from jupyterthemes->-r requirements/pangeo.txt (line 27)) (0.15.0)\n",
      "Requirement already satisfied: ply in ./env/lib/python3.8/site-packages (from lesscpy>=0.11.2->jupyterthemes->-r requirements/pangeo.txt (line 27)) (3.11)\n",
      "Requirement already satisfied: cffi in ./env/lib/python3.8/site-packages (from eccodes->-r requirements/pangeo.txt (line 30)) (1.15.0)\n",
      "Requirement already satisfied: findlibs in ./env/lib/python3.8/site-packages (from eccodes->-r requirements/pangeo.txt (line 30)) (0.0.2)\n",
      "Requirement already satisfied: omegaconf==2.1.* in ./env/lib/python3.8/site-packages (from hydra-core->-r requirements/pangeo.txt (line 38)) (2.1.1)\n",
      "Requirement already satisfied: antlr4-python3-runtime==4.8 in ./env/lib/python3.8/site-packages (from hydra-core->-r requirements/pangeo.txt (line 38)) (4.8)\n",
      "Requirement already satisfied: PyYAML>=5.1.0 in ./env/lib/python3.8/site-packages (from omegaconf==2.1.*->hydra-core->-r requirements/pangeo.txt (line 38)) (5.4.1)\n",
      "Requirement already satisfied: shortuuid>=0.5.0 in ./env/lib/python3.8/site-packages (from wandb->-r requirements/pangeo.txt (line 41)) (1.0.8)\n",
      "Requirement already satisfied: docker-pycreds>=0.4.0 in ./env/lib/python3.8/site-packages (from wandb->-r requirements/pangeo.txt (line 41)) (0.4.0)\n",
      "Requirement already satisfied: sentry-sdk>=1.0.0 in ./env/lib/python3.8/site-packages (from wandb->-r requirements/pangeo.txt (line 41)) (1.5.4)\n",
      "Requirement already satisfied: promise<3,>=2.0 in ./env/lib/python3.8/site-packages (from wandb->-r requirements/pangeo.txt (line 41)) (2.3)\n",
      "Requirement already satisfied: GitPython>=1.0.0 in ./env/lib/python3.8/site-packages (from wandb->-r requirements/pangeo.txt (line 41)) (3.1.26)\n",
      "Requirement already satisfied: yaspin>=1.0.0 in ./env/lib/python3.8/site-packages (from wandb->-r requirements/pangeo.txt (line 41)) (2.1.0)\n",
      "Requirement already satisfied: psutil>=5.0.0 in ./env/lib/python3.8/site-packages (from wandb->-r requirements/pangeo.txt (line 41)) (5.9.0)\n",
      "Requirement already satisfied: protobuf>=3.12.0 in ./env/lib/python3.8/site-packages (from wandb->-r requirements/pangeo.txt (line 41)) (3.19.4)\n",
      "Requirement already satisfied: Click!=8.0.0,>=7.0 in ./env/lib/python3.8/site-packages (from wandb->-r requirements/pangeo.txt (line 41)) (8.0.3)\n",
      "Requirement already satisfied: pathtools in ./env/lib/python3.8/site-packages (from wandb->-r requirements/pangeo.txt (line 41)) (0.1.2)\n",
      "Requirement already satisfied: gitdb<5,>=4.0.1 in ./env/lib/python3.8/site-packages (from GitPython>=1.0.0->wandb->-r requirements/pangeo.txt (line 41)) (4.0.9)\n",
      "Requirement already satisfied: smmap<6,>=3.0.1 in ./env/lib/python3.8/site-packages (from gitdb<5,>=4.0.1->GitPython>=1.0.0->wandb->-r requirements/pangeo.txt (line 41)) (5.0.0)\n",
      "Requirement already satisfied: termcolor<2.0.0,>=1.1.0 in ./env/lib/python3.8/site-packages (from yaspin>=1.0.0->wandb->-r requirements/pangeo.txt (line 41)) (1.1.0)\n",
      "Requirement already satisfied: frozenlist>=1.1.1 in ./env/lib/python3.8/site-packages (from aiohttp->-r requirements/pangeo.txt (line 50)) (1.3.0)\n",
      "Requirement already satisfied: yarl<2.0,>=1.0 in ./env/lib/python3.8/site-packages (from aiohttp->-r requirements/pangeo.txt (line 50)) (1.7.2)\n",
      "Requirement already satisfied: multidict<7.0,>=4.5 in ./env/lib/python3.8/site-packages (from aiohttp->-r requirements/pangeo.txt (line 50)) (6.0.2)\n",
      "Requirement already satisfied: async-timeout<5.0,>=4.0.0a3 in ./env/lib/python3.8/site-packages (from aiohttp->-r requirements/pangeo.txt (line 50)) (4.0.2)\n",
      "Requirement already satisfied: aiosignal>=1.1.2 in ./env/lib/python3.8/site-packages (from aiohttp->-r requirements/pangeo.txt (line 50)) (1.2.0)\n",
      "Requirement already satisfied: fsspec>=0.8.0 in ./env/lib/python3.8/site-packages (from intake-esm->-r requirements/pangeo.txt (line 53)) (2022.1.0)\n",
      "Requirement already satisfied: h5netcdf>=0.8.1 in ./env/lib/python3.8/site-packages (from intake-esm->-r requirements/pangeo.txt (line 53)) (0.13.1)\n",
      "Requirement already satisfied: zarr>=2.5 in ./env/lib/python3.8/site-packages (from intake-esm->-r requirements/pangeo.txt (line 53)) (2.11.0)\n",
      "Requirement already satisfied: fastprogress>=0.2.6 in ./env/lib/python3.8/site-packages (from intake-esm->-r requirements/pangeo.txt (line 53)) (1.0.0)\n",
      "Requirement already satisfied: pydantic in ./env/lib/python3.8/site-packages (from intake-esm->-r requirements/pangeo.txt (line 53)) (1.9.0)\n",
      "Requirement already satisfied: appdirs in ./env/lib/python3.8/site-packages (from intake->-r requirements/pangeo.txt (line 54)) (1.4.4)\n",
      "Requirement already satisfied: h5py in ./env/lib/python3.8/site-packages (from h5netcdf>=0.8.1->intake-esm->-r requirements/pangeo.txt (line 53)) (3.6.0)\n",
      "Requirement already satisfied: fasteners in ./env/lib/python3.8/site-packages (from zarr>=2.5->intake-esm->-r requirements/pangeo.txt (line 53)) (0.17.3)\n",
      "Requirement already satisfied: asciitree in ./env/lib/python3.8/site-packages (from zarr>=2.5->intake-esm->-r requirements/pangeo.txt (line 53)) (0.3.3)\n",
      "Requirement already satisfied: numcodecs>=0.6.4 in ./env/lib/python3.8/site-packages (from zarr>=2.5->intake-esm->-r requirements/pangeo.txt (line 53)) (0.9.1)\n",
      "Requirement already satisfied: partd>=0.3.10 in ./env/lib/python3.8/site-packages (from dask[complete]->-r requirements/pangeo.txt (line 32)) (1.2.0)\n",
      "Requirement already satisfied: cloudpickle>=1.1.1 in ./env/lib/python3.8/site-packages (from dask[complete]->-r requirements/pangeo.txt (line 32)) (1.6.0)\n",
      "Requirement already satisfied: toolz>=0.8.2 in ./env/lib/python3.8/site-packages (from dask[complete]->-r requirements/pangeo.txt (line 32)) (0.11.1)\n",
      "Requirement already satisfied: locket in ./env/lib/python3.8/site-packages (from partd>=0.3.10->dask[complete]->-r requirements/pangeo.txt (line 32)) (0.2.1)\n",
      "Requirement already satisfied: msgpack in ./env/lib/python3.8/site-packages (from intake-xarray->-r requirements/pangeo.txt (line 55)) (1.0.3)\n",
      "Requirement already satisfied: google-auth-oauthlib in ./env/lib/python3.8/site-packages (from gcsfs->-r requirements/pangeo.txt (line 56)) (0.4.6)\n",
      "Requirement already satisfied: google-auth>=1.2 in ./env/lib/python3.8/site-packages (from gcsfs->-r requirements/pangeo.txt (line 56)) (2.6.0)\n",
      "Requirement already satisfied: google-cloud-storage in ./env/lib/python3.8/site-packages (from gcsfs->-r requirements/pangeo.txt (line 56)) (2.1.0)\n",
      "Requirement already satisfied: pyasn1-modules>=0.2.1 in ./env/lib/python3.8/site-packages (from google-auth>=1.2->gcsfs->-r requirements/pangeo.txt (line 56)) (0.2.8)\n",
      "Requirement already satisfied: cachetools<6.0,>=2.0.0 in ./env/lib/python3.8/site-packages (from google-auth>=1.2->gcsfs->-r requirements/pangeo.txt (line 56)) (5.0.0)\n",
      "Requirement already satisfied: rsa<5,>=3.1.4 in ./env/lib/python3.8/site-packages (from google-auth>=1.2->gcsfs->-r requirements/pangeo.txt (line 56)) (4.8)\n",
      "Requirement already satisfied: pyasn1<0.5.0,>=0.4.6 in ./env/lib/python3.8/site-packages (from pyasn1-modules>=0.2.1->google-auth>=1.2->gcsfs->-r requirements/pangeo.txt (line 56)) (0.4.8)\n",
      "Requirement already satisfied: argon2-cffi-bindings in ./env/lib/python3.8/site-packages (from argon2-cffi->jupyter-server~=1.4->jupyterlab->-r requirements/pangeo.txt (line 24)) (21.2.0)\n",
      "Requirement already satisfied: pycparser in ./env/lib/python3.8/site-packages (from cffi->eccodes->-r requirements/pangeo.txt (line 30)) (2.21)\n",
      "Requirement already satisfied: distributed==2021.07.0 in ./env/lib/python3.8/site-packages (from dask[complete]->-r requirements/pangeo.txt (line 32)) (2021.7.0)\n",
      "Requirement already satisfied: bokeh!=2.0.0,>=1.0.0 in ./env/lib/python3.8/site-packages (from dask[complete]->-r requirements/pangeo.txt (line 32)) (2.4.2)\n",
      "Requirement already satisfied: zict>=0.1.3 in ./env/lib/python3.8/site-packages (from distributed==2021.07.0->dask[complete]->-r requirements/pangeo.txt (line 32)) (2.0.0)\n",
      "Requirement already satisfied: sortedcontainers!=2.0.0,!=2.0.1 in ./env/lib/python3.8/site-packages (from distributed==2021.07.0->dask[complete]->-r requirements/pangeo.txt (line 32)) (2.4.0)\n",
      "Requirement already satisfied: tblib>=1.6.0 in ./env/lib/python3.8/site-packages (from distributed==2021.07.0->dask[complete]->-r requirements/pangeo.txt (line 32)) (1.7.0)\n",
      "Requirement already satisfied: typing-extensions>=3.10.0 in ./env/lib/python3.8/site-packages (from bokeh!=2.0.0,>=1.0.0->dask[complete]->-r requirements/pangeo.txt (line 32)) (4.0.1)\n",
      "Requirement already satisfied: heapdict in ./env/lib/python3.8/site-packages (from zict>=0.1.3->distributed==2021.07.0->dask[complete]->-r requirements/pangeo.txt (line 32)) (1.0.1)\n",
      "Requirement already satisfied: requests-oauthlib>=0.7.0 in ./env/lib/python3.8/site-packages (from google-auth-oauthlib->gcsfs->-r requirements/pangeo.txt (line 56)) (1.3.1)\n",
      "Requirement already satisfied: oauthlib>=3.0.0 in ./env/lib/python3.8/site-packages (from requests-oauthlib>=0.7.0->google-auth-oauthlib->gcsfs->-r requirements/pangeo.txt (line 56)) (3.2.0)\n",
      "Requirement already satisfied: google-api-core<3.0dev,>=1.29.0 in ./env/lib/python3.8/site-packages (from google-cloud-storage->gcsfs->-r requirements/pangeo.txt (line 56)) (2.5.0)\n",
      "Requirement already satisfied: google-resumable-media>=1.3.0 in ./env/lib/python3.8/site-packages (from google-cloud-storage->gcsfs->-r requirements/pangeo.txt (line 56)) (2.2.1)\n",
      "Requirement already satisfied: google-cloud-core<3.0dev,>=1.6.0 in ./env/lib/python3.8/site-packages (from google-cloud-storage->gcsfs->-r requirements/pangeo.txt (line 56)) (2.2.2)\n",
      "Requirement already satisfied: googleapis-common-protos<2.0dev,>=1.52.0 in ./env/lib/python3.8/site-packages (from google-api-core<3.0dev,>=1.29.0->google-cloud-storage->gcsfs->-r requirements/pangeo.txt (line 56)) (1.54.0)\n",
      "Requirement already satisfied: google-crc32c<2.0dev,>=1.0 in ./env/lib/python3.8/site-packages (from google-resumable-media>=1.3.0->google-cloud-storage->gcsfs->-r requirements/pangeo.txt (line 56)) (1.3.0)\n",
      "Requirement already satisfied: debugpy<2.0,>=1.0.0 in ./env/lib/python3.8/site-packages (from ipykernel->notebook<7->nbclassic~=0.2->jupyterlab->-r requirements/pangeo.txt (line 24)) (1.5.1)\n",
      "Requirement already satisfied: widgetsnbextension~=3.5.0 in ./env/lib/python3.8/site-packages (from ipywidgets->jupyter->-r requirements/pangeo.txt (line 25)) (3.5.2)\n",
      "Requirement already satisfied: jupyterlab-widgets>=1.0.0 in ./env/lib/python3.8/site-packages (from ipywidgets->jupyter->-r requirements/pangeo.txt (line 25)) (1.0.2)\n",
      "Requirement already satisfied: pandocfilters>=1.4.1 in ./env/lib/python3.8/site-packages (from nbconvert->jupyter-server~=1.4->jupyterlab->-r requirements/pangeo.txt (line 24)) (1.5.0)\n",
      "Requirement already satisfied: mistune<2,>=0.8.1 in ./env/lib/python3.8/site-packages (from nbconvert->jupyter-server~=1.4->jupyterlab->-r requirements/pangeo.txt (line 24)) (0.8.4)\n",
      "Requirement already satisfied: testpath in ./env/lib/python3.8/site-packages (from nbconvert->jupyter-server~=1.4->jupyterlab->-r requirements/pangeo.txt (line 24)) (0.5.0)\n",
      "Requirement already satisfied: defusedxml in ./env/lib/python3.8/site-packages (from nbconvert->jupyter-server~=1.4->jupyterlab->-r requirements/pangeo.txt (line 24)) (0.7.1)\n",
      "Requirement already satisfied: nbclient<0.6.0,>=0.5.0 in ./env/lib/python3.8/site-packages (from nbconvert->jupyter-server~=1.4->jupyterlab->-r requirements/pangeo.txt (line 24)) (0.5.9)\n",
      "Requirement already satisfied: bleach in ./env/lib/python3.8/site-packages (from nbconvert->jupyter-server~=1.4->jupyterlab->-r requirements/pangeo.txt (line 24)) (4.1.0)\n",
      "Requirement already satisfied: jupyterlab-pygments in ./env/lib/python3.8/site-packages (from nbconvert->jupyter-server~=1.4->jupyterlab->-r requirements/pangeo.txt (line 24)) (0.1.2)\n",
      "Requirement already satisfied: webencodings in ./env/lib/python3.8/site-packages (from bleach->nbconvert->jupyter-server~=1.4->jupyterlab->-r requirements/pangeo.txt (line 24)) (0.5.1)\n",
      "Requirement already satisfied: qtpy in ./env/lib/python3.8/site-packages (from qtconsole->jupyter->-r requirements/pangeo.txt (line 25)) (1.11.3)\n",
      "Requirement already satisfied: docrep<=0.2.7 in ./env/lib/python3.8/site-packages (from xgcm->cmip6_preprocessing->-r requirements/pangeo.txt (line 6)) (0.2.7)\n",
      "Obtaining file:///home/jovyan/seager19\n",
      "Installing collected packages: src\n",
      "  Attempting uninstall: src\n",
      "    Found existing installation: src 0.0.1\n",
      "    Uninstalling src-0.0.1:\n",
      "      Successfully uninstalled src-0.0.1\n",
      "  Running setup.py develop for src\n",
      "Successfully installed src-0.0.1\n"
     ]
    }
   ],
   "source": [
    "! pip install -r requirements/pangeo.txt\n",
    "! pip install -e ."
   ]
  },
  {
   "cell_type": "code",
   "execution_count": 4,
   "id": "0854f906-0bf5-40fb-8693-de06861da82e",
   "metadata": {},
   "outputs": [],
   "source": [
    "from src.data_loading.pangeo import get_vars"
   ]
  },
  {
   "cell_type": "code",
   "execution_count": null,
   "id": "75f4dfaa-db79-4b52-8c38-85bb56d5aa20",
   "metadata": {},
   "outputs": [],
   "source": []
  },
  {
   "cell_type": "code",
   "execution_count": 3,
   "id": "acb7e44e-e814-4cda-a731-8fdbaedb7b35",
   "metadata": {},
   "outputs": [],
   "source": [
    "import cmip6_preprocessing"
   ]
  },
  {
   "cell_type": "code",
   "execution_count": 4,
   "id": "8d8690f5-9cb1-4d58-bea6-02e3fe073fe8",
   "metadata": {},
   "outputs": [
    {
     "name": "stdout",
     "output_type": "stream",
     "text": [
      "Object `cmip6_preprocessing.postprocessing.interpolate_grid_label` not found.\n"
     ]
    }
   ],
   "source": [
    "?cmip6_preprocessing.postprocessing.interpolate_grid_label"
   ]
  },
  {
   "cell_type": "code",
   "execution_count": 6,
   "id": "19d2ae9f-5614-411f-8d54-6ee6499631eb",
   "metadata": {},
   "outputs": [
    {
     "name": "stdout",
     "output_type": "stream",
     "text": [
      "\n",
      "--> The keys in the returned dictionary of datasets are constructed as follows:\n",
      "\t'activity_id.institution_id.source_id.experiment_id.table_id.grid_label'\n"
     ]
    },
    {
     "data": {
      "text/html": [
       "\n",
       "    <div>\n",
       "        <style>\n",
       "            /* Turns off some styling */\n",
       "            progress {\n",
       "                /* gets rid of default border in Firefox and Opera. */\n",
       "                border: none;\n",
       "                /* Needs to be in here for Safari polyfill so background images work as expected. */\n",
       "                background-size: auto;\n",
       "            }\n",
       "            .progress-bar-interrupted, .progress-bar-interrupted::-webkit-progress-bar {\n",
       "                background: #F44336;\n",
       "            }\n",
       "        </style>\n",
       "      <progress value='24' class='' max='24' style='width:300px; height:20px; vertical-align: middle;'></progress>\n",
       "      100.00% [24/24 00:29<00:00]\n",
       "    </div>\n",
       "    "
      ],
      "text/plain": [
       "<IPython.core.display.HTML object>"
      ]
     },
     "metadata": {},
     "output_type": "display_data"
    },
    {
     "name": "stderr",
     "output_type": "stream",
     "text": [
      "/home/jovyan/seager19/env/lib/python3.8/site-packages/cmip6_preprocessing/preprocessing.py:267: UserWarning: `FGOALS-f3-L` does not provide lon or lat bounds.\n",
      "  warnings.warn(\"`FGOALS-f3-L` does not provide lon or lat bounds.\")\n",
      "/home/jovyan/seager19/env/lib/python3.8/site-packages/cmip6_preprocessing/preprocessing.py:267: UserWarning: `FGOALS-f3-L` does not provide lon or lat bounds.\n",
      "  warnings.warn(\"`FGOALS-f3-L` does not provide lon or lat bounds.\")\n",
      "/home/jovyan/seager19/env/lib/python3.8/site-packages/cmip6_preprocessing/preprocessing.py:267: UserWarning: `FGOALS-f3-L` does not provide lon or lat bounds.\n",
      "  warnings.warn(\"`FGOALS-f3-L` does not provide lon or lat bounds.\")\n"
     ]
    },
    {
     "name": "stdout",
     "output_type": "stream",
     "text": [
      "CMIP.CMCC.CMCC-CM2-SR5.historical.Amon.gn\n"
     ]
    },
    {
     "ename": "TypeError",
     "evalue": "_maybe_cast_slice_bound() missing 1 required positional argument: 'kind'",
     "output_type": "error",
     "traceback": [
      "\u001b[0;31m---------------------------------------------------------------------------\u001b[0m",
      "\u001b[0;31mTypeError\u001b[0m                                 Traceback (most recent call last)",
      "\u001b[0;32m/tmp/ipykernel_3634/73351511.py\u001b[0m in \u001b[0;36m<module>\u001b[0;34m\u001b[0m\n\u001b[0;32m----> 1\u001b[0;31m \u001b[0mget_vars\u001b[0m\u001b[0;34m(\u001b[0m\u001b[0;34m[\u001b[0m\u001b[0;34m\"hurs\"\u001b[0m\u001b[0;34m]\u001b[0m\u001b[0;34m)\u001b[0m\u001b[0;34m\u001b[0m\u001b[0;34m\u001b[0m\u001b[0m\n\u001b[0m",
      "\u001b[0;32m~/seager19/src/data_loading/pangeo.py\u001b[0m in \u001b[0;36mget_vars\u001b[0;34m(var_list, regen_success_list)\u001b[0m\n\u001b[1;32m    558\u001b[0m     \"\"\"\n\u001b[1;32m    559\u001b[0m     \u001b[0;32mfor\u001b[0m \u001b[0mvar_str\u001b[0m \u001b[0;32min\u001b[0m \u001b[0mvar_list\u001b[0m\u001b[0;34m:\u001b[0m\u001b[0;34m\u001b[0m\u001b[0;34m\u001b[0m\u001b[0m\n\u001b[0;32m--> 560\u001b[0;31m         GetEnsemble(\n\u001b[0m\u001b[1;32m    561\u001b[0m             \u001b[0mvar\u001b[0m\u001b[0;34m=\u001b[0m\u001b[0mvar_str\u001b[0m\u001b[0;34m,\u001b[0m \u001b[0moutput_folder\u001b[0m\u001b[0;34m=\u001b[0m\u001b[0m_folder_name\u001b[0m\u001b[0;34m(\u001b[0m\u001b[0mvar_str\u001b[0m\u001b[0;34m)\u001b[0m\u001b[0;34m,\u001b[0m \u001b[0mregen_success_list\u001b[0m\u001b[0;34m=\u001b[0m\u001b[0mregen_success_list\u001b[0m\u001b[0;34m\u001b[0m\u001b[0;34m\u001b[0m\u001b[0m\n\u001b[1;32m    562\u001b[0m         )\n",
      "\u001b[0;32m~/seager19/src/data_loading/pangeo.py\u001b[0m in \u001b[0;36m__init__\u001b[0;34m(self, var, output_folder, regen_success_list)\u001b[0m\n\u001b[1;32m    173\u001b[0m         \u001b[0;32melse\u001b[0m\u001b[0;34m:\u001b[0m\u001b[0;34m\u001b[0m\u001b[0;34m\u001b[0m\u001b[0m\n\u001b[1;32m    174\u001b[0m             \u001b[0mself\u001b[0m\u001b[0;34m.\u001b[0m\u001b[0msuccess_list\u001b[0m \u001b[0;34m=\u001b[0m \u001b[0mDEFAULT_SUCCESS_LIST\u001b[0m\u001b[0;34m\u001b[0m\u001b[0;34m\u001b[0m\u001b[0m\n\u001b[0;32m--> 175\u001b[0;31m         self.da_hist = self.get_var(\n\u001b[0m\u001b[1;32m    176\u001b[0m             \u001b[0mxlim\u001b[0m\u001b[0;34m=\u001b[0m\u001b[0;34m[\u001b[0m\u001b[0;36m0\u001b[0m\u001b[0;34m,\u001b[0m \u001b[0;36m360\u001b[0m\u001b[0;34m]\u001b[0m\u001b[0;34m,\u001b[0m\u001b[0;34m\u001b[0m\u001b[0;34m\u001b[0m\u001b[0m\n\u001b[1;32m    177\u001b[0m             \u001b[0mylim\u001b[0m\u001b[0;34m=\u001b[0m\u001b[0;34m[\u001b[0m\u001b[0;34m-\u001b[0m\u001b[0;36m80\u001b[0m\u001b[0;34m,\u001b[0m \u001b[0;36m80\u001b[0m\u001b[0;34m]\u001b[0m\u001b[0;34m,\u001b[0m\u001b[0;34m\u001b[0m\u001b[0;34m\u001b[0m\u001b[0m\n",
      "\u001b[0;32m~/seager19/src/data_loading/pangeo.py\u001b[0m in \u001b[0;36mget_var\u001b[0;34m(self, experiment, year_begin, year_end, var, xlim, ylim)\u001b[0m\n\u001b[1;32m    304\u001b[0m             \u001b[0mprint\u001b[0m\u001b[0;34m(\u001b[0m\u001b[0mkey\u001b[0m\u001b[0;34m)\u001b[0m\u001b[0;34m\u001b[0m\u001b[0;34m\u001b[0m\u001b[0m\n\u001b[1;32m    305\u001b[0m             da = (\n\u001b[0;32m--> 306\u001b[0;31m                 \u001b[0mdset_dict_proc\u001b[0m\u001b[0;34m[\u001b[0m\u001b[0mkey\u001b[0m\u001b[0;34m]\u001b[0m\u001b[0;34m[\u001b[0m\u001b[0mvar\u001b[0m\u001b[0;34m]\u001b[0m\u001b[0;34m\u001b[0m\u001b[0;34m\u001b[0m\u001b[0m\n\u001b[0m\u001b[1;32m    307\u001b[0m                 .sel(\n\u001b[1;32m    308\u001b[0m                     \u001b[0mx\u001b[0m\u001b[0;34m=\u001b[0m\u001b[0mslice\u001b[0m\u001b[0;34m(\u001b[0m\u001b[0mxlim\u001b[0m\u001b[0;34m[\u001b[0m\u001b[0;36m0\u001b[0m\u001b[0;34m]\u001b[0m \u001b[0;34m-\u001b[0m \u001b[0;36m1\u001b[0m\u001b[0;34m,\u001b[0m \u001b[0mxlim\u001b[0m\u001b[0;34m[\u001b[0m\u001b[0;36m1\u001b[0m\u001b[0;34m]\u001b[0m \u001b[0;34m+\u001b[0m \u001b[0;36m1\u001b[0m\u001b[0;34m)\u001b[0m\u001b[0;34m,\u001b[0m\u001b[0;34m\u001b[0m\u001b[0;34m\u001b[0m\u001b[0m\n",
      "\u001b[0;32m~/seager19/env/lib/python3.8/site-packages/xarray/core/dataarray.py\u001b[0m in \u001b[0;36msel\u001b[0;34m(self, indexers, method, tolerance, drop, **indexers_kwargs)\u001b[0m\n\u001b[1;32m   1252\u001b[0m         \u001b[0mDimensions\u001b[0m \u001b[0mwithout\u001b[0m \u001b[0mcoordinates\u001b[0m\u001b[0;34m:\u001b[0m \u001b[0mpoints\u001b[0m\u001b[0;34m\u001b[0m\u001b[0;34m\u001b[0m\u001b[0m\n\u001b[1;32m   1253\u001b[0m         \"\"\"\n\u001b[0;32m-> 1254\u001b[0;31m         ds = self._to_temp_dataset().sel(\n\u001b[0m\u001b[1;32m   1255\u001b[0m             \u001b[0mindexers\u001b[0m\u001b[0;34m=\u001b[0m\u001b[0mindexers\u001b[0m\u001b[0;34m,\u001b[0m\u001b[0;34m\u001b[0m\u001b[0;34m\u001b[0m\u001b[0m\n\u001b[1;32m   1256\u001b[0m             \u001b[0mdrop\u001b[0m\u001b[0;34m=\u001b[0m\u001b[0mdrop\u001b[0m\u001b[0;34m,\u001b[0m\u001b[0;34m\u001b[0m\u001b[0;34m\u001b[0m\u001b[0m\n",
      "\u001b[0;32m~/seager19/env/lib/python3.8/site-packages/xarray/core/dataset.py\u001b[0m in \u001b[0;36msel\u001b[0;34m(self, indexers, method, tolerance, drop, **indexers_kwargs)\u001b[0m\n\u001b[1;32m   2228\u001b[0m         \"\"\"\n\u001b[1;32m   2229\u001b[0m         \u001b[0mindexers\u001b[0m \u001b[0;34m=\u001b[0m \u001b[0meither_dict_or_kwargs\u001b[0m\u001b[0;34m(\u001b[0m\u001b[0mindexers\u001b[0m\u001b[0;34m,\u001b[0m \u001b[0mindexers_kwargs\u001b[0m\u001b[0;34m,\u001b[0m \u001b[0;34m\"sel\"\u001b[0m\u001b[0;34m)\u001b[0m\u001b[0;34m\u001b[0m\u001b[0;34m\u001b[0m\u001b[0m\n\u001b[0;32m-> 2230\u001b[0;31m         pos_indexers, new_indexes = remap_label_indexers(\n\u001b[0m\u001b[1;32m   2231\u001b[0m             \u001b[0mself\u001b[0m\u001b[0;34m,\u001b[0m \u001b[0mindexers\u001b[0m\u001b[0;34m=\u001b[0m\u001b[0mindexers\u001b[0m\u001b[0;34m,\u001b[0m \u001b[0mmethod\u001b[0m\u001b[0;34m=\u001b[0m\u001b[0mmethod\u001b[0m\u001b[0;34m,\u001b[0m \u001b[0mtolerance\u001b[0m\u001b[0;34m=\u001b[0m\u001b[0mtolerance\u001b[0m\u001b[0;34m\u001b[0m\u001b[0;34m\u001b[0m\u001b[0m\n\u001b[1;32m   2232\u001b[0m         )\n",
      "\u001b[0;32m~/seager19/env/lib/python3.8/site-packages/xarray/core/coordinates.py\u001b[0m in \u001b[0;36mremap_label_indexers\u001b[0;34m(obj, indexers, method, tolerance, **indexers_kwargs)\u001b[0m\n\u001b[1;32m    414\u001b[0m     }\n\u001b[1;32m    415\u001b[0m \u001b[0;34m\u001b[0m\u001b[0m\n\u001b[0;32m--> 416\u001b[0;31m     pos_indexers, new_indexes = indexing.remap_label_indexers(\n\u001b[0m\u001b[1;32m    417\u001b[0m         \u001b[0mobj\u001b[0m\u001b[0;34m,\u001b[0m \u001b[0mv_indexers\u001b[0m\u001b[0;34m,\u001b[0m \u001b[0mmethod\u001b[0m\u001b[0;34m=\u001b[0m\u001b[0mmethod\u001b[0m\u001b[0;34m,\u001b[0m \u001b[0mtolerance\u001b[0m\u001b[0;34m=\u001b[0m\u001b[0mtolerance\u001b[0m\u001b[0;34m\u001b[0m\u001b[0;34m\u001b[0m\u001b[0m\n\u001b[1;32m    418\u001b[0m     )\n",
      "\u001b[0;32m~/seager19/env/lib/python3.8/site-packages/xarray/core/indexing.py\u001b[0m in \u001b[0;36mremap_label_indexers\u001b[0;34m(data_obj, indexers, method, tolerance)\u001b[0m\n\u001b[1;32m    268\u001b[0m             \u001b[0mcoords_dtype\u001b[0m \u001b[0;34m=\u001b[0m \u001b[0mdata_obj\u001b[0m\u001b[0;34m.\u001b[0m\u001b[0mcoords\u001b[0m\u001b[0;34m[\u001b[0m\u001b[0mdim\u001b[0m\u001b[0;34m]\u001b[0m\u001b[0;34m.\u001b[0m\u001b[0mdtype\u001b[0m\u001b[0;34m\u001b[0m\u001b[0;34m\u001b[0m\u001b[0m\n\u001b[1;32m    269\u001b[0m             \u001b[0mlabel\u001b[0m \u001b[0;34m=\u001b[0m \u001b[0mmaybe_cast_to_coords_dtype\u001b[0m\u001b[0;34m(\u001b[0m\u001b[0mlabel\u001b[0m\u001b[0;34m,\u001b[0m \u001b[0mcoords_dtype\u001b[0m\u001b[0;34m)\u001b[0m\u001b[0;34m\u001b[0m\u001b[0;34m\u001b[0m\u001b[0m\n\u001b[0;32m--> 270\u001b[0;31m             \u001b[0midxr\u001b[0m\u001b[0;34m,\u001b[0m \u001b[0mnew_idx\u001b[0m \u001b[0;34m=\u001b[0m \u001b[0mconvert_label_indexer\u001b[0m\u001b[0;34m(\u001b[0m\u001b[0mindex\u001b[0m\u001b[0;34m,\u001b[0m \u001b[0mlabel\u001b[0m\u001b[0;34m,\u001b[0m \u001b[0mdim\u001b[0m\u001b[0;34m,\u001b[0m \u001b[0mmethod\u001b[0m\u001b[0;34m,\u001b[0m \u001b[0mtolerance\u001b[0m\u001b[0;34m)\u001b[0m\u001b[0;34m\u001b[0m\u001b[0;34m\u001b[0m\u001b[0m\n\u001b[0m\u001b[1;32m    271\u001b[0m             \u001b[0mpos_indexers\u001b[0m\u001b[0;34m[\u001b[0m\u001b[0mdim\u001b[0m\u001b[0;34m]\u001b[0m \u001b[0;34m=\u001b[0m \u001b[0midxr\u001b[0m\u001b[0;34m\u001b[0m\u001b[0;34m\u001b[0m\u001b[0m\n\u001b[1;32m    272\u001b[0m             \u001b[0;32mif\u001b[0m \u001b[0mnew_idx\u001b[0m \u001b[0;32mis\u001b[0m \u001b[0;32mnot\u001b[0m \u001b[0;32mNone\u001b[0m\u001b[0;34m:\u001b[0m\u001b[0;34m\u001b[0m\u001b[0;34m\u001b[0m\u001b[0m\n",
      "\u001b[0;32m~/seager19/env/lib/python3.8/site-packages/xarray/core/indexing.py\u001b[0m in \u001b[0;36mconvert_label_indexer\u001b[0;34m(index, label, index_name, method, tolerance)\u001b[0m\n\u001b[1;32m    119\u001b[0m                 \u001b[0;34m\"cannot use ``method`` argument if any indexers are slice objects\"\u001b[0m\u001b[0;34m\u001b[0m\u001b[0;34m\u001b[0m\u001b[0m\n\u001b[1;32m    120\u001b[0m             )\n\u001b[0;32m--> 121\u001b[0;31m         indexer = index.slice_indexer(\n\u001b[0m\u001b[1;32m    122\u001b[0m             \u001b[0m_sanitize_slice_element\u001b[0m\u001b[0;34m(\u001b[0m\u001b[0mlabel\u001b[0m\u001b[0;34m.\u001b[0m\u001b[0mstart\u001b[0m\u001b[0;34m)\u001b[0m\u001b[0;34m,\u001b[0m\u001b[0;34m\u001b[0m\u001b[0;34m\u001b[0m\u001b[0m\n\u001b[1;32m    123\u001b[0m             \u001b[0m_sanitize_slice_element\u001b[0m\u001b[0;34m(\u001b[0m\u001b[0mlabel\u001b[0m\u001b[0;34m.\u001b[0m\u001b[0mstop\u001b[0m\u001b[0;34m)\u001b[0m\u001b[0;34m,\u001b[0m\u001b[0;34m\u001b[0m\u001b[0;34m\u001b[0m\u001b[0m\n",
      "\u001b[0;32m~/seager19/env/lib/python3.8/site-packages/pandas/core/indexes/base.py\u001b[0m in \u001b[0;36mslice_indexer\u001b[0;34m(self, start, end, step, kind)\u001b[0m\n\u001b[1;32m   5684\u001b[0m         \u001b[0mslice\u001b[0m\u001b[0;34m(\u001b[0m\u001b[0;36m1\u001b[0m\u001b[0;34m,\u001b[0m \u001b[0;36m3\u001b[0m\u001b[0;34m,\u001b[0m \u001b[0;32mNone\u001b[0m\u001b[0;34m)\u001b[0m\u001b[0;34m\u001b[0m\u001b[0;34m\u001b[0m\u001b[0m\n\u001b[1;32m   5685\u001b[0m         \"\"\"\n\u001b[0;32m-> 5686\u001b[0;31m         \u001b[0mstart_slice\u001b[0m\u001b[0;34m,\u001b[0m \u001b[0mend_slice\u001b[0m \u001b[0;34m=\u001b[0m \u001b[0mself\u001b[0m\u001b[0;34m.\u001b[0m\u001b[0mslice_locs\u001b[0m\u001b[0;34m(\u001b[0m\u001b[0mstart\u001b[0m\u001b[0;34m,\u001b[0m \u001b[0mend\u001b[0m\u001b[0;34m,\u001b[0m \u001b[0mstep\u001b[0m\u001b[0;34m=\u001b[0m\u001b[0mstep\u001b[0m\u001b[0;34m)\u001b[0m\u001b[0;34m\u001b[0m\u001b[0;34m\u001b[0m\u001b[0m\n\u001b[0m\u001b[1;32m   5687\u001b[0m \u001b[0;34m\u001b[0m\u001b[0m\n\u001b[1;32m   5688\u001b[0m         \u001b[0;31m# return a slice\u001b[0m\u001b[0;34m\u001b[0m\u001b[0;34m\u001b[0m\u001b[0;34m\u001b[0m\u001b[0m\n",
      "\u001b[0;32m~/seager19/env/lib/python3.8/site-packages/pandas/core/indexes/base.py\u001b[0m in \u001b[0;36mslice_locs\u001b[0;34m(self, start, end, step, kind)\u001b[0m\n\u001b[1;32m   5886\u001b[0m         \u001b[0mstart_slice\u001b[0m \u001b[0;34m=\u001b[0m \u001b[0;32mNone\u001b[0m\u001b[0;34m\u001b[0m\u001b[0;34m\u001b[0m\u001b[0m\n\u001b[1;32m   5887\u001b[0m         \u001b[0;32mif\u001b[0m \u001b[0mstart\u001b[0m \u001b[0;32mis\u001b[0m \u001b[0;32mnot\u001b[0m \u001b[0;32mNone\u001b[0m\u001b[0;34m:\u001b[0m\u001b[0;34m\u001b[0m\u001b[0;34m\u001b[0m\u001b[0m\n\u001b[0;32m-> 5888\u001b[0;31m             \u001b[0mstart_slice\u001b[0m \u001b[0;34m=\u001b[0m \u001b[0mself\u001b[0m\u001b[0;34m.\u001b[0m\u001b[0mget_slice_bound\u001b[0m\u001b[0;34m(\u001b[0m\u001b[0mstart\u001b[0m\u001b[0;34m,\u001b[0m \u001b[0;34m\"left\"\u001b[0m\u001b[0;34m)\u001b[0m\u001b[0;34m\u001b[0m\u001b[0;34m\u001b[0m\u001b[0m\n\u001b[0m\u001b[1;32m   5889\u001b[0m         \u001b[0;32mif\u001b[0m \u001b[0mstart_slice\u001b[0m \u001b[0;32mis\u001b[0m \u001b[0;32mNone\u001b[0m\u001b[0;34m:\u001b[0m\u001b[0;34m\u001b[0m\u001b[0;34m\u001b[0m\u001b[0m\n\u001b[1;32m   5890\u001b[0m             \u001b[0mstart_slice\u001b[0m \u001b[0;34m=\u001b[0m \u001b[0;36m0\u001b[0m\u001b[0;34m\u001b[0m\u001b[0;34m\u001b[0m\u001b[0m\n",
      "\u001b[0;32m~/seager19/env/lib/python3.8/site-packages/pandas/core/indexes/base.py\u001b[0m in \u001b[0;36mget_slice_bound\u001b[0;34m(self, label, side, kind)\u001b[0m\n\u001b[1;32m   5796\u001b[0m         \u001b[0;31m# For datetime indices label may be a string that has to be converted\u001b[0m\u001b[0;34m\u001b[0m\u001b[0;34m\u001b[0m\u001b[0;34m\u001b[0m\u001b[0m\n\u001b[1;32m   5797\u001b[0m         \u001b[0;31m# to datetime boundary according to its resolution.\u001b[0m\u001b[0;34m\u001b[0m\u001b[0;34m\u001b[0m\u001b[0;34m\u001b[0m\u001b[0m\n\u001b[0;32m-> 5798\u001b[0;31m         \u001b[0mlabel\u001b[0m \u001b[0;34m=\u001b[0m \u001b[0mself\u001b[0m\u001b[0;34m.\u001b[0m\u001b[0m_maybe_cast_slice_bound\u001b[0m\u001b[0;34m(\u001b[0m\u001b[0mlabel\u001b[0m\u001b[0;34m,\u001b[0m \u001b[0mside\u001b[0m\u001b[0;34m)\u001b[0m\u001b[0;34m\u001b[0m\u001b[0;34m\u001b[0m\u001b[0m\n\u001b[0m\u001b[1;32m   5799\u001b[0m \u001b[0;34m\u001b[0m\u001b[0m\n\u001b[1;32m   5800\u001b[0m         \u001b[0;31m# we need to look up the label\u001b[0m\u001b[0;34m\u001b[0m\u001b[0;34m\u001b[0m\u001b[0;34m\u001b[0m\u001b[0m\n",
      "\u001b[0;31mTypeError\u001b[0m: _maybe_cast_slice_bound() missing 1 required positional argument: 'kind'"
     ]
    }
   ],
   "source": [
    "get_vars([\"hurs\"])"
   ]
  },
  {
   "cell_type": "code",
   "execution_count": 7,
   "id": "eacd145e-3a93-4d57-92a6-8dd900c28b63",
   "metadata": {},
   "outputs": [
    {
     "name": "stdout",
     "output_type": "stream",
     "text": [
      "\n",
      "--> The keys in the returned dictionary of datasets are constructed as follows:\n",
      "\t'activity_id.institution_id.source_id.experiment_id.table_id.grid_label'\n"
     ]
    },
    {
     "data": {
      "text/html": [
       "\n",
       "    <div>\n",
       "        <style>\n",
       "            /* Turns off some styling */\n",
       "            progress {\n",
       "                /* gets rid of default border in Firefox and Opera. */\n",
       "                border: none;\n",
       "                /* Needs to be in here for Safari polyfill so background images work as expected. */\n",
       "                background-size: auto;\n",
       "            }\n",
       "            .progress-bar-interrupted, .progress-bar-interrupted::-webkit-progress-bar {\n",
       "                background: #F44336;\n",
       "            }\n",
       "        </style>\n",
       "      <progress value='31' class='' max='31' style='width:300px; height:20px; vertical-align: middle;'></progress>\n",
       "      100.00% [31/31 00:35<00:00]\n",
       "    </div>\n",
       "    "
      ],
      "text/plain": [
       "<IPython.core.display.HTML object>"
      ]
     },
     "metadata": {},
     "output_type": "display_data"
    },
    {
     "name": "stderr",
     "output_type": "stream",
     "text": [
      "/home/jovyan/seager19/env/lib/python3.8/site-packages/cmip6_preprocessing/preprocessing.py:267: UserWarning: `FGOALS-f3-L` does not provide lon or lat bounds.\n",
      "  warnings.warn(\"`FGOALS-f3-L` does not provide lon or lat bounds.\")\n",
      "/home/jovyan/seager19/env/lib/python3.8/site-packages/cmip6_preprocessing/preprocessing.py:267: UserWarning: `FGOALS-f3-L` does not provide lon or lat bounds.\n",
      "  warnings.warn(\"`FGOALS-f3-L` does not provide lon or lat bounds.\")\n",
      "/home/jovyan/seager19/env/lib/python3.8/site-packages/cmip6_preprocessing/preprocessing.py:267: UserWarning: `FGOALS-f3-L` does not provide lon or lat bounds.\n",
      "  warnings.warn(\"`FGOALS-f3-L` does not provide lon or lat bounds.\")\n"
     ]
    },
    {
     "name": "stdout",
     "output_type": "stream",
     "text": [
      "CMIP.CMCC.CMCC-ESM2.historical.Amon.gn\n"
     ]
    },
    {
     "ename": "TypeError",
     "evalue": "_maybe_cast_slice_bound() missing 1 required positional argument: 'kind'",
     "output_type": "error",
     "traceback": [
      "\u001b[0;31m---------------------------------------------------------------------------\u001b[0m",
      "\u001b[0;31mTypeError\u001b[0m                                 Traceback (most recent call last)",
      "\u001b[0;32m/tmp/ipykernel_3634/715593172.py\u001b[0m in \u001b[0;36m<module>\u001b[0;34m\u001b[0m\n\u001b[0;32m----> 1\u001b[0;31m \u001b[0mget_vars\u001b[0m\u001b[0;34m(\u001b[0m\u001b[0;34m[\u001b[0m\u001b[0;34m\"ps\"\u001b[0m\u001b[0;34m]\u001b[0m\u001b[0;34m)\u001b[0m\u001b[0;34m\u001b[0m\u001b[0;34m\u001b[0m\u001b[0m\n\u001b[0m",
      "\u001b[0;32m~/seager19/src/data_loading/pangeo.py\u001b[0m in \u001b[0;36mget_vars\u001b[0;34m(var_list, regen_success_list)\u001b[0m\n\u001b[1;32m    558\u001b[0m     \"\"\"\n\u001b[1;32m    559\u001b[0m     \u001b[0;32mfor\u001b[0m \u001b[0mvar_str\u001b[0m \u001b[0;32min\u001b[0m \u001b[0mvar_list\u001b[0m\u001b[0;34m:\u001b[0m\u001b[0;34m\u001b[0m\u001b[0;34m\u001b[0m\u001b[0m\n\u001b[0;32m--> 560\u001b[0;31m         GetEnsemble(\n\u001b[0m\u001b[1;32m    561\u001b[0m             \u001b[0mvar\u001b[0m\u001b[0;34m=\u001b[0m\u001b[0mvar_str\u001b[0m\u001b[0;34m,\u001b[0m \u001b[0moutput_folder\u001b[0m\u001b[0;34m=\u001b[0m\u001b[0m_folder_name\u001b[0m\u001b[0;34m(\u001b[0m\u001b[0mvar_str\u001b[0m\u001b[0;34m)\u001b[0m\u001b[0;34m,\u001b[0m \u001b[0mregen_success_list\u001b[0m\u001b[0;34m=\u001b[0m\u001b[0mregen_success_list\u001b[0m\u001b[0;34m\u001b[0m\u001b[0;34m\u001b[0m\u001b[0m\n\u001b[1;32m    562\u001b[0m         )\n",
      "\u001b[0;32m~/seager19/src/data_loading/pangeo.py\u001b[0m in \u001b[0;36m__init__\u001b[0;34m(self, var, output_folder, regen_success_list)\u001b[0m\n\u001b[1;32m    173\u001b[0m         \u001b[0;32melse\u001b[0m\u001b[0;34m:\u001b[0m\u001b[0;34m\u001b[0m\u001b[0;34m\u001b[0m\u001b[0m\n\u001b[1;32m    174\u001b[0m             \u001b[0mself\u001b[0m\u001b[0;34m.\u001b[0m\u001b[0msuccess_list\u001b[0m \u001b[0;34m=\u001b[0m \u001b[0mDEFAULT_SUCCESS_LIST\u001b[0m\u001b[0;34m\u001b[0m\u001b[0;34m\u001b[0m\u001b[0m\n\u001b[0;32m--> 175\u001b[0;31m         self.da_hist = self.get_var(\n\u001b[0m\u001b[1;32m    176\u001b[0m             \u001b[0mxlim\u001b[0m\u001b[0;34m=\u001b[0m\u001b[0;34m[\u001b[0m\u001b[0;36m0\u001b[0m\u001b[0;34m,\u001b[0m \u001b[0;36m360\u001b[0m\u001b[0;34m]\u001b[0m\u001b[0;34m,\u001b[0m\u001b[0;34m\u001b[0m\u001b[0;34m\u001b[0m\u001b[0m\n\u001b[1;32m    177\u001b[0m             \u001b[0mylim\u001b[0m\u001b[0;34m=\u001b[0m\u001b[0;34m[\u001b[0m\u001b[0;34m-\u001b[0m\u001b[0;36m80\u001b[0m\u001b[0;34m,\u001b[0m \u001b[0;36m80\u001b[0m\u001b[0;34m]\u001b[0m\u001b[0;34m,\u001b[0m\u001b[0;34m\u001b[0m\u001b[0;34m\u001b[0m\u001b[0m\n",
      "\u001b[0;32m~/seager19/src/data_loading/pangeo.py\u001b[0m in \u001b[0;36mget_var\u001b[0;34m(self, experiment, year_begin, year_end, var, xlim, ylim)\u001b[0m\n\u001b[1;32m    304\u001b[0m             \u001b[0mprint\u001b[0m\u001b[0;34m(\u001b[0m\u001b[0mkey\u001b[0m\u001b[0;34m)\u001b[0m\u001b[0;34m\u001b[0m\u001b[0;34m\u001b[0m\u001b[0m\n\u001b[1;32m    305\u001b[0m             da = (\n\u001b[0;32m--> 306\u001b[0;31m                 \u001b[0mdset_dict_proc\u001b[0m\u001b[0;34m[\u001b[0m\u001b[0mkey\u001b[0m\u001b[0;34m]\u001b[0m\u001b[0;34m[\u001b[0m\u001b[0mvar\u001b[0m\u001b[0;34m]\u001b[0m\u001b[0;34m\u001b[0m\u001b[0;34m\u001b[0m\u001b[0m\n\u001b[0m\u001b[1;32m    307\u001b[0m                 .sel(\n\u001b[1;32m    308\u001b[0m                     \u001b[0mx\u001b[0m\u001b[0;34m=\u001b[0m\u001b[0mslice\u001b[0m\u001b[0;34m(\u001b[0m\u001b[0mxlim\u001b[0m\u001b[0;34m[\u001b[0m\u001b[0;36m0\u001b[0m\u001b[0;34m]\u001b[0m \u001b[0;34m-\u001b[0m \u001b[0;36m1\u001b[0m\u001b[0;34m,\u001b[0m \u001b[0mxlim\u001b[0m\u001b[0;34m[\u001b[0m\u001b[0;36m1\u001b[0m\u001b[0;34m]\u001b[0m \u001b[0;34m+\u001b[0m \u001b[0;36m1\u001b[0m\u001b[0;34m)\u001b[0m\u001b[0;34m,\u001b[0m\u001b[0;34m\u001b[0m\u001b[0;34m\u001b[0m\u001b[0m\n",
      "\u001b[0;32m~/seager19/env/lib/python3.8/site-packages/xarray/core/dataarray.py\u001b[0m in \u001b[0;36msel\u001b[0;34m(self, indexers, method, tolerance, drop, **indexers_kwargs)\u001b[0m\n\u001b[1;32m   1252\u001b[0m         \u001b[0mDimensions\u001b[0m \u001b[0mwithout\u001b[0m \u001b[0mcoordinates\u001b[0m\u001b[0;34m:\u001b[0m \u001b[0mpoints\u001b[0m\u001b[0;34m\u001b[0m\u001b[0;34m\u001b[0m\u001b[0m\n\u001b[1;32m   1253\u001b[0m         \"\"\"\n\u001b[0;32m-> 1254\u001b[0;31m         ds = self._to_temp_dataset().sel(\n\u001b[0m\u001b[1;32m   1255\u001b[0m             \u001b[0mindexers\u001b[0m\u001b[0;34m=\u001b[0m\u001b[0mindexers\u001b[0m\u001b[0;34m,\u001b[0m\u001b[0;34m\u001b[0m\u001b[0;34m\u001b[0m\u001b[0m\n\u001b[1;32m   1256\u001b[0m             \u001b[0mdrop\u001b[0m\u001b[0;34m=\u001b[0m\u001b[0mdrop\u001b[0m\u001b[0;34m,\u001b[0m\u001b[0;34m\u001b[0m\u001b[0;34m\u001b[0m\u001b[0m\n",
      "\u001b[0;32m~/seager19/env/lib/python3.8/site-packages/xarray/core/dataset.py\u001b[0m in \u001b[0;36msel\u001b[0;34m(self, indexers, method, tolerance, drop, **indexers_kwargs)\u001b[0m\n\u001b[1;32m   2228\u001b[0m         \"\"\"\n\u001b[1;32m   2229\u001b[0m         \u001b[0mindexers\u001b[0m \u001b[0;34m=\u001b[0m \u001b[0meither_dict_or_kwargs\u001b[0m\u001b[0;34m(\u001b[0m\u001b[0mindexers\u001b[0m\u001b[0;34m,\u001b[0m \u001b[0mindexers_kwargs\u001b[0m\u001b[0;34m,\u001b[0m \u001b[0;34m\"sel\"\u001b[0m\u001b[0;34m)\u001b[0m\u001b[0;34m\u001b[0m\u001b[0;34m\u001b[0m\u001b[0m\n\u001b[0;32m-> 2230\u001b[0;31m         pos_indexers, new_indexes = remap_label_indexers(\n\u001b[0m\u001b[1;32m   2231\u001b[0m             \u001b[0mself\u001b[0m\u001b[0;34m,\u001b[0m \u001b[0mindexers\u001b[0m\u001b[0;34m=\u001b[0m\u001b[0mindexers\u001b[0m\u001b[0;34m,\u001b[0m \u001b[0mmethod\u001b[0m\u001b[0;34m=\u001b[0m\u001b[0mmethod\u001b[0m\u001b[0;34m,\u001b[0m \u001b[0mtolerance\u001b[0m\u001b[0;34m=\u001b[0m\u001b[0mtolerance\u001b[0m\u001b[0;34m\u001b[0m\u001b[0;34m\u001b[0m\u001b[0m\n\u001b[1;32m   2232\u001b[0m         )\n",
      "\u001b[0;32m~/seager19/env/lib/python3.8/site-packages/xarray/core/coordinates.py\u001b[0m in \u001b[0;36mremap_label_indexers\u001b[0;34m(obj, indexers, method, tolerance, **indexers_kwargs)\u001b[0m\n\u001b[1;32m    414\u001b[0m     }\n\u001b[1;32m    415\u001b[0m \u001b[0;34m\u001b[0m\u001b[0m\n\u001b[0;32m--> 416\u001b[0;31m     pos_indexers, new_indexes = indexing.remap_label_indexers(\n\u001b[0m\u001b[1;32m    417\u001b[0m         \u001b[0mobj\u001b[0m\u001b[0;34m,\u001b[0m \u001b[0mv_indexers\u001b[0m\u001b[0;34m,\u001b[0m \u001b[0mmethod\u001b[0m\u001b[0;34m=\u001b[0m\u001b[0mmethod\u001b[0m\u001b[0;34m,\u001b[0m \u001b[0mtolerance\u001b[0m\u001b[0;34m=\u001b[0m\u001b[0mtolerance\u001b[0m\u001b[0;34m\u001b[0m\u001b[0;34m\u001b[0m\u001b[0m\n\u001b[1;32m    418\u001b[0m     )\n",
      "\u001b[0;32m~/seager19/env/lib/python3.8/site-packages/xarray/core/indexing.py\u001b[0m in \u001b[0;36mremap_label_indexers\u001b[0;34m(data_obj, indexers, method, tolerance)\u001b[0m\n\u001b[1;32m    268\u001b[0m             \u001b[0mcoords_dtype\u001b[0m \u001b[0;34m=\u001b[0m \u001b[0mdata_obj\u001b[0m\u001b[0;34m.\u001b[0m\u001b[0mcoords\u001b[0m\u001b[0;34m[\u001b[0m\u001b[0mdim\u001b[0m\u001b[0;34m]\u001b[0m\u001b[0;34m.\u001b[0m\u001b[0mdtype\u001b[0m\u001b[0;34m\u001b[0m\u001b[0;34m\u001b[0m\u001b[0m\n\u001b[1;32m    269\u001b[0m             \u001b[0mlabel\u001b[0m \u001b[0;34m=\u001b[0m \u001b[0mmaybe_cast_to_coords_dtype\u001b[0m\u001b[0;34m(\u001b[0m\u001b[0mlabel\u001b[0m\u001b[0;34m,\u001b[0m \u001b[0mcoords_dtype\u001b[0m\u001b[0;34m)\u001b[0m\u001b[0;34m\u001b[0m\u001b[0;34m\u001b[0m\u001b[0m\n\u001b[0;32m--> 270\u001b[0;31m             \u001b[0midxr\u001b[0m\u001b[0;34m,\u001b[0m \u001b[0mnew_idx\u001b[0m \u001b[0;34m=\u001b[0m \u001b[0mconvert_label_indexer\u001b[0m\u001b[0;34m(\u001b[0m\u001b[0mindex\u001b[0m\u001b[0;34m,\u001b[0m \u001b[0mlabel\u001b[0m\u001b[0;34m,\u001b[0m \u001b[0mdim\u001b[0m\u001b[0;34m,\u001b[0m \u001b[0mmethod\u001b[0m\u001b[0;34m,\u001b[0m \u001b[0mtolerance\u001b[0m\u001b[0;34m)\u001b[0m\u001b[0;34m\u001b[0m\u001b[0;34m\u001b[0m\u001b[0m\n\u001b[0m\u001b[1;32m    271\u001b[0m             \u001b[0mpos_indexers\u001b[0m\u001b[0;34m[\u001b[0m\u001b[0mdim\u001b[0m\u001b[0;34m]\u001b[0m \u001b[0;34m=\u001b[0m \u001b[0midxr\u001b[0m\u001b[0;34m\u001b[0m\u001b[0;34m\u001b[0m\u001b[0m\n\u001b[1;32m    272\u001b[0m             \u001b[0;32mif\u001b[0m \u001b[0mnew_idx\u001b[0m \u001b[0;32mis\u001b[0m \u001b[0;32mnot\u001b[0m \u001b[0;32mNone\u001b[0m\u001b[0;34m:\u001b[0m\u001b[0;34m\u001b[0m\u001b[0;34m\u001b[0m\u001b[0m\n",
      "\u001b[0;32m~/seager19/env/lib/python3.8/site-packages/xarray/core/indexing.py\u001b[0m in \u001b[0;36mconvert_label_indexer\u001b[0;34m(index, label, index_name, method, tolerance)\u001b[0m\n\u001b[1;32m    119\u001b[0m                 \u001b[0;34m\"cannot use ``method`` argument if any indexers are slice objects\"\u001b[0m\u001b[0;34m\u001b[0m\u001b[0;34m\u001b[0m\u001b[0m\n\u001b[1;32m    120\u001b[0m             )\n\u001b[0;32m--> 121\u001b[0;31m         indexer = index.slice_indexer(\n\u001b[0m\u001b[1;32m    122\u001b[0m             \u001b[0m_sanitize_slice_element\u001b[0m\u001b[0;34m(\u001b[0m\u001b[0mlabel\u001b[0m\u001b[0;34m.\u001b[0m\u001b[0mstart\u001b[0m\u001b[0;34m)\u001b[0m\u001b[0;34m,\u001b[0m\u001b[0;34m\u001b[0m\u001b[0;34m\u001b[0m\u001b[0m\n\u001b[1;32m    123\u001b[0m             \u001b[0m_sanitize_slice_element\u001b[0m\u001b[0;34m(\u001b[0m\u001b[0mlabel\u001b[0m\u001b[0;34m.\u001b[0m\u001b[0mstop\u001b[0m\u001b[0;34m)\u001b[0m\u001b[0;34m,\u001b[0m\u001b[0;34m\u001b[0m\u001b[0;34m\u001b[0m\u001b[0m\n",
      "\u001b[0;32m~/seager19/env/lib/python3.8/site-packages/pandas/core/indexes/base.py\u001b[0m in \u001b[0;36mslice_indexer\u001b[0;34m(self, start, end, step, kind)\u001b[0m\n\u001b[1;32m   5684\u001b[0m         \u001b[0mslice\u001b[0m\u001b[0;34m(\u001b[0m\u001b[0;36m1\u001b[0m\u001b[0;34m,\u001b[0m \u001b[0;36m3\u001b[0m\u001b[0;34m,\u001b[0m \u001b[0;32mNone\u001b[0m\u001b[0;34m)\u001b[0m\u001b[0;34m\u001b[0m\u001b[0;34m\u001b[0m\u001b[0m\n\u001b[1;32m   5685\u001b[0m         \"\"\"\n\u001b[0;32m-> 5686\u001b[0;31m         \u001b[0mstart_slice\u001b[0m\u001b[0;34m,\u001b[0m \u001b[0mend_slice\u001b[0m \u001b[0;34m=\u001b[0m \u001b[0mself\u001b[0m\u001b[0;34m.\u001b[0m\u001b[0mslice_locs\u001b[0m\u001b[0;34m(\u001b[0m\u001b[0mstart\u001b[0m\u001b[0;34m,\u001b[0m \u001b[0mend\u001b[0m\u001b[0;34m,\u001b[0m \u001b[0mstep\u001b[0m\u001b[0;34m=\u001b[0m\u001b[0mstep\u001b[0m\u001b[0;34m)\u001b[0m\u001b[0;34m\u001b[0m\u001b[0;34m\u001b[0m\u001b[0m\n\u001b[0m\u001b[1;32m   5687\u001b[0m \u001b[0;34m\u001b[0m\u001b[0m\n\u001b[1;32m   5688\u001b[0m         \u001b[0;31m# return a slice\u001b[0m\u001b[0;34m\u001b[0m\u001b[0;34m\u001b[0m\u001b[0;34m\u001b[0m\u001b[0m\n",
      "\u001b[0;32m~/seager19/env/lib/python3.8/site-packages/pandas/core/indexes/base.py\u001b[0m in \u001b[0;36mslice_locs\u001b[0;34m(self, start, end, step, kind)\u001b[0m\n\u001b[1;32m   5886\u001b[0m         \u001b[0mstart_slice\u001b[0m \u001b[0;34m=\u001b[0m \u001b[0;32mNone\u001b[0m\u001b[0;34m\u001b[0m\u001b[0;34m\u001b[0m\u001b[0m\n\u001b[1;32m   5887\u001b[0m         \u001b[0;32mif\u001b[0m \u001b[0mstart\u001b[0m \u001b[0;32mis\u001b[0m \u001b[0;32mnot\u001b[0m \u001b[0;32mNone\u001b[0m\u001b[0;34m:\u001b[0m\u001b[0;34m\u001b[0m\u001b[0;34m\u001b[0m\u001b[0m\n\u001b[0;32m-> 5888\u001b[0;31m             \u001b[0mstart_slice\u001b[0m \u001b[0;34m=\u001b[0m \u001b[0mself\u001b[0m\u001b[0;34m.\u001b[0m\u001b[0mget_slice_bound\u001b[0m\u001b[0;34m(\u001b[0m\u001b[0mstart\u001b[0m\u001b[0;34m,\u001b[0m \u001b[0;34m\"left\"\u001b[0m\u001b[0;34m)\u001b[0m\u001b[0;34m\u001b[0m\u001b[0;34m\u001b[0m\u001b[0m\n\u001b[0m\u001b[1;32m   5889\u001b[0m         \u001b[0;32mif\u001b[0m \u001b[0mstart_slice\u001b[0m \u001b[0;32mis\u001b[0m \u001b[0;32mNone\u001b[0m\u001b[0;34m:\u001b[0m\u001b[0;34m\u001b[0m\u001b[0;34m\u001b[0m\u001b[0m\n\u001b[1;32m   5890\u001b[0m             \u001b[0mstart_slice\u001b[0m \u001b[0;34m=\u001b[0m \u001b[0;36m0\u001b[0m\u001b[0;34m\u001b[0m\u001b[0;34m\u001b[0m\u001b[0m\n",
      "\u001b[0;32m~/seager19/env/lib/python3.8/site-packages/pandas/core/indexes/base.py\u001b[0m in \u001b[0;36mget_slice_bound\u001b[0;34m(self, label, side, kind)\u001b[0m\n\u001b[1;32m   5796\u001b[0m         \u001b[0;31m# For datetime indices label may be a string that has to be converted\u001b[0m\u001b[0;34m\u001b[0m\u001b[0;34m\u001b[0m\u001b[0;34m\u001b[0m\u001b[0m\n\u001b[1;32m   5797\u001b[0m         \u001b[0;31m# to datetime boundary according to its resolution.\u001b[0m\u001b[0;34m\u001b[0m\u001b[0;34m\u001b[0m\u001b[0;34m\u001b[0m\u001b[0m\n\u001b[0;32m-> 5798\u001b[0;31m         \u001b[0mlabel\u001b[0m \u001b[0;34m=\u001b[0m \u001b[0mself\u001b[0m\u001b[0;34m.\u001b[0m\u001b[0m_maybe_cast_slice_bound\u001b[0m\u001b[0;34m(\u001b[0m\u001b[0mlabel\u001b[0m\u001b[0;34m,\u001b[0m \u001b[0mside\u001b[0m\u001b[0;34m)\u001b[0m\u001b[0;34m\u001b[0m\u001b[0;34m\u001b[0m\u001b[0m\n\u001b[0m\u001b[1;32m   5799\u001b[0m \u001b[0;34m\u001b[0m\u001b[0m\n\u001b[1;32m   5800\u001b[0m         \u001b[0;31m# we need to look up the label\u001b[0m\u001b[0;34m\u001b[0m\u001b[0;34m\u001b[0m\u001b[0;34m\u001b[0m\u001b[0m\n",
      "\u001b[0;31mTypeError\u001b[0m: _maybe_cast_slice_bound() missing 1 required positional argument: 'kind'"
     ]
    }
   ],
   "source": [
    "get_vars([\"ps\"])"
   ]
  },
  {
   "cell_type": "code",
   "execution_count": 8,
   "id": "ffe40490-a359-40d9-bade-678ff9f1d310",
   "metadata": {},
   "outputs": [
    {
     "name": "stdout",
     "output_type": "stream",
     "text": [
      "\n",
      "--> The keys in the returned dictionary of datasets are constructed as follows:\n",
      "\t'activity_id.institution_id.source_id.experiment_id.table_id.grid_label'\n"
     ]
    },
    {
     "data": {
      "text/html": [
       "\n",
       "    <div>\n",
       "        <style>\n",
       "            /* Turns off some styling */\n",
       "            progress {\n",
       "                /* gets rid of default border in Firefox and Opera. */\n",
       "                border: none;\n",
       "                /* Needs to be in here for Safari polyfill so background images work as expected. */\n",
       "                background-size: auto;\n",
       "            }\n",
       "            .progress-bar-interrupted, .progress-bar-interrupted::-webkit-progress-bar {\n",
       "                background: #F44336;\n",
       "            }\n",
       "        </style>\n",
       "      <progress value='30' class='' max='30' style='width:300px; height:20px; vertical-align: middle;'></progress>\n",
       "      100.00% [30/30 00:32<00:00]\n",
       "    </div>\n",
       "    "
      ],
      "text/plain": [
       "<IPython.core.display.HTML object>"
      ]
     },
     "metadata": {},
     "output_type": "display_data"
    },
    {
     "name": "stderr",
     "output_type": "stream",
     "text": [
      "/home/jovyan/seager19/env/lib/python3.8/site-packages/cmip6_preprocessing/preprocessing.py:267: UserWarning: `FGOALS-f3-L` does not provide lon or lat bounds.\n",
      "  warnings.warn(\"`FGOALS-f3-L` does not provide lon or lat bounds.\")\n",
      "/home/jovyan/seager19/env/lib/python3.8/site-packages/cmip6_preprocessing/preprocessing.py:267: UserWarning: `FGOALS-f3-L` does not provide lon or lat bounds.\n",
      "  warnings.warn(\"`FGOALS-f3-L` does not provide lon or lat bounds.\")\n",
      "/home/jovyan/seager19/env/lib/python3.8/site-packages/cmip6_preprocessing/preprocessing.py:267: UserWarning: `FGOALS-f3-L` does not provide lon or lat bounds.\n",
      "  warnings.warn(\"`FGOALS-f3-L` does not provide lon or lat bounds.\")\n"
     ]
    },
    {
     "name": "stdout",
     "output_type": "stream",
     "text": [
      "CMIP.CMCC.CMCC-ESM2.historical.Amon.gn\n"
     ]
    },
    {
     "ename": "TypeError",
     "evalue": "_maybe_cast_slice_bound() missing 1 required positional argument: 'kind'",
     "output_type": "error",
     "traceback": [
      "\u001b[0;31m---------------------------------------------------------------------------\u001b[0m",
      "\u001b[0;31mTypeError\u001b[0m                                 Traceback (most recent call last)",
      "\u001b[0;32m/tmp/ipykernel_3634/193595394.py\u001b[0m in \u001b[0;36m<module>\u001b[0;34m\u001b[0m\n\u001b[0;32m----> 1\u001b[0;31m \u001b[0mget_vars\u001b[0m\u001b[0;34m(\u001b[0m\u001b[0;34m[\u001b[0m\u001b[0;34m\"pr\"\u001b[0m\u001b[0;34m]\u001b[0m\u001b[0;34m)\u001b[0m\u001b[0;34m\u001b[0m\u001b[0;34m\u001b[0m\u001b[0m\n\u001b[0m",
      "\u001b[0;32m~/seager19/src/data_loading/pangeo.py\u001b[0m in \u001b[0;36mget_vars\u001b[0;34m(var_list, regen_success_list)\u001b[0m\n\u001b[1;32m    558\u001b[0m     \"\"\"\n\u001b[1;32m    559\u001b[0m     \u001b[0;32mfor\u001b[0m \u001b[0mvar_str\u001b[0m \u001b[0;32min\u001b[0m \u001b[0mvar_list\u001b[0m\u001b[0;34m:\u001b[0m\u001b[0;34m\u001b[0m\u001b[0;34m\u001b[0m\u001b[0m\n\u001b[0;32m--> 560\u001b[0;31m         GetEnsemble(\n\u001b[0m\u001b[1;32m    561\u001b[0m             \u001b[0mvar\u001b[0m\u001b[0;34m=\u001b[0m\u001b[0mvar_str\u001b[0m\u001b[0;34m,\u001b[0m \u001b[0moutput_folder\u001b[0m\u001b[0;34m=\u001b[0m\u001b[0m_folder_name\u001b[0m\u001b[0;34m(\u001b[0m\u001b[0mvar_str\u001b[0m\u001b[0;34m)\u001b[0m\u001b[0;34m,\u001b[0m \u001b[0mregen_success_list\u001b[0m\u001b[0;34m=\u001b[0m\u001b[0mregen_success_list\u001b[0m\u001b[0;34m\u001b[0m\u001b[0;34m\u001b[0m\u001b[0m\n\u001b[1;32m    562\u001b[0m         )\n",
      "\u001b[0;32m~/seager19/src/data_loading/pangeo.py\u001b[0m in \u001b[0;36m__init__\u001b[0;34m(self, var, output_folder, regen_success_list)\u001b[0m\n\u001b[1;32m    173\u001b[0m         \u001b[0;32melse\u001b[0m\u001b[0;34m:\u001b[0m\u001b[0;34m\u001b[0m\u001b[0;34m\u001b[0m\u001b[0m\n\u001b[1;32m    174\u001b[0m             \u001b[0mself\u001b[0m\u001b[0;34m.\u001b[0m\u001b[0msuccess_list\u001b[0m \u001b[0;34m=\u001b[0m \u001b[0mDEFAULT_SUCCESS_LIST\u001b[0m\u001b[0;34m\u001b[0m\u001b[0;34m\u001b[0m\u001b[0m\n\u001b[0;32m--> 175\u001b[0;31m         self.da_hist = self.get_var(\n\u001b[0m\u001b[1;32m    176\u001b[0m             \u001b[0mxlim\u001b[0m\u001b[0;34m=\u001b[0m\u001b[0;34m[\u001b[0m\u001b[0;36m0\u001b[0m\u001b[0;34m,\u001b[0m \u001b[0;36m360\u001b[0m\u001b[0;34m]\u001b[0m\u001b[0;34m,\u001b[0m\u001b[0;34m\u001b[0m\u001b[0;34m\u001b[0m\u001b[0m\n\u001b[1;32m    177\u001b[0m             \u001b[0mylim\u001b[0m\u001b[0;34m=\u001b[0m\u001b[0;34m[\u001b[0m\u001b[0;34m-\u001b[0m\u001b[0;36m80\u001b[0m\u001b[0;34m,\u001b[0m \u001b[0;36m80\u001b[0m\u001b[0;34m]\u001b[0m\u001b[0;34m,\u001b[0m\u001b[0;34m\u001b[0m\u001b[0;34m\u001b[0m\u001b[0m\n",
      "\u001b[0;32m~/seager19/src/data_loading/pangeo.py\u001b[0m in \u001b[0;36mget_var\u001b[0;34m(self, experiment, year_begin, year_end, var, xlim, ylim)\u001b[0m\n\u001b[1;32m    304\u001b[0m             \u001b[0mprint\u001b[0m\u001b[0;34m(\u001b[0m\u001b[0mkey\u001b[0m\u001b[0;34m)\u001b[0m\u001b[0;34m\u001b[0m\u001b[0;34m\u001b[0m\u001b[0m\n\u001b[1;32m    305\u001b[0m             da = (\n\u001b[0;32m--> 306\u001b[0;31m                 \u001b[0mdset_dict_proc\u001b[0m\u001b[0;34m[\u001b[0m\u001b[0mkey\u001b[0m\u001b[0;34m]\u001b[0m\u001b[0;34m[\u001b[0m\u001b[0mvar\u001b[0m\u001b[0;34m]\u001b[0m\u001b[0;34m\u001b[0m\u001b[0;34m\u001b[0m\u001b[0m\n\u001b[0m\u001b[1;32m    307\u001b[0m                 .sel(\n\u001b[1;32m    308\u001b[0m                     \u001b[0mx\u001b[0m\u001b[0;34m=\u001b[0m\u001b[0mslice\u001b[0m\u001b[0;34m(\u001b[0m\u001b[0mxlim\u001b[0m\u001b[0;34m[\u001b[0m\u001b[0;36m0\u001b[0m\u001b[0;34m]\u001b[0m \u001b[0;34m-\u001b[0m \u001b[0;36m1\u001b[0m\u001b[0;34m,\u001b[0m \u001b[0mxlim\u001b[0m\u001b[0;34m[\u001b[0m\u001b[0;36m1\u001b[0m\u001b[0;34m]\u001b[0m \u001b[0;34m+\u001b[0m \u001b[0;36m1\u001b[0m\u001b[0;34m)\u001b[0m\u001b[0;34m,\u001b[0m\u001b[0;34m\u001b[0m\u001b[0;34m\u001b[0m\u001b[0m\n",
      "\u001b[0;32m~/seager19/env/lib/python3.8/site-packages/xarray/core/dataarray.py\u001b[0m in \u001b[0;36msel\u001b[0;34m(self, indexers, method, tolerance, drop, **indexers_kwargs)\u001b[0m\n\u001b[1;32m   1252\u001b[0m         \u001b[0mDimensions\u001b[0m \u001b[0mwithout\u001b[0m \u001b[0mcoordinates\u001b[0m\u001b[0;34m:\u001b[0m \u001b[0mpoints\u001b[0m\u001b[0;34m\u001b[0m\u001b[0;34m\u001b[0m\u001b[0m\n\u001b[1;32m   1253\u001b[0m         \"\"\"\n\u001b[0;32m-> 1254\u001b[0;31m         ds = self._to_temp_dataset().sel(\n\u001b[0m\u001b[1;32m   1255\u001b[0m             \u001b[0mindexers\u001b[0m\u001b[0;34m=\u001b[0m\u001b[0mindexers\u001b[0m\u001b[0;34m,\u001b[0m\u001b[0;34m\u001b[0m\u001b[0;34m\u001b[0m\u001b[0m\n\u001b[1;32m   1256\u001b[0m             \u001b[0mdrop\u001b[0m\u001b[0;34m=\u001b[0m\u001b[0mdrop\u001b[0m\u001b[0;34m,\u001b[0m\u001b[0;34m\u001b[0m\u001b[0;34m\u001b[0m\u001b[0m\n",
      "\u001b[0;32m~/seager19/env/lib/python3.8/site-packages/xarray/core/dataset.py\u001b[0m in \u001b[0;36msel\u001b[0;34m(self, indexers, method, tolerance, drop, **indexers_kwargs)\u001b[0m\n\u001b[1;32m   2228\u001b[0m         \"\"\"\n\u001b[1;32m   2229\u001b[0m         \u001b[0mindexers\u001b[0m \u001b[0;34m=\u001b[0m \u001b[0meither_dict_or_kwargs\u001b[0m\u001b[0;34m(\u001b[0m\u001b[0mindexers\u001b[0m\u001b[0;34m,\u001b[0m \u001b[0mindexers_kwargs\u001b[0m\u001b[0;34m,\u001b[0m \u001b[0;34m\"sel\"\u001b[0m\u001b[0;34m)\u001b[0m\u001b[0;34m\u001b[0m\u001b[0;34m\u001b[0m\u001b[0m\n\u001b[0;32m-> 2230\u001b[0;31m         pos_indexers, new_indexes = remap_label_indexers(\n\u001b[0m\u001b[1;32m   2231\u001b[0m             \u001b[0mself\u001b[0m\u001b[0;34m,\u001b[0m \u001b[0mindexers\u001b[0m\u001b[0;34m=\u001b[0m\u001b[0mindexers\u001b[0m\u001b[0;34m,\u001b[0m \u001b[0mmethod\u001b[0m\u001b[0;34m=\u001b[0m\u001b[0mmethod\u001b[0m\u001b[0;34m,\u001b[0m \u001b[0mtolerance\u001b[0m\u001b[0;34m=\u001b[0m\u001b[0mtolerance\u001b[0m\u001b[0;34m\u001b[0m\u001b[0;34m\u001b[0m\u001b[0m\n\u001b[1;32m   2232\u001b[0m         )\n",
      "\u001b[0;32m~/seager19/env/lib/python3.8/site-packages/xarray/core/coordinates.py\u001b[0m in \u001b[0;36mremap_label_indexers\u001b[0;34m(obj, indexers, method, tolerance, **indexers_kwargs)\u001b[0m\n\u001b[1;32m    414\u001b[0m     }\n\u001b[1;32m    415\u001b[0m \u001b[0;34m\u001b[0m\u001b[0m\n\u001b[0;32m--> 416\u001b[0;31m     pos_indexers, new_indexes = indexing.remap_label_indexers(\n\u001b[0m\u001b[1;32m    417\u001b[0m         \u001b[0mobj\u001b[0m\u001b[0;34m,\u001b[0m \u001b[0mv_indexers\u001b[0m\u001b[0;34m,\u001b[0m \u001b[0mmethod\u001b[0m\u001b[0;34m=\u001b[0m\u001b[0mmethod\u001b[0m\u001b[0;34m,\u001b[0m \u001b[0mtolerance\u001b[0m\u001b[0;34m=\u001b[0m\u001b[0mtolerance\u001b[0m\u001b[0;34m\u001b[0m\u001b[0;34m\u001b[0m\u001b[0m\n\u001b[1;32m    418\u001b[0m     )\n",
      "\u001b[0;32m~/seager19/env/lib/python3.8/site-packages/xarray/core/indexing.py\u001b[0m in \u001b[0;36mremap_label_indexers\u001b[0;34m(data_obj, indexers, method, tolerance)\u001b[0m\n\u001b[1;32m    268\u001b[0m             \u001b[0mcoords_dtype\u001b[0m \u001b[0;34m=\u001b[0m \u001b[0mdata_obj\u001b[0m\u001b[0;34m.\u001b[0m\u001b[0mcoords\u001b[0m\u001b[0;34m[\u001b[0m\u001b[0mdim\u001b[0m\u001b[0;34m]\u001b[0m\u001b[0;34m.\u001b[0m\u001b[0mdtype\u001b[0m\u001b[0;34m\u001b[0m\u001b[0;34m\u001b[0m\u001b[0m\n\u001b[1;32m    269\u001b[0m             \u001b[0mlabel\u001b[0m \u001b[0;34m=\u001b[0m \u001b[0mmaybe_cast_to_coords_dtype\u001b[0m\u001b[0;34m(\u001b[0m\u001b[0mlabel\u001b[0m\u001b[0;34m,\u001b[0m \u001b[0mcoords_dtype\u001b[0m\u001b[0;34m)\u001b[0m\u001b[0;34m\u001b[0m\u001b[0;34m\u001b[0m\u001b[0m\n\u001b[0;32m--> 270\u001b[0;31m             \u001b[0midxr\u001b[0m\u001b[0;34m,\u001b[0m \u001b[0mnew_idx\u001b[0m \u001b[0;34m=\u001b[0m \u001b[0mconvert_label_indexer\u001b[0m\u001b[0;34m(\u001b[0m\u001b[0mindex\u001b[0m\u001b[0;34m,\u001b[0m \u001b[0mlabel\u001b[0m\u001b[0;34m,\u001b[0m \u001b[0mdim\u001b[0m\u001b[0;34m,\u001b[0m \u001b[0mmethod\u001b[0m\u001b[0;34m,\u001b[0m \u001b[0mtolerance\u001b[0m\u001b[0;34m)\u001b[0m\u001b[0;34m\u001b[0m\u001b[0;34m\u001b[0m\u001b[0m\n\u001b[0m\u001b[1;32m    271\u001b[0m             \u001b[0mpos_indexers\u001b[0m\u001b[0;34m[\u001b[0m\u001b[0mdim\u001b[0m\u001b[0;34m]\u001b[0m \u001b[0;34m=\u001b[0m \u001b[0midxr\u001b[0m\u001b[0;34m\u001b[0m\u001b[0;34m\u001b[0m\u001b[0m\n\u001b[1;32m    272\u001b[0m             \u001b[0;32mif\u001b[0m \u001b[0mnew_idx\u001b[0m \u001b[0;32mis\u001b[0m \u001b[0;32mnot\u001b[0m \u001b[0;32mNone\u001b[0m\u001b[0;34m:\u001b[0m\u001b[0;34m\u001b[0m\u001b[0;34m\u001b[0m\u001b[0m\n",
      "\u001b[0;32m~/seager19/env/lib/python3.8/site-packages/xarray/core/indexing.py\u001b[0m in \u001b[0;36mconvert_label_indexer\u001b[0;34m(index, label, index_name, method, tolerance)\u001b[0m\n\u001b[1;32m    119\u001b[0m                 \u001b[0;34m\"cannot use ``method`` argument if any indexers are slice objects\"\u001b[0m\u001b[0;34m\u001b[0m\u001b[0;34m\u001b[0m\u001b[0m\n\u001b[1;32m    120\u001b[0m             )\n\u001b[0;32m--> 121\u001b[0;31m         indexer = index.slice_indexer(\n\u001b[0m\u001b[1;32m    122\u001b[0m             \u001b[0m_sanitize_slice_element\u001b[0m\u001b[0;34m(\u001b[0m\u001b[0mlabel\u001b[0m\u001b[0;34m.\u001b[0m\u001b[0mstart\u001b[0m\u001b[0;34m)\u001b[0m\u001b[0;34m,\u001b[0m\u001b[0;34m\u001b[0m\u001b[0;34m\u001b[0m\u001b[0m\n\u001b[1;32m    123\u001b[0m             \u001b[0m_sanitize_slice_element\u001b[0m\u001b[0;34m(\u001b[0m\u001b[0mlabel\u001b[0m\u001b[0;34m.\u001b[0m\u001b[0mstop\u001b[0m\u001b[0;34m)\u001b[0m\u001b[0;34m,\u001b[0m\u001b[0;34m\u001b[0m\u001b[0;34m\u001b[0m\u001b[0m\n",
      "\u001b[0;32m~/seager19/env/lib/python3.8/site-packages/pandas/core/indexes/base.py\u001b[0m in \u001b[0;36mslice_indexer\u001b[0;34m(self, start, end, step, kind)\u001b[0m\n\u001b[1;32m   5684\u001b[0m         \u001b[0mslice\u001b[0m\u001b[0;34m(\u001b[0m\u001b[0;36m1\u001b[0m\u001b[0;34m,\u001b[0m \u001b[0;36m3\u001b[0m\u001b[0;34m,\u001b[0m \u001b[0;32mNone\u001b[0m\u001b[0;34m)\u001b[0m\u001b[0;34m\u001b[0m\u001b[0;34m\u001b[0m\u001b[0m\n\u001b[1;32m   5685\u001b[0m         \"\"\"\n\u001b[0;32m-> 5686\u001b[0;31m         \u001b[0mstart_slice\u001b[0m\u001b[0;34m,\u001b[0m \u001b[0mend_slice\u001b[0m \u001b[0;34m=\u001b[0m \u001b[0mself\u001b[0m\u001b[0;34m.\u001b[0m\u001b[0mslice_locs\u001b[0m\u001b[0;34m(\u001b[0m\u001b[0mstart\u001b[0m\u001b[0;34m,\u001b[0m \u001b[0mend\u001b[0m\u001b[0;34m,\u001b[0m \u001b[0mstep\u001b[0m\u001b[0;34m=\u001b[0m\u001b[0mstep\u001b[0m\u001b[0;34m)\u001b[0m\u001b[0;34m\u001b[0m\u001b[0;34m\u001b[0m\u001b[0m\n\u001b[0m\u001b[1;32m   5687\u001b[0m \u001b[0;34m\u001b[0m\u001b[0m\n\u001b[1;32m   5688\u001b[0m         \u001b[0;31m# return a slice\u001b[0m\u001b[0;34m\u001b[0m\u001b[0;34m\u001b[0m\u001b[0;34m\u001b[0m\u001b[0m\n",
      "\u001b[0;32m~/seager19/env/lib/python3.8/site-packages/pandas/core/indexes/base.py\u001b[0m in \u001b[0;36mslice_locs\u001b[0;34m(self, start, end, step, kind)\u001b[0m\n\u001b[1;32m   5886\u001b[0m         \u001b[0mstart_slice\u001b[0m \u001b[0;34m=\u001b[0m \u001b[0;32mNone\u001b[0m\u001b[0;34m\u001b[0m\u001b[0;34m\u001b[0m\u001b[0m\n\u001b[1;32m   5887\u001b[0m         \u001b[0;32mif\u001b[0m \u001b[0mstart\u001b[0m \u001b[0;32mis\u001b[0m \u001b[0;32mnot\u001b[0m \u001b[0;32mNone\u001b[0m\u001b[0;34m:\u001b[0m\u001b[0;34m\u001b[0m\u001b[0;34m\u001b[0m\u001b[0m\n\u001b[0;32m-> 5888\u001b[0;31m             \u001b[0mstart_slice\u001b[0m \u001b[0;34m=\u001b[0m \u001b[0mself\u001b[0m\u001b[0;34m.\u001b[0m\u001b[0mget_slice_bound\u001b[0m\u001b[0;34m(\u001b[0m\u001b[0mstart\u001b[0m\u001b[0;34m,\u001b[0m \u001b[0;34m\"left\"\u001b[0m\u001b[0;34m)\u001b[0m\u001b[0;34m\u001b[0m\u001b[0;34m\u001b[0m\u001b[0m\n\u001b[0m\u001b[1;32m   5889\u001b[0m         \u001b[0;32mif\u001b[0m \u001b[0mstart_slice\u001b[0m \u001b[0;32mis\u001b[0m \u001b[0;32mNone\u001b[0m\u001b[0;34m:\u001b[0m\u001b[0;34m\u001b[0m\u001b[0;34m\u001b[0m\u001b[0m\n\u001b[1;32m   5890\u001b[0m             \u001b[0mstart_slice\u001b[0m \u001b[0;34m=\u001b[0m \u001b[0;36m0\u001b[0m\u001b[0;34m\u001b[0m\u001b[0;34m\u001b[0m\u001b[0m\n",
      "\u001b[0;32m~/seager19/env/lib/python3.8/site-packages/pandas/core/indexes/base.py\u001b[0m in \u001b[0;36mget_slice_bound\u001b[0;34m(self, label, side, kind)\u001b[0m\n\u001b[1;32m   5796\u001b[0m         \u001b[0;31m# For datetime indices label may be a string that has to be converted\u001b[0m\u001b[0;34m\u001b[0m\u001b[0;34m\u001b[0m\u001b[0;34m\u001b[0m\u001b[0m\n\u001b[1;32m   5797\u001b[0m         \u001b[0;31m# to datetime boundary according to its resolution.\u001b[0m\u001b[0;34m\u001b[0m\u001b[0;34m\u001b[0m\u001b[0;34m\u001b[0m\u001b[0m\n\u001b[0;32m-> 5798\u001b[0;31m         \u001b[0mlabel\u001b[0m \u001b[0;34m=\u001b[0m \u001b[0mself\u001b[0m\u001b[0;34m.\u001b[0m\u001b[0m_maybe_cast_slice_bound\u001b[0m\u001b[0;34m(\u001b[0m\u001b[0mlabel\u001b[0m\u001b[0;34m,\u001b[0m \u001b[0mside\u001b[0m\u001b[0;34m)\u001b[0m\u001b[0;34m\u001b[0m\u001b[0;34m\u001b[0m\u001b[0m\n\u001b[0m\u001b[1;32m   5799\u001b[0m \u001b[0;34m\u001b[0m\u001b[0m\n\u001b[1;32m   5800\u001b[0m         \u001b[0;31m# we need to look up the label\u001b[0m\u001b[0;34m\u001b[0m\u001b[0;34m\u001b[0m\u001b[0;34m\u001b[0m\u001b[0m\n",
      "\u001b[0;31mTypeError\u001b[0m: _maybe_cast_slice_bound() missing 1 required positional argument: 'kind'"
     ]
    }
   ],
   "source": [
    "get_vars([\"pr\"])"
   ]
  },
  {
   "cell_type": "code",
   "execution_count": 9,
   "id": "548ccd09-65c9-431e-b668-0da5a2fa5492",
   "metadata": {},
   "outputs": [
    {
     "name": "stderr",
     "output_type": "stream",
     "text": [
      "/home/jovyan/seager19/env/lib/python3.8/site-packages/intake_esm/search.py:106: UserWarning: Query returned zero results.\n",
      "  warn(message)\n",
      "/home/jovyan/seager19/env/lib/python3.8/site-packages/intake_esm/core.py:882: UserWarning: There are no datasets to load! Returning an empty dictionary.\n",
      "  warn('There are no datasets to load! Returning an empty dictionary.')\n"
     ]
    },
    {
     "ename": "ValueError",
     "evalue": "must supply at least one object to concatenate",
     "output_type": "error",
     "traceback": [
      "\u001b[0;31m---------------------------------------------------------------------------\u001b[0m",
      "\u001b[0;31mStopIteration\u001b[0m                             Traceback (most recent call last)",
      "\u001b[0;32m~/seager19/env/lib/python3.8/site-packages/xarray/core/concat.py\u001b[0m in \u001b[0;36mconcat\u001b[0;34m(objs, dim, data_vars, coords, compat, positions, fill_value, join, combine_attrs)\u001b[0m\n\u001b[1;32m    219\u001b[0m     \u001b[0;32mtry\u001b[0m\u001b[0;34m:\u001b[0m\u001b[0;34m\u001b[0m\u001b[0;34m\u001b[0m\u001b[0m\n\u001b[0;32m--> 220\u001b[0;31m         \u001b[0mfirst_obj\u001b[0m\u001b[0;34m,\u001b[0m \u001b[0mobjs\u001b[0m \u001b[0;34m=\u001b[0m \u001b[0mutils\u001b[0m\u001b[0;34m.\u001b[0m\u001b[0mpeek_at\u001b[0m\u001b[0;34m(\u001b[0m\u001b[0mobjs\u001b[0m\u001b[0;34m)\u001b[0m\u001b[0;34m\u001b[0m\u001b[0;34m\u001b[0m\u001b[0m\n\u001b[0m\u001b[1;32m    221\u001b[0m     \u001b[0;32mexcept\u001b[0m \u001b[0mStopIteration\u001b[0m\u001b[0;34m:\u001b[0m\u001b[0;34m\u001b[0m\u001b[0;34m\u001b[0m\u001b[0m\n",
      "\u001b[0;32m~/seager19/env/lib/python3.8/site-packages/xarray/core/utils.py\u001b[0m in \u001b[0;36mpeek_at\u001b[0;34m(iterable)\u001b[0m\n\u001b[1;32m    193\u001b[0m     \u001b[0mgen\u001b[0m \u001b[0;34m=\u001b[0m \u001b[0miter\u001b[0m\u001b[0;34m(\u001b[0m\u001b[0miterable\u001b[0m\u001b[0;34m)\u001b[0m\u001b[0;34m\u001b[0m\u001b[0;34m\u001b[0m\u001b[0m\n\u001b[0;32m--> 194\u001b[0;31m     \u001b[0mpeek\u001b[0m \u001b[0;34m=\u001b[0m \u001b[0mnext\u001b[0m\u001b[0;34m(\u001b[0m\u001b[0mgen\u001b[0m\u001b[0;34m)\u001b[0m\u001b[0;34m\u001b[0m\u001b[0;34m\u001b[0m\u001b[0m\n\u001b[0m\u001b[1;32m    195\u001b[0m     \u001b[0;32mreturn\u001b[0m \u001b[0mpeek\u001b[0m\u001b[0;34m,\u001b[0m \u001b[0mitertools\u001b[0m\u001b[0;34m.\u001b[0m\u001b[0mchain\u001b[0m\u001b[0;34m(\u001b[0m\u001b[0;34m[\u001b[0m\u001b[0mpeek\u001b[0m\u001b[0;34m]\u001b[0m\u001b[0;34m,\u001b[0m \u001b[0mgen\u001b[0m\u001b[0;34m)\u001b[0m\u001b[0;34m\u001b[0m\u001b[0;34m\u001b[0m\u001b[0m\n",
      "\u001b[0;31mStopIteration\u001b[0m: ",
      "\nDuring handling of the above exception, another exception occurred:\n",
      "\u001b[0;31mValueError\u001b[0m                                Traceback (most recent call last)",
      "\u001b[0;32m/tmp/ipykernel_3634/3428008331.py\u001b[0m in \u001b[0;36m<module>\u001b[0;34m\u001b[0m\n\u001b[0;32m----> 1\u001b[0;31m \u001b[0mget_vars\u001b[0m\u001b[0;34m(\u001b[0m\u001b[0;34m[\u001b[0m\u001b[0;34m\"pl\"\u001b[0m\u001b[0;34m]\u001b[0m\u001b[0;34m)\u001b[0m\u001b[0;34m\u001b[0m\u001b[0;34m\u001b[0m\u001b[0m\n\u001b[0m",
      "\u001b[0;32m~/seager19/src/data_loading/pangeo.py\u001b[0m in \u001b[0;36mget_vars\u001b[0;34m(var_list, regen_success_list)\u001b[0m\n\u001b[1;32m    558\u001b[0m     \"\"\"\n\u001b[1;32m    559\u001b[0m     \u001b[0;32mfor\u001b[0m \u001b[0mvar_str\u001b[0m \u001b[0;32min\u001b[0m \u001b[0mvar_list\u001b[0m\u001b[0;34m:\u001b[0m\u001b[0;34m\u001b[0m\u001b[0;34m\u001b[0m\u001b[0m\n\u001b[0;32m--> 560\u001b[0;31m         GetEnsemble(\n\u001b[0m\u001b[1;32m    561\u001b[0m             \u001b[0mvar\u001b[0m\u001b[0;34m=\u001b[0m\u001b[0mvar_str\u001b[0m\u001b[0;34m,\u001b[0m \u001b[0moutput_folder\u001b[0m\u001b[0;34m=\u001b[0m\u001b[0m_folder_name\u001b[0m\u001b[0;34m(\u001b[0m\u001b[0mvar_str\u001b[0m\u001b[0;34m)\u001b[0m\u001b[0;34m,\u001b[0m \u001b[0mregen_success_list\u001b[0m\u001b[0;34m=\u001b[0m\u001b[0mregen_success_list\u001b[0m\u001b[0;34m\u001b[0m\u001b[0;34m\u001b[0m\u001b[0m\n\u001b[1;32m    562\u001b[0m         )\n",
      "\u001b[0;32m~/seager19/src/data_loading/pangeo.py\u001b[0m in \u001b[0;36m__init__\u001b[0;34m(self, var, output_folder, regen_success_list)\u001b[0m\n\u001b[1;32m    173\u001b[0m         \u001b[0;32melse\u001b[0m\u001b[0;34m:\u001b[0m\u001b[0;34m\u001b[0m\u001b[0;34m\u001b[0m\u001b[0m\n\u001b[1;32m    174\u001b[0m             \u001b[0mself\u001b[0m\u001b[0;34m.\u001b[0m\u001b[0msuccess_list\u001b[0m \u001b[0;34m=\u001b[0m \u001b[0mDEFAULT_SUCCESS_LIST\u001b[0m\u001b[0;34m\u001b[0m\u001b[0;34m\u001b[0m\u001b[0m\n\u001b[0;32m--> 175\u001b[0;31m         self.da_hist = self.get_var(\n\u001b[0m\u001b[1;32m    176\u001b[0m             \u001b[0mxlim\u001b[0m\u001b[0;34m=\u001b[0m\u001b[0;34m[\u001b[0m\u001b[0;36m0\u001b[0m\u001b[0;34m,\u001b[0m \u001b[0;36m360\u001b[0m\u001b[0;34m]\u001b[0m\u001b[0;34m,\u001b[0m\u001b[0;34m\u001b[0m\u001b[0;34m\u001b[0m\u001b[0m\n\u001b[1;32m    177\u001b[0m             \u001b[0mylim\u001b[0m\u001b[0;34m=\u001b[0m\u001b[0;34m[\u001b[0m\u001b[0;34m-\u001b[0m\u001b[0;36m80\u001b[0m\u001b[0;34m,\u001b[0m \u001b[0;36m80\u001b[0m\u001b[0;34m]\u001b[0m\u001b[0;34m,\u001b[0m\u001b[0;34m\u001b[0m\u001b[0;34m\u001b[0m\u001b[0m\n",
      "\u001b[0;32m~/seager19/src/data_loading/pangeo.py\u001b[0m in \u001b[0;36mget_var\u001b[0;34m(self, experiment, year_begin, year_end, var, xlim, ylim)\u001b[0m\n\u001b[1;32m    335\u001b[0m                 \u001b[0mda_list\u001b[0m\u001b[0;34m.\u001b[0m\u001b[0mappend\u001b[0m\u001b[0;34m(\u001b[0m\u001b[0msub_da\u001b[0m\u001b[0;34m)\u001b[0m\u001b[0;34m\u001b[0m\u001b[0;34m\u001b[0m\u001b[0m\n\u001b[1;32m    336\u001b[0m \u001b[0;34m\u001b[0m\u001b[0m\n\u001b[0;32m--> 337\u001b[0;31m         \u001b[0mda\u001b[0m \u001b[0;34m=\u001b[0m \u001b[0mxr\u001b[0m\u001b[0;34m.\u001b[0m\u001b[0mconcat\u001b[0m\u001b[0;34m(\u001b[0m\u001b[0mda_list\u001b[0m\u001b[0;34m,\u001b[0m \u001b[0;34m\"member\"\u001b[0m\u001b[0;34m)\u001b[0m\u001b[0;34m\u001b[0m\u001b[0;34m\u001b[0m\u001b[0m\n\u001b[0m\u001b[1;32m    338\u001b[0m         \u001b[0mda\u001b[0m \u001b[0;34m=\u001b[0m \u001b[0mda\u001b[0m\u001b[0;34m.\u001b[0m\u001b[0massign_coords\u001b[0m\u001b[0;34m(\u001b[0m\u001b[0;34m{\u001b[0m\u001b[0;34m\"member\"\u001b[0m\u001b[0;34m:\u001b[0m \u001b[0mkey_list\u001b[0m\u001b[0;34m}\u001b[0m\u001b[0;34m)\u001b[0m  \u001b[0;31m# , \"time\": times})\u001b[0m\u001b[0;34m\u001b[0m\u001b[0;34m\u001b[0m\u001b[0m\n\u001b[1;32m    339\u001b[0m \u001b[0;34m\u001b[0m\u001b[0m\n",
      "\u001b[0;32m~/seager19/env/lib/python3.8/site-packages/xarray/core/concat.py\u001b[0m in \u001b[0;36mconcat\u001b[0;34m(objs, dim, data_vars, coords, compat, positions, fill_value, join, combine_attrs)\u001b[0m\n\u001b[1;32m    220\u001b[0m         \u001b[0mfirst_obj\u001b[0m\u001b[0;34m,\u001b[0m \u001b[0mobjs\u001b[0m \u001b[0;34m=\u001b[0m \u001b[0mutils\u001b[0m\u001b[0;34m.\u001b[0m\u001b[0mpeek_at\u001b[0m\u001b[0;34m(\u001b[0m\u001b[0mobjs\u001b[0m\u001b[0;34m)\u001b[0m\u001b[0;34m\u001b[0m\u001b[0;34m\u001b[0m\u001b[0m\n\u001b[1;32m    221\u001b[0m     \u001b[0;32mexcept\u001b[0m \u001b[0mStopIteration\u001b[0m\u001b[0;34m:\u001b[0m\u001b[0;34m\u001b[0m\u001b[0;34m\u001b[0m\u001b[0m\n\u001b[0;32m--> 222\u001b[0;31m         \u001b[0;32mraise\u001b[0m \u001b[0mValueError\u001b[0m\u001b[0;34m(\u001b[0m\u001b[0;34m\"must supply at least one object to concatenate\"\u001b[0m\u001b[0;34m)\u001b[0m\u001b[0;34m\u001b[0m\u001b[0;34m\u001b[0m\u001b[0m\n\u001b[0m\u001b[1;32m    223\u001b[0m \u001b[0;34m\u001b[0m\u001b[0m\n\u001b[1;32m    224\u001b[0m     \u001b[0;32mif\u001b[0m \u001b[0mcompat\u001b[0m \u001b[0;32mnot\u001b[0m \u001b[0;32min\u001b[0m \u001b[0m_VALID_COMPAT\u001b[0m\u001b[0;34m:\u001b[0m\u001b[0;34m\u001b[0m\u001b[0;34m\u001b[0m\u001b[0m\n",
      "\u001b[0;31mValueError\u001b[0m: must supply at least one object to concatenate"
     ]
    }
   ],
   "source": [
    "get_vars([\"pl\"])"
   ]
  },
  {
   "cell_type": "code",
   "execution_count": 10,
   "id": "39af707e-fdef-4e71-8f3e-c4ceb2685d0e",
   "metadata": {},
   "outputs": [
    {
     "name": "stdout",
     "output_type": "stream",
     "text": [
      "\n",
      "--> The keys in the returned dictionary of datasets are constructed as follows:\n",
      "\t'activity_id.institution_id.source_id.experiment_id.table_id.grid_label'\n"
     ]
    },
    {
     "data": {
      "text/html": [
       "\n",
       "    <div>\n",
       "        <style>\n",
       "            /* Turns off some styling */\n",
       "            progress {\n",
       "                /* gets rid of default border in Firefox and Opera. */\n",
       "                border: none;\n",
       "                /* Needs to be in here for Safari polyfill so background images work as expected. */\n",
       "                background-size: auto;\n",
       "            }\n",
       "            .progress-bar-interrupted, .progress-bar-interrupted::-webkit-progress-bar {\n",
       "                background: #F44336;\n",
       "            }\n",
       "        </style>\n",
       "      <progress value='31' class='' max='31' style='width:300px; height:20px; vertical-align: middle;'></progress>\n",
       "      100.00% [31/31 00:32<00:00]\n",
       "    </div>\n",
       "    "
      ],
      "text/plain": [
       "<IPython.core.display.HTML object>"
      ]
     },
     "metadata": {},
     "output_type": "display_data"
    },
    {
     "name": "stderr",
     "output_type": "stream",
     "text": [
      "/home/jovyan/seager19/env/lib/python3.8/site-packages/cmip6_preprocessing/preprocessing.py:267: UserWarning: `FGOALS-f3-L` does not provide lon or lat bounds.\n",
      "  warnings.warn(\"`FGOALS-f3-L` does not provide lon or lat bounds.\")\n",
      "/home/jovyan/seager19/env/lib/python3.8/site-packages/cmip6_preprocessing/preprocessing.py:267: UserWarning: `FGOALS-f3-L` does not provide lon or lat bounds.\n",
      "  warnings.warn(\"`FGOALS-f3-L` does not provide lon or lat bounds.\")\n",
      "/home/jovyan/seager19/env/lib/python3.8/site-packages/cmip6_preprocessing/preprocessing.py:267: UserWarning: `FGOALS-f3-L` does not provide lon or lat bounds.\n",
      "  warnings.warn(\"`FGOALS-f3-L` does not provide lon or lat bounds.\")\n"
     ]
    },
    {
     "name": "stdout",
     "output_type": "stream",
     "text": [
      "CMIP.CMCC.CMCC-ESM2.historical.Amon.gn\n"
     ]
    },
    {
     "ename": "TypeError",
     "evalue": "_maybe_cast_slice_bound() missing 1 required positional argument: 'kind'",
     "output_type": "error",
     "traceback": [
      "\u001b[0;31m---------------------------------------------------------------------------\u001b[0m",
      "\u001b[0;31mTypeError\u001b[0m                                 Traceback (most recent call last)",
      "\u001b[0;32m/tmp/ipykernel_3634/3350704825.py\u001b[0m in \u001b[0;36m<module>\u001b[0;34m\u001b[0m\n\u001b[0;32m----> 1\u001b[0;31m \u001b[0mget_vars\u001b[0m\u001b[0;34m(\u001b[0m\u001b[0;34m[\u001b[0m\u001b[0;34m\"ts\"\u001b[0m\u001b[0;34m]\u001b[0m\u001b[0;34m)\u001b[0m\u001b[0;34m\u001b[0m\u001b[0;34m\u001b[0m\u001b[0m\n\u001b[0m",
      "\u001b[0;32m~/seager19/src/data_loading/pangeo.py\u001b[0m in \u001b[0;36mget_vars\u001b[0;34m(var_list, regen_success_list)\u001b[0m\n\u001b[1;32m    558\u001b[0m     \"\"\"\n\u001b[1;32m    559\u001b[0m     \u001b[0;32mfor\u001b[0m \u001b[0mvar_str\u001b[0m \u001b[0;32min\u001b[0m \u001b[0mvar_list\u001b[0m\u001b[0;34m:\u001b[0m\u001b[0;34m\u001b[0m\u001b[0;34m\u001b[0m\u001b[0m\n\u001b[0;32m--> 560\u001b[0;31m         GetEnsemble(\n\u001b[0m\u001b[1;32m    561\u001b[0m             \u001b[0mvar\u001b[0m\u001b[0;34m=\u001b[0m\u001b[0mvar_str\u001b[0m\u001b[0;34m,\u001b[0m \u001b[0moutput_folder\u001b[0m\u001b[0;34m=\u001b[0m\u001b[0m_folder_name\u001b[0m\u001b[0;34m(\u001b[0m\u001b[0mvar_str\u001b[0m\u001b[0;34m)\u001b[0m\u001b[0;34m,\u001b[0m \u001b[0mregen_success_list\u001b[0m\u001b[0;34m=\u001b[0m\u001b[0mregen_success_list\u001b[0m\u001b[0;34m\u001b[0m\u001b[0;34m\u001b[0m\u001b[0m\n\u001b[1;32m    562\u001b[0m         )\n",
      "\u001b[0;32m~/seager19/src/data_loading/pangeo.py\u001b[0m in \u001b[0;36m__init__\u001b[0;34m(self, var, output_folder, regen_success_list)\u001b[0m\n\u001b[1;32m    173\u001b[0m         \u001b[0;32melse\u001b[0m\u001b[0;34m:\u001b[0m\u001b[0;34m\u001b[0m\u001b[0;34m\u001b[0m\u001b[0m\n\u001b[1;32m    174\u001b[0m             \u001b[0mself\u001b[0m\u001b[0;34m.\u001b[0m\u001b[0msuccess_list\u001b[0m \u001b[0;34m=\u001b[0m \u001b[0mDEFAULT_SUCCESS_LIST\u001b[0m\u001b[0;34m\u001b[0m\u001b[0;34m\u001b[0m\u001b[0m\n\u001b[0;32m--> 175\u001b[0;31m         self.da_hist = self.get_var(\n\u001b[0m\u001b[1;32m    176\u001b[0m             \u001b[0mxlim\u001b[0m\u001b[0;34m=\u001b[0m\u001b[0;34m[\u001b[0m\u001b[0;36m0\u001b[0m\u001b[0;34m,\u001b[0m \u001b[0;36m360\u001b[0m\u001b[0;34m]\u001b[0m\u001b[0;34m,\u001b[0m\u001b[0;34m\u001b[0m\u001b[0;34m\u001b[0m\u001b[0m\n\u001b[1;32m    177\u001b[0m             \u001b[0mylim\u001b[0m\u001b[0;34m=\u001b[0m\u001b[0;34m[\u001b[0m\u001b[0;34m-\u001b[0m\u001b[0;36m80\u001b[0m\u001b[0;34m,\u001b[0m \u001b[0;36m80\u001b[0m\u001b[0;34m]\u001b[0m\u001b[0;34m,\u001b[0m\u001b[0;34m\u001b[0m\u001b[0;34m\u001b[0m\u001b[0m\n",
      "\u001b[0;32m~/seager19/src/data_loading/pangeo.py\u001b[0m in \u001b[0;36mget_var\u001b[0;34m(self, experiment, year_begin, year_end, var, xlim, ylim)\u001b[0m\n\u001b[1;32m    304\u001b[0m             \u001b[0mprint\u001b[0m\u001b[0;34m(\u001b[0m\u001b[0mkey\u001b[0m\u001b[0;34m)\u001b[0m\u001b[0;34m\u001b[0m\u001b[0;34m\u001b[0m\u001b[0m\n\u001b[1;32m    305\u001b[0m             da = (\n\u001b[0;32m--> 306\u001b[0;31m                 \u001b[0mdset_dict_proc\u001b[0m\u001b[0;34m[\u001b[0m\u001b[0mkey\u001b[0m\u001b[0;34m]\u001b[0m\u001b[0;34m[\u001b[0m\u001b[0mvar\u001b[0m\u001b[0;34m]\u001b[0m\u001b[0;34m\u001b[0m\u001b[0;34m\u001b[0m\u001b[0m\n\u001b[0m\u001b[1;32m    307\u001b[0m                 .sel(\n\u001b[1;32m    308\u001b[0m                     \u001b[0mx\u001b[0m\u001b[0;34m=\u001b[0m\u001b[0mslice\u001b[0m\u001b[0;34m(\u001b[0m\u001b[0mxlim\u001b[0m\u001b[0;34m[\u001b[0m\u001b[0;36m0\u001b[0m\u001b[0;34m]\u001b[0m \u001b[0;34m-\u001b[0m \u001b[0;36m1\u001b[0m\u001b[0;34m,\u001b[0m \u001b[0mxlim\u001b[0m\u001b[0;34m[\u001b[0m\u001b[0;36m1\u001b[0m\u001b[0;34m]\u001b[0m \u001b[0;34m+\u001b[0m \u001b[0;36m1\u001b[0m\u001b[0;34m)\u001b[0m\u001b[0;34m,\u001b[0m\u001b[0;34m\u001b[0m\u001b[0;34m\u001b[0m\u001b[0m\n",
      "\u001b[0;32m~/seager19/env/lib/python3.8/site-packages/xarray/core/dataarray.py\u001b[0m in \u001b[0;36msel\u001b[0;34m(self, indexers, method, tolerance, drop, **indexers_kwargs)\u001b[0m\n\u001b[1;32m   1252\u001b[0m         \u001b[0mDimensions\u001b[0m \u001b[0mwithout\u001b[0m \u001b[0mcoordinates\u001b[0m\u001b[0;34m:\u001b[0m \u001b[0mpoints\u001b[0m\u001b[0;34m\u001b[0m\u001b[0;34m\u001b[0m\u001b[0m\n\u001b[1;32m   1253\u001b[0m         \"\"\"\n\u001b[0;32m-> 1254\u001b[0;31m         ds = self._to_temp_dataset().sel(\n\u001b[0m\u001b[1;32m   1255\u001b[0m             \u001b[0mindexers\u001b[0m\u001b[0;34m=\u001b[0m\u001b[0mindexers\u001b[0m\u001b[0;34m,\u001b[0m\u001b[0;34m\u001b[0m\u001b[0;34m\u001b[0m\u001b[0m\n\u001b[1;32m   1256\u001b[0m             \u001b[0mdrop\u001b[0m\u001b[0;34m=\u001b[0m\u001b[0mdrop\u001b[0m\u001b[0;34m,\u001b[0m\u001b[0;34m\u001b[0m\u001b[0;34m\u001b[0m\u001b[0m\n",
      "\u001b[0;32m~/seager19/env/lib/python3.8/site-packages/xarray/core/dataset.py\u001b[0m in \u001b[0;36msel\u001b[0;34m(self, indexers, method, tolerance, drop, **indexers_kwargs)\u001b[0m\n\u001b[1;32m   2228\u001b[0m         \"\"\"\n\u001b[1;32m   2229\u001b[0m         \u001b[0mindexers\u001b[0m \u001b[0;34m=\u001b[0m \u001b[0meither_dict_or_kwargs\u001b[0m\u001b[0;34m(\u001b[0m\u001b[0mindexers\u001b[0m\u001b[0;34m,\u001b[0m \u001b[0mindexers_kwargs\u001b[0m\u001b[0;34m,\u001b[0m \u001b[0;34m\"sel\"\u001b[0m\u001b[0;34m)\u001b[0m\u001b[0;34m\u001b[0m\u001b[0;34m\u001b[0m\u001b[0m\n\u001b[0;32m-> 2230\u001b[0;31m         pos_indexers, new_indexes = remap_label_indexers(\n\u001b[0m\u001b[1;32m   2231\u001b[0m             \u001b[0mself\u001b[0m\u001b[0;34m,\u001b[0m \u001b[0mindexers\u001b[0m\u001b[0;34m=\u001b[0m\u001b[0mindexers\u001b[0m\u001b[0;34m,\u001b[0m \u001b[0mmethod\u001b[0m\u001b[0;34m=\u001b[0m\u001b[0mmethod\u001b[0m\u001b[0;34m,\u001b[0m \u001b[0mtolerance\u001b[0m\u001b[0;34m=\u001b[0m\u001b[0mtolerance\u001b[0m\u001b[0;34m\u001b[0m\u001b[0;34m\u001b[0m\u001b[0m\n\u001b[1;32m   2232\u001b[0m         )\n",
      "\u001b[0;32m~/seager19/env/lib/python3.8/site-packages/xarray/core/coordinates.py\u001b[0m in \u001b[0;36mremap_label_indexers\u001b[0;34m(obj, indexers, method, tolerance, **indexers_kwargs)\u001b[0m\n\u001b[1;32m    414\u001b[0m     }\n\u001b[1;32m    415\u001b[0m \u001b[0;34m\u001b[0m\u001b[0m\n\u001b[0;32m--> 416\u001b[0;31m     pos_indexers, new_indexes = indexing.remap_label_indexers(\n\u001b[0m\u001b[1;32m    417\u001b[0m         \u001b[0mobj\u001b[0m\u001b[0;34m,\u001b[0m \u001b[0mv_indexers\u001b[0m\u001b[0;34m,\u001b[0m \u001b[0mmethod\u001b[0m\u001b[0;34m=\u001b[0m\u001b[0mmethod\u001b[0m\u001b[0;34m,\u001b[0m \u001b[0mtolerance\u001b[0m\u001b[0;34m=\u001b[0m\u001b[0mtolerance\u001b[0m\u001b[0;34m\u001b[0m\u001b[0;34m\u001b[0m\u001b[0m\n\u001b[1;32m    418\u001b[0m     )\n",
      "\u001b[0;32m~/seager19/env/lib/python3.8/site-packages/xarray/core/indexing.py\u001b[0m in \u001b[0;36mremap_label_indexers\u001b[0;34m(data_obj, indexers, method, tolerance)\u001b[0m\n\u001b[1;32m    268\u001b[0m             \u001b[0mcoords_dtype\u001b[0m \u001b[0;34m=\u001b[0m \u001b[0mdata_obj\u001b[0m\u001b[0;34m.\u001b[0m\u001b[0mcoords\u001b[0m\u001b[0;34m[\u001b[0m\u001b[0mdim\u001b[0m\u001b[0;34m]\u001b[0m\u001b[0;34m.\u001b[0m\u001b[0mdtype\u001b[0m\u001b[0;34m\u001b[0m\u001b[0;34m\u001b[0m\u001b[0m\n\u001b[1;32m    269\u001b[0m             \u001b[0mlabel\u001b[0m \u001b[0;34m=\u001b[0m \u001b[0mmaybe_cast_to_coords_dtype\u001b[0m\u001b[0;34m(\u001b[0m\u001b[0mlabel\u001b[0m\u001b[0;34m,\u001b[0m \u001b[0mcoords_dtype\u001b[0m\u001b[0;34m)\u001b[0m\u001b[0;34m\u001b[0m\u001b[0;34m\u001b[0m\u001b[0m\n\u001b[0;32m--> 270\u001b[0;31m             \u001b[0midxr\u001b[0m\u001b[0;34m,\u001b[0m \u001b[0mnew_idx\u001b[0m \u001b[0;34m=\u001b[0m \u001b[0mconvert_label_indexer\u001b[0m\u001b[0;34m(\u001b[0m\u001b[0mindex\u001b[0m\u001b[0;34m,\u001b[0m \u001b[0mlabel\u001b[0m\u001b[0;34m,\u001b[0m \u001b[0mdim\u001b[0m\u001b[0;34m,\u001b[0m \u001b[0mmethod\u001b[0m\u001b[0;34m,\u001b[0m \u001b[0mtolerance\u001b[0m\u001b[0;34m)\u001b[0m\u001b[0;34m\u001b[0m\u001b[0;34m\u001b[0m\u001b[0m\n\u001b[0m\u001b[1;32m    271\u001b[0m             \u001b[0mpos_indexers\u001b[0m\u001b[0;34m[\u001b[0m\u001b[0mdim\u001b[0m\u001b[0;34m]\u001b[0m \u001b[0;34m=\u001b[0m \u001b[0midxr\u001b[0m\u001b[0;34m\u001b[0m\u001b[0;34m\u001b[0m\u001b[0m\n\u001b[1;32m    272\u001b[0m             \u001b[0;32mif\u001b[0m \u001b[0mnew_idx\u001b[0m \u001b[0;32mis\u001b[0m \u001b[0;32mnot\u001b[0m \u001b[0;32mNone\u001b[0m\u001b[0;34m:\u001b[0m\u001b[0;34m\u001b[0m\u001b[0;34m\u001b[0m\u001b[0m\n",
      "\u001b[0;32m~/seager19/env/lib/python3.8/site-packages/xarray/core/indexing.py\u001b[0m in \u001b[0;36mconvert_label_indexer\u001b[0;34m(index, label, index_name, method, tolerance)\u001b[0m\n\u001b[1;32m    119\u001b[0m                 \u001b[0;34m\"cannot use ``method`` argument if any indexers are slice objects\"\u001b[0m\u001b[0;34m\u001b[0m\u001b[0;34m\u001b[0m\u001b[0m\n\u001b[1;32m    120\u001b[0m             )\n\u001b[0;32m--> 121\u001b[0;31m         indexer = index.slice_indexer(\n\u001b[0m\u001b[1;32m    122\u001b[0m             \u001b[0m_sanitize_slice_element\u001b[0m\u001b[0;34m(\u001b[0m\u001b[0mlabel\u001b[0m\u001b[0;34m.\u001b[0m\u001b[0mstart\u001b[0m\u001b[0;34m)\u001b[0m\u001b[0;34m,\u001b[0m\u001b[0;34m\u001b[0m\u001b[0;34m\u001b[0m\u001b[0m\n\u001b[1;32m    123\u001b[0m             \u001b[0m_sanitize_slice_element\u001b[0m\u001b[0;34m(\u001b[0m\u001b[0mlabel\u001b[0m\u001b[0;34m.\u001b[0m\u001b[0mstop\u001b[0m\u001b[0;34m)\u001b[0m\u001b[0;34m,\u001b[0m\u001b[0;34m\u001b[0m\u001b[0;34m\u001b[0m\u001b[0m\n",
      "\u001b[0;32m~/seager19/env/lib/python3.8/site-packages/pandas/core/indexes/base.py\u001b[0m in \u001b[0;36mslice_indexer\u001b[0;34m(self, start, end, step, kind)\u001b[0m\n\u001b[1;32m   5684\u001b[0m         \u001b[0mslice\u001b[0m\u001b[0;34m(\u001b[0m\u001b[0;36m1\u001b[0m\u001b[0;34m,\u001b[0m \u001b[0;36m3\u001b[0m\u001b[0;34m,\u001b[0m \u001b[0;32mNone\u001b[0m\u001b[0;34m)\u001b[0m\u001b[0;34m\u001b[0m\u001b[0;34m\u001b[0m\u001b[0m\n\u001b[1;32m   5685\u001b[0m         \"\"\"\n\u001b[0;32m-> 5686\u001b[0;31m         \u001b[0mstart_slice\u001b[0m\u001b[0;34m,\u001b[0m \u001b[0mend_slice\u001b[0m \u001b[0;34m=\u001b[0m \u001b[0mself\u001b[0m\u001b[0;34m.\u001b[0m\u001b[0mslice_locs\u001b[0m\u001b[0;34m(\u001b[0m\u001b[0mstart\u001b[0m\u001b[0;34m,\u001b[0m \u001b[0mend\u001b[0m\u001b[0;34m,\u001b[0m \u001b[0mstep\u001b[0m\u001b[0;34m=\u001b[0m\u001b[0mstep\u001b[0m\u001b[0;34m)\u001b[0m\u001b[0;34m\u001b[0m\u001b[0;34m\u001b[0m\u001b[0m\n\u001b[0m\u001b[1;32m   5687\u001b[0m \u001b[0;34m\u001b[0m\u001b[0m\n\u001b[1;32m   5688\u001b[0m         \u001b[0;31m# return a slice\u001b[0m\u001b[0;34m\u001b[0m\u001b[0;34m\u001b[0m\u001b[0;34m\u001b[0m\u001b[0m\n",
      "\u001b[0;32m~/seager19/env/lib/python3.8/site-packages/pandas/core/indexes/base.py\u001b[0m in \u001b[0;36mslice_locs\u001b[0;34m(self, start, end, step, kind)\u001b[0m\n\u001b[1;32m   5886\u001b[0m         \u001b[0mstart_slice\u001b[0m \u001b[0;34m=\u001b[0m \u001b[0;32mNone\u001b[0m\u001b[0;34m\u001b[0m\u001b[0;34m\u001b[0m\u001b[0m\n\u001b[1;32m   5887\u001b[0m         \u001b[0;32mif\u001b[0m \u001b[0mstart\u001b[0m \u001b[0;32mis\u001b[0m \u001b[0;32mnot\u001b[0m \u001b[0;32mNone\u001b[0m\u001b[0;34m:\u001b[0m\u001b[0;34m\u001b[0m\u001b[0;34m\u001b[0m\u001b[0m\n\u001b[0;32m-> 5888\u001b[0;31m             \u001b[0mstart_slice\u001b[0m \u001b[0;34m=\u001b[0m \u001b[0mself\u001b[0m\u001b[0;34m.\u001b[0m\u001b[0mget_slice_bound\u001b[0m\u001b[0;34m(\u001b[0m\u001b[0mstart\u001b[0m\u001b[0;34m,\u001b[0m \u001b[0;34m\"left\"\u001b[0m\u001b[0;34m)\u001b[0m\u001b[0;34m\u001b[0m\u001b[0;34m\u001b[0m\u001b[0m\n\u001b[0m\u001b[1;32m   5889\u001b[0m         \u001b[0;32mif\u001b[0m \u001b[0mstart_slice\u001b[0m \u001b[0;32mis\u001b[0m \u001b[0;32mNone\u001b[0m\u001b[0;34m:\u001b[0m\u001b[0;34m\u001b[0m\u001b[0;34m\u001b[0m\u001b[0m\n\u001b[1;32m   5890\u001b[0m             \u001b[0mstart_slice\u001b[0m \u001b[0;34m=\u001b[0m \u001b[0;36m0\u001b[0m\u001b[0;34m\u001b[0m\u001b[0;34m\u001b[0m\u001b[0m\n",
      "\u001b[0;32m~/seager19/env/lib/python3.8/site-packages/pandas/core/indexes/base.py\u001b[0m in \u001b[0;36mget_slice_bound\u001b[0;34m(self, label, side, kind)\u001b[0m\n\u001b[1;32m   5796\u001b[0m         \u001b[0;31m# For datetime indices label may be a string that has to be converted\u001b[0m\u001b[0;34m\u001b[0m\u001b[0;34m\u001b[0m\u001b[0;34m\u001b[0m\u001b[0m\n\u001b[1;32m   5797\u001b[0m         \u001b[0;31m# to datetime boundary according to its resolution.\u001b[0m\u001b[0;34m\u001b[0m\u001b[0;34m\u001b[0m\u001b[0;34m\u001b[0m\u001b[0m\n\u001b[0;32m-> 5798\u001b[0;31m         \u001b[0mlabel\u001b[0m \u001b[0;34m=\u001b[0m \u001b[0mself\u001b[0m\u001b[0;34m.\u001b[0m\u001b[0m_maybe_cast_slice_bound\u001b[0m\u001b[0;34m(\u001b[0m\u001b[0mlabel\u001b[0m\u001b[0;34m,\u001b[0m \u001b[0mside\u001b[0m\u001b[0;34m)\u001b[0m\u001b[0;34m\u001b[0m\u001b[0;34m\u001b[0m\u001b[0m\n\u001b[0m\u001b[1;32m   5799\u001b[0m \u001b[0;34m\u001b[0m\u001b[0m\n\u001b[1;32m   5800\u001b[0m         \u001b[0;31m# we need to look up the label\u001b[0m\u001b[0;34m\u001b[0m\u001b[0;34m\u001b[0m\u001b[0;34m\u001b[0m\u001b[0m\n",
      "\u001b[0;31mTypeError\u001b[0m: _maybe_cast_slice_bound() missing 1 required positional argument: 'kind'"
     ]
    }
   ],
   "source": [
    "get_vars([\"ts\"])"
   ]
  },
  {
   "cell_type": "code",
   "execution_count": null,
   "id": "51ac4a4d-4cd1-44a3-8bd6-228d253b93fb",
   "metadata": {},
   "outputs": [],
   "source": []
  }
 ],
 "metadata": {
  "kernelspec": {
   "display_name": "Python [conda env:env]",
   "language": "python",
   "name": "conda-env-env-py"
  },
  "language_info": {
   "codemirror_mode": {
    "name": "ipython",
    "version": 3
   },
   "file_extension": ".py",
   "mimetype": "text/x-python",
   "name": "python",
   "nbconvert_exporter": "python",
   "pygments_lexer": "ipython3",
   "version": "3.8.10"
  }
 },
 "nbformat": 4,
 "nbformat_minor": 5
}
