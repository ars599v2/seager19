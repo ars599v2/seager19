{
 "cells": [
  {
   "cell_type": "markdown",
   "metadata": {},
   "source": [
    "# dQ"
   ]
  },
  {
   "cell_type": "markdown",
   "metadata": {},
   "source": [
    "## Import Libraries, set constants"
   ]
  },
  {
   "cell_type": "code",
   "execution_count": 1,
   "metadata": {
    "ExecuteTime": {
     "end_time": "2021-03-31T17:52:12.488702Z",
     "start_time": "2021-03-31T17:52:11.024822Z"
    }
   },
   "outputs": [],
   "source": [
    "import os\n",
    "import numpy as np\n",
    "import matplotlib.pyplot as plt\n",
    "import xarray as xr\n",
    "\n",
    "\"\"\" Using climatological Clouds and Windspeed in the\n",
    "surface heat flux formulas\n",
    "\"\"\"\n",
    "rhoa = 1.225\n",
    "cE = 0.00125\n",
    "L = 2.5e6\n",
    "eps = 0.97\n",
    "sigma = 5.67e-8\n",
    "ps = 1000\n",
    "es0 = 6.11\n",
    "delta = 1.0\n",
    "f2 = 0.05\n",
    "# 'a' should decrease when deep convection happens above 28 degC\n",
    "# a = Ts-T0;a[a>28] = 40;a[a<=28] = 80;a = 0.01*a\n",
    "a = 0.6\n",
    "\n",
    "mem = \"EEEf\"\n",
    "\n",
    "names = {\n",
    "    \"E\": \"ECMWF\",\n",
    "    \"F\": \"ECMWF-orig\",\n",
    "    \"B\": \"CMIP5-39m\",\n",
    "    \"C\": \"CMIP5\",\n",
    "    \"D\": \"CMIP5-orig\",\n",
    "    \"H\": \"HadGEM2\",\n",
    "    \"f\": \"fixed\",\n",
    "    \"e\": \"fixed78\",\n",
    "    \"g\": \"fixed82\",\n",
    "    \"W\": \"WHOI\",\n",
    "    \"M\": \"MERRA\",\n",
    "    \"I\": \"ISCCP\",\n",
    "}\n",
    "vars = {0: \"ts\", 1: \"clt\", 2: \"sfcWind\", 3: \"rh\"}"
   ]
  },
  {
   "cell_type": "markdown",
   "metadata": {},
   "source": [
    "## basic parameters"
   ]
  },
  {
   "cell_type": "code",
   "execution_count": 2,
   "metadata": {
    "ExecuteTime": {
     "end_time": "2021-03-31T17:52:13.983315Z",
     "start_time": "2021-03-31T17:52:13.980790Z"
    }
   },
   "outputs": [],
   "source": [
    "T0 = 273.15 # O degC in Kelvin\n",
    "f1bar = 0.39\n",
    "Ubar = 5.0\n",
    "Tsbar = T0 + 25\n",
    "Cbar = 0.6\n",
    "wnspmin = 4.0"
   ]
  },
  {
   "cell_type": "markdown",
   "metadata": {},
   "source": [
    "## Set up flux functions"
   ]
  },
  {
   "cell_type": "code",
   "execution_count": 3,
   "metadata": {
    "ExecuteTime": {
     "end_time": "2021-03-31T17:52:18.003182Z",
     "start_time": "2021-03-31T17:52:17.478653Z"
    }
   },
   "outputs": [],
   "source": [
    "# Find linearization of Q_LH (latent heating)\n",
    "const1 = rhoa * cE * L\n",
    "\n",
    "\n",
    "def f_es(T):\n",
    "    return es0 * np.exp(17.67 * (T - T0) / (T - T0 + 243.5))\n",
    "\n",
    "\n",
    "def f_qs(T):\n",
    "    return 0.622 * f_es(T) / ps\n",
    "\n",
    "\n",
    "def f_dqsdT(T):\n",
    "    return f_qs(T) * (17.67 * 243.5) / (T - T0 + 243.5) ** 2\n",
    "\n",
    "\n",
    "def f_QLH(T, U, rh):\n",
    "    return const1 * U * f_qs(T) * (1 - rh)\n",
    "\n",
    "\n",
    "def f_dQLHdT(T, U, rh):\n",
    "    return const1 * U * f_dqsdT(T) * (1 - rh)"
   ]
  },
  {
   "cell_type": "code",
   "execution_count": 7,
   "metadata": {
    "ExecuteTime": {
     "end_time": "2021-03-31T17:54:08.430578Z",
     "start_time": "2021-03-31T17:54:08.418492Z"
    }
   },
   "outputs": [],
   "source": [
    "# Find linearization of Q_LW (longwave)\n",
    "const2 = eps * sigma\n",
    "\n",
    "\n",
    "def f_Ta(T):\n",
    "    return T - delta\n",
    "\n",
    "\n",
    "def f_ebar(T, rh):\n",
    "    qa = rh * f_qs(T)\n",
    "    return qa * ps / 0.622\n",
    "\n",
    "\n",
    "def f_QLW1(T, C, f, rh):\n",
    "    Ta = f_Ta(T)\n",
    "    return const2 * (1 - a * C ** 2) * Ta ** 4 * (f - f2 * np.sqrt(f_ebar(T, rh)))\n",
    "\n",
    "\n",
    "def f_QLW2(T):\n",
    "    return 4 * eps * sigma * T ** 3 * (T - f_Ta(T))\n",
    "\n",
    "\n",
    "def f_QLW(T, f, rh):\n",
    "    return f_QLW1(T, f, rh) + f_QLW2(T)\n",
    "\n",
    "\n",
    "def f_dQLWdf(T, C):\n",
    "    \"\"\" Stefan-Boltzman law\"\"\"\n",
    "    return const2 * (1 - a * C ** 2) * T ** 4 \n",
    "\n",
    "\n",
    "def f_dQLWdT(T, C, f, rh):\n",
    "    ebar = f_ebar(T, rh)\n",
    "    qs = f_qs(T)\n",
    "    dqsdT = f_dqsdT(T)\n",
    "    return const2 * (\n",
    "        (1 - a * C ** 2)\n",
    "        * T ** 3\n",
    "        * (4 * f - f2 * np.sqrt(ebar) * (4 + T * dqsdT / 2 / qs))\n",
    "        + 12 * T ** 2 * delta\n",
    "    )"
   ]
  },
  {
   "cell_type": "markdown",
   "metadata": {},
   "source": [
    "## Run Through / Load Files"
   ]
  },
  {
   "cell_type": "code",
   "execution_count": 5,
   "metadata": {
    "ExecuteTime": {
     "end_time": "2021-03-31T17:52:29.550530Z",
     "start_time": "2021-03-31T17:52:29.524043Z"
    }
   },
   "outputs": [
    {
     "name": "stdout",
     "output_type": "stream",
     "text": [
      "ECMWF ts DATA/ts-ECMWF-clim60.nc\n",
      "ECMWF clt DATA/clt-ECMWF-clim60.nc\n",
      "ECMWF sfcWind DATA/sfcWind-ECMWF-clim60.nc\n",
      "fixed rh DATA/rh-fixed-clim60.nc\n"
     ]
    }
   ],
   "source": [
    "\n",
    "files = []\n",
    "\n",
    "for i, m in enumerate(mem):\n",
    "    name = names[m]\n",
    "    var = vars[i]\n",
    "    file = \"DATA/\" + var + \"-\" + name + \"-clim60.nc\"\n",
    "    print(name, var, file)\n",
    "    assert os.path.isfile(file)\n",
    "    files += [file]\n",
    "\n",
    "dclim = xr.open_mfdataset(files, decode_times=False)"
   ]
  },
  {
   "cell_type": "code",
   "execution_count": null,
   "metadata": {},
   "outputs": [],
   "source": [
    "#plt.figure(figsize=(8,3))\n",
    "#dp=(dclim.ts - 273.15).plot.contourf(levels=11,cmap=\"jet\",vmin=22,vmax=30,add_colorbar=0)\n",
    "#plt.title(r'$\\bar T_{s,O}$')\n",
    "#plt.ylabel('latitude');plt.xlabel('longitude')\n",
    "#cbar = plt.colorbar(dp)\n",
    "#plt.show()"
   ]
  },
  {
   "cell_type": "code",
   "execution_count": null,
   "metadata": {},
   "outputs": [],
   "source": [
    "#dclim.clt.plot()"
   ]
  },
  {
   "cell_type": "markdown",
   "metadata": {},
   "source": [
    "## Add things to the xarray object"
   ]
  },
  {
   "cell_type": "code",
   "execution_count": 8,
   "metadata": {
    "ExecuteTime": {
     "end_time": "2021-03-31T17:54:20.412734Z",
     "start_time": "2021-03-31T17:54:19.913779Z"
    }
   },
   "outputs": [],
   "source": [
    "# set Q'_LW + Q'_LH = 0, solve for Ts' (assuming U'=0)\n",
    "#       Q'_LW = ALW(Tsbar,Cbar,f1bar)* Tsprime + BLW(Tsbar,Cbar) * f1prime\n",
    "#       Q'_LH = ALH(Tsbar,Ubar) * Tsprime\n",
    "Tsb = 1.0 * dclim.ts\n",
    "tmp = 1.0 * dclim.sfcWind.stack(z=(\"lon\", \"lat\")).load()\n",
    "tmp[tmp < wnspmin] = wnspmin\n",
    "Ub = tmp.unstack(\"z\").T\n",
    "Cb = dclim.clt / 100.0\n",
    "rh = dclim.rh / 100.0\n",
    "f1p = -0.003\n",
    "\n",
    "ALH0 = f_dQLHdT(Tsb, Ubar, rh)\n",
    "ALW0 = f_dQLWdT(Tsb, Cbar, f1bar, rh)\n",
    "BLW0 = f_dQLWdf(Tsb, Cbar)\n",
    "dTse0 = -BLW0 * f1p / (ALH0 + ALW0)\n",
    "dclim[\"dTse0\"] = dTse0\n",
    "\n",
    "ALH1 = f_dQLHdT(Tsb, Ub, rh)\n",
    "ALW1 = f_dQLWdT(Tsb, Cbar, f1bar, rh)\n",
    "BLW1 = f_dQLWdf(Tsb, Cbar)\n",
    "dTse1 = -BLW1 * f1p / (ALH1 + ALW1)\n",
    "dclim[\"dTse1\"] = dTse1\n",
    "\n",
    "ALH2 = f_dQLHdT(Tsb, Ubar, rh)\n",
    "ALW2 = f_dQLWdT(Tsb, Cb, f1bar, rh)\n",
    "BLW2 = f_dQLWdf(Tsb, Cb)\n",
    "dTse2 = -BLW2 * f1p / (ALH2 + ALW2)\n",
    "dclim[\"dTse2\"] = dTse2\n",
    "\n",
    "ALH = f_dQLHdT(Tsb, Ub, rh)\n",
    "ALW = f_dQLWdT(Tsb, Cb, f1bar, rh)\n",
    "BLW = f_dQLWdf(Tsb, Cb)\n",
    "dTse = -BLW * f1p / (ALH + ALW)\n",
    "\n",
    "dclim[\"dTse\"] = dTse\n",
    "dclim[\"ALH\"] = ALH\n",
    "dclim[\"ALW\"] = ALW\n",
    "dclim[\"BLW\"] = BLW\n",
    "dclim[\"QLW\"] = ALW + BLW * f1p / dTse\n",
    "# dclim.to_netcdf('Q.nc')"
   ]
  },
  {
   "cell_type": "markdown",
   "metadata": {},
   "source": [
    "## Plot Results"
   ]
  },
  {
   "cell_type": "code",
   "execution_count": 9,
   "metadata": {
    "ExecuteTime": {
     "end_time": "2021-03-31T17:54:39.592004Z",
     "start_time": "2021-03-31T17:54:37.022241Z"
    }
   },
   "outputs": [
    {
     "data": {
      "image/png": "[encoded data removed]",
      "text/plain": [
       "<Figure size 576x432 with 12 Axes>"
      ]
     },
     "metadata": {
      "needs_background": "light"
     },
     "output_type": "display_data"
    }
   ],
   "source": [
    "plt.figure(figsize=(8, 6))\n",
    "plt.subplot(321)\n",
    "dp = dclim.dTse0.plot.contourf(\n",
    "    levels=11, cmap=\"jet\", vmin=0.0, vmax=0.6, add_colorbar=0\n",
    ")\n",
    "# ,vmin=-2,vmax=2,add_colorbar=0)\n",
    "plt.title(r\"$T^{\\,\\prime}_s$  for $\\bar U,\\bar C$\")\n",
    "plt.ylabel(\"latitude\")\n",
    "plt.xlabel(\"longitude\")\n",
    "cbar = plt.colorbar(dp)\n",
    "plt.subplot(322)\n",
    "dp = dclim.dTse1.plot.contourf(\n",
    "    levels=11, cmap=\"jet\", vmin=0.0, vmax=0.6, add_colorbar=0\n",
    ")\n",
    "# ,vmin=-2,vmax=2,add_colorbar=0)\n",
    "plt.title(r\"$T^{\\,\\prime}_s$  for $\\bar U(x,y), \\bar C$\")\n",
    "plt.ylabel(\"latitude\")\n",
    "plt.xlabel(\"longitude\")\n",
    "cbar = plt.colorbar(dp)\n",
    "plt.subplot(323)\n",
    "dp = dclim.dTse2.plot.contourf(\n",
    "    levels=11, cmap=\"jet\", vmin=0.0, vmax=0.6, add_colorbar=0\n",
    ")\n",
    "# ,vmin=-2,vmax=2,add_colorbar=0)\n",
    "plt.title(r\"$T^{\\,\\prime}_s$  for $\\bar U, \\bar C(x,y)$\")\n",
    "plt.ylabel(\"latitude\")\n",
    "plt.xlabel(\"longitude\")\n",
    "cbar = plt.colorbar(dp)\n",
    "plt.subplot(324)\n",
    "dp = dclim.dTse.plot.contourf(levels=11, cmap=\"jet\", vmin=0.0, vmax=0.6, add_colorbar=0)\n",
    "# ,vmin=-2,vmax=2,add_colorbar=0)\n",
    "plt.title(r\"$T^{\\,\\prime}_s$  for $\\bar U(x,y), \\bar C(x,y)$\")\n",
    "plt.ylabel(\"latitude\")\n",
    "plt.xlabel(\"longitude\")\n",
    "cbar = plt.colorbar(dp)\n",
    "plt.subplot(325)\n",
    "dp = (dclim.clt / 100).plot.contourf(\n",
    "    levels=11, cmap=\"jet\", vmin=0.0, vmax=1.0, add_colorbar=0\n",
    ")\n",
    "# ,vmin=-2,vmax=2,add_colorbar=0)\n",
    "plt.title(r\"$\\bar C(x,y)$\")\n",
    "plt.ylabel(\"latitude\")\n",
    "plt.xlabel(\"longitude\")\n",
    "cbar = plt.colorbar(dp)\n",
    "plt.subplot(326)\n",
    "dp = Ub.plot.contourf(levels=11, cmap=\"jet\", vmin=4.0, vmax=8.0, add_colorbar=0)\n",
    "# ,vmin=-2,vmax=2,add_colorbar=0)\n",
    "plt.title(r\"$\\bar U(x,y)$\")\n",
    "plt.ylabel(\"latitude\")\n",
    "plt.xlabel(\"longitude\")\n",
    "cbar = plt.colorbar(dp)\n",
    "plt.tight_layout()\n",
    "plt.savefig(\"Tsp4.eps\", format=\"eps\", dpi=1000)\n",
    "plt.show()"
   ]
  },
  {
   "cell_type": "markdown",
   "metadata": {},
   "source": [
    "## Now, save the dQdf and dQdT terms for using in TCOM:"
   ]
  },
  {
   "cell_type": "code",
   "execution_count": 10,
   "metadata": {
    "ExecuteTime": {
     "end_time": "2021-03-31T17:55:01.951568Z",
     "start_time": "2021-03-31T17:55:01.918513Z"
    }
   },
   "outputs": [],
   "source": [
    "# Now, save the dQdf and dQdT terms for using in TCOM:\n",
    "dQdT = ALH + ALW\n",
    "dQdf = BLW\n",
    "\n",
    "# Define the new Dataset\n",
    "dQ = xr.Dataset(\n",
    "    {\n",
    "        \"lon\": (\"lon\", dclim.lon),\n",
    "        \"lat\": (\"lat\", dclim.lat),\n",
    "        \"dQdT\": ([\"lat\", \"lon\"], dQdT),\n",
    "        \"dQdf\": ([\"lat\", \"lon\"], dQdf),\n",
    "    }\n",
    ")\n",
    "dQ.lon.attrs = dclim.lon.attrs\n",
    "dQ.lat.attrs = dclim.lat.attrs\n",
    "dQ.dQdT.attrs = [(\"units\", \"W/m^2/K\")]\n",
    "dQ.dQdf.attrs = [(\"units\", \"W/m^2\")]\n",
    "dQ[\"ALH\"] = ALH\n",
    "dQ[\"ALW\"] = ALW\n",
    "dQ[\"BLW\"] = BLW\n",
    "dQ[\"dTse\"] = dTse\n",
    "dQ[\"rh\"] = rh\n",
    "dQ[\"Ub\"] = Ub\n",
    "dQ[\"Cb\"] = Cb\n",
    "dQ[\"Tsb\"] = Tsb"
   ]
  },
  {
   "cell_type": "code",
   "execution_count": null,
   "metadata": {},
   "outputs": [],
   "source": [
    "dQ.to_netcdf(\"dQ.nc\")"
   ]
  }
 ],
 "metadata": {
  "hide_input": false,
  "kernelspec": {
   "display_name": "Python 3",
   "language": "python",
   "name": "python3"
  },
  "language_info": {
   "codemirror_mode": {
    "name": "ipython",
    "version": 3
   },
   "file_extension": ".py",
   "mimetype": "text/x-python",
   "name": "python",
   "nbconvert_exporter": "python",
   "pygments_lexer": "ipython3",
   "version": "3.8.8"
  },
  "varInspector": {
   "cols": {
    "lenName": 16,
    "lenType": 16,
    "lenVar": 40
   },
   "kernels_config": {
    "python": {
     "delete_cmd_postfix": "",
     "delete_cmd_prefix": "del ",
     "library": "var_list.py",
     "varRefreshCmd": "print(var_dic_list())"
    },
    "r": {
     "delete_cmd_postfix": ") ",
     "delete_cmd_prefix": "rm(",
     "library": "var_list.r",
     "varRefreshCmd": "cat(var_dic_list()) "
    }
   },
   "types_to_exclude": [
    "module",
    "function",
    "builtin_function_or_method",
    "instance",
    "_Feature"
   ],
   "window_display": false
  }
 },
 "nbformat": 4,
 "nbformat_minor": 2
}
