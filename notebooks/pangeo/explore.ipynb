{
 "cells": [
  {
   "cell_type": "markdown",
   "id": "6ca79463",
   "metadata": {},
   "source": [
    "# Analysis"
   ]
  },
  {
   "cell_type": "code",
   "execution_count": 1,
   "id": "a6f3d9fc",
   "metadata": {},
   "outputs": [],
   "source": [
    "# Convenient jupyter setup\n",
    "%load_ext autoreload\n",
    "%autoreload 2\n",
    "%config IPCompleter.greedy=True"
   ]
  },
  {
   "cell_type": "code",
   "execution_count": 3,
   "id": "220089fa-9f3f-48b2-9589-394367b8eec2",
   "metadata": {},
   "outputs": [],
   "source": [
    "import intake\n",
    "cat_url = 'https://raw.githubusercontent.com/pangeo-data/pangeo-datastore/master/intake-catalogs/master.yaml'\n",
    "cat = intake.open_catalog(cat_url)"
   ]
  },
  {
   "cell_type": "code",
   "execution_count": 6,
   "id": "f6aaef86-6790-4702-972e-986c25f523df",
   "metadata": {},
   "outputs": [
    {
     "data": {
      "text/plain": [
       "{'cmip6_gcs': name: cmip6_gcs\n",
       " container: xarray\n",
       " plugin: ['esm_datastore']\n",
       " driver: ['esm_datastore']\n",
       " description: CMIP6 in Google Cloud Storage\n",
       " direct_access: forbid\n",
       " user_parameters: []\n",
       " metadata: \n",
       " args: \n",
       "   esmcol_obj: https://storage.googleapis.com/cmip6/pangeo-cmip6.json,\n",
       " 'cmip6_s3': name: cmip6_s3\n",
       " container: xarray\n",
       " plugin: ['esm_datastore']\n",
       " driver: ['esm_datastore']\n",
       " description: CMIP6 in S3 Storage\n",
       " direct_access: forbid\n",
       " user_parameters: []\n",
       " metadata: \n",
       " args: \n",
       "   esmcol_obj: https://cmip6-pds.s3-us-west-2.amazonaws.com/pangeo-cmip6.json,\n",
       " 'GFDL_CM2_6': name: GFDL_CM2_6\n",
       " container: xarray\n",
       " plugin: ['esm_datastore']\n",
       " driver: ['esm_datastore']\n",
       " description: NOAA-GFDL CM2.6 in Google Cloud Storage\n",
       " direct_access: forbid\n",
       " user_parameters: []\n",
       " metadata: \n",
       " args: \n",
       "   esmcol_obj: https://storage.googleapis.com/cmip6/gfdl_cm2_6.json,\n",
       " 'GFDL_CM2_6_s3': name: GFDL_CM2_6_s3\n",
       " container: xarray\n",
       " plugin: ['esm_datastore']\n",
       " driver: ['esm_datastore']\n",
       " description: NOAA-GFDL CM2.6 in S3 Storage\n",
       " direct_access: forbid\n",
       " user_parameters: []\n",
       " metadata: \n",
       " args: \n",
       "   esmcol_obj: https://cmip6-pds.s3-us-west-2.amazonaws.com/gfdl_cm2_6.json,\n",
       " 'tracmip': name: tracmip\n",
       " container: xarray\n",
       " plugin: ['esm_datastore']\n",
       " driver: ['esm_datastore']\n",
       " description: TRACMIP in Pangeo Google Cloud Storage\n",
       " direct_access: forbid\n",
       " user_parameters: []\n",
       " metadata: \n",
       " args: \n",
       "   esmcol_obj: https://storage.googleapis.com/cmip6/tracmip.json,\n",
       " 'tracmip_s3': name: tracmip_s3\n",
       " container: xarray\n",
       " plugin: ['esm_datastore']\n",
       " driver: ['esm_datastore']\n",
       " description: TRACMIP in Pangeo S3 Storage\n",
       " direct_access: forbid\n",
       " user_parameters: []\n",
       " metadata: \n",
       " args: \n",
       "   esmcol_obj: https://cmip6-pds.s3-us-west-2.amazonaws.com/tracmip.json}"
      ]
     },
     "execution_count": 6,
     "metadata": {},
     "output_type": "execute_result"
    }
   ],
   "source": [
    "cat.climate.walk(depth=1)"
   ]
  },
  {
   "cell_type": "code",
   "execution_count": 8,
   "id": "93758636-de18-48ba-86e9-2173ae8c2422",
   "metadata": {},
   "outputs": [
    {
     "data": {
      "text/plain": [
       "{'gmet_v1': name: gmet_v1\n",
       " container: xarray\n",
       " plugin: ['zarr']\n",
       " driver: ['zarr']\n",
       " description: Full GMET version 1 (Newman) met ensemble in zarr format\n",
       " direct_access: forbid\n",
       " user_parameters: []\n",
       " metadata: \n",
       " args: \n",
       "   urlpath: gs://pangeo-ncar-gmet\n",
       "   consolidated: True\n",
       "   storage_options: \n",
       "     requester_pays: True,\n",
       " 'trmm_3b42rt': name: trmm_3b42rt\n",
       " container: xarray\n",
       " plugin: ['zarr']\n",
       " driver: ['zarr']\n",
       " description: Near real time rainfall estimates from NASA's Tropical Rainfall Measuring Mission\n",
       " direct_access: forbid\n",
       " user_parameters: []\n",
       " metadata: \n",
       "   url: https://trmm.gsfc.nasa.gov/data_dir/data.html\n",
       "   tags: ['precipitation', 'satellite']\n",
       " args: \n",
       "   urlpath: gs://pangeo-nasa-trmm\n",
       "   consolidated: True\n",
       "   storage_options: \n",
       "     requester_pays: True,\n",
       " 'sam_ngaqua_qobs_eqx_3d': name: sam_ngaqua_qobs_eqx_3d\n",
       " container: xarray\n",
       " plugin: ['zarr']\n",
       " driver: ['zarr']\n",
       " description: 3D fields from a near-global Aquaplanet Simulation with the System for Atmospheric Modeling\n",
       " direct_access: forbid\n",
       " user_parameters: []\n",
       " metadata: \n",
       "   tags: ['atmosphere', 'model']\n",
       " args: \n",
       "   urlpath: gs://pangeo-vulcan-sam/3d\n",
       "   consolidated: True\n",
       "   storage_options: \n",
       "     requester_pays: True,\n",
       " 'sam_ngaqua_qobs_eqx_2d': name: sam_ngaqua_qobs_eqx_2d\n",
       " container: xarray\n",
       " plugin: ['zarr']\n",
       " driver: ['zarr']\n",
       " description: 2D fields from a near-global Aquaplanet Simulation with the System for Atmospheric Modeling\n",
       " direct_access: forbid\n",
       " user_parameters: []\n",
       " metadata: \n",
       "   tags: ['atmosphere', 'model']\n",
       " args: \n",
       "   urlpath: gs://pangeo-vulcan-sam/2d\n",
       "   consolidated: True\n",
       "   storage_options: \n",
       "     requester_pays: True,\n",
       " 'gpcp_cdr_daily_v1_3': name: gpcp_cdr_daily_v1_3\n",
       " container: xarray\n",
       " plugin: ['zarr']\n",
       " driver: ['zarr']\n",
       " description: 3D fields from a near-global Aquaplanet Simulation with the System for Atmospheric Modeling\n",
       " direct_access: forbid\n",
       " user_parameters: []\n",
       " metadata: \n",
       "   title: Global Precipitation Climatatology Project (GPCP) Climate Data Record (CDR), Daily V1.3\n",
       "   url: https://climatedataguide.ucar.edu/climate-data/gpcp-daily-global-precipitation-climatology-project\n",
       "   tags: ['atmosphere', 'model']\n",
       " args: \n",
       "   urlpath: gs://pangeo-noaa-esrl-gpcp\n",
       "   consolidated: True\n",
       "   storage_options: \n",
       "     requester_pays: True,\n",
       " 'wrf50_erai': name: wrf50_erai\n",
       " container: xarray\n",
       " plugin: ['zarr']\n",
       " driver: ['zarr']\n",
       " description: Daily meteorology from 50km WRF simulation forced with ERA-Interim\n",
       " direct_access: forbid\n",
       " user_parameters: []\n",
       " metadata: \n",
       " args: \n",
       "   urlpath: gs://pangeo-ncar-wrf\n",
       "   consolidated: True\n",
       "   storage_options: \n",
       "     requester_pays: True,\n",
       " 'era5_hourly_reanalysis_single_levels_sa': name: era5_hourly_reanalysis_single_levels_sa\n",
       " container: xarray\n",
       " plugin: ['zarr']\n",
       " driver: ['zarr']\n",
       " description: ERA5 hourly estimates of variables on single levels\n",
       " direct_access: forbid\n",
       " user_parameters: []\n",
       " metadata: \n",
       "   url: https://cds.climate.copernicus.eu/cdsapp#!/dataset/reanalysis-era5-single-levels\n",
       "   tags: ['ocean', 'model', 'atmosphere']\n",
       " args: \n",
       "   urlpath: gs://pangeo-era5/reanalysis/spatial-analysis\n",
       "   consolidated: True\n",
       "   storage_options: \n",
       "     requester_pays: True,\n",
       " 'nasa_ccmp_wind_vectors': name: nasa_ccmp_wind_vectors\n",
       " container: xarray\n",
       " plugin: ['zarr']\n",
       " driver: ['zarr']\n",
       " description: gap-free 6-hourly surface wind fields\n",
       " direct_access: forbid\n",
       " user_parameters: []\n",
       " metadata: \n",
       "   url: https://podaac.jpl.nasa.gov/MEaSUREs-CCMP?sections=about\n",
       "   tags: ['ocean', 'atmosphere']\n",
       " args: \n",
       "   urlpath: gs://pangeo-nasa-ccmp/zarr\n",
       "   consolidated: True\n",
       "   storage_options: \n",
       "     requester_pays: True}"
      ]
     },
     "execution_count": 8,
     "metadata": {},
     "output_type": "execute_result"
    }
   ],
   "source": [
    "cat.atmosphere.walk(depth=1)"
   ]
  },
  {
   "cell_type": "code",
   "execution_count": null,
   "id": "1519ac38-a950-49e3-bedf-eaaa6033f784",
   "metadata": {},
   "outputs": [],
   "source": []
  }
 ],
 "metadata": {
  "hide_input": false,
  "kernelspec": {
   "display_name": "Python 3 (ipykernel)",
   "language": "python",
   "name": "python3"
  },
  "language_info": {
   "codemirror_mode": {
    "name": "ipython",
    "version": 3
   },
   "file_extension": ".py",
   "mimetype": "text/x-python",
   "name": "python",
   "nbconvert_exporter": "python",
   "pygments_lexer": "ipython3",
   "version": "3.9.10"
  },
  "varInspector": {
   "cols": {
    "lenName": 16,
    "lenType": 16,
    "lenVar": 40
   },
   "kernels_config": {
    "python": {
     "delete_cmd_postfix": "",
     "delete_cmd_prefix": "del ",
     "library": "var_list.py",
     "varRefreshCmd": "print(var_dic_list())"
    },
    "r": {
     "delete_cmd_postfix": ") ",
     "delete_cmd_prefix": "rm(",
     "library": "var_list.r",
     "varRefreshCmd": "cat(var_dic_list()) "
    }
   },
   "types_to_exclude": [
    "module",
    "function",
    "builtin_function_or_method",
    "instance",
    "_Feature"
   ],
   "window_display": false
  }
 },
 "nbformat": 4,
 "nbformat_minor": 5
}
