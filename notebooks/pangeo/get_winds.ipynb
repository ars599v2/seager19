{
 "cells": [
  {
   "cell_type": "code",
   "execution_count": 1,
   "id": "excellent-result",
   "metadata": {},
   "outputs": [],
   "source": [
    "from src.data_loading.get_cmip6 import GetEnsemble"
   ]
  },
  {
   "cell_type": "code",
   "execution_count": 2,
   "id": "productive-parallel",
   "metadata": {},
   "outputs": [
    {
     "name": "stdout",
     "output_type": "stream",
     "text": [
      "CNRM-CERFACS\n",
      "\n",
      "--> The keys in the returned dictionary of datasets are constructed as follows:\n",
      "\t'activity_id.institution_id.source_id.experiment_id.table_id.grid_label'\n",
      "Failed to apply pre-processing function: preproc\n",
      "CNRM-CERFACS failed\n",
      "NCC\n",
      "\n",
      "--> The keys in the returned dictionary of datasets are constructed as follows:\n",
      "\t'activity_id.institution_id.source_id.experiment_id.table_id.grid_label'\n"
     ]
    },
    {
     "name": "stderr",
     "output_type": "stream",
     "text": [
      "/srv/conda/envs/notebook/lib/python3.8/site-packages/cmip6_preprocessing/preprocessing.py:286: UserWarning: Found time as dimension in `lat_bounds`. Assuming this is an error and just picking the first step along that dimension.\n",
      "  warnings.warn(\n"
     ]
    },
    {
     "name": "stdout",
     "output_type": "stream",
     "text": [
      "Failed to apply pre-processing function: preproc\n",
      "NCC failed\n",
      "AS-RCEC\n"
     ]
    },
    {
     "name": "stderr",
     "output_type": "stream",
     "text": [
      "/srv/conda/envs/notebook/lib/python3.8/site-packages/intake_esm/search.py:107: UserWarning: Query returned zero results.\n",
      "  warn(message)\n",
      "/srv/conda/envs/notebook/lib/python3.8/site-packages/intake_esm/core.py:890: UserWarning: There are no datasets to load! Returning an empty dictionary.\n",
      "  warn('There are no datasets to load! Returning an empty dictionary.')\n"
     ]
    },
    {
     "name": "stdout",
     "output_type": "stream",
     "text": [
      "ECMWF\n"
     ]
    },
    {
     "name": "stderr",
     "output_type": "stream",
     "text": [
      "/srv/conda/envs/notebook/lib/python3.8/site-packages/intake_esm/search.py:107: UserWarning: Query returned zero results.\n",
      "  warn(message)\n",
      "/srv/conda/envs/notebook/lib/python3.8/site-packages/intake_esm/core.py:890: UserWarning: There are no datasets to load! Returning an empty dictionary.\n",
      "  warn('There are no datasets to load! Returning an empty dictionary.')\n"
     ]
    },
    {
     "name": "stdout",
     "output_type": "stream",
     "text": [
      "MRI\n",
      "\n",
      "--> The keys in the returned dictionary of datasets are constructed as follows:\n",
      "\t'activity_id.institution_id.source_id.experiment_id.table_id.grid_label'\n",
      "Failed to apply pre-processing function: preproc\n",
      "MRI failed\n",
      "NERC\n",
      "UA\n"
     ]
    },
    {
     "name": "stderr",
     "output_type": "stream",
     "text": [
      "/srv/conda/envs/notebook/lib/python3.8/site-packages/intake_esm/search.py:107: UserWarning: Query returned zero results.\n",
      "  warn(message)\n",
      "/srv/conda/envs/notebook/lib/python3.8/site-packages/intake_esm/core.py:890: UserWarning: There are no datasets to load! Returning an empty dictionary.\n",
      "  warn('There are no datasets to load! Returning an empty dictionary.')\n"
     ]
    },
    {
     "name": "stdout",
     "output_type": "stream",
     "text": [
      "\n",
      "--> The keys in the returned dictionary of datasets are constructed as follows:\n",
      "\t'activity_id.institution_id.source_id.experiment_id.table_id.grid_label'\n"
     ]
    },
    {
     "data": {
      "text/html": [
       "\n",
       "    <div>\n",
       "        <style>\n",
       "            /* Turns off some styling */\n",
       "            progress {\n",
       "                /* gets rid of default border in Firefox and Opera. */\n",
       "                border: none;\n",
       "                /* Needs to be in here for Safari polyfill so background images work as expected. */\n",
       "                background-size: auto;\n",
       "            }\n",
       "            .progress-bar-interrupted, .progress-bar-interrupted::-webkit-progress-bar {\n",
       "                background: #F44336;\n",
       "            }\n",
       "        </style>\n",
       "      <progress value='1' class='' max='1' style='width:300px; height:20px; vertical-align: middle;'></progress>\n",
       "      100.00% [1/1 00:00<00:00]\n",
       "    </div>\n",
       "    "
      ],
      "text/plain": [
       "<IPython.core.display.HTML object>"
      ]
     },
     "metadata": {},
     "output_type": "display_data"
    },
    {
     "name": "stdout",
     "output_type": "stream",
     "text": [
      "BCC\n",
      "\n",
      "--> The keys in the returned dictionary of datasets are constructed as follows:\n",
      "\t'activity_id.institution_id.source_id.experiment_id.table_id.grid_label'\n"
     ]
    },
    {
     "data": {
      "text/html": [
       "\n",
       "    <div>\n",
       "        <style>\n",
       "            /* Turns off some styling */\n",
       "            progress {\n",
       "                /* gets rid of default border in Firefox and Opera. */\n",
       "                border: none;\n",
       "                /* Needs to be in here for Safari polyfill so background images work as expected. */\n",
       "                background-size: auto;\n",
       "            }\n",
       "            .progress-bar-interrupted, .progress-bar-interrupted::-webkit-progress-bar {\n",
       "                background: #F44336;\n",
       "            }\n",
       "        </style>\n",
       "      <progress value='2' class='' max='2' style='width:300px; height:20px; vertical-align: middle;'></progress>\n",
       "      100.00% [2/2 00:00<00:00]\n",
       "    </div>\n",
       "    "
      ],
      "text/plain": [
       "<IPython.core.display.HTML object>"
      ]
     },
     "metadata": {},
     "output_type": "display_data"
    },
    {
     "name": "stdout",
     "output_type": "stream",
     "text": [
      "INM\n",
      "\n",
      "--> The keys in the returned dictionary of datasets are constructed as follows:\n",
      "\t'activity_id.institution_id.source_id.experiment_id.table_id.grid_label'\n"
     ]
    },
    {
     "data": {
      "text/html": [
       "\n",
       "    <div>\n",
       "        <style>\n",
       "            /* Turns off some styling */\n",
       "            progress {\n",
       "                /* gets rid of default border in Firefox and Opera. */\n",
       "                border: none;\n",
       "                /* Needs to be in here for Safari polyfill so background images work as expected. */\n",
       "                background-size: auto;\n",
       "            }\n",
       "            .progress-bar-interrupted, .progress-bar-interrupted::-webkit-progress-bar {\n",
       "                background: #F44336;\n",
       "            }\n",
       "        </style>\n",
       "      <progress value='2' class='' max='2' style='width:300px; height:20px; vertical-align: middle;'></progress>\n",
       "      100.00% [2/2 00:01<00:00]\n",
       "    </div>\n",
       "    "
      ],
      "text/plain": [
       "<IPython.core.display.HTML object>"
      ]
     },
     "metadata": {},
     "output_type": "display_data"
    },
    {
     "name": "stdout",
     "output_type": "stream",
     "text": [
      "DWD\n",
      "EC-Earth-Consortium\n"
     ]
    },
    {
     "name": "stderr",
     "output_type": "stream",
     "text": [
      "/srv/conda/envs/notebook/lib/python3.8/site-packages/intake_esm/search.py:107: UserWarning: Query returned zero results.\n",
      "  warn(message)\n",
      "/srv/conda/envs/notebook/lib/python3.8/site-packages/intake_esm/core.py:890: UserWarning: There are no datasets to load! Returning an empty dictionary.\n",
      "  warn('There are no datasets to load! Returning an empty dictionary.')\n"
     ]
    },
    {
     "name": "stdout",
     "output_type": "stream",
     "text": [
      "\n",
      "--> The keys in the returned dictionary of datasets are constructed as follows:\n",
      "\t'activity_id.institution_id.source_id.experiment_id.table_id.grid_label'\n",
      "Failed to apply pre-processing function: preproc\n",
      "EC-Earth-Consortium failed\n",
      "IPSL\n",
      "\n",
      "--> The keys in the returned dictionary of datasets are constructed as follows:\n",
      "\t'activity_id.institution_id.source_id.experiment_id.table_id.grid_label'\n"
     ]
    },
    {
     "data": {
      "text/html": [
       "\n",
       "    <div>\n",
       "        <style>\n",
       "            /* Turns off some styling */\n",
       "            progress {\n",
       "                /* gets rid of default border in Firefox and Opera. */\n",
       "                border: none;\n",
       "                /* Needs to be in here for Safari polyfill so background images work as expected. */\n",
       "                background-size: auto;\n",
       "            }\n",
       "            .progress-bar-interrupted, .progress-bar-interrupted::-webkit-progress-bar {\n",
       "                background: #F44336;\n",
       "            }\n",
       "        </style>\n",
       "      <progress value='0' class='' max='3' style='width:300px; height:20px; vertical-align: middle;'></progress>\n",
       "      0.00% [0/3 00:00<00:00]\n",
       "    </div>\n",
       "    "
      ],
      "text/plain": [
       "<IPython.core.display.HTML object>"
      ]
     },
     "metadata": {},
     "output_type": "display_data"
    },
    {
     "name": "stdout",
     "output_type": "stream",
     "text": [
      "Failed to apply pre-processing function: preproc\n",
      "IPSL failed\n",
      "MOHC\n",
      "\n",
      "--> The keys in the returned dictionary of datasets are constructed as follows:\n",
      "\t'activity_id.institution_id.source_id.experiment_id.table_id.grid_label'\n"
     ]
    },
    {
     "data": {
      "text/html": [
       "\n",
       "    <div>\n",
       "        <style>\n",
       "            /* Turns off some styling */\n",
       "            progress {\n",
       "                /* gets rid of default border in Firefox and Opera. */\n",
       "                border: none;\n",
       "                /* Needs to be in here for Safari polyfill so background images work as expected. */\n",
       "                background-size: auto;\n",
       "            }\n",
       "            .progress-bar-interrupted, .progress-bar-interrupted::-webkit-progress-bar {\n",
       "                background: #F44336;\n",
       "            }\n",
       "        </style>\n",
       "      <progress value='3' class='' max='3' style='width:300px; height:20px; vertical-align: middle;'></progress>\n",
       "      100.00% [3/3 00:02<00:00]\n",
       "    </div>\n",
       "    "
      ],
      "text/plain": [
       "<IPython.core.display.HTML object>"
      ]
     },
     "metadata": {},
     "output_type": "display_data"
    },
    {
     "name": "stdout",
     "output_type": "stream",
     "text": [
      "CCCma\n",
      "\n",
      "--> The keys in the returned dictionary of datasets are constructed as follows:\n",
      "\t'activity_id.institution_id.source_id.experiment_id.table_id.grid_label'\n"
     ]
    },
    {
     "data": {
      "text/html": [
       "\n",
       "    <div>\n",
       "        <style>\n",
       "            /* Turns off some styling */\n",
       "            progress {\n",
       "                /* gets rid of default border in Firefox and Opera. */\n",
       "                border: none;\n",
       "                /* Needs to be in here for Safari polyfill so background images work as expected. */\n",
       "                background-size: auto;\n",
       "            }\n",
       "            .progress-bar-interrupted, .progress-bar-interrupted::-webkit-progress-bar {\n",
       "                background: #F44336;\n",
       "            }\n",
       "        </style>\n",
       "      <progress value='2' class='' max='2' style='width:300px; height:20px; vertical-align: middle;'></progress>\n",
       "      100.00% [2/2 00:14<00:00]\n",
       "    </div>\n",
       "    "
      ],
      "text/plain": [
       "<IPython.core.display.HTML object>"
      ]
     },
     "metadata": {},
     "output_type": "display_data"
    },
    {
     "name": "stdout",
     "output_type": "stream",
     "text": [
      "KIOST\n",
      "\n",
      "--> The keys in the returned dictionary of datasets are constructed as follows:\n",
      "\t'activity_id.institution_id.source_id.experiment_id.table_id.grid_label'\n"
     ]
    },
    {
     "data": {
      "text/html": [
       "\n",
       "    <div>\n",
       "        <style>\n",
       "            /* Turns off some styling */\n",
       "            progress {\n",
       "                /* gets rid of default border in Firefox and Opera. */\n",
       "                border: none;\n",
       "                /* Needs to be in here for Safari polyfill so background images work as expected. */\n",
       "                background-size: auto;\n",
       "            }\n",
       "            .progress-bar-interrupted, .progress-bar-interrupted::-webkit-progress-bar {\n",
       "                background: #F44336;\n",
       "            }\n",
       "        </style>\n",
       "      <progress value='1' class='' max='1' style='width:300px; height:20px; vertical-align: middle;'></progress>\n",
       "      100.00% [1/1 00:00<00:00]\n",
       "    </div>\n",
       "    "
      ],
      "text/plain": [
       "<IPython.core.display.HTML object>"
      ]
     },
     "metadata": {},
     "output_type": "display_data"
    },
    {
     "name": "stdout",
     "output_type": "stream",
     "text": [
      "NASA-GISS\n",
      "\n",
      "--> The keys in the returned dictionary of datasets are constructed as follows:\n",
      "\t'activity_id.institution_id.source_id.experiment_id.table_id.grid_label'\n"
     ]
    },
    {
     "data": {
      "text/html": [
       "\n",
       "    <div>\n",
       "        <style>\n",
       "            /* Turns off some styling */\n",
       "            progress {\n",
       "                /* gets rid of default border in Firefox and Opera. */\n",
       "                border: none;\n",
       "                /* Needs to be in here for Safari polyfill so background images work as expected. */\n",
       "                background-size: auto;\n",
       "            }\n",
       "            .progress-bar-interrupted, .progress-bar-interrupted::-webkit-progress-bar {\n",
       "                background: #F44336;\n",
       "            }\n",
       "        </style>\n",
       "      <progress value='3' class='' max='3' style='width:300px; height:20px; vertical-align: middle;'></progress>\n",
       "      100.00% [3/3 00:15<00:00]\n",
       "    </div>\n",
       "    "
      ],
      "text/plain": [
       "<IPython.core.display.HTML object>"
      ]
     },
     "metadata": {},
     "output_type": "display_data"
    },
    {
     "name": "stdout",
     "output_type": "stream",
     "text": [
      "CCCR-IITM\n",
      "\n",
      "--> The keys in the returned dictionary of datasets are constructed as follows:\n",
      "\t'activity_id.institution_id.source_id.experiment_id.table_id.grid_label'\n"
     ]
    },
    {
     "data": {
      "text/html": [
       "\n",
       "    <div>\n",
       "        <style>\n",
       "            /* Turns off some styling */\n",
       "            progress {\n",
       "                /* gets rid of default border in Firefox and Opera. */\n",
       "                border: none;\n",
       "                /* Needs to be in here for Safari polyfill so background images work as expected. */\n",
       "                background-size: auto;\n",
       "            }\n",
       "            .progress-bar-interrupted, .progress-bar-interrupted::-webkit-progress-bar {\n",
       "                background: #F44336;\n",
       "            }\n",
       "        </style>\n",
       "      <progress value='1' class='' max='1' style='width:300px; height:20px; vertical-align: middle;'></progress>\n",
       "      100.00% [1/1 00:00<00:00]\n",
       "    </div>\n",
       "    "
      ],
      "text/plain": [
       "<IPython.core.display.HTML object>"
      ]
     },
     "metadata": {},
     "output_type": "display_data"
    },
    {
     "name": "stdout",
     "output_type": "stream",
     "text": [
      "ACCESS-ESM1-5\n",
      "E3SM-Project\n"
     ]
    },
    {
     "name": "stderr",
     "output_type": "stream",
     "text": [
      "/srv/conda/envs/notebook/lib/python3.8/site-packages/intake_esm/search.py:107: UserWarning: Query returned zero results.\n",
      "  warn(message)\n",
      "/srv/conda/envs/notebook/lib/python3.8/site-packages/intake_esm/core.py:890: UserWarning: There are no datasets to load! Returning an empty dictionary.\n",
      "  warn('There are no datasets to load! Returning an empty dictionary.')\n"
     ]
    },
    {
     "name": "stdout",
     "output_type": "stream",
     "text": [
      "DKRZ\n",
      "RUBISCO\n",
      "CSIRO-ARCCSS\n",
      "\n",
      "--> The keys in the returned dictionary of datasets are constructed as follows:\n",
      "\t'activity_id.institution_id.source_id.experiment_id.table_id.grid_label'\n",
      "Failed to apply pre-processing function: preproc\n",
      "CSIRO-ARCCSS failed\n",
      "NIMS-KMA\n",
      "\n",
      "--> The keys in the returned dictionary of datasets are constructed as follows:\n",
      "\t'activity_id.institution_id.source_id.experiment_id.table_id.grid_label'\n"
     ]
    },
    {
     "data": {
      "text/html": [
       "\n",
       "    <div>\n",
       "        <style>\n",
       "            /* Turns off some styling */\n",
       "            progress {\n",
       "                /* gets rid of default border in Firefox and Opera. */\n",
       "                border: none;\n",
       "                /* Needs to be in here for Safari polyfill so background images work as expected. */\n",
       "                background-size: auto;\n",
       "            }\n",
       "            .progress-bar-interrupted, .progress-bar-interrupted::-webkit-progress-bar {\n",
       "                background: #F44336;\n",
       "            }\n",
       "        </style>\n",
       "      <progress value='2' class='' max='2' style='width:300px; height:20px; vertical-align: middle;'></progress>\n",
       "      100.00% [2/2 00:00<00:00]\n",
       "    </div>\n",
       "    "
      ],
      "text/plain": [
       "<IPython.core.display.HTML object>"
      ]
     },
     "metadata": {},
     "output_type": "display_data"
    },
    {
     "name": "stdout",
     "output_type": "stream",
     "text": [
      "NOAA-GFDL\n",
      "\n",
      "--> The keys in the returned dictionary of datasets are constructed as follows:\n",
      "\t'activity_id.institution_id.source_id.experiment_id.table_id.grid_label'\n"
     ]
    },
    {
     "data": {
      "text/html": [
       "\n",
       "    <div>\n",
       "        <style>\n",
       "            /* Turns off some styling */\n",
       "            progress {\n",
       "                /* gets rid of default border in Firefox and Opera. */\n",
       "                border: none;\n",
       "                /* Needs to be in here for Safari polyfill so background images work as expected. */\n",
       "                background-size: auto;\n",
       "            }\n",
       "            .progress-bar-interrupted, .progress-bar-interrupted::-webkit-progress-bar {\n",
       "                background: #F44336;\n",
       "            }\n",
       "        </style>\n",
       "      <progress value='2' class='' max='2' style='width:300px; height:20px; vertical-align: middle;'></progress>\n",
       "      100.00% [2/2 00:00<00:00]\n",
       "    </div>\n",
       "    "
      ],
      "text/plain": [
       "<IPython.core.display.HTML object>"
      ]
     },
     "metadata": {},
     "output_type": "display_data"
    },
    {
     "name": "stdout",
     "output_type": "stream",
     "text": [
      "CAS\n",
      "\n",
      "--> The keys in the returned dictionary of datasets are constructed as follows:\n",
      "\t'activity_id.institution_id.source_id.experiment_id.table_id.grid_label'\n"
     ]
    },
    {
     "name": "stderr",
     "output_type": "stream",
     "text": [
      "/srv/conda/envs/notebook/lib/python3.8/site-packages/cmip6_preprocessing/preprocessing.py:267: UserWarning: `FGOALS-f3-L` does not provide lon or lat bounds.\n",
      "  warnings.warn(\"`FGOALS-f3-L` does not provide lon or lat bounds.\")\n",
      "/srv/conda/envs/notebook/lib/python3.8/site-packages/cmip6_preprocessing/preprocessing.py:267: UserWarning: `FGOALS-f3-L` does not provide lon or lat bounds.\n",
      "  warnings.warn(\"`FGOALS-f3-L` does not provide lon or lat bounds.\")\n",
      "/srv/conda/envs/notebook/lib/python3.8/site-packages/cmip6_preprocessing/preprocessing.py:267: UserWarning: `FGOALS-f3-L` does not provide lon or lat bounds.\n",
      "  warnings.warn(\"`FGOALS-f3-L` does not provide lon or lat bounds.\")\n"
     ]
    },
    {
     "data": {
      "text/html": [
       "\n",
       "    <div>\n",
       "        <style>\n",
       "            /* Turns off some styling */\n",
       "            progress {\n",
       "                /* gets rid of default border in Firefox and Opera. */\n",
       "                border: none;\n",
       "                /* Needs to be in here for Safari polyfill so background images work as expected. */\n",
       "                background-size: auto;\n",
       "            }\n",
       "            .progress-bar-interrupted, .progress-bar-interrupted::-webkit-progress-bar {\n",
       "                background: #F44336;\n",
       "            }\n",
       "        </style>\n",
       "      <progress value='2' class='' max='2' style='width:300px; height:20px; vertical-align: middle;'></progress>\n",
       "      100.00% [2/2 00:00<00:00]\n",
       "    </div>\n",
       "    "
      ],
      "text/plain": [
       "<IPython.core.display.HTML object>"
      ]
     },
     "metadata": {},
     "output_type": "display_data"
    },
    {
     "name": "stdout",
     "output_type": "stream",
     "text": [
      "CMCC\n",
      "\n",
      "--> The keys in the returned dictionary of datasets are constructed as follows:\n",
      "\t'activity_id.institution_id.source_id.experiment_id.table_id.grid_label'\n"
     ]
    },
    {
     "data": {
      "text/html": [
       "\n",
       "    <div>\n",
       "        <style>\n",
       "            /* Turns off some styling */\n",
       "            progress {\n",
       "                /* gets rid of default border in Firefox and Opera. */\n",
       "                border: none;\n",
       "                /* Needs to be in here for Safari polyfill so background images work as expected. */\n",
       "                background-size: auto;\n",
       "            }\n",
       "            .progress-bar-interrupted, .progress-bar-interrupted::-webkit-progress-bar {\n",
       "                background: #F44336;\n",
       "            }\n",
       "        </style>\n",
       "      <progress value='3' class='' max='3' style='width:300px; height:20px; vertical-align: middle;'></progress>\n",
       "      100.00% [3/3 00:00<00:00]\n",
       "    </div>\n",
       "    "
      ],
      "text/plain": [
       "<IPython.core.display.HTML object>"
      ]
     },
     "metadata": {},
     "output_type": "display_data"
    },
    {
     "name": "stdout",
     "output_type": "stream",
     "text": [
      "THU\n",
      "MPI-M\n"
     ]
    },
    {
     "name": "stderr",
     "output_type": "stream",
     "text": [
      "/srv/conda/envs/notebook/lib/python3.8/site-packages/intake_esm/search.py:107: UserWarning: Query returned zero results.\n",
      "  warn(message)\n",
      "/srv/conda/envs/notebook/lib/python3.8/site-packages/intake_esm/core.py:890: UserWarning: There are no datasets to load! Returning an empty dictionary.\n",
      "  warn('There are no datasets to load! Returning an empty dictionary.')\n"
     ]
    },
    {
     "name": "stdout",
     "output_type": "stream",
     "text": [
      "\n",
      "--> The keys in the returned dictionary of datasets are constructed as follows:\n",
      "\t'activity_id.institution_id.source_id.experiment_id.table_id.grid_label'\n",
      "Failed to apply pre-processing function: preproc\n",
      "MPI-M failed\n",
      "CSIRO\n",
      "\n",
      "--> The keys in the returned dictionary of datasets are constructed as follows:\n",
      "\t'activity_id.institution_id.source_id.experiment_id.table_id.grid_label'\n",
      "Failed to apply pre-processing function: preproc\n",
      "CSIRO failed\n",
      "CAMS\n",
      "\n",
      "--> The keys in the returned dictionary of datasets are constructed as follows:\n",
      "\t'activity_id.institution_id.source_id.experiment_id.table_id.grid_label'\n"
     ]
    },
    {
     "data": {
      "text/html": [
       "\n",
       "    <div>\n",
       "        <style>\n",
       "            /* Turns off some styling */\n",
       "            progress {\n",
       "                /* gets rid of default border in Firefox and Opera. */\n",
       "                border: none;\n",
       "                /* Needs to be in here for Safari polyfill so background images work as expected. */\n",
       "                background-size: auto;\n",
       "            }\n",
       "            .progress-bar-interrupted, .progress-bar-interrupted::-webkit-progress-bar {\n",
       "                background: #F44336;\n",
       "            }\n",
       "        </style>\n",
       "      <progress value='1' class='' max='1' style='width:300px; height:20px; vertical-align: middle;'></progress>\n",
       "      100.00% [1/1 00:00<00:00]\n",
       "    </div>\n",
       "    "
      ],
      "text/plain": [
       "<IPython.core.display.HTML object>"
      ]
     },
     "metadata": {},
     "output_type": "display_data"
    },
    {
     "name": "stdout",
     "output_type": "stream",
     "text": [
      "NCAR\n",
      "NUIST\n"
     ]
    },
    {
     "name": "stderr",
     "output_type": "stream",
     "text": [
      "/srv/conda/envs/notebook/lib/python3.8/site-packages/intake_esm/search.py:107: UserWarning: Query returned zero results.\n",
      "  warn(message)\n",
      "/srv/conda/envs/notebook/lib/python3.8/site-packages/intake_esm/core.py:890: UserWarning: There are no datasets to load! Returning an empty dictionary.\n",
      "  warn('There are no datasets to load! Returning an empty dictionary.')\n"
     ]
    },
    {
     "name": "stdout",
     "output_type": "stream",
     "text": [
      "\n",
      "--> The keys in the returned dictionary of datasets are constructed as follows:\n",
      "\t'activity_id.institution_id.source_id.experiment_id.table_id.grid_label'\n",
      "Failed to apply pre-processing function: preproc\n",
      "NUIST failed\n",
      "MIROC\n",
      "\n",
      "--> The keys in the returned dictionary of datasets are constructed as follows:\n",
      "\t'activity_id.institution_id.source_id.experiment_id.table_id.grid_label'\n",
      "Failed to apply pre-processing function: preproc\n",
      "MIROC failed\n",
      "SNU\n"
     ]
    },
    {
     "name": "stderr",
     "output_type": "stream",
     "text": [
      "/srv/conda/envs/notebook/lib/python3.8/site-packages/intake_esm/search.py:107: UserWarning: Query returned zero results.\n",
      "  warn(message)\n",
      "/srv/conda/envs/notebook/lib/python3.8/site-packages/intake_esm/core.py:890: UserWarning: There are no datasets to load! Returning an empty dictionary.\n",
      "  warn('There are no datasets to load! Returning an empty dictionary.')\n"
     ]
    },
    {
     "name": "stdout",
     "output_type": "stream",
     "text": [
      "FIO-QLNM\n"
     ]
    },
    {
     "name": "stderr",
     "output_type": "stream",
     "text": [
      "/srv/conda/envs/notebook/lib/python3.8/site-packages/intake_esm/search.py:107: UserWarning: Query returned zero results.\n",
      "  warn(message)\n",
      "/srv/conda/envs/notebook/lib/python3.8/site-packages/intake_esm/core.py:890: UserWarning: There are no datasets to load! Returning an empty dictionary.\n",
      "  warn('There are no datasets to load! Returning an empty dictionary.')\n"
     ]
    },
    {
     "name": "stdout",
     "output_type": "stream",
     "text": [
      "AWI\n",
      "\n",
      "--> The keys in the returned dictionary of datasets are constructed as follows:\n",
      "\t'activity_id.institution_id.source_id.experiment_id.table_id.grid_label'\n",
      "Failed to apply pre-processing function: preproc\n",
      "AWI failed\n",
      "HAMMOZ-Consortium\n",
      "\n",
      "--> The keys in the returned dictionary of datasets are constructed as follows:\n",
      "\t'activity_id.institution_id.source_id.experiment_id.table_id.grid_label'\n",
      "Failed to apply pre-processing function: preproc\n",
      "HAMMOZ-Consortium failed\n",
      "\n",
      "--> The keys in the returned dictionary of datasets are constructed as follows:\n",
      "\t'activity_id.institution_id.source_id.experiment_id.table_id.grid_label'\n"
     ]
    },
    {
     "data": {
      "text/html": [
       "\n",
       "    <div>\n",
       "        <style>\n",
       "            /* Turns off some styling */\n",
       "            progress {\n",
       "                /* gets rid of default border in Firefox and Opera. */\n",
       "                border: none;\n",
       "                /* Needs to be in here for Safari polyfill so background images work as expected. */\n",
       "                background-size: auto;\n",
       "            }\n",
       "            .progress-bar-interrupted, .progress-bar-interrupted::-webkit-progress-bar {\n",
       "                background: #F44336;\n",
       "            }\n",
       "        </style>\n",
       "      <progress value='23' class='' max='23' style='width:300px; height:20px; vertical-align: middle;'></progress>\n",
       "      100.00% [23/23 00:31<00:00]\n",
       "    </div>\n",
       "    "
      ],
      "text/plain": [
       "<IPython.core.display.HTML object>"
      ]
     },
     "metadata": {},
     "output_type": "display_data"
    },
    {
     "name": "stderr",
     "output_type": "stream",
     "text": [
      "/srv/conda/envs/notebook/lib/python3.8/site-packages/cmip6_preprocessing/preprocessing.py:267: UserWarning: `FGOALS-f3-L` does not provide lon or lat bounds.\n",
      "  warnings.warn(\"`FGOALS-f3-L` does not provide lon or lat bounds.\")\n",
      "/srv/conda/envs/notebook/lib/python3.8/site-packages/cmip6_preprocessing/preprocessing.py:267: UserWarning: `FGOALS-f3-L` does not provide lon or lat bounds.\n",
      "  warnings.warn(\"`FGOALS-f3-L` does not provide lon or lat bounds.\")\n",
      "/srv/conda/envs/notebook/lib/python3.8/site-packages/cmip6_preprocessing/preprocessing.py:267: UserWarning: `FGOALS-f3-L` does not provide lon or lat bounds.\n",
      "  warnings.warn(\"`FGOALS-f3-L` does not provide lon or lat bounds.\")\n"
     ]
    },
    {
     "name": "stdout",
     "output_type": "stream",
     "text": [
      "CMIP.NASA-GISS.GISS-E2-1-G-CC.historical.Amon.gn\n",
      "CMIP.CMCC.CMCC-CM2-HR4.historical.Amon.gn\n",
      "CMIP.NIMS-KMA.UKESM1-0-LL.historical.Amon.gn\n",
      "CMIP.MOHC.HadGEM3-GC31-MM.historical.Amon.gn\n",
      "CMIP.INM.INM-CM4-8.historical.Amon.gr1\n",
      "CMIP.NOAA-GFDL.GFDL-CM4.historical.Amon.gr1\n",
      "CMIP.CCCR-IITM.IITM-ESM.historical.Amon.gn\n",
      "CMIP.KIOST.KIOST-ESM.historical.Amon.gr1\n",
      "CMIP.CAMS.CAMS-CSM1-0.historical.Amon.gn\n",
      "CMIP.CMCC.CMCC-ESM2.historical.Amon.gn\n",
      "CMIP.BCC.BCC-CSM2-MR.historical.Amon.gn\n",
      "CMIP.NOAA-GFDL.GFDL-ESM4.historical.Amon.gr1\n",
      "CMIP.BCC.BCC-ESM1.historical.Amon.gn\n",
      "CMIP.INM.INM-CM5-0.historical.Amon.gr1\n",
      "CMIP.CMCC.CMCC-CM2-SR5.historical.Amon.gn\n",
      "CMIP.UA.MCM-UA-1-0.historical.Amon.gn\n",
      "CMIP.NASA-GISS.GISS-E2-1-H.historical.Amon.gn\n",
      "CMIP.NIMS-KMA.KACE-1-0-G.historical.Amon.gr\n",
      "CMIP.CAS.CAS-ESM2-0.historical.Amon.gn\n",
      "CMIP.CAS.FGOALS-f3-L.historical.Amon.gr\n",
      "CMIP.MOHC.HadGEM3-GC31-LL.historical.Amon.gn\n",
      "CMIP.MOHC.UKESM1-0-LL.historical.Amon.gn\n",
      "CMIP.NASA-GISS.GISS-E2-1-G.historical.Amon.gn\n",
      "\n",
      "--> The keys in the returned dictionary of datasets are constructed as follows:\n",
      "\t'activity_id.institution_id.source_id.experiment_id.table_id.grid_label'\n"
     ]
    },
    {
     "data": {
      "text/html": [
       "\n",
       "    <div>\n",
       "        <style>\n",
       "            /* Turns off some styling */\n",
       "            progress {\n",
       "                /* gets rid of default border in Firefox and Opera. */\n",
       "                border: none;\n",
       "                /* Needs to be in here for Safari polyfill so background images work as expected. */\n",
       "                background-size: auto;\n",
       "            }\n",
       "            .progress-bar-interrupted, .progress-bar-interrupted::-webkit-progress-bar {\n",
       "                background: #F44336;\n",
       "            }\n",
       "        </style>\n",
       "      <progress value='19' class='' max='19' style='width:300px; height:20px; vertical-align: middle;'></progress>\n",
       "      100.00% [19/19 00:08<00:00]\n",
       "    </div>\n",
       "    "
      ],
      "text/plain": [
       "<IPython.core.display.HTML object>"
      ]
     },
     "metadata": {},
     "output_type": "display_data"
    },
    {
     "name": "stderr",
     "output_type": "stream",
     "text": [
      "/srv/conda/envs/notebook/lib/python3.8/site-packages/cmip6_preprocessing/preprocessing.py:267: UserWarning: `FGOALS-f3-L` does not provide lon or lat bounds.\n",
      "  warnings.warn(\"`FGOALS-f3-L` does not provide lon or lat bounds.\")\n"
     ]
    },
    {
     "name": "stdout",
     "output_type": "stream",
     "text": [
      "ScenarioMIP.MOHC.HadGEM3-GC31-LL.ssp585.Amon.gn\n",
      "ScenarioMIP.CCCR-IITM.IITM-ESM.ssp585.Amon.gn\n",
      "ScenarioMIP.NIMS-KMA.KACE-1-0-G.ssp585.Amon.gr\n",
      "ScenarioMIP.MOHC.HadGEM3-GC31-MM.ssp585.Amon.gn\n",
      "ScenarioMIP.CAMS.CAMS-CSM1-0.ssp585.Amon.gn\n",
      "ScenarioMIP.CAS.CAS-ESM2-0.ssp585.Amon.gn\n",
      "ScenarioMIP.CAS.FGOALS-f3-L.ssp585.Amon.gr\n",
      "ScenarioMIP.MOHC.UKESM1-0-LL.ssp585.Amon.gn\n",
      "ScenarioMIP.CMCC.CMCC-ESM2.ssp585.Amon.gn\n",
      "ScenarioMIP.KIOST.KIOST-ESM.ssp585.Amon.gr1\n",
      "ScenarioMIP.NASA-GISS.GISS-E2-1-G.ssp585.Amon.gn\n",
      "ScenarioMIP.CMCC.CMCC-CM2-SR5.ssp585.Amon.gn\n",
      "ScenarioMIP.NOAA-GFDL.GFDL-CM4.ssp585.Amon.gr1\n",
      "ScenarioMIP.BCC.BCC-CSM2-MR.ssp585.Amon.gn\n",
      "ScenarioMIP.INM.INM-CM5-0.ssp585.Amon.gr1\n",
      "ScenarioMIP.UA.MCM-UA-1-0.ssp585.Amon.gn\n",
      "ScenarioMIP.NOAA-GFDL.GFDL-ESM4.ssp585.Amon.gr1\n",
      "ScenarioMIP.INM.INM-CM4-8.ssp585.Amon.gr1\n",
      "ScenarioMIP.NIMS-KMA.UKESM1-0-LL.ssp585.Amon.gn\n",
      "['CMIP.UA.MCM-UA-1-0.historical.Amon.gn.r1i1p1f2']\n",
      "['ScenarioMIP.UA.MCM-UA-1-0.ssp585.Amon.gn.r1i1p1f2']\n",
      "['CMIP.BCC.BCC-CSM2-MR.historical.Amon.gn.r1i1p1f1']\n",
      "['ScenarioMIP.BCC.BCC-CSM2-MR.ssp585.Amon.gn.r1i1p1f1']\n",
      "['CMIP.INM.INM-CM5-0.historical.Amon.gr1.r1i1p1f1']\n",
      "['ScenarioMIP.INM.INM-CM5-0.ssp585.Amon.gr1.r1i1p1f1']\n",
      "['CMIP.INM.INM-CM5-0.historical.Amon.gr1.r1i1p1f1']\n",
      "['ScenarioMIP.INM.INM-CM5-0.ssp585.Amon.gr1.r1i1p1f1']\n",
      "['CMIP.INM.INM-CM4-8.historical.Amon.gr1.r1i1p1f1']\n",
      "['ScenarioMIP.INM.INM-CM4-8.ssp585.Amon.gr1.r1i1p1f1']\n",
      "['CMIP.INM.INM-CM4-8.historical.Amon.gr1.r1i1p1f1']\n",
      "['ScenarioMIP.INM.INM-CM4-8.ssp585.Amon.gr1.r1i1p1f1']\n",
      "['CMIP.MOHC.HadGEM3-GC31-LL.historical.Amon.gn.r1i1p1f3']\n",
      "['ScenarioMIP.MOHC.HadGEM3-GC31-LL.ssp585.Amon.gn.r1i1p1f3']\n",
      "['CMIP.MOHC.HadGEM3-GC31-LL.historical.Amon.gn.r2i1p1f3']\n",
      "['ScenarioMIP.MOHC.HadGEM3-GC31-LL.ssp585.Amon.gn.r2i1p1f3']\n",
      "['CMIP.MOHC.HadGEM3-GC31-LL.historical.Amon.gn.r3i1p1f3']\n",
      "['ScenarioMIP.MOHC.HadGEM3-GC31-LL.ssp585.Amon.gn.r3i1p1f3']\n",
      "['CMIP.MOHC.HadGEM3-GC31-LL.historical.Amon.gn.r4i1p1f3']\n",
      "['ScenarioMIP.MOHC.HadGEM3-GC31-LL.ssp585.Amon.gn.r4i1p1f3']\n",
      "['CMIP.MOHC.HadGEM3-GC31-LL.historical.Amon.gn.r3i1p1f3']\n",
      "['ScenarioMIP.MOHC.HadGEM3-GC31-LL.ssp585.Amon.gn.r3i1p1f3']\n",
      "['CMIP.MOHC.HadGEM3-GC31-LL.historical.Amon.gn.r1i1p1f3']\n",
      "['ScenarioMIP.MOHC.HadGEM3-GC31-LL.ssp585.Amon.gn.r1i1p1f3']\n",
      "['CMIP.MOHC.HadGEM3-GC31-LL.historical.Amon.gn.r2i1p1f3']\n",
      "['ScenarioMIP.MOHC.HadGEM3-GC31-LL.ssp585.Amon.gn.r2i1p1f3']\n",
      "['CMIP.MOHC.HadGEM3-GC31-LL.historical.Amon.gn.r4i1p1f3']\n",
      "['ScenarioMIP.MOHC.HadGEM3-GC31-LL.ssp585.Amon.gn.r4i1p1f3']\n",
      "problem with HadGEM3-GC31-LL r2i1p1f2\n",
      "problem with HadGEM3-GC31-LL r1i1p1f2\n",
      "problem with HadGEM3-GC31-LL r4i1p1f2\n",
      "problem with HadGEM3-GC31-LL r3i1p1f2\n",
      "problem with HadGEM3-GC31-LL r8i1p1f2\n",
      "['CMIP.MOHC.HadGEM3-GC31-LL.historical.Amon.gn.r1i1p1f3']\n",
      "['ScenarioMIP.MOHC.HadGEM3-GC31-LL.ssp585.Amon.gn.r1i1p1f3']\n",
      "['CMIP.MOHC.HadGEM3-GC31-LL.historical.Amon.gn.r2i1p1f3']\n",
      "['ScenarioMIP.MOHC.HadGEM3-GC31-LL.ssp585.Amon.gn.r2i1p1f3']\n",
      "['CMIP.MOHC.HadGEM3-GC31-LL.historical.Amon.gn.r3i1p1f3']\n",
      "['ScenarioMIP.MOHC.HadGEM3-GC31-LL.ssp585.Amon.gn.r3i1p1f3']\n",
      "['CMIP.MOHC.HadGEM3-GC31-LL.historical.Amon.gn.r4i1p1f3']\n",
      "['ScenarioMIP.MOHC.HadGEM3-GC31-LL.ssp585.Amon.gn.r4i1p1f3']\n",
      "['CMIP.MOHC.HadGEM3-GC31-LL.historical.Amon.gn.r3i1p1f3']\n",
      "['ScenarioMIP.MOHC.HadGEM3-GC31-LL.ssp585.Amon.gn.r3i1p1f3']\n",
      "['CMIP.MOHC.HadGEM3-GC31-LL.historical.Amon.gn.r1i1p1f3']\n",
      "['ScenarioMIP.MOHC.HadGEM3-GC31-LL.ssp585.Amon.gn.r1i1p1f3']\n",
      "['CMIP.MOHC.HadGEM3-GC31-LL.historical.Amon.gn.r2i1p1f3']\n",
      "['ScenarioMIP.MOHC.HadGEM3-GC31-LL.ssp585.Amon.gn.r2i1p1f3']\n",
      "['CMIP.MOHC.HadGEM3-GC31-LL.historical.Amon.gn.r4i1p1f3']\n",
      "['ScenarioMIP.MOHC.HadGEM3-GC31-LL.ssp585.Amon.gn.r4i1p1f3']\n",
      "problem with HadGEM3-GC31-LL r2i1p1f2\n",
      "problem with HadGEM3-GC31-LL r1i1p1f2\n",
      "problem with HadGEM3-GC31-LL r4i1p1f2\n",
      "problem with HadGEM3-GC31-LL r3i1p1f2\n",
      "problem with HadGEM3-GC31-LL r8i1p1f2\n",
      "['CMIP.MOHC.HadGEM3-GC31-LL.historical.Amon.gn.r1i1p1f3']\n",
      "['ScenarioMIP.MOHC.HadGEM3-GC31-LL.ssp585.Amon.gn.r1i1p1f3']\n",
      "['CMIP.MOHC.HadGEM3-GC31-LL.historical.Amon.gn.r2i1p1f3']\n",
      "['ScenarioMIP.MOHC.HadGEM3-GC31-LL.ssp585.Amon.gn.r2i1p1f3']\n",
      "['CMIP.MOHC.HadGEM3-GC31-LL.historical.Amon.gn.r3i1p1f3']\n",
      "['ScenarioMIP.MOHC.HadGEM3-GC31-LL.ssp585.Amon.gn.r3i1p1f3']\n",
      "['CMIP.MOHC.HadGEM3-GC31-LL.historical.Amon.gn.r4i1p1f3']\n",
      "['ScenarioMIP.MOHC.HadGEM3-GC31-LL.ssp585.Amon.gn.r4i1p1f3']\n",
      "['CMIP.MOHC.HadGEM3-GC31-LL.historical.Amon.gn.r3i1p1f3']\n",
      "['ScenarioMIP.MOHC.HadGEM3-GC31-LL.ssp585.Amon.gn.r3i1p1f3']\n",
      "['CMIP.MOHC.HadGEM3-GC31-LL.historical.Amon.gn.r1i1p1f3']\n",
      "['ScenarioMIP.MOHC.HadGEM3-GC31-LL.ssp585.Amon.gn.r1i1p1f3']\n",
      "['CMIP.MOHC.HadGEM3-GC31-LL.historical.Amon.gn.r2i1p1f3']\n",
      "['ScenarioMIP.MOHC.HadGEM3-GC31-LL.ssp585.Amon.gn.r2i1p1f3']\n",
      "['CMIP.MOHC.HadGEM3-GC31-LL.historical.Amon.gn.r4i1p1f3']\n",
      "['ScenarioMIP.MOHC.HadGEM3-GC31-LL.ssp585.Amon.gn.r4i1p1f3']\n",
      "problem with HadGEM3-GC31-LL r2i1p1f2\n",
      "problem with HadGEM3-GC31-LL r1i1p1f2\n",
      "problem with HadGEM3-GC31-LL r4i1p1f2\n",
      "problem with HadGEM3-GC31-LL r3i1p1f2\n",
      "problem with HadGEM3-GC31-LL r8i1p1f2\n",
      "['CMIP.MOHC.HadGEM3-GC31-LL.historical.Amon.gn.r1i1p1f3']\n",
      "['ScenarioMIP.MOHC.HadGEM3-GC31-LL.ssp585.Amon.gn.r1i1p1f3']\n",
      "['CMIP.MOHC.HadGEM3-GC31-LL.historical.Amon.gn.r2i1p1f3']\n",
      "['ScenarioMIP.MOHC.HadGEM3-GC31-LL.ssp585.Amon.gn.r2i1p1f3']\n",
      "['CMIP.MOHC.HadGEM3-GC31-LL.historical.Amon.gn.r3i1p1f3']\n",
      "['ScenarioMIP.MOHC.HadGEM3-GC31-LL.ssp585.Amon.gn.r3i1p1f3']\n",
      "['CMIP.MOHC.HadGEM3-GC31-LL.historical.Amon.gn.r4i1p1f3']\n",
      "['ScenarioMIP.MOHC.HadGEM3-GC31-LL.ssp585.Amon.gn.r4i1p1f3']\n",
      "['CMIP.MOHC.HadGEM3-GC31-LL.historical.Amon.gn.r3i1p1f3']\n",
      "['ScenarioMIP.MOHC.HadGEM3-GC31-LL.ssp585.Amon.gn.r3i1p1f3']\n",
      "['CMIP.MOHC.HadGEM3-GC31-LL.historical.Amon.gn.r1i1p1f3']\n",
      "['ScenarioMIP.MOHC.HadGEM3-GC31-LL.ssp585.Amon.gn.r1i1p1f3']\n",
      "['CMIP.MOHC.HadGEM3-GC31-LL.historical.Amon.gn.r2i1p1f3']\n",
      "['ScenarioMIP.MOHC.HadGEM3-GC31-LL.ssp585.Amon.gn.r2i1p1f3']\n",
      "['CMIP.MOHC.HadGEM3-GC31-LL.historical.Amon.gn.r4i1p1f3']\n",
      "['ScenarioMIP.MOHC.HadGEM3-GC31-LL.ssp585.Amon.gn.r4i1p1f3']\n",
      "problem with HadGEM3-GC31-LL r2i1p1f2\n",
      "problem with HadGEM3-GC31-LL r1i1p1f2\n",
      "problem with HadGEM3-GC31-LL r4i1p1f2\n",
      "problem with HadGEM3-GC31-LL r3i1p1f2\n",
      "problem with HadGEM3-GC31-LL r8i1p1f2\n",
      "['CMIP.MOHC.HadGEM3-GC31-MM.historical.Amon.gn.r1i1p1f3']\n",
      "['ScenarioMIP.MOHC.HadGEM3-GC31-MM.ssp585.Amon.gn.r1i1p1f3']\n",
      "['CMIP.MOHC.HadGEM3-GC31-MM.historical.Amon.gn.r2i1p1f3']\n",
      "['ScenarioMIP.MOHC.HadGEM3-GC31-MM.ssp585.Amon.gn.r2i1p1f3']\n",
      "['CMIP.MOHC.HadGEM3-GC31-MM.historical.Amon.gn.r3i1p1f3']\n",
      "['ScenarioMIP.MOHC.HadGEM3-GC31-MM.ssp585.Amon.gn.r3i1p1f3']\n",
      "['CMIP.MOHC.HadGEM3-GC31-MM.historical.Amon.gn.r4i1p1f3']\n",
      "['ScenarioMIP.MOHC.HadGEM3-GC31-MM.ssp585.Amon.gn.r4i1p1f3']\n",
      "['CMIP.MOHC.HadGEM3-GC31-MM.historical.Amon.gn.r3i1p1f3']\n",
      "['ScenarioMIP.MOHC.HadGEM3-GC31-MM.ssp585.Amon.gn.r3i1p1f3']\n",
      "['CMIP.MOHC.HadGEM3-GC31-MM.historical.Amon.gn.r1i1p1f3']\n",
      "['ScenarioMIP.MOHC.HadGEM3-GC31-MM.ssp585.Amon.gn.r1i1p1f3']\n",
      "['CMIP.MOHC.HadGEM3-GC31-MM.historical.Amon.gn.r2i1p1f3']\n",
      "['ScenarioMIP.MOHC.HadGEM3-GC31-MM.ssp585.Amon.gn.r2i1p1f3']\n",
      "['CMIP.MOHC.HadGEM3-GC31-MM.historical.Amon.gn.r4i1p1f3']\n",
      "['ScenarioMIP.MOHC.HadGEM3-GC31-MM.ssp585.Amon.gn.r4i1p1f3']\n",
      "problem with HadGEM3-GC31-MM r2i1p1f2\n",
      "problem with HadGEM3-GC31-MM r1i1p1f2\n",
      "problem with HadGEM3-GC31-MM r4i1p1f2\n",
      "problem with HadGEM3-GC31-MM r3i1p1f2\n",
      "problem with HadGEM3-GC31-MM r8i1p1f2\n",
      "['CMIP.MOHC.HadGEM3-GC31-MM.historical.Amon.gn.r1i1p1f3']\n",
      "['ScenarioMIP.MOHC.HadGEM3-GC31-MM.ssp585.Amon.gn.r1i1p1f3']\n",
      "['CMIP.MOHC.HadGEM3-GC31-MM.historical.Amon.gn.r2i1p1f3']\n",
      "['ScenarioMIP.MOHC.HadGEM3-GC31-MM.ssp585.Amon.gn.r2i1p1f3']\n",
      "['CMIP.MOHC.HadGEM3-GC31-MM.historical.Amon.gn.r3i1p1f3']\n",
      "['ScenarioMIP.MOHC.HadGEM3-GC31-MM.ssp585.Amon.gn.r3i1p1f3']\n",
      "['CMIP.MOHC.HadGEM3-GC31-MM.historical.Amon.gn.r4i1p1f3']\n",
      "['ScenarioMIP.MOHC.HadGEM3-GC31-MM.ssp585.Amon.gn.r4i1p1f3']\n",
      "['CMIP.MOHC.HadGEM3-GC31-MM.historical.Amon.gn.r3i1p1f3']\n",
      "['ScenarioMIP.MOHC.HadGEM3-GC31-MM.ssp585.Amon.gn.r3i1p1f3']\n",
      "['CMIP.MOHC.HadGEM3-GC31-MM.historical.Amon.gn.r1i1p1f3']\n",
      "['ScenarioMIP.MOHC.HadGEM3-GC31-MM.ssp585.Amon.gn.r1i1p1f3']\n",
      "['CMIP.MOHC.HadGEM3-GC31-MM.historical.Amon.gn.r2i1p1f3']\n",
      "['ScenarioMIP.MOHC.HadGEM3-GC31-MM.ssp585.Amon.gn.r2i1p1f3']\n",
      "['CMIP.MOHC.HadGEM3-GC31-MM.historical.Amon.gn.r4i1p1f3']\n",
      "['ScenarioMIP.MOHC.HadGEM3-GC31-MM.ssp585.Amon.gn.r4i1p1f3']\n",
      "problem with HadGEM3-GC31-MM r2i1p1f2\n",
      "problem with HadGEM3-GC31-MM r1i1p1f2\n",
      "problem with HadGEM3-GC31-MM r4i1p1f2\n",
      "problem with HadGEM3-GC31-MM r3i1p1f2\n",
      "problem with HadGEM3-GC31-MM r8i1p1f2\n",
      "['CMIP.MOHC.HadGEM3-GC31-MM.historical.Amon.gn.r1i1p1f3']\n",
      "['ScenarioMIP.MOHC.HadGEM3-GC31-MM.ssp585.Amon.gn.r1i1p1f3']\n",
      "['CMIP.MOHC.HadGEM3-GC31-MM.historical.Amon.gn.r2i1p1f3']\n",
      "['ScenarioMIP.MOHC.HadGEM3-GC31-MM.ssp585.Amon.gn.r2i1p1f3']\n",
      "['CMIP.MOHC.HadGEM3-GC31-MM.historical.Amon.gn.r3i1p1f3']\n",
      "['ScenarioMIP.MOHC.HadGEM3-GC31-MM.ssp585.Amon.gn.r3i1p1f3']\n",
      "['CMIP.MOHC.HadGEM3-GC31-MM.historical.Amon.gn.r4i1p1f3']\n",
      "['ScenarioMIP.MOHC.HadGEM3-GC31-MM.ssp585.Amon.gn.r4i1p1f3']\n",
      "['CMIP.MOHC.HadGEM3-GC31-MM.historical.Amon.gn.r3i1p1f3']\n",
      "['ScenarioMIP.MOHC.HadGEM3-GC31-MM.ssp585.Amon.gn.r3i1p1f3']\n",
      "['CMIP.MOHC.HadGEM3-GC31-MM.historical.Amon.gn.r1i1p1f3']\n",
      "['ScenarioMIP.MOHC.HadGEM3-GC31-MM.ssp585.Amon.gn.r1i1p1f3']\n",
      "['CMIP.MOHC.HadGEM3-GC31-MM.historical.Amon.gn.r2i1p1f3']\n",
      "['ScenarioMIP.MOHC.HadGEM3-GC31-MM.ssp585.Amon.gn.r2i1p1f3']\n",
      "['CMIP.MOHC.HadGEM3-GC31-MM.historical.Amon.gn.r4i1p1f3']\n",
      "['ScenarioMIP.MOHC.HadGEM3-GC31-MM.ssp585.Amon.gn.r4i1p1f3']\n",
      "problem with HadGEM3-GC31-MM r2i1p1f2\n",
      "problem with HadGEM3-GC31-MM r1i1p1f2\n",
      "problem with HadGEM3-GC31-MM r4i1p1f2\n",
      "problem with HadGEM3-GC31-MM r3i1p1f2\n",
      "problem with HadGEM3-GC31-MM r8i1p1f2\n",
      "['CMIP.MOHC.HadGEM3-GC31-MM.historical.Amon.gn.r1i1p1f3']\n",
      "['ScenarioMIP.MOHC.HadGEM3-GC31-MM.ssp585.Amon.gn.r1i1p1f3']\n",
      "['CMIP.MOHC.HadGEM3-GC31-MM.historical.Amon.gn.r2i1p1f3']\n",
      "['ScenarioMIP.MOHC.HadGEM3-GC31-MM.ssp585.Amon.gn.r2i1p1f3']\n",
      "['CMIP.MOHC.HadGEM3-GC31-MM.historical.Amon.gn.r3i1p1f3']\n",
      "['ScenarioMIP.MOHC.HadGEM3-GC31-MM.ssp585.Amon.gn.r3i1p1f3']\n",
      "['CMIP.MOHC.HadGEM3-GC31-MM.historical.Amon.gn.r4i1p1f3']\n",
      "['ScenarioMIP.MOHC.HadGEM3-GC31-MM.ssp585.Amon.gn.r4i1p1f3']\n",
      "['CMIP.MOHC.HadGEM3-GC31-MM.historical.Amon.gn.r3i1p1f3']\n",
      "['ScenarioMIP.MOHC.HadGEM3-GC31-MM.ssp585.Amon.gn.r3i1p1f3']\n",
      "['CMIP.MOHC.HadGEM3-GC31-MM.historical.Amon.gn.r1i1p1f3']\n",
      "['ScenarioMIP.MOHC.HadGEM3-GC31-MM.ssp585.Amon.gn.r1i1p1f3']\n",
      "['CMIP.MOHC.HadGEM3-GC31-MM.historical.Amon.gn.r2i1p1f3']\n",
      "['ScenarioMIP.MOHC.HadGEM3-GC31-MM.ssp585.Amon.gn.r2i1p1f3']\n",
      "['CMIP.MOHC.HadGEM3-GC31-MM.historical.Amon.gn.r4i1p1f3']\n",
      "['ScenarioMIP.MOHC.HadGEM3-GC31-MM.ssp585.Amon.gn.r4i1p1f3']\n",
      "problem with HadGEM3-GC31-MM r2i1p1f2\n",
      "problem with HadGEM3-GC31-MM r1i1p1f2\n",
      "problem with HadGEM3-GC31-MM r4i1p1f2\n",
      "problem with HadGEM3-GC31-MM r3i1p1f2\n",
      "problem with HadGEM3-GC31-MM r8i1p1f2\n",
      "problem with UKESM1-0-LL r1i1p1f3\n",
      "problem with UKESM1-0-LL r2i1p1f3\n",
      "problem with UKESM1-0-LL r3i1p1f3\n",
      "problem with UKESM1-0-LL r4i1p1f3\n",
      "problem with UKESM1-0-LL r3i1p1f3\n",
      "problem with UKESM1-0-LL r1i1p1f3\n",
      "problem with UKESM1-0-LL r2i1p1f3\n",
      "problem with UKESM1-0-LL r4i1p1f3\n",
      "['CMIP.MOHC.UKESM1-0-LL.historical.Amon.gn.r2i1p1f2']\n",
      "['ScenarioMIP.MOHC.UKESM1-0-LL.ssp585.Amon.gn.r2i1p1f2']\n",
      "['CMIP.MOHC.UKESM1-0-LL.historical.Amon.gn.r1i1p1f2']\n",
      "['ScenarioMIP.MOHC.UKESM1-0-LL.ssp585.Amon.gn.r1i1p1f2']\n",
      "['CMIP.MOHC.UKESM1-0-LL.historical.Amon.gn.r4i1p1f2']\n",
      "['ScenarioMIP.MOHC.UKESM1-0-LL.ssp585.Amon.gn.r4i1p1f2']\n",
      "['CMIP.MOHC.UKESM1-0-LL.historical.Amon.gn.r3i1p1f2']\n",
      "['ScenarioMIP.MOHC.UKESM1-0-LL.ssp585.Amon.gn.r3i1p1f2']\n",
      "['CMIP.MOHC.UKESM1-0-LL.historical.Amon.gn.r8i1p1f2']\n",
      "['ScenarioMIP.MOHC.UKESM1-0-LL.ssp585.Amon.gn.r8i1p1f2']\n",
      "problem with UKESM1-0-LL r1i1p1f3\n",
      "problem with UKESM1-0-LL r2i1p1f3\n",
      "problem with UKESM1-0-LL r3i1p1f3\n",
      "problem with UKESM1-0-LL r4i1p1f3\n",
      "problem with UKESM1-0-LL r3i1p1f3\n",
      "problem with UKESM1-0-LL r1i1p1f3\n",
      "problem with UKESM1-0-LL r2i1p1f3\n",
      "problem with UKESM1-0-LL r4i1p1f3\n",
      "['CMIP.MOHC.UKESM1-0-LL.historical.Amon.gn.r2i1p1f2']\n",
      "['ScenarioMIP.MOHC.UKESM1-0-LL.ssp585.Amon.gn.r2i1p1f2']\n",
      "['CMIP.MOHC.UKESM1-0-LL.historical.Amon.gn.r1i1p1f2']\n",
      "['ScenarioMIP.MOHC.UKESM1-0-LL.ssp585.Amon.gn.r1i1p1f2']\n",
      "['CMIP.MOHC.UKESM1-0-LL.historical.Amon.gn.r4i1p1f2']\n",
      "['ScenarioMIP.MOHC.UKESM1-0-LL.ssp585.Amon.gn.r4i1p1f2']\n",
      "['CMIP.MOHC.UKESM1-0-LL.historical.Amon.gn.r3i1p1f2']\n",
      "['ScenarioMIP.MOHC.UKESM1-0-LL.ssp585.Amon.gn.r3i1p1f2']\n",
      "['CMIP.MOHC.UKESM1-0-LL.historical.Amon.gn.r8i1p1f2']\n",
      "['ScenarioMIP.MOHC.UKESM1-0-LL.ssp585.Amon.gn.r8i1p1f2']\n",
      "problem with UKESM1-0-LL r1i1p1f3\n",
      "problem with UKESM1-0-LL r2i1p1f3\n",
      "problem with UKESM1-0-LL r3i1p1f3\n",
      "problem with UKESM1-0-LL r4i1p1f3\n",
      "problem with UKESM1-0-LL r3i1p1f3\n",
      "problem with UKESM1-0-LL r1i1p1f3\n",
      "problem with UKESM1-0-LL r2i1p1f3\n",
      "problem with UKESM1-0-LL r4i1p1f3\n",
      "['CMIP.MOHC.UKESM1-0-LL.historical.Amon.gn.r2i1p1f2']\n",
      "['ScenarioMIP.MOHC.UKESM1-0-LL.ssp585.Amon.gn.r2i1p1f2']\n",
      "['CMIP.MOHC.UKESM1-0-LL.historical.Amon.gn.r1i1p1f2']\n",
      "['ScenarioMIP.MOHC.UKESM1-0-LL.ssp585.Amon.gn.r1i1p1f2']\n",
      "['CMIP.MOHC.UKESM1-0-LL.historical.Amon.gn.r4i1p1f2']\n",
      "['ScenarioMIP.MOHC.UKESM1-0-LL.ssp585.Amon.gn.r4i1p1f2']\n",
      "['CMIP.MOHC.UKESM1-0-LL.historical.Amon.gn.r3i1p1f2']\n",
      "['ScenarioMIP.MOHC.UKESM1-0-LL.ssp585.Amon.gn.r3i1p1f2']\n",
      "['CMIP.MOHC.UKESM1-0-LL.historical.Amon.gn.r8i1p1f2']\n",
      "['ScenarioMIP.MOHC.UKESM1-0-LL.ssp585.Amon.gn.r8i1p1f2']\n",
      "problem with UKESM1-0-LL r1i1p1f3\n",
      "problem with UKESM1-0-LL r2i1p1f3\n",
      "problem with UKESM1-0-LL r3i1p1f3\n",
      "problem with UKESM1-0-LL r4i1p1f3\n",
      "problem with UKESM1-0-LL r3i1p1f3\n",
      "problem with UKESM1-0-LL r1i1p1f3\n",
      "problem with UKESM1-0-LL r2i1p1f3\n",
      "problem with UKESM1-0-LL r4i1p1f3\n",
      "['CMIP.MOHC.UKESM1-0-LL.historical.Amon.gn.r2i1p1f2']\n",
      "['ScenarioMIP.MOHC.UKESM1-0-LL.ssp585.Amon.gn.r2i1p1f2']\n",
      "['CMIP.MOHC.UKESM1-0-LL.historical.Amon.gn.r1i1p1f2']\n",
      "['ScenarioMIP.MOHC.UKESM1-0-LL.ssp585.Amon.gn.r1i1p1f2']\n",
      "['CMIP.MOHC.UKESM1-0-LL.historical.Amon.gn.r4i1p1f2']\n",
      "['ScenarioMIP.MOHC.UKESM1-0-LL.ssp585.Amon.gn.r4i1p1f2']\n",
      "['CMIP.MOHC.UKESM1-0-LL.historical.Amon.gn.r3i1p1f2']\n",
      "['ScenarioMIP.MOHC.UKESM1-0-LL.ssp585.Amon.gn.r3i1p1f2']\n",
      "['CMIP.MOHC.UKESM1-0-LL.historical.Amon.gn.r8i1p1f2']\n",
      "['ScenarioMIP.MOHC.UKESM1-0-LL.ssp585.Amon.gn.r8i1p1f2']\n",
      "problem with UKESM1-0-LL r1i1p1f3\n",
      "problem with UKESM1-0-LL r2i1p1f3\n",
      "problem with UKESM1-0-LL r3i1p1f3\n",
      "problem with UKESM1-0-LL r4i1p1f3\n",
      "problem with UKESM1-0-LL r3i1p1f3\n",
      "problem with UKESM1-0-LL r1i1p1f3\n",
      "problem with UKESM1-0-LL r2i1p1f3\n",
      "problem with UKESM1-0-LL r4i1p1f3\n",
      "['CMIP.MOHC.UKESM1-0-LL.historical.Amon.gn.r2i1p1f2']\n",
      "['ScenarioMIP.MOHC.UKESM1-0-LL.ssp585.Amon.gn.r2i1p1f2']\n",
      "['CMIP.MOHC.UKESM1-0-LL.historical.Amon.gn.r1i1p1f2']\n",
      "['ScenarioMIP.MOHC.UKESM1-0-LL.ssp585.Amon.gn.r1i1p1f2']\n",
      "['CMIP.MOHC.UKESM1-0-LL.historical.Amon.gn.r4i1p1f2']\n",
      "['ScenarioMIP.MOHC.UKESM1-0-LL.ssp585.Amon.gn.r4i1p1f2']\n",
      "['CMIP.MOHC.UKESM1-0-LL.historical.Amon.gn.r3i1p1f2']\n",
      "['ScenarioMIP.MOHC.UKESM1-0-LL.ssp585.Amon.gn.r3i1p1f2']\n",
      "['CMIP.MOHC.UKESM1-0-LL.historical.Amon.gn.r8i1p1f2']\n",
      "['ScenarioMIP.MOHC.UKESM1-0-LL.ssp585.Amon.gn.r8i1p1f2']\n",
      "['CMIP.KIOST.KIOST-ESM.historical.Amon.gr1.r1i1p1f1']\n",
      "['ScenarioMIP.KIOST.KIOST-ESM.ssp585.Amon.gr1.r1i1p1f1']\n",
      "['CMIP.NASA-GISS.GISS-E2-1-G.historical.Amon.gn.r5i1p3f1']\n",
      "['ScenarioMIP.NASA-GISS.GISS-E2-1-G.ssp585.Amon.gn.r5i1p3f1']\n",
      "['CMIP.NASA-GISS.GISS-E2-1-G.historical.Amon.gn.r3i1p3f1']\n",
      "['ScenarioMIP.NASA-GISS.GISS-E2-1-G.ssp585.Amon.gn.r3i1p3f1']\n",
      "['CMIP.NASA-GISS.GISS-E2-1-G.historical.Amon.gn.r4i1p3f1']\n",
      "['ScenarioMIP.NASA-GISS.GISS-E2-1-G.ssp585.Amon.gn.r4i1p3f1']\n",
      "['CMIP.NASA-GISS.GISS-E2-1-G.historical.Amon.gn.r5i1p1f2']\n",
      "['ScenarioMIP.NASA-GISS.GISS-E2-1-G.ssp585.Amon.gn.r5i1p1f2']\n",
      "['CMIP.NASA-GISS.GISS-E2-1-G.historical.Amon.gn.r4i1p1f2']\n",
      "['ScenarioMIP.NASA-GISS.GISS-E2-1-G.ssp585.Amon.gn.r4i1p1f2']\n",
      "['CMIP.NASA-GISS.GISS-E2-1-G.historical.Amon.gn.r2i1p3f1']\n",
      "['ScenarioMIP.NASA-GISS.GISS-E2-1-G.ssp585.Amon.gn.r2i1p3f1']\n",
      "['CMIP.NASA-GISS.GISS-E2-1-G.historical.Amon.gn.r1i1p5f1']\n",
      "['ScenarioMIP.NASA-GISS.GISS-E2-1-G.ssp585.Amon.gn.r1i1p5f1']\n",
      "['CMIP.NASA-GISS.GISS-E2-1-G.historical.Amon.gn.r3i1p1f2']\n",
      "['ScenarioMIP.NASA-GISS.GISS-E2-1-G.ssp585.Amon.gn.r3i1p1f2']\n",
      "['CMIP.NASA-GISS.GISS-E2-1-G.historical.Amon.gn.r1i1p3f1']\n",
      "['ScenarioMIP.NASA-GISS.GISS-E2-1-G.ssp585.Amon.gn.r1i1p3f1']\n",
      "['CMIP.NASA-GISS.GISS-E2-1-G.historical.Amon.gn.r2i1p1f2']\n",
      "['ScenarioMIP.NASA-GISS.GISS-E2-1-G.ssp585.Amon.gn.r2i1p1f2']\n",
      "['CMIP.NASA-GISS.GISS-E2-1-G.historical.Amon.gn.r5i1p3f1']\n",
      "['ScenarioMIP.NASA-GISS.GISS-E2-1-G.ssp585.Amon.gn.r5i1p3f1']\n",
      "['CMIP.NASA-GISS.GISS-E2-1-G.historical.Amon.gn.r3i1p3f1']\n",
      "['ScenarioMIP.NASA-GISS.GISS-E2-1-G.ssp585.Amon.gn.r3i1p3f1']\n",
      "['CMIP.NASA-GISS.GISS-E2-1-G.historical.Amon.gn.r4i1p3f1']\n",
      "['ScenarioMIP.NASA-GISS.GISS-E2-1-G.ssp585.Amon.gn.r4i1p3f1']\n",
      "['CMIP.NASA-GISS.GISS-E2-1-G.historical.Amon.gn.r5i1p1f2']\n",
      "['ScenarioMIP.NASA-GISS.GISS-E2-1-G.ssp585.Amon.gn.r5i1p1f2']\n",
      "['CMIP.NASA-GISS.GISS-E2-1-G.historical.Amon.gn.r4i1p1f2']\n",
      "['ScenarioMIP.NASA-GISS.GISS-E2-1-G.ssp585.Amon.gn.r4i1p1f2']\n",
      "['CMIP.NASA-GISS.GISS-E2-1-G.historical.Amon.gn.r2i1p3f1']\n",
      "['ScenarioMIP.NASA-GISS.GISS-E2-1-G.ssp585.Amon.gn.r2i1p3f1']\n",
      "['CMIP.NASA-GISS.GISS-E2-1-G.historical.Amon.gn.r1i1p5f1']\n",
      "['ScenarioMIP.NASA-GISS.GISS-E2-1-G.ssp585.Amon.gn.r1i1p5f1']\n",
      "['CMIP.NASA-GISS.GISS-E2-1-G.historical.Amon.gn.r3i1p1f2']\n",
      "['ScenarioMIP.NASA-GISS.GISS-E2-1-G.ssp585.Amon.gn.r3i1p1f2']\n",
      "['CMIP.NASA-GISS.GISS-E2-1-G.historical.Amon.gn.r1i1p3f1']\n",
      "['ScenarioMIP.NASA-GISS.GISS-E2-1-G.ssp585.Amon.gn.r1i1p3f1']\n",
      "['CMIP.NASA-GISS.GISS-E2-1-G.historical.Amon.gn.r2i1p1f2']\n",
      "['ScenarioMIP.NASA-GISS.GISS-E2-1-G.ssp585.Amon.gn.r2i1p1f2']\n",
      "['CMIP.NASA-GISS.GISS-E2-1-G.historical.Amon.gn.r5i1p3f1']\n",
      "['ScenarioMIP.NASA-GISS.GISS-E2-1-G.ssp585.Amon.gn.r5i1p3f1']\n",
      "['CMIP.NASA-GISS.GISS-E2-1-G.historical.Amon.gn.r3i1p3f1']\n",
      "['ScenarioMIP.NASA-GISS.GISS-E2-1-G.ssp585.Amon.gn.r3i1p3f1']\n",
      "['CMIP.NASA-GISS.GISS-E2-1-G.historical.Amon.gn.r4i1p3f1']\n",
      "['ScenarioMIP.NASA-GISS.GISS-E2-1-G.ssp585.Amon.gn.r4i1p3f1']\n",
      "['CMIP.NASA-GISS.GISS-E2-1-G.historical.Amon.gn.r5i1p1f2']\n",
      "['ScenarioMIP.NASA-GISS.GISS-E2-1-G.ssp585.Amon.gn.r5i1p1f2']\n",
      "['CMIP.NASA-GISS.GISS-E2-1-G.historical.Amon.gn.r4i1p1f2']\n",
      "['ScenarioMIP.NASA-GISS.GISS-E2-1-G.ssp585.Amon.gn.r4i1p1f2']\n",
      "['CMIP.NASA-GISS.GISS-E2-1-G.historical.Amon.gn.r2i1p3f1']\n",
      "['ScenarioMIP.NASA-GISS.GISS-E2-1-G.ssp585.Amon.gn.r2i1p3f1']\n",
      "['CMIP.NASA-GISS.GISS-E2-1-G.historical.Amon.gn.r1i1p5f1']\n",
      "['ScenarioMIP.NASA-GISS.GISS-E2-1-G.ssp585.Amon.gn.r1i1p5f1']\n",
      "['CMIP.NASA-GISS.GISS-E2-1-G.historical.Amon.gn.r3i1p1f2']\n",
      "['ScenarioMIP.NASA-GISS.GISS-E2-1-G.ssp585.Amon.gn.r3i1p1f2']\n",
      "['CMIP.NASA-GISS.GISS-E2-1-G.historical.Amon.gn.r1i1p3f1']\n",
      "['ScenarioMIP.NASA-GISS.GISS-E2-1-G.ssp585.Amon.gn.r1i1p3f1']\n",
      "['CMIP.NASA-GISS.GISS-E2-1-G.historical.Amon.gn.r2i1p1f2']\n",
      "['ScenarioMIP.NASA-GISS.GISS-E2-1-G.ssp585.Amon.gn.r2i1p1f2']\n",
      "['CMIP.NASA-GISS.GISS-E2-1-G.historical.Amon.gn.r5i1p3f1']\n",
      "['ScenarioMIP.NASA-GISS.GISS-E2-1-G.ssp585.Amon.gn.r5i1p3f1']\n",
      "['CMIP.NASA-GISS.GISS-E2-1-G.historical.Amon.gn.r3i1p3f1']\n",
      "['ScenarioMIP.NASA-GISS.GISS-E2-1-G.ssp585.Amon.gn.r3i1p3f1']\n",
      "['CMIP.NASA-GISS.GISS-E2-1-G.historical.Amon.gn.r4i1p3f1']\n",
      "['ScenarioMIP.NASA-GISS.GISS-E2-1-G.ssp585.Amon.gn.r4i1p3f1']\n",
      "['CMIP.NASA-GISS.GISS-E2-1-G.historical.Amon.gn.r5i1p1f2']\n",
      "['ScenarioMIP.NASA-GISS.GISS-E2-1-G.ssp585.Amon.gn.r5i1p1f2']\n",
      "['CMIP.NASA-GISS.GISS-E2-1-G.historical.Amon.gn.r4i1p1f2']\n",
      "['ScenarioMIP.NASA-GISS.GISS-E2-1-G.ssp585.Amon.gn.r4i1p1f2']\n",
      "['CMIP.NASA-GISS.GISS-E2-1-G.historical.Amon.gn.r2i1p3f1']\n",
      "['ScenarioMIP.NASA-GISS.GISS-E2-1-G.ssp585.Amon.gn.r2i1p3f1']\n",
      "['CMIP.NASA-GISS.GISS-E2-1-G.historical.Amon.gn.r1i1p5f1']\n",
      "['ScenarioMIP.NASA-GISS.GISS-E2-1-G.ssp585.Amon.gn.r1i1p5f1']\n",
      "['CMIP.NASA-GISS.GISS-E2-1-G.historical.Amon.gn.r3i1p1f2']\n",
      "['ScenarioMIP.NASA-GISS.GISS-E2-1-G.ssp585.Amon.gn.r3i1p1f2']\n",
      "['CMIP.NASA-GISS.GISS-E2-1-G.historical.Amon.gn.r1i1p3f1']\n",
      "['ScenarioMIP.NASA-GISS.GISS-E2-1-G.ssp585.Amon.gn.r1i1p3f1']\n",
      "['CMIP.NASA-GISS.GISS-E2-1-G.historical.Amon.gn.r2i1p1f2']\n",
      "['ScenarioMIP.NASA-GISS.GISS-E2-1-G.ssp585.Amon.gn.r2i1p1f2']\n",
      "['CMIP.NASA-GISS.GISS-E2-1-G.historical.Amon.gn.r5i1p3f1']\n",
      "['ScenarioMIP.NASA-GISS.GISS-E2-1-G.ssp585.Amon.gn.r5i1p3f1']\n",
      "['CMIP.NASA-GISS.GISS-E2-1-G.historical.Amon.gn.r3i1p3f1']\n",
      "['ScenarioMIP.NASA-GISS.GISS-E2-1-G.ssp585.Amon.gn.r3i1p3f1']\n",
      "['CMIP.NASA-GISS.GISS-E2-1-G.historical.Amon.gn.r4i1p3f1']\n",
      "['ScenarioMIP.NASA-GISS.GISS-E2-1-G.ssp585.Amon.gn.r4i1p3f1']\n",
      "['CMIP.NASA-GISS.GISS-E2-1-G.historical.Amon.gn.r5i1p1f2']\n",
      "['ScenarioMIP.NASA-GISS.GISS-E2-1-G.ssp585.Amon.gn.r5i1p1f2']\n",
      "['CMIP.NASA-GISS.GISS-E2-1-G.historical.Amon.gn.r4i1p1f2']\n",
      "['ScenarioMIP.NASA-GISS.GISS-E2-1-G.ssp585.Amon.gn.r4i1p1f2']\n",
      "['CMIP.NASA-GISS.GISS-E2-1-G.historical.Amon.gn.r2i1p3f1']\n",
      "['ScenarioMIP.NASA-GISS.GISS-E2-1-G.ssp585.Amon.gn.r2i1p3f1']\n",
      "['CMIP.NASA-GISS.GISS-E2-1-G.historical.Amon.gn.r1i1p5f1']\n",
      "['ScenarioMIP.NASA-GISS.GISS-E2-1-G.ssp585.Amon.gn.r1i1p5f1']\n",
      "['CMIP.NASA-GISS.GISS-E2-1-G.historical.Amon.gn.r3i1p1f2']\n",
      "['ScenarioMIP.NASA-GISS.GISS-E2-1-G.ssp585.Amon.gn.r3i1p1f2']\n",
      "['CMIP.NASA-GISS.GISS-E2-1-G.historical.Amon.gn.r1i1p3f1']\n",
      "['ScenarioMIP.NASA-GISS.GISS-E2-1-G.ssp585.Amon.gn.r1i1p3f1']\n",
      "['CMIP.NASA-GISS.GISS-E2-1-G.historical.Amon.gn.r2i1p1f2']\n",
      "['ScenarioMIP.NASA-GISS.GISS-E2-1-G.ssp585.Amon.gn.r2i1p1f2']\n",
      "['CMIP.NASA-GISS.GISS-E2-1-G.historical.Amon.gn.r5i1p3f1']\n",
      "['ScenarioMIP.NASA-GISS.GISS-E2-1-G.ssp585.Amon.gn.r5i1p3f1']\n",
      "['CMIP.NASA-GISS.GISS-E2-1-G.historical.Amon.gn.r3i1p3f1']\n",
      "['ScenarioMIP.NASA-GISS.GISS-E2-1-G.ssp585.Amon.gn.r3i1p3f1']\n",
      "['CMIP.NASA-GISS.GISS-E2-1-G.historical.Amon.gn.r4i1p3f1']\n",
      "['ScenarioMIP.NASA-GISS.GISS-E2-1-G.ssp585.Amon.gn.r4i1p3f1']\n",
      "['CMIP.NASA-GISS.GISS-E2-1-G.historical.Amon.gn.r5i1p1f2']\n",
      "['ScenarioMIP.NASA-GISS.GISS-E2-1-G.ssp585.Amon.gn.r5i1p1f2']\n",
      "['CMIP.NASA-GISS.GISS-E2-1-G.historical.Amon.gn.r4i1p1f2']\n",
      "['ScenarioMIP.NASA-GISS.GISS-E2-1-G.ssp585.Amon.gn.r4i1p1f2']\n",
      "['CMIP.NASA-GISS.GISS-E2-1-G.historical.Amon.gn.r2i1p3f1']\n",
      "['ScenarioMIP.NASA-GISS.GISS-E2-1-G.ssp585.Amon.gn.r2i1p3f1']\n",
      "['CMIP.NASA-GISS.GISS-E2-1-G.historical.Amon.gn.r1i1p5f1']\n",
      "['ScenarioMIP.NASA-GISS.GISS-E2-1-G.ssp585.Amon.gn.r1i1p5f1']\n",
      "['CMIP.NASA-GISS.GISS-E2-1-G.historical.Amon.gn.r3i1p1f2']\n",
      "['ScenarioMIP.NASA-GISS.GISS-E2-1-G.ssp585.Amon.gn.r3i1p1f2']\n",
      "['CMIP.NASA-GISS.GISS-E2-1-G.historical.Amon.gn.r1i1p3f1']\n",
      "['ScenarioMIP.NASA-GISS.GISS-E2-1-G.ssp585.Amon.gn.r1i1p3f1']\n",
      "['CMIP.NASA-GISS.GISS-E2-1-G.historical.Amon.gn.r2i1p1f2']\n",
      "['ScenarioMIP.NASA-GISS.GISS-E2-1-G.ssp585.Amon.gn.r2i1p1f2']\n",
      "['CMIP.NASA-GISS.GISS-E2-1-G.historical.Amon.gn.r5i1p3f1']\n",
      "['ScenarioMIP.NASA-GISS.GISS-E2-1-G.ssp585.Amon.gn.r5i1p3f1']\n",
      "['CMIP.NASA-GISS.GISS-E2-1-G.historical.Amon.gn.r3i1p3f1']\n",
      "['ScenarioMIP.NASA-GISS.GISS-E2-1-G.ssp585.Amon.gn.r3i1p3f1']\n",
      "['CMIP.NASA-GISS.GISS-E2-1-G.historical.Amon.gn.r4i1p3f1']\n",
      "['ScenarioMIP.NASA-GISS.GISS-E2-1-G.ssp585.Amon.gn.r4i1p3f1']\n",
      "['CMIP.NASA-GISS.GISS-E2-1-G.historical.Amon.gn.r5i1p1f2']\n",
      "['ScenarioMIP.NASA-GISS.GISS-E2-1-G.ssp585.Amon.gn.r5i1p1f2']\n",
      "['CMIP.NASA-GISS.GISS-E2-1-G.historical.Amon.gn.r4i1p1f2']\n",
      "['ScenarioMIP.NASA-GISS.GISS-E2-1-G.ssp585.Amon.gn.r4i1p1f2']\n",
      "['CMIP.NASA-GISS.GISS-E2-1-G.historical.Amon.gn.r2i1p3f1']\n",
      "['ScenarioMIP.NASA-GISS.GISS-E2-1-G.ssp585.Amon.gn.r2i1p3f1']\n",
      "['CMIP.NASA-GISS.GISS-E2-1-G.historical.Amon.gn.r1i1p5f1']\n",
      "['ScenarioMIP.NASA-GISS.GISS-E2-1-G.ssp585.Amon.gn.r1i1p5f1']\n",
      "['CMIP.NASA-GISS.GISS-E2-1-G.historical.Amon.gn.r3i1p1f2']\n",
      "['ScenarioMIP.NASA-GISS.GISS-E2-1-G.ssp585.Amon.gn.r3i1p1f2']\n",
      "['CMIP.NASA-GISS.GISS-E2-1-G.historical.Amon.gn.r1i1p3f1']\n",
      "['ScenarioMIP.NASA-GISS.GISS-E2-1-G.ssp585.Amon.gn.r1i1p3f1']\n",
      "['CMIP.NASA-GISS.GISS-E2-1-G.historical.Amon.gn.r2i1p1f2']\n",
      "['ScenarioMIP.NASA-GISS.GISS-E2-1-G.ssp585.Amon.gn.r2i1p1f2']\n",
      "['CMIP.NASA-GISS.GISS-E2-1-G.historical.Amon.gn.r5i1p3f1']\n",
      "['ScenarioMIP.NASA-GISS.GISS-E2-1-G.ssp585.Amon.gn.r5i1p3f1']\n",
      "['CMIP.NASA-GISS.GISS-E2-1-G.historical.Amon.gn.r3i1p3f1']\n",
      "['ScenarioMIP.NASA-GISS.GISS-E2-1-G.ssp585.Amon.gn.r3i1p3f1']\n",
      "['CMIP.NASA-GISS.GISS-E2-1-G.historical.Amon.gn.r4i1p3f1']\n",
      "['ScenarioMIP.NASA-GISS.GISS-E2-1-G.ssp585.Amon.gn.r4i1p3f1']\n",
      "['CMIP.NASA-GISS.GISS-E2-1-G.historical.Amon.gn.r5i1p1f2']\n",
      "['ScenarioMIP.NASA-GISS.GISS-E2-1-G.ssp585.Amon.gn.r5i1p1f2']\n",
      "['CMIP.NASA-GISS.GISS-E2-1-G.historical.Amon.gn.r4i1p1f2']\n",
      "['ScenarioMIP.NASA-GISS.GISS-E2-1-G.ssp585.Amon.gn.r4i1p1f2']\n",
      "['CMIP.NASA-GISS.GISS-E2-1-G.historical.Amon.gn.r2i1p3f1']\n",
      "['ScenarioMIP.NASA-GISS.GISS-E2-1-G.ssp585.Amon.gn.r2i1p3f1']\n",
      "['CMIP.NASA-GISS.GISS-E2-1-G.historical.Amon.gn.r1i1p5f1']\n",
      "['ScenarioMIP.NASA-GISS.GISS-E2-1-G.ssp585.Amon.gn.r1i1p5f1']\n",
      "['CMIP.NASA-GISS.GISS-E2-1-G.historical.Amon.gn.r3i1p1f2']\n",
      "['ScenarioMIP.NASA-GISS.GISS-E2-1-G.ssp585.Amon.gn.r3i1p1f2']\n",
      "['CMIP.NASA-GISS.GISS-E2-1-G.historical.Amon.gn.r1i1p3f1']\n",
      "['ScenarioMIP.NASA-GISS.GISS-E2-1-G.ssp585.Amon.gn.r1i1p3f1']\n",
      "['CMIP.NASA-GISS.GISS-E2-1-G.historical.Amon.gn.r2i1p1f2']\n",
      "['ScenarioMIP.NASA-GISS.GISS-E2-1-G.ssp585.Amon.gn.r2i1p1f2']\n",
      "['CMIP.NASA-GISS.GISS-E2-1-G.historical.Amon.gn.r5i1p3f1']\n",
      "['ScenarioMIP.NASA-GISS.GISS-E2-1-G.ssp585.Amon.gn.r5i1p3f1']\n",
      "['CMIP.NASA-GISS.GISS-E2-1-G.historical.Amon.gn.r3i1p3f1']\n",
      "['ScenarioMIP.NASA-GISS.GISS-E2-1-G.ssp585.Amon.gn.r3i1p3f1']\n",
      "['CMIP.NASA-GISS.GISS-E2-1-G.historical.Amon.gn.r4i1p3f1']\n",
      "['ScenarioMIP.NASA-GISS.GISS-E2-1-G.ssp585.Amon.gn.r4i1p3f1']\n",
      "['CMIP.NASA-GISS.GISS-E2-1-G.historical.Amon.gn.r5i1p1f2']\n",
      "['ScenarioMIP.NASA-GISS.GISS-E2-1-G.ssp585.Amon.gn.r5i1p1f2']\n",
      "['CMIP.NASA-GISS.GISS-E2-1-G.historical.Amon.gn.r4i1p1f2']\n",
      "['ScenarioMIP.NASA-GISS.GISS-E2-1-G.ssp585.Amon.gn.r4i1p1f2']\n",
      "['CMIP.NASA-GISS.GISS-E2-1-G.historical.Amon.gn.r2i1p3f1']\n",
      "['ScenarioMIP.NASA-GISS.GISS-E2-1-G.ssp585.Amon.gn.r2i1p3f1']\n",
      "['CMIP.NASA-GISS.GISS-E2-1-G.historical.Amon.gn.r1i1p5f1']\n",
      "['ScenarioMIP.NASA-GISS.GISS-E2-1-G.ssp585.Amon.gn.r1i1p5f1']\n",
      "['CMIP.NASA-GISS.GISS-E2-1-G.historical.Amon.gn.r3i1p1f2']\n",
      "['ScenarioMIP.NASA-GISS.GISS-E2-1-G.ssp585.Amon.gn.r3i1p1f2']\n",
      "['CMIP.NASA-GISS.GISS-E2-1-G.historical.Amon.gn.r1i1p3f1']\n",
      "['ScenarioMIP.NASA-GISS.GISS-E2-1-G.ssp585.Amon.gn.r1i1p3f1']\n",
      "['CMIP.NASA-GISS.GISS-E2-1-G.historical.Amon.gn.r2i1p1f2']\n",
      "['ScenarioMIP.NASA-GISS.GISS-E2-1-G.ssp585.Amon.gn.r2i1p1f2']\n",
      "['CMIP.NASA-GISS.GISS-E2-1-G.historical.Amon.gn.r5i1p3f1']\n",
      "['ScenarioMIP.NASA-GISS.GISS-E2-1-G.ssp585.Amon.gn.r5i1p3f1']\n",
      "['CMIP.NASA-GISS.GISS-E2-1-G.historical.Amon.gn.r3i1p3f1']\n",
      "['ScenarioMIP.NASA-GISS.GISS-E2-1-G.ssp585.Amon.gn.r3i1p3f1']\n",
      "['CMIP.NASA-GISS.GISS-E2-1-G.historical.Amon.gn.r4i1p3f1']\n",
      "['ScenarioMIP.NASA-GISS.GISS-E2-1-G.ssp585.Amon.gn.r4i1p3f1']\n",
      "['CMIP.NASA-GISS.GISS-E2-1-G.historical.Amon.gn.r5i1p1f2']\n",
      "['ScenarioMIP.NASA-GISS.GISS-E2-1-G.ssp585.Amon.gn.r5i1p1f2']\n",
      "['CMIP.NASA-GISS.GISS-E2-1-G.historical.Amon.gn.r4i1p1f2']\n",
      "['ScenarioMIP.NASA-GISS.GISS-E2-1-G.ssp585.Amon.gn.r4i1p1f2']\n",
      "['CMIP.NASA-GISS.GISS-E2-1-G.historical.Amon.gn.r2i1p3f1']\n",
      "['ScenarioMIP.NASA-GISS.GISS-E2-1-G.ssp585.Amon.gn.r2i1p3f1']\n",
      "['CMIP.NASA-GISS.GISS-E2-1-G.historical.Amon.gn.r1i1p5f1']\n",
      "['ScenarioMIP.NASA-GISS.GISS-E2-1-G.ssp585.Amon.gn.r1i1p5f1']\n",
      "['CMIP.NASA-GISS.GISS-E2-1-G.historical.Amon.gn.r3i1p1f2']\n",
      "['ScenarioMIP.NASA-GISS.GISS-E2-1-G.ssp585.Amon.gn.r3i1p1f2']\n",
      "['CMIP.NASA-GISS.GISS-E2-1-G.historical.Amon.gn.r1i1p3f1']\n",
      "['ScenarioMIP.NASA-GISS.GISS-E2-1-G.ssp585.Amon.gn.r1i1p3f1']\n",
      "['CMIP.NASA-GISS.GISS-E2-1-G.historical.Amon.gn.r2i1p1f2']\n",
      "['ScenarioMIP.NASA-GISS.GISS-E2-1-G.ssp585.Amon.gn.r2i1p1f2']\n",
      "['CMIP.CCCR-IITM.IITM-ESM.historical.Amon.gn.r1i1p1f1']\n",
      "['ScenarioMIP.CCCR-IITM.IITM-ESM.ssp585.Amon.gn.r1i1p1f1']\n",
      "['CMIP.NIMS-KMA.KACE-1-0-G.historical.Amon.gr.r1i1p1f1']\n",
      "['ScenarioMIP.NIMS-KMA.KACE-1-0-G.ssp585.Amon.gr.r1i1p1f1']\n",
      "['CMIP.NIMS-KMA.KACE-1-0-G.historical.Amon.gr.r2i1p1f1']\n",
      "['ScenarioMIP.NIMS-KMA.KACE-1-0-G.ssp585.Amon.gr.r2i1p1f1']\n",
      "['CMIP.NIMS-KMA.KACE-1-0-G.historical.Amon.gr.r3i1p1f1']\n",
      "['ScenarioMIP.NIMS-KMA.KACE-1-0-G.ssp585.Amon.gr.r3i1p1f1']\n",
      "problem with KACE-1-0-G r14i1p1f2\n",
      "problem with KACE-1-0-G r15i1p1f2\n",
      "problem with KACE-1-0-G r13i1p1f2\n",
      "['CMIP.NIMS-KMA.KACE-1-0-G.historical.Amon.gr.r1i1p1f1']\n",
      "['ScenarioMIP.NIMS-KMA.KACE-1-0-G.ssp585.Amon.gr.r1i1p1f1']\n",
      "['CMIP.NIMS-KMA.KACE-1-0-G.historical.Amon.gr.r2i1p1f1']\n",
      "['ScenarioMIP.NIMS-KMA.KACE-1-0-G.ssp585.Amon.gr.r2i1p1f1']\n",
      "['CMIP.NIMS-KMA.KACE-1-0-G.historical.Amon.gr.r3i1p1f1']\n",
      "['ScenarioMIP.NIMS-KMA.KACE-1-0-G.ssp585.Amon.gr.r3i1p1f1']\n",
      "problem with KACE-1-0-G r14i1p1f2\n",
      "problem with KACE-1-0-G r15i1p1f2\n",
      "problem with KACE-1-0-G r13i1p1f2\n",
      "['CMIP.NIMS-KMA.KACE-1-0-G.historical.Amon.gr.r1i1p1f1']\n",
      "['ScenarioMIP.NIMS-KMA.KACE-1-0-G.ssp585.Amon.gr.r1i1p1f1']\n",
      "['CMIP.NIMS-KMA.KACE-1-0-G.historical.Amon.gr.r2i1p1f1']\n",
      "['ScenarioMIP.NIMS-KMA.KACE-1-0-G.ssp585.Amon.gr.r2i1p1f1']\n",
      "['CMIP.NIMS-KMA.KACE-1-0-G.historical.Amon.gr.r3i1p1f1']\n",
      "['ScenarioMIP.NIMS-KMA.KACE-1-0-G.ssp585.Amon.gr.r3i1p1f1']\n",
      "problem with KACE-1-0-G r14i1p1f2\n",
      "problem with KACE-1-0-G r15i1p1f2\n",
      "problem with KACE-1-0-G r13i1p1f2\n",
      "problem with UKESM1-0-LL r1i1p1f1\n",
      "problem with UKESM1-0-LL r2i1p1f1\n",
      "problem with UKESM1-0-LL r3i1p1f1\n",
      "['CMIP.NIMS-KMA.UKESM1-0-LL.historical.Amon.gn.r14i1p1f2']\n",
      "['ScenarioMIP.NIMS-KMA.UKESM1-0-LL.ssp585.Amon.gn.r14i1p1f2']\n",
      "['CMIP.NIMS-KMA.UKESM1-0-LL.historical.Amon.gn.r15i1p1f2']\n",
      "['ScenarioMIP.NIMS-KMA.UKESM1-0-LL.ssp585.Amon.gn.r15i1p1f2']\n",
      "['CMIP.NIMS-KMA.UKESM1-0-LL.historical.Amon.gn.r13i1p1f2']\n",
      "['ScenarioMIP.NIMS-KMA.UKESM1-0-LL.ssp585.Amon.gn.r13i1p1f2']\n",
      "problem with UKESM1-0-LL r1i1p1f1\n",
      "problem with UKESM1-0-LL r2i1p1f1\n",
      "problem with UKESM1-0-LL r3i1p1f1\n",
      "['CMIP.NIMS-KMA.UKESM1-0-LL.historical.Amon.gn.r14i1p1f2']\n",
      "['ScenarioMIP.NIMS-KMA.UKESM1-0-LL.ssp585.Amon.gn.r14i1p1f2']\n",
      "['CMIP.NIMS-KMA.UKESM1-0-LL.historical.Amon.gn.r15i1p1f2']\n",
      "['ScenarioMIP.NIMS-KMA.UKESM1-0-LL.ssp585.Amon.gn.r15i1p1f2']\n",
      "['CMIP.NIMS-KMA.UKESM1-0-LL.historical.Amon.gn.r13i1p1f2']\n",
      "['ScenarioMIP.NIMS-KMA.UKESM1-0-LL.ssp585.Amon.gn.r13i1p1f2']\n",
      "problem with UKESM1-0-LL r1i1p1f1\n",
      "problem with UKESM1-0-LL r2i1p1f1\n",
      "problem with UKESM1-0-LL r3i1p1f1\n",
      "['CMIP.NIMS-KMA.UKESM1-0-LL.historical.Amon.gn.r14i1p1f2']\n",
      "['ScenarioMIP.NIMS-KMA.UKESM1-0-LL.ssp585.Amon.gn.r14i1p1f2']\n",
      "['CMIP.NIMS-KMA.UKESM1-0-LL.historical.Amon.gn.r15i1p1f2']\n",
      "['ScenarioMIP.NIMS-KMA.UKESM1-0-LL.ssp585.Amon.gn.r15i1p1f2']\n",
      "['CMIP.NIMS-KMA.UKESM1-0-LL.historical.Amon.gn.r13i1p1f2']\n",
      "['ScenarioMIP.NIMS-KMA.UKESM1-0-LL.ssp585.Amon.gn.r13i1p1f2']\n",
      "['CMIP.NOAA-GFDL.GFDL-CM4.historical.Amon.gr1.r1i1p1f1']\n",
      "['ScenarioMIP.NOAA-GFDL.GFDL-CM4.ssp585.Amon.gr1.r1i1p1f1']\n",
      "['CMIP.NOAA-GFDL.GFDL-CM4.historical.Amon.gr1.r1i1p1f1']\n",
      "['ScenarioMIP.NOAA-GFDL.GFDL-CM4.ssp585.Amon.gr1.r1i1p1f1']\n",
      "['CMIP.NOAA-GFDL.GFDL-ESM4.historical.Amon.gr1.r1i1p1f1']\n",
      "['ScenarioMIP.NOAA-GFDL.GFDL-ESM4.ssp585.Amon.gr1.r1i1p1f1']\n",
      "['CMIP.NOAA-GFDL.GFDL-ESM4.historical.Amon.gr1.r1i1p1f1']\n",
      "['ScenarioMIP.NOAA-GFDL.GFDL-ESM4.ssp585.Amon.gr1.r1i1p1f1']\n",
      "['CMIP.CAS.CAS-ESM2-0.historical.Amon.gn.r3i1p1f1']\n",
      "['ScenarioMIP.CAS.CAS-ESM2-0.ssp585.Amon.gn.r3i1p1f1']\n",
      "['CMIP.CAS.CAS-ESM2-0.historical.Amon.gn.r1i1p1f1']\n",
      "['ScenarioMIP.CAS.CAS-ESM2-0.ssp585.Amon.gn.r1i1p1f1']\n",
      "['CMIP.CAS.CAS-ESM2-0.historical.Amon.gn.r1i1p1f1']\n",
      "['ScenarioMIP.CAS.CAS-ESM2-0.ssp585.Amon.gn.r1i1p1f1']\n",
      "['CMIP.CAS.CAS-ESM2-0.historical.Amon.gn.r3i1p1f1']\n",
      "['ScenarioMIP.CAS.CAS-ESM2-0.ssp585.Amon.gn.r3i1p1f1']\n",
      "['CMIP.CAS.CAS-ESM2-0.historical.Amon.gn.r1i1p1f1']\n",
      "['ScenarioMIP.CAS.CAS-ESM2-0.ssp585.Amon.gn.r1i1p1f1']\n",
      "['CMIP.CAS.CAS-ESM2-0.historical.Amon.gn.r1i1p1f1']\n",
      "['ScenarioMIP.CAS.CAS-ESM2-0.ssp585.Amon.gn.r1i1p1f1']\n",
      "problem with FGOALS-f3-L r3i1p1f1\n",
      "['CMIP.CAS.FGOALS-f3-L.historical.Amon.gr.r1i1p1f1']\n",
      "['ScenarioMIP.CAS.FGOALS-f3-L.ssp585.Amon.gr.r1i1p1f1']\n",
      "['CMIP.CAS.FGOALS-f3-L.historical.Amon.gr.r1i1p1f1']\n",
      "['ScenarioMIP.CAS.FGOALS-f3-L.ssp585.Amon.gr.r1i1p1f1']\n",
      "['CMIP.CMCC.CMCC-ESM2.historical.Amon.gn.r1i1p1f1']\n",
      "['ScenarioMIP.CMCC.CMCC-ESM2.ssp585.Amon.gn.r1i1p1f1']\n",
      "['CMIP.CMCC.CMCC-ESM2.historical.Amon.gn.r1i1p1f1']\n",
      "['ScenarioMIP.CMCC.CMCC-ESM2.ssp585.Amon.gn.r1i1p1f1']\n",
      "['CMIP.CMCC.CMCC-CM2-SR5.historical.Amon.gn.r1i1p1f1']\n",
      "['ScenarioMIP.CMCC.CMCC-CM2-SR5.ssp585.Amon.gn.r1i1p1f1']\n",
      "['CMIP.CMCC.CMCC-CM2-SR5.historical.Amon.gn.r1i1p1f1']\n",
      "['ScenarioMIP.CMCC.CMCC-CM2-SR5.ssp585.Amon.gn.r1i1p1f1']\n",
      "['CMIP.CAMS.CAMS-CSM1-0.historical.Amon.gn.r1i1p1f1']\n",
      "['ScenarioMIP.CAMS.CAMS-CSM1-0.ssp585.Amon.gn.r1i1p1f1']\n",
      "['CMIP.CAMS.CAMS-CSM1-0.historical.Amon.gn.r2i1p1f1']\n",
      "['ScenarioMIP.CAMS.CAMS-CSM1-0.ssp585.Amon.gn.r2i1p1f1']\n",
      "['CMIP.CAMS.CAMS-CSM1-0.historical.Amon.gn.r1i1p1f1']\n",
      "['ScenarioMIP.CAMS.CAMS-CSM1-0.ssp585.Amon.gn.r1i1p1f1']\n",
      "['CMIP.CAMS.CAMS-CSM1-0.historical.Amon.gn.r2i1p1f1']\n",
      "['ScenarioMIP.CAMS.CAMS-CSM1-0.ssp585.Amon.gn.r2i1p1f1']\n"
     ]
    },
    {
     "data": {
      "text/plain": [
       "<src.data_loading.get_cmip6.GetEnsemble at 0x7fd8803405e0>"
      ]
     },
     "execution_count": 2,
     "metadata": {},
     "output_type": "execute_result"
    }
   ],
   "source": [
    "GetEnsemble(var=\"vas\", output_folder=\"nc_vas\", regen_success_list=True)"
   ]
  },
  {
   "cell_type": "code",
   "execution_count": null,
   "id": "occupational-baseball",
   "metadata": {},
   "outputs": [],
   "source": [
    "GetEnsemble(var=\"uas\", output_folder=\"nc_uas\", regen_success_list=True)"
   ]
  }
 ],
 "metadata": {
  "kernelspec": {
   "display_name": "Python [conda env:notebook] *",
   "language": "python",
   "name": "conda-env-notebook-py"
  },
  "language_info": {
   "codemirror_mode": {
    "name": "ipython",
    "version": 3
   },
   "file_extension": ".py",
   "mimetype": "text/x-python",
   "name": "python",
   "nbconvert_exporter": "python",
   "pygments_lexer": "ipython3",
   "version": "3.8.6"
  }
 },
 "nbformat": 4,
 "nbformat_minor": 5
}
