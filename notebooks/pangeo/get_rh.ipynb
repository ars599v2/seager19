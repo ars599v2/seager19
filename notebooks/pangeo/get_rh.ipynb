{
 "cells": [
  {
   "cell_type": "code",
   "execution_count": 1,
   "id": "geographic-passing",
   "metadata": {},
   "outputs": [
    {
     "name": "stdout",
     "output_type": "stream",
     "text": [
      "NASA-GISS\n",
      "\n",
      "--> The keys in the returned dictionary of datasets are constructed as follows:\n",
      "\t'activity_id.institution_id.source_id.experiment_id.table_id.grid_label'\n"
     ]
    },
    {
     "data": {
      "text/html": [
       "\n",
       "    <div>\n",
       "        <style>\n",
       "            /* Turns off some styling */\n",
       "            progress {\n",
       "                /* gets rid of default border in Firefox and Opera. */\n",
       "                border: none;\n",
       "                /* Needs to be in here for Safari polyfill so background images work as expected. */\n",
       "                background-size: auto;\n",
       "            }\n",
       "            .progress-bar-interrupted, .progress-bar-interrupted::-webkit-progress-bar {\n",
       "                background: #F44336;\n",
       "            }\n",
       "        </style>\n",
       "      <progress value='3' class='' max='3' style='width:300px; height:20px; vertical-align: middle;'></progress>\n",
       "      100.00% [3/3 00:26<00:00]\n",
       "    </div>\n",
       "    "
      ],
      "text/plain": [
       "<IPython.core.display.HTML object>"
      ]
     },
     "metadata": {},
     "output_type": "display_data"
    },
    {
     "name": "stdout",
     "output_type": "stream",
     "text": [
      "NCC\n",
      "\n",
      "--> The keys in the returned dictionary of datasets are constructed as follows:\n",
      "\t'activity_id.institution_id.source_id.experiment_id.table_id.grid_label'\n"
     ]
    },
    {
     "data": {
      "text/html": [
       "\n",
       "    <div>\n",
       "        <style>\n",
       "            /* Turns off some styling */\n",
       "            progress {\n",
       "                /* gets rid of default border in Firefox and Opera. */\n",
       "                border: none;\n",
       "                /* Needs to be in here for Safari polyfill so background images work as expected. */\n",
       "                background-size: auto;\n",
       "            }\n",
       "            .progress-bar-interrupted, .progress-bar-interrupted::-webkit-progress-bar {\n",
       "                background: #F44336;\n",
       "            }\n",
       "        </style>\n",
       "      <progress value='2' class='' max='2' style='width:300px; height:20px; vertical-align: middle;'></progress>\n",
       "      100.00% [2/2 00:00<00:00]\n",
       "    </div>\n",
       "    "
      ],
      "text/plain": [
       "<IPython.core.display.HTML object>"
      ]
     },
     "metadata": {},
     "output_type": "display_data"
    },
    {
     "name": "stdout",
     "output_type": "stream",
     "text": [
      "CMCC\n",
      "\n",
      "--> The keys in the returned dictionary of datasets are constructed as follows:\n",
      "\t'activity_id.institution_id.source_id.experiment_id.table_id.grid_label'\n"
     ]
    },
    {
     "data": {
      "text/html": [
       "\n",
       "    <div>\n",
       "        <style>\n",
       "            /* Turns off some styling */\n",
       "            progress {\n",
       "                /* gets rid of default border in Firefox and Opera. */\n",
       "                border: none;\n",
       "                /* Needs to be in here for Safari polyfill so background images work as expected. */\n",
       "                background-size: auto;\n",
       "            }\n",
       "            .progress-bar-interrupted, .progress-bar-interrupted::-webkit-progress-bar {\n",
       "                background: #F44336;\n",
       "            }\n",
       "        </style>\n",
       "      <progress value='3' class='' max='3' style='width:300px; height:20px; vertical-align: middle;'></progress>\n",
       "      100.00% [3/3 00:00<00:00]\n",
       "    </div>\n",
       "    "
      ],
      "text/plain": [
       "<IPython.core.display.HTML object>"
      ]
     },
     "metadata": {},
     "output_type": "display_data"
    },
    {
     "name": "stdout",
     "output_type": "stream",
     "text": [
      "ECMWF\n",
      "CSIRO-ARCCSS\n"
     ]
    },
    {
     "name": "stderr",
     "output_type": "stream",
     "text": [
      "/srv/conda/envs/notebook/lib/python3.8/site-packages/intake_esm/search.py:107: UserWarning: Query returned zero results.\n",
      "  warn(message)\n",
      "/srv/conda/envs/notebook/lib/python3.8/site-packages/intake_esm/core.py:890: UserWarning: There are no datasets to load! Returning an empty dictionary.\n",
      "  warn('There are no datasets to load! Returning an empty dictionary.')\n"
     ]
    },
    {
     "name": "stdout",
     "output_type": "stream",
     "text": [
      "\n",
      "--> The keys in the returned dictionary of datasets are constructed as follows:\n",
      "\t'activity_id.institution_id.source_id.experiment_id.table_id.grid_label'\n",
      "Failed to apply pre-processing function: preproc\n",
      "CSIRO-ARCCSS failed\n",
      "NUIST\n",
      "\n",
      "--> The keys in the returned dictionary of datasets are constructed as follows:\n",
      "\t'activity_id.institution_id.source_id.experiment_id.table_id.grid_label'\n",
      "Failed to apply pre-processing function: preproc\n",
      "NUIST failed\n",
      "CAMS\n",
      "\n",
      "--> The keys in the returned dictionary of datasets are constructed as follows:\n",
      "\t'activity_id.institution_id.source_id.experiment_id.table_id.grid_label'\n"
     ]
    },
    {
     "data": {
      "text/html": [
       "\n",
       "    <div>\n",
       "        <style>\n",
       "            /* Turns off some styling */\n",
       "            progress {\n",
       "                /* gets rid of default border in Firefox and Opera. */\n",
       "                border: none;\n",
       "                /* Needs to be in here for Safari polyfill so background images work as expected. */\n",
       "                background-size: auto;\n",
       "            }\n",
       "            .progress-bar-interrupted, .progress-bar-interrupted::-webkit-progress-bar {\n",
       "                background: #F44336;\n",
       "            }\n",
       "        </style>\n",
       "      <progress value='1' class='' max='1' style='width:300px; height:20px; vertical-align: middle;'></progress>\n",
       "      100.00% [1/1 00:00<00:00]\n",
       "    </div>\n",
       "    "
      ],
      "text/plain": [
       "<IPython.core.display.HTML object>"
      ]
     },
     "metadata": {},
     "output_type": "display_data"
    },
    {
     "name": "stdout",
     "output_type": "stream",
     "text": [
      "NIMS-KMA\n",
      "\n",
      "--> The keys in the returned dictionary of datasets are constructed as follows:\n",
      "\t'activity_id.institution_id.source_id.experiment_id.table_id.grid_label'\n"
     ]
    },
    {
     "data": {
      "text/html": [
       "\n",
       "    <div>\n",
       "        <style>\n",
       "            /* Turns off some styling */\n",
       "            progress {\n",
       "                /* gets rid of default border in Firefox and Opera. */\n",
       "                border: none;\n",
       "                /* Needs to be in here for Safari polyfill so background images work as expected. */\n",
       "                background-size: auto;\n",
       "            }\n",
       "            .progress-bar-interrupted, .progress-bar-interrupted::-webkit-progress-bar {\n",
       "                background: #F44336;\n",
       "            }\n",
       "        </style>\n",
       "      <progress value='2' class='' max='2' style='width:300px; height:20px; vertical-align: middle;'></progress>\n",
       "      100.00% [2/2 00:00<00:00]\n",
       "    </div>\n",
       "    "
      ],
      "text/plain": [
       "<IPython.core.display.HTML object>"
      ]
     },
     "metadata": {},
     "output_type": "display_data"
    },
    {
     "name": "stdout",
     "output_type": "stream",
     "text": [
      "CSIRO\n",
      "\n",
      "--> The keys in the returned dictionary of datasets are constructed as follows:\n",
      "\t'activity_id.institution_id.source_id.experiment_id.table_id.grid_label'\n",
      "Failed to apply pre-processing function: preproc\n",
      "CSIRO failed\n",
      "INM\n",
      "\n",
      "--> The keys in the returned dictionary of datasets are constructed as follows:\n",
      "\t'activity_id.institution_id.source_id.experiment_id.table_id.grid_label'\n"
     ]
    },
    {
     "data": {
      "text/html": [
       "\n",
       "    <div>\n",
       "        <style>\n",
       "            /* Turns off some styling */\n",
       "            progress {\n",
       "                /* gets rid of default border in Firefox and Opera. */\n",
       "                border: none;\n",
       "                /* Needs to be in here for Safari polyfill so background images work as expected. */\n",
       "                background-size: auto;\n",
       "            }\n",
       "            .progress-bar-interrupted, .progress-bar-interrupted::-webkit-progress-bar {\n",
       "                background: #F44336;\n",
       "            }\n",
       "        </style>\n",
       "      <progress value='2' class='' max='2' style='width:300px; height:20px; vertical-align: middle;'></progress>\n",
       "      100.00% [2/2 00:03<00:00]\n",
       "    </div>\n",
       "    "
      ],
      "text/plain": [
       "<IPython.core.display.HTML object>"
      ]
     },
     "metadata": {},
     "output_type": "display_data"
    },
    {
     "name": "stdout",
     "output_type": "stream",
     "text": [
      "CNRM-CERFACS\n",
      "\n",
      "--> The keys in the returned dictionary of datasets are constructed as follows:\n",
      "\t'activity_id.institution_id.source_id.experiment_id.table_id.grid_label'\n",
      "Failed to apply pre-processing function: preproc\n",
      "CNRM-CERFACS failed\n",
      "ACCESS-ESM1-5\n"
     ]
    },
    {
     "name": "stderr",
     "output_type": "stream",
     "text": [
      "/srv/conda/envs/notebook/lib/python3.8/site-packages/intake_esm/search.py:107: UserWarning: Query returned zero results.\n",
      "  warn(message)\n",
      "/srv/conda/envs/notebook/lib/python3.8/site-packages/intake_esm/core.py:890: UserWarning: There are no datasets to load! Returning an empty dictionary.\n",
      "  warn('There are no datasets to load! Returning an empty dictionary.')\n"
     ]
    },
    {
     "name": "stdout",
     "output_type": "stream",
     "text": [
      "MRI\n",
      "\n",
      "--> The keys in the returned dictionary of datasets are constructed as follows:\n",
      "\t'activity_id.institution_id.source_id.experiment_id.table_id.grid_label'\n",
      "Failed to apply pre-processing function: preproc\n",
      "MRI failed\n",
      "DKRZ\n"
     ]
    },
    {
     "name": "stderr",
     "output_type": "stream",
     "text": [
      "/srv/conda/envs/notebook/lib/python3.8/site-packages/intake_esm/search.py:107: UserWarning: Query returned zero results.\n",
      "  warn(message)\n",
      "/srv/conda/envs/notebook/lib/python3.8/site-packages/intake_esm/core.py:890: UserWarning: There are no datasets to load! Returning an empty dictionary.\n",
      "  warn('There are no datasets to load! Returning an empty dictionary.')\n"
     ]
    },
    {
     "name": "stdout",
     "output_type": "stream",
     "text": [
      "EC-Earth-Consortium\n",
      "\n",
      "--> The keys in the returned dictionary of datasets are constructed as follows:\n",
      "\t'activity_id.institution_id.source_id.experiment_id.table_id.grid_label'\n",
      "Failed to apply pre-processing function: preproc\n",
      "EC-Earth-Consortium failed\n",
      "MOHC\n",
      "\n",
      "--> The keys in the returned dictionary of datasets are constructed as follows:\n",
      "\t'activity_id.institution_id.source_id.experiment_id.table_id.grid_label'\n"
     ]
    },
    {
     "data": {
      "text/html": [
       "\n",
       "    <div>\n",
       "        <style>\n",
       "            /* Turns off some styling */\n",
       "            progress {\n",
       "                /* gets rid of default border in Firefox and Opera. */\n",
       "                border: none;\n",
       "                /* Needs to be in here for Safari polyfill so background images work as expected. */\n",
       "                background-size: auto;\n",
       "            }\n",
       "            .progress-bar-interrupted, .progress-bar-interrupted::-webkit-progress-bar {\n",
       "                background: #F44336;\n",
       "            }\n",
       "        </style>\n",
       "      <progress value='3' class='' max='3' style='width:300px; height:20px; vertical-align: middle;'></progress>\n",
       "      100.00% [3/3 00:05<00:00]\n",
       "    </div>\n",
       "    "
      ],
      "text/plain": [
       "<IPython.core.display.HTML object>"
      ]
     },
     "metadata": {},
     "output_type": "display_data"
    },
    {
     "name": "stdout",
     "output_type": "stream",
     "text": [
      "IPSL\n",
      "\n",
      "--> The keys in the returned dictionary of datasets are constructed as follows:\n",
      "\t'activity_id.institution_id.source_id.experiment_id.table_id.grid_label'\n",
      "Failed to apply pre-processing function: preproc\n",
      "IPSL failed\n",
      "CAS\n",
      "\n",
      "--> The keys in the returned dictionary of datasets are constructed as follows:\n",
      "\t'activity_id.institution_id.source_id.experiment_id.table_id.grid_label'\n"
     ]
    },
    {
     "name": "stderr",
     "output_type": "stream",
     "text": [
      "/srv/conda/envs/notebook/lib/python3.8/site-packages/cmip6_preprocessing/preprocessing.py:267: UserWarning: `FGOALS-f3-L` does not provide lon or lat bounds.\n",
      "  warnings.warn(\"`FGOALS-f3-L` does not provide lon or lat bounds.\")\n",
      "/srv/conda/envs/notebook/lib/python3.8/site-packages/cmip6_preprocessing/preprocessing.py:267: UserWarning: `FGOALS-f3-L` does not provide lon or lat bounds.\n",
      "  warnings.warn(\"`FGOALS-f3-L` does not provide lon or lat bounds.\")\n",
      "/srv/conda/envs/notebook/lib/python3.8/site-packages/cmip6_preprocessing/preprocessing.py:267: UserWarning: `FGOALS-f3-L` does not provide lon or lat bounds.\n",
      "  warnings.warn(\"`FGOALS-f3-L` does not provide lon or lat bounds.\")\n"
     ]
    },
    {
     "data": {
      "text/html": [
       "\n",
       "    <div>\n",
       "        <style>\n",
       "            /* Turns off some styling */\n",
       "            progress {\n",
       "                /* gets rid of default border in Firefox and Opera. */\n",
       "                border: none;\n",
       "                /* Needs to be in here for Safari polyfill so background images work as expected. */\n",
       "                background-size: auto;\n",
       "            }\n",
       "            .progress-bar-interrupted, .progress-bar-interrupted::-webkit-progress-bar {\n",
       "                background: #F44336;\n",
       "            }\n",
       "        </style>\n",
       "      <progress value='3' class='' max='3' style='width:300px; height:20px; vertical-align: middle;'></progress>\n",
       "      100.00% [3/3 00:01<00:00]\n",
       "    </div>\n",
       "    "
      ],
      "text/plain": [
       "<IPython.core.display.HTML object>"
      ]
     },
     "metadata": {},
     "output_type": "display_data"
    },
    {
     "name": "stdout",
     "output_type": "stream",
     "text": [
      "SNU\n",
      "\n",
      "--> The keys in the returned dictionary of datasets are constructed as follows:\n",
      "\t'activity_id.institution_id.source_id.experiment_id.table_id.grid_label'\n"
     ]
    },
    {
     "data": {
      "text/html": [
       "\n",
       "    <div>\n",
       "        <style>\n",
       "            /* Turns off some styling */\n",
       "            progress {\n",
       "                /* gets rid of default border in Firefox and Opera. */\n",
       "                border: none;\n",
       "                /* Needs to be in here for Safari polyfill so background images work as expected. */\n",
       "                background-size: auto;\n",
       "            }\n",
       "            .progress-bar-interrupted, .progress-bar-interrupted::-webkit-progress-bar {\n",
       "                background: #F44336;\n",
       "            }\n",
       "        </style>\n",
       "      <progress value='1' class='' max='1' style='width:300px; height:20px; vertical-align: middle;'></progress>\n",
       "      100.00% [1/1 00:00<00:00]\n",
       "    </div>\n",
       "    "
      ],
      "text/plain": [
       "<IPython.core.display.HTML object>"
      ]
     },
     "metadata": {},
     "output_type": "display_data"
    },
    {
     "name": "stdout",
     "output_type": "stream",
     "text": [
      "E3SM-Project\n",
      "\n",
      "--> The keys in the returned dictionary of datasets are constructed as follows:\n",
      "\t'activity_id.institution_id.source_id.experiment_id.table_id.grid_label'\n"
     ]
    },
    {
     "data": {
      "text/html": [
       "\n",
       "    <div>\n",
       "        <style>\n",
       "            /* Turns off some styling */\n",
       "            progress {\n",
       "                /* gets rid of default border in Firefox and Opera. */\n",
       "                border: none;\n",
       "                /* Needs to be in here for Safari polyfill so background images work as expected. */\n",
       "                background-size: auto;\n",
       "            }\n",
       "            .progress-bar-interrupted, .progress-bar-interrupted::-webkit-progress-bar {\n",
       "                background: #F44336;\n",
       "            }\n",
       "        </style>\n",
       "      <progress value='3' class='' max='3' style='width:300px; height:20px; vertical-align: middle;'></progress>\n",
       "      100.00% [3/3 00:01<00:00]\n",
       "    </div>\n",
       "    "
      ],
      "text/plain": [
       "<IPython.core.display.HTML object>"
      ]
     },
     "metadata": {},
     "output_type": "display_data"
    },
    {
     "name": "stdout",
     "output_type": "stream",
     "text": [
      "NCAR\n",
      "\n",
      "--> The keys in the returned dictionary of datasets are constructed as follows:\n",
      "\t'activity_id.institution_id.source_id.experiment_id.table_id.grid_label'\n"
     ]
    },
    {
     "data": {
      "text/html": [
       "\n",
       "    <div>\n",
       "        <style>\n",
       "            /* Turns off some styling */\n",
       "            progress {\n",
       "                /* gets rid of default border in Firefox and Opera. */\n",
       "                border: none;\n",
       "                /* Needs to be in here for Safari polyfill so background images work as expected. */\n",
       "                background-size: auto;\n",
       "            }\n",
       "            .progress-bar-interrupted, .progress-bar-interrupted::-webkit-progress-bar {\n",
       "                background: #F44336;\n",
       "            }\n",
       "        </style>\n",
       "      <progress value='4' class='' max='4' style='width:300px; height:20px; vertical-align: middle;'></progress>\n",
       "      100.00% [4/4 00:02<00:00]\n",
       "    </div>\n",
       "    "
      ],
      "text/plain": [
       "<IPython.core.display.HTML object>"
      ]
     },
     "metadata": {},
     "output_type": "display_data"
    },
    {
     "name": "stdout",
     "output_type": "stream",
     "text": [
      "UA\n",
      "\n",
      "--> The keys in the returned dictionary of datasets are constructed as follows:\n",
      "\t'activity_id.institution_id.source_id.experiment_id.table_id.grid_label'\n"
     ]
    },
    {
     "data": {
      "text/html": [
       "\n",
       "    <div>\n",
       "        <style>\n",
       "            /* Turns off some styling */\n",
       "            progress {\n",
       "                /* gets rid of default border in Firefox and Opera. */\n",
       "                border: none;\n",
       "                /* Needs to be in here for Safari polyfill so background images work as expected. */\n",
       "                background-size: auto;\n",
       "            }\n",
       "            .progress-bar-interrupted, .progress-bar-interrupted::-webkit-progress-bar {\n",
       "                background: #F44336;\n",
       "            }\n",
       "        </style>\n",
       "      <progress value='1' class='' max='1' style='width:300px; height:20px; vertical-align: middle;'></progress>\n",
       "      100.00% [1/1 00:00<00:00]\n",
       "    </div>\n",
       "    "
      ],
      "text/plain": [
       "<IPython.core.display.HTML object>"
      ]
     },
     "metadata": {},
     "output_type": "display_data"
    },
    {
     "name": "stdout",
     "output_type": "stream",
     "text": [
      "FIO-QLNM\n",
      "\n",
      "--> The keys in the returned dictionary of datasets are constructed as follows:\n",
      "\t'activity_id.institution_id.source_id.experiment_id.table_id.grid_label'\n"
     ]
    },
    {
     "data": {
      "text/html": [
       "\n",
       "    <div>\n",
       "        <style>\n",
       "            /* Turns off some styling */\n",
       "            progress {\n",
       "                /* gets rid of default border in Firefox and Opera. */\n",
       "                border: none;\n",
       "                /* Needs to be in here for Safari polyfill so background images work as expected. */\n",
       "                background-size: auto;\n",
       "            }\n",
       "            .progress-bar-interrupted, .progress-bar-interrupted::-webkit-progress-bar {\n",
       "                background: #F44336;\n",
       "            }\n",
       "        </style>\n",
       "      <progress value='1' class='' max='1' style='width:300px; height:20px; vertical-align: middle;'></progress>\n",
       "      100.00% [1/1 00:00<00:00]\n",
       "    </div>\n",
       "    "
      ],
      "text/plain": [
       "<IPython.core.display.HTML object>"
      ]
     },
     "metadata": {},
     "output_type": "display_data"
    },
    {
     "name": "stdout",
     "output_type": "stream",
     "text": [
      "NOAA-GFDL\n",
      "\n",
      "--> The keys in the returned dictionary of datasets are constructed as follows:\n",
      "\t'activity_id.institution_id.source_id.experiment_id.table_id.grid_label'\n"
     ]
    },
    {
     "data": {
      "text/html": [
       "\n",
       "    <div>\n",
       "        <style>\n",
       "            /* Turns off some styling */\n",
       "            progress {\n",
       "                /* gets rid of default border in Firefox and Opera. */\n",
       "                border: none;\n",
       "                /* Needs to be in here for Safari polyfill so background images work as expected. */\n",
       "                background-size: auto;\n",
       "            }\n",
       "            .progress-bar-interrupted, .progress-bar-interrupted::-webkit-progress-bar {\n",
       "                background: #F44336;\n",
       "            }\n",
       "        </style>\n",
       "      <progress value='2' class='' max='2' style='width:300px; height:20px; vertical-align: middle;'></progress>\n",
       "      100.00% [2/2 00:00<00:00]\n",
       "    </div>\n",
       "    "
      ],
      "text/plain": [
       "<IPython.core.display.HTML object>"
      ]
     },
     "metadata": {},
     "output_type": "display_data"
    },
    {
     "name": "stdout",
     "output_type": "stream",
     "text": [
      "HAMMOZ-Consortium\n",
      "\n",
      "--> The keys in the returned dictionary of datasets are constructed as follows:\n",
      "\t'activity_id.institution_id.source_id.experiment_id.table_id.grid_label'\n",
      "Failed to apply pre-processing function: preproc\n",
      "HAMMOZ-Consortium failed\n",
      "MIROC\n",
      "\n",
      "--> The keys in the returned dictionary of datasets are constructed as follows:\n",
      "\t'activity_id.institution_id.source_id.experiment_id.table_id.grid_label'\n",
      "Failed to apply pre-processing function: preproc\n",
      "MIROC failed\n",
      "AWI\n",
      "\n",
      "--> The keys in the returned dictionary of datasets are constructed as follows:\n",
      "\t'activity_id.institution_id.source_id.experiment_id.table_id.grid_label'\n",
      "Failed to apply pre-processing function: preproc\n",
      "AWI failed\n",
      "MPI-M\n",
      "\n",
      "--> The keys in the returned dictionary of datasets are constructed as follows:\n",
      "\t'activity_id.institution_id.source_id.experiment_id.table_id.grid_label'\n",
      "Failed to apply pre-processing function: preproc\n",
      "MPI-M failed\n",
      "CCCR-IITM\n",
      "\n",
      "--> The keys in the returned dictionary of datasets are constructed as follows:\n",
      "\t'activity_id.institution_id.source_id.experiment_id.table_id.grid_label'\n"
     ]
    },
    {
     "data": {
      "text/html": [
       "\n",
       "    <div>\n",
       "        <style>\n",
       "            /* Turns off some styling */\n",
       "            progress {\n",
       "                /* gets rid of default border in Firefox and Opera. */\n",
       "                border: none;\n",
       "                /* Needs to be in here for Safari polyfill so background images work as expected. */\n",
       "                background-size: auto;\n",
       "            }\n",
       "            .progress-bar-interrupted, .progress-bar-interrupted::-webkit-progress-bar {\n",
       "                background: #F44336;\n",
       "            }\n",
       "        </style>\n",
       "      <progress value='1' class='' max='1' style='width:300px; height:20px; vertical-align: middle;'></progress>\n",
       "      100.00% [1/1 00:00<00:00]\n",
       "    </div>\n",
       "    "
      ],
      "text/plain": [
       "<IPython.core.display.HTML object>"
      ]
     },
     "metadata": {},
     "output_type": "display_data"
    },
    {
     "name": "stdout",
     "output_type": "stream",
     "text": [
      "RUBISCO\n",
      "CCCma\n"
     ]
    },
    {
     "name": "stderr",
     "output_type": "stream",
     "text": [
      "/srv/conda/envs/notebook/lib/python3.8/site-packages/intake_esm/search.py:107: UserWarning: Query returned zero results.\n",
      "  warn(message)\n",
      "/srv/conda/envs/notebook/lib/python3.8/site-packages/intake_esm/core.py:890: UserWarning: There are no datasets to load! Returning an empty dictionary.\n",
      "  warn('There are no datasets to load! Returning an empty dictionary.')\n"
     ]
    },
    {
     "name": "stdout",
     "output_type": "stream",
     "text": [
      "\n",
      "--> The keys in the returned dictionary of datasets are constructed as follows:\n",
      "\t'activity_id.institution_id.source_id.experiment_id.table_id.grid_label'\n"
     ]
    },
    {
     "data": {
      "text/html": [
       "\n",
       "    <div>\n",
       "        <style>\n",
       "            /* Turns off some styling */\n",
       "            progress {\n",
       "                /* gets rid of default border in Firefox and Opera. */\n",
       "                border: none;\n",
       "                /* Needs to be in here for Safari polyfill so background images work as expected. */\n",
       "                background-size: auto;\n",
       "            }\n",
       "            .progress-bar-interrupted, .progress-bar-interrupted::-webkit-progress-bar {\n",
       "                background: #F44336;\n",
       "            }\n",
       "        </style>\n",
       "      <progress value='2' class='' max='2' style='width:300px; height:20px; vertical-align: middle;'></progress>\n",
       "      100.00% [2/2 00:25<00:00]\n",
       "    </div>\n",
       "    "
      ],
      "text/plain": [
       "<IPython.core.display.HTML object>"
      ]
     },
     "metadata": {},
     "output_type": "display_data"
    },
    {
     "name": "stdout",
     "output_type": "stream",
     "text": [
      "KIOST\n",
      "\n",
      "--> The keys in the returned dictionary of datasets are constructed as follows:\n",
      "\t'activity_id.institution_id.source_id.experiment_id.table_id.grid_label'\n"
     ]
    },
    {
     "data": {
      "text/html": [
       "\n",
       "    <div>\n",
       "        <style>\n",
       "            /* Turns off some styling */\n",
       "            progress {\n",
       "                /* gets rid of default border in Firefox and Opera. */\n",
       "                border: none;\n",
       "                /* Needs to be in here for Safari polyfill so background images work as expected. */\n",
       "                background-size: auto;\n",
       "            }\n",
       "            .progress-bar-interrupted, .progress-bar-interrupted::-webkit-progress-bar {\n",
       "                background: #F44336;\n",
       "            }\n",
       "        </style>\n",
       "      <progress value='1' class='' max='1' style='width:300px; height:20px; vertical-align: middle;'></progress>\n",
       "      100.00% [1/1 00:00<00:00]\n",
       "    </div>\n",
       "    "
      ],
      "text/plain": [
       "<IPython.core.display.HTML object>"
      ]
     },
     "metadata": {},
     "output_type": "display_data"
    },
    {
     "name": "stdout",
     "output_type": "stream",
     "text": [
      "THU\n",
      "\n",
      "--> The keys in the returned dictionary of datasets are constructed as follows:\n",
      "\t'activity_id.institution_id.source_id.experiment_id.table_id.grid_label'\n"
     ]
    },
    {
     "data": {
      "text/html": [
       "\n",
       "    <div>\n",
       "        <style>\n",
       "            /* Turns off some styling */\n",
       "            progress {\n",
       "                /* gets rid of default border in Firefox and Opera. */\n",
       "                border: none;\n",
       "                /* Needs to be in here for Safari polyfill so background images work as expected. */\n",
       "                background-size: auto;\n",
       "            }\n",
       "            .progress-bar-interrupted, .progress-bar-interrupted::-webkit-progress-bar {\n",
       "                background: #F44336;\n",
       "            }\n",
       "        </style>\n",
       "      <progress value='1' class='' max='1' style='width:300px; height:20px; vertical-align: middle;'></progress>\n",
       "      100.00% [1/1 00:00<00:00]\n",
       "    </div>\n",
       "    "
      ],
      "text/plain": [
       "<IPython.core.display.HTML object>"
      ]
     },
     "metadata": {},
     "output_type": "display_data"
    },
    {
     "name": "stdout",
     "output_type": "stream",
     "text": [
      "DWD\n"
     ]
    },
    {
     "name": "stderr",
     "output_type": "stream",
     "text": [
      "/srv/conda/envs/notebook/lib/python3.8/site-packages/intake_esm/search.py:107: UserWarning: Query returned zero results.\n",
      "  warn(message)\n",
      "/srv/conda/envs/notebook/lib/python3.8/site-packages/intake_esm/core.py:890: UserWarning: There are no datasets to load! Returning an empty dictionary.\n",
      "  warn('There are no datasets to load! Returning an empty dictionary.')\n"
     ]
    },
    {
     "name": "stdout",
     "output_type": "stream",
     "text": [
      "NERC\n",
      "BCC\n",
      "\n",
      "--> The keys in the returned dictionary of datasets are constructed as follows:\n",
      "\t'activity_id.institution_id.source_id.experiment_id.table_id.grid_label'\n"
     ]
    },
    {
     "data": {
      "text/html": [
       "\n",
       "    <div>\n",
       "        <style>\n",
       "            /* Turns off some styling */\n",
       "            progress {\n",
       "                /* gets rid of default border in Firefox and Opera. */\n",
       "                border: none;\n",
       "                /* Needs to be in here for Safari polyfill so background images work as expected. */\n",
       "                background-size: auto;\n",
       "            }\n",
       "            .progress-bar-interrupted, .progress-bar-interrupted::-webkit-progress-bar {\n",
       "                background: #F44336;\n",
       "            }\n",
       "        </style>\n",
       "      <progress value='2' class='' max='2' style='width:300px; height:20px; vertical-align: middle;'></progress>\n",
       "      100.00% [2/2 00:00<00:00]\n",
       "    </div>\n",
       "    "
      ],
      "text/plain": [
       "<IPython.core.display.HTML object>"
      ]
     },
     "metadata": {},
     "output_type": "display_data"
    },
    {
     "name": "stdout",
     "output_type": "stream",
     "text": [
      "AS-RCEC\n",
      "\n",
      "--> The keys in the returned dictionary of datasets are constructed as follows:\n",
      "\t'activity_id.institution_id.source_id.experiment_id.table_id.grid_label'\n"
     ]
    },
    {
     "data": {
      "text/html": [
       "\n",
       "    <div>\n",
       "        <style>\n",
       "            /* Turns off some styling */\n",
       "            progress {\n",
       "                /* gets rid of default border in Firefox and Opera. */\n",
       "                border: none;\n",
       "                /* Needs to be in here for Safari polyfill so background images work as expected. */\n",
       "                background-size: auto;\n",
       "            }\n",
       "            .progress-bar-interrupted, .progress-bar-interrupted::-webkit-progress-bar {\n",
       "                background: #F44336;\n",
       "            }\n",
       "        </style>\n",
       "      <progress value='1' class='' max='1' style='width:300px; height:20px; vertical-align: middle;'></progress>\n",
       "      100.00% [1/1 00:00<00:00]\n",
       "    </div>\n",
       "    "
      ],
      "text/plain": [
       "<IPython.core.display.HTML object>"
      ]
     },
     "metadata": {},
     "output_type": "display_data"
    },
    {
     "name": "stdout",
     "output_type": "stream",
     "text": [
      "\n",
      "--> The keys in the returned dictionary of datasets are constructed as follows:\n",
      "\t'activity_id.institution_id.source_id.experiment_id.table_id.grid_label'\n"
     ]
    },
    {
     "data": {
      "text/html": [
       "\n",
       "    <div>\n",
       "        <style>\n",
       "            /* Turns off some styling */\n",
       "            progress {\n",
       "                /* gets rid of default border in Firefox and Opera. */\n",
       "                border: none;\n",
       "                /* Needs to be in here for Safari polyfill so background images work as expected. */\n",
       "                background-size: auto;\n",
       "            }\n",
       "            .progress-bar-interrupted, .progress-bar-interrupted::-webkit-progress-bar {\n",
       "                background: #F44336;\n",
       "            }\n",
       "        </style>\n",
       "      <progress value='37' class='' max='37' style='width:300px; height:20px; vertical-align: middle;'></progress>\n",
       "      100.00% [37/37 01:01<00:00]\n",
       "    </div>\n",
       "    "
      ],
      "text/plain": [
       "<IPython.core.display.HTML object>"
      ]
     },
     "metadata": {},
     "output_type": "display_data"
    },
    {
     "name": "stderr",
     "output_type": "stream",
     "text": [
      "/srv/conda/envs/notebook/lib/python3.8/site-packages/cmip6_preprocessing/preprocessing.py:267: UserWarning: `FGOALS-f3-L` does not provide lon or lat bounds.\n",
      "  warnings.warn(\"`FGOALS-f3-L` does not provide lon or lat bounds.\")\n",
      "/srv/conda/envs/notebook/lib/python3.8/site-packages/cmip6_preprocessing/preprocessing.py:267: UserWarning: `FGOALS-f3-L` does not provide lon or lat bounds.\n",
      "  warnings.warn(\"`FGOALS-f3-L` does not provide lon or lat bounds.\")\n",
      "/srv/conda/envs/notebook/lib/python3.8/site-packages/cmip6_preprocessing/preprocessing.py:267: UserWarning: `FGOALS-f3-L` does not provide lon or lat bounds.\n",
      "  warnings.warn(\"`FGOALS-f3-L` does not provide lon or lat bounds.\")\n"
     ]
    },
    {
     "name": "stdout",
     "output_type": "stream",
     "text": [
      "CMIP.NOAA-GFDL.GFDL-ESM4.historical.Amon.gr1\n",
      "CMIP.BCC.BCC-CSM2-MR.historical.Amon.gn\n",
      "CMIP.CMCC.CMCC-CM2-HR4.historical.Amon.gn\n",
      "CMIP.INM.INM-CM4-8.historical.Amon.gr1\n",
      "CMIP.E3SM-Project.E3SM-1-0.historical.Amon.gr\n",
      "CMIP.FIO-QLNM.FIO-ESM-2-0.historical.Amon.gn\n",
      "CMIP.NCAR.CESM2.historical.Amon.gn\n",
      "CMIP.NCAR.CESM2-WACCM.historical.Amon.gn\n",
      "CMIP.NIMS-KMA.KACE-1-0-G.historical.Amon.gr\n",
      "CMIP.CCCR-IITM.IITM-ESM.historical.Amon.gn\n",
      "CMIP.E3SM-Project.E3SM-1-1-ECA.historical.Amon.gr\n",
      "CMIP.NCC.NorESM2-LM.historical.Amon.gn\n",
      "CMIP.KIOST.KIOST-ESM.historical.Amon.gr1\n",
      "CMIP.NIMS-KMA.UKESM1-0-LL.historical.Amon.gn\n",
      "CMIP.UA.MCM-UA-1-0.historical.Amon.gn\n",
      "CMIP.NCAR.CESM2-WACCM-FV2.historical.Amon.gn\n",
      "CMIP.CMCC.CMCC-ESM2.historical.Amon.gn\n",
      "CMIP.CAS.FGOALS-f3-L.historical.Amon.gr\n",
      "CMIP.THU.CIESM.historical.Amon.gr\n",
      "CMIP.NCAR.CESM2-FV2.historical.Amon.gn\n",
      "CMIP.CAS.CAS-ESM2-0.historical.Amon.gn\n",
      "CMIP.E3SM-Project.E3SM-1-1.historical.Amon.gr\n",
      "CMIP.INM.INM-CM5-0.historical.Amon.gr1\n",
      "CMIP.AS-RCEC.TaiESM1.historical.Amon.gn\n",
      "CMIP.NASA-GISS.GISS-E2-1-G-CC.historical.Amon.gn\n",
      "CMIP.NCC.NorESM2-MM.historical.Amon.gn\n",
      "CMIP.CAMS.CAMS-CSM1-0.historical.Amon.gn\n",
      "CMIP.MOHC.UKESM1-0-LL.historical.Amon.gn\n",
      "CMIP.MOHC.HadGEM3-GC31-MM.historical.Amon.gn\n",
      "CMIP.CMCC.CMCC-CM2-SR5.historical.Amon.gn\n",
      "CMIP.CAS.FGOALS-g3.historical.Amon.gn\n",
      "CMIP.SNU.SAM0-UNICON.historical.Amon.gn\n",
      "CMIP.MOHC.HadGEM3-GC31-LL.historical.Amon.gn\n",
      "CMIP.NOAA-GFDL.GFDL-CM4.historical.Amon.gr1\n",
      "CMIP.BCC.BCC-ESM1.historical.Amon.gn\n",
      "CMIP.NASA-GISS.GISS-E2-1-H.historical.Amon.gn\n",
      "CMIP.NASA-GISS.GISS-E2-1-G.historical.Amon.gn\n",
      "\n",
      "--> The keys in the returned dictionary of datasets are constructed as follows:\n",
      "\t'activity_id.institution_id.source_id.experiment_id.table_id.grid_label'\n"
     ]
    },
    {
     "name": "stderr",
     "output_type": "stream",
     "text": [
      "/srv/conda/envs/notebook/lib/python3.8/site-packages/cmip6_preprocessing/preprocessing.py:286: UserWarning: Found time as dimension in `lat_bounds`. Assuming this is an error and just picking the first step along that dimension.\n",
      "  warnings.warn(\n"
     ]
    },
    {
     "data": {
      "text/html": [
       "\n",
       "    <div>\n",
       "        <style>\n",
       "            /* Turns off some styling */\n",
       "            progress {\n",
       "                /* gets rid of default border in Firefox and Opera. */\n",
       "                border: none;\n",
       "                /* Needs to be in here for Safari polyfill so background images work as expected. */\n",
       "                background-size: auto;\n",
       "            }\n",
       "            .progress-bar-interrupted, .progress-bar-interrupted::-webkit-progress-bar {\n",
       "                background: #F44336;\n",
       "            }\n",
       "        </style>\n",
       "      <progress value='27' class='' max='27' style='width:300px; height:20px; vertical-align: middle;'></progress>\n",
       "      100.00% [27/27 00:16<00:00]\n",
       "    </div>\n",
       "    "
      ],
      "text/plain": [
       "<IPython.core.display.HTML object>"
      ]
     },
     "metadata": {},
     "output_type": "display_data"
    },
    {
     "name": "stderr",
     "output_type": "stream",
     "text": [
      "/srv/conda/envs/notebook/lib/python3.8/site-packages/cmip6_preprocessing/preprocessing.py:267: UserWarning: `FGOALS-f3-L` does not provide lon or lat bounds.\n",
      "  warnings.warn(\"`FGOALS-f3-L` does not provide lon or lat bounds.\")\n"
     ]
    },
    {
     "name": "stdout",
     "output_type": "stream",
     "text": [
      "ScenarioMIP.CAS.CAS-ESM2-0.ssp585.Amon.gn\n",
      "ScenarioMIP.MOHC.HadGEM3-GC31-LL.ssp585.Amon.gn\n",
      "ScenarioMIP.FIO-QLNM.FIO-ESM-2-0.ssp585.Amon.gn\n",
      "ScenarioMIP.NCAR.CESM2-WACCM.ssp585.Amon.gn\n",
      "ScenarioMIP.NCAR.CESM2.ssp585.Amon.gn\n",
      "ScenarioMIP.CCCR-IITM.IITM-ESM.ssp585.Amon.gn\n",
      "ScenarioMIP.KIOST.KIOST-ESM.ssp585.Amon.gr1\n",
      "ScenarioMIP.NCC.NorESM2-MM.ssp585.Amon.gn\n",
      "ScenarioMIP.NOAA-GFDL.GFDL-CM4.ssp585.Amon.gr1\n",
      "ScenarioMIP.BCC.BCC-CSM2-MR.ssp585.Amon.gn\n",
      "ScenarioMIP.AS-RCEC.TaiESM1.ssp585.Amon.gn\n",
      "ScenarioMIP.CAMS.CAMS-CSM1-0.ssp585.Amon.gn\n",
      "ScenarioMIP.CMCC.CMCC-CM2-SR5.ssp585.Amon.gn\n",
      "ScenarioMIP.CAS.FGOALS-f3-L.ssp585.Amon.gr\n",
      "ScenarioMIP.INM.INM-CM4-8.ssp585.Amon.gr1\n",
      "ScenarioMIP.CAS.FGOALS-g3.ssp585.Amon.gn\n",
      "ScenarioMIP.INM.INM-CM5-0.ssp585.Amon.gr1\n",
      "ScenarioMIP.THU.CIESM.ssp585.Amon.gr\n",
      "ScenarioMIP.NIMS-KMA.KACE-1-0-G.ssp585.Amon.gr\n",
      "ScenarioMIP.MOHC.HadGEM3-GC31-MM.ssp585.Amon.gn\n",
      "ScenarioMIP.NCC.NorESM2-LM.ssp585.Amon.gn\n",
      "ScenarioMIP.UA.MCM-UA-1-0.ssp585.Amon.gn\n",
      "ScenarioMIP.E3SM-Project.E3SM-1-1.ssp585.Amon.gr\n",
      "ScenarioMIP.MOHC.UKESM1-0-LL.ssp585.Amon.gn\n",
      "ScenarioMIP.CMCC.CMCC-ESM2.ssp585.Amon.gn\n",
      "ScenarioMIP.NOAA-GFDL.GFDL-ESM4.ssp585.Amon.gr1\n",
      "ScenarioMIP.NASA-GISS.GISS-E2-1-G.ssp585.Amon.gn\n",
      "['CMIP.NASA-GISS.GISS-E2-1-G.historical.Amon.gn.r4i1p3f1']\n",
      "['ScenarioMIP.NASA-GISS.GISS-E2-1-G.ssp585.Amon.gn.r4i1p3f1']\n",
      "['CMIP.NASA-GISS.GISS-E2-1-G.historical.Amon.gn.r5i1p3f1']\n",
      "['ScenarioMIP.NASA-GISS.GISS-E2-1-G.ssp585.Amon.gn.r5i1p3f1']\n",
      "['CMIP.NASA-GISS.GISS-E2-1-G.historical.Amon.gn.r1i1p3f1']\n",
      "['ScenarioMIP.NASA-GISS.GISS-E2-1-G.ssp585.Amon.gn.r1i1p3f1']\n",
      "['CMIP.NASA-GISS.GISS-E2-1-G.historical.Amon.gn.r1i1p5f1']\n",
      "['ScenarioMIP.NASA-GISS.GISS-E2-1-G.ssp585.Amon.gn.r1i1p5f1']\n",
      "['CMIP.NASA-GISS.GISS-E2-1-G.historical.Amon.gn.r3i1p3f1']\n",
      "['ScenarioMIP.NASA-GISS.GISS-E2-1-G.ssp585.Amon.gn.r3i1p3f1']\n",
      "['CMIP.NASA-GISS.GISS-E2-1-G.historical.Amon.gn.r2i1p3f1']\n",
      "['ScenarioMIP.NASA-GISS.GISS-E2-1-G.ssp585.Amon.gn.r2i1p3f1']\n",
      "['CMIP.NASA-GISS.GISS-E2-1-G.historical.Amon.gn.r4i1p3f1']\n",
      "['ScenarioMIP.NASA-GISS.GISS-E2-1-G.ssp585.Amon.gn.r4i1p3f1']\n",
      "['CMIP.NASA-GISS.GISS-E2-1-G.historical.Amon.gn.r5i1p3f1']\n",
      "['ScenarioMIP.NASA-GISS.GISS-E2-1-G.ssp585.Amon.gn.r5i1p3f1']\n",
      "['CMIP.NASA-GISS.GISS-E2-1-G.historical.Amon.gn.r1i1p3f1']\n",
      "['ScenarioMIP.NASA-GISS.GISS-E2-1-G.ssp585.Amon.gn.r1i1p3f1']\n",
      "['CMIP.NASA-GISS.GISS-E2-1-G.historical.Amon.gn.r1i1p5f1']\n",
      "['ScenarioMIP.NASA-GISS.GISS-E2-1-G.ssp585.Amon.gn.r1i1p5f1']\n",
      "['CMIP.NASA-GISS.GISS-E2-1-G.historical.Amon.gn.r3i1p3f1']\n",
      "['ScenarioMIP.NASA-GISS.GISS-E2-1-G.ssp585.Amon.gn.r3i1p3f1']\n",
      "['CMIP.NASA-GISS.GISS-E2-1-G.historical.Amon.gn.r2i1p3f1']\n",
      "['ScenarioMIP.NASA-GISS.GISS-E2-1-G.ssp585.Amon.gn.r2i1p3f1']\n",
      "['CMIP.NASA-GISS.GISS-E2-1-G.historical.Amon.gn.r4i1p3f1']\n",
      "['ScenarioMIP.NASA-GISS.GISS-E2-1-G.ssp585.Amon.gn.r4i1p3f1']\n",
      "['CMIP.NASA-GISS.GISS-E2-1-G.historical.Amon.gn.r5i1p3f1']\n",
      "['ScenarioMIP.NASA-GISS.GISS-E2-1-G.ssp585.Amon.gn.r5i1p3f1']\n",
      "['CMIP.NASA-GISS.GISS-E2-1-G.historical.Amon.gn.r1i1p3f1']\n",
      "['ScenarioMIP.NASA-GISS.GISS-E2-1-G.ssp585.Amon.gn.r1i1p3f1']\n",
      "['CMIP.NASA-GISS.GISS-E2-1-G.historical.Amon.gn.r1i1p5f1']\n",
      "['ScenarioMIP.NASA-GISS.GISS-E2-1-G.ssp585.Amon.gn.r1i1p5f1']\n",
      "['CMIP.NASA-GISS.GISS-E2-1-G.historical.Amon.gn.r3i1p3f1']\n",
      "['ScenarioMIP.NASA-GISS.GISS-E2-1-G.ssp585.Amon.gn.r3i1p3f1']\n",
      "['CMIP.NASA-GISS.GISS-E2-1-G.historical.Amon.gn.r2i1p3f1']\n",
      "['ScenarioMIP.NASA-GISS.GISS-E2-1-G.ssp585.Amon.gn.r2i1p3f1']\n",
      "['CMIP.NASA-GISS.GISS-E2-1-G.historical.Amon.gn.r4i1p3f1']\n",
      "['ScenarioMIP.NASA-GISS.GISS-E2-1-G.ssp585.Amon.gn.r4i1p3f1']\n",
      "['CMIP.NASA-GISS.GISS-E2-1-G.historical.Amon.gn.r5i1p3f1']\n",
      "['ScenarioMIP.NASA-GISS.GISS-E2-1-G.ssp585.Amon.gn.r5i1p3f1']\n",
      "['CMIP.NASA-GISS.GISS-E2-1-G.historical.Amon.gn.r1i1p3f1']\n",
      "['ScenarioMIP.NASA-GISS.GISS-E2-1-G.ssp585.Amon.gn.r1i1p3f1']\n",
      "['CMIP.NASA-GISS.GISS-E2-1-G.historical.Amon.gn.r1i1p5f1']\n",
      "['ScenarioMIP.NASA-GISS.GISS-E2-1-G.ssp585.Amon.gn.r1i1p5f1']\n",
      "['CMIP.NASA-GISS.GISS-E2-1-G.historical.Amon.gn.r3i1p3f1']\n",
      "['ScenarioMIP.NASA-GISS.GISS-E2-1-G.ssp585.Amon.gn.r3i1p3f1']\n",
      "['CMIP.NASA-GISS.GISS-E2-1-G.historical.Amon.gn.r2i1p3f1']\n",
      "['ScenarioMIP.NASA-GISS.GISS-E2-1-G.ssp585.Amon.gn.r2i1p3f1']\n",
      "['CMIP.NASA-GISS.GISS-E2-1-G.historical.Amon.gn.r4i1p3f1']\n",
      "['ScenarioMIP.NASA-GISS.GISS-E2-1-G.ssp585.Amon.gn.r4i1p3f1']\n",
      "['CMIP.NASA-GISS.GISS-E2-1-G.historical.Amon.gn.r5i1p3f1']\n",
      "['ScenarioMIP.NASA-GISS.GISS-E2-1-G.ssp585.Amon.gn.r5i1p3f1']\n",
      "['CMIP.NASA-GISS.GISS-E2-1-G.historical.Amon.gn.r1i1p3f1']\n",
      "['ScenarioMIP.NASA-GISS.GISS-E2-1-G.ssp585.Amon.gn.r1i1p3f1']\n",
      "['CMIP.NASA-GISS.GISS-E2-1-G.historical.Amon.gn.r1i1p5f1']\n",
      "['ScenarioMIP.NASA-GISS.GISS-E2-1-G.ssp585.Amon.gn.r1i1p5f1']\n",
      "['CMIP.NASA-GISS.GISS-E2-1-G.historical.Amon.gn.r3i1p3f1']\n",
      "['ScenarioMIP.NASA-GISS.GISS-E2-1-G.ssp585.Amon.gn.r3i1p3f1']\n",
      "['CMIP.NASA-GISS.GISS-E2-1-G.historical.Amon.gn.r2i1p3f1']\n",
      "['ScenarioMIP.NASA-GISS.GISS-E2-1-G.ssp585.Amon.gn.r2i1p3f1']\n",
      "['CMIP.NASA-GISS.GISS-E2-1-G.historical.Amon.gn.r4i1p3f1']\n",
      "['ScenarioMIP.NASA-GISS.GISS-E2-1-G.ssp585.Amon.gn.r4i1p3f1']\n",
      "['CMIP.NASA-GISS.GISS-E2-1-G.historical.Amon.gn.r5i1p3f1']\n",
      "['ScenarioMIP.NASA-GISS.GISS-E2-1-G.ssp585.Amon.gn.r5i1p3f1']\n",
      "['CMIP.NASA-GISS.GISS-E2-1-G.historical.Amon.gn.r1i1p3f1']\n",
      "['ScenarioMIP.NASA-GISS.GISS-E2-1-G.ssp585.Amon.gn.r1i1p3f1']\n",
      "['CMIP.NASA-GISS.GISS-E2-1-G.historical.Amon.gn.r1i1p5f1']\n",
      "['ScenarioMIP.NASA-GISS.GISS-E2-1-G.ssp585.Amon.gn.r1i1p5f1']\n",
      "['CMIP.NASA-GISS.GISS-E2-1-G.historical.Amon.gn.r3i1p3f1']\n",
      "['ScenarioMIP.NASA-GISS.GISS-E2-1-G.ssp585.Amon.gn.r3i1p3f1']\n",
      "['CMIP.NASA-GISS.GISS-E2-1-G.historical.Amon.gn.r2i1p3f1']\n",
      "['ScenarioMIP.NASA-GISS.GISS-E2-1-G.ssp585.Amon.gn.r2i1p3f1']\n",
      "['CMIP.NCC.NorESM2-MM.historical.Amon.gn.r1i1p1f1']\n",
      "['ScenarioMIP.NCC.NorESM2-MM.ssp585.Amon.gn.r1i1p1f1']\n",
      "['CMIP.NCC.NorESM2-MM.historical.Amon.gn.r1i1p1f1']\n",
      "['ScenarioMIP.NCC.NorESM2-MM.ssp585.Amon.gn.r1i1p1f1']\n",
      "['CMIP.NCC.NorESM2-LM.historical.Amon.gn.r1i1p1f1']\n",
      "['ScenarioMIP.NCC.NorESM2-LM.ssp585.Amon.gn.r1i1p1f1']\n",
      "['CMIP.NCC.NorESM2-LM.historical.Amon.gn.r1i1p1f1']\n",
      "['ScenarioMIP.NCC.NorESM2-LM.ssp585.Amon.gn.r1i1p1f1']\n",
      "['CMIP.CMCC.CMCC-CM2-SR5.historical.Amon.gn.r1i1p1f1']\n",
      "['ScenarioMIP.CMCC.CMCC-CM2-SR5.ssp585.Amon.gn.r1i1p1f1']\n",
      "['CMIP.CMCC.CMCC-CM2-SR5.historical.Amon.gn.r1i1p1f1']\n",
      "['ScenarioMIP.CMCC.CMCC-CM2-SR5.ssp585.Amon.gn.r1i1p1f1']\n",
      "['CMIP.CMCC.CMCC-ESM2.historical.Amon.gn.r1i1p1f1']\n",
      "['ScenarioMIP.CMCC.CMCC-ESM2.ssp585.Amon.gn.r1i1p1f1']\n",
      "['CMIP.CMCC.CMCC-ESM2.historical.Amon.gn.r1i1p1f1']\n",
      "['ScenarioMIP.CMCC.CMCC-ESM2.ssp585.Amon.gn.r1i1p1f1']\n",
      "['CMIP.CAMS.CAMS-CSM1-0.historical.Amon.gn.r1i1p1f1']\n",
      "['ScenarioMIP.CAMS.CAMS-CSM1-0.ssp585.Amon.gn.r1i1p1f1']\n",
      "['CMIP.CAMS.CAMS-CSM1-0.historical.Amon.gn.r2i1p1f1']\n",
      "['ScenarioMIP.CAMS.CAMS-CSM1-0.ssp585.Amon.gn.r2i1p1f1']\n",
      "['CMIP.CAMS.CAMS-CSM1-0.historical.Amon.gn.r1i1p1f1']\n",
      "['ScenarioMIP.CAMS.CAMS-CSM1-0.ssp585.Amon.gn.r1i1p1f1']\n",
      "['CMIP.CAMS.CAMS-CSM1-0.historical.Amon.gn.r2i1p1f1']\n",
      "['ScenarioMIP.CAMS.CAMS-CSM1-0.ssp585.Amon.gn.r2i1p1f1']\n",
      "['CMIP.NIMS-KMA.KACE-1-0-G.historical.Amon.gr.r1i1p1f1']\n",
      "['ScenarioMIP.NIMS-KMA.KACE-1-0-G.ssp585.Amon.gr.r1i1p1f1']\n",
      "['CMIP.NIMS-KMA.KACE-1-0-G.historical.Amon.gr.r3i1p1f1']\n",
      "['ScenarioMIP.NIMS-KMA.KACE-1-0-G.ssp585.Amon.gr.r3i1p1f1']\n",
      "['CMIP.NIMS-KMA.KACE-1-0-G.historical.Amon.gr.r2i1p1f1']\n",
      "['ScenarioMIP.NIMS-KMA.KACE-1-0-G.ssp585.Amon.gr.r2i1p1f1']\n",
      "['CMIP.NIMS-KMA.KACE-1-0-G.historical.Amon.gr.r1i1p1f1']\n",
      "['ScenarioMIP.NIMS-KMA.KACE-1-0-G.ssp585.Amon.gr.r1i1p1f1']\n",
      "['CMIP.NIMS-KMA.KACE-1-0-G.historical.Amon.gr.r3i1p1f1']\n",
      "['ScenarioMIP.NIMS-KMA.KACE-1-0-G.ssp585.Amon.gr.r3i1p1f1']\n",
      "['CMIP.NIMS-KMA.KACE-1-0-G.historical.Amon.gr.r2i1p1f1']\n",
      "['ScenarioMIP.NIMS-KMA.KACE-1-0-G.ssp585.Amon.gr.r2i1p1f1']\n",
      "['CMIP.NIMS-KMA.KACE-1-0-G.historical.Amon.gr.r1i1p1f1']\n",
      "['ScenarioMIP.NIMS-KMA.KACE-1-0-G.ssp585.Amon.gr.r1i1p1f1']\n",
      "['CMIP.NIMS-KMA.KACE-1-0-G.historical.Amon.gr.r3i1p1f1']\n",
      "['ScenarioMIP.NIMS-KMA.KACE-1-0-G.ssp585.Amon.gr.r3i1p1f1']\n",
      "['CMIP.NIMS-KMA.KACE-1-0-G.historical.Amon.gr.r2i1p1f1']\n",
      "['ScenarioMIP.NIMS-KMA.KACE-1-0-G.ssp585.Amon.gr.r2i1p1f1']\n",
      "['CMIP.INM.INM-CM4-8.historical.Amon.gr1.r1i1p1f1']\n",
      "['ScenarioMIP.INM.INM-CM4-8.ssp585.Amon.gr1.r1i1p1f1']\n",
      "['CMIP.INM.INM-CM4-8.historical.Amon.gr1.r1i1p1f1']\n",
      "['ScenarioMIP.INM.INM-CM4-8.ssp585.Amon.gr1.r1i1p1f1']\n",
      "['CMIP.INM.INM-CM5-0.historical.Amon.gr1.r1i1p1f1']\n",
      "['ScenarioMIP.INM.INM-CM5-0.ssp585.Amon.gr1.r1i1p1f1']\n",
      "['CMIP.INM.INM-CM5-0.historical.Amon.gr1.r1i1p1f1']\n",
      "['ScenarioMIP.INM.INM-CM5-0.ssp585.Amon.gr1.r1i1p1f1']\n",
      "['CMIP.MOHC.HadGEM3-GC31-LL.historical.Amon.gn.r1i1p1f3']\n",
      "['ScenarioMIP.MOHC.HadGEM3-GC31-LL.ssp585.Amon.gn.r1i1p1f3']\n",
      "['CMIP.MOHC.HadGEM3-GC31-LL.historical.Amon.gn.r2i1p1f3']\n",
      "['ScenarioMIP.MOHC.HadGEM3-GC31-LL.ssp585.Amon.gn.r2i1p1f3']\n",
      "['CMIP.MOHC.HadGEM3-GC31-LL.historical.Amon.gn.r3i1p1f3']\n",
      "['ScenarioMIP.MOHC.HadGEM3-GC31-LL.ssp585.Amon.gn.r3i1p1f3']\n",
      "['CMIP.MOHC.HadGEM3-GC31-LL.historical.Amon.gn.r1i1p1f3']\n",
      "['ScenarioMIP.MOHC.HadGEM3-GC31-LL.ssp585.Amon.gn.r1i1p1f3']\n",
      "['CMIP.MOHC.HadGEM3-GC31-LL.historical.Amon.gn.r2i1p1f3']\n",
      "['ScenarioMIP.MOHC.HadGEM3-GC31-LL.ssp585.Amon.gn.r2i1p1f3']\n",
      "problem with HadGEM3-GC31-LL r4i1p1f3\n",
      "problem with HadGEM3-GC31-LL r1i1p1f2\n",
      "problem with HadGEM3-GC31-LL r2i1p1f2\n",
      "problem with HadGEM3-GC31-LL r4i1p1f2\n",
      "problem with HadGEM3-GC31-LL r3i1p1f2\n",
      "problem with HadGEM3-GC31-LL r8i1p1f2\n",
      "['CMIP.MOHC.HadGEM3-GC31-LL.historical.Amon.gn.r1i1p1f3']\n",
      "['ScenarioMIP.MOHC.HadGEM3-GC31-LL.ssp585.Amon.gn.r1i1p1f3']\n",
      "['CMIP.MOHC.HadGEM3-GC31-LL.historical.Amon.gn.r2i1p1f3']\n",
      "['ScenarioMIP.MOHC.HadGEM3-GC31-LL.ssp585.Amon.gn.r2i1p1f3']\n",
      "['CMIP.MOHC.HadGEM3-GC31-LL.historical.Amon.gn.r3i1p1f3']\n",
      "['ScenarioMIP.MOHC.HadGEM3-GC31-LL.ssp585.Amon.gn.r3i1p1f3']\n",
      "['CMIP.MOHC.HadGEM3-GC31-LL.historical.Amon.gn.r1i1p1f3']\n",
      "['ScenarioMIP.MOHC.HadGEM3-GC31-LL.ssp585.Amon.gn.r1i1p1f3']\n",
      "['CMIP.MOHC.HadGEM3-GC31-LL.historical.Amon.gn.r2i1p1f3']\n",
      "['ScenarioMIP.MOHC.HadGEM3-GC31-LL.ssp585.Amon.gn.r2i1p1f3']\n",
      "problem with HadGEM3-GC31-LL r4i1p1f3\n",
      "problem with HadGEM3-GC31-LL r1i1p1f2\n",
      "problem with HadGEM3-GC31-LL r2i1p1f2\n",
      "problem with HadGEM3-GC31-LL r4i1p1f2\n",
      "problem with HadGEM3-GC31-LL r3i1p1f2\n",
      "problem with HadGEM3-GC31-LL r8i1p1f2\n",
      "['CMIP.MOHC.HadGEM3-GC31-LL.historical.Amon.gn.r1i1p1f3']\n",
      "['ScenarioMIP.MOHC.HadGEM3-GC31-LL.ssp585.Amon.gn.r1i1p1f3']\n",
      "['CMIP.MOHC.HadGEM3-GC31-LL.historical.Amon.gn.r2i1p1f3']\n",
      "['ScenarioMIP.MOHC.HadGEM3-GC31-LL.ssp585.Amon.gn.r2i1p1f3']\n",
      "['CMIP.MOHC.HadGEM3-GC31-LL.historical.Amon.gn.r3i1p1f3']\n",
      "['ScenarioMIP.MOHC.HadGEM3-GC31-LL.ssp585.Amon.gn.r3i1p1f3']\n",
      "['CMIP.MOHC.HadGEM3-GC31-LL.historical.Amon.gn.r1i1p1f3']\n",
      "['ScenarioMIP.MOHC.HadGEM3-GC31-LL.ssp585.Amon.gn.r1i1p1f3']\n",
      "['CMIP.MOHC.HadGEM3-GC31-LL.historical.Amon.gn.r2i1p1f3']\n",
      "['ScenarioMIP.MOHC.HadGEM3-GC31-LL.ssp585.Amon.gn.r2i1p1f3']\n",
      "problem with HadGEM3-GC31-LL r4i1p1f3\n",
      "problem with HadGEM3-GC31-LL r1i1p1f2\n",
      "problem with HadGEM3-GC31-LL r2i1p1f2\n",
      "problem with HadGEM3-GC31-LL r4i1p1f2\n",
      "problem with HadGEM3-GC31-LL r3i1p1f2\n",
      "problem with HadGEM3-GC31-LL r8i1p1f2\n",
      "['CMIP.MOHC.HadGEM3-GC31-MM.historical.Amon.gn.r1i1p1f3']\n",
      "['ScenarioMIP.MOHC.HadGEM3-GC31-MM.ssp585.Amon.gn.r1i1p1f3']\n",
      "['CMIP.MOHC.HadGEM3-GC31-MM.historical.Amon.gn.r2i1p1f3']\n",
      "['ScenarioMIP.MOHC.HadGEM3-GC31-MM.ssp585.Amon.gn.r2i1p1f3']\n",
      "problem with HadGEM3-GC31-MM r3i1p1f3\n",
      "['CMIP.MOHC.HadGEM3-GC31-MM.historical.Amon.gn.r1i1p1f3']\n",
      "['ScenarioMIP.MOHC.HadGEM3-GC31-MM.ssp585.Amon.gn.r1i1p1f3']\n",
      "['CMIP.MOHC.HadGEM3-GC31-MM.historical.Amon.gn.r2i1p1f3']\n",
      "['ScenarioMIP.MOHC.HadGEM3-GC31-MM.ssp585.Amon.gn.r2i1p1f3']\n",
      "problem with HadGEM3-GC31-MM r4i1p1f3\n",
      "problem with HadGEM3-GC31-MM r1i1p1f2\n",
      "problem with HadGEM3-GC31-MM r2i1p1f2\n",
      "problem with HadGEM3-GC31-MM r4i1p1f2\n",
      "problem with HadGEM3-GC31-MM r3i1p1f2\n",
      "problem with HadGEM3-GC31-MM r8i1p1f2\n",
      "['CMIP.MOHC.HadGEM3-GC31-MM.historical.Amon.gn.r1i1p1f3']\n",
      "['ScenarioMIP.MOHC.HadGEM3-GC31-MM.ssp585.Amon.gn.r1i1p1f3']\n",
      "['CMIP.MOHC.HadGEM3-GC31-MM.historical.Amon.gn.r2i1p1f3']\n",
      "['ScenarioMIP.MOHC.HadGEM3-GC31-MM.ssp585.Amon.gn.r2i1p1f3']\n",
      "problem with HadGEM3-GC31-MM r3i1p1f3\n",
      "['CMIP.MOHC.HadGEM3-GC31-MM.historical.Amon.gn.r1i1p1f3']\n",
      "['ScenarioMIP.MOHC.HadGEM3-GC31-MM.ssp585.Amon.gn.r1i1p1f3']\n",
      "['CMIP.MOHC.HadGEM3-GC31-MM.historical.Amon.gn.r2i1p1f3']\n",
      "['ScenarioMIP.MOHC.HadGEM3-GC31-MM.ssp585.Amon.gn.r2i1p1f3']\n",
      "problem with HadGEM3-GC31-MM r4i1p1f3\n",
      "problem with HadGEM3-GC31-MM r1i1p1f2\n",
      "problem with HadGEM3-GC31-MM r2i1p1f2\n",
      "problem with HadGEM3-GC31-MM r4i1p1f2\n",
      "problem with HadGEM3-GC31-MM r3i1p1f2\n",
      "problem with HadGEM3-GC31-MM r8i1p1f2\n",
      "['CMIP.MOHC.HadGEM3-GC31-MM.historical.Amon.gn.r1i1p1f3']\n",
      "['ScenarioMIP.MOHC.HadGEM3-GC31-MM.ssp585.Amon.gn.r1i1p1f3']\n",
      "['CMIP.MOHC.HadGEM3-GC31-MM.historical.Amon.gn.r2i1p1f3']\n",
      "['ScenarioMIP.MOHC.HadGEM3-GC31-MM.ssp585.Amon.gn.r2i1p1f3']\n",
      "problem with HadGEM3-GC31-MM r3i1p1f3\n",
      "['CMIP.MOHC.HadGEM3-GC31-MM.historical.Amon.gn.r1i1p1f3']\n",
      "['ScenarioMIP.MOHC.HadGEM3-GC31-MM.ssp585.Amon.gn.r1i1p1f3']\n",
      "['CMIP.MOHC.HadGEM3-GC31-MM.historical.Amon.gn.r2i1p1f3']\n",
      "['ScenarioMIP.MOHC.HadGEM3-GC31-MM.ssp585.Amon.gn.r2i1p1f3']\n",
      "problem with HadGEM3-GC31-MM r4i1p1f3\n",
      "problem with HadGEM3-GC31-MM r1i1p1f2\n",
      "problem with HadGEM3-GC31-MM r2i1p1f2\n",
      "problem with HadGEM3-GC31-MM r4i1p1f2\n",
      "problem with HadGEM3-GC31-MM r3i1p1f2\n",
      "problem with HadGEM3-GC31-MM r8i1p1f2\n",
      "problem with UKESM1-0-LL r1i1p1f3\n",
      "problem with UKESM1-0-LL r2i1p1f3\n",
      "problem with UKESM1-0-LL r3i1p1f3\n",
      "problem with UKESM1-0-LL r1i1p1f3\n",
      "problem with UKESM1-0-LL r2i1p1f3\n",
      "problem with UKESM1-0-LL r4i1p1f3\n",
      "['CMIP.MOHC.UKESM1-0-LL.historical.Amon.gn.r1i1p1f2']\n",
      "['ScenarioMIP.MOHC.UKESM1-0-LL.ssp585.Amon.gn.r1i1p1f2']\n",
      "['CMIP.MOHC.UKESM1-0-LL.historical.Amon.gn.r2i1p1f2']\n",
      "['ScenarioMIP.MOHC.UKESM1-0-LL.ssp585.Amon.gn.r2i1p1f2']\n",
      "['CMIP.MOHC.UKESM1-0-LL.historical.Amon.gn.r4i1p1f2']\n",
      "['ScenarioMIP.MOHC.UKESM1-0-LL.ssp585.Amon.gn.r4i1p1f2']\n",
      "['CMIP.MOHC.UKESM1-0-LL.historical.Amon.gn.r3i1p1f2']\n",
      "['ScenarioMIP.MOHC.UKESM1-0-LL.ssp585.Amon.gn.r3i1p1f2']\n",
      "['CMIP.MOHC.UKESM1-0-LL.historical.Amon.gn.r8i1p1f2']\n",
      "['ScenarioMIP.MOHC.UKESM1-0-LL.ssp585.Amon.gn.r8i1p1f2']\n",
      "problem with UKESM1-0-LL r1i1p1f3\n",
      "problem with UKESM1-0-LL r2i1p1f3\n",
      "problem with UKESM1-0-LL r3i1p1f3\n",
      "problem with UKESM1-0-LL r1i1p1f3\n",
      "problem with UKESM1-0-LL r2i1p1f3\n",
      "problem with UKESM1-0-LL r4i1p1f3\n",
      "['CMIP.MOHC.UKESM1-0-LL.historical.Amon.gn.r1i1p1f2']\n",
      "['ScenarioMIP.MOHC.UKESM1-0-LL.ssp585.Amon.gn.r1i1p1f2']\n",
      "['CMIP.MOHC.UKESM1-0-LL.historical.Amon.gn.r2i1p1f2']\n",
      "['ScenarioMIP.MOHC.UKESM1-0-LL.ssp585.Amon.gn.r2i1p1f2']\n",
      "['CMIP.MOHC.UKESM1-0-LL.historical.Amon.gn.r4i1p1f2']\n",
      "['ScenarioMIP.MOHC.UKESM1-0-LL.ssp585.Amon.gn.r4i1p1f2']\n",
      "['CMIP.MOHC.UKESM1-0-LL.historical.Amon.gn.r3i1p1f2']\n",
      "['ScenarioMIP.MOHC.UKESM1-0-LL.ssp585.Amon.gn.r3i1p1f2']\n",
      "['CMIP.MOHC.UKESM1-0-LL.historical.Amon.gn.r8i1p1f2']\n",
      "['ScenarioMIP.MOHC.UKESM1-0-LL.ssp585.Amon.gn.r8i1p1f2']\n",
      "problem with UKESM1-0-LL r1i1p1f3\n",
      "problem with UKESM1-0-LL r2i1p1f3\n",
      "problem with UKESM1-0-LL r3i1p1f3\n",
      "problem with UKESM1-0-LL r1i1p1f3\n",
      "problem with UKESM1-0-LL r2i1p1f3\n",
      "problem with UKESM1-0-LL r4i1p1f3\n",
      "['CMIP.MOHC.UKESM1-0-LL.historical.Amon.gn.r1i1p1f2']\n",
      "['ScenarioMIP.MOHC.UKESM1-0-LL.ssp585.Amon.gn.r1i1p1f2']\n",
      "['CMIP.MOHC.UKESM1-0-LL.historical.Amon.gn.r2i1p1f2']\n",
      "['ScenarioMIP.MOHC.UKESM1-0-LL.ssp585.Amon.gn.r2i1p1f2']\n",
      "['CMIP.MOHC.UKESM1-0-LL.historical.Amon.gn.r4i1p1f2']\n",
      "['ScenarioMIP.MOHC.UKESM1-0-LL.ssp585.Amon.gn.r4i1p1f2']\n",
      "['CMIP.MOHC.UKESM1-0-LL.historical.Amon.gn.r3i1p1f2']\n",
      "['ScenarioMIP.MOHC.UKESM1-0-LL.ssp585.Amon.gn.r3i1p1f2']\n",
      "['CMIP.MOHC.UKESM1-0-LL.historical.Amon.gn.r8i1p1f2']\n",
      "['ScenarioMIP.MOHC.UKESM1-0-LL.ssp585.Amon.gn.r8i1p1f2']\n",
      "problem with UKESM1-0-LL r1i1p1f3\n",
      "problem with UKESM1-0-LL r2i1p1f3\n",
      "problem with UKESM1-0-LL r3i1p1f3\n",
      "problem with UKESM1-0-LL r1i1p1f3\n",
      "problem with UKESM1-0-LL r2i1p1f3\n",
      "problem with UKESM1-0-LL r4i1p1f3\n",
      "['CMIP.MOHC.UKESM1-0-LL.historical.Amon.gn.r1i1p1f2']\n",
      "['ScenarioMIP.MOHC.UKESM1-0-LL.ssp585.Amon.gn.r1i1p1f2']\n",
      "['CMIP.MOHC.UKESM1-0-LL.historical.Amon.gn.r2i1p1f2']\n",
      "['ScenarioMIP.MOHC.UKESM1-0-LL.ssp585.Amon.gn.r2i1p1f2']\n",
      "['CMIP.MOHC.UKESM1-0-LL.historical.Amon.gn.r4i1p1f2']\n",
      "['ScenarioMIP.MOHC.UKESM1-0-LL.ssp585.Amon.gn.r4i1p1f2']\n",
      "['CMIP.MOHC.UKESM1-0-LL.historical.Amon.gn.r3i1p1f2']\n",
      "['ScenarioMIP.MOHC.UKESM1-0-LL.ssp585.Amon.gn.r3i1p1f2']\n",
      "['CMIP.MOHC.UKESM1-0-LL.historical.Amon.gn.r8i1p1f2']\n",
      "['ScenarioMIP.MOHC.UKESM1-0-LL.ssp585.Amon.gn.r8i1p1f2']\n",
      "problem with UKESM1-0-LL r1i1p1f3\n",
      "problem with UKESM1-0-LL r2i1p1f3\n",
      "problem with UKESM1-0-LL r3i1p1f3\n",
      "problem with UKESM1-0-LL r1i1p1f3\n",
      "problem with UKESM1-0-LL r2i1p1f3\n",
      "problem with UKESM1-0-LL r4i1p1f3\n",
      "['CMIP.MOHC.UKESM1-0-LL.historical.Amon.gn.r1i1p1f2']\n",
      "['ScenarioMIP.MOHC.UKESM1-0-LL.ssp585.Amon.gn.r1i1p1f2']\n",
      "['CMIP.MOHC.UKESM1-0-LL.historical.Amon.gn.r2i1p1f2']\n",
      "['ScenarioMIP.MOHC.UKESM1-0-LL.ssp585.Amon.gn.r2i1p1f2']\n",
      "['CMIP.MOHC.UKESM1-0-LL.historical.Amon.gn.r4i1p1f2']\n",
      "['ScenarioMIP.MOHC.UKESM1-0-LL.ssp585.Amon.gn.r4i1p1f2']\n",
      "['CMIP.MOHC.UKESM1-0-LL.historical.Amon.gn.r3i1p1f2']\n",
      "['ScenarioMIP.MOHC.UKESM1-0-LL.ssp585.Amon.gn.r3i1p1f2']\n",
      "['CMIP.MOHC.UKESM1-0-LL.historical.Amon.gn.r8i1p1f2']\n",
      "['ScenarioMIP.MOHC.UKESM1-0-LL.ssp585.Amon.gn.r8i1p1f2']\n",
      "['CMIP.CAS.CAS-ESM2-0.historical.Amon.gn.r1i1p1f1']\n",
      "['ScenarioMIP.CAS.CAS-ESM2-0.ssp585.Amon.gn.r1i1p1f1']\n",
      "['CMIP.CAS.CAS-ESM2-0.historical.Amon.gn.r1i1p1f1']\n",
      "['ScenarioMIP.CAS.CAS-ESM2-0.ssp585.Amon.gn.r1i1p1f1']\n",
      "['CMIP.CAS.CAS-ESM2-0.historical.Amon.gn.r1i1p1f1']\n",
      "['ScenarioMIP.CAS.CAS-ESM2-0.ssp585.Amon.gn.r1i1p1f1']\n",
      "problem with CAS-ESM2-0 r3i1p1f1\n",
      "problem with CAS-ESM2-0 r2i1p1f1\n",
      "problem with CAS-ESM2-0 r4i1p1f1\n",
      "['CMIP.CAS.FGOALS-f3-L.historical.Amon.gr.r1i1p1f1']\n",
      "['ScenarioMIP.CAS.FGOALS-f3-L.ssp585.Amon.gr.r1i1p1f1']\n",
      "['CMIP.CAS.FGOALS-f3-L.historical.Amon.gr.r1i1p1f1']\n",
      "['ScenarioMIP.CAS.FGOALS-f3-L.ssp585.Amon.gr.r1i1p1f1']\n",
      "['CMIP.CAS.FGOALS-f3-L.historical.Amon.gr.r1i1p1f1']\n",
      "['ScenarioMIP.CAS.FGOALS-f3-L.ssp585.Amon.gr.r1i1p1f1']\n",
      "problem with FGOALS-f3-L r3i1p1f1\n",
      "problem with FGOALS-f3-L r2i1p1f1\n",
      "problem with FGOALS-f3-L r4i1p1f1\n",
      "['CMIP.CAS.FGOALS-g3.historical.Amon.gn.r1i1p1f1']\n",
      "['ScenarioMIP.CAS.FGOALS-g3.ssp585.Amon.gn.r1i1p1f1']\n",
      "['CMIP.CAS.FGOALS-g3.historical.Amon.gn.r1i1p1f1']\n",
      "['ScenarioMIP.CAS.FGOALS-g3.ssp585.Amon.gn.r1i1p1f1']\n",
      "['CMIP.CAS.FGOALS-g3.historical.Amon.gn.r1i1p1f1']\n",
      "['ScenarioMIP.CAS.FGOALS-g3.ssp585.Amon.gn.r1i1p1f1']\n",
      "['CMIP.CAS.FGOALS-g3.historical.Amon.gn.r3i1p1f1']\n",
      "['ScenarioMIP.CAS.FGOALS-g3.ssp585.Amon.gn.r3i1p1f1']\n",
      "['CMIP.CAS.FGOALS-g3.historical.Amon.gn.r2i1p1f1']\n",
      "['ScenarioMIP.CAS.FGOALS-g3.ssp585.Amon.gn.r2i1p1f1']\n",
      "['CMIP.CAS.FGOALS-g3.historical.Amon.gn.r4i1p1f1']\n",
      "['ScenarioMIP.CAS.FGOALS-g3.ssp585.Amon.gn.r4i1p1f1']\n",
      "['CMIP.CAS.FGOALS-g3.historical.Amon.gn.r1i1p1f1']\n",
      "['ScenarioMIP.CAS.FGOALS-g3.ssp585.Amon.gn.r1i1p1f1']\n",
      "['CMIP.CAS.FGOALS-g3.historical.Amon.gn.r1i1p1f1']\n",
      "['ScenarioMIP.CAS.FGOALS-g3.ssp585.Amon.gn.r1i1p1f1']\n",
      "['CMIP.CAS.FGOALS-g3.historical.Amon.gn.r1i1p1f1']\n",
      "['ScenarioMIP.CAS.FGOALS-g3.ssp585.Amon.gn.r1i1p1f1']\n",
      "['CMIP.CAS.FGOALS-g3.historical.Amon.gn.r3i1p1f1']\n",
      "['ScenarioMIP.CAS.FGOALS-g3.ssp585.Amon.gn.r3i1p1f1']\n",
      "['CMIP.CAS.FGOALS-g3.historical.Amon.gn.r2i1p1f1']\n",
      "['ScenarioMIP.CAS.FGOALS-g3.ssp585.Amon.gn.r2i1p1f1']\n",
      "['CMIP.CAS.FGOALS-g3.historical.Amon.gn.r4i1p1f1']\n",
      "['ScenarioMIP.CAS.FGOALS-g3.ssp585.Amon.gn.r4i1p1f1']\n",
      "['CMIP.CAS.FGOALS-g3.historical.Amon.gn.r1i1p1f1']\n",
      "['ScenarioMIP.CAS.FGOALS-g3.ssp585.Amon.gn.r1i1p1f1']\n",
      "['CMIP.CAS.FGOALS-g3.historical.Amon.gn.r1i1p1f1']\n",
      "['ScenarioMIP.CAS.FGOALS-g3.ssp585.Amon.gn.r1i1p1f1']\n",
      "['CMIP.CAS.FGOALS-g3.historical.Amon.gn.r1i1p1f1']\n",
      "['ScenarioMIP.CAS.FGOALS-g3.ssp585.Amon.gn.r1i1p1f1']\n",
      "['CMIP.CAS.FGOALS-g3.historical.Amon.gn.r3i1p1f1']\n",
      "['ScenarioMIP.CAS.FGOALS-g3.ssp585.Amon.gn.r3i1p1f1']\n",
      "['CMIP.CAS.FGOALS-g3.historical.Amon.gn.r2i1p1f1']\n",
      "['ScenarioMIP.CAS.FGOALS-g3.ssp585.Amon.gn.r2i1p1f1']\n",
      "['CMIP.CAS.FGOALS-g3.historical.Amon.gn.r4i1p1f1']\n",
      "['ScenarioMIP.CAS.FGOALS-g3.ssp585.Amon.gn.r4i1p1f1']\n",
      "['CMIP.CAS.FGOALS-g3.historical.Amon.gn.r1i1p1f1']\n",
      "['ScenarioMIP.CAS.FGOALS-g3.ssp585.Amon.gn.r1i1p1f1']\n",
      "['CMIP.CAS.FGOALS-g3.historical.Amon.gn.r1i1p1f1']\n",
      "['ScenarioMIP.CAS.FGOALS-g3.ssp585.Amon.gn.r1i1p1f1']\n",
      "['CMIP.CAS.FGOALS-g3.historical.Amon.gn.r1i1p1f1']\n",
      "['ScenarioMIP.CAS.FGOALS-g3.ssp585.Amon.gn.r1i1p1f1']\n",
      "['CMIP.CAS.FGOALS-g3.historical.Amon.gn.r3i1p1f1']\n",
      "['ScenarioMIP.CAS.FGOALS-g3.ssp585.Amon.gn.r3i1p1f1']\n",
      "['CMIP.CAS.FGOALS-g3.historical.Amon.gn.r2i1p1f1']\n",
      "['ScenarioMIP.CAS.FGOALS-g3.ssp585.Amon.gn.r2i1p1f1']\n",
      "['CMIP.CAS.FGOALS-g3.historical.Amon.gn.r4i1p1f1']\n",
      "['ScenarioMIP.CAS.FGOALS-g3.ssp585.Amon.gn.r4i1p1f1']\n",
      "['CMIP.E3SM-Project.E3SM-1-1.historical.Amon.gr.r1i1p1f1']\n",
      "['ScenarioMIP.E3SM-Project.E3SM-1-1.ssp585.Amon.gr.r1i1p1f1']\n",
      "problem with CESM2-WACCM r5i1p1f1\n",
      "problem with CESM2-WACCM r4i1p1f1\n",
      "['CMIP.NCAR.CESM2-WACCM.historical.Amon.gn.r2i1p1f1']\n",
      "['ScenarioMIP.NCAR.CESM2-WACCM.ssp585.Amon.gn.r2i1p1f1']\n",
      "['CMIP.NCAR.CESM2-WACCM.historical.Amon.gn.r3i1p1f1']\n",
      "['ScenarioMIP.NCAR.CESM2-WACCM.ssp585.Amon.gn.r3i1p1f1']\n",
      "['CMIP.NCAR.CESM2-WACCM.historical.Amon.gn.r1i1p1f1']\n",
      "['ScenarioMIP.NCAR.CESM2-WACCM.ssp585.Amon.gn.r1i1p1f1']\n",
      "problem with CESM2-WACCM r11i1p1f1\n",
      "problem with CESM2-WACCM r10i1p1f1\n",
      "problem with CESM2-WACCM r4i1p1f1\n",
      "problem with CESM2-WACCM r5i1p1f1\n",
      "problem with CESM2-WACCM r4i1p1f1\n",
      "['CMIP.NCAR.CESM2-WACCM.historical.Amon.gn.r2i1p1f1']\n",
      "['ScenarioMIP.NCAR.CESM2-WACCM.ssp585.Amon.gn.r2i1p1f1']\n",
      "['CMIP.NCAR.CESM2-WACCM.historical.Amon.gn.r3i1p1f1']\n",
      "['ScenarioMIP.NCAR.CESM2-WACCM.ssp585.Amon.gn.r3i1p1f1']\n",
      "['CMIP.NCAR.CESM2-WACCM.historical.Amon.gn.r1i1p1f1']\n",
      "['ScenarioMIP.NCAR.CESM2-WACCM.ssp585.Amon.gn.r1i1p1f1']\n",
      "problem with CESM2-WACCM r11i1p1f1\n",
      "problem with CESM2-WACCM r10i1p1f1\n",
      "problem with CESM2-WACCM r4i1p1f1\n",
      "problem with CESM2-WACCM r5i1p1f1\n",
      "problem with CESM2-WACCM r4i1p1f1\n",
      "['CMIP.NCAR.CESM2-WACCM.historical.Amon.gn.r2i1p1f1']\n",
      "['ScenarioMIP.NCAR.CESM2-WACCM.ssp585.Amon.gn.r2i1p1f1']\n",
      "['CMIP.NCAR.CESM2-WACCM.historical.Amon.gn.r3i1p1f1']\n",
      "['ScenarioMIP.NCAR.CESM2-WACCM.ssp585.Amon.gn.r3i1p1f1']\n",
      "['CMIP.NCAR.CESM2-WACCM.historical.Amon.gn.r1i1p1f1']\n",
      "['ScenarioMIP.NCAR.CESM2-WACCM.ssp585.Amon.gn.r1i1p1f1']\n",
      "problem with CESM2-WACCM r11i1p1f1\n",
      "problem with CESM2-WACCM r10i1p1f1\n",
      "problem with CESM2-WACCM r4i1p1f1\n",
      "problem with CESM2-WACCM r5i1p1f1\n",
      "problem with CESM2-WACCM r4i1p1f1\n",
      "['CMIP.NCAR.CESM2-WACCM.historical.Amon.gn.r2i1p1f1']\n",
      "['ScenarioMIP.NCAR.CESM2-WACCM.ssp585.Amon.gn.r2i1p1f1']\n",
      "['CMIP.NCAR.CESM2-WACCM.historical.Amon.gn.r3i1p1f1']\n",
      "['ScenarioMIP.NCAR.CESM2-WACCM.ssp585.Amon.gn.r3i1p1f1']\n",
      "['CMIP.NCAR.CESM2-WACCM.historical.Amon.gn.r1i1p1f1']\n",
      "['ScenarioMIP.NCAR.CESM2-WACCM.ssp585.Amon.gn.r1i1p1f1']\n",
      "problem with CESM2-WACCM r11i1p1f1\n",
      "problem with CESM2-WACCM r10i1p1f1\n",
      "problem with CESM2-WACCM r4i1p1f1\n",
      "problem with CESM2-WACCM r5i1p1f1\n",
      "problem with CESM2-WACCM r4i1p1f1\n",
      "['CMIP.NCAR.CESM2-WACCM.historical.Amon.gn.r2i1p1f1']\n",
      "['ScenarioMIP.NCAR.CESM2-WACCM.ssp585.Amon.gn.r2i1p1f1']\n",
      "['CMIP.NCAR.CESM2-WACCM.historical.Amon.gn.r3i1p1f1']\n",
      "['ScenarioMIP.NCAR.CESM2-WACCM.ssp585.Amon.gn.r3i1p1f1']\n",
      "['CMIP.NCAR.CESM2-WACCM.historical.Amon.gn.r1i1p1f1']\n",
      "['ScenarioMIP.NCAR.CESM2-WACCM.ssp585.Amon.gn.r1i1p1f1']\n",
      "problem with CESM2-WACCM r11i1p1f1\n",
      "problem with CESM2-WACCM r10i1p1f1\n",
      "problem with CESM2-WACCM r4i1p1f1\n",
      "problem with CESM2 r5i1p1f1\n",
      "['CMIP.NCAR.CESM2.historical.Amon.gn.r4i1p1f1']\n",
      "['ScenarioMIP.NCAR.CESM2.ssp585.Amon.gn.r4i1p1f1']\n",
      "problem with CESM2 r2i1p1f1\n",
      "problem with CESM2 r3i1p1f1\n",
      "problem with CESM2 r1i1p1f1\n",
      "['CMIP.NCAR.CESM2.historical.Amon.gn.r11i1p1f1']\n",
      "['ScenarioMIP.NCAR.CESM2.ssp585.Amon.gn.r11i1p1f1']\n",
      "['CMIP.NCAR.CESM2.historical.Amon.gn.r10i1p1f1']\n",
      "['ScenarioMIP.NCAR.CESM2.ssp585.Amon.gn.r10i1p1f1']\n",
      "['CMIP.NCAR.CESM2.historical.Amon.gn.r4i1p1f1']\n",
      "['ScenarioMIP.NCAR.CESM2.ssp585.Amon.gn.r4i1p1f1']\n",
      "problem with CESM2 r5i1p1f1\n",
      "['CMIP.NCAR.CESM2.historical.Amon.gn.r4i1p1f1']\n",
      "['ScenarioMIP.NCAR.CESM2.ssp585.Amon.gn.r4i1p1f1']\n",
      "problem with CESM2 r2i1p1f1\n",
      "problem with CESM2 r3i1p1f1\n",
      "problem with CESM2 r1i1p1f1\n",
      "['CMIP.NCAR.CESM2.historical.Amon.gn.r11i1p1f1']\n",
      "['ScenarioMIP.NCAR.CESM2.ssp585.Amon.gn.r11i1p1f1']\n",
      "['CMIP.NCAR.CESM2.historical.Amon.gn.r10i1p1f1']\n",
      "['ScenarioMIP.NCAR.CESM2.ssp585.Amon.gn.r10i1p1f1']\n",
      "['CMIP.NCAR.CESM2.historical.Amon.gn.r4i1p1f1']\n",
      "['ScenarioMIP.NCAR.CESM2.ssp585.Amon.gn.r4i1p1f1']\n",
      "problem with CESM2 r5i1p1f1\n",
      "['CMIP.NCAR.CESM2.historical.Amon.gn.r4i1p1f1']\n",
      "['ScenarioMIP.NCAR.CESM2.ssp585.Amon.gn.r4i1p1f1']\n",
      "problem with CESM2 r2i1p1f1\n",
      "problem with CESM2 r3i1p1f1\n",
      "problem with CESM2 r1i1p1f1\n",
      "['CMIP.NCAR.CESM2.historical.Amon.gn.r11i1p1f1']\n",
      "['ScenarioMIP.NCAR.CESM2.ssp585.Amon.gn.r11i1p1f1']\n",
      "['CMIP.NCAR.CESM2.historical.Amon.gn.r10i1p1f1']\n",
      "['ScenarioMIP.NCAR.CESM2.ssp585.Amon.gn.r10i1p1f1']\n",
      "['CMIP.NCAR.CESM2.historical.Amon.gn.r4i1p1f1']\n",
      "['ScenarioMIP.NCAR.CESM2.ssp585.Amon.gn.r4i1p1f1']\n",
      "['CMIP.UA.MCM-UA-1-0.historical.Amon.gn.r1i1p1f2']\n",
      "['ScenarioMIP.UA.MCM-UA-1-0.ssp585.Amon.gn.r1i1p1f2']\n",
      "['CMIP.FIO-QLNM.FIO-ESM-2-0.historical.Amon.gn.r3i1p1f1']\n",
      "['ScenarioMIP.FIO-QLNM.FIO-ESM-2-0.ssp585.Amon.gn.r3i1p1f1']\n",
      "['CMIP.FIO-QLNM.FIO-ESM-2-0.historical.Amon.gn.r1i1p1f1']\n",
      "['ScenarioMIP.FIO-QLNM.FIO-ESM-2-0.ssp585.Amon.gn.r1i1p1f1']\n",
      "['CMIP.FIO-QLNM.FIO-ESM-2-0.historical.Amon.gn.r2i1p1f1']\n",
      "['ScenarioMIP.FIO-QLNM.FIO-ESM-2-0.ssp585.Amon.gn.r2i1p1f1']\n",
      "['CMIP.FIO-QLNM.FIO-ESM-2-0.historical.Amon.gn.r3i1p1f1']\n",
      "['ScenarioMIP.FIO-QLNM.FIO-ESM-2-0.ssp585.Amon.gn.r3i1p1f1']\n",
      "['CMIP.FIO-QLNM.FIO-ESM-2-0.historical.Amon.gn.r1i1p1f1']\n",
      "['ScenarioMIP.FIO-QLNM.FIO-ESM-2-0.ssp585.Amon.gn.r1i1p1f1']\n",
      "['CMIP.FIO-QLNM.FIO-ESM-2-0.historical.Amon.gn.r2i1p1f1']\n",
      "['ScenarioMIP.FIO-QLNM.FIO-ESM-2-0.ssp585.Amon.gn.r2i1p1f1']\n",
      "['CMIP.FIO-QLNM.FIO-ESM-2-0.historical.Amon.gn.r3i1p1f1']\n",
      "['ScenarioMIP.FIO-QLNM.FIO-ESM-2-0.ssp585.Amon.gn.r3i1p1f1']\n",
      "['CMIP.FIO-QLNM.FIO-ESM-2-0.historical.Amon.gn.r1i1p1f1']\n",
      "['ScenarioMIP.FIO-QLNM.FIO-ESM-2-0.ssp585.Amon.gn.r1i1p1f1']\n",
      "['CMIP.FIO-QLNM.FIO-ESM-2-0.historical.Amon.gn.r2i1p1f1']\n",
      "['ScenarioMIP.FIO-QLNM.FIO-ESM-2-0.ssp585.Amon.gn.r2i1p1f1']\n",
      "['CMIP.NOAA-GFDL.GFDL-CM4.historical.Amon.gr1.r1i1p1f1']\n",
      "['ScenarioMIP.NOAA-GFDL.GFDL-CM4.ssp585.Amon.gr1.r1i1p1f1']\n",
      "['CMIP.NOAA-GFDL.GFDL-CM4.historical.Amon.gr1.r1i1p1f1']\n",
      "['ScenarioMIP.NOAA-GFDL.GFDL-CM4.ssp585.Amon.gr1.r1i1p1f1']\n",
      "['CMIP.NOAA-GFDL.GFDL-ESM4.historical.Amon.gr1.r1i1p1f1']\n",
      "['ScenarioMIP.NOAA-GFDL.GFDL-ESM4.ssp585.Amon.gr1.r1i1p1f1']\n",
      "['CMIP.NOAA-GFDL.GFDL-ESM4.historical.Amon.gr1.r1i1p1f1']\n",
      "['ScenarioMIP.NOAA-GFDL.GFDL-ESM4.ssp585.Amon.gr1.r1i1p1f1']\n",
      "['CMIP.CCCR-IITM.IITM-ESM.historical.Amon.gn.r1i1p1f1']\n",
      "['ScenarioMIP.CCCR-IITM.IITM-ESM.ssp585.Amon.gn.r1i1p1f1']\n",
      "['CMIP.KIOST.KIOST-ESM.historical.Amon.gr1.r1i1p1f1']\n",
      "['ScenarioMIP.KIOST.KIOST-ESM.ssp585.Amon.gr1.r1i1p1f1']\n",
      "['CMIP.THU.CIESM.historical.Amon.gr.r1i1p1f1']\n",
      "['ScenarioMIP.THU.CIESM.ssp585.Amon.gr.r1i1p1f1']\n",
      "['CMIP.BCC.BCC-CSM2-MR.historical.Amon.gn.r1i1p1f1']\n",
      "['ScenarioMIP.BCC.BCC-CSM2-MR.ssp585.Amon.gn.r1i1p1f1']\n",
      "['CMIP.AS-RCEC.TaiESM1.historical.Amon.gn.r1i1p1f1']\n",
      "['ScenarioMIP.AS-RCEC.TaiESM1.ssp585.Amon.gn.r1i1p1f1']\n"
     ]
    },
    {
     "data": {
      "text/plain": [
       "<src.data_loading.get_cmip6.GetEnsemble at 0x7f48c8736b80>"
      ]
     },
     "execution_count": 1,
     "metadata": {},
     "output_type": "execute_result"
    }
   ],
   "source": [
    "from src.data_loading.pangeo import GetEnsemble\n",
    "GetEnsemble(var=\"hur\", output_folder=\"nc_hur\", regen_success_list=True)"
   ]
  },
  {
   "cell_type": "code",
   "execution_count": null,
   "id": "revolutionary-interpretation",
   "metadata": {},
   "outputs": [
    {
     "name": "stdout",
     "output_type": "stream",
     "text": [
      "Processing /home/jovyan/seager19\n"
     ]
    }
   ],
   "source": [
    "! pip install ../.."
   ]
  },
  {
   "cell_type": "code",
   "execution_count": 2,
   "id": "compliant-heath",
   "metadata": {},
   "outputs": [
    {
     "name": "stdout",
     "output_type": "stream",
     "text": [
      "  adding: nc_hur/ (stored 0%)\n",
      "  adding: nc_hur/hur.THU.CIESM.r1i1p1f1.80.nc (deflated 17%)\n",
      "  adding: nc_hur/hur.NASA-GISS.GISS-E2-1-G.r3i1p3f1.80.nc (deflated 18%)\n",
      "  adding: nc_hur/hur.CMCC.CMCC-CM2-SR5.r1i1p1f1.80.nc (deflated 17%)\n",
      "  adding: nc_hur/hur.CAS.FGOALS-g3.r3i1p1f1.80.nc (deflated 17%)\n",
      "  adding: nc_hur/hur.KIOST.KIOST-ESM.r1i1p1f1.80.nc (deflated 18%)\n",
      "  adding: nc_hur/hur.NIMS-KMA.KACE-1-0-G.r2i1p1f1.80.nc (deflated 17%)\n",
      "  adding: nc_hur/hur.NIMS-KMA.KACE-1-0-G.r3i1p1f1.80.nc (deflated 17%)\n",
      "  adding: nc_hur/hur.NCC.NorESM2-MM.r1i1p1f1.80.nc (deflated 17%)\n",
      "  adding: nc_hur/hur.CCCR-IITM.IITM-ESM.r1i1p1f1.80.nc (deflated 17%)\n",
      "  adding: nc_hur/hur.NIMS-KMA.KACE-1-0-G.r1i1p1f1.80.nc (deflated 19%)\n",
      "  adding: nc_hur/hur.NASA-GISS.GISS-E2-1-G.r1i1p3f1.80.nc (deflated 18%)\n",
      "  adding: nc_hur/hur.NASA-GISS.GISS-E2-1-G.r2i1p3f1.80.nc (deflated 18%)\n",
      "  adding: nc_hur/hur.NOAA-GFDL.GFDL-ESM4.r1i1p1f1.80.nc (deflated 17%)\n",
      "  adding: nc_hur/hur.CAS.CAS-ESM2-0.r1i1p1f1.80.nc (deflated 17%)\n",
      "  adding: nc_hur/hur.NCAR.CESM2-WACCM.r1i1p1f1.80.nc (deflated 17%)\n",
      "  adding: nc_hur/hur.MOHC.UKESM1-0-LL.r2i1p1f2.80.nc (deflated 17%)\n",
      "  adding: nc_hur/hur.UA.MCM-UA-1-0.r1i1p1f2.80.nc (deflated 17%)\n",
      "  adding: nc_hur/hur.MOHC.UKESM1-0-LL.r1i1p1f2.80.nc (deflated 17%)\n",
      "  adding: nc_hur/hur.CAMS.CAMS-CSM1-0.r2i1p1f1.80.nc (deflated 18%)\n",
      "  adding: nc_hur/hur.AS-RCEC.TaiESM1.r1i1p1f1.80.nc (deflated 17%)\n",
      "  adding: nc_hur/hur.NCAR.CESM2-WACCM.r3i1p1f1.80.nc (deflated 17%)\n",
      "  adding: nc_hur/hur.CMCC.CMCC-ESM2.r1i1p1f1.80.nc (deflated 17%)\n",
      "  adding: nc_hur/hur.CAS.FGOALS-g3.r1i1p1f1.80.nc (deflated 17%)\n",
      "  adding: nc_hur/hur.NCAR.CESM2.r10i1p1f1.80.nc (deflated 17%)\n",
      "  adding: nc_hur/hur.MOHC.UKESM1-0-LL.r8i1p1f2.80.nc (deflated 17%)\n",
      "  adding: nc_hur/hur.CAS.FGOALS-g3.r2i1p1f1.80.nc (deflated 17%)\n",
      "  adding: nc_hur/hur.NASA-GISS.GISS-E2-1-G.r1i1p5f1.80.nc (deflated 18%)\n",
      "  adding: nc_hur/hur.NCAR.CESM2.r4i1p1f1.80.nc (deflated 17%)\n",
      "  adding: nc_hur/hur.MOHC.HadGEM3-GC31-LL.r3i1p1f3.80.nc (deflated 17%)\n",
      "  adding: nc_hur/hur.NCC.NorESM2-LM.r1i1p1f1.80.nc (deflated 17%)\n",
      "  adding: nc_hur/hur.MOHC.HadGEM3-GC31-MM.r2i1p1f3.80.nc (deflated 17%)\n",
      "  adding: nc_hur/hur.NASA-GISS.GISS-E2-1-G.r4i1p3f1.80.nc (deflated 18%)\n",
      "  adding: nc_hur/hur.MOHC.HadGEM3-GC31-LL.r1i1p1f3.80.nc (deflated 17%)\n",
      "  adding: nc_hur/hur.NCAR.CESM2.r11i1p1f1.80.nc (deflated 17%)\n",
      "  adding: nc_hur/hur.MOHC.UKESM1-0-LL.r4i1p1f2.80.nc (deflated 17%)\n",
      "  adding: nc_hur/hur.BCC.BCC-CSM2-MR.r1i1p1f1.80.nc (deflated 17%)\n",
      "  adding: nc_hur/hur.NASA-GISS.GISS-E2-1-G.r5i1p3f1.80.nc (deflated 18%)\n",
      "  adding: nc_hur/hur.FIO-QLNM.FIO-ESM-2-0.r3i1p1f1.80.nc (deflated 17%)\n",
      "  adding: nc_hur/hur.INM.INM-CM4-8.r1i1p1f1.80.nc (deflated 18%)\n",
      "  adding: nc_hur/hur.E3SM-Project.E3SM-1-1.r1i1p1f1.80.nc (deflated 43%)\n",
      "  adding: nc_hur/hur.MOHC.HadGEM3-GC31-MM.r1i1p1f3.80.nc (deflated 17%)\n",
      "  adding: nc_hur/hur.FIO-QLNM.FIO-ESM-2-0.r2i1p1f1.80.nc (deflated 17%)\n",
      "  adding: nc_hur/hur.FIO-QLNM.FIO-ESM-2-0.r1i1p1f1.80.nc (deflated 17%)\n",
      "  adding: nc_hur/hur.NCAR.CESM2-WACCM.r2i1p1f1.80.nc (deflated 17%)\n",
      "  adding: nc_hur/hur.MOHC.HadGEM3-GC31-LL.r2i1p1f3.80.nc (deflated 17%)\n",
      "  adding: nc_hur/hur.CAS.FGOALS-f3-L.r1i1p1f1.80.nc (deflated 17%)\n",
      "  adding: nc_hur/hur.INM.INM-CM5-0.r1i1p1f1.80.nc (deflated 18%)\n",
      "  adding: nc_hur/hur.MOHC.UKESM1-0-LL.r3i1p1f2.80.nc (deflated 17%)\n",
      "  adding: nc_hur/hur.CAMS.CAMS-CSM1-0.r1i1p1f1.80.nc (deflated 18%)\n",
      "  adding: nc_hur/hur.CAS.FGOALS-g3.r4i1p1f1.80.nc (deflated 17%)\n",
      "  adding: nc_hur/hur.NOAA-GFDL.GFDL-CM4.r1i1p1f1.80.nc (deflated 17%)\n"
     ]
    }
   ],
   "source": [
    "! zip -r nc_hur.zip nc_hur"
   ]
  },
  {
   "cell_type": "code",
   "execution_count": null,
   "id": "understanding-anthony",
   "metadata": {},
   "outputs": [],
   "source": []
  }
 ],
 "metadata": {
  "kernelspec": {
   "display_name": "Python [conda env:env]",
   "language": "python",
   "name": "conda-env-env-py"
  },
  "language_info": {
   "codemirror_mode": {
    "name": "ipython",
    "version": 3
   },
   "file_extension": ".py",
   "mimetype": "text/x-python",
   "name": "python",
   "nbconvert_exporter": "python",
   "pygments_lexer": "ipython3",
   "version": "3.8.10"
  }
 },
 "nbformat": 4,
 "nbformat_minor": 5
}
