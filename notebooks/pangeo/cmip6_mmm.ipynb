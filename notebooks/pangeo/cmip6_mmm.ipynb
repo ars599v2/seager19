{
 "cells": [
  {
   "cell_type": "markdown",
   "id": "guilty-shanghai",
   "metadata": {},
   "source": [
    "# Making CMIP6 multimodel means"
   ]
  },
  {
   "cell_type": "markdown",
   "id": "billion-malawi",
   "metadata": {},
   "source": [
    "### Get the CMIP6 catalogue"
   ]
  },
  {
   "cell_type": "code",
   "execution_count": 1,
   "id": "behavioral-azerbaijan",
   "metadata": {},
   "outputs": [],
   "source": [
    "from intake import open_catalog\n",
    "\n",
    "cat = open_catalog(\n",
    "    \"https://raw.githubusercontent.com/pangeo-data/pangeo-datastore/master/intake-catalogs/master.yaml\"\n",
    ")[\"climate\"][\"cmip6_gcs\"]\n",
    "#list(cat)"
   ]
  },
  {
   "cell_type": "markdown",
   "id": "broke-producer",
   "metadata": {},
   "source": [
    "### Pick out the historical temperature of the surface"
   ]
  },
  {
   "cell_type": "code",
   "execution_count": 10,
   "id": "hourly-newspaper",
   "metadata": {},
   "outputs": [],
   "source": [
    "import matplotlib.pyplot as plt\n",
    "import xarray as xr\n",
    "import dask\n",
    "from cmip6_preprocessing.preprocessing import (\n",
    "    rename_cmip6, \n",
    "    promote_empty_dims, \n",
    "    broadcast_lonlat, \n",
    "    replace_x_y_nominal_lat_lon,\n",
    "    combined_preprocessing,\n",
    ")\n",
    "\n",
    "def get_ts(experiment=\"historical\", year_begin=\"1958\", year_end=\"2014\", xlim=[100, 290], ylim=[-30, 30]):\n",
    "    query = dict(\n",
    "        variable_id=[\"ts\"],\n",
    "        experiment_id=[experiment],# , \"ssp585\"],\n",
    "        table_id=[\"Amon\"],\n",
    "        institution_id=[\"NCAR\", \"NOAA-GFDL\", \"MOHC\", \"NASA-GISS\", \"UA\", \"INM\", \"THU\", \"SNU\", \"E3SM-Project\"],\n",
    "    )\n",
    "    subset = cat.search(**query)\n",
    "\n",
    "    z_kwargs = {\"consolidated\": True, \"decode_times\": True}\n",
    "\n",
    "    def wrapper(ds):\n",
    "        ds = ds.copy()\n",
    "        ds = rename_cmip6(ds)\n",
    "        ds = promote_empty_dims(ds)\n",
    "        ds = broadcast_lonlat(ds)\n",
    "        ds = replace_x_y_nominal_lat_lon(ds)\n",
    "        return ds\n",
    "\n",
    "    # pass the preprocessing directly\n",
    "    with dask.config.set(**{\"array.slicing.split_large_chunks\": True}):\n",
    "        dset_dict_proc = subset.to_dataset_dict(zarr_kwargs=z_kwargs,\n",
    "                                            preprocess=wrapper)\n",
    "        \n",
    "    da_list = []; key_list = []\n",
    "    \n",
    "    first = True\n",
    "\n",
    "    for key in dset_dict_proc:\n",
    "        print(key)\n",
    "        da = dset_dict_proc[key].ts.mean(\"member_id\").sel(\n",
    "            x=slice(xlim[0]-1, xlim[1]+1), y=slice(ylim[0]-1, ylim[1]+1), time=slice(year_begin, year_end)\n",
    "        ).interp(x=list(range(xlim[0], xlim[1])), y=list(range(ylim[0], ylim[1])))  # .mean(\"time\").plot()\n",
    "        key_list.append(key)\n",
    "        if first:\n",
    "            times = da.time.values\n",
    "        da = da.assign_coords(time=list(range(da.sizes[\"time\"])))\n",
    "        da_list.append(da)\n",
    "    da = xr.concat(da_list, \"model_center\")\n",
    "    da = da.assign_coords({\"model_center\": key_list, \"time\": times})\n",
    "    \n",
    "    return da"
   ]
  },
  {
   "cell_type": "code",
   "execution_count": 11,
   "id": "greek-lotus",
   "metadata": {},
   "outputs": [
    {
     "name": "stdout",
     "output_type": "stream",
     "text": [
      "\n",
      "--> The keys in the returned dictionary of datasets are constructed as follows:\n",
      "\t'activity_id.institution_id.source_id.experiment_id.table_id.grid_label'\n"
     ]
    },
    {
     "data": {
      "text/html": [
       "\n",
       "    <div>\n",
       "        <style>\n",
       "            /* Turns off some styling */\n",
       "            progress {\n",
       "                /* gets rid of default border in Firefox and Opera. */\n",
       "                border: none;\n",
       "                /* Needs to be in here for Safari polyfill so background images work as expected. */\n",
       "                background-size: auto;\n",
       "            }\n",
       "            .progress-bar-interrupted, .progress-bar-interrupted::-webkit-progress-bar {\n",
       "                background: #F44336;\n",
       "            }\n",
       "        </style>\n",
       "      <progress value='20' class='' max='20' style='width:300px; height:20px; vertical-align: middle;'></progress>\n",
       "      100.00% [20/20 00:09<00:00]\n",
       "    </div>\n",
       "    "
      ],
      "text/plain": [
       "<IPython.core.display.HTML object>"
      ]
     },
     "metadata": {},
     "output_type": "display_data"
    },
    {
     "name": "stdout",
     "output_type": "stream",
     "text": [
      "CMIP.NCAR.CESM2-WACCM.historical.Amon.gn\n",
      "CMIP.MOHC.HadGEM3-GC31-LL.historical.Amon.gn\n",
      "CMIP.NCAR.CESM2-FV2.historical.Amon.gn\n",
      "CMIP.INM.INM-CM5-0.historical.Amon.gr1\n",
      "CMIP.THU.CIESM.historical.Amon.gr\n",
      "CMIP.UA.MCM-UA-1-0.historical.Amon.gn\n",
      "CMIP.MOHC.UKESM1-0-LL.historical.Amon.gn\n",
      "CMIP.E3SM-Project.E3SM-1-1-ECA.historical.Amon.gr\n",
      "CMIP.E3SM-Project.E3SM-1-0.historical.Amon.gr\n",
      "CMIP.MOHC.HadGEM3-GC31-MM.historical.Amon.gn\n",
      "CMIP.INM.INM-CM4-8.historical.Amon.gr1\n",
      "CMIP.SNU.SAM0-UNICON.historical.Amon.gn\n",
      "CMIP.NOAA-GFDL.GFDL-CM4.historical.Amon.gr1\n",
      "CMIP.NCAR.CESM2.historical.Amon.gn\n",
      "CMIP.NASA-GISS.GISS-E2-1-G-CC.historical.Amon.gn\n",
      "CMIP.NCAR.CESM2-WACCM-FV2.historical.Amon.gn\n",
      "CMIP.E3SM-Project.E3SM-1-1.historical.Amon.gr\n",
      "CMIP.NOAA-GFDL.GFDL-ESM4.historical.Amon.gr1\n",
      "CMIP.NASA-GISS.GISS-E2-1-H.historical.Amon.gn\n",
      "CMIP.NASA-GISS.GISS-E2-1-G.historical.Amon.gn\n",
      "\n",
      "--> The keys in the returned dictionary of datasets are constructed as follows:\n",
      "\t'activity_id.institution_id.source_id.experiment_id.table_id.grid_label'\n"
     ]
    },
    {
     "data": {
      "text/html": [
       "\n",
       "    <div>\n",
       "        <style>\n",
       "            /* Turns off some styling */\n",
       "            progress {\n",
       "                /* gets rid of default border in Firefox and Opera. */\n",
       "                border: none;\n",
       "                /* Needs to be in here for Safari polyfill so background images work as expected. */\n",
       "                background-size: auto;\n",
       "            }\n",
       "            .progress-bar-interrupted, .progress-bar-interrupted::-webkit-progress-bar {\n",
       "                background: #F44336;\n",
       "            }\n",
       "        </style>\n",
       "      <progress value='13' class='' max='13' style='width:300px; height:20px; vertical-align: middle;'></progress>\n",
       "      100.00% [13/13 00:01<00:00]\n",
       "    </div>\n",
       "    "
      ],
      "text/plain": [
       "<IPython.core.display.HTML object>"
      ]
     },
     "metadata": {},
     "output_type": "display_data"
    },
    {
     "name": "stdout",
     "output_type": "stream",
     "text": [
      "ScenarioMIP.INM.INM-CM4-8.ssp585.Amon.gr1\n",
      "ScenarioMIP.INM.INM-CM5-0.ssp585.Amon.gr1\n",
      "ScenarioMIP.E3SM-Project.E3SM-1-1.ssp585.Amon.gr\n",
      "ScenarioMIP.NOAA-GFDL.GFDL-CM4.ssp585.Amon.gr1\n",
      "ScenarioMIP.NCAR.CESM2-WACCM.ssp585.Amon.gn\n",
      "ScenarioMIP.NASA-GISS.GISS-E2-1-G.ssp585.Amon.gn\n",
      "ScenarioMIP.THU.CIESM.ssp585.Amon.gr\n",
      "ScenarioMIP.NCAR.CESM2.ssp585.Amon.gn\n",
      "ScenarioMIP.NOAA-GFDL.GFDL-ESM4.ssp585.Amon.gr1\n",
      "ScenarioMIP.MOHC.HadGEM3-GC31-MM.ssp585.Amon.gn\n",
      "ScenarioMIP.MOHC.HadGEM3-GC31-LL.ssp585.Amon.gn\n",
      "ScenarioMIP.UA.MCM-UA-1-0.ssp585.Amon.gn\n",
      "ScenarioMIP.MOHC.UKESM1-0-LL.ssp585.Amon.gn\n"
     ]
    }
   ],
   "source": [
    "da_hist = get_ts(xlim=[0, 360], ylim=[-80, 80])\n",
    "da_ssp585 = get_ts(experiment=\"ssp585\", year_begin=\"2014\", year_end=\"2017\", xlim=[0, 360], ylim=[-80, 80])\n",
    "combined_da_60 = xr.concat([da_hist.mean(\"model_center\"), da_ssp585.mean(\"model_center\")], \"time\")\n",
    "combined_da_60.mean(\"time\").to_netcdf(\"ts-CMIP6-clim60.nc\")"
   ]
  },
  {
   "cell_type": "code",
   "execution_count": null,
   "id": "indian-melissa",
   "metadata": {},
   "outputs": [],
   "source": [
    "da_hist = get_ts()\n",
    "da_ssp585 = get_ts(experiment=\"ssp585\", year_begin=\"2014\", year_end=\"2017\")\n",
    "combined_da_60 = xr.concat([da_hist.mean(\"model_center\"), da_ssp585.mean(\"model_center\")], \"time\")"
   ]
  },
  {
   "cell_type": "code",
   "execution_count": 4,
   "id": "demonstrated-wright",
   "metadata": {},
   "outputs": [
    {
     "data": {
      "text/plain": [
       "<matplotlib.collections.QuadMesh at 0x7f6bb284a790>"
      ]
     },
     "execution_count": 4,
     "metadata": {},
     "output_type": "execute_result"
    },
    {
     "data": {
      "image/png": "[encoded data removed]",
      "text/plain": [
       "<Figure size 432x288 with 2 Axes>"
      ]
     },
     "metadata": {
      "needs_background": "light"
     },
     "output_type": "display_data"
    }
   ],
   "source": [
    "combined_da_60.isel(time=0).plot()"
   ]
  },
  {
   "cell_type": "code",
   "execution_count": 6,
   "id": "happy-scanner",
   "metadata": {},
   "outputs": [],
   "source": [
    "combined_da_60.isel(time=0).to_netcdf(\"test1958.nc\")"
   ]
  },
  {
   "cell_type": "code",
   "execution_count": 8,
   "id": "prescribed-elite",
   "metadata": {},
   "outputs": [],
   "source": [
    "combined_da_60.mean(\"time\").to_netcdf(\"ts-CMIP6-clim60.nc\")"
   ]
  }
 ],
 "metadata": {
  "kernelspec": {
   "display_name": "Python [conda env:notebook] *",
   "language": "python",
   "name": "conda-env-notebook-py"
  },
  "language_info": {
   "codemirror_mode": {
    "name": "ipython",
    "version": 3
   },
   "file_extension": ".py",
   "mimetype": "text/x-python",
   "name": "python",
   "nbconvert_exporter": "python",
   "pygments_lexer": "ipython3",
   "version": "3.8.6"
  }
 },
 "nbformat": 4,
 "nbformat_minor": 5
}
