{
 "cells": [
  {
   "cell_type": "markdown",
   "id": "13b560f3",
   "metadata": {},
   "source": [
    "# Parameter settings"
   ]
  },
  {
   "cell_type": "markdown",
   "id": "77f3944f",
   "metadata": {
    "ExecuteTime": {
     "end_time": "2022-05-11T13:26:02.405405Z",
     "start_time": "2022-05-11T13:26:02.403364Z"
    }
   },
   "source": [
    "## Load libraries"
   ]
  },
  {
   "cell_type": "code",
   "execution_count": 1,
   "id": "b9bb44ce",
   "metadata": {
    "ExecuteTime": {
     "end_time": "2022-05-11T13:27:44.165154Z",
     "start_time": "2022-05-11T13:27:44.145760Z"
    }
   },
   "outputs": [],
   "source": [
    "# Convenient jupyter setup\n",
    "%load_ext autoreload\n",
    "%autoreload 2\n",
    "%config IPCompleter.greedy=True"
   ]
  },
  {
   "cell_type": "code",
   "execution_count": 2,
   "id": "cedcef3f",
   "metadata": {
    "ExecuteTime": {
     "end_time": "2022-05-11T13:27:47.535030Z",
     "start_time": "2022-05-11T13:27:44.166303Z"
    }
   },
   "outputs": [],
   "source": [
    "from numpy import log, e\n",
    "import pint\n",
    "from scipy.constants import Stefan_Boltzmann # W m^-2 K^-4\n",
    "ureg = pint.UnitRegistry()"
   ]
  },
  {
   "cell_type": "markdown",
   "id": "529cb7e3",
   "metadata": {},
   "source": [
    "## Radiative Forcing calculations"
   ]
  },
  {
   "cell_type": "code",
   "execution_count": 3,
   "id": "e830e80b",
   "metadata": {
    "ExecuteTime": {
     "end_time": "2022-05-11T13:27:47.564572Z",
     "start_time": "2022-05-11T13:27:47.536659Z"
    }
   },
   "outputs": [
    {
     "data": {
      "text/html": [
       "1.3445321913028478 watt/meter<sup>2</sup>"
      ],
      "text/latex": [
       "$1.3445321913028478\\ \\frac{\\mathrm{watt}}{\\mathrm{meter}^{2}}$"
      ],
      "text/plain": [
       "1.3445321913028478 <Unit('watt / meter ** 2')>"
      ]
     },
     "execution_count": 3,
     "metadata": {},
     "output_type": "execute_result"
    }
   ],
   "source": [
    "#  ∆RF = 5.35ln(C/Co)\n",
    "# 405\n",
    "# 315\n",
    "# https://journals.sagepub.com/doi/pdf/10.1260/0958-305X.25.8.1439#:~:text=On%20this%20basis%2C%20the%20IPCC,to%20the%20Beer%2DLambert%20law.\n",
    "# IPCC relation\n",
    "5.35*log(405/315) / log(e) * ureg.watt / ureg.meter ** 2 "
   ]
  },
  {
   "cell_type": "code",
   "execution_count": 4,
   "id": "2f792455",
   "metadata": {
    "ExecuteTime": {
     "end_time": "2022-05-11T13:27:47.592838Z",
     "start_time": "2022-05-11T13:27:47.566518Z"
    }
   },
   "outputs": [
    {
     "name": "stdout",
     "output_type": "stream",
     "text": [
      "3.708337415995707 watt / meter ** 2\n",
      "1.5390990876170274 watt / meter ** 2\n"
     ]
    }
   ],
   "source": [
    "def ipcc_delta_co2(ratio: float):\n",
    "    return 5.35*log(ratio) / log(e) * ureg.watt / ureg.meter ** 2\n",
    "\n",
    "print(ipcc_delta_co2(2))\n",
    "print(ipcc_delta_co2(400/300))"
   ]
  },
  {
   "cell_type": "code",
   "execution_count": 5,
   "id": "b73de65c",
   "metadata": {
    "ExecuteTime": {
     "end_time": "2022-05-11T13:27:47.619829Z",
     "start_time": "2022-05-11T13:27:47.594901Z"
    }
   },
   "outputs": [
    {
     "data": {
      "text/plain": [
       "0.8555368267009874"
      ]
     },
     "execution_count": 5,
     "metadata": {},
     "output_type": "execute_result"
    }
   ],
   "source": [
    "log(1.33) * 3"
   ]
  },
  {
   "cell_type": "code",
   "execution_count": 6,
   "id": "727d4ed4",
   "metadata": {
    "ExecuteTime": {
     "end_time": "2022-05-11T13:27:47.647693Z",
     "start_time": "2022-05-11T13:27:47.621980Z"
    }
   },
   "outputs": [
    {
     "data": {
      "text/html": [
       "1.3008600000000001 watt/meter<sup>2</sup>"
      ],
      "text/latex": [
       "$1.3008600000000001\\ \\frac{\\mathrm{watt}}{\\mathrm{meter}^{2}}$"
      ],
      "text/plain": [
       "1.3008600000000001 <Unit('watt / meter ** 2')>"
      ]
     },
     "execution_count": 6,
     "metadata": {},
     "output_type": "execute_result"
    }
   ],
   "source": [
    "# Lightfoot and Mamer 2014 relation\n",
    "def rf_quad_co2(conc: float):\n",
    "    return (-0.00002480* conc**2 + 0.03231 * conc) * ureg.watt / ureg.meter ** 2\n",
    "\n",
    "rf_quad_co2(405) - rf_quad_co2(315)"
   ]
  },
  {
   "cell_type": "markdown",
   "id": "17cafcab",
   "metadata": {},
   "source": [
    "## Redoing f1prime calculation in the paper"
   ]
  },
  {
   "cell_type": "code",
   "execution_count": 7,
   "id": "8056a2eb",
   "metadata": {
    "ExecuteTime": {
     "end_time": "2022-05-11T13:27:47.675101Z",
     "start_time": "2022-05-11T13:27:47.649200Z"
    }
   },
   "outputs": [],
   "source": [
    "# c. 300 to c. 400 ppm\n",
    "def f1_prime(\n",
    "    delta_forcing=0.75 * ureg.watt / ureg.meter ** 2,  # W m -2\n",
    "    temp_surface=301 * ureg.kelvin,  # K\n",
    "    cloud_cover=0.6,  # dimensionless fraction\n",
    "    cloud_constant_a=0.4,  # dimensionless fraction\n",
    "    emissivity=0.97,  # dimensionless fraction\n",
    "):\n",
    "    stefan_boltzmann = (\n",
    "        Stefan_Boltzmann * ureg.watt / ureg.meter ** 2 / ureg.kelvin ** 4\n",
    "    )  # W m^-2 K^-4\n",
    "    return -delta_forcing / (\n",
    "        emissivity\n",
    "        * stefan_boltzmann\n",
    "        * (temp_surface ** 4)\n",
    "        * (1 - cloud_constant_a * (cloud_cover ** 2))\n",
    "    )"
   ]
  },
  {
   "cell_type": "code",
   "execution_count": 8,
   "id": "9c04a9fb",
   "metadata": {
    "ExecuteTime": {
     "end_time": "2022-05-11T13:27:47.700741Z",
     "start_time": "2022-05-11T13:27:47.676957Z"
    }
   },
   "outputs": [
    {
     "name": "stdout",
     "output_type": "stream",
     "text": [
      "-0.0019406090190503145 dimensionless\n"
     ]
    }
   ],
   "source": [
    "print(f1_prime())"
   ]
  },
  {
   "cell_type": "code",
   "execution_count": 9,
   "id": "385dc4a3",
   "metadata": {
    "ExecuteTime": {
     "end_time": "2022-05-11T13:27:47.724802Z",
     "start_time": "2022-05-11T13:27:47.702492Z"
    }
   },
   "outputs": [
    {
     "name": "stdout",
     "output_type": "stream",
     "text": [
      "-0.00336594753136239 dimensionless\n"
     ]
    }
   ],
   "source": [
    "print(f1_prime(delta_forcing=rf_quad_co2(405) - rf_quad_co2(315)))"
   ]
  },
  {
   "cell_type": "code",
   "execution_count": 10,
   "id": "f99fef46",
   "metadata": {
    "ExecuteTime": {
     "end_time": "2022-05-11T13:27:47.749731Z",
     "start_time": "2022-05-11T13:27:47.727561Z"
    }
   },
   "outputs": [
    {
     "name": "stdout",
     "output_type": "stream",
     "text": [
      "-0.003982386094188952 dimensionless\n"
     ]
    }
   ],
   "source": [
    "print(f1_prime(delta_forcing=ipcc_delta_co2(400/300)))"
   ]
  },
  {
   "cell_type": "code",
   "execution_count": 11,
   "id": "77388863",
   "metadata": {
    "ExecuteTime": {
     "end_time": "2022-05-11T13:27:47.773083Z",
     "start_time": "2022-05-11T13:27:47.751284Z"
    }
   },
   "outputs": [
    {
     "name": "stdout",
     "output_type": "stream",
     "text": [
      "-0.0037984436566326457 dimensionless\n"
     ]
    }
   ],
   "source": [
    "print(f1_prime(delta_forcing=ipcc_delta_co2(405/315), cloud_constant_a=0.6))"
   ]
  },
  {
   "cell_type": "code",
   "execution_count": 13,
   "id": "af591005",
   "metadata": {
    "ExecuteTime": {
     "end_time": "2022-05-11T13:28:06.872917Z",
     "start_time": "2022-05-11T13:28:06.224265Z"
    }
   },
   "outputs": [
    {
     "data": {
      "text/html": [
       "27.850000000000023 degree_Celsius"
      ],
      "text/latex": [
       "$27.850000000000023\\ \\mathrm{degree\\_Celsius}$"
      ],
      "text/plain": [
       "27.850000000000023 <Unit('degree_Celsius')>"
      ]
     },
     "execution_count": 13,
     "metadata": {},
     "output_type": "execute_result"
    }
   ],
   "source": [
    "temp_surface=301 * ureg.kelvin\n",
    "temp_surface.to(ureg.celsius)\n",
    "# almost 28 degrees"
   ]
  },
  {
   "cell_type": "code",
   "execution_count": 14,
   "id": "0ffb64fc",
   "metadata": {
    "ExecuteTime": {
     "end_time": "2022-05-11T13:28:13.611378Z",
     "start_time": "2022-05-11T13:28:13.547560Z"
    }
   },
   "outputs": [
    {
     "data": {
      "text/plain": [
       "pint.quantity.build_quantity_class.<locals>.Quantity"
      ]
     },
     "execution_count": 14,
     "metadata": {},
     "output_type": "execute_result"
    }
   ],
   "source": [
    "type(temp_surface)"
   ]
  },
  {
   "cell_type": "code",
   "execution_count": null,
   "id": "abaf15b1",
   "metadata": {},
   "outputs": [],
   "source": []
  }
 ],
 "metadata": {
  "hide_input": false,
  "kernelspec": {
   "display_name": "Python 3 (ipykernel)",
   "language": "python",
   "name": "python3"
  },
  "language_info": {
   "codemirror_mode": {
    "name": "ipython",
    "version": 3
   },
   "file_extension": ".py",
   "mimetype": "text/x-python",
   "name": "python",
   "nbconvert_exporter": "python",
   "pygments_lexer": "ipython3",
   "version": "3.8.12"
  },
  "varInspector": {
   "cols": {
    "lenName": 16,
    "lenType": 16,
    "lenVar": 40
   },
   "kernels_config": {
    "python": {
     "delete_cmd_postfix": "",
     "delete_cmd_prefix": "del ",
     "library": "var_list.py",
     "varRefreshCmd": "print(var_dic_list())"
    },
    "r": {
     "delete_cmd_postfix": ") ",
     "delete_cmd_prefix": "rm(",
     "library": "var_list.r",
     "varRefreshCmd": "cat(var_dic_list()) "
    }
   },
   "types_to_exclude": [
    "module",
    "function",
    "builtin_function_or_method",
    "instance",
    "_Feature"
   ],
   "window_display": false
  }
 },
 "nbformat": 4,
 "nbformat_minor": 5
}
