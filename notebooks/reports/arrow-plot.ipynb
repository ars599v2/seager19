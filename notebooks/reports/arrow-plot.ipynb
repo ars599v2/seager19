{
 "cells": [
  {
   "cell_type": "code",
   "execution_count": 49,
   "id": "unlikely-taxation",
   "metadata": {},
   "outputs": [
    {
     "data": {
      "image/png": "[encoded data removed]",
      "text/plain": [
       "<Figure size 432x288 with 1 Axes>"
      ]
     },
     "metadata": {
      "needs_background": "light"
     },
     "output_type": "display_data"
    }
   ],
   "source": [
    "import matplotlib.pyplot as plt\n",
    "\n",
    "def plot_error(x, y, yerr):\n",
    "    plt.fill_between([x-0.2, x+0.2], [y+yerr, y+yerr], [y-yerr, y-yerr])\n",
    "    plt.plot([x-0.2, x+0.2], [y, y], \"black\", linewidth=1)\n",
    "\n",
    "xlim = [0.5, 3.5]\n",
    "head_length=0.02\n",
    "ax = plt.axes()\n",
    "ECMWF = 0.411\n",
    "#ax.arrow(0, 0, 0, 1, head_width=0.02, head_length=0.02, fc='k', ec='k')\n",
    "ax.arrow(1, ECMWF, 0,  0.054 - head_length, head_width=0.02, head_length=head_length, fc='k', ec='k')\n",
    "plot_error(1, ECMWF + 0.054, 0.005)\n",
    "ax.arrow(2, ECMWF, 0,  0.31 - head_length, head_width=0.02, head_length=head_length, fc='k', ec='k')\n",
    "plot_error(2, ECMWF + 0.31, 0.03)\n",
    "ax.arrow(3, ECMWF, 0,  0.47 - head_length, head_width=0.02, head_length=head_length, fc='k', ec='k')\n",
    "plot_error(3, ECMWF + 0.47, 0.04)\n",
    "plt.plot(xlim, [ECMWF, ECMWF], color=\"blue\", label=\"ECMWF/ORAS4 $= 0.411$ K \")\n",
    "plt.plot(xlim, [ECMWF+0.478, ECMWF+0.478], color=\"red\",  label=\"CMIP5 MMM $= 0.889$ K\")\n",
    "\n",
    "#plt.xticks([0, 1, 2, 3], [\"ECMWF\", \"W\", \"RH\", \"RH+W\"])\n",
    "plt.xticks([1, 2, 3], [\"W\\n $+0.054 \\pm 0.005$ K \", \"RH\\n $+0.31\\pm0.03$ K\", \"RH+W\\n $+0.47\\pm0.04$ K\"])\n",
    "\n",
    "plt.xlim(xlim)\n",
    "plt.ylabel(\"1958-2017, Trend in Nino3.4 [K]\")\n",
    "\n",
    "plt.legend(\n",
    "    bbox_to_anchor=(0.0, 1.02, 1, 0.102),\n",
    "    loc=\"lower left\",\n",
    "    mode=\"expand\",\n",
    "    ncol=2,\n",
    ")\n",
    "plt.show()\n"
   ]
  },
  {
   "cell_type": "code",
   "execution_count": null,
   "id": "immediate-neighbor",
   "metadata": {},
   "outputs": [],
   "source": [
    "NINO3.4 trend of 0.31±0.03 K, 0.054±0.005 K, and 0.47±0.04 K"
   ]
  },
  {
   "cell_type": "code",
   "execution_count": null,
   "id": "sized-hawaiian",
   "metadata": {},
   "outputs": [],
   "source": [
    "! pip install ../.."
   ]
  },
  {
   "cell_type": "code",
   "execution_count": null,
   "id": "surprised-estate",
   "metadata": {},
   "outputs": [],
   "source": [
    "from src.plot_settings import get_dim, ps_defaults"
   ]
  },
  {
   "cell_type": "code",
   "execution_count": null,
   "id": "racial-omega",
   "metadata": {},
   "outputs": [],
   "source": []
  }
 ],
 "metadata": {
  "hide_input": false,
  "kernelspec": {
   "display_name": "Python 3 (ipykernel)",
   "language": "python",
   "name": "python3"
  },
  "language_info": {
   "codemirror_mode": {
    "name": "ipython",
    "version": 3
   },
   "file_extension": ".py",
   "mimetype": "text/x-python",
   "name": "python",
   "nbconvert_exporter": "python",
   "pygments_lexer": "ipython3",
   "version": "3.8.12"
  },
  "varInspector": {
   "cols": {
    "lenName": 16,
    "lenType": 16,
    "lenVar": 40
   },
   "kernels_config": {
    "python": {
     "delete_cmd_postfix": "",
     "delete_cmd_prefix": "del ",
     "library": "var_list.py",
     "varRefreshCmd": "print(var_dic_list())"
    },
    "r": {
     "delete_cmd_postfix": ") ",
     "delete_cmd_prefix": "rm(",
     "library": "var_list.r",
     "varRefreshCmd": "cat(var_dic_list()) "
    }
   },
   "types_to_exclude": [
    "module",
    "function",
    "builtin_function_or_method",
    "instance",
    "_Feature"
   ],
   "window_display": false
  }
 },
 "nbformat": 4,
 "nbformat_minor": 5
}
