{
 "cells": [
  {
   "cell_type": "markdown",
   "id": "6ca79463",
   "metadata": {},
   "source": [
    "# Analysis"
   ]
  },
  {
   "cell_type": "code",
   "execution_count": 1,
   "id": "a6f3d9fc",
   "metadata": {
    "ExecuteTime": {
     "end_time": "2021-04-11T11:02:39.702489Z",
     "start_time": "2021-04-11T11:02:39.683921Z"
    }
   },
   "outputs": [
    {
     "name": "stdout",
     "output_type": "stream",
     "text": [
      "The autoreload module is not an IPython extension.\n"
     ]
    },
    {
     "name": "stderr",
     "output_type": "stream",
     "text": [
      "UsageError: Line magic function `%autoreload` not found.\n"
     ]
    }
   ],
   "source": [
    "# Convenient jupyter setup\n",
    "%load_ext autoreload\n",
    "%autoreload 2\n",
    "%config IPCompleter.greedy=True"
   ]
  },
  {
   "cell_type": "code",
   "execution_count": 7,
   "id": "dd9696a5",
   "metadata": {
    "ExecuteTime": {
     "end_time": "2021-04-11T11:04:08.882898Z",
     "start_time": "2021-04-11T11:04:08.871744Z"
    }
   },
   "outputs": [],
   "source": [
    "# set up plotting settings for dark mode.\n",
    "import os\n",
    "from jupyterthemes import jtplot\n",
    "jtplot.style(theme=\"grade3\", context=\"notebook\", ticks=True, grid=False)\n",
    "from src.plot_settings import ps_defaults\n",
    "ps_defaults(use_tex=False, dpi=150)"
   ]
  },
  {
   "cell_type": "code",
   "execution_count": 3,
   "id": "06f40a2a",
   "metadata": {
    "ExecuteTime": {
     "end_time": "2021-04-11T11:02:57.481644Z",
     "start_time": "2021-04-11T11:02:55.165725Z"
    }
   },
   "outputs": [],
   "source": [
    "import xarray as xr"
   ]
  },
  {
   "cell_type": "code",
   "execution_count": 5,
   "id": "f2c473fa",
   "metadata": {
    "ExecuteTime": {
     "end_time": "2021-04-11T11:03:49.617755Z",
     "start_time": "2021-04-11T11:03:49.610620Z"
    }
   },
   "outputs": [],
   "source": [
    "from src.constants import OCEAN_DATA_PATH"
   ]
  },
  {
   "cell_type": "code",
   "execution_count": 8,
   "id": "f6ba28e9",
   "metadata": {
    "ExecuteTime": {
     "end_time": "2021-04-11T11:04:17.063852Z",
     "start_time": "2021-04-11T11:04:17.054423Z"
    }
   },
   "outputs": [
    {
     "data": {
      "text/plain": [
       "['dQdf-sample.nc',\n",
       " 'om_mask.nc',\n",
       " 'qflx.nc',\n",
       " 'tau-ECMWF.y',\n",
       " 'sst-ECMWF-clim.nc',\n",
       " 'tau-ECMWF.x',\n",
       " 'dQdT-sample.nc',\n",
       " 'qflx-0.nc',\n",
       " 'tau-ECMWF-clim.x',\n",
       " 'tau-ECMWF-clim.y',\n",
       " 'qflx-3.nc',\n",
       " 'qflx-test.nc',\n",
       " 'qflx1.nc',\n",
       " 'ipynb-test.nc',\n",
       " 'ipynb-test2.nc',\n",
       " 'ipynb-test3.nc',\n",
       " 'qflx-backup.nc',\n",
       " 'rzk.pro',\n",
       " 'spline_ECMWF.txt']"
      ]
     },
     "execution_count": 8,
     "metadata": {},
     "output_type": "execute_result"
    }
   ],
   "source": [
    "os.listdir(OCEAN_DATA_PATH)"
   ]
  },
  {
   "cell_type": "code",
   "execution_count": 11,
   "id": "996181ac",
   "metadata": {
    "ExecuteTime": {
     "end_time": "2021-04-11T11:08:46.914427Z",
     "start_time": "2021-04-11T11:08:46.898767Z"
    }
   },
   "outputs": [],
   "source": [
    "ds = "
   ]
  },
  {
   "cell_type": "code",
   "execution_count": 27,
   "id": "62b3ce78",
   "metadata": {
    "ExecuteTime": {
     "end_time": "2021-04-11T11:30:42.805605Z",
     "start_time": "2021-04-11T11:30:42.735684Z"
    }
   },
   "outputs": [],
   "source": [
    "from typing import Union\n",
    "\n",
    "def fix_calendar(xr_in: Union[xr.Dataset, xr.DataArray], timevar: str = \"T\"):\n",
    "    if isinstance(xr_in, xr.DataArray):\n",
    "        ds = xr_in.to_dataset()\n",
    "    else:\n",
    "        ds = xr_in\n",
    "    if ds[timevar].attrs[\"calendar\"] == \"360\":\n",
    "        ds[timevar].attrs[\"calendar\"] = \"360_day\"\n",
    "    ds = xr.decode_cf(ds)\n",
    "    if isinstance(xr_in, xr.DataArray):\n",
    "        xr_out = ds.to_array()\n",
    "    else:\n",
    "        xr_out = ds\n",
    "    return xr_out\n",
    "\n",
    "ds_new = fix_calendar(xr.open_dataset(OCEAN_DATA_PATH / \"qflx.nc\", decode_times=False))\n",
    "da_new = fix_calendar(xr.open_dataset(OCEAN_DATA_PATH / \"qflx.nc\", decode_times=False).qflx)"
   ]
  },
  {
   "cell_type": "code",
   "execution_count": 28,
   "id": "201cdbe1",
   "metadata": {
    "ExecuteTime": {
     "end_time": "2021-04-11T11:30:58.484243Z",
     "start_time": "2021-04-11T11:30:58.455455Z"
    }
   },
   "outputs": [
    {
     "name": "stdout",
     "output_type": "stream",
     "text": [
      "<xarray.Dataset>\n",
      "Dimensions:  (T: 12, X: 360, Y: 181, Z: 1)\n",
      "Coordinates:\n",
      "  * Z        (Z) float32 1.0\n",
      "  * T        (T) object 1960-01-16 00:00:00 ... 1960-12-16 00:00:00\n",
      "  * Y        (Y) float32 -90.0 -89.0 -88.0 -87.0 -86.0 ... 87.0 88.0 89.0 90.0\n",
      "  * X        (X) float32 0.0 1.0 2.0 3.0 4.0 ... 355.0 356.0 357.0 358.0 359.0\n",
      "Data variables:\n",
      "    qflx     (T, Z, Y, X) float32 ...\n",
      "<xarray.DataArray (variable: 1, T: 12, Z: 1, Y: 181, X: 360)>\n",
      "array([[[[[0., 0., 0., ..., 0., 0., 0.],\n",
      "          [0., 0., 0., ..., 0., 0., 0.],\n",
      "          [0., 0., 0., ..., 0., 0., 0.],\n",
      "          ...,\n",
      "          [0., 0., 0., ..., 0., 0., 0.],\n",
      "          [0., 0., 0., ..., 0., 0., 0.],\n",
      "          [0., 0., 0., ..., 0., 0., 0.]]],\n",
      "\n",
      "\n",
      "        [[[0., 0., 0., ..., 0., 0., 0.],\n",
      "          [0., 0., 0., ..., 0., 0., 0.],\n",
      "          [0., 0., 0., ..., 0., 0., 0.],\n",
      "          ...,\n",
      "          [0., 0., 0., ..., 0., 0., 0.],\n",
      "          [0., 0., 0., ..., 0., 0., 0.],\n",
      "          [0., 0., 0., ..., 0., 0., 0.]]],\n",
      "\n",
      "\n",
      "        [[[0., 0., 0., ..., 0., 0., 0.],\n",
      "          [0., 0., 0., ..., 0., 0., 0.],\n",
      "...\n",
      "          [0., 0., 0., ..., 0., 0., 0.],\n",
      "          [0., 0., 0., ..., 0., 0., 0.]]],\n",
      "\n",
      "\n",
      "        [[[0., 0., 0., ..., 0., 0., 0.],\n",
      "          [0., 0., 0., ..., 0., 0., 0.],\n",
      "          [0., 0., 0., ..., 0., 0., 0.],\n",
      "          ...,\n",
      "          [0., 0., 0., ..., 0., 0., 0.],\n",
      "          [0., 0., 0., ..., 0., 0., 0.],\n",
      "          [0., 0., 0., ..., 0., 0., 0.]]],\n",
      "\n",
      "\n",
      "        [[[0., 0., 0., ..., 0., 0., 0.],\n",
      "          [0., 0., 0., ..., 0., 0., 0.],\n",
      "          [0., 0., 0., ..., 0., 0., 0.],\n",
      "          ...,\n",
      "          [0., 0., 0., ..., 0., 0., 0.],\n",
      "          [0., 0., 0., ..., 0., 0., 0.],\n",
      "          [0., 0., 0., ..., 0., 0., 0.]]]]], dtype=float32)\n",
      "Coordinates:\n",
      "  * Z         (Z) float32 1.0\n",
      "  * T         (T) object 1960-01-16 00:00:00 ... 1960-12-16 00:00:00\n",
      "  * Y         (Y) float32 -90.0 -89.0 -88.0 -87.0 -86.0 ... 87.0 88.0 89.0 90.0\n",
      "  * X         (X) float32 0.0 1.0 2.0 3.0 4.0 ... 355.0 356.0 357.0 358.0 359.0\n",
      "  * variable  (variable) <U4 'qflx'\n"
     ]
    }
   ],
   "source": [
    "print(ds_new)\n",
    "print(da_new)"
   ]
  },
  {
   "cell_type": "code",
   "execution_count": null,
   "id": "3dd5b18a",
   "metadata": {},
   "outputs": [],
   "source": [
    "xr.open_dataset(OCEAN_DATA_PATH / \"qflx.nc\", decode_times=False)"
   ]
  },
  {
   "cell_type": "code",
   "execution_count": 21,
   "id": "285c59ad",
   "metadata": {
    "ExecuteTime": {
     "end_time": "2021-04-11T11:10:23.402165Z",
     "start_time": "2021-04-11T11:10:22.812866Z"
    }
   },
   "outputs": [
    {
     "data": {
      "text/plain": [
       "<matplotlib.collections.QuadMesh at 0x7fb5201e37c0>"
      ]
     },
     "execution_count": 21,
     "metadata": {},
     "output_type": "execute_result"
    },
    {
     "data": {
      "image/png": "[encoded data removed]",
      "text/plain": [
       "<Figure size 826.772x510.973 with 2 Axes>"
      ]
     },
     "metadata": {},
     "output_type": "display_data"
    }
   ],
   "source": [
    "ds.qflx.isel(T=7, Z=0).plot()"
   ]
  },
  {
   "cell_type": "code",
   "execution_count": null,
   "id": "d0822ddd",
   "metadata": {},
   "outputs": [],
   "source": []
  }
 ],
 "metadata": {
  "hide_input": false,
  "kernelspec": {
   "display_name": "Python 3",
   "language": "python",
   "name": "python3"
  },
  "language_info": {
   "codemirror_mode": {
    "name": "ipython",
    "version": 3
   },
   "file_extension": ".py",
   "mimetype": "text/x-python",
   "name": "python",
   "nbconvert_exporter": "python",
   "pygments_lexer": "ipython3",
   "version": "3.8.8"
  },
  "varInspector": {
   "cols": {
    "lenName": 16,
    "lenType": 16,
    "lenVar": 40
   },
   "kernels_config": {
    "python": {
     "delete_cmd_postfix": "",
     "delete_cmd_prefix": "del ",
     "library": "var_list.py",
     "varRefreshCmd": "print(var_dic_list())"
    },
    "r": {
     "delete_cmd_postfix": ") ",
     "delete_cmd_prefix": "rm(",
     "library": "var_list.r",
     "varRefreshCmd": "cat(var_dic_list()) "
    }
   },
   "types_to_exclude": [
    "module",
    "function",
    "builtin_function_or_method",
    "instance",
    "_Feature"
   ],
   "window_display": false
  }
 },
 "nbformat": 4,
 "nbformat_minor": 5
}
