{
 "cells": [
  {
   "cell_type": "markdown",
   "id": "6ca79463",
   "metadata": {},
   "source": [
    "# Analysis"
   ]
  },
  {
   "cell_type": "code",
   "execution_count": 1,
   "id": "a6f3d9fc",
   "metadata": {
    "ExecuteTime": {
     "end_time": "2021-04-10T09:53:22.983112Z",
     "start_time": "2021-04-10T09:53:22.970730Z"
    }
   },
   "outputs": [
    {
     "name": "stdout",
     "output_type": "stream",
     "text": [
      "The autoreload module is not an IPython extension.\n"
     ]
    },
    {
     "name": "stderr",
     "output_type": "stream",
     "text": [
      "UsageError: Line magic function `%autoreload` not found.\n"
     ]
    }
   ],
   "source": [
    "# Convenient jupyter setup\n",
    "%load_ext autoreload\n",
    "%autoreload 2\n",
    "%config IPCompleter.greedy=True"
   ]
  },
  {
   "cell_type": "code",
   "execution_count": 2,
   "id": "dd9696a5",
   "metadata": {
    "ExecuteTime": {
     "end_time": "2021-04-10T09:53:29.272624Z",
     "start_time": "2021-04-10T09:53:24.124675Z"
    }
   },
   "outputs": [
    {
     "data": {
      "text/plain": [
       "<xarray.core.options.set_options at 0x7fd5bbd1d160>"
      ]
     },
     "execution_count": 2,
     "metadata": {},
     "output_type": "execute_result"
    }
   ],
   "source": [
    "# set up plotting settings for dark mode.\n",
    "from jupyterthemes import jtplot\n",
    "jtplot.style(theme=\"grade3\", context=\"notebook\", ticks=True, grid=False)\n",
    "from src.plot_settings import ps_defaults, cmap\n",
    "ps_defaults(use_tex=False, dpi=150)\n",
    "import xarray as xr\n",
    "xr.set_options(display_style=\"text\")"
   ]
  },
  {
   "cell_type": "code",
   "execution_count": 3,
   "id": "40bdbf64",
   "metadata": {
    "ExecuteTime": {
     "end_time": "2021-04-10T09:53:29.370283Z",
     "start_time": "2021-04-10T09:53:29.296138Z"
    }
   },
   "outputs": [],
   "source": [
    "from src.constants import OCEAN_OUTPUT_PATH\n",
    "from src.visualisation.ani import animate_xr_da"
   ]
  },
  {
   "cell_type": "code",
   "execution_count": 5,
   "id": "0a081caa",
   "metadata": {
    "ExecuteTime": {
     "end_time": "2021-04-10T10:00:25.222609Z",
     "start_time": "2021-04-10T10:00:15.261655Z"
    }
   },
   "outputs": [
    {
     "name": "stderr",
     "output_type": "stream",
     "text": [
      "om_diag_SST.gif: 100%|██████████| 25/25 [00:07<00:00,  3.37it/s]\n"
     ]
    },
    {
     "name": "stdout",
     "output_type": "stream",
     "text": [
      "Video om_diag_SST.gif made.\n",
      "'animate_xr_da'  9.85563 s\n",
      "\n"
     ]
    }
   ],
   "source": [
    "for x in [\n",
    "    [\"om_diag\", {\"T_01\": \"time\", \"Y_01\": \"y\", \"X_01\": \"x\", \"L_01\": \"Z\"}],\n",
    "    # [\"om_run2f\", {\"T_03\": \"time\", \"Y_03\": \"y\", \"X_03\": \"x\", \"L_03\": \"Z\"}],\n",
    "]:\n",
    "    sst = xr.open_dataset(\n",
    "        str(OCEAN_OUTPUT_PATH / x[0]) + \".nc\", decode_times=False\n",
    "    ).SST_SST.rename(x[1])\n",
    "    sst.attrs[\"units\"] = \"$^{\\circ}$C\"\n",
    "    animate_xr_da(sst.where(sst != 0).isel(Z=0), video_path=x[0] + \"_SST.gif\", vcmap=\"sst\")"
   ]
  },
  {
   "cell_type": "code",
   "execution_count": 12,
   "id": "fe076e5f",
   "metadata": {
    "ExecuteTime": {
     "end_time": "2021-04-10T12:16:41.526959Z",
     "start_time": "2021-04-10T12:16:41.519757Z"
    }
   },
   "outputs": [],
   "source": [
    "def rdict(index):\n",
    "    return {\n",
    "        \"T_0\" + str(index): \"time\",\n",
    "        \"Y_0\" + str(index): \"y\",\n",
    "        \"X_0\" + str(index): \"x\",\n",
    "        \"L_0\" + str(index): \"Z\",\n",
    "    }"
   ]
  },
  {
   "cell_type": "code",
   "execution_count": 16,
   "id": "7548b4e9",
   "metadata": {
    "ExecuteTime": {
     "end_time": "2021-04-10T12:20:47.329428Z",
     "start_time": "2021-04-10T12:20:34.338409Z"
    }
   },
   "outputs": [
    {
     "name": "stderr",
     "output_type": "stream",
     "text": [
      "\n",
      "om_diag_dyn_pres.gif:   0%|          | 0/25 [00:00<?, ?it/s]\u001b[A"
     ]
    },
    {
     "name": "stdout",
     "output_type": "stream",
     "text": [
      "<xarray.DataArray 'DYN_PRES' (time: 25, Z: 1, y: 161, x: 360)>\n",
      "[1449000 values with dtype=float32]\n",
      "Coordinates:\n",
      "  * x        (x) float32 0.0 1.0 2.0 3.0 4.0 ... 355.0 356.0 357.0 358.0 359.0\n",
      "  * y        (y) float32 -80.0 -79.0 -78.0 -77.0 -76.0 ... 77.0 78.0 79.0 80.0\n",
      "  * Z        (Z) float32 0.0\n",
      "  * time     (time) float32 -48.02 -47.08 -46.09 -45.08 ... -26.08 -25.09 -24.08\n",
      "Attributes:\n",
      "    long_name:  PRES\n"
     ]
    },
    {
     "name": "stderr",
     "output_type": "stream",
     "text": [
      "\n",
      "om_diag_dyn_pres.gif:   4%|▍         | 1/25 [00:00<00:11,  2.07it/s]\u001b[A\n",
      "om_diag_dyn_pres.gif:   8%|▊         | 2/25 [00:00<00:10,  2.19it/s]\u001b[A\n",
      "om_diag_dyn_pres.gif:  12%|█▏        | 3/25 [00:01<00:08,  2.48it/s]\u001b[A\n",
      "om_diag_dyn_pres.gif:  16%|█▌        | 4/25 [00:01<00:08,  2.49it/s]\u001b[A\n",
      "om_diag_dyn_pres.gif:  20%|██        | 5/25 [00:02<00:08,  2.45it/s]\u001b[A\n",
      "om_diag_dyn_pres.gif:  24%|██▍       | 6/25 [00:02<00:07,  2.60it/s]\u001b[A\n",
      "om_diag_dyn_pres.gif:  28%|██▊       | 7/25 [00:02<00:07,  2.46it/s]\u001b[A\n",
      "om_diag_dyn_pres.gif:  32%|███▏      | 8/25 [00:03<00:07,  2.38it/s]\u001b[A\n",
      "om_diag_dyn_pres.gif:  36%|███▌      | 9/25 [00:03<00:07,  2.25it/s]\u001b[A\n",
      "om_diag_dyn_pres.gif:  40%|████      | 10/25 [00:04<00:05,  2.55it/s]\u001b[A\n",
      "om_diag_dyn_pres.gif:  44%|████▍     | 11/25 [00:04<00:04,  2.82it/s]\u001b[A\n",
      "om_diag_dyn_pres.gif:  48%|████▊     | 12/25 [00:04<00:05,  2.57it/s]\u001b[A\n",
      "om_diag_dyn_pres.gif:  52%|█████▏    | 13/25 [00:05<00:04,  2.55it/s]\u001b[A\n",
      "om_diag_dyn_pres.gif:  56%|█████▌    | 14/25 [00:05<00:04,  2.71it/s]\u001b[A\n",
      "om_diag_dyn_pres.gif:  60%|██████    | 15/25 [00:05<00:03,  2.59it/s]\u001b[A\n",
      "om_diag_dyn_pres.gif:  64%|██████▍   | 16/25 [00:06<00:03,  2.69it/s]\u001b[A\n",
      "om_diag_dyn_pres.gif:  68%|██████▊   | 17/25 [00:06<00:02,  2.95it/s]\u001b[A\n",
      "om_diag_dyn_pres.gif:  72%|███████▏  | 18/25 [00:06<00:02,  3.10it/s]\u001b[A\n",
      "om_diag_dyn_pres.gif:  76%|███████▌  | 19/25 [00:07<00:02,  2.76it/s]\u001b[A\n",
      "om_diag_dyn_pres.gif:  80%|████████  | 20/25 [00:07<00:01,  2.95it/s]\u001b[A\n",
      "om_diag_dyn_pres.gif:  84%|████████▍ | 21/25 [00:07<00:01,  3.15it/s]\u001b[A\n",
      "om_diag_dyn_pres.gif:  88%|████████▊ | 22/25 [00:08<00:01,  2.84it/s]\u001b[A\n",
      "om_diag_dyn_pres.gif:  92%|█████████▏| 23/25 [00:08<00:00,  3.15it/s]\u001b[A\n",
      "om_diag_dyn_pres.gif:  96%|█████████▌| 24/25 [00:08<00:00,  3.38it/s]\u001b[A\n",
      "om_diag_dyn_pres.gif: 100%|██████████| 25/25 [00:09<00:00,  2.71it/s]\u001b[A\n"
     ]
    },
    {
     "name": "stdout",
     "output_type": "stream",
     "text": [
      "Video om_diag_dyn_pres.gif made.\n",
      "'animate_xr_da'  12.84898 s\n",
      "\n"
     ]
    }
   ],
   "source": [
    "for x in [\n",
    "    [\"om_diag\", rdict(2)],\n",
    "    # [\"om_run2f\", rdict(1)],\n",
    "]:\n",
    "    pres = xr.open_dataset(\n",
    "        str(OCEAN_OUTPUT_PATH / x[0]) + \".nc\", decode_times=False\n",
    "    ).DYN_PRES.rename(x[1])\n",
    "    print(pres)\n",
    "    # sst.attrs[\"units\"] = \"$^{\\circ}$C\"\n",
    "    animate_xr_da(\n",
    "        pres.where(pres != 0.0).isel(Z=0),\n",
    "        video_path=x[0] + \"_dyn_pres.gif\",\n",
    "        vcmap=\"delta\",\n",
    "    )"
   ]
  },
  {
   "cell_type": "code",
   "execution_count": 4,
   "id": "d649d813",
   "metadata": {
    "ExecuteTime": {
     "end_time": "2021-04-09T16:14:37.748002Z",
     "start_time": "2021-04-09T16:14:37.737296Z"
    }
   },
   "outputs": [
    {
     "data": {
      "text/plain": [
       "['thermal',\n",
       " 'haline',\n",
       " 'solar',\n",
       " 'ice',\n",
       " 'gray',\n",
       " 'oxy',\n",
       " 'deep',\n",
       " 'dense',\n",
       " 'algae',\n",
       " 'matter',\n",
       " 'turbid',\n",
       " 'speed',\n",
       " 'amp',\n",
       " 'tempo',\n",
       " 'rain',\n",
       " 'phase',\n",
       " 'topo',\n",
       " 'balance',\n",
       " 'delta',\n",
       " 'curl',\n",
       " 'diff',\n",
       " 'tarn']"
      ]
     },
     "execution_count": 4,
     "metadata": {},
     "output_type": "execute_result"
    }
   ],
   "source": [
    "cmocean.cm.cmapnames"
   ]
  }
 ],
 "metadata": {
  "hide_input": false,
  "kernelspec": {
   "display_name": "Python 3",
   "language": "python",
   "name": "python3"
  },
  "language_info": {
   "codemirror_mode": {
    "name": "ipython",
    "version": 3
   },
   "file_extension": ".py",
   "mimetype": "text/x-python",
   "name": "python",
   "nbconvert_exporter": "python",
   "pygments_lexer": "ipython3",
   "version": "3.8.8"
  },
  "varInspector": {
   "cols": {
    "lenName": 16,
    "lenType": 16,
    "lenVar": 40
   },
   "kernels_config": {
    "python": {
     "delete_cmd_postfix": "",
     "delete_cmd_prefix": "del ",
     "library": "var_list.py",
     "varRefreshCmd": "print(var_dic_list())"
    },
    "r": {
     "delete_cmd_postfix": ") ",
     "delete_cmd_prefix": "rm(",
     "library": "var_list.r",
     "varRefreshCmd": "cat(var_dic_list()) "
    }
   },
   "types_to_exclude": [
    "module",
    "function",
    "builtin_function_or_method",
    "instance",
    "_Feature"
   ],
   "window_display": false
  }
 },
 "nbformat": 4,
 "nbformat_minor": 5
}
