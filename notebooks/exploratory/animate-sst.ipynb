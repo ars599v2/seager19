{
 "cells": [
  {
   "cell_type": "markdown",
   "id": "6ca79463",
   "metadata": {},
   "source": [
    "# Analysis"
   ]
  },
  {
   "cell_type": "code",
   "execution_count": 1,
   "id": "a6f3d9fc",
   "metadata": {
    "ExecuteTime": {
     "end_time": "2021-04-10T09:53:22.983112Z",
     "start_time": "2021-04-10T09:53:22.970730Z"
    }
   },
   "outputs": [
    {
     "name": "stdout",
     "output_type": "stream",
     "text": [
      "The autoreload module is not an IPython extension.\n"
     ]
    },
    {
     "name": "stderr",
     "output_type": "stream",
     "text": [
      "UsageError: Line magic function `%autoreload` not found.\n"
     ]
    }
   ],
   "source": [
    "# Convenient jupyter setup\n",
    "%load_ext autoreload\n",
    "%autoreload 2\n",
    "%config IPCompleter.greedy=True"
   ]
  },
  {
   "cell_type": "code",
   "execution_count": 2,
   "id": "dd9696a5",
   "metadata": {
    "ExecuteTime": {
     "end_time": "2021-04-10T09:53:29.272624Z",
     "start_time": "2021-04-10T09:53:24.124675Z"
    }
   },
   "outputs": [
    {
     "data": {
      "text/plain": [
       "<xarray.core.options.set_options at 0x7fd5bbd1d160>"
      ]
     },
     "execution_count": 2,
     "metadata": {},
     "output_type": "execute_result"
    }
   ],
   "source": [
    "# set up plotting settings for dark mode.\n",
    "from jupyterthemes import jtplot\n",
    "jtplot.style(theme=\"grade3\", context=\"notebook\", ticks=True, grid=False)\n",
    "from src.plot_settings import ps_defaults, cmap\n",
    "ps_defaults(use_tex=False, dpi=150)\n",
    "import xarray as xr\n",
    "xr.set_options(display_style=\"text\")"
   ]
  },
  {
   "cell_type": "code",
   "execution_count": 3,
   "id": "40bdbf64",
   "metadata": {
    "ExecuteTime": {
     "end_time": "2021-04-10T09:53:29.370283Z",
     "start_time": "2021-04-10T09:53:29.296138Z"
    }
   },
   "outputs": [],
   "source": [
    "from src.constants import OCEAN_OUTPUT_PATH\n",
    "from src.visualisation.ani import animate_xr_da"
   ]
  },
  {
   "cell_type": "code",
   "execution_count": 5,
   "id": "0a081caa",
   "metadata": {
    "ExecuteTime": {
     "end_time": "2021-04-10T10:00:25.222609Z",
     "start_time": "2021-04-10T10:00:15.261655Z"
    }
   },
   "outputs": [
    {
     "name": "stderr",
     "output_type": "stream",
     "text": [
      "om_diag_SST.gif: 100%|██████████| 25/25 [00:07<00:00,  3.37it/s]\n"
     ]
    },
    {
     "name": "stdout",
     "output_type": "stream",
     "text": [
      "Video om_diag_SST.gif made.\n",
      "'animate_xr_da'  9.85563 s\n",
      "\n"
     ]
    }
   ],
   "source": [
    "for x in [\n",
    "    [\"om_diag\", {\"T_01\": \"time\", \"Y_01\": \"y\", \"X_01\": \"x\", \"L_01\": \"Z\"}],\n",
    "    # [\"om_run2f\", {\"T_03\": \"time\", \"Y_03\": \"y\", \"X_03\": \"x\", \"L_03\": \"Z\"}],\n",
    "]:\n",
    "    sst = xr.open_dataset(\n",
    "        str(OCEAN_OUTPUT_PATH / x[0]) + \".nc\", decode_times=False\n",
    "    ).SST_SST.rename(x[1])\n",
    "    sst.attrs[\"units\"] = \"$^{\\circ}$C\"\n",
    "    animate_xr_da(sst.where(sst != 0).isel(Z=0), video_path=x[0] + \"_SST.gif\", vcmap=\"sst\")"
   ]
  },
  {
   "cell_type": "code",
   "execution_count": 12,
   "id": "fe076e5f",
   "metadata": {
    "ExecuteTime": {
     "end_time": "2021-04-10T12:16:41.526959Z",
     "start_time": "2021-04-10T12:16:41.519757Z"
    }
   },
   "outputs": [],
   "source": [
    "def rdict(index):\n",
    "    return {\n",
    "        \"T_0\" + str(index): \"time\",\n",
    "        \"Y_0\" + str(index): \"y\",\n",
    "        \"X_0\" + str(index): \"x\",\n",
    "        \"L_0\" + str(index): \"Z\",\n",
    "    }"
   ]
  },
  {
   "cell_type": "code",
   "execution_count": null,
   "id": "7548b4e9",
   "metadata": {
    "ExecuteTime": {
     "start_time": "2021-04-10T22:33:05.356Z"
    }
   },
   "outputs": [
    {
     "name": "stderr",
     "output_type": "stream",
     "text": [
      "\r",
      "om_diag_SST_SST.gif:   0%|          | 0/25 [00:00<?, ?it/s]"
     ]
    },
    {
     "name": "stdout",
     "output_type": "stream",
     "text": [
      "SST_SST\n"
     ]
    },
    {
     "name": "stderr",
     "output_type": "stream",
     "text": [
      "om_diag_SST_SST.gif: 100%|██████████| 25/25 [00:10<00:00,  2.43it/s]\n",
      "om_diag_SST_QFLX.gif:   0%|          | 0/25 [00:00<?, ?it/s]"
     ]
    },
    {
     "name": "stdout",
     "output_type": "stream",
     "text": [
      "Video om_diag_SST_SST.gif made.\n",
      "'animate_xr_da'  13.28346 s\n",
      "\n",
      "SST_QFLX\n"
     ]
    },
    {
     "name": "stderr",
     "output_type": "stream",
     "text": [
      "om_diag_SST_QFLX.gif: 100%|██████████| 25/25 [00:08<00:00,  2.80it/s]\n",
      "om_diag_DYN_PRES.gif:   0%|          | 0/25 [00:00<?, ?it/s]"
     ]
    },
    {
     "name": "stdout",
     "output_type": "stream",
     "text": [
      "Video om_diag_SST_QFLX.gif made.\n",
      "'animate_xr_da'  11.51050 s\n",
      "\n",
      "DYN_PRES\n"
     ]
    },
    {
     "name": "stderr",
     "output_type": "stream",
     "text": [
      "om_diag_DYN_PRES.gif: 100%|██████████| 25/25 [00:09<00:00,  2.67it/s]\n",
      "om_diag_TDEEP_HMODEL.gif:   0%|          | 0/25 [00:00<?, ?it/s]"
     ]
    },
    {
     "name": "stdout",
     "output_type": "stream",
     "text": [
      "Video om_diag_DYN_PRES.gif made.\n",
      "'animate_xr_da'  13.75251 s\n",
      "\n",
      "TDEEP_HMODEL\n"
     ]
    },
    {
     "name": "stderr",
     "output_type": "stream",
     "text": [
      "om_diag_TDEEP_HMODEL.gif: 100%|██████████| 25/25 [00:08<00:00,  2.92it/s]\n",
      "om_diag_TDEEP_TDEEP.gif:   0%|          | 0/25 [00:00<?, ?it/s]"
     ]
    },
    {
     "name": "stdout",
     "output_type": "stream",
     "text": [
      "Video om_diag_TDEEP_HMODEL.gif made.\n",
      "'animate_xr_da'  11.19068 s\n",
      "\n",
      "TDEEP_TDEEP\n"
     ]
    },
    {
     "name": "stderr",
     "output_type": "stream",
     "text": [
      "om_diag_TDEEP_TDEEP.gif: 100%|██████████| 25/25 [00:07<00:00,  3.22it/s]\n"
     ]
    },
    {
     "name": "stdout",
     "output_type": "stream",
     "text": [
      "Video om_diag_TDEEP_TDEEP.gif made.\n",
      "'animate_xr_da'  10.22788 s\n",
      "\n",
      "DYN_PRES\n"
     ]
    },
    {
     "name": "stderr",
     "output_type": "stream",
     "text": [
      "om_run2f_DYN_PRES.gif: 100%|██████████| 697/697 [04:11<00:00,  2.77it/s]\n"
     ]
    },
    {
     "name": "stdout",
     "output_type": "stream",
     "text": [
      "Video om_run2f_DYN_PRES.gif made.\n",
      "'animate_xr_da'  340.71934 s\n",
      "\n",
      "TDEEP_HTHERM\n"
     ]
    },
    {
     "name": "stderr",
     "output_type": "stream",
     "text": [
      "om_run2f_TDEEP_HTHERM.gif: 100%|██████████| 697/697 [04:24<00:00,  2.63it/s]\n"
     ]
    },
    {
     "name": "stdout",
     "output_type": "stream",
     "text": [
      "Video om_run2f_TDEEP_HTHERM.gif made.\n",
      "'animate_xr_da'  344.43534 s\n",
      "\n",
      "TDEEP_TDEEP\n"
     ]
    },
    {
     "name": "stderr",
     "output_type": "stream",
     "text": [
      "om_run2f_TDEEP_TDEEP.gif:  97%|█████████▋| 676/697 [04:18<00:07,  2.71it/s]"
     ]
    }
   ],
   "source": [
    "cmap_d = {\n",
    "    \"DYN_PRES\": \"delta\",\n",
    "    \"SST_QFLX\": \"delta\",\n",
    "    \"SST_SST\": \"sst\",\n",
    "    \"TDEEP_HTHERM\": \"sst\",\n",
    "    \"TDEEP_TDEEP\": \"sst\",\n",
    "    \"TDEEP_HMODEL\": \"sst\",\n",
    "}\n",
    "unit_d = {\"SST_SST\": \"$^{\\circ}$C\"}\n",
    "for x in [\n",
    "    \"om_diag\",\n",
    "    \"om_run2f\",\n",
    "]:\n",
    "    ds = xr.open_dataset(str(OCEAN_OUTPUT_PATH / x) + \".nc\", decode_times=False)\n",
    "\n",
    "    for y in ds.variables:\n",
    "        y = str(y)\n",
    "        if \"X_\" not in y:\n",
    "            if \"Y_\" not in y:\n",
    "                if \"L_\" not in y:\n",
    "                    if \"T_\" not in y or \"SST\" in y:\n",
    "                        if \"GRID\" != y:\n",
    "                            print(y)\n",
    "                            da = ds[y]\n",
    "                            for key in da.coords:\n",
    "                                num = str(key)[3]\n",
    "                            da = da.rename(rdict(num))\n",
    "                            if y in unit_d:\n",
    "                                da.attrs[\"units\"] = \"$^{\\circ}$C\"\n",
    "                            da.coords[\"x\"].attrs[\"units\"] = \"$^{\\circ}$E\"\n",
    "                            da.coords[\"y\"].attrs[\"units\"] = \"$^{\\circ}$N\"\n",
    "                            animate_xr_da(\n",
    "                                da.where(da != 0.0).isel(Z=0),\n",
    "                                video_path=x + \"_\" + y + \".gif\",\n",
    "                                vcmap=cmap_d[y],\n",
    "                            )"
   ]
  },
  {
   "cell_type": "code",
   "execution_count": 51,
   "id": "c299c840",
   "metadata": {
    "ExecuteTime": {
     "end_time": "2021-04-10T22:25:21.515157Z",
     "start_time": "2021-04-10T22:24:24.677936Z"
    }
   },
   "outputs": [
    {
     "name": "stderr",
     "output_type": "stream",
     "text": [
      "\r",
      "om_diag_SST_SST.gif:   0%|          | 0/25 [00:00<?, ?it/s]"
     ]
    },
    {
     "name": "stdout",
     "output_type": "stream",
     "text": [
      "SST_SST\n"
     ]
    },
    {
     "name": "stderr",
     "output_type": "stream",
     "text": [
      "om_diag_SST_SST.gif: 100%|██████████| 25/25 [00:09<00:00,  2.57it/s]\n",
      "om_diag_SST_QFLX.gif:   0%|          | 0/25 [00:00<?, ?it/s]"
     ]
    },
    {
     "name": "stdout",
     "output_type": "stream",
     "text": [
      "Video om_diag_SST_SST.gif made.\n",
      "'animate_xr_da'  12.93720 s\n",
      "\n",
      "SST_QFLX\n"
     ]
    },
    {
     "name": "stderr",
     "output_type": "stream",
     "text": [
      "om_diag_SST_QFLX.gif: 100%|██████████| 25/25 [00:08<00:00,  3.09it/s]\n",
      "om_diag_DYN_PRES.gif:   0%|          | 0/25 [00:00<?, ?it/s]"
     ]
    },
    {
     "name": "stdout",
     "output_type": "stream",
     "text": [
      "Video om_diag_SST_QFLX.gif made.\n",
      "'animate_xr_da'  10.84785 s\n",
      "\n",
      "DYN_PRES\n"
     ]
    },
    {
     "name": "stderr",
     "output_type": "stream",
     "text": [
      "om_diag_DYN_PRES.gif: 100%|██████████| 25/25 [00:07<00:00,  3.18it/s]\n",
      "om_diag_TDEEP_HMODEL.gif:   0%|          | 0/25 [00:00<?, ?it/s]"
     ]
    },
    {
     "name": "stdout",
     "output_type": "stream",
     "text": [
      "Video om_diag_DYN_PRES.gif made.\n",
      "'animate_xr_da'  11.35176 s\n",
      "\n",
      "TDEEP_HMODEL\n"
     ]
    },
    {
     "name": "stderr",
     "output_type": "stream",
     "text": [
      "om_diag_TDEEP_HMODEL.gif: 100%|██████████| 25/25 [00:08<00:00,  2.98it/s]\n",
      "om_diag_TDEEP_TDEEP.gif:   0%|          | 0/25 [00:00<?, ?it/s]"
     ]
    },
    {
     "name": "stdout",
     "output_type": "stream",
     "text": [
      "Video om_diag_TDEEP_HMODEL.gif made.\n",
      "'animate_xr_da'  11.03354 s\n",
      "\n",
      "TDEEP_TDEEP\n"
     ]
    },
    {
     "name": "stderr",
     "output_type": "stream",
     "text": [
      "om_diag_TDEEP_TDEEP.gif: 100%|██████████| 25/25 [00:07<00:00,  3.21it/s]\n"
     ]
    },
    {
     "name": "stdout",
     "output_type": "stream",
     "text": [
      "Video om_diag_TDEEP_TDEEP.gif made.\n",
      "'animate_xr_da'  10.39789 s\n",
      "\n"
     ]
    }
   ],
   "source": []
  },
  {
   "cell_type": "code",
   "execution_count": null,
   "id": "78ee16b8",
   "metadata": {},
   "outputs": [],
   "source": [
    "{\"DYN_PRES\": \"delta\", \"TDEEP_HTHERM\": \"sst\", \"TDEEP_TDEEP\": \"sst\", \"TDEEP_HMODEL\": \"sst\"}"
   ]
  },
  {
   "cell_type": "code",
   "execution_count": 4,
   "id": "d649d813",
   "metadata": {
    "ExecuteTime": {
     "end_time": "2021-04-09T16:14:37.748002Z",
     "start_time": "2021-04-09T16:14:37.737296Z"
    }
   },
   "outputs": [
    {
     "data": {
      "text/plain": [
       "['thermal',\n",
       " 'haline',\n",
       " 'solar',\n",
       " 'ice',\n",
       " 'gray',\n",
       " 'oxy',\n",
       " 'deep',\n",
       " 'dense',\n",
       " 'algae',\n",
       " 'matter',\n",
       " 'turbid',\n",
       " 'speed',\n",
       " 'amp',\n",
       " 'tempo',\n",
       " 'rain',\n",
       " 'phase',\n",
       " 'topo',\n",
       " 'balance',\n",
       " 'delta',\n",
       " 'curl',\n",
       " 'diff',\n",
       " 'tarn']"
      ]
     },
     "execution_count": 4,
     "metadata": {},
     "output_type": "execute_result"
    }
   ],
   "source": [
    "cmocean.cm.cmapnames"
   ]
  },
  {
   "cell_type": "code",
   "execution_count": 49,
   "id": "c1212534",
   "metadata": {
    "ExecuteTime": {
     "end_time": "2021-04-10T22:19:09.223691Z",
     "start_time": "2021-04-10T22:19:09.181927Z"
    }
   },
   "outputs": [
    {
     "name": "stdout",
     "output_type": "stream",
     "text": [
      "DYN_PRES\n",
      "TDEEP_HTHERM\n",
      "TDEEP_TDEEP\n",
      "TDEEP_HMODEL\n",
      "SST_SST\n"
     ]
    }
   ],
   "source": [
    "ds = xr.open_dataset(str(OCEAN_OUTPUT_PATH / \"om_run2f\") + \".nc\", decode_times=False)\n",
    "map_d = {\n",
    "    \"DYN_PRES\": \"delta\",\n",
    "    \"TDEEP_HTHERM\": \"sst\",\n",
    "    \"TDEEP_TDEEP\": \"sst\",\n",
    "    \"TDEEP_HMODEL\": \"sst\",\n",
    "}\n",
    "for y in ds.variables:\n",
    "    y = str(y)\n",
    "    if \"X_\" not in y:\n",
    "        if \"Y_\" not in y:\n",
    "            if \"L_\" not in y:\n",
    "                if \"T_\" not in y or \"SST\" in y:\n",
    "                    if \"GRID\" != y:\n",
    "                        print(y)"
   ]
  },
  {
   "cell_type": "code",
   "execution_count": null,
   "id": "3fa1dd19",
   "metadata": {},
   "outputs": [],
   "source": []
  }
 ],
 "metadata": {
  "hide_input": false,
  "kernelspec": {
   "display_name": "Python 3",
   "language": "python",
   "name": "python3"
  },
  "language_info": {
   "codemirror_mode": {
    "name": "ipython",
    "version": 3
   },
   "file_extension": ".py",
   "mimetype": "text/x-python",
   "name": "python",
   "nbconvert_exporter": "python",
   "pygments_lexer": "ipython3",
   "version": "3.8.8"
  },
  "varInspector": {
   "cols": {
    "lenName": 16,
    "lenType": 16,
    "lenVar": 40
   },
   "kernels_config": {
    "python": {
     "delete_cmd_postfix": "",
     "delete_cmd_prefix": "del ",
     "library": "var_list.py",
     "varRefreshCmd": "print(var_dic_list())"
    },
    "r": {
     "delete_cmd_postfix": ") ",
     "delete_cmd_prefix": "rm(",
     "library": "var_list.r",
     "varRefreshCmd": "cat(var_dic_list()) "
    }
   },
   "types_to_exclude": [
    "module",
    "function",
    "builtin_function_or_method",
    "instance",
    "_Feature"
   ],
   "window_display": false
  }
 },
 "nbformat": 4,
 "nbformat_minor": 5
}
