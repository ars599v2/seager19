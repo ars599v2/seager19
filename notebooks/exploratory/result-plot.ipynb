{
 "cells": [
  {
   "cell_type": "markdown",
   "id": "6ca79463",
   "metadata": {},
   "source": [
    "# Analysis"
   ]
  },
  {
   "cell_type": "code",
   "execution_count": 1,
   "id": "a6f3d9fc",
   "metadata": {
    "ExecuteTime": {
     "end_time": "2021-04-09T11:53:27.398601Z",
     "start_time": "2021-04-09T11:53:27.380974Z"
    }
   },
   "outputs": [
    {
     "name": "stdout",
     "output_type": "stream",
     "text": [
      "The autoreload module is not an IPython extension.\n"
     ]
    },
    {
     "name": "stderr",
     "output_type": "stream",
     "text": [
      "UsageError: Line magic function `%autoreload` not found.\n"
     ]
    }
   ],
   "source": [
    "# Convenient jupyter setup\n",
    "%load_ext autoreload\n",
    "%autoreload 2\n",
    "%config IPCompleter.greedy=True"
   ]
  },
  {
   "cell_type": "code",
   "execution_count": 2,
   "id": "dd9696a5",
   "metadata": {
    "ExecuteTime": {
     "end_time": "2021-04-09T11:53:35.386841Z",
     "start_time": "2021-04-09T11:53:28.292901Z"
    }
   },
   "outputs": [
    {
     "data": {
      "text/plain": [
       "<xarray.core.options.set_options at 0x7fcb249492b0>"
      ]
     },
     "execution_count": 2,
     "metadata": {},
     "output_type": "execute_result"
    }
   ],
   "source": [
    "# set up plotting settings for dark mode.\n",
    "from jupyterthemes import jtplot\n",
    "jtplot.style(theme=\"grade3\", context=\"notebook\", ticks=True, grid=False)\n",
    "from src.plot_settings import ps_defaults\n",
    "ps_defaults(use_tex=False, dpi=150)\n",
    "import xarray as xr\n",
    "xr.set_options(display_style='text')"
   ]
  },
  {
   "cell_type": "code",
   "execution_count": 3,
   "id": "40bdbf64",
   "metadata": {
    "ExecuteTime": {
     "end_time": "2021-04-09T11:53:35.555133Z",
     "start_time": "2021-04-09T11:53:35.404134Z"
    }
   },
   "outputs": [],
   "source": [
    "from src.constants import OCEAN_OUTPUT_PATH\n",
    "from src.visualisation.ani import animate_xr_da"
   ]
  },
  {
   "cell_type": "code",
   "execution_count": 4,
   "id": "0a081caa",
   "metadata": {
    "ExecuteTime": {
     "end_time": "2021-04-09T11:58:32.963992Z",
     "start_time": "2021-04-09T11:53:40.864625Z"
    }
   },
   "outputs": [
    {
     "name": "stderr",
     "output_type": "stream",
     "text": [
      "\r",
      "om_diag_SST.gif:   0%|          | 0/25 [00:00<?, ?it/s]"
     ]
    },
    {
     "name": "stdout",
     "output_type": "stream",
     "text": [
      "/home/users/sithom/seager19/ocean/output/om_diag\n",
      "<xarray.DataArray 'SST_SST' (time: 25, y: 161, x: 360)>\n",
      "[1449000 values with dtype=float32]\n",
      "Coordinates:\n",
      "  * x        (x) float32 0.0 1.0 2.0 3.0 4.0 ... 355.0 356.0 357.0 358.0 359.0\n",
      "  * y        (y) float32 -80.0 -79.0 -78.0 -77.0 -76.0 ... 77.0 78.0 79.0 80.0\n",
      "    Z        float32 1.0\n",
      "  * time     (time) float32 -48.02 -47.08 -46.09 -45.08 ... -26.08 -25.09 -24.08\n",
      "Attributes:\n",
      "    long_name:  SST\n"
     ]
    },
    {
     "name": "stderr",
     "output_type": "stream",
     "text": [
      "om_diag_SST.gif: 100%|██████████| 25/25 [00:06<00:00,  3.75it/s]\n"
     ]
    },
    {
     "name": "stdout",
     "output_type": "stream",
     "text": [
      "Video om_diag_SST.gif made.\n",
      "'animate_xr_da'  9.16884 s\n",
      "\n",
      "/home/users/sithom/seager19/ocean/output/om_run2f\n",
      "<xarray.DataArray 'SST_SST' (time: 697, y: 161, x: 360)>\n",
      "[40398120 values with dtype=float32]\n",
      "Coordinates:\n",
      "  * x        (x) float32 0.0 1.0 2.0 3.0 4.0 ... 355.0 356.0 357.0 358.0 359.0\n",
      "  * y        (y) float32 -80.0 -79.0 -78.0 -77.0 -76.0 ... 77.0 78.0 79.0 80.0\n",
      "    Z        float32 1.0\n",
      "  * time     (time) float32 -24.02 -23.08 -22.09 -21.08 ... 669.9 670.9 671.9\n",
      "Attributes:\n",
      "    long_name:  SST\n"
     ]
    },
    {
     "name": "stderr",
     "output_type": "stream",
     "text": [
      "om_run2f_SST.gif: 100%|██████████| 697/697 [03:29<00:00,  3.33it/s]\n"
     ]
    },
    {
     "name": "stdout",
     "output_type": "stream",
     "text": [
      "Video om_run2f_SST.gif made.\n",
      "'animate_xr_da'  282.83963 s\n",
      "\n"
     ]
    }
   ],
   "source": [
    "for x in [\n",
    "    # \"om_spin.nc\",\n",
    "    [\"om_diag\", {\"T_01\": \"time\", \"Y_01\": \"y\", \"X_01\": \"x\", \"L_01\": \"Z\"}],\n",
    "    [\"om_run2f\", {\"T_03\": \"time\", \"Y_03\": \"y\", \"X_03\": \"x\", \"L_03\": \"Z\"}]\n",
    "]:\n",
    "    SST = xr.open_dataset(str(OCEAN_OUTPUT_PATH / x[0]) +\".nc\", decode_times=False).SST_SST.rename(x[1])\n",
    "    animate_xr_da(SST.isel(Z=0), video_path= x[0]+\"_SST.gif\")"
   ]
  },
  {
   "cell_type": "code",
   "execution_count": null,
   "id": "4272bd05",
   "metadata": {},
   "outputs": [],
   "source": []
  }
 ],
 "metadata": {
  "hide_input": false,
  "kernelspec": {
   "display_name": "Python 3",
   "language": "python",
   "name": "python3"
  },
  "language_info": {
   "codemirror_mode": {
    "name": "ipython",
    "version": 3
   },
   "file_extension": ".py",
   "mimetype": "text/x-python",
   "name": "python",
   "nbconvert_exporter": "python",
   "pygments_lexer": "ipython3",
   "version": "3.8.8"
  },
  "varInspector": {
   "cols": {
    "lenName": 16,
    "lenType": 16,
    "lenVar": 40
   },
   "kernels_config": {
    "python": {
     "delete_cmd_postfix": "",
     "delete_cmd_prefix": "del ",
     "library": "var_list.py",
     "varRefreshCmd": "print(var_dic_list())"
    },
    "r": {
     "delete_cmd_postfix": ") ",
     "delete_cmd_prefix": "rm(",
     "library": "var_list.r",
     "varRefreshCmd": "cat(var_dic_list()) "
    }
   },
   "types_to_exclude": [
    "module",
    "function",
    "builtin_function_or_method",
    "instance",
    "_Feature"
   ],
   "window_display": false
  }
 },
 "nbformat": 4,
 "nbformat_minor": 5
}
