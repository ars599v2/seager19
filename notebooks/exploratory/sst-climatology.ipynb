{
 "cells": [
  {
   "cell_type": "markdown",
   "id": "6ca79463",
   "metadata": {},
   "source": [
    "# Analysis"
   ]
  },
  {
   "cell_type": "code",
   "execution_count": 1,
   "id": "a6f3d9fc",
   "metadata": {
    "ExecuteTime": {
     "end_time": "2022-03-10T13:46:57.025862Z",
     "start_time": "2022-03-10T13:46:56.998723Z"
    }
   },
   "outputs": [],
   "source": [
    "# Convenient jupyter setup\n",
    "%load_ext autoreload\n",
    "%autoreload 2\n",
    "%config IPCompleter.greedy=True"
   ]
  },
  {
   "cell_type": "code",
   "execution_count": 2,
   "id": "dd9696a5",
   "metadata": {
    "ExecuteTime": {
     "end_time": "2022-03-10T13:47:03.232666Z",
     "start_time": "2022-03-10T13:46:57.378527Z"
    }
   },
   "outputs": [],
   "source": [
    "# set up plotting settings for dark mode.\n",
    "from jupyterthemes import jtplot\n",
    "jtplot.style(theme=\"grade3\", context=\"notebook\", ticks=True, grid=False)\n",
    "from src.plot_utils import ps_defaults\n",
    "ps_defaults(use_tex=False, dpi=150)"
   ]
  },
  {
   "cell_type": "code",
   "execution_count": 3,
   "id": "1aadc481",
   "metadata": {
    "ExecuteTime": {
     "end_time": "2022-03-10T13:49:48.733239Z",
     "start_time": "2022-03-10T13:49:47.955084Z"
    }
   },
   "outputs": [],
   "source": [
    "import os\n",
    "from src.constants import cmip6_ensemble_var"
   ]
  },
  {
   "cell_type": "code",
   "execution_count": null,
   "id": "75d20fc7",
   "metadata": {
    "ExecuteTime": {
     "start_time": "2022-03-10T14:45:53.616Z"
    }
   },
   "outputs": [],
   "source": [
    "import xarray as xr\n",
    "direc = cmip6_ensemble_var(\"ts\")\n",
    "member_list = [x[2:-3] for x in os.listdir(direc)]\n",
    "file_list = [os.path.join(direc, x) for x in os.listdir(direc)]\n",
    "da_list = []\n",
    "for i, name in enumerate(name_list):\n",
    "    da_list.append(xr.open_dataarray(file_list[i]).expand_dims({\"member\": [name_list[i]]}))\n",
    "xr.merge(da_list)"
   ]
  },
  {
   "cell_type": "code",
   "execution_count": null,
   "id": "de460ca7",
   "metadata": {},
   "outputs": [],
   "source": []
  },
  {
   "cell_type": "code",
   "execution_count": null,
   "id": "e898c2ee",
   "metadata": {},
   "outputs": [],
   "source": []
  }
 ],
 "metadata": {
  "hide_input": false,
  "kernelspec": {
   "display_name": "Python 3 (ipykernel)",
   "language": "python",
   "name": "python3"
  },
  "language_info": {
   "codemirror_mode": {
    "name": "ipython",
    "version": 3
   },
   "file_extension": ".py",
   "mimetype": "text/x-python",
   "name": "python",
   "nbconvert_exporter": "python",
   "pygments_lexer": "ipython3",
   "version": "3.8.12"
  },
  "varInspector": {
   "cols": {
    "lenName": 16,
    "lenType": 16,
    "lenVar": 40
   },
   "kernels_config": {
    "python": {
     "delete_cmd_postfix": "",
     "delete_cmd_prefix": "del ",
     "library": "var_list.py",
     "varRefreshCmd": "print(var_dic_list())"
    },
    "r": {
     "delete_cmd_postfix": ") ",
     "delete_cmd_prefix": "rm(",
     "library": "var_list.r",
     "varRefreshCmd": "cat(var_dic_list()) "
    }
   },
   "types_to_exclude": [
    "module",
    "function",
    "builtin_function_or_method",
    "instance",
    "_Feature"
   ],
   "window_display": false
  }
 },
 "nbformat": 4,
 "nbformat_minor": 5
}
