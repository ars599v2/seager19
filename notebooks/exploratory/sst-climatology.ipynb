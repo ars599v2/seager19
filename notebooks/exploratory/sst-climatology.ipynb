{
 "cells": [
  {
   "cell_type": "markdown",
   "id": "6ca79463",
   "metadata": {},
   "source": [
    "# Analysis"
   ]
  },
  {
   "cell_type": "code",
   "execution_count": 38,
   "id": "a6f3d9fc",
   "metadata": {
    "ExecuteTime": {
     "end_time": "2022-03-10T16:43:49.204056Z",
     "start_time": "2022-03-10T16:43:48.451346Z"
    }
   },
   "outputs": [],
   "source": [
    "# Convenient jupyter setup\n",
    "%load_ext autoreload\n",
    "%autoreload 2\n",
    "%config IPCompleter.greedy=True"
   ]
  },
  {
   "cell_type": "code",
   "execution_count": 43,
   "id": "dd9696a5",
   "metadata": {
    "ExecuteTime": {
     "end_time": "2022-03-10T16:45:14.743926Z",
     "start_time": "2022-03-10T16:45:13.881829Z"
    }
   },
   "outputs": [],
   "source": [
    "# set up plotting settings for dark mode.\n",
    "from jupyterthemes import jtplot\n",
    "jtplot.style(theme=\"grade3\", context=\"notebook\", ticks=True, grid=False)\n",
    "from src.plot_utils import ps_defaults\n",
    "ps_defaults(use_tex=False, dpi=150)"
   ]
  },
  {
   "cell_type": "code",
   "execution_count": 4,
   "id": "35dd7a6b",
   "metadata": {
    "ExecuteTime": {
     "end_time": "2022-03-10T15:45:04.202362Z",
     "start_time": "2022-03-10T15:45:03.964551Z"
    }
   },
   "outputs": [],
   "source": [
    "import os\n",
    "from src.constants import cmip6_ensemble_var"
   ]
  },
  {
   "cell_type": "code",
   "execution_count": 15,
   "id": "29325d5b",
   "metadata": {
    "ExecuteTime": {
     "end_time": "2022-03-10T15:55:21.085248Z",
     "start_time": "2022-03-10T15:52:36.091646Z"
    }
   },
   "outputs": [
    {
     "name": "stdout",
     "output_type": "stream",
     "text": [
      "0 AS-RCEC.TaiESM1.r1i1p1f1.80\n",
      "1 BCC.BCC-CSM2-MR.r1i1p1f1.80\n",
      "2 CAMS.CAMS-CSM1-0.r1i1p1f1.80\n",
      "3 CAMS.CAMS-CSM1-0.r2i1p1f1.80\n",
      "4 CAS.CAS-ESM2-0.r1i1p1f1.80\n",
      "5 CAS.CAS-ESM2-0.r3i1p1f1.80\n",
      "6 CAS.FGOALS-f3-L.r1i1p1f1.80\n",
      "7 CAS.FGOALS-g3.r1i1p1f1.80\n",
      "8 CAS.FGOALS-g3.r2i1p1f1.80\n",
      "9 CAS.FGOALS-g3.r3i1p1f1.80\n",
      "10 CAS.FGOALS-g3.r4i1p1f1.80\n",
      "11 CCCR-IITM.IITM-ESM.r1i1p1f1.80\n",
      "12 CMCC.CMCC-CM2-SR5.r1i1p1f1.80\n",
      "13 CMCC.CMCC-ESM2.r1i1p1f1.80\n",
      "14 E3SM-Project.E3SM-1-1.r1i1p1f1.80\n",
      "15 FIO-QLNM.FIO-ESM-2-0.r1i1p1f1.80\n",
      "16 FIO-QLNM.FIO-ESM-2-0.r2i1p1f1.80\n",
      "17 FIO-QLNM.FIO-ESM-2-0.r3i1p1f1.80\n",
      "18 INM.INM-CM4-8.r1i1p1f1.80\n",
      "19 INM.INM-CM5-0.r1i1p1f1.80\n",
      "20 KIOST.KIOST-ESM.r1i1p1f1.80\n",
      "21 MOHC.HadGEM3-GC31-LL.r1i1p1f3.80\n",
      "22 MOHC.HadGEM3-GC31-LL.r2i1p1f3.80\n",
      "23 MOHC.HadGEM3-GC31-LL.r3i1p1f3.80\n",
      "24 MOHC.HadGEM3-GC31-LL.r4i1p1f3.80\n",
      "25 MOHC.HadGEM3-GC31-MM.r1i1p1f3.80\n",
      "26 MOHC.HadGEM3-GC31-MM.r2i1p1f3.80\n",
      "27 MOHC.HadGEM3-GC31-MM.r3i1p1f3.80\n",
      "28 MOHC.HadGEM3-GC31-MM.r4i1p1f3.80\n",
      "29 MOHC.UKESM1-0-LL.r1i1p1f2.80\n",
      "30 MOHC.UKESM1-0-LL.r2i1p1f2.80\n",
      "31 MOHC.UKESM1-0-LL.r3i1p1f2.80\n",
      "32 MOHC.UKESM1-0-LL.r4i1p1f2.80\n",
      "33 MOHC.UKESM1-0-LL.r8i1p1f2.80\n",
      "34 NASA-GISS.GISS-E2-1-G.r1i1p3f1.80\n",
      "35 NASA-GISS.GISS-E2-1-G.r1i1p5f1.80\n",
      "36 NASA-GISS.GISS-E2-1-G.r2i1p3f1.80\n",
      "37 NASA-GISS.GISS-E2-1-G.r3i1p3f1.80\n",
      "38 NASA-GISS.GISS-E2-1-G.r4i1p3f1.80\n",
      "39 NASA-GISS.GISS-E2-1-G.r5i1p3f1.80\n",
      "40 NCAR.CESM2-WACCM.r1i1p1f1.80\n",
      "41 NCAR.CESM2-WACCM.r2i1p1f1.80\n",
      "42 NCAR.CESM2-WACCM.r3i1p1f1.80\n",
      "43 NCAR.CESM2.r10i1p1f1.80\n",
      "44 NCAR.CESM2.r11i1p1f1.80\n",
      "45 NCAR.CESM2.r4i1p1f1.80\n",
      "46 NIMS-KMA.KACE-1-0-G.r1i1p1f1.80\n",
      "47 NIMS-KMA.KACE-1-0-G.r2i1p1f1.80\n",
      "48 NIMS-KMA.KACE-1-0-G.r3i1p1f1.80\n",
      "49 NOAA-GFDL.GFDL-CM4.r1i1p1f1.80\n",
      "50 NOAA-GFDL.GFDL-ESM4.r1i1p1f1.80\n",
      "51 THU.CIESM.r1i1p1f1.80\n",
      "52 UA.MCM-UA-1-0.r1i1p1f2.80\n"
     ]
    }
   ],
   "source": [
    "import xarray as xr\n",
    "\n",
    "var=\"ts\"\n",
    "direc = cmip6_ensemble_var(var)\n",
    "member_list = [x[len(var)+1:-6] for x in os.listdir(direc)]\n",
    "file_list = [os.path.join(direc, x) for x in os.listdir(direc)]\n",
    "da_list = []\n",
    "\n",
    "for i, member in enumerate(member_list):\n",
    "    ds = xr.load_dataset(file_list[i])\n",
    "    if \"member\" not in ds.dims:\n",
    "        print(i, member)\n",
    "        ds = ds.expand_dims({\"member\": [member_list[i]]})\n",
    "        ds.to_netcdf(file_list[i], mode=\"w\")\n",
    "\n",
    "# xr.merge(da_list)"
   ]
  },
  {
   "cell_type": "code",
   "execution_count": 16,
   "id": "2b229ac7",
   "metadata": {
    "ExecuteTime": {
     "end_time": "2022-03-10T15:58:49.991563Z",
     "start_time": "2022-03-10T15:58:49.909471Z"
    }
   },
   "outputs": [
    {
     "data": {
      "text/html": [
       "<div><svg style=\"position: absolute; width: 0; height: 0; overflow: hidden\">\n",
       "<defs>\n",
       "<symbol id=\"icon-database\" viewBox=\"0 0 32 32\">\n",
       "<path d=\"M16 0c-8.837 0-16 2.239-16 5v4c0 2.761 7.163 5 16 5s16-2.239 16-5v-4c0-2.761-7.163-5-16-5z\"></path>\n",
       "<path d=\"M16 17c-8.837 0-16-2.239-16-5v6c0 2.761 7.163 5 16 5s16-2.239 16-5v-6c0 2.761-7.163 5-16 5z\"></path>\n",
       "<path d=\"M16 26c-8.837 0-16-2.239-16-5v6c0 2.761 7.163 5 16 5s16-2.239 16-5v-6c0 2.761-7.163 5-16 5z\"></path>\n",
       "</symbol>\n",
       "<symbol id=\"icon-file-text2\" viewBox=\"0 0 32 32\">\n",
       "<path d=\"M28.681 7.159c-0.694-0.947-1.662-2.053-2.724-3.116s-2.169-2.030-3.116-2.724c-1.612-1.182-2.393-1.319-2.841-1.319h-15.5c-1.378 0-2.5 1.121-2.5 2.5v27c0 1.378 1.122 2.5 2.5 2.5h23c1.378 0 2.5-1.122 2.5-2.5v-19.5c0-0.448-0.137-1.23-1.319-2.841zM24.543 5.457c0.959 0.959 1.712 1.825 2.268 2.543h-4.811v-4.811c0.718 0.556 1.584 1.309 2.543 2.268zM28 29.5c0 0.271-0.229 0.5-0.5 0.5h-23c-0.271 0-0.5-0.229-0.5-0.5v-27c0-0.271 0.229-0.5 0.5-0.5 0 0 15.499-0 15.5 0v7c0 0.552 0.448 1 1 1h7v19.5z\"></path>\n",
       "<path d=\"M23 26h-14c-0.552 0-1-0.448-1-1s0.448-1 1-1h14c0.552 0 1 0.448 1 1s-0.448 1-1 1z\"></path>\n",
       "<path d=\"M23 22h-14c-0.552 0-1-0.448-1-1s0.448-1 1-1h14c0.552 0 1 0.448 1 1s-0.448 1-1 1z\"></path>\n",
       "<path d=\"M23 18h-14c-0.552 0-1-0.448-1-1s0.448-1 1-1h14c0.552 0 1 0.448 1 1s-0.448 1-1 1z\"></path>\n",
       "</symbol>\n",
       "</defs>\n",
       "</svg>\n",
       "<style>/* CSS stylesheet for displaying xarray objects in jupyterlab.\n",
       " *\n",
       " */\n",
       "\n",
       ":root {\n",
       "  --xr-font-color0: var(--jp-content-font-color0, rgba(0, 0, 0, 1));\n",
       "  --xr-font-color2: var(--jp-content-font-color2, rgba(0, 0, 0, 0.54));\n",
       "  --xr-font-color3: var(--jp-content-font-color3, rgba(0, 0, 0, 0.38));\n",
       "  --xr-border-color: var(--jp-border-color2, #e0e0e0);\n",
       "  --xr-disabled-color: var(--jp-layout-color3, #bdbdbd);\n",
       "  --xr-background-color: var(--jp-layout-color0, white);\n",
       "  --xr-background-color-row-even: var(--jp-layout-color1, white);\n",
       "  --xr-background-color-row-odd: var(--jp-layout-color2, #eeeeee);\n",
       "}\n",
       "\n",
       "html[theme=dark],\n",
       "body.vscode-dark {\n",
       "  --xr-font-color0: rgba(255, 255, 255, 1);\n",
       "  --xr-font-color2: rgba(255, 255, 255, 0.54);\n",
       "  --xr-font-color3: rgba(255, 255, 255, 0.38);\n",
       "  --xr-border-color: #1F1F1F;\n",
       "  --xr-disabled-color: #515151;\n",
       "  --xr-background-color: #111111;\n",
       "  --xr-background-color-row-even: #111111;\n",
       "  --xr-background-color-row-odd: #313131;\n",
       "}\n",
       "\n",
       ".xr-wrap {\n",
       "  display: block;\n",
       "  min-width: 300px;\n",
       "  max-width: 700px;\n",
       "}\n",
       "\n",
       ".xr-text-repr-fallback {\n",
       "  /* fallback to plain text repr when CSS is not injected (untrusted notebook) */\n",
       "  display: none;\n",
       "}\n",
       "\n",
       ".xr-header {\n",
       "  padding-top: 6px;\n",
       "  padding-bottom: 6px;\n",
       "  margin-bottom: 4px;\n",
       "  border-bottom: solid 1px var(--xr-border-color);\n",
       "}\n",
       "\n",
       ".xr-header > div,\n",
       ".xr-header > ul {\n",
       "  display: inline;\n",
       "  margin-top: 0;\n",
       "  margin-bottom: 0;\n",
       "}\n",
       "\n",
       ".xr-obj-type,\n",
       ".xr-array-name {\n",
       "  margin-left: 2px;\n",
       "  margin-right: 10px;\n",
       "}\n",
       "\n",
       ".xr-obj-type {\n",
       "  color: var(--xr-font-color2);\n",
       "}\n",
       "\n",
       ".xr-sections {\n",
       "  padding-left: 0 !important;\n",
       "  display: grid;\n",
       "  grid-template-columns: 150px auto auto 1fr 20px 20px;\n",
       "}\n",
       "\n",
       ".xr-section-item {\n",
       "  display: contents;\n",
       "}\n",
       "\n",
       ".xr-section-item input {\n",
       "  display: none;\n",
       "}\n",
       "\n",
       ".xr-section-item input + label {\n",
       "  color: var(--xr-disabled-color);\n",
       "}\n",
       "\n",
       ".xr-section-item input:enabled + label {\n",
       "  cursor: pointer;\n",
       "  color: var(--xr-font-color2);\n",
       "}\n",
       "\n",
       ".xr-section-item input:enabled + label:hover {\n",
       "  color: var(--xr-font-color0);\n",
       "}\n",
       "\n",
       ".xr-section-summary {\n",
       "  grid-column: 1;\n",
       "  color: var(--xr-font-color2);\n",
       "  font-weight: 500;\n",
       "}\n",
       "\n",
       ".xr-section-summary > span {\n",
       "  display: inline-block;\n",
       "  padding-left: 0.5em;\n",
       "}\n",
       "\n",
       ".xr-section-summary-in:disabled + label {\n",
       "  color: var(--xr-font-color2);\n",
       "}\n",
       "\n",
       ".xr-section-summary-in + label:before {\n",
       "  display: inline-block;\n",
       "  content: '►';\n",
       "  font-size: 11px;\n",
       "  width: 15px;\n",
       "  text-align: center;\n",
       "}\n",
       "\n",
       ".xr-section-summary-in:disabled + label:before {\n",
       "  color: var(--xr-disabled-color);\n",
       "}\n",
       "\n",
       ".xr-section-summary-in:checked + label:before {\n",
       "  content: '▼';\n",
       "}\n",
       "\n",
       ".xr-section-summary-in:checked + label > span {\n",
       "  display: none;\n",
       "}\n",
       "\n",
       ".xr-section-summary,\n",
       ".xr-section-inline-details {\n",
       "  padding-top: 4px;\n",
       "  padding-bottom: 4px;\n",
       "}\n",
       "\n",
       ".xr-section-inline-details {\n",
       "  grid-column: 2 / -1;\n",
       "}\n",
       "\n",
       ".xr-section-details {\n",
       "  display: none;\n",
       "  grid-column: 1 / -1;\n",
       "  margin-bottom: 5px;\n",
       "}\n",
       "\n",
       ".xr-section-summary-in:checked ~ .xr-section-details {\n",
       "  display: contents;\n",
       "}\n",
       "\n",
       ".xr-array-wrap {\n",
       "  grid-column: 1 / -1;\n",
       "  display: grid;\n",
       "  grid-template-columns: 20px auto;\n",
       "}\n",
       "\n",
       ".xr-array-wrap > label {\n",
       "  grid-column: 1;\n",
       "  vertical-align: top;\n",
       "}\n",
       "\n",
       ".xr-preview {\n",
       "  color: var(--xr-font-color3);\n",
       "}\n",
       "\n",
       ".xr-array-preview,\n",
       ".xr-array-data {\n",
       "  padding: 0 5px !important;\n",
       "  grid-column: 2;\n",
       "}\n",
       "\n",
       ".xr-array-data,\n",
       ".xr-array-in:checked ~ .xr-array-preview {\n",
       "  display: none;\n",
       "}\n",
       "\n",
       ".xr-array-in:checked ~ .xr-array-data,\n",
       ".xr-array-preview {\n",
       "  display: inline-block;\n",
       "}\n",
       "\n",
       ".xr-dim-list {\n",
       "  display: inline-block !important;\n",
       "  list-style: none;\n",
       "  padding: 0 !important;\n",
       "  margin: 0;\n",
       "}\n",
       "\n",
       ".xr-dim-list li {\n",
       "  display: inline-block;\n",
       "  padding: 0;\n",
       "  margin: 0;\n",
       "}\n",
       "\n",
       ".xr-dim-list:before {\n",
       "  content: '(';\n",
       "}\n",
       "\n",
       ".xr-dim-list:after {\n",
       "  content: ')';\n",
       "}\n",
       "\n",
       ".xr-dim-list li:not(:last-child):after {\n",
       "  content: ',';\n",
       "  padding-right: 5px;\n",
       "}\n",
       "\n",
       ".xr-has-index {\n",
       "  font-weight: bold;\n",
       "}\n",
       "\n",
       ".xr-var-list,\n",
       ".xr-var-item {\n",
       "  display: contents;\n",
       "}\n",
       "\n",
       ".xr-var-item > div,\n",
       ".xr-var-item label,\n",
       ".xr-var-item > .xr-var-name span {\n",
       "  background-color: var(--xr-background-color-row-even);\n",
       "  margin-bottom: 0;\n",
       "}\n",
       "\n",
       ".xr-var-item > .xr-var-name:hover span {\n",
       "  padding-right: 5px;\n",
       "}\n",
       "\n",
       ".xr-var-list > li:nth-child(odd) > div,\n",
       ".xr-var-list > li:nth-child(odd) > label,\n",
       ".xr-var-list > li:nth-child(odd) > .xr-var-name span {\n",
       "  background-color: var(--xr-background-color-row-odd);\n",
       "}\n",
       "\n",
       ".xr-var-name {\n",
       "  grid-column: 1;\n",
       "}\n",
       "\n",
       ".xr-var-dims {\n",
       "  grid-column: 2;\n",
       "}\n",
       "\n",
       ".xr-var-dtype {\n",
       "  grid-column: 3;\n",
       "  text-align: right;\n",
       "  color: var(--xr-font-color2);\n",
       "}\n",
       "\n",
       ".xr-var-preview {\n",
       "  grid-column: 4;\n",
       "}\n",
       "\n",
       ".xr-var-name,\n",
       ".xr-var-dims,\n",
       ".xr-var-dtype,\n",
       ".xr-preview,\n",
       ".xr-attrs dt {\n",
       "  white-space: nowrap;\n",
       "  overflow: hidden;\n",
       "  text-overflow: ellipsis;\n",
       "  padding-right: 10px;\n",
       "}\n",
       "\n",
       ".xr-var-name:hover,\n",
       ".xr-var-dims:hover,\n",
       ".xr-var-dtype:hover,\n",
       ".xr-attrs dt:hover {\n",
       "  overflow: visible;\n",
       "  width: auto;\n",
       "  z-index: 1;\n",
       "}\n",
       "\n",
       ".xr-var-attrs,\n",
       ".xr-var-data {\n",
       "  display: none;\n",
       "  background-color: var(--xr-background-color) !important;\n",
       "  padding-bottom: 5px !important;\n",
       "}\n",
       "\n",
       ".xr-var-attrs-in:checked ~ .xr-var-attrs,\n",
       ".xr-var-data-in:checked ~ .xr-var-data {\n",
       "  display: block;\n",
       "}\n",
       "\n",
       ".xr-var-data > table {\n",
       "  float: right;\n",
       "}\n",
       "\n",
       ".xr-var-name span,\n",
       ".xr-var-data,\n",
       ".xr-attrs {\n",
       "  padding-left: 25px !important;\n",
       "}\n",
       "\n",
       ".xr-attrs,\n",
       ".xr-var-attrs,\n",
       ".xr-var-data {\n",
       "  grid-column: 1 / -1;\n",
       "}\n",
       "\n",
       "dl.xr-attrs {\n",
       "  padding: 0;\n",
       "  margin: 0;\n",
       "  display: grid;\n",
       "  grid-template-columns: 125px auto;\n",
       "}\n",
       "\n",
       ".xr-attrs dt,\n",
       ".xr-attrs dd {\n",
       "  padding: 0;\n",
       "  margin: 0;\n",
       "  float: left;\n",
       "  padding-right: 10px;\n",
       "  width: auto;\n",
       "}\n",
       "\n",
       ".xr-attrs dt {\n",
       "  font-weight: normal;\n",
       "  grid-column: 1;\n",
       "}\n",
       "\n",
       ".xr-attrs dt:hover span {\n",
       "  display: inline-block;\n",
       "  background: var(--xr-background-color);\n",
       "  padding-right: 10px;\n",
       "}\n",
       "\n",
       ".xr-attrs dd {\n",
       "  grid-column: 2;\n",
       "  white-space: pre-wrap;\n",
       "  word-break: break-all;\n",
       "}\n",
       "\n",
       ".xr-icon-database,\n",
       ".xr-icon-file-text2 {\n",
       "  display: inline-block;\n",
       "  vertical-align: middle;\n",
       "  width: 1em;\n",
       "  height: 1.5em !important;\n",
       "  stroke-width: 0;\n",
       "  stroke: currentColor;\n",
       "  fill: currentColor;\n",
       "}\n",
       "</style><pre class='xr-text-repr-fallback'>&lt;xarray.DataArray &#x27;ts&#x27; (member: 1, time: 960, y: 161, x: 361)&gt;\n",
       "[55796160 values with dtype=float32]\n",
       "Coordinates:\n",
       "  * member       (member) object &#x27;AS-RCEC.TaiESM1.r1i1p1f1.80&#x27;\n",
       "  * time         (time) datetime64[ns] 1948-01-15 1948-02-15 ... 2027-12-15\n",
       "    lon          (x, y) float64 360.0 360.0 360.0 360.0 ... nan nan nan nan\n",
       "    lat          (x, y) float64 -80.0 -79.0 -78.0 -77.0 ... nan nan nan nan\n",
       "    member_id    &lt;U8 &#x27;r1i1p1f1&#x27;\n",
       "  * x            (x) int64 0 1 2 3 4 5 6 7 8 ... 353 354 355 356 357 358 359 360\n",
       "  * y            (y) int64 -80 -79 -78 -77 -76 -75 -74 ... 74 75 76 77 78 79 80\n",
       "    institution  &lt;U7 &#x27;AS-RCEC&#x27;\n",
       "    model        &lt;U7 &#x27;TaiESM1&#x27;\n",
       "Attributes:\n",
       "    cell_measures:  area: areacella\n",
       "    cell_methods:   area: time: mean\n",
       "    comment:        Temperature of the lower boundary of the atmosphere\n",
       "    history:        2020-03-25T02:30:56Z altered by CMOR: Converted type from...\n",
       "    long_name:      Surface Temperature\n",
       "    original_name:  TS\n",
       "    standard_name:  surface_temperature\n",
       "    units:          K</pre><div class='xr-wrap' hidden><div class='xr-header'><div class='xr-obj-type'>xarray.DataArray</div><div class='xr-array-name'>'ts'</div><ul class='xr-dim-list'><li><span class='xr-has-index'>member</span>: 1</li><li><span class='xr-has-index'>time</span>: 960</li><li><span class='xr-has-index'>y</span>: 161</li><li><span class='xr-has-index'>x</span>: 361</li></ul></div><ul class='xr-sections'><li class='xr-section-item'><div class='xr-array-wrap'><input id='section-5616029d-5042-43b7-8afc-7078ad5d10ac' class='xr-array-in' type='checkbox' checked><label for='section-5616029d-5042-43b7-8afc-7078ad5d10ac' title='Show/hide data repr'><svg class='icon xr-icon-database'><use xlink:href='#icon-database'></use></svg></label><div class='xr-array-preview xr-preview'><span>...</span></div><div class='xr-array-data'><pre>[55796160 values with dtype=float32]</pre></div></div></li><li class='xr-section-item'><input id='section-a7082440-b4c1-4413-90de-66445af4eda4' class='xr-section-summary-in' type='checkbox'  checked><label for='section-a7082440-b4c1-4413-90de-66445af4eda4' class='xr-section-summary' >Coordinates: <span>(9)</span></label><div class='xr-section-inline-details'></div><div class='xr-section-details'><ul class='xr-var-list'><li class='xr-var-item'><div class='xr-var-name'><span class='xr-has-index'>member</span></div><div class='xr-var-dims'>(member)</div><div class='xr-var-dtype'>object</div><div class='xr-var-preview xr-preview'>&#x27;AS-RCEC.TaiESM1.r1i1p1f1.80&#x27;</div><input id='attrs-9fbd6b2a-0a24-41e6-96e3-ffaf9f97af69' class='xr-var-attrs-in' type='checkbox' disabled><label for='attrs-9fbd6b2a-0a24-41e6-96e3-ffaf9f97af69' title='Show/Hide attributes'><svg class='icon xr-icon-file-text2'><use xlink:href='#icon-file-text2'></use></svg></label><input id='data-8dd34d1f-527f-438c-abd0-23b9a9330f58' class='xr-var-data-in' type='checkbox'><label for='data-8dd34d1f-527f-438c-abd0-23b9a9330f58' title='Show/Hide data repr'><svg class='icon xr-icon-database'><use xlink:href='#icon-database'></use></svg></label><div class='xr-var-attrs'><dl class='xr-attrs'></dl></div><div class='xr-var-data'><pre>array([&#x27;AS-RCEC.TaiESM1.r1i1p1f1.80&#x27;], dtype=object)</pre></div></li><li class='xr-var-item'><div class='xr-var-name'><span class='xr-has-index'>time</span></div><div class='xr-var-dims'>(time)</div><div class='xr-var-dtype'>datetime64[ns]</div><div class='xr-var-preview xr-preview'>1948-01-15 ... 2027-12-15</div><input id='attrs-ea1d7fbc-4774-423b-838b-fcf3d23e848a' class='xr-var-attrs-in' type='checkbox' disabled><label for='attrs-ea1d7fbc-4774-423b-838b-fcf3d23e848a' title='Show/Hide attributes'><svg class='icon xr-icon-file-text2'><use xlink:href='#icon-file-text2'></use></svg></label><input id='data-4b09a7eb-bcf2-41f8-8e43-8998d35b3d1e' class='xr-var-data-in' type='checkbox'><label for='data-4b09a7eb-bcf2-41f8-8e43-8998d35b3d1e' title='Show/Hide data repr'><svg class='icon xr-icon-database'><use xlink:href='#icon-database'></use></svg></label><div class='xr-var-attrs'><dl class='xr-attrs'></dl></div><div class='xr-var-data'><pre>array([&#x27;1948-01-15T00:00:00.000000000&#x27;, &#x27;1948-02-15T00:00:00.000000000&#x27;,\n",
       "       &#x27;1948-03-15T00:00:00.000000000&#x27;, ..., &#x27;2027-10-15T00:00:00.000000000&#x27;,\n",
       "       &#x27;2027-11-15T00:00:00.000000000&#x27;, &#x27;2027-12-15T00:00:00.000000000&#x27;],\n",
       "      dtype=&#x27;datetime64[ns]&#x27;)</pre></div></li><li class='xr-var-item'><div class='xr-var-name'><span>lon</span></div><div class='xr-var-dims'>(x, y)</div><div class='xr-var-dtype'>float64</div><div class='xr-var-preview xr-preview'>...</div><input id='attrs-3c128ef1-d1bb-4c1f-9e2e-be4fc8033c89' class='xr-var-attrs-in' type='checkbox' disabled><label for='attrs-3c128ef1-d1bb-4c1f-9e2e-be4fc8033c89' title='Show/Hide attributes'><svg class='icon xr-icon-file-text2'><use xlink:href='#icon-file-text2'></use></svg></label><input id='data-54cfd656-777c-41db-95dd-bbbce0a16a42' class='xr-var-data-in' type='checkbox'><label for='data-54cfd656-777c-41db-95dd-bbbce0a16a42' title='Show/Hide data repr'><svg class='icon xr-icon-database'><use xlink:href='#icon-database'></use></svg></label><div class='xr-var-attrs'><dl class='xr-attrs'></dl></div><div class='xr-var-data'><pre>array([[360., 360., 360., ..., 360., 360., 360.],\n",
       "       [ 73.,  73.,  73., ...,  73.,  73.,  73.],\n",
       "       [  2.,   2.,   2., ...,   2.,   2.,   2.],\n",
       "       ...,\n",
       "       [358., 358., 358., ..., 358., 358., 358.],\n",
       "       [ nan,  nan,  nan, ...,  nan,  nan,  nan],\n",
       "       [ nan,  nan,  nan, ...,  nan,  nan,  nan]])</pre></div></li><li class='xr-var-item'><div class='xr-var-name'><span>lat</span></div><div class='xr-var-dims'>(x, y)</div><div class='xr-var-dtype'>float64</div><div class='xr-var-preview xr-preview'>...</div><input id='attrs-92931e9e-e101-4da6-a6fd-595c38dc5514' class='xr-var-attrs-in' type='checkbox' disabled><label for='attrs-92931e9e-e101-4da6-a6fd-595c38dc5514' title='Show/Hide attributes'><svg class='icon xr-icon-file-text2'><use xlink:href='#icon-file-text2'></use></svg></label><input id='data-78c4e5d0-c827-4bad-af4f-7d5d5d7008e4' class='xr-var-data-in' type='checkbox'><label for='data-78c4e5d0-c827-4bad-af4f-7d5d5d7008e4' title='Show/Hide data repr'><svg class='icon xr-icon-database'><use xlink:href='#icon-database'></use></svg></label><div class='xr-var-attrs'><dl class='xr-attrs'></dl></div><div class='xr-var-data'><pre>array([[-80., -79., -78., ...,  78.,  79.,  80.],\n",
       "       [-80., -79., -78., ...,  78.,  79.,  80.],\n",
       "       [-80., -79., -78., ...,  78.,  79.,  80.],\n",
       "       ...,\n",
       "       [-80., -79., -78., ...,  78.,  79.,  80.],\n",
       "       [ nan,  nan,  nan, ...,  nan,  nan,  nan],\n",
       "       [ nan,  nan,  nan, ...,  nan,  nan,  nan]])</pre></div></li><li class='xr-var-item'><div class='xr-var-name'><span>member_id</span></div><div class='xr-var-dims'>()</div><div class='xr-var-dtype'>object</div><div class='xr-var-preview xr-preview'>...</div><input id='attrs-3a113b9e-40d4-4a1e-b2a3-f173c4094cf2' class='xr-var-attrs-in' type='checkbox' disabled><label for='attrs-3a113b9e-40d4-4a1e-b2a3-f173c4094cf2' title='Show/Hide attributes'><svg class='icon xr-icon-file-text2'><use xlink:href='#icon-file-text2'></use></svg></label><input id='data-0dbcf550-ab04-47a6-9302-20c2b24eac51' class='xr-var-data-in' type='checkbox'><label for='data-0dbcf550-ab04-47a6-9302-20c2b24eac51' title='Show/Hide data repr'><svg class='icon xr-icon-database'><use xlink:href='#icon-database'></use></svg></label><div class='xr-var-attrs'><dl class='xr-attrs'></dl></div><div class='xr-var-data'><pre>array(&#x27;r1i1p1f1&#x27;, dtype=&#x27;&lt;U8&#x27;)</pre></div></li><li class='xr-var-item'><div class='xr-var-name'><span class='xr-has-index'>x</span></div><div class='xr-var-dims'>(x)</div><div class='xr-var-dtype'>int64</div><div class='xr-var-preview xr-preview'>0 1 2 3 4 5 ... 356 357 358 359 360</div><input id='attrs-103f8432-3c6f-4f3e-b836-70f6c8a4c2e8' class='xr-var-attrs-in' type='checkbox' ><label for='attrs-103f8432-3c6f-4f3e-b836-70f6c8a4c2e8' title='Show/Hide attributes'><svg class='icon xr-icon-file-text2'><use xlink:href='#icon-file-text2'></use></svg></label><input id='data-66cca2f6-a9b2-450e-bc92-72b3dd97db1d' class='xr-var-data-in' type='checkbox'><label for='data-66cca2f6-a9b2-450e-bc92-72b3dd97db1d' title='Show/Hide data repr'><svg class='icon xr-icon-database'><use xlink:href='#icon-database'></use></svg></label><div class='xr-var-attrs'><dl class='xr-attrs'><dt><span>axis :</span></dt><dd>X</dd><dt><span>bounds :</span></dt><dd>lon_bnds</dd><dt><span>long_name :</span></dt><dd>longitude</dd><dt><span>standard_name :</span></dt><dd>longitude</dd><dt><span>units :</span></dt><dd>degrees_east</dd></dl></div><div class='xr-var-data'><pre>array([  0,   1,   2, ..., 358, 359, 360])</pre></div></li><li class='xr-var-item'><div class='xr-var-name'><span class='xr-has-index'>y</span></div><div class='xr-var-dims'>(y)</div><div class='xr-var-dtype'>int64</div><div class='xr-var-preview xr-preview'>-80 -79 -78 -77 -76 ... 77 78 79 80</div><input id='attrs-2aa1c19f-97dc-48c8-8e9e-32f558ba497f' class='xr-var-attrs-in' type='checkbox' ><label for='attrs-2aa1c19f-97dc-48c8-8e9e-32f558ba497f' title='Show/Hide attributes'><svg class='icon xr-icon-file-text2'><use xlink:href='#icon-file-text2'></use></svg></label><input id='data-cb87ccf8-6629-47c0-a230-b5fdf9e2170d' class='xr-var-data-in' type='checkbox'><label for='data-cb87ccf8-6629-47c0-a230-b5fdf9e2170d' title='Show/Hide data repr'><svg class='icon xr-icon-database'><use xlink:href='#icon-database'></use></svg></label><div class='xr-var-attrs'><dl class='xr-attrs'><dt><span>axis :</span></dt><dd>Y</dd><dt><span>bounds :</span></dt><dd>lat_bnds</dd><dt><span>long_name :</span></dt><dd>latitude</dd><dt><span>standard_name :</span></dt><dd>latitude</dd><dt><span>units :</span></dt><dd>degrees_north</dd></dl></div><div class='xr-var-data'><pre>array([-80, -79, -78, -77, -76, -75, -74, -73, -72, -71, -70, -69, -68, -67,\n",
       "       -66, -65, -64, -63, -62, -61, -60, -59, -58, -57, -56, -55, -54, -53,\n",
       "       -52, -51, -50, -49, -48, -47, -46, -45, -44, -43, -42, -41, -40, -39,\n",
       "       -38, -37, -36, -35, -34, -33, -32, -31, -30, -29, -28, -27, -26, -25,\n",
       "       -24, -23, -22, -21, -20, -19, -18, -17, -16, -15, -14, -13, -12, -11,\n",
       "       -10,  -9,  -8,  -7,  -6,  -5,  -4,  -3,  -2,  -1,   0,   1,   2,   3,\n",
       "         4,   5,   6,   7,   8,   9,  10,  11,  12,  13,  14,  15,  16,  17,\n",
       "        18,  19,  20,  21,  22,  23,  24,  25,  26,  27,  28,  29,  30,  31,\n",
       "        32,  33,  34,  35,  36,  37,  38,  39,  40,  41,  42,  43,  44,  45,\n",
       "        46,  47,  48,  49,  50,  51,  52,  53,  54,  55,  56,  57,  58,  59,\n",
       "        60,  61,  62,  63,  64,  65,  66,  67,  68,  69,  70,  71,  72,  73,\n",
       "        74,  75,  76,  77,  78,  79,  80])</pre></div></li><li class='xr-var-item'><div class='xr-var-name'><span>institution</span></div><div class='xr-var-dims'>()</div><div class='xr-var-dtype'>object</div><div class='xr-var-preview xr-preview'>...</div><input id='attrs-94f4dbf7-dcb5-4a55-9a37-7c99ee1a4005' class='xr-var-attrs-in' type='checkbox' disabled><label for='attrs-94f4dbf7-dcb5-4a55-9a37-7c99ee1a4005' title='Show/Hide attributes'><svg class='icon xr-icon-file-text2'><use xlink:href='#icon-file-text2'></use></svg></label><input id='data-e90eb2a5-df96-469e-b549-da071f8126db' class='xr-var-data-in' type='checkbox'><label for='data-e90eb2a5-df96-469e-b549-da071f8126db' title='Show/Hide data repr'><svg class='icon xr-icon-database'><use xlink:href='#icon-database'></use></svg></label><div class='xr-var-attrs'><dl class='xr-attrs'></dl></div><div class='xr-var-data'><pre>array(&#x27;AS-RCEC&#x27;, dtype=&#x27;&lt;U7&#x27;)</pre></div></li><li class='xr-var-item'><div class='xr-var-name'><span>model</span></div><div class='xr-var-dims'>()</div><div class='xr-var-dtype'>object</div><div class='xr-var-preview xr-preview'>...</div><input id='attrs-d66c812a-13bf-4a99-9dad-a88d6e3020bb' class='xr-var-attrs-in' type='checkbox' disabled><label for='attrs-d66c812a-13bf-4a99-9dad-a88d6e3020bb' title='Show/Hide attributes'><svg class='icon xr-icon-file-text2'><use xlink:href='#icon-file-text2'></use></svg></label><input id='data-c92edd39-6721-44c2-9c52-aeb39916309d' class='xr-var-data-in' type='checkbox'><label for='data-c92edd39-6721-44c2-9c52-aeb39916309d' title='Show/Hide data repr'><svg class='icon xr-icon-database'><use xlink:href='#icon-database'></use></svg></label><div class='xr-var-attrs'><dl class='xr-attrs'></dl></div><div class='xr-var-data'><pre>array(&#x27;TaiESM1&#x27;, dtype=&#x27;&lt;U7&#x27;)</pre></div></li></ul></div></li><li class='xr-section-item'><input id='section-35e5dd5a-8efb-449a-99c0-1482b99744ce' class='xr-section-summary-in' type='checkbox'  checked><label for='section-35e5dd5a-8efb-449a-99c0-1482b99744ce' class='xr-section-summary' >Attributes: <span>(8)</span></label><div class='xr-section-inline-details'></div><div class='xr-section-details'><dl class='xr-attrs'><dt><span>cell_measures :</span></dt><dd>area: areacella</dd><dt><span>cell_methods :</span></dt><dd>area: time: mean</dd><dt><span>comment :</span></dt><dd>Temperature of the lower boundary of the atmosphere</dd><dt><span>history :</span></dt><dd>2020-03-25T02:30:56Z altered by CMOR: Converted type from &#x27;d&#x27; to &#x27;f&#x27;.</dd><dt><span>long_name :</span></dt><dd>Surface Temperature</dd><dt><span>original_name :</span></dt><dd>TS</dd><dt><span>standard_name :</span></dt><dd>surface_temperature</dd><dt><span>units :</span></dt><dd>K</dd></dl></div></li></ul></div></div>"
      ],
      "text/plain": [
       "<xarray.DataArray 'ts' (member: 1, time: 960, y: 161, x: 361)>\n",
       "[55796160 values with dtype=float32]\n",
       "Coordinates:\n",
       "  * member       (member) object 'AS-RCEC.TaiESM1.r1i1p1f1.80'\n",
       "  * time         (time) datetime64[ns] 1948-01-15 1948-02-15 ... 2027-12-15\n",
       "    lon          (x, y) float64 ...\n",
       "    lat          (x, y) float64 ...\n",
       "    member_id    object ...\n",
       "  * x            (x) int64 0 1 2 3 4 5 6 7 8 ... 353 354 355 356 357 358 359 360\n",
       "  * y            (y) int64 -80 -79 -78 -77 -76 -75 -74 ... 74 75 76 77 78 79 80\n",
       "    institution  object ...\n",
       "    model        object ...\n",
       "Attributes:\n",
       "    cell_measures:  area: areacella\n",
       "    cell_methods:   area: time: mean\n",
       "    comment:        Temperature of the lower boundary of the atmosphere\n",
       "    history:        2020-03-25T02:30:56Z altered by CMOR: Converted type from...\n",
       "    long_name:      Surface Temperature\n",
       "    original_name:  TS\n",
       "    standard_name:  surface_temperature\n",
       "    units:          K"
      ]
     },
     "execution_count": 16,
     "metadata": {},
     "output_type": "execute_result"
    }
   ],
   "source": [
    "import xarray as xr\n",
    "direc = cmip6_ensemble_var(\"ts\")\n",
    "member_list = [x[2:-3] for x in os.listdir(direc)]\n",
    "file_list = [os.path.join(direc, x) for x in os.listdir(direc)]\n",
    "xr.open_dataarray(file_list[0])"
   ]
  },
  {
   "cell_type": "code",
   "execution_count": 6,
   "id": "de1a6663",
   "metadata": {
    "ExecuteTime": {
     "end_time": "2022-03-10T15:46:50.476717Z",
     "start_time": "2022-03-10T15:46:50.465873Z"
    }
   },
   "outputs": [
    {
     "data": {
      "text/plain": [
       "('time', 'y', 'x')"
      ]
     },
     "execution_count": 6,
     "metadata": {},
     "output_type": "execute_result"
    }
   ],
   "source": [
    "xr.open_dataarray(file_list[0]).dims"
   ]
  },
  {
   "cell_type": "code",
   "execution_count": 26,
   "id": "c8a41d23",
   "metadata": {
    "ExecuteTime": {
     "end_time": "2022-03-10T16:37:15.172978Z",
     "start_time": "2022-03-10T16:36:37.703050Z"
    }
   },
   "outputs": [
    {
     "name": "stdout",
     "output_type": "stream",
     "text": [
      "warning, not changing:  member\n"
     ]
    }
   ],
   "source": [
    "from src.xr_utils import sel, can_coords, spatial_mean\n",
    "nino34 = spatial_mean(sel(can_coords(xr.open_mfdataset(file_list)), reg=\"nino3.4\")).compute() #.ts.plot.line(x=\"T\")"
   ]
  },
  {
   "cell_type": "code",
   "execution_count": 33,
   "id": "baba89c1",
   "metadata": {
    "ExecuteTime": {
     "end_time": "2022-03-10T16:42:29.418130Z",
     "start_time": "2022-03-10T16:42:29.414274Z"
    }
   },
   "outputs": [],
   "source": [
    "nino34_60 = nino34.sel(T=slice(\"1958\", \"2017\"))"
   ]
  },
  {
   "cell_type": "code",
   "execution_count": 40,
   "id": "43647d19",
   "metadata": {
    "ExecuteTime": {
     "end_time": "2022-03-10T16:44:18.344553Z",
     "start_time": "2022-03-10T16:44:17.599687Z"
    }
   },
   "outputs": [],
   "source": [
    "from src.xr_utils import get_trend\n",
    "mean60 = nino34_60.ts.mean(\"T\")\n",
    "trend60 = get_trend(nino34_60.ts, min_clim_f=True)"
   ]
  },
  {
   "cell_type": "code",
   "execution_count": 52,
   "id": "5e41f022",
   "metadata": {
    "ExecuteTime": {
     "end_time": "2022-03-10T16:52:01.024331Z",
     "start_time": "2022-03-10T16:51:59.775579Z"
    }
   },
   "outputs": [
    {
     "data": {
      "text/plain": [
       "Text(0, 0.5, 'nino3.4 60 year trend [$^{\\\\circ}$C]')"
      ]
     },
     "execution_count": 52,
     "metadata": {},
     "output_type": "execute_result"
    },
    {
     "data": {
      "image/png": "[encoded data removed]",
      "text/plain": [
       "<Figure size 826.772x510.973 with 1 Axes>"
      ]
     },
     "metadata": {},
     "output_type": "display_data"
    }
   ],
   "source": [
    "import matplotlib.pyplot as plt\n",
    "\n",
    "plt.scatter(mean60.values - 273.15, trend60.values, c=[x for x in range(len(trend60.values))])\n",
    "plt.xlabel(\"nino3.4 60 year mean [$^{\\circ}$C]\")\n",
    "plt.ylabel(\"nino3.4 60 year trend [$^{\\circ}$C]\")"
   ]
  },
  {
   "cell_type": "code",
   "execution_count": 48,
   "id": "95e28111",
   "metadata": {
    "ExecuteTime": {
     "end_time": "2022-03-10T16:47:10.295760Z",
     "start_time": "2022-03-10T16:47:10.228185Z"
    }
   },
   "outputs": [
    {
     "data": {
      "text/plain": [
       "(0.12368048171082265, 0.3775975729525685)"
      ]
     },
     "execution_count": 48,
     "metadata": {},
     "output_type": "execute_result"
    }
   ],
   "source": [
    "import numpy as np\n",
    "import scipy.stats as ss\n",
    "ss.pearsonr(mean60.values - 273.15, trend60.values)"
   ]
  },
  {
   "cell_type": "code",
   "execution_count": 49,
   "id": "b04264d7",
   "metadata": {
    "ExecuteTime": {
     "end_time": "2022-03-10T16:47:21.684536Z",
     "start_time": "2022-03-10T16:47:21.182148Z"
    }
   },
   "outputs": [],
   "source": [
    "ss.pearsonr?"
   ]
  },
  {
   "cell_type": "code",
   "execution_count": null,
   "id": "a7b30976",
   "metadata": {},
   "outputs": [],
   "source": []
  }
 ],
 "metadata": {
  "hide_input": false,
  "kernelspec": {
   "display_name": "Python 3 (ipykernel)",
   "language": "python",
   "name": "python3"
  },
  "language_info": {
   "codemirror_mode": {
    "name": "ipython",
    "version": 3
   },
   "file_extension": ".py",
   "mimetype": "text/x-python",
   "name": "python",
   "nbconvert_exporter": "python",
   "pygments_lexer": "ipython3",
   "version": "3.8.12"
  },
  "varInspector": {
   "cols": {
    "lenName": 16,
    "lenType": 16,
    "lenVar": 40
   },
   "kernels_config": {
    "python": {
     "delete_cmd_postfix": "",
     "delete_cmd_prefix": "del ",
     "library": "var_list.py",
     "varRefreshCmd": "print(var_dic_list())"
    },
    "r": {
     "delete_cmd_postfix": ") ",
     "delete_cmd_prefix": "rm(",
     "library": "var_list.r",
     "varRefreshCmd": "cat(var_dic_list()) "
    }
   },
   "types_to_exclude": [
    "module",
    "function",
    "builtin_function_or_method",
    "instance",
    "_Feature"
   ],
   "window_display": false
  }
 },
 "nbformat": 4,
 "nbformat_minor": 5
}
