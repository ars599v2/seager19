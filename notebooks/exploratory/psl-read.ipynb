{
 "cells": [
  {
   "cell_type": "markdown",
   "id": "6ca79463",
   "metadata": {},
   "source": [
    "# Analysis"
   ]
  },
  {
   "cell_type": "code",
   "execution_count": 2,
   "id": "a6f3d9fc",
   "metadata": {
    "ExecuteTime": {
     "end_time": "2021-12-02T10:27:22.650479Z",
     "start_time": "2021-12-02T10:27:22.631013Z"
    }
   },
   "outputs": [],
   "source": [
    "# Convenient jupyter setup\n",
    "%load_ext autoreload\n",
    "%autoreload 2\n",
    "%config IPCompleter.greedy=True"
   ]
  },
  {
   "cell_type": "code",
   "execution_count": 192,
   "id": "f720057d",
   "metadata": {
    "ExecuteTime": {
     "end_time": "2021-12-02T17:01:24.343578Z",
     "start_time": "2021-12-02T17:01:24.314582Z"
    },
    "scrolled": true
   },
   "outputs": [],
   "source": [
    "from src.data_loading.psl import get_psl_indices"
   ]
  },
  {
   "cell_type": "code",
   "execution_count": 193,
   "id": "1aa4f746",
   "metadata": {
    "ExecuteTime": {
     "end_time": "2021-12-02T17:01:24.659675Z",
     "start_time": "2021-12-02T17:01:24.622451Z"
    }
   },
   "outputs": [],
   "source": [
    "ds = get_psl_indices()"
   ]
  },
  {
   "cell_type": "code",
   "execution_count": 195,
   "id": "5c861e78",
   "metadata": {
    "ExecuteTime": {
     "end_time": "2021-12-02T17:01:47.111257Z",
     "start_time": "2021-12-02T17:01:47.031279Z"
    }
   },
   "outputs": [],
   "source": [
    "import matplotlib.pyplot as plt\n",
    "import seaborn as sns\n",
    "df = ds.to_dataframe()\n",
    "# alt_pairplot(df)"
   ]
  },
  {
   "cell_type": "code",
   "execution_count": 137,
   "id": "d9ce67af",
   "metadata": {
    "ExecuteTime": {
     "end_time": "2021-12-02T14:58:42.975206Z",
     "start_time": "2021-12-02T14:58:42.875396Z"
    }
   },
   "outputs": [],
   "source": [
    "from src.data_loading.psl import get_ersstv5\n",
    "ersstv5 = get_ersstv5()"
   ]
  },
  {
   "cell_type": "code",
   "execution_count": 204,
   "id": "13c7a906",
   "metadata": {
    "ExecuteTime": {
     "end_time": "2021-12-02T17:05:13.105157Z",
     "start_time": "2021-12-02T17:05:13.077174Z"
    }
   },
   "outputs": [],
   "source": [
    "ersstv5_slim = ersstv5.sel(time=slice('1948', '2021'))"
   ]
  },
  {
   "cell_type": "code",
   "execution_count": 160,
   "id": "fbd14ac3",
   "metadata": {
    "ExecuteTime": {
     "end_time": "2021-12-02T15:53:21.800632Z",
     "start_time": "2021-12-02T15:53:20.760313Z"
    }
   },
   "outputs": [
    {
     "name": "stdout",
     "output_type": "stream",
     "text": [
      "warning, not changing:  variable\n"
     ]
    }
   ],
   "source": [
    "from src.xr_utils import can_coords, fix_calendar, sel\n",
    "m, clim =nino_calculate(fix_calendar(can_coords(ersstv5_slim)))"
   ]
  },
  {
   "cell_type": "code",
   "execution_count": 205,
   "id": "44e6c5f2",
   "metadata": {
    "ExecuteTime": {
     "end_time": "2021-12-02T17:05:28.736235Z",
     "start_time": "2021-12-02T17:05:27.616620Z"
    }
   },
   "outputs": [],
   "source": [
    "ersstv5_can = fix_calendar(can_coords(ersstv5_slim)).isel(variable=0)"
   ]
  },
  {
   "cell_type": "code",
   "execution_count": 223,
   "id": "9a564918",
   "metadata": {
    "ExecuteTime": {
     "end_time": "2021-12-02T17:28:37.599645Z",
     "start_time": "2021-12-02T17:28:36.144462Z"
    }
   },
   "outputs": [
    {
     "name": "stdout",
     "output_type": "stream",
     "text": [
      "[[1.0 0.9930262268868004]\n",
      " [0.9930262268868004 1.0]]\n",
      "[[1.0 0.990935864214245]\n",
      " [0.990935864214245 1.0]]\n",
      "[[1.0 0.9925296993942325]\n",
      " [0.9925296993942325 1.0]]\n",
      "[[1.0 0.9820494375705351]\n",
      " [0.9820494375705351 1.0]]\n"
     ]
    }
   ],
   "source": [
    "for x, y in [(\"nino34\", \"nino3.4\"), (\"nino3\", \"nino3\"), (\"nino4\", \"nino4\"), (\"nino1+2\", \"nino1+2\")]:\n",
    "    m, clim =nino_calculate(ersstv5_can, reg=y)\n",
    "    my_nino = m.values\n",
    "    psl_nino = ds[x].sel(time=slice(\"1948\", \"2021-10\")).values\n",
    "    print(ma.corrcoef(ma.masked_invalid(my_nino), ma.masked_invalid(psl_nino)))"
   ]
  }
 ],
 "metadata": {
  "hide_input": false,
  "kernelspec": {
   "display_name": "Python 3",
   "language": "python",
   "name": "python3"
  },
  "language_info": {
   "codemirror_mode": {
    "name": "ipython",
    "version": 3
   },
   "file_extension": ".py",
   "mimetype": "text/x-python",
   "name": "python",
   "nbconvert_exporter": "python",
   "pygments_lexer": "ipython3",
   "version": "3.8.8"
  },
  "varInspector": {
   "cols": {
    "lenName": 16,
    "lenType": 16,
    "lenVar": 40
   },
   "kernels_config": {
    "python": {
     "delete_cmd_postfix": "",
     "delete_cmd_prefix": "del ",
     "library": "var_list.py",
     "varRefreshCmd": "print(var_dic_list())"
    },
    "r": {
     "delete_cmd_postfix": ") ",
     "delete_cmd_prefix": "rm(",
     "library": "var_list.r",
     "varRefreshCmd": "cat(var_dic_list()) "
    }
   },
   "types_to_exclude": [
    "module",
    "function",
    "builtin_function_or_method",
    "instance",
    "_Feature"
   ],
   "window_display": false
  }
 },
 "nbformat": 4,
 "nbformat_minor": 5
}
