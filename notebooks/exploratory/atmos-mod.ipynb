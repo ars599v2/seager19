{
 "cells": [
  {
   "cell_type": "markdown",
   "id": "6ca79463",
   "metadata": {},
   "source": [
    "# Atmos model"
   ]
  },
  {
   "cell_type": "code",
   "execution_count": 1,
   "id": "a6f3d9fc",
   "metadata": {
    "ExecuteTime": {
     "end_time": "2021-06-02T15:39:27.032087Z",
     "start_time": "2021-06-02T15:39:26.788020Z"
    }
   },
   "outputs": [],
   "source": [
    "# Convenient jupyter setup\n",
    "%load_ext autoreload\n",
    "%autoreload 2\n",
    "%config IPCompleter.greedy=True"
   ]
  },
  {
   "cell_type": "code",
   "execution_count": 2,
   "id": "dd9696a5",
   "metadata": {
    "ExecuteTime": {
     "end_time": "2021-06-02T15:39:33.236492Z",
     "start_time": "2021-06-02T15:39:27.284615Z"
    }
   },
   "outputs": [],
   "source": [
    "# set up plotting settings for dark mode.\n",
    "from jupyterthemes import jtplot\n",
    "jtplot.style(theme=\"grade3\", context=\"notebook\", ticks=True, grid=False)\n",
    "from src.plot_settings import ps_defaults\n",
    "ps_defaults(use_tex=False, dpi=150)"
   ]
  },
  {
   "cell_type": "markdown",
   "id": "326f1ef9",
   "metadata": {},
   "source": [
    "$Q'_{LH} = \\rho_{a} C_{E} W L (1-r) \\frac{d q_{s}}{d T_{s}}_{\\bar{T}_s} T_s'$\n",
    "\n",
    "$Q'_{LW} = \\epsilon \\sigma \\bar{T}^{4}_{s} f'_{1}(1-aC^2) + \\frac{d Q_{LW}}{d T_{s}}|_{\\bar{T}_s}  T_s'$\n",
    "\n",
    "$\\frac{d Q_{LW}}{d T_{s}}|_{\\bar{T}_s} \n",
    "= (1-a\\bar{C}^2) \\epsilon \\sigma \\bar{T}_s^3 \n",
    "\\left[4 f_1 - f_2 \\left(\\frac{\\bar{q}_a \\bar{p}_s}{0.622} \\right)^{0.5} \n",
    "\\left(\\frac{\\bar{T}_s}{2 \\bar{q}_s} \\frac{dq_s}{dT}|_{T_s} + 4 \\right)\n",
    "\\right]\n",
    "+\n",
    "12 \\epsilon \\sigma \\bar{T}^2_s \\Delta T\n",
    "$"
   ]
  },
  {
   "cell_type": "code",
   "execution_count": null,
   "id": "bb7dad36",
   "metadata": {},
   "outputs": [],
   "source": []
  },
  {
   "cell_type": "markdown",
   "id": "d172fbd1",
   "metadata": {},
   "source": [
    "\\[\n",
    "\\begin{array}{l}\n",
    "{\\left[\\begin{array}{l}\n",
    "\\frac{M\\left(\\bar{w}_{\\mathrm{s}}\\right) \\gamma}{H} \\\\\n",
    "+\\frac{1}{\\rho c_{\\mathrm{pw}} H}\\left(\\left.\\frac{\\mathrm{d} Q_{\\mathrm{LW}}}{\\mathrm{d} T_{\\mathrm{s}}}\\right|_{\\bar{T}_{\\mathrm{s}}}+\\left.\\rho_{\\mathrm{a}} C_{\\mathrm{E}} W L(1-r) \\frac{\\mathrm{d} q_{\\mathrm{s}}}{\\mathrm{d} T_{\\mathrm{s}}}\\right|_{\\bar{T}_{\\mathrm{s}}}\\right) \\\\\n",
    "+\\mathbf{u} \\cdot \\nabla\n",
    "\\end{array}\\right] T_{\\mathrm{s}}} \\\\\n",
    "=\\\\\n",
    "-\\mathbf{u}^{\\prime} \\cdot \\nabla \\overline{\\boldsymbol{T}}_{\\mathrm{s}} \\\\\n",
    "-\\left[M\\left(\\bar{w}_{\\mathrm{s}}+w_{\\mathrm{s}}^{\\prime}\\right)-M\\left(\\bar{w}_{\\mathrm{s}}\\right)\\right] \\gamma \\frac{\\left(\\bar{T}_{\\mathrm{s}}-\\bar{T}_{\\mathrm{d}}\\right)}{H} \\\\\n",
    "+M\\left(\\bar{w}_{\\mathrm{s}}\\right) \\gamma \\frac{T_{\\mathrm{d}}^{\\prime}}{H}-\\frac{1}{\\rho c_{\\mathrm{pw}} H} \\varepsilon \\sigma \\bar{T}_{\\mathrm{s}}^{4} f_{1}^{\\prime}\\left(1-a C^{2}\\right)\n",
    "\\end{array}\n",
    "\\]"
   ]
  },
  {
   "cell_type": "code",
   "execution_count": null,
   "id": "3a6ca756",
   "metadata": {},
   "outputs": [],
   "source": []
  }
 ],
 "metadata": {
  "hide_input": false,
  "kernelspec": {
   "display_name": "Python 3",
   "language": "python",
   "name": "python3"
  },
  "language_info": {
   "codemirror_mode": {
    "name": "ipython",
    "version": 3
   },
   "file_extension": ".py",
   "mimetype": "text/x-python",
   "name": "python",
   "nbconvert_exporter": "python",
   "pygments_lexer": "ipython3",
   "version": "3.8.8"
  },
  "varInspector": {
   "cols": {
    "lenName": 16,
    "lenType": 16,
    "lenVar": 40
   },
   "kernels_config": {
    "python": {
     "delete_cmd_postfix": "",
     "delete_cmd_prefix": "del ",
     "library": "var_list.py",
     "varRefreshCmd": "print(var_dic_list())"
    },
    "r": {
     "delete_cmd_postfix": ") ",
     "delete_cmd_prefix": "rm(",
     "library": "var_list.r",
     "varRefreshCmd": "cat(var_dic_list()) "
    }
   },
   "types_to_exclude": [
    "module",
    "function",
    "builtin_function_or_method",
    "instance",
    "_Feature"
   ],
   "window_display": false
  }
 },
 "nbformat": 4,
 "nbformat_minor": 5
}
