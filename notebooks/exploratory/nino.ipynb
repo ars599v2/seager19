{
 "cells": [
  {
   "cell_type": "markdown",
   "id": "6ca79463",
   "metadata": {},
   "source": [
    "# Analysis"
   ]
  },
  {
   "cell_type": "code",
   "execution_count": 1,
   "id": "a6f3d9fc",
   "metadata": {
    "ExecuteTime": {
     "end_time": "2021-06-05T21:21:45.546624Z",
     "start_time": "2021-06-05T21:21:45.253490Z"
    }
   },
   "outputs": [],
   "source": [
    "# Convenient jupyter setup\n",
    "%load_ext autoreload\n",
    "%autoreload 2\n",
    "%config IPCompleter.greedy=True"
   ]
  },
  {
   "cell_type": "code",
   "execution_count": 2,
   "id": "dd9696a5",
   "metadata": {
    "ExecuteTime": {
     "end_time": "2021-06-05T21:21:52.755731Z",
     "start_time": "2021-06-05T21:21:47.932867Z"
    }
   },
   "outputs": [],
   "source": [
    "# set up plotting settings for dark mode.\n",
    "from jupyterthemes import jtplot\n",
    "jtplot.style(theme=\"grade3\", context=\"notebook\", ticks=True, grid=False)\n",
    "from src.plot_settings import ps_defaults\n",
    "ps_defaults(use_tex=False, dpi=150)"
   ]
  },
  {
   "cell_type": "markdown",
   "id": "80ae3fc7",
   "metadata": {},
   "source": [
    "## Introduction\n",
    "https://ncar.github.io/PySpark4Climate/tutorials/Oceanic-Ni%C3%B1o-Index/\n",
    "This notebook will introduce El Niño Index Calculation using PySpark to parallelize a number of tasks like computation of monthly averages for a given grid chunk, etc.\n",
    "\n",
    "NOAA's operational definitions of El Niño and La Niña conditions are based upon the Oceanic Niño Index [ONI]. The ONI is defined as the 3-month running means of SST anomalies in the Niño 3.4 region [5N-5S, 120-170W].\n",
    "\n",
    "The ONI is one measure of the El Niño-Southern Oscillation, and other indices can confirm whether features consistent with a coupled ocean-atmosphere phenomenon accompanied these periods.\n",
    "\n",
    "## Computational Recipe\n",
    "Compute area averaged total SST from Niño 3.4 region.\n",
    "Compute monthly climatology (1854 - 2016) for area averaged total SST from Niño 3.4 region, and subtract climatology from area averaged total SST time series to obtain anomalies.\n",
    "Smooth the anomalies with a 3-month running mean.\n"
   ]
  },
  {
   "cell_type": "code",
   "execution_count": 3,
   "id": "a2db8d70",
   "metadata": {
    "ExecuteTime": {
     "end_time": "2021-06-01T20:52:05.335010Z",
     "start_time": "2021-06-01T20:52:04.672003Z"
    }
   },
   "outputs": [],
   "source": [
    "import numpy as np\n",
    "import xarray as xr\n",
    "import dask\n",
    "from glob import glob\n",
    "import pandas as pd\n",
    "import matplotlib.pyplot as plt"
   ]
  },
  {
   "cell_type": "code",
   "execution_count": 4,
   "id": "0d33d785",
   "metadata": {
    "ExecuteTime": {
     "end_time": "2021-06-01T20:53:32.135019Z",
     "start_time": "2021-06-01T20:53:31.482190Z"
    }
   },
   "outputs": [],
   "source": [
    "# def get_region_of_interest(dset: xr.Dataset) -> xr.Dataset:\n",
    "#     return dset.sel(lat=slice(-6, 6), lon=slice(190, 240))"
   ]
  },
  {
   "cell_type": "code",
   "execution_count": null,
   "id": "7131d058",
   "metadata": {},
   "outputs": [],
   "source": [
    "from src.xr_utils import "
   ]
  },
  {
   "cell_type": "code",
   "execution_count": 5,
   "id": "20d11eec",
   "metadata": {
    "ExecuteTime": {
     "end_time": "2021-06-01T20:58:54.317469Z",
     "start_time": "2021-06-01T20:58:54.238344Z"
    }
   },
   "outputs": [],
   "source": [
    "def global_mean_sst(dset: xr.Dataset) -> xr.Dataset:\n",
    "    # Find mean temperature for each latitude\n",
    "    mean_sst_lat = dset.sst.mean(dim='lon')\n",
    "\n",
    "    # Find Weighted mean of those values\n",
    "    num =(np.cos(dset.lat) * mean_sst_lat).sum(dim='lat')\n",
    "    denom = np.sum(np.cos(dset.lat))\n",
    "\n",
    "    # Find mean global temperature\n",
    "    mean_global_temp = num / denom\n",
    "\n",
    "    return mean_global_temp"
   ]
  },
  {
   "cell_type": "code",
   "execution_count": null,
   "id": "c25d234e",
   "metadata": {},
   "outputs": [],
   "source": [
    "rdd = reader.nc_multi_read(sc, paths, data_splitting_mode=\"slice\")\n",
    "region_of_interest = rdd.map(get_region_of_interest).cache()\n",
    "mean_global_temp = region_of_interest.map(global_mean_sst)\n",
    "mean_sst = mean_global_temp.collect()\n",
    "a = xr.concat(mean_sst[:1956], dim=\"time\")"
   ]
  },
  {
   "cell_type": "code",
   "execution_count": null,
   "id": "92934cc9",
   "metadata": {},
   "outputs": [],
   "source": [
    "ds = a.to_dataset(name=\"mean_sst\")\n",
    "climatology = ds.groupby('time.month').mean('time')\n",
    "climatology\n",
    "anomalies = ds.groupby('time.month') - climatology\n",
    "anomalies"
   ]
  }
 ],
 "metadata": {
  "hide_input": false,
  "kernelspec": {
   "display_name": "Python 3",
   "language": "python",
   "name": "python3"
  },
  "language_info": {
   "codemirror_mode": {
    "name": "ipython",
    "version": 3
   },
   "file_extension": ".py",
   "mimetype": "text/x-python",
   "name": "python",
   "nbconvert_exporter": "python",
   "pygments_lexer": "ipython3",
   "version": "3.8.8"
  },
  "varInspector": {
   "cols": {
    "lenName": 16,
    "lenType": 16,
    "lenVar": 40
   },
   "kernels_config": {
    "python": {
     "delete_cmd_postfix": "",
     "delete_cmd_prefix": "del ",
     "library": "var_list.py",
     "varRefreshCmd": "print(var_dic_list())"
    },
    "r": {
     "delete_cmd_postfix": ") ",
     "delete_cmd_prefix": "rm(",
     "library": "var_list.r",
     "varRefreshCmd": "cat(var_dic_list()) "
    }
   },
   "types_to_exclude": [
    "module",
    "function",
    "builtin_function_or_method",
    "instance",
    "_Feature"
   ],
   "window_display": false
  }
 },
 "nbformat": 4,
 "nbformat_minor": 5
}
