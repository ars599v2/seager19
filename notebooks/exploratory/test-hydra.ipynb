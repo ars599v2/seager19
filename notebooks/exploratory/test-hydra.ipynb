{
 "cells": [
  {
   "cell_type": "markdown",
   "id": "6ca79463",
   "metadata": {},
   "source": [
    "# Analysis"
   ]
  },
  {
   "cell_type": "code",
   "execution_count": 1,
   "id": "a6f3d9fc",
   "metadata": {
    "ExecuteTime": {
     "end_time": "2021-05-23T18:25:52.483727Z",
     "start_time": "2021-05-23T18:25:52.449791Z"
    }
   },
   "outputs": [],
   "source": [
    "# Convenient jupyter setup\n",
    "%load_ext autoreload\n",
    "%autoreload 2\n",
    "%config IPCompleter.greedy=True"
   ]
  },
  {
   "cell_type": "code",
   "execution_count": 2,
   "id": "dd9696a5",
   "metadata": {
    "ExecuteTime": {
     "end_time": "2021-05-23T18:26:03.243042Z",
     "start_time": "2021-05-23T18:25:58.211289Z"
    }
   },
   "outputs": [],
   "source": [
    "# set up plotting settings for dark mode.\n",
    "from jupyterthemes import jtplot\n",
    "jtplot.style(theme=\"grade3\", context=\"notebook\", ticks=True, grid=False)\n",
    "from src.plot_settings import ps_defaults\n",
    "ps_defaults(use_tex=False, dpi=150)"
   ]
  },
  {
   "cell_type": "code",
   "execution_count": 3,
   "id": "1b3783ac",
   "metadata": {
    "ExecuteTime": {
     "end_time": "2021-05-23T18:32:56.957616Z",
     "start_time": "2021-05-23T18:32:56.538893Z"
    }
   },
   "outputs": [],
   "source": [
    "from hydra.experimental import initialize, compose\n",
    "from src.constants import PROJECT_PATH, CONFIG_NAME, CONFIG_PATH\n",
    "from src.configs.config import format_config"
   ]
  },
  {
   "cell_type": "code",
   "execution_count": 6,
   "id": "1a5261b4",
   "metadata": {
    "ExecuteTime": {
     "end_time": "2021-05-23T19:25:13.385731Z",
     "start_time": "2021-05-23T19:25:12.621329Z"
    }
   },
   "outputs": [],
   "source": [
    "with initialize(\n",
    "        config_path=\"../../src/configs/\"\n",
    "    ):\n",
    "    # config is relative to a module\n",
    "    cfg = compose(config_name=CONFIG_NAME, overrides=[\"user=test_user\", \"name=test_run\"])\n",
    "    # print(cfg)\n",
    "    cfg = format_config(cfg)\n",
    "    # print(cfg)"
   ]
  },
  {
   "cell_type": "code",
   "execution_count": 8,
   "id": "fe5ee022",
   "metadata": {
    "ExecuteTime": {
     "end_time": "2021-05-23T19:25:41.212409Z",
     "start_time": "2021-05-23T19:25:41.170417Z"
    }
   },
   "outputs": [
    {
     "data": {
      "text/plain": [
       "'seager19'"
      ]
     },
     "execution_count": 8,
     "metadata": {},
     "output_type": "execute_result"
    }
   ],
   "source": [
    "cfg[\"project\"]"
   ]
  },
  {
   "cell_type": "code",
   "execution_count": null,
   "id": "7fdf39da",
   "metadata": {},
   "outputs": [],
   "source": []
  }
 ],
 "metadata": {
  "hide_input": false,
  "kernelspec": {
   "display_name": "Python 3",
   "language": "python",
   "name": "python3"
  },
  "language_info": {
   "codemirror_mode": {
    "name": "ipython",
    "version": 3
   },
   "file_extension": ".py",
   "mimetype": "text/x-python",
   "name": "python",
   "nbconvert_exporter": "python",
   "pygments_lexer": "ipython3",
   "version": "3.8.8"
  },
  "varInspector": {
   "cols": {
    "lenName": 16,
    "lenType": 16,
    "lenVar": 40
   },
   "kernels_config": {
    "python": {
     "delete_cmd_postfix": "",
     "delete_cmd_prefix": "del ",
     "library": "var_list.py",
     "varRefreshCmd": "print(var_dic_list())"
    },
    "r": {
     "delete_cmd_postfix": ") ",
     "delete_cmd_prefix": "rm(",
     "library": "var_list.r",
     "varRefreshCmd": "cat(var_dic_list()) "
    }
   },
   "types_to_exclude": [
    "module",
    "function",
    "builtin_function_or_method",
    "instance",
    "_Feature"
   ],
   "window_display": false
  }
 },
 "nbformat": 4,
 "nbformat_minor": 5
}
