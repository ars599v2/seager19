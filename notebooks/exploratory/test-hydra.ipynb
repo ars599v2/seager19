{
 "cells": [
  {
   "cell_type": "markdown",
   "id": "6ca79463",
   "metadata": {},
   "source": [
    "# Analysis"
   ]
  },
  {
   "cell_type": "code",
   "execution_count": 1,
   "id": "a6f3d9fc",
   "metadata": {
    "ExecuteTime": {
     "end_time": "2021-05-23T18:25:52.483727Z",
     "start_time": "2021-05-23T18:25:52.449791Z"
    }
   },
   "outputs": [],
   "source": [
    "# Convenient jupyter setup\n",
    "%load_ext autoreload\n",
    "%autoreload 2\n",
    "%config IPCompleter.greedy=True"
   ]
  },
  {
   "cell_type": "code",
   "execution_count": 2,
   "id": "dd9696a5",
   "metadata": {
    "ExecuteTime": {
     "end_time": "2021-05-23T18:26:03.243042Z",
     "start_time": "2021-05-23T18:25:58.211289Z"
    }
   },
   "outputs": [],
   "source": [
    "# set up plotting settings for dark mode.\n",
    "from jupyterthemes import jtplot\n",
    "jtplot.style(theme=\"grade3\", context=\"notebook\", ticks=True, grid=False)\n",
    "from src.plot_settings import ps_defaults\n",
    "ps_defaults(use_tex=False, dpi=150)"
   ]
  },
  {
   "cell_type": "code",
   "execution_count": 3,
   "id": "3c3b4cec",
   "metadata": {
    "ExecuteTime": {
     "end_time": "2021-05-23T18:32:56.957616Z",
     "start_time": "2021-05-23T18:32:56.538893Z"
    }
   },
   "outputs": [],
   "source": [
    "from hydra.experimental import initialize, compose\n",
    "from src.constants import PROJECT_PATH, CONFIG_NAME, CONFIG_PATH\n",
    "from src.configs.config import format_config"
   ]
  },
  {
   "cell_type": "code",
   "execution_count": 4,
   "id": "b22d841b",
   "metadata": {
    "ExecuteTime": {
     "end_time": "2021-05-23T18:34:48.006424Z",
     "start_time": "2021-05-23T18:34:46.738558Z"
    }
   },
   "outputs": [
    {
     "name": "stdout",
     "output_type": "stream",
     "text": [
      "{'project': 'seager19', 'user': 'test_user', 'name': '???', 'test': True, 'notes': 'test new atmos section', 'run': False, 'animate': False, 'atmos': False, 'ocean': {'tcom_name': 'tcom', 'tios2cdf_name': 'tios2cdf', 'spin': False, 'diag': False, 'ingrid': False, 'run_through': True}, 'coup': {'cd': 0.00225, 'rho_a': 1.225}, 'atm': {'k_days': 10, 'efrac': 2.0, 'prcp_land': 1, 'wnspmin': 4, 'r': 0.8, 'YN': 60, 'h_q': 1800, 'wnsp_min': 4, 'rho_00': 0.3, 'pr_max': '20.0 / 3600 / 24', 'relative_humidity': 0.8, 'number_iterations': 50, 'gravity': 9.8, 'height_tropopause': 15000.0, 'theta_00': 300, 'nbsq': 0.0003, 'radius_earth': 6370000.0, 'sec_in_day': 86400, 'pi': 3.141592653589793, 'omega_2': '2 * 2 * ${atm.pi} / ${atm.sec_in_day}', 'latent_heat_vap': 2500000.0, 'cp_air': 1000, 'b_coeff': '${atm.gravity} * ${atm.pi} / ${atm.nbsq} / ${atm.theta_00} / ${atm.height_tropopause}', 'eps_days': 0.75, 'eps': '1.0 / ${atm.eps_days} / ${atm.sec_in_day}', 'eps_u': '${atm.eps}', 'e_frac': 0.5, 'eps_v': '${atm.e_frac} * ${atm.eps}', 'newtonian_cooling_coeff_k1': '${atm.b_coeff} / ${atm.k_days} / ${atm.sec_in_day}', 'eps_p': '(${atm.pi} / ${atm.height_tropopause}) ** 2 / ${atm.nbsq} / ${atm.k_days} / ${atm.sec_in_day}', 'beta': '${atm.omega_2} / ${atm.radius_earth}', 'rho_air': 1.225, 'c_e': 0.00125, 'emmisivity': 0.97, 'stefan_boltzman_const': 5.67e-08, 'p_s': 1000, 'es_0': 6.11, 'delta_temp': 1.0, 'f2': 0.05, 'a_cloud_const': 0.6, 'temp_0_c': 273.15, 'f1_bar': 0.39, 'u_bar': 5.0, 'c_bar': 0.6, 'nx': 180, 'ny': 60, 'y_north_lim': 60, 'y_south_lim': '-${atm.y_north_lim}', 'dx': '360 / ${atm.nx}', 'dy': '(${atm.y_north_lim} - ${atm.y_south_lim}) / ${atm.ny}'}}\n",
      "{'project': 'seager19', 'user': 'test_user', 'name': '???', 'test': True, 'notes': 'test new atmos section', 'run': False, 'animate': False, 'atmos': False, 'ocean': {'tcom_name': 'tcom', 'tios2cdf_name': 'tios2cdf', 'spin': False, 'diag': False, 'ingrid': False, 'run_through': True}, 'coup': {'cd': 0.00225, 'rho_a': 1.225}, 'atm': {'k_days': 10, 'efrac': 2.0, 'prcp_land': 1, 'wnspmin': 4, 'r': 0.8, 'YN': 60, 'h_q': 1800, 'wnsp_min': 4, 'rho_00': 0.3, 'pr_max': 0.0002314814814814815, 'relative_humidity': 0.8, 'number_iterations': 50, 'gravity': 9.8, 'height_tropopause': 15000.0, 'theta_00': 300, 'nbsq': 0.0003, 'radius_earth': 6370000.0, 'sec_in_day': 86400, 'pi': 3.141592653589793, 'omega_2': 0.0001454441043328608, 'latent_heat_vap': 2500000.0, 'cp_air': 1000, 'b_coeff': 0.022805635559392575, 'eps_days': 0.75, 'eps': 1.54320987654321e-05, 'eps_u': '${atm.eps}', 'e_frac': 0.5, 'eps_v': 7.71604938271605e-06, 'newtonian_cooling_coeff_k1': 2.639541152707474e-08, 'eps_p': 1.6923189988150473e-10, 'beta': 2.2832669440009544e-11, 'rho_air': 1.225, 'c_e': 0.00125, 'emmisivity': 0.97, 'stefan_boltzman_const': 5.67e-08, 'p_s': 1000, 'es_0': 6.11, 'delta_temp': 1.0, 'f2': 0.05, 'a_cloud_const': 0.6, 'temp_0_c': 273.15, 'f1_bar': 0.39, 'u_bar': 5.0, 'c_bar': 0.6, 'nx': 180, 'ny': 60, 'y_north_lim': 60, 'y_south_lim': '-${atm.y_north_lim}', 'dx': 2.0, 'dy': 2.0}}\n"
     ]
    }
   ],
   "source": [
    "with initialize(\n",
    "        config_path=\"../../src/configs/\"\n",
    "    ):\n",
    "    # config is relative to a module\n",
    "    cfg = compose(config_name=CONFIG_NAME, overrides=[\"user=test_user\", \"name=test_run\"])\n",
    "    print(cfg)\n",
    "    cfg = format_config(cfg)\n",
    "    print(cfg)"
   ]
  },
  {
   "cell_type": "code",
   "execution_count": 5,
   "id": "1a5528a7",
   "metadata": {
    "ExecuteTime": {
     "end_time": "2021-05-23T18:34:53.151109Z",
     "start_time": "2021-05-23T18:34:53.102623Z"
    }
   },
   "outputs": [
    {
     "data": {
      "text/plain": [
       "{'project': 'seager19', 'user': 'test_user', 'name': '???', 'test': True, 'notes': 'test new atmos section', 'run': False, 'animate': False, 'atmos': False, 'ocean': {'tcom_name': 'tcom', 'tios2cdf_name': 'tios2cdf', 'spin': False, 'diag': False, 'ingrid': False, 'run_through': True}, 'coup': {'cd': 0.00225, 'rho_a': 1.225}, 'atm': {'k_days': 10, 'efrac': 2.0, 'prcp_land': 1, 'wnspmin': 4, 'r': 0.8, 'YN': 60, 'h_q': 1800, 'wnsp_min': 4, 'rho_00': 0.3, 'pr_max': 0.0002314814814814815, 'relative_humidity': 0.8, 'number_iterations': 50, 'gravity': 9.8, 'height_tropopause': 15000.0, 'theta_00': 300, 'nbsq': 0.0003, 'radius_earth': 6370000.0, 'sec_in_day': 86400, 'pi': 3.141592653589793, 'omega_2': 0.0001454441043328608, 'latent_heat_vap': 2500000.0, 'cp_air': 1000, 'b_coeff': 0.022805635559392575, 'eps_days': 0.75, 'eps': 1.54320987654321e-05, 'eps_u': '${atm.eps}', 'e_frac': 0.5, 'eps_v': 7.71604938271605e-06, 'newtonian_cooling_coeff_k1': 2.639541152707474e-08, 'eps_p': 1.6923189988150473e-10, 'beta': 2.2832669440009544e-11, 'rho_air': 1.225, 'c_e': 0.00125, 'emmisivity': 0.97, 'stefan_boltzman_const': 5.67e-08, 'p_s': 1000, 'es_0': 6.11, 'delta_temp': 1.0, 'f2': 0.05, 'a_cloud_const': 0.6, 'temp_0_c': 273.15, 'f1_bar': 0.39, 'u_bar': 5.0, 'c_bar': 0.6, 'nx': 180, 'ny': 60, 'y_north_lim': 60, 'y_south_lim': '-${atm.y_north_lim}', 'dx': 2.0, 'dy': 2.0}}"
      ]
     },
     "execution_count": 5,
     "metadata": {},
     "output_type": "execute_result"
    }
   ],
   "source": [
    "cfg"
   ]
  },
  {
   "cell_type": "code",
   "execution_count": null,
   "id": "4d60d7e7",
   "metadata": {},
   "outputs": [],
   "source": []
  }
 ],
 "metadata": {
  "hide_input": false,
  "kernelspec": {
   "display_name": "Python 3",
   "language": "python",
   "name": "python3"
  },
  "language_info": {
   "codemirror_mode": {
    "name": "ipython",
    "version": 3
   },
   "file_extension": ".py",
   "mimetype": "text/x-python",
   "name": "python",
   "nbconvert_exporter": "python",
   "pygments_lexer": "ipython3",
   "version": "3.8.8"
  },
  "varInspector": {
   "cols": {
    "lenName": 16,
    "lenType": 16,
    "lenVar": 40
   },
   "kernels_config": {
    "python": {
     "delete_cmd_postfix": "",
     "delete_cmd_prefix": "del ",
     "library": "var_list.py",
     "varRefreshCmd": "print(var_dic_list())"
    },
    "r": {
     "delete_cmd_postfix": ") ",
     "delete_cmd_prefix": "rm(",
     "library": "var_list.r",
     "varRefreshCmd": "cat(var_dic_list()) "
    }
   },
   "types_to_exclude": [
    "module",
    "function",
    "builtin_function_or_method",
    "instance",
    "_Feature"
   ],
   "window_display": false
  }
 },
 "nbformat": 4,
 "nbformat_minor": 5
}
