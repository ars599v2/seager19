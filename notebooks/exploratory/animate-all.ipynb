{
 "cells": [
  {
   "cell_type": "markdown",
   "id": "6ca79463",
   "metadata": {},
   "source": [
    "# Analysis"
   ]
  },
  {
   "cell_type": "code",
   "execution_count": 1,
   "id": "a6f3d9fc",
   "metadata": {
    "ExecuteTime": {
     "end_time": "2021-04-11T19:27:15.642680Z",
     "start_time": "2021-04-11T19:27:15.620505Z"
    }
   },
   "outputs": [
    {
     "name": "stdout",
     "output_type": "stream",
     "text": [
      "The autoreload module is not an IPython extension.\n"
     ]
    },
    {
     "name": "stderr",
     "output_type": "stream",
     "text": [
      "UsageError: Line magic function `%autoreload` not found.\n"
     ]
    }
   ],
   "source": [
    "# Convenient jupyter setup\n",
    "%load_ext autoreload\n",
    "%autoreload 2\n",
    "%config IPCompleter.greedy=True"
   ]
  },
  {
   "cell_type": "code",
   "execution_count": 2,
   "id": "dd9696a5",
   "metadata": {
    "ExecuteTime": {
     "end_time": "2021-04-11T19:27:22.310161Z",
     "start_time": "2021-04-11T19:27:16.286885Z"
    }
   },
   "outputs": [],
   "source": [
    "# set up plotting settings for dark mode.\n",
    "from jupyterthemes import jtplot\n",
    "jtplot.style(theme=\"grade3\", context=\"notebook\", ticks=True, grid=False)\n",
    "from src.plot_settings import ps_defaults\n",
    "ps_defaults(use_tex=False, dpi=150)"
   ]
  },
  {
   "cell_type": "code",
   "execution_count": 3,
   "id": "65b60d3c",
   "metadata": {
    "ExecuteTime": {
     "end_time": "2021-04-11T19:27:24.083905Z",
     "start_time": "2021-04-11T19:27:22.400994Z"
    }
   },
   "outputs": [],
   "source": [
    "import os\n",
    "from typing import Callable, Union\n",
    "import inspect\n",
    "import time\n",
    "import xarray as xr\n",
    "import wandb\n",
    "import hydra\n",
    "from omegaconf import DictConfig, OmegaConf\n",
    "from src.constants import (\n",
    "    FIGURE_PATH,\n",
    "    OCEAN_DATA_PATH,\n",
    "    OCEAN_OUTPUT_PATH,\n",
    "    SRC_PATH,\n",
    "    OCEAN_RUN_PATH,\n",
    "    OCEAN_SRC_PATH,\n",
    "    PROJECT_PATH\n",
    ")\n",
    "from src.visualisation.ani import animate_xr_da\n",
    "from src.utils import timeit, fix_calendar"
   ]
  },
  {
   "cell_type": "code",
   "execution_count": 14,
   "id": "6c7df447",
   "metadata": {
    "ExecuteTime": {
     "end_time": "2021-04-11T20:00:10.503132Z",
     "start_time": "2021-04-11T20:00:10.483549Z"
    }
   },
   "outputs": [],
   "source": [
    "def fix_calendar_old(\n",
    "    xr_in: Union[xr.Dataset, xr.DataArray], timevar: str = \"T\"\n",
    ") -> Union[xr.Dataset, xr.DataArray]:\n",
    "    \"\"\"Fix and decode the calendar.\n",
    "\n",
    "    Args:\n",
    "        xr_in (Union[xr.Dataset, xr.DataArray]): the xarray object input\n",
    "        timevar (str, optional): The time variable name. Defaults to \"T\".\n",
    "\n",
    "    Returns:\n",
    "        Union[xr.Dataset, xr.DataArray]: same type and xr_in with fixed calendar.\n",
    "\n",
    "    \"\"\"\n",
    "    # make all into dataset\n",
    "    if isinstance(xr_in, xr.DataArray):\n",
    "        ds = xr_in.to_dataset()\n",
    "    else:\n",
    "        ds = xr_in\n",
    "\n",
    "    # add 360_day attribute\n",
    "    if \"calendar\" not in ds[timevar].attrs:\n",
    "        ds[timevar].attrs[\"calendar\"] = \"360_day\"\n",
    "    else:\n",
    "        if ds[timevar].attrs[\"calendar\"] == \"360\":\n",
    "            ds[timevar].attrs[\"calendar\"] = \"360_day\"\n",
    "\n",
    "    # decode\n",
    "    ds = xr.decode_cf(ds)\n",
    "    \"\"\"\n",
    "    ds.assign(\n",
    "        timevar=np.array(\n",
    "            [pd.to_datetime(x.strftime()).to_datetime64() for x in ds[timevar].values, \n",
    "             dtype=np.datetime64\n",
    "        )\n",
    "    )\n",
    "    \"\"\"\n",
    "    \"\"\"\"\n",
    "    ds.assign_coords(\n",
    "        \"Q\" timevar=np.array(\n",
    "            [pd.to_datetime(x.strftime()).to_datetime64() for x in ds[timevar].values],\n",
    "            dtype=np.datetime64\n",
    "        )\n",
    "    )\n",
    "    \"\"\"\n",
    "    print(ds)\n",
    "    # ds[timevar].values = np.array([pd.to_datetime(x.strftime()).to_datetime64() for x in ds[timevar].values])\n",
    "\n",
    "    # ds[timevar].values = ds[timevar].values.to_datetime()\n",
    "\n",
    "    # transform back into original type\n",
    "    if isinstance(xr_in, xr.DataArray):\n",
    "        xr_out = ds.to_array()\n",
    "    else:\n",
    "        xr_out = ds\n",
    "\n",
    "    return xr_out\n",
    "\n",
    "\n",
    "def rdict(index: int) -> dict:\n",
    "    \"\"\"Returns renaming dict for xarray.DataArray.\n",
    "\n",
    "    Args:\n",
    "        index (int): index on coords\n",
    "\n",
    "    Returns:\n",
    "        dict: renaming dict.\n",
    "    \"\"\"\n",
    "    return {\n",
    "        \"T_0\" + str(index): \"time\",\n",
    "        \"Y_0\" + str(index): \"y\",\n",
    "        \"X_0\" + str(index): \"x\",\n",
    "        \"L_0\" + str(index): \"Z\",\n",
    "    }\n",
    "\n",
    "\n",
    "@timeit\n",
    "def animate_all() -> None:\n",
    "    \"\"\"Animate the sst into gifs.\"\"\"\n",
    "    for x in [\n",
    "        \"om_diag\",\n",
    "        # \"om_run2f\",\n",
    "        # \"qflx\",\n",
    "        # \"qflx-0\",\n",
    "    ]:\n",
    "        animate_ds(\n",
    "            xr.open_dataset(\n",
    "                str(os.path.join(OCEAN_OUTPUT_PATH, x)) + \".nc\", decode_times=False\n",
    "            ),\n",
    "            x,\n",
    "        )\n",
    "\n",
    "\n",
    "@timeit\n",
    "def animate_ds(ds: xr.Dataset, file_name: str) -> None:\n",
    "    \"\"\"Animate the `xarray.Dataset`.\"\"\"\n",
    "    cmap_d = {\n",
    "        \"DYN_PRES\": \"delta\",\n",
    "        \"SST_QFLX\": \"delta\",\n",
    "        \"SST_SST\": \"sst\",\n",
    "        \"qflx\": \"delta\",\n",
    "        \"QFLX\": \"delta\",\n",
    "        \"TDEEP_HTHERM\": \"sst\",\n",
    "        \"TDEEP_TDEEP\": \"sst\",\n",
    "        \"TDEEP_HMODEL\": \"sst\",\n",
    "    }\n",
    "    unit_d = {\"SST_SST\": \"$^{\\circ}$C\"}\n",
    "    for y in ds.variables:\n",
    "        y = str(y)\n",
    "        if \"X_\" not in y:\n",
    "            if \"Y_\" not in y:\n",
    "                if \"L_\" not in y:\n",
    "                    if \"T_\" not in y or \"SST\" in y:\n",
    "                        if \"GRID\" != y:\n",
    "                            print(y)\n",
    "                            da = ds[y]\n",
    "                            for key in da.coords:\n",
    "                                num = str(key)[3]\n",
    "                            da = da.rename(rdict(num))\n",
    "                            if y in unit_d:\n",
    "                                da.attrs[\"units\"] = unit_d[y]\n",
    "                            da.coords[\"x\"].attrs[\"units\"] = \"$^{\\circ}$E\"\n",
    "                            da.coords[\"y\"].attrs[\"units\"] = \"$^{\\circ}$N\"\n",
    "                            da = da.where(da != 0.0).isel(Z=0)\n",
    "                            da = fix_calendar(da, timevar=\"time\")\n",
    "                            if \"variable\" in da.dims:\n",
    "                                da = da.isel(variable=0)\n",
    "                            da = da.rename(y)\n",
    "                            if y in unit_d:\n",
    "                                da.attrs[\"units\"] = unit_d[y]\n",
    "                            da.attrs[\"long_name\"] = y\n",
    "                            da.attrs[\"name\"] = y\n",
    "                            print(da)\n",
    "                            animate_xr_da(\n",
    "                                da,\n",
    "                                video_path=file_name + \"_\" + y + \".gif\",\n",
    "                                vcmap=cmap_d[y],\n",
    "                            )"
   ]
  },
  {
   "cell_type": "code",
   "execution_count": 15,
   "id": "43fe5c21",
   "metadata": {
    "ExecuteTime": {
     "end_time": "2021-04-11T20:01:15.862046Z",
     "start_time": "2021-04-11T20:00:12.476504Z"
    }
   },
   "outputs": [
    {
     "name": "stderr",
     "output_type": "stream",
     "text": [
      "\r",
      "om_diag_SST_SST.gif:   0%|          | 0/25 [00:00<?, ?it/s]"
     ]
    },
    {
     "name": "stdout",
     "output_type": "stream",
     "text": [
      "SST_SST\n",
      "<xarray.DataArray 'SST_SST' (time: 25, y: 161, x: 360)>\n",
      "array([[[        nan,         nan,         nan, ...,         nan,\n",
      "                 nan,         nan],\n",
      "        [        nan,         nan,         nan, ...,         nan,\n",
      "                 nan,         nan],\n",
      "        [        nan,         nan,         nan, ...,         nan,\n",
      "                 nan,         nan],\n",
      "        ...,\n",
      "        [-0.24075225,  0.01570407,  0.26875567, ..., -1.0816206 ,\n",
      "         -0.7841495 , -0.50387925],\n",
      "        [-0.8261021 , -0.55967414, -0.29426387, ..., -1.5676941 ,\n",
      "         -1.3554841 , -1.0942034 ],\n",
      "        [-1.4988613 , -1.3286685 , -1.1596736 , ..., -1.8076593 ,\n",
      "         -1.7545118 , -1.6456904 ]],\n",
      "\n",
      "       [[        nan,         nan,         nan, ...,         nan,\n",
      "                 nan,         nan],\n",
      "        [        nan,         nan,         nan, ...,         nan,\n",
      "                 nan,         nan],\n",
      "        [        nan,         nan,         nan, ...,         nan,\n",
      "                 nan,         nan],\n",
      "...\n",
      "        [ 0.22738364,  0.55789727,  0.87731457, ..., -0.8703489 ,\n",
      "         -0.4740713 , -0.11415227],\n",
      "        [-0.66339624, -0.33419728,  0.01065746, ..., -1.5340518 ,\n",
      "         -1.2805858 , -0.97614527],\n",
      "        [-1.4725356 , -1.2796127 , -1.0675236 , ..., -1.7927222 ,\n",
      "         -1.7375416 , -1.6234175 ]],\n",
      "\n",
      "       [[        nan,         nan,         nan, ...,         nan,\n",
      "                 nan,         nan],\n",
      "        [        nan,         nan,         nan, ...,         nan,\n",
      "                 nan,         nan],\n",
      "        [        nan,         nan,         nan, ...,         nan,\n",
      "                 nan,         nan],\n",
      "        ...,\n",
      "        [-0.0352192 ,  0.27254146,  0.56937325, ..., -1.0195925 ,\n",
      "         -0.6803845 , -0.35306072],\n",
      "        [-0.7442663 , -0.43066978, -0.1057321 , ..., -1.554362  ,\n",
      "         -1.3279352 , -1.0444645 ],\n",
      "        [-1.477904  , -1.287868  , -1.0819461 , ..., -1.795804  ,\n",
      "         -1.7393814 , -1.6274306 ]]], dtype=float32)\n",
      "Coordinates:\n",
      "  * x         (x) float32 0.0 1.0 2.0 3.0 4.0 ... 355.0 356.0 357.0 358.0 359.0\n",
      "  * y         (y) float32 -80.0 -79.0 -78.0 -77.0 -76.0 ... 77.0 78.0 79.0 80.0\n",
      "    Z         float32 ...\n",
      "  * time      (time) object 1955-12-30 10:59:51.650391 ... 1957-12-28 15:56:5...\n",
      "    variable  <U7 'SST_SST'\n",
      "Attributes:\n",
      "    units:      $^{\\circ}$C\n",
      "    long_name:  SST_SST\n",
      "    name:       SST_SST\n"
     ]
    },
    {
     "name": "stderr",
     "output_type": "stream",
     "text": [
      "om_diag_SST_SST.gif: 100%|██████████| 25/25 [00:09<00:00,  2.55it/s]\n",
      "om_diag_SST_QFLX.gif:   0%|          | 0/25 [00:00<?, ?it/s]"
     ]
    },
    {
     "name": "stdout",
     "output_type": "stream",
     "text": [
      "Video om_diag_SST_SST.gif made.\n",
      "'animate_xr_da'  13.06881 s\n",
      "\n",
      "SST_QFLX\n",
      "<xarray.DataArray 'SST_QFLX' (time: 25, y: 161, x: 360)>\n",
      "array([[[           nan,            nan,            nan, ...,\n",
      "                    nan,            nan,            nan],\n",
      "        [           nan,            nan,            nan, ...,\n",
      "                    nan,            nan,            nan],\n",
      "        [           nan,            nan,            nan, ...,\n",
      "                    nan,            nan,            nan],\n",
      "        ...,\n",
      "        [-3.1415999e-04,  2.1026271e-05,  3.5069848e-04, ...,\n",
      "         -1.4108991e-03, -1.0238644e-03, -6.5546297e-04],\n",
      "        [-1.0779888e-03, -7.2997710e-04, -3.8398404e-04, ...,\n",
      "         -2.0468503e-03, -1.7698468e-03, -1.4266199e-03],\n",
      "        [-1.9558789e-03, -1.7329683e-03, -1.5132546e-03, ...,\n",
      "         -2.3608049e-03, -2.2904719e-03, -2.1469037e-03]],\n",
      "\n",
      "       [[           nan,            nan,            nan, ...,\n",
      "                    nan,            nan,            nan],\n",
      "        [           nan,            nan,            nan, ...,\n",
      "                    nan,            nan,            nan],\n",
      "        [           nan,            nan,            nan, ...,\n",
      "                    nan,            nan,            nan],\n",
      "...\n",
      "        [-8.5238516e-06, -7.2510693e-06, -1.2654949e-05, ...,\n",
      "         -5.1916004e-06, -1.2117301e-05, -4.4227236e-06],\n",
      "        [-3.6901451e-06, -6.7906899e-06, -7.8152279e-06, ...,\n",
      "         -3.7485263e-06, -5.6828476e-06, -2.9422129e-06],\n",
      "        [-1.0823254e-06, -2.7944634e-06, -3.2794014e-06, ...,\n",
      "         -9.0023411e-07, -1.0887146e-06,  1.2778341e-08]],\n",
      "\n",
      "       [[           nan,            nan,            nan, ...,\n",
      "                    nan,            nan,            nan],\n",
      "        [           nan,            nan,            nan, ...,\n",
      "                    nan,            nan,            nan],\n",
      "        [           nan,            nan,            nan, ...,\n",
      "                    nan,            nan,            nan],\n",
      "        ...,\n",
      "        [-7.5136045e-06, -5.9284712e-06, -1.0802010e-05, ...,\n",
      "         -3.7796735e-06, -1.1643784e-05, -3.2396688e-06],\n",
      "        [-4.3930336e-06, -7.4317632e-06, -8.3286031e-06, ...,\n",
      "         -3.0906015e-06, -5.8058390e-06, -3.2333994e-06],\n",
      "        [-1.5736526e-06, -3.2343578e-06, -3.6340004e-06, ...,\n",
      "         -7.3523375e-07, -1.1848716e-06, -3.4629304e-07]]], dtype=float32)\n",
      "Coordinates:\n",
      "  * x         (x) float32 0.0 1.0 2.0 3.0 4.0 ... 355.0 356.0 357.0 358.0 359.0\n",
      "  * y         (y) float32 -80.0 -79.0 -78.0 -77.0 -76.0 ... 77.0 78.0 79.0 80.0\n",
      "    Z         float32 ...\n",
      "  * time      (time) object 1955-12-30 10:59:51.650391 ... 1957-12-28 15:56:5...\n",
      "    variable  <U8 'SST_QFLX'\n",
      "Attributes:\n",
      "    long_name:  SST_QFLX\n",
      "    name:       SST_QFLX\n"
     ]
    },
    {
     "name": "stderr",
     "output_type": "stream",
     "text": [
      "om_diag_SST_QFLX.gif: 100%|██████████| 25/25 [00:09<00:00,  2.52it/s]\n",
      "om_diag_DYN_PRES.gif:   0%|          | 0/25 [00:00<?, ?it/s]"
     ]
    },
    {
     "name": "stdout",
     "output_type": "stream",
     "text": [
      "Video om_diag_SST_QFLX.gif made.\n",
      "'animate_xr_da'  13.47873 s\n",
      "\n",
      "DYN_PRES\n",
      "<xarray.DataArray 'DYN_PRES' (time: 25, y: 161, x: 360)>\n",
      "array([[[       nan,        nan,        nan, ...,        nan,\n",
      "                nan,        nan],\n",
      "        [       nan,        nan,        nan, ...,        nan,\n",
      "                nan,        nan],\n",
      "        [       nan,        nan,        nan, ...,        nan,\n",
      "                nan,        nan],\n",
      "        ...,\n",
      "        [0.11082692, 0.10434268, 0.10524585, ..., 0.10434268,\n",
      "         0.10524585, 0.11347774],\n",
      "        [0.11461177, 0.11475171, 0.11623587, ..., 0.11475171,\n",
      "         0.11623587, 0.11901603],\n",
      "        [0.12039683, 0.12202544, 0.1238974 , ..., 0.12202544,\n",
      "         0.1238974 , 0.12598476]],\n",
      "\n",
      "       [[       nan,        nan,        nan, ...,        nan,\n",
      "                nan,        nan],\n",
      "        [       nan,        nan,        nan, ...,        nan,\n",
      "                nan,        nan],\n",
      "        [       nan,        nan,        nan, ...,        nan,\n",
      "                nan,        nan],\n",
      "...\n",
      "        [0.10704989, 0.1018597 , 0.10300714, ..., 0.1018597 ,\n",
      "         0.10300714, 0.11043252],\n",
      "        [0.11046872, 0.11091467, 0.11255966, ..., 0.11091467,\n",
      "         0.11255966, 0.11533347],\n",
      "        [0.11564092, 0.11737133, 0.11934259, ..., 0.11737133,\n",
      "         0.11934259, 0.12149643]],\n",
      "\n",
      "       [[       nan,        nan,        nan, ...,        nan,\n",
      "                nan,        nan],\n",
      "        [       nan,        nan,        nan, ...,        nan,\n",
      "                nan,        nan],\n",
      "        [       nan,        nan,        nan, ...,        nan,\n",
      "                nan,        nan],\n",
      "        ...,\n",
      "        [0.11064769, 0.1041474 , 0.10506475, ..., 0.1041474 ,\n",
      "         0.10506475, 0.11324489],\n",
      "        [0.11445926, 0.11460563, 0.11609986, ..., 0.11460563,\n",
      "         0.11609986, 0.11888096],\n",
      "        [0.12028382, 0.12193062, 0.12383126, ..., 0.12193062,\n",
      "         0.12383126, 0.12593764]]], dtype=float32)\n",
      "Coordinates:\n",
      "  * x         (x) float32 0.0 1.0 2.0 3.0 4.0 ... 355.0 356.0 357.0 358.0 359.0\n",
      "  * y         (y) float32 -80.0 -79.0 -78.0 -77.0 -76.0 ... 77.0 78.0 79.0 80.0\n",
      "    Z         float32 ...\n",
      "  * time      (time) object 1955-12-30 10:59:51.650391 ... 1957-12-28 15:56:5...\n",
      "    variable  <U8 'DYN_PRES'\n",
      "Attributes:\n",
      "    long_name:  DYN_PRES\n",
      "    name:       DYN_PRES\n"
     ]
    },
    {
     "name": "stderr",
     "output_type": "stream",
     "text": [
      "om_diag_DYN_PRES.gif: 100%|██████████| 25/25 [00:09<00:00,  2.67it/s]\n",
      "om_diag_TDEEP_HMODEL.gif:   0%|          | 0/25 [00:00<?, ?it/s]"
     ]
    },
    {
     "name": "stdout",
     "output_type": "stream",
     "text": [
      "Video om_diag_DYN_PRES.gif made.\n",
      "'animate_xr_da'  12.90486 s\n",
      "\n",
      "TDEEP_HMODEL\n",
      "<xarray.DataArray 'TDEEP_HMODEL' (time: 25, y: 161, x: 360)>\n",
      "array([[[      nan,       nan,       nan, ...,       nan,       nan,\n",
      "               nan],\n",
      "        [      nan,       nan,       nan, ...,       nan,       nan,\n",
      "               nan],\n",
      "        [      nan,       nan,       nan, ...,       nan,       nan,\n",
      "               nan],\n",
      "        ...,\n",
      "        [196.78485, 195.65393, 195.92242, ..., 195.65393, 195.92242,\n",
      "         197.60728],\n",
      "        [197.7229 , 197.84193, 198.24216, ..., 197.84193, 198.24216,\n",
      "         198.91867],\n",
      "        [198.97867, 199.40132, 199.88469, ..., 199.40132, 199.88469,\n",
      "         200.42615]],\n",
      "\n",
      "       [[      nan,       nan,       nan, ...,       nan,       nan,\n",
      "               nan],\n",
      "        [      nan,       nan,       nan, ...,       nan,       nan,\n",
      "               nan],\n",
      "        [      nan,       nan,       nan, ...,       nan,       nan,\n",
      "               nan],\n",
      "...\n",
      "        [196.05696, 195.1771 , 195.5142 , ..., 195.1771 , 195.5142 ,\n",
      "         197.06505],\n",
      "        [196.89764, 197.0888 , 197.5348 , ..., 197.0888 , 197.5348 ,\n",
      "         198.22112],\n",
      "        [198.02089, 198.4744 , 198.99141, ..., 198.4744 , 198.99141,\n",
      "         199.55602]],\n",
      "\n",
      "       [[      nan,       nan,       nan, ...,       nan,       nan,\n",
      "               nan],\n",
      "        [      nan,       nan,       nan, ...,       nan,       nan,\n",
      "               nan],\n",
      "        [      nan,       nan,       nan, ...,       nan,       nan,\n",
      "               nan],\n",
      "        ...,\n",
      "        [196.74934, 195.61302, 195.88931, ..., 195.61302, 195.88931,\n",
      "         197.56142],\n",
      "        [197.69145, 197.8119 , 198.21681, ..., 197.8119 , 198.21681,\n",
      "         198.89412],\n",
      "        [198.95457, 199.38078, 199.87405, ..., 199.38078, 199.87405,\n",
      "         200.42068]]], dtype=float32)\n",
      "Coordinates:\n",
      "  * x         (x) float32 0.0 1.0 2.0 3.0 4.0 ... 355.0 356.0 357.0 358.0 359.0\n",
      "  * y         (y) float32 -80.0 -79.0 -78.0 -77.0 -76.0 ... 77.0 78.0 79.0 80.0\n",
      "    Z         float32 ...\n",
      "  * time      (time) object 1955-12-30 10:59:51.650391 ... 1957-12-28 15:56:5...\n",
      "    variable  <U12 'TDEEP_HMODEL'\n",
      "Attributes:\n",
      "    long_name:  TDEEP_HMODEL\n",
      "    name:       TDEEP_HMODEL\n"
     ]
    },
    {
     "name": "stderr",
     "output_type": "stream",
     "text": [
      "om_diag_TDEEP_HMODEL.gif: 100%|██████████| 25/25 [00:09<00:00,  2.69it/s]\n",
      "om_diag_TDEEP_TDEEP.gif:   0%|          | 0/25 [00:00<?, ?it/s]"
     ]
    },
    {
     "name": "stdout",
     "output_type": "stream",
     "text": [
      "Video om_diag_TDEEP_HMODEL.gif made.\n",
      "'animate_xr_da'  12.92034 s\n",
      "\n",
      "TDEEP_TDEEP\n",
      "<xarray.DataArray 'TDEEP_TDEEP' (time: 25, y: 161, x: 360)>\n",
      "array([[[      nan,       nan,       nan, ...,       nan,       nan,\n",
      "               nan],\n",
      "        [      nan,       nan,       nan, ...,       nan,       nan,\n",
      "               nan],\n",
      "        [      nan,       nan,       nan, ...,       nan,       nan,\n",
      "               nan],\n",
      "        ...,\n",
      "        [28.786192, 28.728796, 28.74236 , ..., 28.728796, 28.74236 ,\n",
      "         28.828375],\n",
      "        [28.834335, 28.840479, 28.861185, ..., 28.840479, 28.861185,\n",
      "         28.89611 ],\n",
      "        [28.899189, 28.920721, 28.944891, ..., 28.920721, 28.944891,\n",
      "         28.971151]],\n",
      "\n",
      "       [[      nan,       nan,       nan, ...,       nan,       nan,\n",
      "               nan],\n",
      "        [      nan,       nan,       nan, ...,       nan,       nan,\n",
      "               nan],\n",
      "        [      nan,       nan,       nan, ...,       nan,       nan,\n",
      "               nan],\n",
      "...\n",
      "        [28.74917 , 28.704803, 28.721752, ..., 28.704803, 28.721752,\n",
      "         28.800522],\n",
      "        [28.791956, 28.801739, 28.824642, ..., 28.801739, 28.824642,\n",
      "         28.860096],\n",
      "        [28.849731, 28.873203, 28.899843, ..., 28.873203, 28.899843,\n",
      "         28.928518]],\n",
      "\n",
      "       [[      nan,       nan,       nan, ...,       nan,       nan,\n",
      "               nan],\n",
      "        [      nan,       nan,       nan, ...,       nan,       nan,\n",
      "               nan],\n",
      "        [      nan,       nan,       nan, ...,       nan,       nan,\n",
      "               nan],\n",
      "        ...,\n",
      "        [28.78438 , 28.726732, 28.740685, ..., 28.726732, 28.740685,\n",
      "         28.826014],\n",
      "        [28.832714, 28.838928, 28.859873, ..., 28.838928, 28.859873,\n",
      "         28.89485 ],\n",
      "        [28.897955, 28.919683, 28.944365, ..., 28.919683, 28.944365,\n",
      "         28.970892]]], dtype=float32)\n",
      "Coordinates:\n",
      "  * x         (x) float32 0.0 1.0 2.0 3.0 4.0 ... 355.0 356.0 357.0 358.0 359.0\n",
      "  * y         (y) float32 -80.0 -79.0 -78.0 -77.0 -76.0 ... 77.0 78.0 79.0 80.0\n",
      "    Z         float32 ...\n",
      "  * time      (time) object 1955-12-30 10:59:51.650391 ... 1957-12-28 15:56:5...\n",
      "    variable  <U11 'TDEEP_TDEEP'\n",
      "Attributes:\n",
      "    long_name:  TDEEP_TDEEP\n",
      "    name:       TDEEP_TDEEP\n"
     ]
    },
    {
     "name": "stderr",
     "output_type": "stream",
     "text": [
      "om_diag_TDEEP_TDEEP.gif: 100%|██████████| 25/25 [00:08<00:00,  3.02it/s]\n"
     ]
    },
    {
     "name": "stdout",
     "output_type": "stream",
     "text": [
      "Video om_diag_TDEEP_TDEEP.gif made.\n",
      "'animate_xr_da'  10.68659 s\n",
      "\n",
      "'animate_ds'  63.35162 s\n",
      "\n",
      "'animate_all'  63.37951 s\n",
      "\n"
     ]
    }
   ],
   "source": [
    "animate_all()"
   ]
  },
  {
   "cell_type": "code",
   "execution_count": 60,
   "id": "7e6b384c",
   "metadata": {
    "ExecuteTime": {
     "end_time": "2021-04-11T18:50:27.556621Z",
     "start_time": "2021-04-11T18:50:27.411006Z"
    }
   },
   "outputs": [
    {
     "name": "stdout",
     "output_type": "stream",
     "text": [
      "<xarray.Dataset>\n",
      "Dimensions:   (L_02: 1, T_02: 25, X_02: 360, Y_02: 161)\n",
      "Coordinates:\n",
      "  * X_02      (X_02) float32 0.0 1.0 2.0 3.0 4.0 ... 356.0 357.0 358.0 359.0\n",
      "  * Y_02      (Y_02) float32 -80.0 -79.0 -78.0 -77.0 ... 77.0 78.0 79.0 80.0\n",
      "  * L_02      (L_02) float32 0.0\n",
      "  * T_02      (T_02) object 1955-12-30 10:59:51.650391 ... 1957-12-28 15:56:5...\n",
      "Data variables:\n",
      "    DYN_PRES  (T_02, L_02, Y_02, X_02) float32 ...\n"
     ]
    },
    {
     "data": {
      "text/plain": [
       "cftime.Datetime360Day(1955, 12, 30, 10, 59, 51, 650391)"
      ]
     },
     "execution_count": 60,
     "metadata": {},
     "output_type": "execute_result"
    }
   ],
   "source": [
    "fix_calendar(xr.open_dataset(\n",
    "                str(os.path.join(OCEAN_OUTPUT_PATH, \"om_diag\")) + \".nc\", decode_times=False\n",
    "            ).DYN_PRES, timevar=\"T_02\").T_02.values[0]"
   ]
  },
  {
   "cell_type": "code",
   "execution_count": 25,
   "id": "08f127cc",
   "metadata": {
    "ExecuteTime": {
     "end_time": "2021-04-11T18:29:39.348437Z",
     "start_time": "2021-04-11T18:29:39.265243Z"
    }
   },
   "outputs": [
    {
     "data": {
      "text/plain": [
       "cftime.Datetime360Day(1955, 12, 30, 10, 59, 51, 650391)"
      ]
     },
     "execution_count": 25,
     "metadata": {},
     "output_type": "execute_result"
    }
   ],
   "source": [
    "fix_calendar(xr.open_dataset(\n",
    "                str(os.path.join(OCEAN_OUTPUT_PATH, \"om_diag\")) + \".nc\", decode_times=False\n",
    "            ).DYN_PRES, timevar=\"T_02\").T_02.values[0] #._to_real_datetime()"
   ]
  },
  {
   "cell_type": "code",
   "execution_count": 26,
   "id": "62f78a59",
   "metadata": {
    "ExecuteTime": {
     "end_time": "2021-04-11T18:29:46.252425Z",
     "start_time": "2021-04-11T18:29:46.161749Z"
    }
   },
   "outputs": [
    {
     "data": {
      "text/plain": [
       "real_datetime(1955, 12, 30, 10, 59, 51, 650391)"
      ]
     },
     "execution_count": 26,
     "metadata": {},
     "output_type": "execute_result"
    }
   ],
   "source": [
    "fix_calendar(xr.open_dataset(\n",
    "                str(os.path.join(OCEAN_OUTPUT_PATH, \"om_diag\")) + \".nc\", decode_times=False\n",
    "            ).DYN_PRES, timevar=\"T_02\").T_02.values[0]._to_real_datetime()"
   ]
  },
  {
   "cell_type": "code",
   "execution_count": 34,
   "id": "278d3862",
   "metadata": {
    "ExecuteTime": {
     "end_time": "2021-04-11T18:33:43.884548Z",
     "start_time": "2021-04-11T18:33:43.788443Z"
    }
   },
   "outputs": [
    {
     "data": {
      "text/plain": [
       "Timestamp('1955-12-30 00:00:00')"
      ]
     },
     "execution_count": 34,
     "metadata": {},
     "output_type": "execute_result"
    }
   ],
   "source": [
    "pd.to_datetime(fix_calendar(xr.open_dataset(\n",
    "                str(os.path.join(OCEAN_OUTPUT_PATH, \"om_diag\")) + \".nc\", decode_times=False\n",
    "            ).DYN_PRES, timevar=\"T_02\").T_02.values[0].strftime()[0:10])"
   ]
  },
  {
   "cell_type": "code",
   "execution_count": 33,
   "id": "4a85151a",
   "metadata": {
    "ExecuteTime": {
     "end_time": "2021-04-11T18:33:41.501092Z",
     "start_time": "2021-04-11T18:33:41.494536Z"
    }
   },
   "outputs": [],
   "source": [
    "import pandas as pd"
   ]
  },
  {
   "cell_type": "code",
   "execution_count": 61,
   "id": "b499e331",
   "metadata": {
    "ExecuteTime": {
     "end_time": "2021-04-11T19:21:50.322393Z",
     "start_time": "2021-04-11T19:21:50.176665Z"
    }
   },
   "outputs": [
    {
     "name": "stdout",
     "output_type": "stream",
     "text": [
      "<xarray.Dataset>\n",
      "Dimensions:   (L_02: 1, T_02: 25, X_02: 360, Y_02: 161)\n",
      "Coordinates:\n",
      "  * X_02      (X_02) float32 0.0 1.0 2.0 3.0 4.0 ... 356.0 357.0 358.0 359.0\n",
      "  * Y_02      (Y_02) float32 -80.0 -79.0 -78.0 -77.0 ... 77.0 78.0 79.0 80.0\n",
      "  * L_02      (L_02) float32 0.0\n",
      "  * T_02      (T_02) object 1955-12-30 10:59:51.650391 ... 1957-12-28 15:56:5...\n",
      "Data variables:\n",
      "    DYN_PRES  (T_02, L_02, Y_02, X_02) float32 ...\n"
     ]
    },
    {
     "data": {
      "text/plain": [
       "Timestamp('1955-12-30 10:59:51')"
      ]
     },
     "execution_count": 61,
     "metadata": {},
     "output_type": "execute_result"
    }
   ],
   "source": [
    "pd.to_datetime(fix_calendar(xr.open_dataset(\n",
    "                str(os.path.join(OCEAN_OUTPUT_PATH, \"om_diag\")) + \".nc\", decode_times=False\n",
    "            ).DYN_PRES, timevar=\"T_02\").T_02.values[0].strftime()).to_datetime64()"
   ]
  },
  {
   "cell_type": "code",
   "execution_count": null,
   "id": "d729af18",
   "metadata": {},
   "outputs": [],
   "source": []
  }
 ],
 "metadata": {
  "hide_input": false,
  "kernelspec": {
   "display_name": "Python 3",
   "language": "python",
   "name": "python3"
  },
  "language_info": {
   "codemirror_mode": {
    "name": "ipython",
    "version": 3
   },
   "file_extension": ".py",
   "mimetype": "text/x-python",
   "name": "python",
   "nbconvert_exporter": "python",
   "pygments_lexer": "ipython3",
   "version": "3.8.8"
  },
  "varInspector": {
   "cols": {
    "lenName": 16,
    "lenType": 16,
    "lenVar": 40
   },
   "kernels_config": {
    "python": {
     "delete_cmd_postfix": "",
     "delete_cmd_prefix": "del ",
     "library": "var_list.py",
     "varRefreshCmd": "print(var_dic_list())"
    },
    "r": {
     "delete_cmd_postfix": ") ",
     "delete_cmd_prefix": "rm(",
     "library": "var_list.r",
     "varRefreshCmd": "cat(var_dic_list()) "
    }
   },
   "types_to_exclude": [
    "module",
    "function",
    "builtin_function_or_method",
    "instance",
    "_Feature"
   ],
   "window_display": false
  }
 },
 "nbformat": 4,
 "nbformat_minor": 5
}
