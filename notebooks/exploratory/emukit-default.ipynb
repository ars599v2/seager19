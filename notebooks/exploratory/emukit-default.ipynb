{
 "cells": [
  {
   "cell_type": "markdown",
   "id": "6ca79463",
   "metadata": {},
   "source": [
    "# Analysis"
   ]
  },
  {
   "cell_type": "code",
   "execution_count": 1,
   "id": "a6f3d9fc",
   "metadata": {
    "ExecuteTime": {
     "end_time": "2022-01-26T10:49:22.268853Z",
     "start_time": "2022-01-26T10:49:21.610986Z"
    }
   },
   "outputs": [],
   "source": [
    "# Convenient jupyter setup\n",
    "%load_ext autoreload\n",
    "%autoreload 2\n",
    "%config IPCompleter.greedy=True"
   ]
  },
  {
   "cell_type": "code",
   "execution_count": 2,
   "id": "dd9696a5",
   "metadata": {
    "ExecuteTime": {
     "end_time": "2022-01-26T10:49:33.246519Z",
     "start_time": "2022-01-26T10:49:22.274824Z"
    }
   },
   "outputs": [],
   "source": [
    "# set up plotting settings for dark mode.\n",
    "from jupyterthemes import jtplot\n",
    "jtplot.style(theme=\"grade3\", context=\"notebook\", ticks=True, grid=False)\n",
    "from src.plot_utils import ps_defaults\n",
    "ps_defaults(use_tex=False, dpi=150)"
   ]
  },
  {
   "cell_type": "code",
   "execution_count": 6,
   "id": "954a060c",
   "metadata": {
    "ExecuteTime": {
     "end_time": "2022-01-26T10:49:49.775853Z",
     "start_time": "2022-01-26T10:49:48.845860Z"
    }
   },
   "outputs": [],
   "source": [
    "from emukit.test_functions import branin_function\n",
    "from emukit.core import ParameterSpace, ContinuousParameter\n",
    "\n",
    "f, _ = branin_function()\n",
    "parameter_space = ParameterSpace([ContinuousParameter('x1', -5, 10),\n",
    "                                  ContinuousParameter('x2', 0, 15)])"
   ]
  },
  {
   "cell_type": "code",
   "execution_count": 8,
   "id": "c4634e83",
   "metadata": {
    "ExecuteTime": {
     "end_time": "2022-01-26T10:51:19.215943Z",
     "start_time": "2022-01-26T10:51:16.731904Z"
    }
   },
   "outputs": [],
   "source": [
    "from emukit.core.initial_designs.latin_design import LatinDesign\n",
    "\n",
    "design = LatinDesign(parameter_space) \n",
    "num_data_points = 20\n",
    "X = design.get_samples(num_data_points)"
   ]
  },
  {
   "cell_type": "code",
   "execution_count": 12,
   "id": "51001a96",
   "metadata": {
    "ExecuteTime": {
     "end_time": "2022-01-26T14:51:13.659640Z",
     "start_time": "2022-01-26T14:50:58.982003Z"
    }
   },
   "outputs": [
    {
     "name": "stderr",
     "output_type": "stream",
     "text": [
      "[autoreload of six failed: Traceback (most recent call last):\n",
      "  File \"/home/users/sithom/seager19/env/lib/python3.8/site-packages/IPython/extensions/autoreload.py\", line 245, in check\n",
      "    superreload(m, reload, self.old_objects)\n",
      "  File \"/home/users/sithom/seager19/env/lib/python3.8/site-packages/IPython/extensions/autoreload.py\", line 410, in superreload\n",
      "    update_generic(old_obj, new_obj)\n",
      "  File \"/home/users/sithom/seager19/env/lib/python3.8/site-packages/IPython/extensions/autoreload.py\", line 347, in update_generic\n",
      "    update(a, b)\n",
      "  File \"/home/users/sithom/seager19/env/lib/python3.8/site-packages/IPython/extensions/autoreload.py\", line 287, in update_class\n",
      "    old_obj = getattr(old, key)\n",
      "  File \"/home/users/sithom/seager19/env/lib/python3.8/site-packages/six.py\", line 98, in __get__\n",
      "    setattr(obj, self.name, result)  # Invokes __set__.\n",
      "AttributeError: 'NoneType' object has no attribute 'cStringIO'\n",
      "]\n",
      "[autoreload of pkg_resources failed: Traceback (most recent call last):\n",
      "  File \"/home/users/sithom/seager19/env/lib/python3.8/site-packages/IPython/extensions/autoreload.py\", line 245, in check\n",
      "    superreload(m, reload, self.old_objects)\n",
      "  File \"/home/users/sithom/seager19/env/lib/python3.8/site-packages/IPython/extensions/autoreload.py\", line 394, in superreload\n",
      "    module = reload(module)\n",
      "  File \"/home/users/sithom/seager19/env/lib/python3.8/imp.py\", line 314, in reload\n",
      "    return importlib.reload(module)\n",
      "  File \"/home/users/sithom/seager19/env/lib/python3.8/importlib/__init__.py\", line 169, in reload\n",
      "    _bootstrap._exec(spec, module)\n",
      "  File \"<frozen importlib._bootstrap>\", line 604, in _exec\n",
      "  File \"<frozen importlib._bootstrap_external>\", line 783, in exec_module\n",
      "  File \"<frozen importlib._bootstrap>\", line 219, in _call_with_frames_removed\n",
      "  File \"/home/users/sithom/seager19/env/lib/python3.8/site-packages/pkg_resources/__init__.py\", line 3087, in <module>\n",
      "    class RequirementParseError(packaging.requirements.InvalidRequirement):\n",
      "AttributeError: module 'pkg_resources._vendor.packaging' has no attribute 'requirements'\n",
      "]\n"
     ]
    },
    {
     "ename": "AttributeError",
     "evalue": "module 'numpy.polynomial' has no attribute 'hermite'",
     "output_type": "error",
     "traceback": [
      "\u001b[0;31m---------------------------------------------------------------------------\u001b[0m",
      "\u001b[0;31mAttributeError\u001b[0m                            Traceback (most recent call last)",
      "\u001b[0;32m<ipython-input-12-091589956a4e>\u001b[0m in \u001b[0;36m<module>\u001b[0;34m\u001b[0m\n\u001b[1;32m      3\u001b[0m \u001b[0;34m\u001b[0m\u001b[0m\n\u001b[1;32m      4\u001b[0m \u001b[0mY\u001b[0m \u001b[0;34m=\u001b[0m \u001b[0mf\u001b[0m\u001b[0;34m(\u001b[0m\u001b[0mX\u001b[0m\u001b[0;34m)\u001b[0m\u001b[0;34m\u001b[0m\u001b[0;34m\u001b[0m\u001b[0m\n\u001b[0;32m----> 5\u001b[0;31m \u001b[0mmodel_gpy\u001b[0m \u001b[0;34m=\u001b[0m \u001b[0mGPRegression\u001b[0m\u001b[0;34m(\u001b[0m\u001b[0mX\u001b[0m\u001b[0;34m,\u001b[0m\u001b[0mY\u001b[0m\u001b[0;34m)\u001b[0m\u001b[0;34m\u001b[0m\u001b[0;34m\u001b[0m\u001b[0m\n\u001b[0m\u001b[1;32m      6\u001b[0m \u001b[0mmodel_emukit\u001b[0m \u001b[0;34m=\u001b[0m \u001b[0mGPyModelWrapper\u001b[0m\u001b[0;34m(\u001b[0m\u001b[0mmodel_gpy\u001b[0m\u001b[0;34m)\u001b[0m\u001b[0;34m\u001b[0m\u001b[0;34m\u001b[0m\u001b[0m\n",
      "\u001b[0;32m~/seager19/env/lib/python3.8/site-packages/paramz/parameterized.py\u001b[0m in \u001b[0;36m__call__\u001b[0;34m(self, *args, **kw)\u001b[0m\n",
      "\u001b[0;32m~/seager19/env/lib/python3.8/site-packages/GPy/models/gp_regression.py\u001b[0m in \u001b[0;36m__init__\u001b[0;34m(self, X, Y, kernel, Y_metadata, normalizer, noise_var, mean_function)\u001b[0m\n",
      "\u001b[0;32m~/seager19/env/lib/python3.8/site-packages/paramz/parameterized.py\u001b[0m in \u001b[0;36m__call__\u001b[0;34m(self, *args, **kw)\u001b[0m\n",
      "\u001b[0;32m~/seager19/env/lib/python3.8/site-packages/GPy/kern/src/rbf.py\u001b[0m in \u001b[0;36m__init__\u001b[0;34m(self, input_dim, variance, lengthscale, ARD, active_dims, name, useGPU, inv_l)\u001b[0m\n",
      "\u001b[0;32m~/seager19/env/lib/python3.8/site-packages/GPy/kern/src/stationary.py\u001b[0m in \u001b[0;36m__init__\u001b[0;34m(self, input_dim, variance, lengthscale, ARD, active_dims, name, useGPU)\u001b[0m\n",
      "\u001b[0;32m~/seager19/env/lib/python3.8/site-packages/GPy/kern/src/kern.py\u001b[0m in \u001b[0;36m__init__\u001b[0;34m(self, input_dim, active_dims, name, useGPU, *a, **kw)\u001b[0m\n",
      "\u001b[0;32m~/seager19/env/lib/python3.8/site-packages/GPy/kern/src/psi_comp/gaussherm.py\u001b[0m in \u001b[0;36m__init__\u001b[0;34m(self, degree, cache_K)\u001b[0m\n",
      "\u001b[0;31mAttributeError\u001b[0m: module 'numpy.polynomial' has no attribute 'hermite'"
     ]
    }
   ],
   "source": [
    "from GPy.models import GPRegression\n",
    "from emukit.model_wrappers import GPyModelWrapper\n",
    "\n",
    "Y = f(X)\n",
    "model_gpy = GPRegression(X,Y)\n",
    "model_emukit = GPyModelWrapper(model_gpy)"
   ]
  },
  {
   "cell_type": "code",
   "execution_count": 5,
   "id": "91acecec",
   "metadata": {
    "ExecuteTime": {
     "end_time": "2022-01-26T10:49:44.838787Z",
     "start_time": "2022-01-26T10:49:41.048501Z"
    }
   },
   "outputs": [
    {
     "name": "stdout",
     "output_type": "stream",
     "text": [
      "appdirs==1.4.4\r\n",
      "asciitree==0.3.3\r\n",
      "astroid==2.9.0\r\n",
      "bokeh==2.3.3\r\n",
      "brotlipy==0.7.0\r\n",
      "certifi==2020.6.20\r\n",
      "cffi @ file:///tmp/build/80754af9/cffi_1605538068321/work\r\n",
      "cftime==1.5.0\r\n",
      "chardet @ file:///tmp/build/80754af9/chardet_1605303185383/work\r\n",
      "click==8.0.1\r\n",
      "cloudpickle==1.6.0\r\n",
      "conda==4.9.2\r\n",
      "conda-package-handling @ file:///tmp/build/80754af9/conda-package-handling_1603018141399/work\r\n",
      "configparser==5.0.2\r\n",
      "cryptography @ file:///tmp/build/80754af9/cryptography_1605544487601/work\r\n",
      "cycler==0.10.0\r\n",
      "Cython==0.29.26\r\n",
      "dask==2021.6.2\r\n",
      "decorator==5.1.1\r\n",
      "distributed==2021.6.2\r\n",
      "docker-pycreds==0.4.0\r\n",
      "emcee==3.1.1\r\n",
      "entrypoints==0.3\r\n",
      "fasteners==0.16.3\r\n",
      "fastprogress==1.0.0\r\n",
      "fsspec==2021.6.1\r\n",
      "gitdb==4.0.7\r\n",
      "GitPython==3.1.14\r\n",
      "h5netcdf==0.11.0\r\n",
      "h5py==3.3.0\r\n",
      "HeapDict==1.0.1\r\n",
      "idna @ file:///tmp/build/80754af9/idna_1593446292537/work\r\n",
      "intake==0.6.2\r\n",
      "intake-esm==2021.1.15\r\n",
      "isort==5.10.1\r\n",
      "Jinja2==3.0.1\r\n",
      "kiwisolver==1.3.1\r\n",
      "lazy-object-proxy==1.6.0\r\n",
      "llvmlite==0.37.0\r\n",
      "locket==0.2.1\r\n",
      "MarkupSafe==2.0.1\r\n",
      "matplotlib==3.4.2\r\n",
      "mccabe==0.6.1\r\n",
      "msgpack==1.0.2\r\n",
      "nc-time-axis==1.3.1\r\n",
      "netCDF4==1.5.6\r\n",
      "numba==0.54.1\r\n",
      "numcodecs==0.8.0\r\n",
      "numpy==1.21.4\r\n",
      "packaging==21.0\r\n",
      "pandas==1.3.0\r\n",
      "paramz==0.9.5\r\n",
      "partd==1.2.0\r\n",
      "pathtools==0.1.2\r\n",
      "Pillow==8.2.0\r\n",
      "platformdirs==2.4.0\r\n",
      "plotly==5.5.0\r\n",
      "promise==2.3\r\n",
      "protobuf==3.17.3\r\n",
      "psutil==5.8.0\r\n",
      "pycosat==0.6.3\r\n",
      "pycparser @ file:///tmp/build/80754af9/pycparser_1594388511720/work\r\n",
      "pylint==2.12.1\r\n",
      "pyOpenSSL @ file:///tmp/build/80754af9/pyopenssl_1605545627475/work\r\n",
      "pyparsing==2.4.7\r\n",
      "PySocks @ file:///tmp/build/80754af9/pysocks_1605305779399/work\r\n",
      "python-dateutil==2.8.1\r\n",
      "pytz==2021.1\r\n",
      "PyYAML==5.4.1\r\n",
      "requests @ file:///tmp/build/80754af9/requests_1592841827918/work\r\n",
      "ruamel-yaml==0.15.87\r\n",
      "scipy==1.7.3\r\n",
      "sentry-sdk==1.1.0\r\n",
      "shortuuid==1.0.1\r\n",
      "six @ file:///tmp/build/80754af9/six_1605205327372/work\r\n",
      "smmap==4.0.0\r\n",
      "sortedcontainers==2.4.0\r\n",
      "subprocess32==3.5.4\r\n",
      "tblib==1.7.0\r\n",
      "-e git+https://github.com/sdat2/tcpyPI.git@4a5b23709aef7890efda0e4078c8286a8eaf8092#egg=tcpypi\r\n",
      "tenacity==8.0.1\r\n",
      "toml==0.10.2\r\n",
      "toolz==0.11.1\r\n",
      "tornado==6.1\r\n",
      "tqdm @ file:///tmp/build/80754af9/tqdm_1605303662894/work\r\n",
      "typing-extensions==4.0.1\r\n",
      "urllib3 @ file:///tmp/build/80754af9/urllib3_1603305693037/work\r\n",
      "wandb==0.10.32\r\n",
      "wandb-summarizer==0.1.2\r\n",
      "wrapt==1.13.3\r\n",
      "xarray==0.20.1\r\n",
      "zarr==2.8.3\r\n",
      "zict==2.0.0\r\n"
     ]
    }
   ],
   "source": [
    "!pip freeze"
   ]
  },
  {
   "cell_type": "code",
   "execution_count": null,
   "id": "f3b7100d",
   "metadata": {},
   "outputs": [],
   "source": [
    "\n",
    "\n",
    "pip install --upgrade matplotlib\n",
    "conda remove numpy\n",
    "conda install numpy=1.13\n"
   ]
  }
 ],
 "metadata": {
  "hide_input": false,
  "kernelspec": {
   "display_name": "Python 3",
   "language": "python",
   "name": "python3"
  },
  "language_info": {
   "codemirror_mode": {
    "name": "ipython",
    "version": 3
   },
   "file_extension": ".py",
   "mimetype": "text/x-python",
   "name": "python",
   "nbconvert_exporter": "python",
   "pygments_lexer": "ipython3",
   "version": "3.8.8"
  },
  "varInspector": {
   "cols": {
    "lenName": 16,
    "lenType": 16,
    "lenVar": 40
   },
   "kernels_config": {
    "python": {
     "delete_cmd_postfix": "",
     "delete_cmd_prefix": "del ",
     "library": "var_list.py",
     "varRefreshCmd": "print(var_dic_list())"
    },
    "r": {
     "delete_cmd_postfix": ") ",
     "delete_cmd_prefix": "rm(",
     "library": "var_list.r",
     "varRefreshCmd": "cat(var_dic_list()) "
    }
   },
   "types_to_exclude": [
    "module",
    "function",
    "builtin_function_or_method",
    "instance",
    "_Feature"
   ],
   "window_display": false
  }
 },
 "nbformat": 4,
 "nbformat_minor": 5
}
