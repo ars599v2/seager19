{
 "cells": [
  {
   "cell_type": "markdown",
   "id": "6ca79463",
   "metadata": {},
   "source": [
    "# Analysis"
   ]
  },
  {
   "cell_type": "code",
   "execution_count": 1,
   "id": "a6f3d9fc",
   "metadata": {
    "ExecuteTime": {
     "end_time": "2022-03-12T16:12:39.316696Z",
     "start_time": "2022-03-12T16:12:39.290974Z"
    }
   },
   "outputs": [],
   "source": [
    "# Convenient jupyter setup\n",
    "%load_ext autoreload\n",
    "%autoreload 2\n",
    "%config IPCompleter.greedy=True"
   ]
  },
  {
   "cell_type": "code",
   "execution_count": 2,
   "id": "dd9696a5",
   "metadata": {
    "ExecuteTime": {
     "end_time": "2022-03-12T16:12:44.889774Z",
     "start_time": "2022-03-12T16:12:40.465324Z"
    }
   },
   "outputs": [],
   "source": [
    "# set up plotting settings for dark mode.\n",
    "from jupyterthemes import jtplot\n",
    "jtplot.style(theme=\"grade3\", context=\"notebook\", ticks=True, grid=False)\n",
    "from src.plot_utils import plot_defaults\n",
    "plot_defaults(use_tex=False, dpi=150)"
   ]
  },
  {
   "cell_type": "code",
   "execution_count": 3,
   "id": "4be1b343",
   "metadata": {
    "ExecuteTime": {
     "end_time": "2022-03-12T16:14:48.159506Z",
     "start_time": "2022-03-12T16:14:47.573500Z"
    }
   },
   "outputs": [],
   "source": [
    "import numpy as np\n",
    "import pandas as pd\n",
    "import xarray as xr\n",
    "import matplotlib.pyplot as plt\n",
    "import scipy.stats as ss"
   ]
  },
  {
   "cell_type": "code",
   "execution_count": 4,
   "id": "6bfcd8cd",
   "metadata": {
    "ExecuteTime": {
     "end_time": "2022-03-12T16:16:49.968881Z",
     "start_time": "2022-03-12T16:16:49.208053Z"
    }
   },
   "outputs": [],
   "source": [
    "from src.constants import ECMWF_ORAS4_TREND, CMIP5_MMM_TREND, CMIP6_MMM_TREND"
   ]
  },
  {
   "cell_type": "code",
   "execution_count": 5,
   "id": "f24c59a8",
   "metadata": {
    "ExecuteTime": {
     "end_time": "2022-03-12T19:49:33.486843Z",
     "start_time": "2022-03-12T19:49:31.309444Z"
    }
   },
   "outputs": [
    {
     "name": "stdout",
     "output_type": "stream",
     "text": [
      "atmos-mod.ipynb       emukit-default.ipynb  investigate.ipynb      temp.nc\r\n",
      "check-means.ipynb     emukit.ipynb          ocean-mod.ipynb        test.nc\r\n",
      "cmip6-ensemble.ipynb  fig.csv               paper-fig.ipynb        \u001b[0m\u001b[01;34mtmp\u001b[0m/\r\n",
      "cmip6.ipynb           figure1.ipynb         sst-climatology.ipynb  \u001b[01;34mtmp_sobol\u001b[0m/\r\n",
      "coup-mod.ipynb        figure2.ipynb         \u001b[01;35msurface.gif\u001b[0m\r\n",
      "data-testing.ipynb    \u001b[01;36mgifs\u001b[0m@                 tau-anomalies.nc\r\n"
     ]
    }
   ],
   "source": [
    "ls"
   ]
  },
  {
   "cell_type": "code",
   "execution_count": null,
   "id": "4cef0778",
   "metadata": {},
   "outputs": [],
   "source": []
  }
 ],
 "metadata": {
  "hide_input": false,
  "kernelspec": {
   "display_name": "Python 3 (ipykernel)",
   "language": "python",
   "name": "python3"
  },
  "language_info": {
   "codemirror_mode": {
    "name": "ipython",
    "version": 3
   },
   "file_extension": ".py",
   "mimetype": "text/x-python",
   "name": "python",
   "nbconvert_exporter": "python",
   "pygments_lexer": "ipython3",
   "version": "3.8.12"
  },
  "varInspector": {
   "cols": {
    "lenName": 16,
    "lenType": 16,
    "lenVar": 40
   },
   "kernels_config": {
    "python": {
     "delete_cmd_postfix": "",
     "delete_cmd_prefix": "del ",
     "library": "var_list.py",
     "varRefreshCmd": "print(var_dic_list())"
    },
    "r": {
     "delete_cmd_postfix": ") ",
     "delete_cmd_prefix": "rm(",
     "library": "var_list.r",
     "varRefreshCmd": "cat(var_dic_list()) "
    }
   },
   "types_to_exclude": [
    "module",
    "function",
    "builtin_function_or_method",
    "instance",
    "_Feature"
   ],
   "window_display": false
  }
 },
 "nbformat": 4,
 "nbformat_minor": 5
}
