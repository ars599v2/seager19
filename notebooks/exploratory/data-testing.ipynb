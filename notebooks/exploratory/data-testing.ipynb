{
 "cells": [
  {
   "cell_type": "markdown",
   "id": "6ca79463",
   "metadata": {},
   "source": [
    "# Analysis"
   ]
  },
  {
   "cell_type": "code",
   "execution_count": 1,
   "id": "a6f3d9fc",
   "metadata": {
    "ExecuteTime": {
     "end_time": "2022-02-13T11:46:16.509129Z",
     "start_time": "2022-02-13T11:46:16.485787Z"
    }
   },
   "outputs": [],
   "source": [
    "# Convenient jupyter setup\n",
    "%load_ext autoreload\n",
    "%autoreload 2\n",
    "%config IPCompleter.greedy=True"
   ]
  },
  {
   "cell_type": "code",
   "execution_count": 2,
   "id": "dd9696a5",
   "metadata": {
    "ExecuteTime": {
     "end_time": "2022-02-13T11:46:20.004354Z",
     "start_time": "2022-02-13T11:46:16.844912Z"
    }
   },
   "outputs": [],
   "source": [
    "# set up plotting settings for dark mode.\n",
    "from jupyterthemes import jtplot\n",
    "jtplot.style(theme=\"grade3\", context=\"notebook\", ticks=True, grid=False)\n",
    "from src.plot_utils import ps_defaults\n",
    "ps_defaults(use_tex=False, dpi=150)"
   ]
  },
  {
   "cell_type": "code",
   "execution_count": 3,
   "id": "5694f59a",
   "metadata": {
    "ExecuteTime": {
     "end_time": "2022-02-13T11:46:53.672411Z",
     "start_time": "2022-02-13T11:46:53.647720Z"
    }
   },
   "outputs": [],
   "source": [
    "from src.constants import DATA_PATH"
   ]
  },
  {
   "cell_type": "code",
   "execution_count": 4,
   "id": "f5d3422a",
   "metadata": {
    "ExecuteTime": {
     "end_time": "2022-02-13T11:47:16.319272Z",
     "start_time": "2022-02-13T11:47:15.992511Z"
    }
   },
   "outputs": [
    {
     "data": {
      "text/plain": [
       "['.gitkeep',\n",
       " 'Seager_etal_NCC-2019_datasetdatafiles.nc',\n",
       " 'atmos-model',\n",
       " 'nummode.csv',\n",
       " 'NOAA_NCDC_ERSST_v3b_SST.nc',\n",
       " 'nino3_4_noaa_clim.nc',\n",
       " 'noaa_nino3_4.nc',\n",
       " 'results.csv',\n",
       " 'results21Jun.csv',\n",
       " 'results22Jun.csv',\n",
       " 'project.csv',\n",
       " 'noaa_trend.nc',\n",
       " 'cd.nc',\n",
       " 'nino34-trends.csv',\n",
       " 'nino34-trends-cmip5.csv',\n",
       " 'nc_mean',\n",
       " 'ERSSTv5.sst.nc',\n",
       " 'PSL_INDICES.nc',\n",
       " 'ts_nc',\n",
       " 'ocean-model']"
      ]
     },
     "execution_count": 4,
     "metadata": {},
     "output_type": "execute_result"
    }
   ],
   "source": [
    "import os\n",
    "os.listdir(DATA_PATH)"
   ]
  },
  {
   "cell_type": "code",
   "execution_count": 6,
   "id": "85c764ea",
   "metadata": {
    "ExecuteTime": {
     "end_time": "2022-02-13T11:49:35.393626Z",
     "start_time": "2022-02-13T11:49:35.366602Z"
    }
   },
   "outputs": [
    {
     "data": {
      "text/plain": [
       "['ts.nc', 'pr.nc', 'ps.nc', 'hur.nc', 'wsp.nc', 'clt.nc']"
      ]
     },
     "execution_count": 6,
     "metadata": {},
     "output_type": "execute_result"
    }
   ],
   "source": [
    "os.listdir(DATA_PATH / \"nc_mean\")"
   ]
  },
  {
   "cell_type": "code",
   "execution_count": 18,
   "id": "1d838241",
   "metadata": {
    "ExecuteTime": {
     "end_time": "2022-02-13T11:57:28.956139Z",
     "start_time": "2022-02-13T11:57:28.929780Z"
    }
   },
   "outputs": [],
   "source": [
    "import xarray as xr\n",
    "import src.xr_utils as xr_ut"
   ]
  },
  {
   "cell_type": "code",
   "execution_count": 23,
   "id": "e3dda122",
   "metadata": {
    "ExecuteTime": {
     "end_time": "2022-02-13T12:00:31.356756Z",
     "start_time": "2022-02-13T12:00:31.317131Z"
    }
   },
   "outputs": [
    {
     "data": {
      "text/html": [
       "<div><svg style=\"position: absolute; width: 0; height: 0; overflow: hidden\">\n",
       "<defs>\n",
       "<symbol id=\"icon-database\" viewBox=\"0 0 32 32\">\n",
       "<path d=\"M16 0c-8.837 0-16 2.239-16 5v4c0 2.761 7.163 5 16 5s16-2.239 16-5v-4c0-2.761-7.163-5-16-5z\"></path>\n",
       "<path d=\"M16 17c-8.837 0-16-2.239-16-5v6c0 2.761 7.163 5 16 5s16-2.239 16-5v-6c0 2.761-7.163 5-16 5z\"></path>\n",
       "<path d=\"M16 26c-8.837 0-16-2.239-16-5v6c0 2.761 7.163 5 16 5s16-2.239 16-5v-6c0 2.761-7.163 5-16 5z\"></path>\n",
       "</symbol>\n",
       "<symbol id=\"icon-file-text2\" viewBox=\"0 0 32 32\">\n",
       "<path d=\"M28.681 7.159c-0.694-0.947-1.662-2.053-2.724-3.116s-2.169-2.030-3.116-2.724c-1.612-1.182-2.393-1.319-2.841-1.319h-15.5c-1.378 0-2.5 1.121-2.5 2.5v27c0 1.378 1.122 2.5 2.5 2.5h23c1.378 0 2.5-1.122 2.5-2.5v-19.5c0-0.448-0.137-1.23-1.319-2.841zM24.543 5.457c0.959 0.959 1.712 1.825 2.268 2.543h-4.811v-4.811c0.718 0.556 1.584 1.309 2.543 2.268zM28 29.5c0 0.271-0.229 0.5-0.5 0.5h-23c-0.271 0-0.5-0.229-0.5-0.5v-27c0-0.271 0.229-0.5 0.5-0.5 0 0 15.499-0 15.5 0v7c0 0.552 0.448 1 1 1h7v19.5z\"></path>\n",
       "<path d=\"M23 26h-14c-0.552 0-1-0.448-1-1s0.448-1 1-1h14c0.552 0 1 0.448 1 1s-0.448 1-1 1z\"></path>\n",
       "<path d=\"M23 22h-14c-0.552 0-1-0.448-1-1s0.448-1 1-1h14c0.552 0 1 0.448 1 1s-0.448 1-1 1z\"></path>\n",
       "<path d=\"M23 18h-14c-0.552 0-1-0.448-1-1s0.448-1 1-1h14c0.552 0 1 0.448 1 1s-0.448 1-1 1z\"></path>\n",
       "</symbol>\n",
       "</defs>\n",
       "</svg>\n",
       "<style>/* CSS stylesheet for displaying xarray objects in jupyterlab.\n",
       " *\n",
       " */\n",
       "\n",
       ":root {\n",
       "  --xr-font-color0: var(--jp-content-font-color0, rgba(0, 0, 0, 1));\n",
       "  --xr-font-color2: var(--jp-content-font-color2, rgba(0, 0, 0, 0.54));\n",
       "  --xr-font-color3: var(--jp-content-font-color3, rgba(0, 0, 0, 0.38));\n",
       "  --xr-border-color: var(--jp-border-color2, #e0e0e0);\n",
       "  --xr-disabled-color: var(--jp-layout-color3, #bdbdbd);\n",
       "  --xr-background-color: var(--jp-layout-color0, white);\n",
       "  --xr-background-color-row-even: var(--jp-layout-color1, white);\n",
       "  --xr-background-color-row-odd: var(--jp-layout-color2, #eeeeee);\n",
       "}\n",
       "\n",
       "html[theme=dark],\n",
       "body.vscode-dark {\n",
       "  --xr-font-color0: rgba(255, 255, 255, 1);\n",
       "  --xr-font-color2: rgba(255, 255, 255, 0.54);\n",
       "  --xr-font-color3: rgba(255, 255, 255, 0.38);\n",
       "  --xr-border-color: #1F1F1F;\n",
       "  --xr-disabled-color: #515151;\n",
       "  --xr-background-color: #111111;\n",
       "  --xr-background-color-row-even: #111111;\n",
       "  --xr-background-color-row-odd: #313131;\n",
       "}\n",
       "\n",
       ".xr-wrap {\n",
       "  display: block;\n",
       "  min-width: 300px;\n",
       "  max-width: 700px;\n",
       "}\n",
       "\n",
       ".xr-text-repr-fallback {\n",
       "  /* fallback to plain text repr when CSS is not injected (untrusted notebook) */\n",
       "  display: none;\n",
       "}\n",
       "\n",
       ".xr-header {\n",
       "  padding-top: 6px;\n",
       "  padding-bottom: 6px;\n",
       "  margin-bottom: 4px;\n",
       "  border-bottom: solid 1px var(--xr-border-color);\n",
       "}\n",
       "\n",
       ".xr-header > div,\n",
       ".xr-header > ul {\n",
       "  display: inline;\n",
       "  margin-top: 0;\n",
       "  margin-bottom: 0;\n",
       "}\n",
       "\n",
       ".xr-obj-type,\n",
       ".xr-array-name {\n",
       "  margin-left: 2px;\n",
       "  margin-right: 10px;\n",
       "}\n",
       "\n",
       ".xr-obj-type {\n",
       "  color: var(--xr-font-color2);\n",
       "}\n",
       "\n",
       ".xr-sections {\n",
       "  padding-left: 0 !important;\n",
       "  display: grid;\n",
       "  grid-template-columns: 150px auto auto 1fr 20px 20px;\n",
       "}\n",
       "\n",
       ".xr-section-item {\n",
       "  display: contents;\n",
       "}\n",
       "\n",
       ".xr-section-item input {\n",
       "  display: none;\n",
       "}\n",
       "\n",
       ".xr-section-item input + label {\n",
       "  color: var(--xr-disabled-color);\n",
       "}\n",
       "\n",
       ".xr-section-item input:enabled + label {\n",
       "  cursor: pointer;\n",
       "  color: var(--xr-font-color2);\n",
       "}\n",
       "\n",
       ".xr-section-item input:enabled + label:hover {\n",
       "  color: var(--xr-font-color0);\n",
       "}\n",
       "\n",
       ".xr-section-summary {\n",
       "  grid-column: 1;\n",
       "  color: var(--xr-font-color2);\n",
       "  font-weight: 500;\n",
       "}\n",
       "\n",
       ".xr-section-summary > span {\n",
       "  display: inline-block;\n",
       "  padding-left: 0.5em;\n",
       "}\n",
       "\n",
       ".xr-section-summary-in:disabled + label {\n",
       "  color: var(--xr-font-color2);\n",
       "}\n",
       "\n",
       ".xr-section-summary-in + label:before {\n",
       "  display: inline-block;\n",
       "  content: '►';\n",
       "  font-size: 11px;\n",
       "  width: 15px;\n",
       "  text-align: center;\n",
       "}\n",
       "\n",
       ".xr-section-summary-in:disabled + label:before {\n",
       "  color: var(--xr-disabled-color);\n",
       "}\n",
       "\n",
       ".xr-section-summary-in:checked + label:before {\n",
       "  content: '▼';\n",
       "}\n",
       "\n",
       ".xr-section-summary-in:checked + label > span {\n",
       "  display: none;\n",
       "}\n",
       "\n",
       ".xr-section-summary,\n",
       ".xr-section-inline-details {\n",
       "  padding-top: 4px;\n",
       "  padding-bottom: 4px;\n",
       "}\n",
       "\n",
       ".xr-section-inline-details {\n",
       "  grid-column: 2 / -1;\n",
       "}\n",
       "\n",
       ".xr-section-details {\n",
       "  display: none;\n",
       "  grid-column: 1 / -1;\n",
       "  margin-bottom: 5px;\n",
       "}\n",
       "\n",
       ".xr-section-summary-in:checked ~ .xr-section-details {\n",
       "  display: contents;\n",
       "}\n",
       "\n",
       ".xr-array-wrap {\n",
       "  grid-column: 1 / -1;\n",
       "  display: grid;\n",
       "  grid-template-columns: 20px auto;\n",
       "}\n",
       "\n",
       ".xr-array-wrap > label {\n",
       "  grid-column: 1;\n",
       "  vertical-align: top;\n",
       "}\n",
       "\n",
       ".xr-preview {\n",
       "  color: var(--xr-font-color3);\n",
       "}\n",
       "\n",
       ".xr-array-preview,\n",
       ".xr-array-data {\n",
       "  padding: 0 5px !important;\n",
       "  grid-column: 2;\n",
       "}\n",
       "\n",
       ".xr-array-data,\n",
       ".xr-array-in:checked ~ .xr-array-preview {\n",
       "  display: none;\n",
       "}\n",
       "\n",
       ".xr-array-in:checked ~ .xr-array-data,\n",
       ".xr-array-preview {\n",
       "  display: inline-block;\n",
       "}\n",
       "\n",
       ".xr-dim-list {\n",
       "  display: inline-block !important;\n",
       "  list-style: none;\n",
       "  padding: 0 !important;\n",
       "  margin: 0;\n",
       "}\n",
       "\n",
       ".xr-dim-list li {\n",
       "  display: inline-block;\n",
       "  padding: 0;\n",
       "  margin: 0;\n",
       "}\n",
       "\n",
       ".xr-dim-list:before {\n",
       "  content: '(';\n",
       "}\n",
       "\n",
       ".xr-dim-list:after {\n",
       "  content: ')';\n",
       "}\n",
       "\n",
       ".xr-dim-list li:not(:last-child):after {\n",
       "  content: ',';\n",
       "  padding-right: 5px;\n",
       "}\n",
       "\n",
       ".xr-has-index {\n",
       "  font-weight: bold;\n",
       "}\n",
       "\n",
       ".xr-var-list,\n",
       ".xr-var-item {\n",
       "  display: contents;\n",
       "}\n",
       "\n",
       ".xr-var-item > div,\n",
       ".xr-var-item label,\n",
       ".xr-var-item > .xr-var-name span {\n",
       "  background-color: var(--xr-background-color-row-even);\n",
       "  margin-bottom: 0;\n",
       "}\n",
       "\n",
       ".xr-var-item > .xr-var-name:hover span {\n",
       "  padding-right: 5px;\n",
       "}\n",
       "\n",
       ".xr-var-list > li:nth-child(odd) > div,\n",
       ".xr-var-list > li:nth-child(odd) > label,\n",
       ".xr-var-list > li:nth-child(odd) > .xr-var-name span {\n",
       "  background-color: var(--xr-background-color-row-odd);\n",
       "}\n",
       "\n",
       ".xr-var-name {\n",
       "  grid-column: 1;\n",
       "}\n",
       "\n",
       ".xr-var-dims {\n",
       "  grid-column: 2;\n",
       "}\n",
       "\n",
       ".xr-var-dtype {\n",
       "  grid-column: 3;\n",
       "  text-align: right;\n",
       "  color: var(--xr-font-color2);\n",
       "}\n",
       "\n",
       ".xr-var-preview {\n",
       "  grid-column: 4;\n",
       "}\n",
       "\n",
       ".xr-var-name,\n",
       ".xr-var-dims,\n",
       ".xr-var-dtype,\n",
       ".xr-preview,\n",
       ".xr-attrs dt {\n",
       "  white-space: nowrap;\n",
       "  overflow: hidden;\n",
       "  text-overflow: ellipsis;\n",
       "  padding-right: 10px;\n",
       "}\n",
       "\n",
       ".xr-var-name:hover,\n",
       ".xr-var-dims:hover,\n",
       ".xr-var-dtype:hover,\n",
       ".xr-attrs dt:hover {\n",
       "  overflow: visible;\n",
       "  width: auto;\n",
       "  z-index: 1;\n",
       "}\n",
       "\n",
       ".xr-var-attrs,\n",
       ".xr-var-data {\n",
       "  display: none;\n",
       "  background-color: var(--xr-background-color) !important;\n",
       "  padding-bottom: 5px !important;\n",
       "}\n",
       "\n",
       ".xr-var-attrs-in:checked ~ .xr-var-attrs,\n",
       ".xr-var-data-in:checked ~ .xr-var-data {\n",
       "  display: block;\n",
       "}\n",
       "\n",
       ".xr-var-data > table {\n",
       "  float: right;\n",
       "}\n",
       "\n",
       ".xr-var-name span,\n",
       ".xr-var-data,\n",
       ".xr-attrs {\n",
       "  padding-left: 25px !important;\n",
       "}\n",
       "\n",
       ".xr-attrs,\n",
       ".xr-var-attrs,\n",
       ".xr-var-data {\n",
       "  grid-column: 1 / -1;\n",
       "}\n",
       "\n",
       "dl.xr-attrs {\n",
       "  padding: 0;\n",
       "  margin: 0;\n",
       "  display: grid;\n",
       "  grid-template-columns: 125px auto;\n",
       "}\n",
       "\n",
       ".xr-attrs dt,\n",
       ".xr-attrs dd {\n",
       "  padding: 0;\n",
       "  margin: 0;\n",
       "  float: left;\n",
       "  padding-right: 10px;\n",
       "  width: auto;\n",
       "}\n",
       "\n",
       ".xr-attrs dt {\n",
       "  font-weight: normal;\n",
       "  grid-column: 1;\n",
       "}\n",
       "\n",
       ".xr-attrs dt:hover span {\n",
       "  display: inline-block;\n",
       "  background: var(--xr-background-color);\n",
       "  padding-right: 10px;\n",
       "}\n",
       "\n",
       ".xr-attrs dd {\n",
       "  grid-column: 2;\n",
       "  white-space: pre-wrap;\n",
       "  word-break: break-all;\n",
       "}\n",
       "\n",
       ".xr-icon-database,\n",
       ".xr-icon-file-text2 {\n",
       "  display: inline-block;\n",
       "  vertical-align: middle;\n",
       "  width: 1em;\n",
       "  height: 1.5em !important;\n",
       "  stroke-width: 0;\n",
       "  stroke: currentColor;\n",
       "  fill: currentColor;\n",
       "}\n",
       "</style><pre class='xr-text-repr-fallback'>&lt;xarray.Dataset&gt;\n",
       "Dimensions:  (T: 1740, lat: 180, lon: 360)\n",
       "Coordinates:\n",
       "  * lat      (lat) float32 -89.5 -88.5 -87.5 -86.5 -85.5 ... 86.5 87.5 88.5 89.5\n",
       "  * T        (T) object 1861-01-16 00:00:00 ... 2005-12-16 00:00:00\n",
       "  * lon      (lon) float32 0.5 1.5 2.5 3.5 4.5 ... 355.5 356.5 357.5 358.5 359.5\n",
       "Data variables:\n",
       "    ts       (T, lat, lon) float32 ...\n",
       "Attributes:\n",
       "    nco_openmp_thread_number:  1\n",
       "    history:                   Mon Mar 19 16:04:30 2018: ncea -O final/ts_his...</pre><div class='xr-wrap' hidden><div class='xr-header'><div class='xr-obj-type'>xarray.Dataset</div></div><ul class='xr-sections'><li class='xr-section-item'><input id='section-51332e00-75e3-4734-93bd-33dcf80008e5' class='xr-section-summary-in' type='checkbox' disabled ><label for='section-51332e00-75e3-4734-93bd-33dcf80008e5' class='xr-section-summary'  title='Expand/collapse section'>Dimensions:</label><div class='xr-section-inline-details'><ul class='xr-dim-list'><li><span class='xr-has-index'>T</span>: 1740</li><li><span class='xr-has-index'>lat</span>: 180</li><li><span class='xr-has-index'>lon</span>: 360</li></ul></div><div class='xr-section-details'></div></li><li class='xr-section-item'><input id='section-683d2047-3bf9-4d47-aa64-86cedc8bd33a' class='xr-section-summary-in' type='checkbox'  checked><label for='section-683d2047-3bf9-4d47-aa64-86cedc8bd33a' class='xr-section-summary' >Coordinates: <span>(3)</span></label><div class='xr-section-inline-details'></div><div class='xr-section-details'><ul class='xr-var-list'><li class='xr-var-item'><div class='xr-var-name'><span class='xr-has-index'>lat</span></div><div class='xr-var-dims'>(lat)</div><div class='xr-var-dtype'>float32</div><div class='xr-var-preview xr-preview'>-89.5 -88.5 -87.5 ... 88.5 89.5</div><input id='attrs-cb754cae-af7c-4704-a3ce-10d72b35a336' class='xr-var-attrs-in' type='checkbox' ><label for='attrs-cb754cae-af7c-4704-a3ce-10d72b35a336' title='Show/Hide attributes'><svg class='icon xr-icon-file-text2'><use xlink:href='#icon-file-text2'></use></svg></label><input id='data-74ff70d5-1059-42e7-8c1f-42ea6b56887c' class='xr-var-data-in' type='checkbox'><label for='data-74ff70d5-1059-42e7-8c1f-42ea6b56887c' title='Show/Hide data repr'><svg class='icon xr-icon-database'><use xlink:href='#icon-database'></use></svg></label><div class='xr-var-attrs'><dl class='xr-attrs'><dt><span>long_name :</span></dt><dd>latitude</dd><dt><span>pointwidth :</span></dt><dd>1.0</dd><dt><span>gridtype :</span></dt><dd>0</dd><dt><span>units :</span></dt><dd>degree_north</dd></dl></div><div class='xr-var-data'><pre>array([-89.5, -88.5, -87.5, -86.5, -85.5, -84.5, -83.5, -82.5, -81.5, -80.5,\n",
       "       -79.5, -78.5, -77.5, -76.5, -75.5, -74.5, -73.5, -72.5, -71.5, -70.5,\n",
       "       -69.5, -68.5, -67.5, -66.5, -65.5, -64.5, -63.5, -62.5, -61.5, -60.5,\n",
       "       -59.5, -58.5, -57.5, -56.5, -55.5, -54.5, -53.5, -52.5, -51.5, -50.5,\n",
       "       -49.5, -48.5, -47.5, -46.5, -45.5, -44.5, -43.5, -42.5, -41.5, -40.5,\n",
       "       -39.5, -38.5, -37.5, -36.5, -35.5, -34.5, -33.5, -32.5, -31.5, -30.5,\n",
       "       -29.5, -28.5, -27.5, -26.5, -25.5, -24.5, -23.5, -22.5, -21.5, -20.5,\n",
       "       -19.5, -18.5, -17.5, -16.5, -15.5, -14.5, -13.5, -12.5, -11.5, -10.5,\n",
       "        -9.5,  -8.5,  -7.5,  -6.5,  -5.5,  -4.5,  -3.5,  -2.5,  -1.5,  -0.5,\n",
       "         0.5,   1.5,   2.5,   3.5,   4.5,   5.5,   6.5,   7.5,   8.5,   9.5,\n",
       "        10.5,  11.5,  12.5,  13.5,  14.5,  15.5,  16.5,  17.5,  18.5,  19.5,\n",
       "        20.5,  21.5,  22.5,  23.5,  24.5,  25.5,  26.5,  27.5,  28.5,  29.5,\n",
       "        30.5,  31.5,  32.5,  33.5,  34.5,  35.5,  36.5,  37.5,  38.5,  39.5,\n",
       "        40.5,  41.5,  42.5,  43.5,  44.5,  45.5,  46.5,  47.5,  48.5,  49.5,\n",
       "        50.5,  51.5,  52.5,  53.5,  54.5,  55.5,  56.5,  57.5,  58.5,  59.5,\n",
       "        60.5,  61.5,  62.5,  63.5,  64.5,  65.5,  66.5,  67.5,  68.5,  69.5,\n",
       "        70.5,  71.5,  72.5,  73.5,  74.5,  75.5,  76.5,  77.5,  78.5,  79.5,\n",
       "        80.5,  81.5,  82.5,  83.5,  84.5,  85.5,  86.5,  87.5,  88.5,  89.5],\n",
       "      dtype=float32)</pre></div></li><li class='xr-var-item'><div class='xr-var-name'><span class='xr-has-index'>T</span></div><div class='xr-var-dims'>(T)</div><div class='xr-var-dtype'>object</div><div class='xr-var-preview xr-preview'>1861-01-16 00:00:00 ... 2005-12-...</div><input id='attrs-fba6d3c5-9164-4500-b13f-c4ceac93638b' class='xr-var-attrs-in' type='checkbox' ><label for='attrs-fba6d3c5-9164-4500-b13f-c4ceac93638b' title='Show/Hide attributes'><svg class='icon xr-icon-file-text2'><use xlink:href='#icon-file-text2'></use></svg></label><input id='data-3bde93b7-d7f6-472d-9648-a73c6a8b5b49' class='xr-var-data-in' type='checkbox'><label for='data-3bde93b7-d7f6-472d-9648-a73c6a8b5b49' title='Show/Hide data repr'><svg class='icon xr-icon-database'><use xlink:href='#icon-database'></use></svg></label><div class='xr-var-attrs'><dl class='xr-attrs'><dt><span>pointwidth :</span></dt><dd>1.0</dd><dt><span>gridtype :</span></dt><dd>0</dd></dl></div><div class='xr-var-data'><pre>array([cftime.Datetime360Day(1861, 1, 16, 0, 0, 0, 0, has_year_zero=True),\n",
       "       cftime.Datetime360Day(1861, 2, 16, 0, 0, 0, 0, has_year_zero=True),\n",
       "       cftime.Datetime360Day(1861, 3, 16, 0, 0, 0, 0, has_year_zero=True), ...,\n",
       "       cftime.Datetime360Day(2005, 10, 16, 0, 0, 0, 0, has_year_zero=True),\n",
       "       cftime.Datetime360Day(2005, 11, 16, 0, 0, 0, 0, has_year_zero=True),\n",
       "       cftime.Datetime360Day(2005, 12, 16, 0, 0, 0, 0, has_year_zero=True)],\n",
       "      dtype=object)</pre></div></li><li class='xr-var-item'><div class='xr-var-name'><span class='xr-has-index'>lon</span></div><div class='xr-var-dims'>(lon)</div><div class='xr-var-dtype'>float32</div><div class='xr-var-preview xr-preview'>0.5 1.5 2.5 ... 357.5 358.5 359.5</div><input id='attrs-4bc9fd99-cff1-4c2d-a577-ac0217b92c2c' class='xr-var-attrs-in' type='checkbox' ><label for='attrs-4bc9fd99-cff1-4c2d-a577-ac0217b92c2c' title='Show/Hide attributes'><svg class='icon xr-icon-file-text2'><use xlink:href='#icon-file-text2'></use></svg></label><input id='data-324c830b-3d2a-4a36-b3be-f09f57edbcc2' class='xr-var-data-in' type='checkbox'><label for='data-324c830b-3d2a-4a36-b3be-f09f57edbcc2' title='Show/Hide data repr'><svg class='icon xr-icon-database'><use xlink:href='#icon-database'></use></svg></label><div class='xr-var-attrs'><dl class='xr-attrs'><dt><span>long_name :</span></dt><dd>longitude</dd><dt><span>modulus :</span></dt><dd>360.0</dd><dt><span>pointwidth :</span></dt><dd>1.0</dd><dt><span>gridtype :</span></dt><dd>1</dd><dt><span>units :</span></dt><dd>degree_east</dd></dl></div><div class='xr-var-data'><pre>array([  0.5,   1.5,   2.5, ..., 357.5, 358.5, 359.5], dtype=float32)</pre></div></li></ul></div></li><li class='xr-section-item'><input id='section-234c3d9f-ddcf-44e2-9efc-0ab93a7ae71b' class='xr-section-summary-in' type='checkbox'  checked><label for='section-234c3d9f-ddcf-44e2-9efc-0ab93a7ae71b' class='xr-section-summary' >Data variables: <span>(1)</span></label><div class='xr-section-inline-details'></div><div class='xr-section-details'><ul class='xr-var-list'><li class='xr-var-item'><div class='xr-var-name'><span>ts</span></div><div class='xr-var-dims'>(T, lat, lon)</div><div class='xr-var-dtype'>float32</div><div class='xr-var-preview xr-preview'>...</div><input id='attrs-b61c651a-204c-4132-abbd-ddcdd4d07378' class='xr-var-attrs-in' type='checkbox' ><label for='attrs-b61c651a-204c-4132-abbd-ddcdd4d07378' title='Show/Hide attributes'><svg class='icon xr-icon-file-text2'><use xlink:href='#icon-file-text2'></use></svg></label><input id='data-39117f74-6783-42d0-9c15-ddc458deb5c9' class='xr-var-data-in' type='checkbox'><label for='data-39117f74-6783-42d0-9c15-ddc458deb5c9' title='Show/Hide data repr'><svg class='icon xr-icon-database'><use xlink:href='#icon-database'></use></svg></label><div class='xr-var-attrs'><dl class='xr-attrs'><dt><span>file_missing_value :</span></dt><dd>1e+20</dd><dt><span>associated_files :</span></dt><dd>baseURL: http://cmip-pcmdi.llnl.gov/CMIP5/dataLocation gridspecFile: gridspec_atmos_fx_ACCESS1-0_historical_r0i0p0.nc areacella: areacella_fx_ACCESS1-0_historical_r0i0p0.nc</dd><dt><span>history :</span></dt><dd>[(2012-01-17T03:16:09Z altered by CMOR: replaced missing value flag (-1.07374e+09) with standard missing value (1e+20).) (lon regridded on CMIP5 byScenario historical atmos mon ts ACCESS1-0 r1i1p1 ts) (lat regridded on CMIP5 byScenario historical atmos mon ts ACCESS1-0 r1i1p1 ts)]</dd><dt><span>standard_name :</span></dt><dd>surface_temperature</dd><dt><span>long_name :</span></dt><dd>Surface Temperature</dd><dt><span>units :</span></dt><dd>Kelvin_scale</dd><dt><span>cell_measures :</span></dt><dd>area: areacella</dd><dt><span>comment :</span></dt><dd>&quot;&quot;skin&quot;&quot; temperature (i.e., SST for open ocean)</dd><dt><span>cell_methods :</span></dt><dd>time: mean</dd></dl></div><div class='xr-var-data'><pre>[112752000 values with dtype=float32]</pre></div></li></ul></div></li><li class='xr-section-item'><input id='section-2bd3f74e-a0fb-4151-ae52-4af69f7b3a1e' class='xr-section-summary-in' type='checkbox'  checked><label for='section-2bd3f74e-a0fb-4151-ae52-4af69f7b3a1e' class='xr-section-summary' >Attributes: <span>(2)</span></label><div class='xr-section-inline-details'></div><div class='xr-section-details'><dl class='xr-attrs'><dt><span>nco_openmp_thread_number :</span></dt><dd>1</dd><dt><span>history :</span></dt><dd>Mon Mar 19 16:04:30 2018: ncea -O final/ts_historical_ACCESS1-0_186101-200512.nc final/ts_historical_ACCESS1-3_186101-200512.nc final/ts_historical_bcc-csm1-1_186101-200512.nc final/ts_historical_bcc-csm1-1-m_186101-200512.nc final/ts_historical_BNU-ESM_186101-200512.nc final/ts_historical_CanESM2_186101-200512.nc final/ts_historical_CCSM4_186101-200512.nc final/ts_historical_CESM1-BGC_186101-200512.nc final/ts_historical_CESM1-CAM5_186101-200512.nc final/ts_historical_CESM1-WACCM_186101-200512.nc final/ts_historical_CMCC-CESM_186101-200512.nc final/ts_historical_CMCC-CM_186101-200512.nc final/ts_historical_CMCC-CMS_186101-200512.nc final/ts_historical_CNRM-CM5_186101-200512.nc final/ts_historical_CSIRO-Mk3-6-0_186101-200512.nc final/ts_historical_FGOALS-g2_186101-200512.nc final/ts_historical_FGOALS-s2_186101-200512.nc final/ts_historical_FIO-ESM_186101-200512.nc final/ts_historical_GFDL-CM3_186101-200512.nc final/ts_historical_GFDL-ESM2G_186101-200512.nc final/ts_historical_GFDL-ESM2M_186101-200512.nc final/ts_historical_GISS-E2-H_186101-200512.nc final/ts_historical_GISS-E2-H-CC_186101-200512.nc final/ts_historical_GISS-E2-R_186101-200512.nc final/ts_historical_GISS-E2-R-CC_186101-200512.nc final/ts_historical_HadGEM2-CC_186101-200512.nc final/ts_historical_HadGEM2-ES_186101-200512.nc final/ts_historical_inmcm4_186101-200512.nc final/ts_historical_IPSL-CM5A-LR_186101-200512.nc final/ts_historical_IPSL-CM5A-MR_186101-200512.nc final/ts_historical_IPSL-CM5B-LR_186101-200512.nc final/ts_historical_MIROC5_186101-200512.nc final/ts_historical_MIROC-ESM_186101-200512.nc final/ts_historical_MIROC-ESM-CHEM_186101-200512.nc final/ts_historical_MPI-ESM-LR_186101-200512.nc final/ts_historical_MPI-ESM-MR_186101-200512.nc final/ts_historical_MRI-CGCM3_186101-200512.nc final/ts_historical_MRI-ESM1_186101-200512.nc final/ts_historical_NorESM1-M_186101-200512.nc final/ts_historical_NorESM1-ME_186101-200512.nc ts_historical_mmm_186101-200512.nc</dd></dl></div></li></ul></div></div>"
      ],
      "text/plain": [
       "<xarray.Dataset>\n",
       "Dimensions:  (T: 1740, lat: 180, lon: 360)\n",
       "Coordinates:\n",
       "  * lat      (lat) float32 -89.5 -88.5 -87.5 -86.5 -85.5 ... 86.5 87.5 88.5 89.5\n",
       "  * T        (T) object 1861-01-16 00:00:00 ... 2005-12-16 00:00:00\n",
       "  * lon      (lon) float32 0.5 1.5 2.5 3.5 4.5 ... 355.5 356.5 357.5 358.5 359.5\n",
       "Data variables:\n",
       "    ts       (T, lat, lon) float32 ...\n",
       "Attributes:\n",
       "    nco_openmp_thread_number:  1\n",
       "    history:                   Mon Mar 19 16:04:30 2018: ncea -O final/ts_his..."
      ]
     },
     "execution_count": 23,
     "metadata": {},
     "output_type": "execute_result"
    }
   ],
   "source": [
    "xr_ut.open_dataset(\"/home/users/sithom/seager19/src/data/ts_nc/ts_historical_mmm_186101-200512.nc\")"
   ]
  },
  {
   "cell_type": "code",
   "execution_count": 24,
   "id": "8e2c8ec2",
   "metadata": {
    "ExecuteTime": {
     "end_time": "2022-02-13T12:01:35.623540Z",
     "start_time": "2022-02-13T12:01:35.065383Z"
    }
   },
   "outputs": [
    {
     "ename": "AttributeError",
     "evalue": "'NoneType' object has no attribute 'sel'",
     "output_type": "error",
     "traceback": [
      "\u001b[0;31m---------------------------------------------------------------------------\u001b[0m",
      "\u001b[0;31mAttributeError\u001b[0m                            Traceback (most recent call last)",
      "Input \u001b[0;32mIn [24]\u001b[0m, in \u001b[0;36m<module>\u001b[0;34m\u001b[0m\n\u001b[0;32m----> 1\u001b[0m xr_ut\u001b[38;5;241m.\u001b[39mspatial_mean(\u001b[43mxr_ut\u001b[49m\u001b[38;5;241;43m.\u001b[39;49m\u001b[43msel\u001b[49m\u001b[43m(\u001b[49m\u001b[43mxr_ut\u001b[49m\u001b[38;5;241;43m.\u001b[39;49m\u001b[43mopen_dataset\u001b[49m\u001b[43m(\u001b[49m\u001b[38;5;124;43m\"\u001b[39;49m\u001b[38;5;124;43m/home/users/sithom/seager19/src/data/ts_nc/ts_historical_mmm_186101-200512.nc\u001b[39;49m\u001b[38;5;124;43m\"\u001b[39;49m\u001b[43m,\u001b[49m\u001b[43m \u001b[49m\u001b[43muse_can_coords\u001b[49m\u001b[38;5;241;43m=\u001b[39;49m\u001b[38;5;28;43;01mTrue\u001b[39;49;00m\u001b[43m)\u001b[49m\u001b[43m,\u001b[49m\u001b[43m \u001b[49m\u001b[43mreg\u001b[49m\u001b[38;5;241;43m=\u001b[39;49m\u001b[38;5;124;43m\"\u001b[39;49m\u001b[38;5;124;43mnino3.4\u001b[39;49m\u001b[38;5;124;43m\"\u001b[39;49m\u001b[43m)\u001b[49m)\n",
      "File \u001b[0;32m~/seager19/src/xr_utils.py:217\u001b[0m, in \u001b[0;36msel\u001b[0;34m(xr_obj, reg)\u001b[0m\n\u001b[1;32m    213\u001b[0m \u001b[38;5;28;01massert\u001b[39;00m reg \u001b[38;5;129;01min\u001b[39;00m SEL_DICT\n\u001b[1;32m    215\u001b[0m sel_c \u001b[38;5;241m=\u001b[39m SEL_DICT[reg]\n\u001b[0;32m--> 217\u001b[0m \u001b[38;5;28;01mreturn\u001b[39;00m \u001b[43mxr_obj\u001b[49m\u001b[38;5;241;43m.\u001b[39;49m\u001b[43msel\u001b[49m(\n\u001b[1;32m    218\u001b[0m     X\u001b[38;5;241m=\u001b[39m\u001b[38;5;28mslice\u001b[39m(sel_c[\u001b[38;5;124m\"\u001b[39m\u001b[38;5;124mX\u001b[39m\u001b[38;5;124m\"\u001b[39m][\u001b[38;5;241m0\u001b[39m], sel_c[\u001b[38;5;124m\"\u001b[39m\u001b[38;5;124mX\u001b[39m\u001b[38;5;124m\"\u001b[39m][\u001b[38;5;241m1\u001b[39m]), Y\u001b[38;5;241m=\u001b[39m\u001b[38;5;28mslice\u001b[39m(sel_c[\u001b[38;5;124m\"\u001b[39m\u001b[38;5;124mY\u001b[39m\u001b[38;5;124m\"\u001b[39m][\u001b[38;5;241m0\u001b[39m], sel_c[\u001b[38;5;124m\"\u001b[39m\u001b[38;5;124mY\u001b[39m\u001b[38;5;124m\"\u001b[39m][\u001b[38;5;241m1\u001b[39m])\n\u001b[1;32m    219\u001b[0m )\n",
      "\u001b[0;31mAttributeError\u001b[0m: 'NoneType' object has no attribute 'sel'"
     ]
    }
   ],
   "source": [
    "xr_ut.spatial_mean(xr_ut.sel(xr_ut.open_dataset(\"/home/users/sithom/seager19/src/data/ts_nc/ts_historical_mmm_186101-200512.nc\", use_can_coords=True), reg=\"nino3.4\"))"
   ]
  },
  {
   "cell_type": "code",
   "execution_count": 12,
   "id": "d57fdd02",
   "metadata": {
    "ExecuteTime": {
     "end_time": "2022-02-13T11:53:37.664750Z",
     "start_time": "2022-02-13T11:53:36.625116Z"
    }
   },
   "outputs": [
    {
     "name": "stdout",
     "output_type": "stream",
     "text": [
      "total 1.4G\r\n",
      "   0 drwxr-xr-x 2 sithom users    0 Feb 12 15:16 \u001b[0m\u001b[01;34m.\u001b[0m/\r\n",
      "   0 drwxr-xr-x 6 sithom users    0 Feb 13 10:10 \u001b[01;34m..\u001b[0m/\r\n",
      "431M -rw-r--r-- 1 sithom users 431M Feb 12 15:16 ts_Amon_ace0_historical_r1i1p1_186101-200512.nc\r\n",
      "279M -rw-r--r-- 1 sithom users 279M Feb 12 15:16 ts_Amon_ace0_rcp85_r1i1p1_200601-209912.nc\r\n",
      "431M -rw-r--r-- 1 sithom users 431M Feb 12 15:16 ts_historical_mmm_186101-200512.nc\r\n",
      "279M -rw-r--r-- 1 sithom users 279M Feb 12 15:16 ts_rcp85_mmm_200601-209912.nc\r\n"
     ]
    }
   ],
   "source": [
    "ls -lash /home/users/sithom/seager19/src/data/ts_nc/ts_historical_mmm_186101-200512.nc"
   ]
  },
  {
   "cell_type": "code",
   "execution_count": 7,
   "id": "75cd89ab",
   "metadata": {
    "ExecuteTime": {
     "end_time": "2022-02-13T11:49:54.712595Z",
     "start_time": "2022-02-13T11:49:54.686208Z"
    }
   },
   "outputs": [
    {
     "data": {
      "text/plain": [
       "['ts_rcp85_mmm_200601-209912.nc',\n",
       " 'ts_Amon_ace0_rcp85_r1i1p1_200601-209912.nc',\n",
       " 'ts_Amon_ace0_historical_r1i1p1_186101-200512.nc',\n",
       " 'ts_historical_mmm_186101-200512.nc']"
      ]
     },
     "execution_count": 7,
     "metadata": {},
     "output_type": "execute_result"
    }
   ],
   "source": [
    "os.listdir(DATA_PATH / \"ts_nc\")"
   ]
  },
  {
   "cell_type": "code",
   "execution_count": 10,
   "id": "fdee60df",
   "metadata": {
    "ExecuteTime": {
     "end_time": "2022-02-13T11:51:23.810034Z",
     "start_time": "2022-02-13T11:51:23.781842Z"
    }
   },
   "outputs": [
    {
     "data": {
      "text/plain": [
       "['ps-ECMWF-clim.nc',\n",
       " 'ts-ECMWF-clim60.nc',\n",
       " 'sfcWind-ECMWF-clim60.nc',\n",
       " 'pr-ECMWF-trend.nc',\n",
       " 'sst-ECMWF-clim.nc',\n",
       " 'mask-360x181.nc',\n",
       " 'ts-ECMWF-clim.nc',\n",
       " 'mask-360x180.nc',\n",
       " 'clt-ECMWF-clim60.nc',\n",
       " 'ts-ECMWF-trend.nc',\n",
       " 'sst-ECMWF-trend.nc',\n",
       " 'rh-fixed-clim60.nc',\n",
       " 'rh-ECMWF-clim60.nc',\n",
       " 'sfcWind-ECMWF-clim.nc',\n",
       " 'pr-ECMWF-clim.nc']"
      ]
     },
     "execution_count": 10,
     "metadata": {},
     "output_type": "execute_result"
    }
   ],
   "source": [
    "os.listdir(DATA_PATH / \"atmos-model\" / \"DATA\")"
   ]
  },
  {
   "cell_type": "code",
   "execution_count": null,
   "id": "2fae0468",
   "metadata": {},
   "outputs": [],
   "source": [
    "os.listdir()"
   ]
  }
 ],
 "metadata": {
  "hide_input": false,
  "kernelspec": {
   "display_name": "Python 3 (ipykernel)",
   "language": "python",
   "name": "python3"
  },
  "language_info": {
   "codemirror_mode": {
    "name": "ipython",
    "version": 3
   },
   "file_extension": ".py",
   "mimetype": "text/x-python",
   "name": "python",
   "nbconvert_exporter": "python",
   "pygments_lexer": "ipython3",
   "version": "3.8.12"
  },
  "varInspector": {
   "cols": {
    "lenName": 16,
    "lenType": 16,
    "lenVar": 40
   },
   "kernels_config": {
    "python": {
     "delete_cmd_postfix": "",
     "delete_cmd_prefix": "del ",
     "library": "var_list.py",
     "varRefreshCmd": "print(var_dic_list())"
    },
    "r": {
     "delete_cmd_postfix": ") ",
     "delete_cmd_prefix": "rm(",
     "library": "var_list.r",
     "varRefreshCmd": "cat(var_dic_list()) "
    }
   },
   "types_to_exclude": [
    "module",
    "function",
    "builtin_function_or_method",
    "instance",
    "_Feature"
   ],
   "window_display": false
  }
 },
 "nbformat": 4,
 "nbformat_minor": 5
}
