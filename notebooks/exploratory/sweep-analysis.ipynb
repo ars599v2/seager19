{
 "cells": [
  {
   "cell_type": "markdown",
   "id": "6ca79463",
   "metadata": {},
   "source": [
    "# Analysis"
   ]
  },
  {
   "cell_type": "code",
   "execution_count": 1,
   "id": "a6f3d9fc",
   "metadata": {
    "ExecuteTime": {
     "end_time": "2021-06-17T20:04:15.584278Z",
     "start_time": "2021-06-17T20:04:15.521879Z"
    }
   },
   "outputs": [],
   "source": [
    "# Convenient jupyter setup\n",
    "%load_ext autoreload\n",
    "%autoreload 2\n",
    "%config IPCompleter.greedy=True"
   ]
  },
  {
   "cell_type": "code",
   "execution_count": 2,
   "id": "dd9696a5",
   "metadata": {
    "ExecuteTime": {
     "end_time": "2021-06-17T20:04:24.141868Z",
     "start_time": "2021-06-17T20:04:15.724748Z"
    }
   },
   "outputs": [],
   "source": [
    "# set up plotting settings for dark mode.\n",
    "from jupyterthemes import jtplot\n",
    "jtplot.style(theme=\"grade3\", context=\"notebook\", ticks=True, grid=False)\n",
    "from src.plot_utils import ps_defaults\n",
    "ps_defaults(use_tex=False, dpi=150)"
   ]
  },
  {
   "cell_type": "code",
   "execution_count": 3,
   "id": "b922a15d",
   "metadata": {
    "ExecuteTime": {
     "end_time": "2021-06-17T20:05:08.393081Z",
     "start_time": "2021-06-17T20:05:07.850402Z"
    }
   },
   "outputs": [],
   "source": [
    "import pandas as pd\n",
    "from src.constants import WANDB_DATA"
   ]
  },
  {
   "cell_type": "code",
   "execution_count": 34,
   "id": "43ccc71a",
   "metadata": {
    "ExecuteTime": {
     "end_time": "2021-06-17T20:17:25.337705Z",
     "start_time": "2021-06-17T20:17:24.690458Z"
    }
   },
   "outputs": [],
   "source": [
    "import matplotlib.pyplot as plt"
   ]
  },
  {
   "cell_type": "code",
   "execution_count": 10,
   "id": "046a7be3",
   "metadata": {
    "ExecuteTime": {
     "end_time": "2021-06-17T20:08:30.129610Z",
     "start_time": "2021-06-17T20:08:30.034701Z"
    }
   },
   "outputs": [
    {
     "data": {
      "text/plain": [
       "0     cd_1.5\n",
       "1     cd_1.7\n",
       "2      cd2.1\n",
       "3    iter_10\n",
       "4     cd_2.0\n",
       "5     cd_1.0\n",
       "6     cd_1.2\n",
       "7     cd_2.7\n",
       "8    cd_norm\n",
       "9     cd_1.4\n",
       "Name: name, dtype: object"
      ]
     },
     "execution_count": 10,
     "metadata": {},
     "output_type": "execute_result"
    }
   ],
   "source": [
    "df = pd.read_csv(WANDB_DATA)\n",
    "df_filtered = df[0:10]\n",
    "df_filtered[\"name\"]"
   ]
  },
  {
   "cell_type": "code",
   "execution_count": 12,
   "id": "3c313ba3",
   "metadata": {
    "ExecuteTime": {
     "end_time": "2021-06-17T20:09:50.634030Z",
     "start_time": "2021-06-17T20:09:49.908338Z"
    }
   },
   "outputs": [
    {
     "data": {
      "text/html": [
       "<div>\n",
       "<style scoped>\n",
       "    .dataframe tbody tr th:only-of-type {\n",
       "        vertical-align: middle;\n",
       "    }\n",
       "\n",
       "    .dataframe tbody tr th {\n",
       "        vertical-align: top;\n",
       "    }\n",
       "\n",
       "    .dataframe thead th {\n",
       "        text-align: right;\n",
       "    }\n",
       "</style>\n",
       "<table border=\"1\" class=\"dataframe\">\n",
       "  <thead>\n",
       "    <tr style=\"text-align: right;\">\n",
       "      <th></th>\n",
       "      <th>config_animate</th>\n",
       "      <th>config_atm</th>\n",
       "      <th>config_atmos</th>\n",
       "      <th>config_coup</th>\n",
       "      <th>config_gcc</th>\n",
       "      <th>config_gfortran</th>\n",
       "      <th>config_name</th>\n",
       "      <th>config_notes</th>\n",
       "      <th>config_oc</th>\n",
       "      <th>config_ocean</th>\n",
       "      <th>...</th>\n",
       "      <th>end_ocean_run</th>\n",
       "      <th>end_trend_nino1+2</th>\n",
       "      <th>end_trend_nino3</th>\n",
       "      <th>end_trend_nino3.4</th>\n",
       "      <th>end_trend_nino4</th>\n",
       "      <th>end_trend_pac</th>\n",
       "      <th>name</th>\n",
       "      <th>state</th>\n",
       "      <th>tags</th>\n",
       "      <th>url</th>\n",
       "    </tr>\n",
       "  </thead>\n",
       "  <tbody>\n",
       "    <tr>\n",
       "      <th>2</th>\n",
       "      <td>True</td>\n",
       "      <td>{'k_days': 10, 'e_frac': 2.0, 'prcp_land': 1, ...</td>\n",
       "      <td>True</td>\n",
       "      <td>{'c_d': 0.0021, 'rho_air': 1.225, 'iterations'...</td>\n",
       "      <td>gcc version 4.8.5 20150623 (Red Hat 4.8.5-44) ...</td>\n",
       "      <td>gcc version 4.8.5 20150623 (Red Hat 4.8.5-44) ...</td>\n",
       "      <td>cd2.1</td>\n",
       "      <td>test</td>\n",
       "      <td>{'nummode': 2, 'boundaries': 'Periodic', 'wind...</td>\n",
       "      <td>{'tcom_name': 'tcom', 'tios2cdf_name': 'tios2c...</td>\n",
       "      <td>...</td>\n",
       "      <td>611.403570</td>\n",
       "      <td>0.545854</td>\n",
       "      <td>0.267445</td>\n",
       "      <td>0.289337</td>\n",
       "      <td>0.519428</td>\n",
       "      <td>0.559440</td>\n",
       "      <td>cd2.1</td>\n",
       "      <td>finished</td>\n",
       "      <td>[]</td>\n",
       "      <td>https://wandb.ai/sdat2/seager19/runs/38x0f2kg</td>\n",
       "    </tr>\n",
       "    <tr>\n",
       "      <th>6</th>\n",
       "      <td>True</td>\n",
       "      <td>{'k_days': 10, 'e_frac': 2.0, 'prcp_land': 1, ...</td>\n",
       "      <td>True</td>\n",
       "      <td>{'c_d': 0.0012, 'rho_air': 1.225, 'iterations'...</td>\n",
       "      <td>gcc version 4.8.5 20150623 (Red Hat 4.8.5-44) ...</td>\n",
       "      <td>gcc version 4.8.5 20150623 (Red Hat 4.8.5-44) ...</td>\n",
       "      <td>cd_1.2</td>\n",
       "      <td>test</td>\n",
       "      <td>{'nummode': 2, 'boundaries': 'Periodic', 'wind...</td>\n",
       "      <td>{'tcom_name': 'tcom', 'tios2cdf_name': 'tios2c...</td>\n",
       "      <td>...</td>\n",
       "      <td>1536.788786</td>\n",
       "      <td>0.560243</td>\n",
       "      <td>0.375186</td>\n",
       "      <td>0.375603</td>\n",
       "      <td>0.541339</td>\n",
       "      <td>0.568021</td>\n",
       "      <td>cd_1.2</td>\n",
       "      <td>finished</td>\n",
       "      <td>[]</td>\n",
       "      <td>https://wandb.ai/sdat2/seager19/runs/3a4idlie</td>\n",
       "    </tr>\n",
       "    <tr>\n",
       "      <th>7</th>\n",
       "      <td>True</td>\n",
       "      <td>{'k_days': 10, 'e_frac': 2.0, 'prcp_land': 1, ...</td>\n",
       "      <td>True</td>\n",
       "      <td>{'c_d': 0.0027, 'rho_air': 1.225, 'iterations'...</td>\n",
       "      <td>gcc version 4.8.5 20150623 (Red Hat 4.8.5-44) ...</td>\n",
       "      <td>gcc version 4.8.5 20150623 (Red Hat 4.8.5-44) ...</td>\n",
       "      <td>cd_2.7</td>\n",
       "      <td>test</td>\n",
       "      <td>{'nummode': 2, 'boundaries': 'Periodic', 'wind...</td>\n",
       "      <td>{'tcom_name': 'tcom', 'tios2cdf_name': 'tios2c...</td>\n",
       "      <td>...</td>\n",
       "      <td>1534.777277</td>\n",
       "      <td>0.561919</td>\n",
       "      <td>0.200153</td>\n",
       "      <td>0.221862</td>\n",
       "      <td>0.500907</td>\n",
       "      <td>0.554369</td>\n",
       "      <td>cd_2.7</td>\n",
       "      <td>finished</td>\n",
       "      <td>[]</td>\n",
       "      <td>https://wandb.ai/sdat2/seager19/runs/1vre85tn</td>\n",
       "    </tr>\n",
       "    <tr>\n",
       "      <th>8</th>\n",
       "      <td>True</td>\n",
       "      <td>{'k_days': 10, 'e_frac': 2.0, 'prcp_land': 1, ...</td>\n",
       "      <td>True</td>\n",
       "      <td>{'c_d': 0.00225, 'rho_air': 1.225, 'iterations...</td>\n",
       "      <td>gcc version 4.8.5 20150623 (Red Hat 4.8.5-44) ...</td>\n",
       "      <td>gcc version 4.8.5 20150623 (Red Hat 4.8.5-44) ...</td>\n",
       "      <td>cd_norm</td>\n",
       "      <td>test</td>\n",
       "      <td>{'nummode': 2, 'boundaries': 'Periodic', 'wind...</td>\n",
       "      <td>{'tcom_name': 'tcom', 'tios2cdf_name': 'tios2c...</td>\n",
       "      <td>...</td>\n",
       "      <td>1416.614244</td>\n",
       "      <td>0.548096</td>\n",
       "      <td>0.250295</td>\n",
       "      <td>0.273214</td>\n",
       "      <td>0.515109</td>\n",
       "      <td>0.558128</td>\n",
       "      <td>cd_norm</td>\n",
       "      <td>finished</td>\n",
       "      <td>[]</td>\n",
       "      <td>https://wandb.ai/sdat2/seager19/runs/3ke8yisi</td>\n",
       "    </tr>\n",
       "    <tr>\n",
       "      <th>9</th>\n",
       "      <td>True</td>\n",
       "      <td>{'k_days': 10, 'e_frac': 2.0, 'prcp_land': 1, ...</td>\n",
       "      <td>True</td>\n",
       "      <td>{'c_d': 0.0014, 'rho_air': 1.225, 'iterations'...</td>\n",
       "      <td>gcc version 4.8.5 20150623 (Red Hat 4.8.5-44) ...</td>\n",
       "      <td>gcc version 4.8.5 20150623 (Red Hat 4.8.5-44) ...</td>\n",
       "      <td>cd_1.4</td>\n",
       "      <td>test</td>\n",
       "      <td>{'nummode': 2, 'boundaries': 'Periodic', 'wind...</td>\n",
       "      <td>{'tcom_name': 'tcom', 'tios2cdf_name': 'tios2c...</td>\n",
       "      <td>...</td>\n",
       "      <td>1408.525637</td>\n",
       "      <td>0.552706</td>\n",
       "      <td>0.350710</td>\n",
       "      <td>0.357990</td>\n",
       "      <td>0.537039</td>\n",
       "      <td>0.566020</td>\n",
       "      <td>cd_1.4</td>\n",
       "      <td>finished</td>\n",
       "      <td>[]</td>\n",
       "      <td>https://wandb.ai/sdat2/seager19/runs/2um7xc7h</td>\n",
       "    </tr>\n",
       "  </tbody>\n",
       "</table>\n",
       "<p>5 rows × 35 columns</p>\n",
       "</div>"
      ],
      "text/plain": [
       "   config_animate                                         config_atm  \\\n",
       "2            True  {'k_days': 10, 'e_frac': 2.0, 'prcp_land': 1, ...   \n",
       "6            True  {'k_days': 10, 'e_frac': 2.0, 'prcp_land': 1, ...   \n",
       "7            True  {'k_days': 10, 'e_frac': 2.0, 'prcp_land': 1, ...   \n",
       "8            True  {'k_days': 10, 'e_frac': 2.0, 'prcp_land': 1, ...   \n",
       "9            True  {'k_days': 10, 'e_frac': 2.0, 'prcp_land': 1, ...   \n",
       "\n",
       "   config_atmos                                        config_coup  \\\n",
       "2          True  {'c_d': 0.0021, 'rho_air': 1.225, 'iterations'...   \n",
       "6          True  {'c_d': 0.0012, 'rho_air': 1.225, 'iterations'...   \n",
       "7          True  {'c_d': 0.0027, 'rho_air': 1.225, 'iterations'...   \n",
       "8          True  {'c_d': 0.00225, 'rho_air': 1.225, 'iterations...   \n",
       "9          True  {'c_d': 0.0014, 'rho_air': 1.225, 'iterations'...   \n",
       "\n",
       "                                          config_gcc  \\\n",
       "2  gcc version 4.8.5 20150623 (Red Hat 4.8.5-44) ...   \n",
       "6  gcc version 4.8.5 20150623 (Red Hat 4.8.5-44) ...   \n",
       "7  gcc version 4.8.5 20150623 (Red Hat 4.8.5-44) ...   \n",
       "8  gcc version 4.8.5 20150623 (Red Hat 4.8.5-44) ...   \n",
       "9  gcc version 4.8.5 20150623 (Red Hat 4.8.5-44) ...   \n",
       "\n",
       "                                     config_gfortran config_name config_notes  \\\n",
       "2  gcc version 4.8.5 20150623 (Red Hat 4.8.5-44) ...       cd2.1         test   \n",
       "6  gcc version 4.8.5 20150623 (Red Hat 4.8.5-44) ...      cd_1.2         test   \n",
       "7  gcc version 4.8.5 20150623 (Red Hat 4.8.5-44) ...      cd_2.7         test   \n",
       "8  gcc version 4.8.5 20150623 (Red Hat 4.8.5-44) ...     cd_norm         test   \n",
       "9  gcc version 4.8.5 20150623 (Red Hat 4.8.5-44) ...      cd_1.4         test   \n",
       "\n",
       "                                           config_oc  \\\n",
       "2  {'nummode': 2, 'boundaries': 'Periodic', 'wind...   \n",
       "6  {'nummode': 2, 'boundaries': 'Periodic', 'wind...   \n",
       "7  {'nummode': 2, 'boundaries': 'Periodic', 'wind...   \n",
       "8  {'nummode': 2, 'boundaries': 'Periodic', 'wind...   \n",
       "9  {'nummode': 2, 'boundaries': 'Periodic', 'wind...   \n",
       "\n",
       "                                        config_ocean  ... end_ocean_run  \\\n",
       "2  {'tcom_name': 'tcom', 'tios2cdf_name': 'tios2c...  ...    611.403570   \n",
       "6  {'tcom_name': 'tcom', 'tios2cdf_name': 'tios2c...  ...   1536.788786   \n",
       "7  {'tcom_name': 'tcom', 'tios2cdf_name': 'tios2c...  ...   1534.777277   \n",
       "8  {'tcom_name': 'tcom', 'tios2cdf_name': 'tios2c...  ...   1416.614244   \n",
       "9  {'tcom_name': 'tcom', 'tios2cdf_name': 'tios2c...  ...   1408.525637   \n",
       "\n",
       "   end_trend_nino1+2  end_trend_nino3 end_trend_nino3.4 end_trend_nino4  \\\n",
       "2           0.545854         0.267445          0.289337        0.519428   \n",
       "6           0.560243         0.375186          0.375603        0.541339   \n",
       "7           0.561919         0.200153          0.221862        0.500907   \n",
       "8           0.548096         0.250295          0.273214        0.515109   \n",
       "9           0.552706         0.350710          0.357990        0.537039   \n",
       "\n",
       "  end_trend_pac     name     state  tags  \\\n",
       "2      0.559440    cd2.1  finished    []   \n",
       "6      0.568021   cd_1.2  finished    []   \n",
       "7      0.554369   cd_2.7  finished    []   \n",
       "8      0.558128  cd_norm  finished    []   \n",
       "9      0.566020   cd_1.4  finished    []   \n",
       "\n",
       "                                             url  \n",
       "2  https://wandb.ai/sdat2/seager19/runs/38x0f2kg  \n",
       "6  https://wandb.ai/sdat2/seager19/runs/3a4idlie  \n",
       "7  https://wandb.ai/sdat2/seager19/runs/1vre85tn  \n",
       "8  https://wandb.ai/sdat2/seager19/runs/3ke8yisi  \n",
       "9  https://wandb.ai/sdat2/seager19/runs/2um7xc7h  \n",
       "\n",
       "[5 rows x 35 columns]"
      ]
     },
     "execution_count": 12,
     "metadata": {},
     "output_type": "execute_result"
    }
   ],
   "source": [
    "df_filtered[df_filtered[\"state\"] == \"finished\"]"
   ]
  },
  {
   "cell_type": "code",
   "execution_count": 23,
   "id": "51afcff0",
   "metadata": {
    "ExecuteTime": {
     "end_time": "2021-06-17T20:12:32.834412Z",
     "start_time": "2021-06-17T20:12:32.723873Z"
    }
   },
   "outputs": [
    {
     "data": {
      "text/plain": [
       "0.0021"
      ]
     },
     "execution_count": 23,
     "metadata": {},
     "output_type": "execute_result"
    }
   ],
   "source": [
    "eval(df_filtered[df_filtered[\"state\"] == \"finished\"][\"config_coup\"][2])[\"c_d\"]"
   ]
  },
  {
   "cell_type": "code",
   "execution_count": 70,
   "id": "12332c1a",
   "metadata": {
    "ExecuteTime": {
     "end_time": "2021-06-17T21:19:13.004401Z",
     "start_time": "2021-06-17T21:19:12.514473Z"
    }
   },
   "outputs": [
    {
     "data": {
      "text/plain": [
       "Text(0, 0.5, 'Trend over nino3.4 region [K]')"
      ]
     },
     "execution_count": 70,
     "metadata": {},
     "output_type": "execute_result"
    },
    {
     "data": {
      "image/png": "[encoded data removed]",
      "text/plain": [
       "<Figure size 826.772x510.973 with 1 Axes>"
      ]
     },
     "metadata": {},
     "output_type": "display_data"
    }
   ],
   "source": [
    "cd_list = list()\n",
    "\n",
    "for coup_dict_str in df_filtered[df_filtered[\"state\"] == \"finished\"][\"config_coup\"]:\n",
    "    coup_dict = eval(coup_dict_str)\n",
    "    cd_list.append(coup_dict['c_d'])\n",
    "\n",
    "nino_34_list = df_filtered[df_filtered[\"state\"] == \"finished\"]['end_trend_nino3.4'].tolist()\n",
    "\n",
    "plt.scatter(cd_list, nino_34_list)\n",
    "\n",
    "param, func = fit(cd_list, nino_34_list)\n",
    "x_pred = np.linspace(min(cd_list)-1e-4, max(cd_list)+1e-4, num=50)\n",
    "y_pred = func(x_pred)\n",
    "plt.plot(x_pred, y_pred, label=\"y = ({:2.1f}\".format(param[0]) + \")$x$  +  {:2.2f}\".format(param[1]))\n",
    "plt.legend()\n",
    "\n",
    "plt.xlabel(\"$C_d$ [dimensionless]\")\n",
    "plt.ylabel(r\"Trend over nino3.4 region [K]\")"
   ]
  },
  {
   "cell_type": "code",
   "execution_count": 33,
   "id": "1f305326",
   "metadata": {
    "ExecuteTime": {
     "end_time": "2021-06-17T20:16:14.165827Z",
     "start_time": "2021-06-17T20:16:13.552983Z"
    }
   },
   "outputs": [
    {
     "data": {
      "text/plain": [
       "[0.2893372901599713,\n",
       " 0.3756030916768101,\n",
       " 0.2218623636697925,\n",
       " 0.2732137618555352,\n",
       " 0.3579899903177476]"
      ]
     },
     "execution_count": 33,
     "metadata": {},
     "output_type": "execute_result"
    }
   ],
   "source": [
    "df_filtered[df_filtered[\"state\"] == \"finished\"]['end_trend_nino3.4'].tolist()"
   ]
  },
  {
   "cell_type": "code",
   "execution_count": 45,
   "id": "d6be67dc",
   "metadata": {
    "ExecuteTime": {
     "end_time": "2021-06-17T21:07:55.847429Z",
     "start_time": "2021-06-17T21:07:55.750381Z"
    }
   },
   "outputs": [],
   "source": [
    "from src.models.linear import fit"
   ]
  },
  {
   "cell_type": "code",
   "execution_count": 46,
   "id": "669bb0ba",
   "metadata": {
    "ExecuteTime": {
     "end_time": "2021-06-17T21:07:56.497407Z",
     "start_time": "2021-06-17T21:07:56.445446Z"
    }
   },
   "outputs": [],
   "source": [
    "param, func = fit(cd_list, nino_34_list)"
   ]
  },
  {
   "cell_type": "code",
   "execution_count": 47,
   "id": "d21e1682",
   "metadata": {
    "ExecuteTime": {
     "end_time": "2021-06-17T21:07:58.315222Z",
     "start_time": "2021-06-17T21:07:58.240613Z"
    }
   },
   "outputs": [
    {
     "data": {
      "text/plain": [
       "array([-101.73939439678333+/-2.5842905236199925,\n",
       "       0.4999583307204756+/-0.005189535953965309], dtype=object)"
      ]
     },
     "execution_count": 47,
     "metadata": {},
     "output_type": "execute_result"
    }
   ],
   "source": [
    "param"
   ]
  },
  {
   "cell_type": "code",
   "execution_count": 49,
   "id": "d5d51285",
   "metadata": {
    "ExecuteTime": {
     "end_time": "2021-06-17T21:09:10.639417Z",
     "start_time": "2021-06-17T21:09:09.926223Z"
    }
   },
   "outputs": [
    {
     "data": {
      "text/plain": [
       "array([-0.00303169,  0.00226797,  0.0033996 , -0.00216907, -0.00046681])"
      ]
     },
     "execution_count": 49,
     "metadata": {},
     "output_type": "execute_result"
    }
   ],
   "source": [
    "func(cd_list) - np.array(nino_34_list)"
   ]
  },
  {
   "cell_type": "code",
   "execution_count": 64,
   "id": "3c756f05",
   "metadata": {
    "ExecuteTime": {
     "end_time": "2021-06-17T21:17:03.058433Z",
     "start_time": "2021-06-17T21:17:02.022867Z"
    }
   },
   "outputs": [
    {
     "data": {
      "text/plain": [
       "<matplotlib.legend.Legend at 0x7f1d5a9c8ee0>"
      ]
     },
     "execution_count": 64,
     "metadata": {},
     "output_type": "execute_result"
    },
    {
     "data": {
      "image/png": "[encoded data removed]",
      "text/plain": [
       "<Figure size 826.772x510.973 with 1 Axes>"
      ]
     },
     "metadata": {},
     "output_type": "display_data"
    }
   ],
   "source": [
    "param, func = fit(cd_list, nino_34_list)\n",
    "x_pred = np.linspace(min(cd_list), max(cd_list), num=50)\n",
    "y_pred = func(x_pred)\n",
    "plt.plot(x_pred, y_pred, label=\"y = ({:1.2f}\".format(param[0]) + \")$x$  +  {:1.2}\".format(param[1]))\n",
    "plt.legend()"
   ]
  },
  {
   "cell_type": "code",
   "execution_count": null,
   "id": "4eebf14a",
   "metadata": {},
   "outputs": [],
   "source": []
  }
 ],
 "metadata": {
  "hide_input": false,
  "kernelspec": {
   "display_name": "Python 3",
   "language": "python",
   "name": "python3"
  },
  "language_info": {
   "codemirror_mode": {
    "name": "ipython",
    "version": 3
   },
   "file_extension": ".py",
   "mimetype": "text/x-python",
   "name": "python",
   "nbconvert_exporter": "python",
   "pygments_lexer": "ipython3",
   "version": "3.8.8"
  },
  "varInspector": {
   "cols": {
    "lenName": 16,
    "lenType": 16,
    "lenVar": 40
   },
   "kernels_config": {
    "python": {
     "delete_cmd_postfix": "",
     "delete_cmd_prefix": "del ",
     "library": "var_list.py",
     "varRefreshCmd": "print(var_dic_list())"
    },
    "r": {
     "delete_cmd_postfix": ") ",
     "delete_cmd_prefix": "rm(",
     "library": "var_list.r",
     "varRefreshCmd": "cat(var_dic_list()) "
    }
   },
   "types_to_exclude": [
    "module",
    "function",
    "builtin_function_or_method",
    "instance",
    "_Feature"
   ],
   "window_display": false
  }
 },
 "nbformat": 4,
 "nbformat_minor": 5
}
