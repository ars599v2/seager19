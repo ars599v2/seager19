{
 "cells": [
  {
   "cell_type": "markdown",
   "id": "6ca79463",
   "metadata": {},
   "source": [
    "# Analysis"
   ]
  },
  {
   "cell_type": "code",
   "execution_count": 1,
   "id": "a6f3d9fc",
   "metadata": {
    "ExecuteTime": {
     "end_time": "2021-04-14T21:23:12.145584Z",
     "start_time": "2021-04-14T21:23:12.064437Z"
    }
   },
   "outputs": [],
   "source": [
    "# Convenient jupyter setup\n",
    "%load_ext autoreload\n",
    "%autoreload 2\n",
    "%config IPCompleter.greedy=True"
   ]
  },
  {
   "cell_type": "code",
   "execution_count": 2,
   "id": "dd9696a5",
   "metadata": {
    "ExecuteTime": {
     "end_time": "2021-04-14T21:23:25.880010Z",
     "start_time": "2021-04-14T21:23:20.283826Z"
    }
   },
   "outputs": [],
   "source": [
    "# set up plotting settings for dark mode.\n",
    "from jupyterthemes import jtplot\n",
    "jtplot.style(theme=\"grade3\", context=\"notebook\", ticks=True, grid=False)\n",
    "from src.plot_settings import ps_defaults\n",
    "ps_defaults(use_tex=False, dpi=150)"
   ]
  },
  {
   "cell_type": "code",
   "execution_count": 3,
   "id": "90d762b4",
   "metadata": {
    "ExecuteTime": {
     "end_time": "2021-04-14T21:25:54.289202Z",
     "start_time": "2021-04-14T21:25:51.500779Z"
    }
   },
   "outputs": [],
   "source": [
    "import os\n",
    "import time\n",
    "import xarray as xr\n",
    "import wandb\n",
    "import logging\n",
    "import hydra\n",
    "from omegaconf import DictConfig, OmegaConf\n",
    "from src.constants import (\n",
    "    FIGURE_PATH,\n",
    "    OCEAN_DATA_PATH,\n",
    "    OCEAN_OUTPUT_PATH,\n",
    "    SRC_PATH,\n",
    "    OCEAN_RUN_PATH,\n",
    "    OCEAN_SRC_PATH,\n",
    "    PROJECT_PATH,\n",
    ")"
   ]
  },
  {
   "cell_type": "code",
   "execution_count": 7,
   "id": "763282e3",
   "metadata": {
    "ExecuteTime": {
     "end_time": "2021-04-14T21:27:46.769129Z",
     "start_time": "2021-04-14T21:27:46.560315Z"
    }
   },
   "outputs": [],
   "source": [
    "@hydra.main(config_path=os.path.join(SRC_PATH, \"configs\"), config_name=\"config\")\n",
    "def trial(cfg):\n",
    "    print(cfg)"
   ]
  },
  {
   "cell_type": "code",
   "execution_count": 8,
   "id": "b628e37c",
   "metadata": {
    "ExecuteTime": {
     "end_time": "2021-04-14T21:27:52.605167Z",
     "start_time": "2021-04-14T21:27:52.151353Z"
    }
   },
   "outputs": [
    {
     "name": "stderr",
     "output_type": "stream",
     "text": [
      "usage: ipykernel_launcher.py [--help]\n",
      "                             [--hydra-help]\n",
      "                             [--version]\n",
      "                             [--cfg {job,hydra,all}]\n",
      "                             [--package PACKAGE]\n",
      "                             [--run]\n",
      "                             [--multirun]\n",
      "                             [--shell-completion]\n",
      "                             [--config-path CONFIG_PATH]\n",
      "                             [--config-name CONFIG_NAME]\n",
      "                             [--config-dir CONFIG_DIR]\n",
      "                             [--info]\n",
      "                             [overrides [overrides ...]]\n",
      "ipykernel_launcher.py: error: unrecognized arguments: -f\n"
     ]
    },
    {
     "ename": "SystemExit",
     "evalue": "2",
     "output_type": "error",
     "traceback": [
      "An exception has occurred, use %tb to see the full traceback.\n",
      "\u001b[0;31mSystemExit\u001b[0m\u001b[0;31m:\u001b[0m 2\n"
     ]
    },
    {
     "name": "stderr",
     "output_type": "stream",
     "text": [
      "/home/users/sithom/test/seager19/env/lib/python3.8/site-packages/IPython/core/interactiveshell.py:3445: UserWarning: To exit: use 'exit', 'quit', or Ctrl-D.\n",
      "  warn(\"To exit: use 'exit', 'quit', or Ctrl-D.\", stacklevel=1)\n"
     ]
    }
   ],
   "source": [
    "trial()"
   ]
  },
  {
   "cell_type": "code",
   "execution_count": null,
   "id": "26a63508",
   "metadata": {},
   "outputs": [],
   "source": []
  }
 ],
 "metadata": {
  "hide_input": false,
  "kernelspec": {
   "display_name": "Python 3",
   "language": "python",
   "name": "python3"
  },
  "language_info": {
   "codemirror_mode": {
    "name": "ipython",
    "version": 3
   },
   "file_extension": ".py",
   "mimetype": "text/x-python",
   "name": "python",
   "nbconvert_exporter": "python",
   "pygments_lexer": "ipython3",
   "version": "3.8.8"
  },
  "varInspector": {
   "cols": {
    "lenName": 16,
    "lenType": 16,
    "lenVar": 40
   },
   "kernels_config": {
    "python": {
     "delete_cmd_postfix": "",
     "delete_cmd_prefix": "del ",
     "library": "var_list.py",
     "varRefreshCmd": "print(var_dic_list())"
    },
    "r": {
     "delete_cmd_postfix": ") ",
     "delete_cmd_prefix": "rm(",
     "library": "var_list.r",
     "varRefreshCmd": "cat(var_dic_list()) "
    }
   },
   "types_to_exclude": [
    "module",
    "function",
    "builtin_function_or_method",
    "instance",
    "_Feature"
   ],
   "window_display": false
  }
 },
 "nbformat": 4,
 "nbformat_minor": 5
}
