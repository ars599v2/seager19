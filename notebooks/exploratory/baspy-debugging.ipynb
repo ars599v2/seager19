{
 "cells": [
  {
   "cell_type": "markdown",
   "id": "6ca79463",
   "metadata": {},
   "source": [
    "# Analysis"
   ]
  },
  {
   "cell_type": "code",
   "execution_count": 1,
   "id": "a6f3d9fc",
   "metadata": {
    "ExecuteTime": {
     "end_time": "2022-03-02T11:45:36.249745Z",
     "start_time": "2022-03-02T11:45:36.227302Z"
    }
   },
   "outputs": [],
   "source": [
    "# Convenient jupyter setup\n",
    "%load_ext autoreload\n",
    "%autoreload 2\n",
    "%config IPCompleter.greedy=True"
   ]
  },
  {
   "cell_type": "code",
   "execution_count": 2,
   "id": "dd9696a5",
   "metadata": {
    "ExecuteTime": {
     "end_time": "2022-03-02T11:45:40.596248Z",
     "start_time": "2022-03-02T11:45:36.791479Z"
    }
   },
   "outputs": [],
   "source": [
    "# set up plotting settings for dark mode.\n",
    "from jupyterthemes import jtplot\n",
    "jtplot.style(theme=\"grade3\", context=\"notebook\", ticks=True, grid=False)\n",
    "from src.plot_utils import ps_defaults\n",
    "ps_defaults(use_tex=False, dpi=150)"
   ]
  },
  {
   "cell_type": "code",
   "execution_count": 27,
   "id": "912bbb73",
   "metadata": {
    "ExecuteTime": {
     "end_time": "2022-03-02T12:58:20.793006Z",
     "start_time": "2022-03-02T12:57:57.173422Z"
    }
   },
   "outputs": [
    {
     "ename": "KeyboardInterrupt",
     "evalue": "",
     "output_type": "error",
     "traceback": [
      "\u001b[0;31m---------------------------------------------------------------------------\u001b[0m",
      "\u001b[0;31mKeyError\u001b[0m                                  Traceback (most recent call last)",
      "File \u001b[0;32m~/seager19/env/lib/python3.8/site-packages/xarray/backends/file_manager.py:199\u001b[0m, in \u001b[0;36mCachingFileManager._acquire_with_cache_info\u001b[0;34m(self, needs_lock)\u001b[0m\n\u001b[1;32m    198\u001b[0m \u001b[38;5;28;01mtry\u001b[39;00m:\n\u001b[0;32m--> 199\u001b[0m     file \u001b[38;5;241m=\u001b[39m \u001b[38;5;28;43mself\u001b[39;49m\u001b[38;5;241;43m.\u001b[39;49m\u001b[43m_cache\u001b[49m\u001b[43m[\u001b[49m\u001b[38;5;28;43mself\u001b[39;49m\u001b[38;5;241;43m.\u001b[39;49m\u001b[43m_key\u001b[49m\u001b[43m]\u001b[49m\n\u001b[1;32m    200\u001b[0m \u001b[38;5;28;01mexcept\u001b[39;00m \u001b[38;5;167;01mKeyError\u001b[39;00m:\n",
      "File \u001b[0;32m~/seager19/env/lib/python3.8/site-packages/xarray/backends/lru_cache.py:53\u001b[0m, in \u001b[0;36mLRUCache.__getitem__\u001b[0;34m(self, key)\u001b[0m\n\u001b[1;32m     52\u001b[0m \u001b[38;5;28;01mwith\u001b[39;00m \u001b[38;5;28mself\u001b[39m\u001b[38;5;241m.\u001b[39m_lock:\n\u001b[0;32m---> 53\u001b[0m     value \u001b[38;5;241m=\u001b[39m \u001b[38;5;28;43mself\u001b[39;49m\u001b[38;5;241;43m.\u001b[39;49m\u001b[43m_cache\u001b[49m\u001b[43m[\u001b[49m\u001b[43mkey\u001b[49m\u001b[43m]\u001b[49m\n\u001b[1;32m     54\u001b[0m     \u001b[38;5;28mself\u001b[39m\u001b[38;5;241m.\u001b[39m_cache\u001b[38;5;241m.\u001b[39mmove_to_end(key)\n",
      "\u001b[0;31mKeyError\u001b[0m: [<class 'netCDF4._netCDF4.Dataset'>, ('/badc/cmip5/data/cmip5/output1/CNRM-CERFACS/CNRM-CM5-2/historical/mon/atmos/Amon/r1i1p1/v20130401/ts/ts_Amon_CNRM-CM5-2_historical_r1i1p1_195001-199912.nc',), 'r', (('clobber', True), ('diskless', False), ('format', 'NETCDF4'), ('persist', False))]",
      "\nDuring handling of the above exception, another exception occurred:\n",
      "\u001b[0;31mKeyboardInterrupt\u001b[0m                         Traceback (most recent call last)",
      "Input \u001b[0;32mIn [27]\u001b[0m, in \u001b[0;36m<module>\u001b[0;34m\u001b[0m\n\u001b[1;32m     13\u001b[0m \u001b[38;5;66;03m### Iterate over rows in catalogue\u001b[39;00m\n\u001b[1;32m     14\u001b[0m \u001b[38;5;28;01mfor\u001b[39;00m index, row \u001b[38;5;129;01min\u001b[39;00m df\u001b[38;5;241m.\u001b[39miterrows():\n\u001b[1;32m     15\u001b[0m \n\u001b[1;32m     16\u001b[0m     \u001b[38;5;66;03m### In Xarray\u001b[39;00m\n\u001b[0;32m---> 17\u001b[0m     ds \u001b[38;5;241m=\u001b[39m \u001b[43mbp\u001b[49m\u001b[38;5;241;43m.\u001b[39;49m\u001b[43mopen_dataset\u001b[49m\u001b[43m(\u001b[49m\u001b[43mrow\u001b[49m\u001b[43m)\u001b[49m\n",
      "File \u001b[0;32m~/PYTHON/baspy/baspy/_xarray/__init__.py:11\u001b[0m, in \u001b[0;36mopen_dataset\u001b[0;34m(df)\u001b[0m\n\u001b[1;32m      9\u001b[0m     ds \u001b[38;5;241m=\u001b[39m xr\u001b[38;5;241m.\u001b[39mopen_dataset(files[\u001b[38;5;241m0\u001b[39m])\n\u001b[1;32m     10\u001b[0m \u001b[38;5;28;01melse\u001b[39;00m:\n\u001b[0;32m---> 11\u001b[0m     ds \u001b[38;5;241m=\u001b[39m \u001b[43mxr\u001b[49m\u001b[38;5;241;43m.\u001b[39;49m\u001b[43mopen_mfdataset\u001b[49m\u001b[43m(\u001b[49m\u001b[43mfiles\u001b[49m\u001b[43m)\u001b[49m\n\u001b[1;32m     12\u001b[0m \u001b[38;5;28;01mreturn\u001b[39;00m ds\n",
      "File \u001b[0;32m~/seager19/env/lib/python3.8/site-packages/xarray/backends/api.py:940\u001b[0m, in \u001b[0;36mopen_mfdataset\u001b[0;34m(paths, chunks, concat_dim, compat, preprocess, engine, lock, data_vars, coords, combine, parallel, join, attrs_file, **kwargs)\u001b[0m\n\u001b[1;32m    937\u001b[0m     open_ \u001b[38;5;241m=\u001b[39m open_dataset\n\u001b[1;32m    938\u001b[0m     getattr_ \u001b[38;5;241m=\u001b[39m \u001b[38;5;28mgetattr\u001b[39m\n\u001b[0;32m--> 940\u001b[0m datasets \u001b[38;5;241m=\u001b[39m [open_(p, \u001b[38;5;241m*\u001b[39m\u001b[38;5;241m*\u001b[39mopen_kwargs) \u001b[38;5;28;01mfor\u001b[39;00m p \u001b[38;5;129;01min\u001b[39;00m paths]\n\u001b[1;32m    941\u001b[0m closers \u001b[38;5;241m=\u001b[39m [getattr_(ds, \u001b[38;5;124m\"\u001b[39m\u001b[38;5;124m_close\u001b[39m\u001b[38;5;124m\"\u001b[39m) \u001b[38;5;28;01mfor\u001b[39;00m ds \u001b[38;5;129;01min\u001b[39;00m datasets]\n\u001b[1;32m    942\u001b[0m \u001b[38;5;28;01mif\u001b[39;00m preprocess \u001b[38;5;129;01mis\u001b[39;00m \u001b[38;5;129;01mnot\u001b[39;00m \u001b[38;5;28;01mNone\u001b[39;00m:\n",
      "File \u001b[0;32m~/seager19/env/lib/python3.8/site-packages/xarray/backends/api.py:940\u001b[0m, in \u001b[0;36m<listcomp>\u001b[0;34m(.0)\u001b[0m\n\u001b[1;32m    937\u001b[0m     open_ \u001b[38;5;241m=\u001b[39m open_dataset\n\u001b[1;32m    938\u001b[0m     getattr_ \u001b[38;5;241m=\u001b[39m \u001b[38;5;28mgetattr\u001b[39m\n\u001b[0;32m--> 940\u001b[0m datasets \u001b[38;5;241m=\u001b[39m [\u001b[43mopen_\u001b[49m\u001b[43m(\u001b[49m\u001b[43mp\u001b[49m\u001b[43m,\u001b[49m\u001b[43m \u001b[49m\u001b[38;5;241;43m*\u001b[39;49m\u001b[38;5;241;43m*\u001b[39;49m\u001b[43mopen_kwargs\u001b[49m\u001b[43m)\u001b[49m \u001b[38;5;28;01mfor\u001b[39;00m p \u001b[38;5;129;01min\u001b[39;00m paths]\n\u001b[1;32m    941\u001b[0m closers \u001b[38;5;241m=\u001b[39m [getattr_(ds, \u001b[38;5;124m\"\u001b[39m\u001b[38;5;124m_close\u001b[39m\u001b[38;5;124m\"\u001b[39m) \u001b[38;5;28;01mfor\u001b[39;00m ds \u001b[38;5;129;01min\u001b[39;00m datasets]\n\u001b[1;32m    942\u001b[0m \u001b[38;5;28;01mif\u001b[39;00m preprocess \u001b[38;5;129;01mis\u001b[39;00m \u001b[38;5;129;01mnot\u001b[39;00m \u001b[38;5;28;01mNone\u001b[39;00m:\n",
      "File \u001b[0;32m~/seager19/env/lib/python3.8/site-packages/xarray/backends/api.py:554\u001b[0m, in \u001b[0;36mopen_dataset\u001b[0;34m(filename_or_obj, group, decode_cf, mask_and_scale, decode_times, concat_characters, decode_coords, engine, chunks, lock, cache, drop_variables, backend_kwargs, use_cftime, decode_timedelta)\u001b[0m\n\u001b[1;32m    549\u001b[0m         overwrite_encoded_chunks \u001b[38;5;241m=\u001b[39m backend_kwargs\u001b[38;5;241m.\u001b[39mpop(\n\u001b[1;32m    550\u001b[0m             \u001b[38;5;124m\"\u001b[39m\u001b[38;5;124moverwrite_encoded_chunks\u001b[39m\u001b[38;5;124m\"\u001b[39m, \u001b[38;5;28;01mNone\u001b[39;00m\n\u001b[1;32m    551\u001b[0m         )\n\u001b[1;32m    553\u001b[0m     opener \u001b[38;5;241m=\u001b[39m _get_backend_cls(engine)\n\u001b[0;32m--> 554\u001b[0m     store \u001b[38;5;241m=\u001b[39m \u001b[43mopener\u001b[49m\u001b[43m(\u001b[49m\u001b[43mfilename_or_obj\u001b[49m\u001b[43m,\u001b[49m\u001b[43m \u001b[49m\u001b[38;5;241;43m*\u001b[39;49m\u001b[38;5;241;43m*\u001b[39;49m\u001b[43mextra_kwargs\u001b[49m\u001b[43m,\u001b[49m\u001b[43m \u001b[49m\u001b[38;5;241;43m*\u001b[39;49m\u001b[38;5;241;43m*\u001b[39;49m\u001b[43mbackend_kwargs\u001b[49m\u001b[43m)\u001b[49m\n\u001b[1;32m    556\u001b[0m \u001b[38;5;28;01mwith\u001b[39;00m close_on_error(store):\n\u001b[1;32m    557\u001b[0m     ds \u001b[38;5;241m=\u001b[39m maybe_decode_store(store, chunks)\n",
      "File \u001b[0;32m~/seager19/env/lib/python3.8/site-packages/xarray/backends/netCDF4_.py:378\u001b[0m, in \u001b[0;36mNetCDF4DataStore.open\u001b[0;34m(cls, filename, mode, format, group, clobber, diskless, persist, lock, lock_maker, autoclose)\u001b[0m\n\u001b[1;32m    372\u001b[0m kwargs \u001b[38;5;241m=\u001b[39m \u001b[38;5;28mdict\u001b[39m(\n\u001b[1;32m    373\u001b[0m     clobber\u001b[38;5;241m=\u001b[39mclobber, diskless\u001b[38;5;241m=\u001b[39mdiskless, persist\u001b[38;5;241m=\u001b[39mpersist, \u001b[38;5;28mformat\u001b[39m\u001b[38;5;241m=\u001b[39m\u001b[38;5;28mformat\u001b[39m\n\u001b[1;32m    374\u001b[0m )\n\u001b[1;32m    375\u001b[0m manager \u001b[38;5;241m=\u001b[39m CachingFileManager(\n\u001b[1;32m    376\u001b[0m     netCDF4\u001b[38;5;241m.\u001b[39mDataset, filename, mode\u001b[38;5;241m=\u001b[39mmode, kwargs\u001b[38;5;241m=\u001b[39mkwargs\n\u001b[1;32m    377\u001b[0m )\n\u001b[0;32m--> 378\u001b[0m \u001b[38;5;28;01mreturn\u001b[39;00m \u001b[38;5;28;43mcls\u001b[39;49m\u001b[43m(\u001b[49m\u001b[43mmanager\u001b[49m\u001b[43m,\u001b[49m\u001b[43m \u001b[49m\u001b[43mgroup\u001b[49m\u001b[38;5;241;43m=\u001b[39;49m\u001b[43mgroup\u001b[49m\u001b[43m,\u001b[49m\u001b[43m \u001b[49m\u001b[43mmode\u001b[49m\u001b[38;5;241;43m=\u001b[39;49m\u001b[43mmode\u001b[49m\u001b[43m,\u001b[49m\u001b[43m \u001b[49m\u001b[43mlock\u001b[49m\u001b[38;5;241;43m=\u001b[39;49m\u001b[43mlock\u001b[49m\u001b[43m,\u001b[49m\u001b[43m \u001b[49m\u001b[43mautoclose\u001b[49m\u001b[38;5;241;43m=\u001b[39;49m\u001b[43mautoclose\u001b[49m\u001b[43m)\u001b[49m\n",
      "File \u001b[0;32m~/seager19/env/lib/python3.8/site-packages/xarray/backends/netCDF4_.py:326\u001b[0m, in \u001b[0;36mNetCDF4DataStore.__init__\u001b[0;34m(self, manager, group, mode, lock, autoclose)\u001b[0m\n\u001b[1;32m    324\u001b[0m \u001b[38;5;28mself\u001b[39m\u001b[38;5;241m.\u001b[39m_group \u001b[38;5;241m=\u001b[39m group\n\u001b[1;32m    325\u001b[0m \u001b[38;5;28mself\u001b[39m\u001b[38;5;241m.\u001b[39m_mode \u001b[38;5;241m=\u001b[39m mode\n\u001b[0;32m--> 326\u001b[0m \u001b[38;5;28mself\u001b[39m\u001b[38;5;241m.\u001b[39mformat \u001b[38;5;241m=\u001b[39m \u001b[38;5;28;43mself\u001b[39;49m\u001b[38;5;241;43m.\u001b[39;49m\u001b[43mds\u001b[49m\u001b[38;5;241m.\u001b[39mdata_model\n\u001b[1;32m    327\u001b[0m \u001b[38;5;28mself\u001b[39m\u001b[38;5;241m.\u001b[39m_filename \u001b[38;5;241m=\u001b[39m \u001b[38;5;28mself\u001b[39m\u001b[38;5;241m.\u001b[39mds\u001b[38;5;241m.\u001b[39mfilepath()\n\u001b[1;32m    328\u001b[0m \u001b[38;5;28mself\u001b[39m\u001b[38;5;241m.\u001b[39mis_remote \u001b[38;5;241m=\u001b[39m is_remote_uri(\u001b[38;5;28mself\u001b[39m\u001b[38;5;241m.\u001b[39m_filename)\n",
      "File \u001b[0;32m~/seager19/env/lib/python3.8/site-packages/xarray/backends/netCDF4_.py:387\u001b[0m, in \u001b[0;36mNetCDF4DataStore.ds\u001b[0;34m(self)\u001b[0m\n\u001b[1;32m    385\u001b[0m \u001b[38;5;129m@property\u001b[39m\n\u001b[1;32m    386\u001b[0m \u001b[38;5;28;01mdef\u001b[39;00m \u001b[38;5;21mds\u001b[39m(\u001b[38;5;28mself\u001b[39m):\n\u001b[0;32m--> 387\u001b[0m     \u001b[38;5;28;01mreturn\u001b[39;00m \u001b[38;5;28;43mself\u001b[39;49m\u001b[38;5;241;43m.\u001b[39;49m\u001b[43m_acquire\u001b[49m\u001b[43m(\u001b[49m\u001b[43m)\u001b[49m\n",
      "File \u001b[0;32m~/seager19/env/lib/python3.8/site-packages/xarray/backends/netCDF4_.py:381\u001b[0m, in \u001b[0;36mNetCDF4DataStore._acquire\u001b[0;34m(self, needs_lock)\u001b[0m\n\u001b[1;32m    380\u001b[0m \u001b[38;5;28;01mdef\u001b[39;00m \u001b[38;5;21m_acquire\u001b[39m(\u001b[38;5;28mself\u001b[39m, needs_lock\u001b[38;5;241m=\u001b[39m\u001b[38;5;28;01mTrue\u001b[39;00m):\n\u001b[0;32m--> 381\u001b[0m     \u001b[38;5;28;01mwith\u001b[39;00m \u001b[38;5;28mself\u001b[39m\u001b[38;5;241m.\u001b[39m_manager\u001b[38;5;241m.\u001b[39macquire_context(needs_lock) \u001b[38;5;28;01mas\u001b[39;00m root:\n\u001b[1;32m    382\u001b[0m         ds \u001b[38;5;241m=\u001b[39m _nc4_require_group(root, \u001b[38;5;28mself\u001b[39m\u001b[38;5;241m.\u001b[39m_group, \u001b[38;5;28mself\u001b[39m\u001b[38;5;241m.\u001b[39m_mode)\n\u001b[1;32m    383\u001b[0m     \u001b[38;5;28;01mreturn\u001b[39;00m ds\n",
      "File \u001b[0;32m~/seager19/env/lib/python3.8/contextlib.py:113\u001b[0m, in \u001b[0;36m_GeneratorContextManager.__enter__\u001b[0;34m(self)\u001b[0m\n\u001b[1;32m    111\u001b[0m \u001b[38;5;28;01mdel\u001b[39;00m \u001b[38;5;28mself\u001b[39m\u001b[38;5;241m.\u001b[39margs, \u001b[38;5;28mself\u001b[39m\u001b[38;5;241m.\u001b[39mkwds, \u001b[38;5;28mself\u001b[39m\u001b[38;5;241m.\u001b[39mfunc\n\u001b[1;32m    112\u001b[0m \u001b[38;5;28;01mtry\u001b[39;00m:\n\u001b[0;32m--> 113\u001b[0m     \u001b[38;5;28;01mreturn\u001b[39;00m \u001b[38;5;28;43mnext\u001b[39;49m\u001b[43m(\u001b[49m\u001b[38;5;28;43mself\u001b[39;49m\u001b[38;5;241;43m.\u001b[39;49m\u001b[43mgen\u001b[49m\u001b[43m)\u001b[49m\n\u001b[1;32m    114\u001b[0m \u001b[38;5;28;01mexcept\u001b[39;00m \u001b[38;5;167;01mStopIteration\u001b[39;00m:\n\u001b[1;32m    115\u001b[0m     \u001b[38;5;28;01mraise\u001b[39;00m \u001b[38;5;167;01mRuntimeError\u001b[39;00m(\u001b[38;5;124m\"\u001b[39m\u001b[38;5;124mgenerator didn\u001b[39m\u001b[38;5;124m'\u001b[39m\u001b[38;5;124mt yield\u001b[39m\u001b[38;5;124m\"\u001b[39m) \u001b[38;5;28;01mfrom\u001b[39;00m \u001b[38;5;28mNone\u001b[39m\n",
      "File \u001b[0;32m~/seager19/env/lib/python3.8/site-packages/xarray/backends/file_manager.py:187\u001b[0m, in \u001b[0;36mCachingFileManager.acquire_context\u001b[0;34m(self, needs_lock)\u001b[0m\n\u001b[1;32m    184\u001b[0m \u001b[38;5;129m@contextlib\u001b[39m\u001b[38;5;241m.\u001b[39mcontextmanager\n\u001b[1;32m    185\u001b[0m \u001b[38;5;28;01mdef\u001b[39;00m \u001b[38;5;21macquire_context\u001b[39m(\u001b[38;5;28mself\u001b[39m, needs_lock\u001b[38;5;241m=\u001b[39m\u001b[38;5;28;01mTrue\u001b[39;00m):\n\u001b[1;32m    186\u001b[0m     \u001b[38;5;124;03m\"\"\"Context manager for acquiring a file.\"\"\"\u001b[39;00m\n\u001b[0;32m--> 187\u001b[0m     file, cached \u001b[38;5;241m=\u001b[39m \u001b[38;5;28;43mself\u001b[39;49m\u001b[38;5;241;43m.\u001b[39;49m\u001b[43m_acquire_with_cache_info\u001b[49m\u001b[43m(\u001b[49m\u001b[43mneeds_lock\u001b[49m\u001b[43m)\u001b[49m\n\u001b[1;32m    188\u001b[0m     \u001b[38;5;28;01mtry\u001b[39;00m:\n\u001b[1;32m    189\u001b[0m         \u001b[38;5;28;01myield\u001b[39;00m file\n",
      "File \u001b[0;32m~/seager19/env/lib/python3.8/site-packages/xarray/backends/file_manager.py:205\u001b[0m, in \u001b[0;36mCachingFileManager._acquire_with_cache_info\u001b[0;34m(self, needs_lock)\u001b[0m\n\u001b[1;32m    203\u001b[0m     kwargs \u001b[38;5;241m=\u001b[39m kwargs\u001b[38;5;241m.\u001b[39mcopy()\n\u001b[1;32m    204\u001b[0m     kwargs[\u001b[38;5;124m\"\u001b[39m\u001b[38;5;124mmode\u001b[39m\u001b[38;5;124m\"\u001b[39m] \u001b[38;5;241m=\u001b[39m \u001b[38;5;28mself\u001b[39m\u001b[38;5;241m.\u001b[39m_mode\n\u001b[0;32m--> 205\u001b[0m file \u001b[38;5;241m=\u001b[39m \u001b[38;5;28;43mself\u001b[39;49m\u001b[38;5;241;43m.\u001b[39;49m\u001b[43m_opener\u001b[49m\u001b[43m(\u001b[49m\u001b[38;5;241;43m*\u001b[39;49m\u001b[38;5;28;43mself\u001b[39;49m\u001b[38;5;241;43m.\u001b[39;49m\u001b[43m_args\u001b[49m\u001b[43m,\u001b[49m\u001b[43m \u001b[49m\u001b[38;5;241;43m*\u001b[39;49m\u001b[38;5;241;43m*\u001b[39;49m\u001b[43mkwargs\u001b[49m\u001b[43m)\u001b[49m\n\u001b[1;32m    206\u001b[0m \u001b[38;5;28;01mif\u001b[39;00m \u001b[38;5;28mself\u001b[39m\u001b[38;5;241m.\u001b[39m_mode \u001b[38;5;241m==\u001b[39m \u001b[38;5;124m\"\u001b[39m\u001b[38;5;124mw\u001b[39m\u001b[38;5;124m\"\u001b[39m:\n\u001b[1;32m    207\u001b[0m     \u001b[38;5;66;03m# ensure file doesn't get overriden when opened again\u001b[39;00m\n\u001b[1;32m    208\u001b[0m     \u001b[38;5;28mself\u001b[39m\u001b[38;5;241m.\u001b[39m_mode \u001b[38;5;241m=\u001b[39m \u001b[38;5;124m\"\u001b[39m\u001b[38;5;124ma\u001b[39m\u001b[38;5;124m\"\u001b[39m\n",
      "File \u001b[0;32msrc/netCDF4/_netCDF4.pyx:2330\u001b[0m, in \u001b[0;36mnetCDF4._netCDF4.Dataset.__init__\u001b[0;34m()\u001b[0m\n",
      "File \u001b[0;32msrc/netCDF4/_netCDF4.pyx:1916\u001b[0m, in \u001b[0;36mnetCDF4._netCDF4._get_vars\u001b[0;34m()\u001b[0m\n",
      "File \u001b[0;32msrc/netCDF4/_netCDF4.pyx:3911\u001b[0m, in \u001b[0;36mnetCDF4._netCDF4.Variable.__init__\u001b[0;34m()\u001b[0m\n",
      "File \u001b[0;32m~/seager19/env/lib/python3.8/site-packages/netCDF4/utils.py:34\u001b[0m, in \u001b[0;36m_find_dim\u001b[0;34m(grp, dimname)\u001b[0m\n\u001b[1;32m     30\u001b[0m \u001b[38;5;28;01mdef\u001b[39;00m \u001b[38;5;21m_sortbylist\u001b[39m(A,B):\n\u001b[1;32m     31\u001b[0m     \u001b[38;5;66;03m# sort one list (A) using the values from another list (B)\u001b[39;00m\n\u001b[1;32m     32\u001b[0m     \u001b[38;5;28;01mreturn\u001b[39;00m [A[i] \u001b[38;5;28;01mfor\u001b[39;00m i \u001b[38;5;129;01min\u001b[39;00m \u001b[38;5;28msorted\u001b[39m(\u001b[38;5;28mrange\u001b[39m(\u001b[38;5;28mlen\u001b[39m(A)), key\u001b[38;5;241m=\u001b[39mB\u001b[38;5;241m.\u001b[39m\u001b[38;5;21m__getitem__\u001b[39m)]\n\u001b[0;32m---> 34\u001b[0m \u001b[38;5;28;01mdef\u001b[39;00m \u001b[38;5;21m_find_dim\u001b[39m(grp, dimname):\n\u001b[1;32m     35\u001b[0m     \u001b[38;5;66;03m# find Dimension instance given group and name.\u001b[39;00m\n\u001b[1;32m     36\u001b[0m     \u001b[38;5;66;03m# look in current group, and parents.\u001b[39;00m\n\u001b[1;32m     37\u001b[0m     group \u001b[38;5;241m=\u001b[39m grp\n\u001b[1;32m     38\u001b[0m     dim \u001b[38;5;241m=\u001b[39m \u001b[38;5;28;01mNone\u001b[39;00m\n",
      "\u001b[0;31mKeyboardInterrupt\u001b[0m: "
     ]
    }
   ],
   "source": [
    "import baspy as bp\n",
    "\n",
    "### Retrieve a filtered version of the CMIP5 catalogue as a Pandas DataFrame\n",
    "df = bp.catalogue(\n",
    "    dataset=\"cmip5\",\n",
    "    Model=\"EC-EARTH\",\n",
    "    RunID=\"r1i1p1\",\n",
    "    Experiment=\"historical\",\n",
    "    Var=[\"ts\"],\n",
    "    Frequency=\"mon\",\n",
    ")\n",
    "\n",
    "### Iterate over rows in catalogue\n",
    "for index, row in df.iterrows():\n",
    "    ### In Xarray\n",
    "    ds = bp.open_dataset(row)"
   ]
  },
  {
   "cell_type": "code",
   "execution_count": 26,
   "id": "b0ce8283",
   "metadata": {
    "ExecuteTime": {
     "end_time": "2022-03-02T12:57:44.455338Z",
     "start_time": "2022-03-02T12:57:44.420095Z"
    }
   },
   "outputs": [
    {
     "data": {
      "text/html": [
       "<pre>&lt;xarray.Dataset&gt;\n",
       "Dimensions:    (bnds: 2, lat: 160, lon: 320, time: 756)\n",
       "Coordinates:\n",
       "  * time       (time) datetime64[ns] 1950-01-16T12:00:00 ... 2012-12-16T12:00:00\n",
       "  * lat        (lat) float64 -89.14 -88.03 -86.91 -85.79 ... 86.91 88.03 89.14\n",
       "  * lon        (lon) float64 0.0 1.125 2.25 3.375 ... 355.5 356.6 357.8 358.9\n",
       "Dimensions without coordinates: bnds\n",
       "Data variables:\n",
       "    time_bnds  (time, bnds) datetime64[ns] dask.array&lt;chunksize=(756, 2), meta=np.ndarray&gt;\n",
       "    lat_bnds   (time, lat, bnds) float64 dask.array&lt;chunksize=(756, 160, 2), meta=np.ndarray&gt;\n",
       "    lon_bnds   (time, lon, bnds) float64 dask.array&lt;chunksize=(756, 320, 2), meta=np.ndarray&gt;\n",
       "    ts         (time, lat, lon) float32 dask.array&lt;chunksize=(756, 160, 320), meta=np.ndarray&gt;\n",
       "Attributes: (12/28)\n",
       "    institution:            EC-Earth (European Earth System Model)\n",
       "    institute_id:           ICHEC\n",
       "    experiment_id:          historical\n",
       "    source:                 EC-Earth 2.3 (2011); atmosphere: IFS (cy31R1+modi...\n",
       "    model_id:               EC-EARTH\n",
       "    forcing:                Nat,Ant\n",
       "    ...                     ...\n",
       "    table_id:               Table Amon (26 July 2011) b26379e76858ab98b927917...\n",
       "    title:                  EC-Earth model output prepared for CMIP5 historical\n",
       "    parent_experiment:      pre-industrial control\n",
       "    modeling_realm:         atmos\n",
       "    realization:            8\n",
       "    cmor_version:           2.8.0</pre>"
      ],
      "text/plain": [
       "<xarray.Dataset>\n",
       "Dimensions:    (bnds: 2, lat: 160, lon: 320, time: 756)\n",
       "Coordinates:\n",
       "  * time       (time) datetime64[ns] 1950-01-16T12:00:00 ... 2012-12-16T12:00:00\n",
       "  * lat        (lat) float64 -89.14 -88.03 -86.91 -85.79 ... 86.91 88.03 89.14\n",
       "  * lon        (lon) float64 0.0 1.125 2.25 3.375 ... 355.5 356.6 357.8 358.9\n",
       "Dimensions without coordinates: bnds\n",
       "Data variables:\n",
       "    time_bnds  (time, bnds) datetime64[ns] dask.array<chunksize=(756, 2), meta=np.ndarray>\n",
       "    lat_bnds   (time, lat, bnds) float64 dask.array<chunksize=(756, 160, 2), meta=np.ndarray>\n",
       "    lon_bnds   (time, lon, bnds) float64 dask.array<chunksize=(756, 320, 2), meta=np.ndarray>\n",
       "    ts         (time, lat, lon) float32 dask.array<chunksize=(756, 160, 320), meta=np.ndarray>\n",
       "Attributes: (12/28)\n",
       "    institution:            EC-Earth (European Earth System Model)\n",
       "    institute_id:           ICHEC\n",
       "    experiment_id:          historical\n",
       "    source:                 EC-Earth 2.3 (2011); atmosphere: IFS (cy31R1+modi...\n",
       "    model_id:               EC-EARTH\n",
       "    forcing:                Nat,Ant\n",
       "    ...                     ...\n",
       "    table_id:               Table Amon (26 July 2011) b26379e76858ab98b927917...\n",
       "    title:                  EC-Earth model output prepared for CMIP5 historical\n",
       "    parent_experiment:      pre-industrial control\n",
       "    modeling_realm:         atmos\n",
       "    realization:            8\n",
       "    cmor_version:           2.8.0"
      ]
     },
     "execution_count": 26,
     "metadata": {},
     "output_type": "execute_result"
    }
   ],
   "source": [
    "ds.sel(time=slice(\"1950\", \"2020\"))"
   ]
  },
  {
   "cell_type": "code",
   "execution_count": 28,
   "id": "2cc56490",
   "metadata": {
    "ExecuteTime": {
     "end_time": "2022-03-02T12:58:42.826747Z",
     "start_time": "2022-03-02T12:58:42.150953Z"
    }
   },
   "outputs": [
    {
     "name": "stdout",
     "output_type": "stream",
     "text": [
      "              Centre           Model  Experiment Frequency SubModel  CMOR  \\\n",
      "787              BCC    bcc-csm1-1-m  historical       mon    atmos  Amon   \n",
      "842              BCC    bcc-csm1-1-m  historical       mon    atmos  Amon   \n",
      "897              BCC    bcc-csm1-1-m  historical       mon    atmos  Amon   \n",
      "14058            BCC      bcc-csm1-1  historical       mon    atmos  Amon   \n",
      "14113            BCC      bcc-csm1-1  historical       mon    atmos  Amon   \n",
      "...              ...             ...         ...       ...      ...   ...   \n",
      "773755  NSF-DOE-NCAR  CESM1-FASTCHEM  historical       mon    atmos  Amon   \n",
      "775224  NSF-DOE-NCAR     CESM1-WACCM  historical       mon    atmos  Amon   \n",
      "775274  NSF-DOE-NCAR     CESM1-WACCM  historical       mon    atmos  Amon   \n",
      "775324  NSF-DOE-NCAR     CESM1-WACCM  historical       mon    atmos  Amon   \n",
      "775374  NSF-DOE-NCAR     CESM1-WACCM  historical       mon    atmos  Amon   \n",
      "\n",
      "         RunID    Version Var  StartDate  EndDate  \\\n",
      "787     r3i1p1  v20120709  ts     185001   201212   \n",
      "842     r2i1p1  v20120709  ts     185001   201212   \n",
      "897     r1i1p1  v20120709  ts     185001   201212   \n",
      "14058   r1i1p1         v1  ts     185001   201212   \n",
      "14113   r2i1p1         v1  ts     185001   201212   \n",
      "...        ...        ...  ..        ...      ...   \n",
      "773755  r1i1p1  v20121029  ts     185001   200512   \n",
      "775224  r4i1p1  v20130314  ts     195501   200512   \n",
      "775274  r3i1p1  v20130314  ts     195501   200512   \n",
      "775324  r2i1p1  v20130314  ts     195501   200512   \n",
      "775374  r1i1p1  v20130314  ts     185001   200512   \n",
      "\n",
      "                                                     Path  \\\n",
      "787     /BCC/bcc-csm1-1-m/historical/mon/atmos/Amon/r3...   \n",
      "842     /BCC/bcc-csm1-1-m/historical/mon/atmos/Amon/r2...   \n",
      "897     /BCC/bcc-csm1-1-m/historical/mon/atmos/Amon/r1...   \n",
      "14058   /BCC/bcc-csm1-1/historical/mon/atmos/Amon/r1i1...   \n",
      "14113   /BCC/bcc-csm1-1/historical/mon/atmos/Amon/r2i1...   \n",
      "...                                                   ...   \n",
      "773755  /NSF-DOE-NCAR/CESM1-FASTCHEM/historical/mon/at...   \n",
      "775224  /NSF-DOE-NCAR/CESM1-WACCM/historical/mon/atmos...   \n",
      "775274  /NSF-DOE-NCAR/CESM1-WACCM/historical/mon/atmos...   \n",
      "775324  /NSF-DOE-NCAR/CESM1-WACCM/historical/mon/atmos...   \n",
      "775374  /NSF-DOE-NCAR/CESM1-WACCM/historical/mon/atmos...   \n",
      "\n",
      "                                                DataFiles dataset  \n",
      "787     ts_Amon_bcc-csm1-1-m_historical_r3i1p1_185001-...   cmip5  \n",
      "842     ts_Amon_bcc-csm1-1-m_historical_r2i1p1_185001-...   cmip5  \n",
      "897     ts_Amon_bcc-csm1-1-m_historical_r1i1p1_185001-...   cmip5  \n",
      "14058   ts_Amon_bcc-csm1-1_historical_r1i1p1_185001-20...   cmip5  \n",
      "14113   ts_Amon_bcc-csm1-1_historical_r2i1p1_185001-20...   cmip5  \n",
      "...                                                   ...     ...  \n",
      "773755  ts_Amon_CESM1-FASTCHEM_historical_r1i1p1_18500...   cmip5  \n",
      "775224  ts_Amon_CESM1-WACCM_historical_r4i1p1_195501-2...   cmip5  \n",
      "775274  ts_Amon_CESM1-WACCM_historical_r3i1p1_195501-2...   cmip5  \n",
      "775324  ts_Amon_CESM1-WACCM_historical_r2i1p1_195501-2...   cmip5  \n",
      "775374  ts_Amon_CESM1-WACCM_historical_r1i1p1_185001-2...   cmip5  \n",
      "\n",
      "[192 rows x 14 columns]\n"
     ]
    }
   ],
   "source": [
    "print(df)"
   ]
  },
  {
   "cell_type": "code",
   "execution_count": 10,
   "id": "460aed52",
   "metadata": {
    "ExecuteTime": {
     "end_time": "2022-03-02T11:59:24.117468Z",
     "start_time": "2022-03-02T11:59:24.093815Z"
    }
   },
   "outputs": [
    {
     "data": {
      "text/plain": [
       "<xarray.core.options.set_options at 0x7f6ef97fee50>"
      ]
     },
     "execution_count": 10,
     "metadata": {},
     "output_type": "execute_result"
    }
   ],
   "source": [
    "import xarray as xr\n",
    "xr.set_options(display_style='text')\n"
   ]
  },
  {
   "cell_type": "code",
   "execution_count": 15,
   "id": "00533c05",
   "metadata": {
    "ExecuteTime": {
     "end_time": "2022-03-02T12:35:15.192440Z",
     "start_time": "2022-03-02T12:35:14.721772Z"
    }
   },
   "outputs": [],
   "source": [
    "bp.catalogue?"
   ]
  },
  {
   "cell_type": "code",
   "execution_count": 14,
   "id": "90244e61",
   "metadata": {
    "ExecuteTime": {
     "end_time": "2022-03-02T12:02:10.377773Z",
     "start_time": "2022-03-02T12:02:09.338843Z"
    }
   },
   "outputs": [
    {
     "name": "stdout",
     "output_type": "stream",
     "text": [
      "total 60K\r\n",
      "  0 drwxr-x--- 1 badc open  0 Feb 15  2019 \u001b[0m\u001b[01;34m.\u001b[0m/\r\n",
      "  0 drwxr-x--- 1 badc open  0 Feb 15  2019 \u001b[01;34m..\u001b[0m/\r\n",
      "512 lrwxrwxrwx 1 badc open 75 Feb 15  2019 \u001b[01;36mts_Amon_EC-EARTH_historical_r1i1p1_195001-195012.nc\u001b[0m -> ../../files/ts_20130225/ts_Amon_EC-EARTH_historical_r1i1p1_195001-195012.nc\r\n",
      "512 lrwxrwxrwx 1 badc open 76 Feb 15  2019 \u001b[01;36mts_Amon_EC-EARTH_historical_r1i1p1_195001-195012.nc4\u001b[0m -> ../../files/ts_20131231/ts_Amon_EC-EARTH_historical_r1i1p1_195001-195012.nc4\r\n",
      "512 lrwxrwxrwx 1 badc open 75 Feb 15  2019 \u001b[01;36mts_Amon_EC-EARTH_historical_r1i1p1_195101-195112.nc\u001b[0m -> ../../files/ts_20130225/ts_Amon_EC-EARTH_historical_r1i1p1_195101-195112.nc\r\n",
      "512 lrwxrwxrwx 1 badc open 76 Feb 15  2019 \u001b[01;36mts_Amon_EC-EARTH_historical_r1i1p1_195101-195112.nc4\u001b[0m -> ../../files/ts_20131231/ts_Amon_EC-EARTH_historical_r1i1p1_195101-195112.nc4\r\n",
      "512 lrwxrwxrwx 1 badc open 75 Feb 15  2019 \u001b[01;36mts_Amon_EC-EARTH_historical_r1i1p1_195201-195212.nc\u001b[0m -> ../../files/ts_20130225/ts_Amon_EC-EARTH_historical_r1i1p1_195201-195212.nc\r\n",
      "512 lrwxrwxrwx 1 badc open 76 Feb 15  2019 \u001b[01;36mts_Amon_EC-EARTH_historical_r1i1p1_195201-195212.nc4\u001b[0m -> ../../files/ts_20131231/ts_Amon_EC-EARTH_historical_r1i1p1_195201-195212.nc4\r\n",
      "512 lrwxrwxrwx 1 badc open 75 Feb 15  2019 \u001b[01;36mts_Amon_EC-EARTH_historical_r1i1p1_195301-195312.nc\u001b[0m -> ../../files/ts_20130225/ts_Amon_EC-EARTH_historical_r1i1p1_195301-195312.nc\r\n",
      "512 lrwxrwxrwx 1 badc open 76 Feb 15  2019 \u001b[01;36mts_Amon_EC-EARTH_historical_r1i1p1_195301-195312.nc4\u001b[0m -> ../../files/ts_20131231/ts_Amon_EC-EARTH_historical_r1i1p1_195301-195312.nc4\r\n",
      "512 lrwxrwxrwx 1 badc open 75 Feb 15  2019 \u001b[01;36mts_Amon_EC-EARTH_historical_r1i1p1_195401-195412.nc\u001b[0m -> ../../files/ts_20130225/ts_Amon_EC-EARTH_historical_r1i1p1_195401-195412.nc\r\n",
      "512 lrwxrwxrwx 1 badc open 76 Feb 15  2019 \u001b[01;36mts_Amon_EC-EARTH_historical_r1i1p1_195401-195412.nc4\u001b[0m -> ../../files/ts_20131231/ts_Amon_EC-EARTH_historical_r1i1p1_195401-195412.nc4\r\n",
      "512 lrwxrwxrwx 1 badc open 75 Feb 15  2019 \u001b[01;36mts_Amon_EC-EARTH_historical_r1i1p1_195501-195512.nc\u001b[0m -> ../../files/ts_20130225/ts_Amon_EC-EARTH_historical_r1i1p1_195501-195512.nc\r\n",
      "512 lrwxrwxrwx 1 badc open 76 Feb 15  2019 \u001b[01;36mts_Amon_EC-EARTH_historical_r1i1p1_195501-195512.nc4\u001b[0m -> ../../files/ts_20131231/ts_Amon_EC-EARTH_historical_r1i1p1_195501-195512.nc4\r\n",
      "512 lrwxrwxrwx 1 badc open 75 Feb 15  2019 \u001b[01;36mts_Amon_EC-EARTH_historical_r1i1p1_195601-195612.nc\u001b[0m -> ../../files/ts_20130225/ts_Amon_EC-EARTH_historical_r1i1p1_195601-195612.nc\r\n",
      "512 lrwxrwxrwx 1 badc open 76 Feb 15  2019 \u001b[01;36mts_Amon_EC-EARTH_historical_r1i1p1_195601-195612.nc4\u001b[0m -> ../../files/ts_20131231/ts_Amon_EC-EARTH_historical_r1i1p1_195601-195612.nc4\r\n",
      "512 lrwxrwxrwx 1 badc open 75 Feb 15  2019 \u001b[01;36mts_Amon_EC-EARTH_historical_r1i1p1_195701-195712.nc\u001b[0m -> ../../files/ts_20130225/ts_Amon_EC-EARTH_historical_r1i1p1_195701-195712.nc\r\n",
      "512 lrwxrwxrwx 1 badc open 76 Feb 15  2019 \u001b[01;36mts_Amon_EC-EARTH_historical_r1i1p1_195701-195712.nc4\u001b[0m -> ../../files/ts_20131231/ts_Amon_EC-EARTH_historical_r1i1p1_195701-195712.nc4\r\n",
      "512 lrwxrwxrwx 1 badc open 75 Feb 15  2019 \u001b[01;36mts_Amon_EC-EARTH_historical_r1i1p1_195801-195812.nc\u001b[0m -> ../../files/ts_20130225/ts_Amon_EC-EARTH_historical_r1i1p1_195801-195812.nc\r\n",
      "512 lrwxrwxrwx 1 badc open 76 Feb 15  2019 \u001b[01;36mts_Amon_EC-EARTH_historical_r1i1p1_195801-195812.nc4\u001b[0m -> ../../files/ts_20131231/ts_Amon_EC-EARTH_historical_r1i1p1_195801-195812.nc4\r\n",
      "512 lrwxrwxrwx 1 badc open 75 Feb 15  2019 \u001b[01;36mts_Amon_EC-EARTH_historical_r1i1p1_195901-195912.nc\u001b[0m -> ../../files/ts_20130225/ts_Amon_EC-EARTH_historical_r1i1p1_195901-195912.nc\r\n",
      "512 lrwxrwxrwx 1 badc open 76 Feb 15  2019 \u001b[01;36mts_Amon_EC-EARTH_historical_r1i1p1_195901-195912.nc4\u001b[0m -> ../../files/ts_20131231/ts_Amon_EC-EARTH_historical_r1i1p1_195901-195912.nc4\r\n",
      "512 lrwxrwxrwx 1 badc open 75 Feb 15  2019 \u001b[01;36mts_Amon_EC-EARTH_historical_r1i1p1_196001-196012.nc\u001b[0m -> ../../files/ts_20130225/ts_Amon_EC-EARTH_historical_r1i1p1_196001-196012.nc\r\n",
      "512 lrwxrwxrwx 1 badc open 76 Feb 15  2019 \u001b[01;36mts_Amon_EC-EARTH_historical_r1i1p1_196001-196012.nc4\u001b[0m -> ../../files/ts_20131231/ts_Amon_EC-EARTH_historical_r1i1p1_196001-196012.nc4\r\n",
      "512 lrwxrwxrwx 1 badc open 75 Feb 15  2019 \u001b[01;36mts_Amon_EC-EARTH_historical_r1i1p1_196101-196112.nc\u001b[0m -> ../../files/ts_20130225/ts_Amon_EC-EARTH_historical_r1i1p1_196101-196112.nc\r\n",
      "512 lrwxrwxrwx 1 badc open 76 Feb 15  2019 \u001b[01;36mts_Amon_EC-EARTH_historical_r1i1p1_196101-196112.nc4\u001b[0m -> ../../files/ts_20131231/ts_Amon_EC-EARTH_historical_r1i1p1_196101-196112.nc4\r\n",
      "512 lrwxrwxrwx 1 badc open 75 Feb 15  2019 \u001b[01;36mts_Amon_EC-EARTH_historical_r1i1p1_196201-196212.nc\u001b[0m -> ../../files/ts_20130225/ts_Amon_EC-EARTH_historical_r1i1p1_196201-196212.nc\r\n",
      "512 lrwxrwxrwx 1 badc open 76 Feb 15  2019 \u001b[01;36mts_Amon_EC-EARTH_historical_r1i1p1_196201-196212.nc4\u001b[0m -> ../../files/ts_20131231/ts_Amon_EC-EARTH_historical_r1i1p1_196201-196212.nc4\r\n",
      "512 lrwxrwxrwx 1 badc open 75 Feb 15  2019 \u001b[01;36mts_Amon_EC-EARTH_historical_r1i1p1_196301-196312.nc\u001b[0m -> ../../files/ts_20130225/ts_Amon_EC-EARTH_historical_r1i1p1_196301-196312.nc\r\n",
      "512 lrwxrwxrwx 1 badc open 76 Feb 15  2019 \u001b[01;36mts_Amon_EC-EARTH_historical_r1i1p1_196301-196312.nc4\u001b[0m -> ../../files/ts_20131231/ts_Amon_EC-EARTH_historical_r1i1p1_196301-196312.nc4\r\n",
      "512 lrwxrwxrwx 1 badc open 75 Feb 15  2019 \u001b[01;36mts_Amon_EC-EARTH_historical_r1i1p1_196401-196412.nc\u001b[0m -> ../../files/ts_20130225/ts_Amon_EC-EARTH_historical_r1i1p1_196401-196412.nc\r\n",
      "512 lrwxrwxrwx 1 badc open 76 Feb 15  2019 \u001b[01;36mts_Amon_EC-EARTH_historical_r1i1p1_196401-196412.nc4\u001b[0m -> ../../files/ts_20131231/ts_Amon_EC-EARTH_historical_r1i1p1_196401-196412.nc4\r\n",
      "512 lrwxrwxrwx 1 badc open 75 Feb 15  2019 \u001b[01;36mts_Amon_EC-EARTH_historical_r1i1p1_196501-196512.nc\u001b[0m -> ../../files/ts_20130225/ts_Amon_EC-EARTH_historical_r1i1p1_196501-196512.nc\r\n",
      "512 lrwxrwxrwx 1 badc open 76 Feb 15  2019 \u001b[01;36mts_Amon_EC-EARTH_historical_r1i1p1_196501-196512.nc4\u001b[0m -> ../../files/ts_20131231/ts_Amon_EC-EARTH_historical_r1i1p1_196501-196512.nc4\r\n",
      "512 lrwxrwxrwx 1 badc open 75 Feb 15  2019 \u001b[01;36mts_Amon_EC-EARTH_historical_r1i1p1_196601-196612.nc\u001b[0m -> ../../files/ts_20130225/ts_Amon_EC-EARTH_historical_r1i1p1_196601-196612.nc\r\n",
      "512 lrwxrwxrwx 1 badc open 76 Feb 15  2019 \u001b[01;36mts_Amon_EC-EARTH_historical_r1i1p1_196601-196612.nc4\u001b[0m -> ../../files/ts_20131231/ts_Amon_EC-EARTH_historical_r1i1p1_196601-196612.nc4\r\n",
      "512 lrwxrwxrwx 1 badc open 75 Feb 15  2019 \u001b[01;36mts_Amon_EC-EARTH_historical_r1i1p1_196701-196712.nc\u001b[0m -> ../../files/ts_20130225/ts_Amon_EC-EARTH_historical_r1i1p1_196701-196712.nc\r\n",
      "512 lrwxrwxrwx 1 badc open 76 Feb 15  2019 \u001b[01;36mts_Amon_EC-EARTH_historical_r1i1p1_196701-196712.nc4\u001b[0m -> ../../files/ts_20131231/ts_Amon_EC-EARTH_historical_r1i1p1_196701-196712.nc4\r\n",
      "512 lrwxrwxrwx 1 badc open 75 Feb 15  2019 \u001b[01;36mts_Amon_EC-EARTH_historical_r1i1p1_196801-196812.nc\u001b[0m -> ../../files/ts_20130225/ts_Amon_EC-EARTH_historical_r1i1p1_196801-196812.nc\r\n",
      "512 lrwxrwxrwx 1 badc open 76 Feb 15  2019 \u001b[01;36mts_Amon_EC-EARTH_historical_r1i1p1_196801-196812.nc4\u001b[0m -> ../../files/ts_20131231/ts_Amon_EC-EARTH_historical_r1i1p1_196801-196812.nc4\r\n",
      "512 lrwxrwxrwx 1 badc open 75 Feb 15  2019 \u001b[01;36mts_Amon_EC-EARTH_historical_r1i1p1_196901-196912.nc\u001b[0m -> ../../files/ts_20130225/ts_Amon_EC-EARTH_historical_r1i1p1_196901-196912.nc\r\n",
      "512 lrwxrwxrwx 1 badc open 76 Feb 15  2019 \u001b[01;36mts_Amon_EC-EARTH_historical_r1i1p1_196901-196912.nc4\u001b[0m -> ../../files/ts_20131231/ts_Amon_EC-EARTH_historical_r1i1p1_196901-196912.nc4\r\n",
      "512 lrwxrwxrwx 1 badc open 75 Feb 15  2019 \u001b[01;36mts_Amon_EC-EARTH_historical_r1i1p1_197001-197012.nc\u001b[0m -> ../../files/ts_20130225/ts_Amon_EC-EARTH_historical_r1i1p1_197001-197012.nc\r\n",
      "512 lrwxrwxrwx 1 badc open 76 Feb 15  2019 \u001b[01;36mts_Amon_EC-EARTH_historical_r1i1p1_197001-197012.nc4\u001b[0m -> ../../files/ts_20131231/ts_Amon_EC-EARTH_historical_r1i1p1_197001-197012.nc4\r\n",
      "512 lrwxrwxrwx 1 badc open 75 Feb 15  2019 \u001b[01;36mts_Amon_EC-EARTH_historical_r1i1p1_197101-197112.nc\u001b[0m -> ../../files/ts_20130225/ts_Amon_EC-EARTH_historical_r1i1p1_197101-197112.nc\r\n",
      "512 lrwxrwxrwx 1 badc open 76 Feb 15  2019 \u001b[01;36mts_Amon_EC-EARTH_historical_r1i1p1_197101-197112.nc4\u001b[0m -> ../../files/ts_20131231/ts_Amon_EC-EARTH_historical_r1i1p1_197101-197112.nc4\r\n",
      "512 lrwxrwxrwx 1 badc open 75 Feb 15  2019 \u001b[01;36mts_Amon_EC-EARTH_historical_r1i1p1_197201-197212.nc\u001b[0m -> ../../files/ts_20130225/ts_Amon_EC-EARTH_historical_r1i1p1_197201-197212.nc\r\n",
      "512 lrwxrwxrwx 1 badc open 76 Feb 15  2019 \u001b[01;36mts_Amon_EC-EARTH_historical_r1i1p1_197201-197212.nc4\u001b[0m -> ../../files/ts_20131231/ts_Amon_EC-EARTH_historical_r1i1p1_197201-197212.nc4\r\n",
      "512 lrwxrwxrwx 1 badc open 75 Feb 15  2019 \u001b[01;36mts_Amon_EC-EARTH_historical_r1i1p1_197301-197312.nc\u001b[0m -> ../../files/ts_20130225/ts_Amon_EC-EARTH_historical_r1i1p1_197301-197312.nc\r\n",
      "512 lrwxrwxrwx 1 badc open 76 Feb 15  2019 \u001b[01;36mts_Amon_EC-EARTH_historical_r1i1p1_197301-197312.nc4\u001b[0m -> ../../files/ts_20131231/ts_Amon_EC-EARTH_historical_r1i1p1_197301-197312.nc4\r\n",
      "512 lrwxrwxrwx 1 badc open 75 Feb 15  2019 \u001b[01;36mts_Amon_EC-EARTH_historical_r1i1p1_197401-197412.nc\u001b[0m -> ../../files/ts_20130225/ts_Amon_EC-EARTH_historical_r1i1p1_197401-197412.nc\r\n",
      "512 lrwxrwxrwx 1 badc open 76 Feb 15  2019 \u001b[01;36mts_Amon_EC-EARTH_historical_r1i1p1_197401-197412.nc4\u001b[0m -> ../../files/ts_20131231/ts_Amon_EC-EARTH_historical_r1i1p1_197401-197412.nc4\r\n",
      "512 lrwxrwxrwx 1 badc open 75 Feb 15  2019 \u001b[01;36mts_Amon_EC-EARTH_historical_r1i1p1_197501-197512.nc\u001b[0m -> ../../files/ts_20130225/ts_Amon_EC-EARTH_historical_r1i1p1_197501-197512.nc\r\n",
      "512 lrwxrwxrwx 1 badc open 76 Feb 15  2019 \u001b[01;36mts_Amon_EC-EARTH_historical_r1i1p1_197501-197512.nc4\u001b[0m -> ../../files/ts_20131231/ts_Amon_EC-EARTH_historical_r1i1p1_197501-197512.nc4\r\n",
      "512 lrwxrwxrwx 1 badc open 75 Feb 15  2019 \u001b[01;36mts_Amon_EC-EARTH_historical_r1i1p1_197601-197612.nc\u001b[0m -> ../../files/ts_20130225/ts_Amon_EC-EARTH_historical_r1i1p1_197601-197612.nc\r\n",
      "512 lrwxrwxrwx 1 badc open 76 Feb 15  2019 \u001b[01;36mts_Amon_EC-EARTH_historical_r1i1p1_197601-197612.nc4\u001b[0m -> ../../files/ts_20131231/ts_Amon_EC-EARTH_historical_r1i1p1_197601-197612.nc4\r\n",
      "512 lrwxrwxrwx 1 badc open 75 Feb 15  2019 \u001b[01;36mts_Amon_EC-EARTH_historical_r1i1p1_197701-197712.nc\u001b[0m -> ../../files/ts_20130225/ts_Amon_EC-EARTH_historical_r1i1p1_197701-197712.nc\r\n",
      "512 lrwxrwxrwx 1 badc open 76 Feb 15  2019 \u001b[01;36mts_Amon_EC-EARTH_historical_r1i1p1_197701-197712.nc4\u001b[0m -> ../../files/ts_20131231/ts_Amon_EC-EARTH_historical_r1i1p1_197701-197712.nc4\r\n",
      "512 lrwxrwxrwx 1 badc open 75 Feb 15  2019 \u001b[01;36mts_Amon_EC-EARTH_historical_r1i1p1_197801-197812.nc\u001b[0m -> ../../files/ts_20130225/ts_Amon_EC-EARTH_historical_r1i1p1_197801-197812.nc\r\n",
      "512 lrwxrwxrwx 1 badc open 76 Feb 15  2019 \u001b[01;36mts_Amon_EC-EARTH_historical_r1i1p1_197801-197812.nc4\u001b[0m -> ../../files/ts_20131231/ts_Amon_EC-EARTH_historical_r1i1p1_197801-197812.nc4\r\n",
      "512 lrwxrwxrwx 1 badc open 75 Feb 15  2019 \u001b[01;36mts_Amon_EC-EARTH_historical_r1i1p1_197901-197912.nc\u001b[0m -> ../../files/ts_20130225/ts_Amon_EC-EARTH_historical_r1i1p1_197901-197912.nc\r\n",
      "512 lrwxrwxrwx 1 badc open 76 Feb 15  2019 \u001b[01;36mts_Amon_EC-EARTH_historical_r1i1p1_197901-197912.nc4\u001b[0m -> ../../files/ts_20131231/ts_Amon_EC-EARTH_historical_r1i1p1_197901-197912.nc4\r\n",
      "512 lrwxrwxrwx 1 badc open 75 Feb 15  2019 \u001b[01;36mts_Amon_EC-EARTH_historical_r1i1p1_198001-198012.nc\u001b[0m -> ../../files/ts_20130225/ts_Amon_EC-EARTH_historical_r1i1p1_198001-198012.nc\r\n",
      "512 lrwxrwxrwx 1 badc open 76 Feb 15  2019 \u001b[01;36mts_Amon_EC-EARTH_historical_r1i1p1_198001-198012.nc4\u001b[0m -> ../../files/ts_20131231/ts_Amon_EC-EARTH_historical_r1i1p1_198001-198012.nc4\r\n",
      "512 lrwxrwxrwx 1 badc open 75 Feb 15  2019 \u001b[01;36mts_Amon_EC-EARTH_historical_r1i1p1_198101-198112.nc\u001b[0m -> ../../files/ts_20130225/ts_Amon_EC-EARTH_historical_r1i1p1_198101-198112.nc\r\n",
      "512 lrwxrwxrwx 1 badc open 76 Feb 15  2019 \u001b[01;36mts_Amon_EC-EARTH_historical_r1i1p1_198101-198112.nc4\u001b[0m -> ../../files/ts_20131231/ts_Amon_EC-EARTH_historical_r1i1p1_198101-198112.nc4\r\n",
      "512 lrwxrwxrwx 1 badc open 75 Feb 15  2019 \u001b[01;36mts_Amon_EC-EARTH_historical_r1i1p1_198201-198212.nc\u001b[0m -> ../../files/ts_20130225/ts_Amon_EC-EARTH_historical_r1i1p1_198201-198212.nc\r\n",
      "512 lrwxrwxrwx 1 badc open 76 Feb 15  2019 \u001b[01;36mts_Amon_EC-EARTH_historical_r1i1p1_198201-198212.nc4\u001b[0m -> ../../files/ts_20131231/ts_Amon_EC-EARTH_historical_r1i1p1_198201-198212.nc4\r\n",
      "512 lrwxrwxrwx 1 badc open 75 Feb 15  2019 \u001b[01;36mts_Amon_EC-EARTH_historical_r1i1p1_198301-198312.nc\u001b[0m -> ../../files/ts_20130225/ts_Amon_EC-EARTH_historical_r1i1p1_198301-198312.nc\r\n",
      "512 lrwxrwxrwx 1 badc open 76 Feb 15  2019 \u001b[01;36mts_Amon_EC-EARTH_historical_r1i1p1_198301-198312.nc4\u001b[0m -> ../../files/ts_20131231/ts_Amon_EC-EARTH_historical_r1i1p1_198301-198312.nc4\r\n",
      "512 lrwxrwxrwx 1 badc open 75 Feb 15  2019 \u001b[01;36mts_Amon_EC-EARTH_historical_r1i1p1_198401-198412.nc\u001b[0m -> ../../files/ts_20130225/ts_Amon_EC-EARTH_historical_r1i1p1_198401-198412.nc\r\n",
      "512 lrwxrwxrwx 1 badc open 76 Feb 15  2019 \u001b[01;36mts_Amon_EC-EARTH_historical_r1i1p1_198401-198412.nc4\u001b[0m -> ../../files/ts_20131231/ts_Amon_EC-EARTH_historical_r1i1p1_198401-198412.nc4\r\n",
      "512 lrwxrwxrwx 1 badc open 75 Feb 15  2019 \u001b[01;36mts_Amon_EC-EARTH_historical_r1i1p1_198501-198512.nc\u001b[0m -> ../../files/ts_20130225/ts_Amon_EC-EARTH_historical_r1i1p1_198501-198512.nc\r\n",
      "512 lrwxrwxrwx 1 badc open 76 Feb 15  2019 \u001b[01;36mts_Amon_EC-EARTH_historical_r1i1p1_198501-198512.nc4\u001b[0m -> ../../files/ts_20131231/ts_Amon_EC-EARTH_historical_r1i1p1_198501-198512.nc4\r\n",
      "512 lrwxrwxrwx 1 badc open 75 Feb 15  2019 \u001b[01;36mts_Amon_EC-EARTH_historical_r1i1p1_198601-198612.nc\u001b[0m -> ../../files/ts_20130225/ts_Amon_EC-EARTH_historical_r1i1p1_198601-198612.nc\r\n",
      "512 lrwxrwxrwx 1 badc open 76 Feb 15  2019 \u001b[01;36mts_Amon_EC-EARTH_historical_r1i1p1_198601-198612.nc4\u001b[0m -> ../../files/ts_20131231/ts_Amon_EC-EARTH_historical_r1i1p1_198601-198612.nc4\r\n",
      "512 lrwxrwxrwx 1 badc open 75 Feb 15  2019 \u001b[01;36mts_Amon_EC-EARTH_historical_r1i1p1_198701-198712.nc\u001b[0m -> ../../files/ts_20130225/ts_Amon_EC-EARTH_historical_r1i1p1_198701-198712.nc\r\n",
      "512 lrwxrwxrwx 1 badc open 76 Feb 15  2019 \u001b[01;36mts_Amon_EC-EARTH_historical_r1i1p1_198701-198712.nc4\u001b[0m -> ../../files/ts_20131231/ts_Amon_EC-EARTH_historical_r1i1p1_198701-198712.nc4\r\n",
      "512 lrwxrwxrwx 1 badc open 75 Feb 15  2019 \u001b[01;36mts_Amon_EC-EARTH_historical_r1i1p1_198801-198812.nc\u001b[0m -> ../../files/ts_20130225/ts_Amon_EC-EARTH_historical_r1i1p1_198801-198812.nc\r\n",
      "512 lrwxrwxrwx 1 badc open 76 Feb 15  2019 \u001b[01;36mts_Amon_EC-EARTH_historical_r1i1p1_198801-198812.nc4\u001b[0m -> ../../files/ts_20131231/ts_Amon_EC-EARTH_historical_r1i1p1_198801-198812.nc4\r\n",
      "512 lrwxrwxrwx 1 badc open 75 Feb 15  2019 \u001b[01;36mts_Amon_EC-EARTH_historical_r1i1p1_198901-198912.nc\u001b[0m -> ../../files/ts_20130225/ts_Amon_EC-EARTH_historical_r1i1p1_198901-198912.nc\r\n",
      "512 lrwxrwxrwx 1 badc open 76 Feb 15  2019 \u001b[01;36mts_Amon_EC-EARTH_historical_r1i1p1_198901-198912.nc4\u001b[0m -> ../../files/ts_20131231/ts_Amon_EC-EARTH_historical_r1i1p1_198901-198912.nc4\r\n",
      "512 lrwxrwxrwx 1 badc open 75 Feb 15  2019 \u001b[01;36mts_Amon_EC-EARTH_historical_r1i1p1_199001-199012.nc\u001b[0m -> ../../files/ts_20130225/ts_Amon_EC-EARTH_historical_r1i1p1_199001-199012.nc\r\n",
      "512 lrwxrwxrwx 1 badc open 76 Feb 15  2019 \u001b[01;36mts_Amon_EC-EARTH_historical_r1i1p1_199001-199012.nc4\u001b[0m -> ../../files/ts_20131231/ts_Amon_EC-EARTH_historical_r1i1p1_199001-199012.nc4\r\n",
      "512 lrwxrwxrwx 1 badc open 75 Feb 15  2019 \u001b[01;36mts_Amon_EC-EARTH_historical_r1i1p1_199101-199112.nc\u001b[0m -> ../../files/ts_20130225/ts_Amon_EC-EARTH_historical_r1i1p1_199101-199112.nc\r\n",
      "512 lrwxrwxrwx 1 badc open 76 Feb 15  2019 \u001b[01;36mts_Amon_EC-EARTH_historical_r1i1p1_199101-199112.nc4\u001b[0m -> ../../files/ts_20131231/ts_Amon_EC-EARTH_historical_r1i1p1_199101-199112.nc4\r\n",
      "512 lrwxrwxrwx 1 badc open 75 Feb 15  2019 \u001b[01;36mts_Amon_EC-EARTH_historical_r1i1p1_199201-199212.nc\u001b[0m -> ../../files/ts_20130225/ts_Amon_EC-EARTH_historical_r1i1p1_199201-199212.nc\r\n",
      "512 lrwxrwxrwx 1 badc open 76 Feb 15  2019 \u001b[01;36mts_Amon_EC-EARTH_historical_r1i1p1_199201-199212.nc4\u001b[0m -> ../../files/ts_20131231/ts_Amon_EC-EARTH_historical_r1i1p1_199201-199212.nc4\r\n",
      "512 lrwxrwxrwx 1 badc open 75 Feb 15  2019 \u001b[01;36mts_Amon_EC-EARTH_historical_r1i1p1_199301-199312.nc\u001b[0m -> ../../files/ts_20130225/ts_Amon_EC-EARTH_historical_r1i1p1_199301-199312.nc\r\n",
      "512 lrwxrwxrwx 1 badc open 76 Feb 15  2019 \u001b[01;36mts_Amon_EC-EARTH_historical_r1i1p1_199301-199312.nc4\u001b[0m -> ../../files/ts_20131231/ts_Amon_EC-EARTH_historical_r1i1p1_199301-199312.nc4\r\n",
      "512 lrwxrwxrwx 1 badc open 75 Feb 15  2019 \u001b[01;36mts_Amon_EC-EARTH_historical_r1i1p1_199401-199412.nc\u001b[0m -> ../../files/ts_20130225/ts_Amon_EC-EARTH_historical_r1i1p1_199401-199412.nc\r\n",
      "512 lrwxrwxrwx 1 badc open 76 Feb 15  2019 \u001b[01;36mts_Amon_EC-EARTH_historical_r1i1p1_199401-199412.nc4\u001b[0m -> ../../files/ts_20131231/ts_Amon_EC-EARTH_historical_r1i1p1_199401-199412.nc4\r\n",
      "512 lrwxrwxrwx 1 badc open 75 Feb 15  2019 \u001b[01;36mts_Amon_EC-EARTH_historical_r1i1p1_199501-199512.nc\u001b[0m -> ../../files/ts_20130225/ts_Amon_EC-EARTH_historical_r1i1p1_199501-199512.nc\r\n",
      "512 lrwxrwxrwx 1 badc open 76 Feb 15  2019 \u001b[01;36mts_Amon_EC-EARTH_historical_r1i1p1_199501-199512.nc4\u001b[0m -> ../../files/ts_20131231/ts_Amon_EC-EARTH_historical_r1i1p1_199501-199512.nc4\r\n",
      "512 lrwxrwxrwx 1 badc open 75 Feb 15  2019 \u001b[01;36mts_Amon_EC-EARTH_historical_r1i1p1_199601-199612.nc\u001b[0m -> ../../files/ts_20130225/ts_Amon_EC-EARTH_historical_r1i1p1_199601-199612.nc\r\n",
      "512 lrwxrwxrwx 1 badc open 76 Feb 15  2019 \u001b[01;36mts_Amon_EC-EARTH_historical_r1i1p1_199601-199612.nc4\u001b[0m -> ../../files/ts_20131231/ts_Amon_EC-EARTH_historical_r1i1p1_199601-199612.nc4\r\n",
      "512 lrwxrwxrwx 1 badc open 75 Feb 15  2019 \u001b[01;36mts_Amon_EC-EARTH_historical_r1i1p1_199701-199712.nc\u001b[0m -> ../../files/ts_20130225/ts_Amon_EC-EARTH_historical_r1i1p1_199701-199712.nc\r\n",
      "512 lrwxrwxrwx 1 badc open 76 Feb 15  2019 \u001b[01;36mts_Amon_EC-EARTH_historical_r1i1p1_199701-199712.nc4\u001b[0m -> ../../files/ts_20131231/ts_Amon_EC-EARTH_historical_r1i1p1_199701-199712.nc4\r\n",
      "512 lrwxrwxrwx 1 badc open 75 Feb 15  2019 \u001b[01;36mts_Amon_EC-EARTH_historical_r1i1p1_199801-199812.nc\u001b[0m -> ../../files/ts_20130225/ts_Amon_EC-EARTH_historical_r1i1p1_199801-199812.nc\r\n",
      "512 lrwxrwxrwx 1 badc open 76 Feb 15  2019 \u001b[01;36mts_Amon_EC-EARTH_historical_r1i1p1_199801-199812.nc4\u001b[0m -> ../../files/ts_20131231/ts_Amon_EC-EARTH_historical_r1i1p1_199801-199812.nc4\r\n",
      "512 lrwxrwxrwx 1 badc open 75 Feb 15  2019 \u001b[01;36mts_Amon_EC-EARTH_historical_r1i1p1_199901-199912.nc\u001b[0m -> ../../files/ts_20130225/ts_Amon_EC-EARTH_historical_r1i1p1_199901-199912.nc\r\n",
      "512 lrwxrwxrwx 1 badc open 76 Feb 15  2019 \u001b[01;36mts_Amon_EC-EARTH_historical_r1i1p1_199901-199912.nc4\u001b[0m -> ../../files/ts_20131231/ts_Amon_EC-EARTH_historical_r1i1p1_199901-199912.nc4\r\n",
      "512 lrwxrwxrwx 1 badc open 75 Feb 15  2019 \u001b[01;36mts_Amon_EC-EARTH_historical_r1i1p1_200001-200012.nc\u001b[0m -> ../../files/ts_20130225/ts_Amon_EC-EARTH_historical_r1i1p1_200001-200012.nc\r\n",
      "512 lrwxrwxrwx 1 badc open 76 Feb 15  2019 \u001b[01;36mts_Amon_EC-EARTH_historical_r1i1p1_200001-200012.nc4\u001b[0m -> ../../files/ts_20131231/ts_Amon_EC-EARTH_historical_r1i1p1_200001-200012.nc4\r\n",
      "512 lrwxrwxrwx 1 badc open 75 Feb 15  2019 \u001b[01;36mts_Amon_EC-EARTH_historical_r1i1p1_200101-200112.nc\u001b[0m -> ../../files/ts_20130225/ts_Amon_EC-EARTH_historical_r1i1p1_200101-200112.nc\r\n",
      "512 lrwxrwxrwx 1 badc open 76 Feb 15  2019 \u001b[01;36mts_Amon_EC-EARTH_historical_r1i1p1_200101-200112.nc4\u001b[0m -> ../../files/ts_20131231/ts_Amon_EC-EARTH_historical_r1i1p1_200101-200112.nc4\r\n",
      "512 lrwxrwxrwx 1 badc open 75 Feb 15  2019 \u001b[01;36mts_Amon_EC-EARTH_historical_r1i1p1_200201-200212.nc\u001b[0m -> ../../files/ts_20130225/ts_Amon_EC-EARTH_historical_r1i1p1_200201-200212.nc\r\n",
      "512 lrwxrwxrwx 1 badc open 76 Feb 15  2019 \u001b[01;36mts_Amon_EC-EARTH_historical_r1i1p1_200201-200212.nc4\u001b[0m -> ../../files/ts_20131231/ts_Amon_EC-EARTH_historical_r1i1p1_200201-200212.nc4\r\n",
      "512 lrwxrwxrwx 1 badc open 75 Feb 15  2019 \u001b[01;36mts_Amon_EC-EARTH_historical_r1i1p1_200301-200312.nc\u001b[0m -> ../../files/ts_20130225/ts_Amon_EC-EARTH_historical_r1i1p1_200301-200312.nc\r\n",
      "512 lrwxrwxrwx 1 badc open 76 Feb 15  2019 \u001b[01;36mts_Amon_EC-EARTH_historical_r1i1p1_200301-200312.nc4\u001b[0m -> ../../files/ts_20131231/ts_Amon_EC-EARTH_historical_r1i1p1_200301-200312.nc4\r\n",
      "512 lrwxrwxrwx 1 badc open 75 Feb 15  2019 \u001b[01;36mts_Amon_EC-EARTH_historical_r1i1p1_200401-200412.nc\u001b[0m -> ../../files/ts_20130225/ts_Amon_EC-EARTH_historical_r1i1p1_200401-200412.nc\r\n",
      "512 lrwxrwxrwx 1 badc open 76 Feb 15  2019 \u001b[01;36mts_Amon_EC-EARTH_historical_r1i1p1_200401-200412.nc4\u001b[0m -> ../../files/ts_20131231/ts_Amon_EC-EARTH_historical_r1i1p1_200401-200412.nc4\r\n",
      "512 lrwxrwxrwx 1 badc open 75 Feb 15  2019 \u001b[01;36mts_Amon_EC-EARTH_historical_r1i1p1_200501-200512.nc\u001b[0m -> ../../files/ts_20130225/ts_Amon_EC-EARTH_historical_r1i1p1_200501-200512.nc\r\n",
      "512 lrwxrwxrwx 1 badc open 76 Feb 15  2019 \u001b[01;36mts_Amon_EC-EARTH_historical_r1i1p1_200501-200512.nc4\u001b[0m -> ../../files/ts_20131231/ts_Amon_EC-EARTH_historical_r1i1p1_200501-200512.nc4\r\n",
      "512 lrwxrwxrwx 1 badc open 75 Feb 15  2019 \u001b[01;36mts_Amon_EC-EARTH_historical_r1i1p1_200601-200612.nc\u001b[0m -> ../../files/ts_20130225/ts_Amon_EC-EARTH_historical_r1i1p1_200601-200612.nc\r\n",
      "512 lrwxrwxrwx 1 badc open 76 Feb 15  2019 \u001b[01;36mts_Amon_EC-EARTH_historical_r1i1p1_200601-200612.nc4\u001b[0m -> ../../files/ts_20131231/ts_Amon_EC-EARTH_historical_r1i1p1_200601-200612.nc4\r\n",
      "512 lrwxrwxrwx 1 badc open 75 Feb 15  2019 \u001b[01;36mts_Amon_EC-EARTH_historical_r1i1p1_200701-200712.nc\u001b[0m -> ../../files/ts_20130225/ts_Amon_EC-EARTH_historical_r1i1p1_200701-200712.nc\r\n",
      "512 lrwxrwxrwx 1 badc open 76 Feb 15  2019 \u001b[01;36mts_Amon_EC-EARTH_historical_r1i1p1_200701-200712.nc4\u001b[0m -> ../../files/ts_20131231/ts_Amon_EC-EARTH_historical_r1i1p1_200701-200712.nc4\r\n",
      "512 lrwxrwxrwx 1 badc open 75 Feb 15  2019 \u001b[01;36mts_Amon_EC-EARTH_historical_r1i1p1_200801-200812.nc\u001b[0m -> ../../files/ts_20130225/ts_Amon_EC-EARTH_historical_r1i1p1_200801-200812.nc\r\n",
      "512 lrwxrwxrwx 1 badc open 76 Feb 15  2019 \u001b[01;36mts_Amon_EC-EARTH_historical_r1i1p1_200801-200812.nc4\u001b[0m -> ../../files/ts_20131231/ts_Amon_EC-EARTH_historical_r1i1p1_200801-200812.nc4\r\n",
      "512 lrwxrwxrwx 1 badc open 75 Feb 15  2019 \u001b[01;36mts_Amon_EC-EARTH_historical_r1i1p1_200901-200912.nc\u001b[0m -> ../../files/ts_20130225/ts_Amon_EC-EARTH_historical_r1i1p1_200901-200912.nc\r\n",
      "512 lrwxrwxrwx 1 badc open 76 Feb 15  2019 \u001b[01;36mts_Amon_EC-EARTH_historical_r1i1p1_200901-200912.nc4\u001b[0m -> ../../files/ts_20131231/ts_Amon_EC-EARTH_historical_r1i1p1_200901-200912.nc4\r\n"
     ]
    }
   ],
   "source": [
    "ls -lash /badc/cmip5/data/cmip5/output1/ICHEC/EC-EARTH/historical/mon/atmos/Amon/r1i1p1/v20131231/ts"
   ]
  },
  {
   "cell_type": "code",
   "execution_count": null,
   "id": "6e48f3fe",
   "metadata": {},
   "outputs": [],
   "source": []
  }
 ],
 "metadata": {
  "hide_input": false,
  "kernelspec": {
   "display_name": "Python 3 (ipykernel)",
   "language": "python",
   "name": "python3"
  },
  "language_info": {
   "codemirror_mode": {
    "name": "ipython",
    "version": 3
   },
   "file_extension": ".py",
   "mimetype": "text/x-python",
   "name": "python",
   "nbconvert_exporter": "python",
   "pygments_lexer": "ipython3",
   "version": "3.8.12"
  },
  "varInspector": {
   "cols": {
    "lenName": 16,
    "lenType": 16,
    "lenVar": 40
   },
   "kernels_config": {
    "python": {
     "delete_cmd_postfix": "",
     "delete_cmd_prefix": "del ",
     "library": "var_list.py",
     "varRefreshCmd": "print(var_dic_list())"
    },
    "r": {
     "delete_cmd_postfix": ") ",
     "delete_cmd_prefix": "rm(",
     "library": "var_list.r",
     "varRefreshCmd": "cat(var_dic_list()) "
    }
   },
   "types_to_exclude": [
    "module",
    "function",
    "builtin_function_or_method",
    "instance",
    "_Feature"
   ],
   "window_display": false
  }
 },
 "nbformat": 4,
 "nbformat_minor": 5
}
