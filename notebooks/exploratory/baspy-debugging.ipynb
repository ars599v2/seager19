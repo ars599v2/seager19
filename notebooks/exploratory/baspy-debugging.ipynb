{
 "cells": [
  {
   "cell_type": "markdown",
   "id": "6ca79463",
   "metadata": {},
   "source": [
    "# Analysis"
   ]
  },
  {
   "cell_type": "code",
   "execution_count": 1,
   "id": "a6f3d9fc",
   "metadata": {
    "ExecuteTime": {
     "end_time": "2022-03-02T11:45:36.249745Z",
     "start_time": "2022-03-02T11:45:36.227302Z"
    }
   },
   "outputs": [],
   "source": [
    "# Convenient jupyter setup\n",
    "%load_ext autoreload\n",
    "%autoreload 2\n",
    "%config IPCompleter.greedy=True"
   ]
  },
  {
   "cell_type": "code",
   "execution_count": 2,
   "id": "dd9696a5",
   "metadata": {
    "ExecuteTime": {
     "end_time": "2022-03-02T11:45:40.596248Z",
     "start_time": "2022-03-02T11:45:36.791479Z"
    }
   },
   "outputs": [],
   "source": [
    "# set up plotting settings for dark mode.\n",
    "from jupyterthemes import jtplot\n",
    "jtplot.style(theme=\"grade3\", context=\"notebook\", ticks=True, grid=False)\n",
    "from src.plot_utils import ps_defaults\n",
    "ps_defaults(use_tex=False, dpi=150)"
   ]
  },
  {
   "cell_type": "code",
   "execution_count": 12,
   "id": "bd70cdc5",
   "metadata": {
    "ExecuteTime": {
     "end_time": "2022-03-02T12:00:54.447697Z",
     "start_time": "2022-03-02T11:59:54.505712Z"
    }
   },
   "outputs": [
    {
     "ename": "ValueError",
     "evalue": ">> WARNING: Multiple file extensions present in /badc/cmip5/data/cmip5/output1/ICHEC/EC-EARTH/historical/mon/atmos/Amon/r1i1p1/v20131231/ts/ <<",
     "output_type": "error",
     "traceback": [
      "\u001b[0;31m---------------------------------------------------------------------------\u001b[0m",
      "\u001b[0;31mValueError\u001b[0m                                Traceback (most recent call last)",
      "Input \u001b[0;32mIn [12]\u001b[0m, in \u001b[0;36m<module>\u001b[0;34m\u001b[0m\n\u001b[1;32m      8\u001b[0m \u001b[38;5;66;03m### Iterate over rows in catalogue\u001b[39;00m\n\u001b[1;32m      9\u001b[0m \u001b[38;5;28;01mfor\u001b[39;00m index, row \u001b[38;5;129;01min\u001b[39;00m df\u001b[38;5;241m.\u001b[39miterrows():\n\u001b[1;32m     10\u001b[0m \n\u001b[1;32m     11\u001b[0m     \u001b[38;5;66;03m### In Xarray\u001b[39;00m\n\u001b[0;32m---> 12\u001b[0m     ds \u001b[38;5;241m=\u001b[39m \u001b[43mbp\u001b[49m\u001b[38;5;241;43m.\u001b[39;49m\u001b[43mopen_dataset\u001b[49m\u001b[43m(\u001b[49m\u001b[43mrow\u001b[49m\u001b[43m)\u001b[49m\n",
      "File \u001b[0;32m~/PYTHON/baspy/baspy/_xarray/__init__.py:7\u001b[0m, in \u001b[0;36mopen_dataset\u001b[0;34m(df)\u001b[0m\n\u001b[1;32m      6\u001b[0m \u001b[38;5;28;01mdef\u001b[39;00m \u001b[38;5;21mopen_dataset\u001b[39m(df):\n\u001b[0;32m----> 7\u001b[0m     files \u001b[38;5;241m=\u001b[39m \u001b[43mget_files\u001b[49m\u001b[43m(\u001b[49m\u001b[43mdf\u001b[49m\u001b[43m)\u001b[49m\n\u001b[1;32m      8\u001b[0m     \u001b[38;5;28;01mif\u001b[39;00m \u001b[38;5;28mlen\u001b[39m(files) \u001b[38;5;241m==\u001b[39m \u001b[38;5;241m1\u001b[39m:\n\u001b[1;32m      9\u001b[0m         ds \u001b[38;5;241m=\u001b[39m xr\u001b[38;5;241m.\u001b[39mopen_dataset(files[\u001b[38;5;241m0\u001b[39m])\n",
      "File \u001b[0;32m~/PYTHON/baspy/baspy/_catalogue.py:671\u001b[0m, in \u001b[0;36mget_files\u001b[0;34m(df)\u001b[0m\n\u001b[1;32m    668\u001b[0m list_file_extensions \u001b[38;5;241m=\u001b[39m [file\u001b[38;5;241m.\u001b[39msplit(\u001b[38;5;124m\"\u001b[39m\u001b[38;5;124m.\u001b[39m\u001b[38;5;124m\"\u001b[39m)[\u001b[38;5;241m-\u001b[39m\u001b[38;5;241m1\u001b[39m] \u001b[38;5;28;01mfor\u001b[39;00m file \u001b[38;5;129;01min\u001b[39;00m files]\n\u001b[1;32m    669\u001b[0m \u001b[38;5;28;01mif\u001b[39;00m \u001b[38;5;28mlen\u001b[39m(pd\u001b[38;5;241m.\u001b[39munique(list_file_extensions)) \u001b[38;5;241m>\u001b[39m \u001b[38;5;241m1\u001b[39m:\n\u001b[1;32m    670\u001b[0m     \u001b[38;5;66;03m# Should we automatically select which extension to use?? (i.e., .nc vs .nc4) !!\u001b[39;00m\n\u001b[0;32m--> 671\u001b[0m     \u001b[38;5;28;01mraise\u001b[39;00m \u001b[38;5;167;01mValueError\u001b[39;00m(\n\u001b[1;32m    672\u001b[0m         \u001b[38;5;124m\"\u001b[39m\u001b[38;5;124m>> WARNING: Multiple file extensions present in \u001b[39m\u001b[38;5;124m\"\u001b[39m \u001b[38;5;241m+\u001b[39m directory \u001b[38;5;241m+\u001b[39m \u001b[38;5;124m\"\u001b[39m\u001b[38;5;124m <<\u001b[39m\u001b[38;5;124m\"\u001b[39m\n\u001b[1;32m    673\u001b[0m     )\n\u001b[1;32m    675\u001b[0m \u001b[38;5;28;01mreturn\u001b[39;00m files\n",
      "\u001b[0;31mValueError\u001b[0m: >> WARNING: Multiple file extensions present in /badc/cmip5/data/cmip5/output1/ICHEC/EC-EARTH/historical/mon/atmos/Amon/r1i1p1/v20131231/ts/ <<"
     ]
    }
   ],
   "source": [
    "import baspy as bp\n",
    " \n",
    "### Retrieve a filtered version of the CMIP5 catalogue as a Pandas DataFrame\n",
    "df = bp.catalogue(dataset='cmip5', Model='HadGEM2-CC', RunID='r1i1p1', \n",
    "                 Experiment='historical', Var=['ts'], \n",
    "                Frequency='mon')\n",
    "\n",
    "### Iterate over rows in catalogue\n",
    "for index, row in df.iterrows():\n",
    "\n",
    "    ### In Xarray\n",
    "    ds = bp.open_dataset(row)"
   ]
  },
  {
   "cell_type": "code",
   "execution_count": null,
   "id": "1edb2326",
   "metadata": {
    "ExecuteTime": {
     "end_time": "2022-03-02T12:00:54.451165Z",
     "start_time": "2022-03-02T12:00:54.451155Z"
    }
   },
   "outputs": [],
   "source": [
    "ds"
   ]
  },
  {
   "cell_type": "code",
   "execution_count": 10,
   "id": "7ca77ed1",
   "metadata": {
    "ExecuteTime": {
     "end_time": "2022-03-02T11:59:24.117468Z",
     "start_time": "2022-03-02T11:59:24.093815Z"
    }
   },
   "outputs": [
    {
     "data": {
      "text/plain": [
       "<xarray.core.options.set_options at 0x7f6ef97fee50>"
      ]
     },
     "execution_count": 10,
     "metadata": {},
     "output_type": "execute_result"
    }
   ],
   "source": [
    "import xarray as xr\n",
    "xr.set_options(display_style='text')\n"
   ]
  },
  {
   "cell_type": "code",
   "execution_count": null,
   "id": "1f7ecbca",
   "metadata": {
    "ExecuteTime": {
     "end_time": "2022-03-02T12:00:54.453604Z",
     "start_time": "2022-03-02T12:00:54.453595Z"
    }
   },
   "outputs": [],
   "source": [
    "bp.catalogue?"
   ]
  },
  {
   "cell_type": "code",
   "execution_count": null,
   "id": "0e3382d2",
   "metadata": {},
   "outputs": [],
   "source": []
  }
 ],
 "metadata": {
  "hide_input": false,
  "kernelspec": {
   "display_name": "Python 3 (ipykernel)",
   "language": "python",
   "name": "python3"
  },
  "language_info": {
   "codemirror_mode": {
    "name": "ipython",
    "version": 3
   },
   "file_extension": ".py",
   "mimetype": "text/x-python",
   "name": "python",
   "nbconvert_exporter": "python",
   "pygments_lexer": "ipython3",
   "version": "3.8.12"
  },
  "varInspector": {
   "cols": {
    "lenName": 16,
    "lenType": 16,
    "lenVar": 40
   },
   "kernels_config": {
    "python": {
     "delete_cmd_postfix": "",
     "delete_cmd_prefix": "del ",
     "library": "var_list.py",
     "varRefreshCmd": "print(var_dic_list())"
    },
    "r": {
     "delete_cmd_postfix": ") ",
     "delete_cmd_prefix": "rm(",
     "library": "var_list.r",
     "varRefreshCmd": "cat(var_dic_list()) "
    }
   },
   "types_to_exclude": [
    "module",
    "function",
    "builtin_function_or_method",
    "instance",
    "_Feature"
   ],
   "window_display": false
  }
 },
 "nbformat": 4,
 "nbformat_minor": 5
}
