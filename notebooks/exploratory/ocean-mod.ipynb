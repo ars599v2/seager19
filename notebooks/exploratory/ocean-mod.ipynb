{
 "cells": [
  {
   "cell_type": "markdown",
   "id": "6ca79463",
   "metadata": {},
   "source": [
    "# Analysis"
   ]
  },
  {
   "cell_type": "code",
   "execution_count": 1,
   "id": "a6f3d9fc",
   "metadata": {
    "ExecuteTime": {
     "end_time": "2021-06-01T12:22:31.507201Z",
     "start_time": "2021-06-01T12:22:31.435944Z"
    }
   },
   "outputs": [],
   "source": [
    "# Convenient jupyter setup\n",
    "%load_ext autoreload\n",
    "%autoreload 2\n",
    "%config IPCompleter.greedy=True"
   ]
  },
  {
   "cell_type": "code",
   "execution_count": 2,
   "id": "dd9696a5",
   "metadata": {
    "ExecuteTime": {
     "end_time": "2021-06-01T12:22:44.458591Z",
     "start_time": "2021-06-01T12:22:35.700160Z"
    }
   },
   "outputs": [],
   "source": [
    "# set up plotting settings for dark mode.\n",
    "from jupyterthemes import jtplot\n",
    "jtplot.style(theme=\"grade3\", context=\"notebook\", ticks=True, grid=False)\n",
    "from src.plot_settings import ps_defaults\n",
    "ps_defaults(use_tex=False, dpi=150)"
   ]
  },
  {
   "cell_type": "markdown",
   "id": "7ee3176a",
   "metadata": {},
   "source": [
    "$r_E\\begin{bmatrix}u_E\\\\ v_E \\end{bmatrix} + f \\begin{bmatrix}- v_E\\\\ u_E \\end{bmatrix} = \\frac{1}{\\rho H^{*}} \\begin{bmatrix}- \\tau^{x}\\\\ \\tau^{y} \\end{bmatrix}$\n",
    "\n",
    "$\\begin{bmatrix}u_{m;\\;t}\\\\ v_{m;\\; t} \\end{bmatrix} + f \\begin{bmatrix}- v_m\\\\ u_m \\end{bmatrix} = -g \\begin{bmatrix}- h_{m;\\;x}\\\\ h_{m;\\;y} \\end{bmatrix}  - r_m \\begin{bmatrix} u_m\\\\ v_m \\end{bmatrix}$\n",
    "\n",
    "$u_{m;\\;x} + v_{m;\\;y} = - h_{m;\\;t} - r_m\\cdot h_{m} $\n",
    "\n",
    "$w_s = H_s\\left(u_{s;\\;x} + v_{s;y}\\right)$\n",
    "\n",
    "$T_{s;\\;t} + \\begin{bmatrix} u_s\\\\ v_s \\\\ w_s \\end{bmatrix} \\cdot \\nabla T_s  + M(w_{s})\\gamma \\frac{T_s - T_d}{H_s}  = - \\frac{\\bar{Q} + Q'}{\\rho c_{pw} H_s}$\n",
    "\n",
    "$\\frac{1}{H^{*}}= \\frac{1}{H_s} - \\frac{1}{D_1} - \\frac{1}{D_2}$\n",
    "\n",
    "\n",
    " "
   ]
  },
  {
   "cell_type": "raw",
   "id": "7219bf26",
   "metadata": {
    "ExecuteTime": {
     "end_time": "2021-06-01T12:44:43.066537Z",
     "start_time": "2021-06-01T12:44:42.919131Z"
    }
   },
   "source": [
    "\\begin{align}\n",
    "\n",
    "r_E\\begin{bmatrix}u_E\\\\ v_E \\end{bmatrix} + f \\begin{bmatrix}- v_E\\\\ u_E \\end{bmatrix} = \\frac{1}{\\rho H^{*}} \\begin{bmatrix}- \\tau^{x}\\\\ \\tau^{y} \\end{bmatrix}\\\\\n",
    "\n",
    "\\begin{bmatrix}u_{m;\\;t}\\\\ v_{m;\\; t} \\end{bmatrix} + f \\begin{bmatrix}- v_m\\\\ u_m \\end{bmatrix} = -g \\begin{bmatrix}- h_{m;\\;x}\\\\ h_{m;\\;y} \\end{bmatrix}  - r_m \\begin{bmatrix} u_m\\\\ v_m \\end{bmatrix} \\\\\n",
    "\n",
    "u_{m;\\;x} + v_{m;\\;y} = - h_{m;\\;t} - r_m\\cdot h_{m} \\\\\n",
    "\n",
    "\\end{align}"
   ]
  },
  {
   "cell_type": "code",
   "execution_count": 11,
   "id": "e0e213ba",
   "metadata": {
    "ExecuteTime": {
     "end_time": "2021-06-01T18:50:51.888588Z",
     "start_time": "2021-06-01T18:50:50.093242Z"
    }
   },
   "outputs": [],
   "source": [
    "from src.configs.load_config import load_config\n",
    "from src.models.model_setup import ModelSetup\n",
    "from src.constants import TEST_DIREC\n",
    "from src.models.ocean import Ocean"
   ]
  },
  {
   "cell_type": "code",
   "execution_count": 9,
   "id": "4802569a",
   "metadata": {
    "ExecuteTime": {
     "end_time": "2021-06-01T18:47:58.937755Z",
     "start_time": "2021-06-01T18:47:53.756248Z"
    }
   },
   "outputs": [
    {
     "name": "stdout",
     "output_type": "stream",
     "text": [
      "{'project': 'seager19', 'user': 'test_user', 'test': True, 'notes': 'test', 'run': True, 'animate': True, 'atmos': True, 'ocean': {'tcom_name': 'tcom', 'tios2cdf_name': 'tios2cdf', 'spin': True, 'diag': True, 'ingrid': True, 'run_through': True}, 'oc': {'nummode': 2, 'boundaries': 'Periodic', 'wind_file': 'tau-ECMWF-clim', 'dq_dtemp_file': 'dQdT-sample.nc', 'dq_df_file': 'dQdf-sample.nc', 'mask_file': 'om_mask.nc', 'time_test': '2 months', 'time_spin': '2 months', 'time_diag': '2 years', 'time_run2f': '58 years'}, 'coup': {'c_d': 0.00225, 'rho_air': 1.225}, 'atm': {'k_days': 10, 'e_frac': 2.0, 'prcp_land': 1, 'r': 0.8, 'h_q': 1800, 'wnsp_min': 4, 'rho_00': 0.3, 'pr_max': '20.0 / 3600 / 24', 'relative_humidity': 0.8, 'number_iterations': 50, 'height_tropopause': 15000.0, 'theta_00': 300, 'nbsq': 0.0003, 'radius_earth': 6370000.0, 'pi': 3.141592653589793, 'stefan_boltzman_const': 5.67e-08, 'sec_in_day': 86400, 'gravity': 9.8, 'temp_0_c': 273.15, 'omega_2': '2 * 2 * ${atm.pi} / ${atm.sec_in_day}', 'latent_heat_vap': 2500000.0, 'cp_air': 1000, 'b_coeff': '${atm.gravity} * ${atm.pi} / ${atm.nbsq} / ${atm.theta_00} / ${atm.height_tropopause}', 'eps_days': 0.75, 'eps': '1.0 / ${atm.eps_days} / ${atm.sec_in_day}', 'eps_u': '${atm.eps}', 'eps_v': '${atm.e_frac} * ${atm.eps}', 'newtonian_cooling_coeff_k1': '${atm.b_coeff} / ${atm.k_days} / ${atm.sec_in_day}', 'eps_p': '(${atm.pi} / ${atm.height_tropopause}) ** 2 / ${atm.nbsq} / ${atm.k_days} / ${atm.sec_in_day}', 'beta': '${atm.omega_2} / ${atm.radius_earth}', 'rho_air': 1.225, 'emmisivity': 0.97, 'p_s': 1000, 'es_0': 6.11, 'delta_temp': 1.0, 'f2': 0.05, 'a_cloud_const': 0.6, 'f1_bar': 0.39, 'u_bar': 5.0, 'temp_surface_bar': '${atm.temp_0_c} + 25', 'c_e': 0.00125, 'c_bar': 0.6, 'qlh_coeff': '${atm.rho_air} * ${atm.c_e} * ${atm.latent_heat_vap}', 'qlw_coeff': '${atm.emmisivity} * ${atm.stefan_boltzman_const}', 'nx': 180, 'ny': 60, 'y_north_lim': 60, 'y_south_lim': '-${atm.y_north_lim} / 1', 'dx': '360 / ${atm.nx}', 'dy': '(${atm.y_north_lim} - ${atm.y_south_lim}) / ${atm.ny}'}, 'name': 'test_run'}\n",
      "{'project': 'seager19', 'user': 'test_user', 'test': True, 'notes': 'test', 'run': True, 'animate': True, 'atmos': True, 'ocean': {'tcom_name': 'tcom', 'tios2cdf_name': 'tios2cdf', 'spin': True, 'diag': True, 'ingrid': True, 'run_through': True}, 'oc': {'nummode': 2, 'boundaries': 'Periodic', 'wind_file': 'tau-ECMWF-clim', 'dq_dtemp_file': 'dQdT-sample.nc', 'dq_df_file': 'dQdf-sample.nc', 'mask_file': 'om_mask.nc', 'time_test': '2 months', 'time_spin': '2 months', 'time_diag': '2 years', 'time_run2f': '58 years'}, 'coup': {'c_d': 0.00225, 'rho_air': 1.225}, 'atm': {'k_days': 10, 'e_frac': 2.0, 'prcp_land': 1, 'r': 0.8, 'h_q': 1800, 'wnsp_min': 4, 'rho_00': 0.3, 'pr_max': 0.0002314814814814815, 'relative_humidity': 0.8, 'number_iterations': 50, 'height_tropopause': 15000.0, 'theta_00': 300, 'nbsq': 0.0003, 'radius_earth': 6370000.0, 'pi': 3.141592653589793, 'stefan_boltzman_const': 5.67e-08, 'sec_in_day': 86400, 'gravity': 9.8, 'temp_0_c': 273.15, 'omega_2': 0.0001454441043328608, 'latent_heat_vap': 2500000.0, 'cp_air': 1000, 'b_coeff': 0.022805635559392575, 'eps_days': 0.75, 'eps': 1.54320987654321e-05, 'eps_u': '${atm.eps}', 'eps_v': 3.08641975308642e-05, 'newtonian_cooling_coeff_k1': 2.639541152707474e-08, 'eps_p': 1.6923189988150473e-10, 'beta': 2.2832669440009544e-11, 'rho_air': 1.225, 'emmisivity': 0.97, 'p_s': 1000, 'es_0': 6.11, 'delta_temp': 1.0, 'f2': 0.05, 'a_cloud_const': 0.6, 'f1_bar': 0.39, 'u_bar': 5.0, 'temp_surface_bar': '${atm.temp_0_c} + 25', 'c_e': 0.00125, 'c_bar': 0.6, 'qlh_coeff': 3828.125, 'qlw_coeff': 5.4998999999999995e-08, 'nx': 180, 'ny': 60, 'y_north_lim': 60, 'y_south_lim': -60.0, 'dx': 2.0, 'dy': 2.0}, 'name': 'test_run'}\n"
     ]
    }
   ],
   "source": [
    "cfg = load_config()\n",
    "setup = ModelSetup(str(TEST_DIREC))"
   ]
  },
  {
   "cell_type": "code",
   "execution_count": 13,
   "id": "b1243549",
   "metadata": {
    "ExecuteTime": {
     "end_time": "2021-06-01T19:24:53.886110Z",
     "start_time": "2021-06-01T18:52:58.749779Z"
    }
   },
   "outputs": [
    {
     "name": "stdout",
     "output_type": "stream",
     "text": [
      "editing  /home/users/sithom/seager19/src/test/test_direc/ocean/RUN/om_spin\n",
      "editing  /home/users/sithom/seager19/src/test/test_direc/ocean/RUN/om_diag\n",
      "editing  /home/users/sithom/seager19/src/test/test_direc/ocean/RUN/om_run2f\n",
      "cd /home/users/sithom/seager19/src/test/test_direc/ocean/RUN \n",
      "../SRC/tcom -i om_test 3.26542 s\n",
      "\n",
      "cd /home/users/sithom/seager19/src/test/test_direc/ocean/RUN \n",
      "../SRC/tcom -i om_spin -t om_spin.tios 396.15045 s\n",
      "\n",
      "cd /home/users/sithom/seager19/src/test/test_direc/ocean/RUN \n",
      "../SRC/tios2cdf -f output/om_spin 5.19427 s\n",
      "\n",
      "cd /home/users/sithom/seager19/src/test/test_direc/ocean/RUN \n",
      "rm -rf output/om_spin.data output/om_spin.indx 0.16287 s\n",
      "\n",
      "cd /home/users/sithom/seager19/src/test/test_direc/ocean/RUN \n",
      "cp -f output/om_spin.save output/om_spin.20y.restart 0.04848 s\n",
      "\n",
      "cd /home/users/sithom/seager19/src/test/test_direc/ocean/RUN \n",
      "../SRC/tcom -i om_diag -t om_diag.tios 54.51636 s\n",
      "\n",
      "cd /home/users/sithom/seager19/src/test/test_direc/ocean/RUN \n",
      "../SRC/tios2cdf -f output/om_diag 0.37767 s\n",
      "\n",
      "cd /home/users/sithom/seager19/src/test/test_direc/ocean/RUN \n",
      "rm -rf output/om_diag.data output/om_diag.indx 0.03382 s\n",
      "\n",
      "cd /home/users/sithom/seager19/src/test/test_direc/ocean/RUN \n",
      "cp -f output/om_diag.save output/om_diag.2y.restart 0.03741 s\n",
      "\n",
      "'linear_qflx_replacement'  0.67450 s \n",
      "\n",
      "cd /home/users/sithom/seager19/src/test/test_direc/ocean/RUN \n",
      "../SRC/tcom -i om_run2f -t om_run2f.tios 1453.59328 s\n",
      "\n"
     ]
    },
    {
     "ename": "Error",
     "evalue": "You must call wandb.init() before wandb.log()",
     "output_type": "error",
     "traceback": [
      "\u001b[0;31m---------------------------------------------------------------------------\u001b[0m",
      "\u001b[0;31mError\u001b[0m                                     Traceback (most recent call last)",
      "\u001b[0;32m<ipython-input-13-9d1f1bc2def3>\u001b[0m in \u001b[0;36m<module>\u001b[0;34m\u001b[0m\n\u001b[1;32m      2\u001b[0m \u001b[0mocean\u001b[0m\u001b[0;34m.\u001b[0m\u001b[0mcompile_all\u001b[0m\u001b[0;34m(\u001b[0m\u001b[0;34m)\u001b[0m\u001b[0;34m\u001b[0m\u001b[0;34m\u001b[0m\u001b[0m\n\u001b[1;32m      3\u001b[0m \u001b[0;32mif\u001b[0m \u001b[0mcfg\u001b[0m\u001b[0;34m.\u001b[0m\u001b[0mrun\u001b[0m\u001b[0;34m:\u001b[0m\u001b[0;34m\u001b[0m\u001b[0;34m\u001b[0m\u001b[0m\n\u001b[0;32m----> 4\u001b[0;31m    \u001b[0mocean\u001b[0m\u001b[0;34m.\u001b[0m\u001b[0mrun_all\u001b[0m\u001b[0;34m(\u001b[0m\u001b[0;34m)\u001b[0m\u001b[0;34m\u001b[0m\u001b[0;34m\u001b[0m\u001b[0m\n\u001b[0m\u001b[1;32m      5\u001b[0m \u001b[0;32mif\u001b[0m \u001b[0mcfg\u001b[0m\u001b[0;34m.\u001b[0m\u001b[0manimate\u001b[0m\u001b[0;34m:\u001b[0m\u001b[0;34m\u001b[0m\u001b[0;34m\u001b[0m\u001b[0m\n\u001b[1;32m      6\u001b[0m    \u001b[0mocean\u001b[0m\u001b[0;34m.\u001b[0m\u001b[0manimate_all\u001b[0m\u001b[0;34m(\u001b[0m\u001b[0;34m)\u001b[0m\u001b[0;34m\u001b[0m\u001b[0;34m\u001b[0m\u001b[0m\n",
      "\u001b[0;32m~/seager19/src/utils.py\u001b[0m in \u001b[0;36mtimed\u001b[0;34m(*args, **kw)\u001b[0m\n\u001b[1;32m     62\u001b[0m     \u001b[0;32mdef\u001b[0m \u001b[0mtimed\u001b[0m\u001b[0;34m(\u001b[0m\u001b[0;34m*\u001b[0m\u001b[0margs\u001b[0m\u001b[0;34m,\u001b[0m \u001b[0;34m**\u001b[0m\u001b[0mkw\u001b[0m\u001b[0;34m)\u001b[0m\u001b[0;34m:\u001b[0m\u001b[0;34m\u001b[0m\u001b[0;34m\u001b[0m\u001b[0m\n\u001b[1;32m     63\u001b[0m         \u001b[0mts\u001b[0m \u001b[0;34m=\u001b[0m \u001b[0mtime\u001b[0m\u001b[0;34m.\u001b[0m\u001b[0mperf_counter\u001b[0m\u001b[0;34m(\u001b[0m\u001b[0;34m)\u001b[0m\u001b[0;34m\u001b[0m\u001b[0;34m\u001b[0m\u001b[0m\n\u001b[0;32m---> 64\u001b[0;31m         \u001b[0mresult\u001b[0m \u001b[0;34m=\u001b[0m \u001b[0mmethod\u001b[0m\u001b[0;34m(\u001b[0m\u001b[0;34m*\u001b[0m\u001b[0margs\u001b[0m\u001b[0;34m,\u001b[0m \u001b[0;34m**\u001b[0m\u001b[0mkw\u001b[0m\u001b[0;34m)\u001b[0m\u001b[0;34m\u001b[0m\u001b[0;34m\u001b[0m\u001b[0m\n\u001b[0m\u001b[1;32m     65\u001b[0m         \u001b[0mte\u001b[0m \u001b[0;34m=\u001b[0m \u001b[0mtime\u001b[0m\u001b[0;34m.\u001b[0m\u001b[0mperf_counter\u001b[0m\u001b[0;34m(\u001b[0m\u001b[0;34m)\u001b[0m\u001b[0;34m\u001b[0m\u001b[0;34m\u001b[0m\u001b[0m\n\u001b[1;32m     66\u001b[0m         \u001b[0;31m# time.gmtime()\u001b[0m\u001b[0;34m\u001b[0m\u001b[0;34m\u001b[0m\u001b[0;34m\u001b[0m\u001b[0m\n",
      "\u001b[0;32m~/seager19/src/models/ocean.py\u001b[0m in \u001b[0;36mrun_all\u001b[0;34m(self)\u001b[0m\n\u001b[1;32m    148\u001b[0m                 \u001b[0;34m\"../SRC/\"\u001b[0m \u001b[0;34m+\u001b[0m \u001b[0mself\u001b[0m\u001b[0;34m.\u001b[0m\u001b[0mcfg\u001b[0m\u001b[0;34m.\u001b[0m\u001b[0mocean\u001b[0m\u001b[0;34m.\u001b[0m\u001b[0mtcom_name\u001b[0m \u001b[0;34m+\u001b[0m \u001b[0;34m\" -i om_run2f -t om_run2f.tios\"\u001b[0m\u001b[0;34m\u001b[0m\u001b[0;34m\u001b[0m\u001b[0m\n\u001b[1;32m    149\u001b[0m             )\n\u001b[0;32m--> 150\u001b[0;31m             \u001b[0mwandb\u001b[0m\u001b[0;34m.\u001b[0m\u001b[0mlog\u001b[0m\u001b[0;34m(\u001b[0m\u001b[0;34m{\u001b[0m\u001b[0;34m\"ocean_run\"\u001b[0m\u001b[0;34m:\u001b[0m \u001b[0mrun_time\u001b[0m\u001b[0;34m}\u001b[0m\u001b[0;34m)\u001b[0m\u001b[0;34m\u001b[0m\u001b[0;34m\u001b[0m\u001b[0m\n\u001b[0m\u001b[1;32m    151\u001b[0m             \u001b[0mself\u001b[0m\u001b[0;34m.\u001b[0m\u001b[0mrun\u001b[0m\u001b[0;34m(\u001b[0m\u001b[0;34m\"../SRC/\"\u001b[0m \u001b[0;34m+\u001b[0m \u001b[0mself\u001b[0m\u001b[0;34m.\u001b[0m\u001b[0mcfg\u001b[0m\u001b[0;34m.\u001b[0m\u001b[0mocean\u001b[0m\u001b[0;34m.\u001b[0m\u001b[0mtios2cdf_name\u001b[0m \u001b[0;34m+\u001b[0m \u001b[0;34m\" -f output/om_run2f\"\u001b[0m\u001b[0;34m)\u001b[0m\u001b[0;34m\u001b[0m\u001b[0;34m\u001b[0m\u001b[0m\n\u001b[1;32m    152\u001b[0m             \u001b[0mself\u001b[0m\u001b[0;34m.\u001b[0m\u001b[0mrun\u001b[0m\u001b[0;34m(\u001b[0m\u001b[0;34m\"rm -rf output/om_run2f.data output/om_run2f.indx\"\u001b[0m\u001b[0;34m)\u001b[0m\u001b[0;34m\u001b[0m\u001b[0;34m\u001b[0m\u001b[0m\n",
      "\u001b[0;32m~/seager19/env/lib/python3.8/site-packages/wandb/sdk/lib/preinit.py\u001b[0m in \u001b[0;36mpreinit_wrapper\u001b[0;34m(*args, **kwargs)\u001b[0m\n\u001b[1;32m     36\u001b[0m \u001b[0;32mdef\u001b[0m \u001b[0mPreInitCallable\u001b[0m\u001b[0;34m(\u001b[0m\u001b[0mname\u001b[0m\u001b[0;34m,\u001b[0m \u001b[0mdestination\u001b[0m\u001b[0;34m=\u001b[0m\u001b[0;32mNone\u001b[0m\u001b[0;34m)\u001b[0m\u001b[0;34m:\u001b[0m  \u001b[0;31m# noqa: N802\u001b[0m\u001b[0;34m\u001b[0m\u001b[0;34m\u001b[0m\u001b[0m\n\u001b[1;32m     37\u001b[0m     \u001b[0;32mdef\u001b[0m \u001b[0mpreinit_wrapper\u001b[0m\u001b[0;34m(\u001b[0m\u001b[0;34m*\u001b[0m\u001b[0margs\u001b[0m\u001b[0;34m,\u001b[0m \u001b[0;34m**\u001b[0m\u001b[0mkwargs\u001b[0m\u001b[0;34m)\u001b[0m\u001b[0;34m:\u001b[0m\u001b[0;34m\u001b[0m\u001b[0;34m\u001b[0m\u001b[0m\n\u001b[0;32m---> 38\u001b[0;31m         \u001b[0;32mraise\u001b[0m \u001b[0mwandb\u001b[0m\u001b[0;34m.\u001b[0m\u001b[0mError\u001b[0m\u001b[0;34m(\u001b[0m\u001b[0;34m\"You must call wandb.init() before {}()\"\u001b[0m\u001b[0;34m.\u001b[0m\u001b[0mformat\u001b[0m\u001b[0;34m(\u001b[0m\u001b[0mname\u001b[0m\u001b[0;34m)\u001b[0m\u001b[0;34m)\u001b[0m\u001b[0;34m\u001b[0m\u001b[0;34m\u001b[0m\u001b[0m\n\u001b[0m\u001b[1;32m     39\u001b[0m \u001b[0;34m\u001b[0m\u001b[0m\n\u001b[1;32m     40\u001b[0m     \u001b[0mpreinit_wrapper\u001b[0m\u001b[0;34m.\u001b[0m\u001b[0m__name__\u001b[0m \u001b[0;34m=\u001b[0m \u001b[0mstr\u001b[0m\u001b[0;34m(\u001b[0m\u001b[0mname\u001b[0m\u001b[0;34m)\u001b[0m\u001b[0;34m\u001b[0m\u001b[0;34m\u001b[0m\u001b[0m\n",
      "\u001b[0;31mError\u001b[0m: You must call wandb.init() before wandb.log()"
     ]
    }
   ],
   "source": [
    "ocean = Ocean(cfg, setup)\n",
    "ocean.compile_all()\n",
    "if cfg.run:\n",
    "   ocean.run_all()\n",
    "if cfg.animate:\n",
    "   ocean.animate_all()"
   ]
  },
  {
   "cell_type": "code",
   "execution_count": null,
   "id": "ea51cc0c",
   "metadata": {},
   "outputs": [],
   "source": []
  }
 ],
 "metadata": {
  "hide_input": false,
  "kernelspec": {
   "display_name": "Python 3",
   "language": "python",
   "name": "python3"
  },
  "language_info": {
   "codemirror_mode": {
    "name": "ipython",
    "version": 3
   },
   "file_extension": ".py",
   "mimetype": "text/x-python",
   "name": "python",
   "nbconvert_exporter": "python",
   "pygments_lexer": "ipython3",
   "version": "3.8.8"
  },
  "varInspector": {
   "cols": {
    "lenName": 16,
    "lenType": 16,
    "lenVar": 40
   },
   "kernels_config": {
    "python": {
     "delete_cmd_postfix": "",
     "delete_cmd_prefix": "del ",
     "library": "var_list.py",
     "varRefreshCmd": "print(var_dic_list())"
    },
    "r": {
     "delete_cmd_postfix": ") ",
     "delete_cmd_prefix": "rm(",
     "library": "var_list.r",
     "varRefreshCmd": "cat(var_dic_list()) "
    }
   },
   "types_to_exclude": [
    "module",
    "function",
    "builtin_function_or_method",
    "instance",
    "_Feature"
   ],
   "window_display": false
  }
 },
 "nbformat": 4,
 "nbformat_minor": 5
}
