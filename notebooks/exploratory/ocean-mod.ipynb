{
 "cells": [
  {
   "cell_type": "markdown",
   "id": "6ca79463",
   "metadata": {},
   "source": [
    "# Analysis"
   ]
  },
  {
   "cell_type": "code",
   "execution_count": 1,
   "id": "a6f3d9fc",
   "metadata": {
    "ExecuteTime": {
     "end_time": "2021-06-01T12:22:31.507201Z",
     "start_time": "2021-06-01T12:22:31.435944Z"
    }
   },
   "outputs": [],
   "source": [
    "# Convenient jupyter setup\n",
    "%load_ext autoreload\n",
    "%autoreload 2\n",
    "%config IPCompleter.greedy=True"
   ]
  },
  {
   "cell_type": "code",
   "execution_count": 2,
   "id": "dd9696a5",
   "metadata": {
    "ExecuteTime": {
     "end_time": "2021-06-01T12:22:44.458591Z",
     "start_time": "2021-06-01T12:22:35.700160Z"
    }
   },
   "outputs": [],
   "source": [
    "# set up plotting settings for dark mode.\n",
    "from jupyterthemes import jtplot\n",
    "jtplot.style(theme=\"grade3\", context=\"notebook\", ticks=True, grid=False)\n",
    "from src.plot_settings import ps_defaults\n",
    "ps_defaults(use_tex=False, dpi=150)"
   ]
  },
  {
   "cell_type": "markdown",
   "id": "4fd92845",
   "metadata": {},
   "source": [
    "$r_E\\begin{bmatrix}u_E\\\\ v_E \\end{bmatrix} + f \\begin{bmatrix}- v_E\\\\ u_E \\end{bmatrix} = \\frac{1}{\\rho H^{*}} \\begin{bmatrix}- \\tau^{x}\\\\ \\tau^{y} \\end{bmatrix}$\n",
    "\n",
    "$\\begin{bmatrix}u_{m;\\;t}\\\\ v_{m;\\; t} \\end{bmatrix} + f \\begin{bmatrix}- v_m\\\\ u_m \\end{bmatrix} = -g \\begin{bmatrix}- h_{m;\\;x}\\\\ h_{m;\\;y} \\end{bmatrix}  - r_m \\begin{bmatrix} u_m\\\\ v_m \\end{bmatrix}$\n",
    "\n",
    "$u_{m;\\;x} + v_{m;\\;y} = - h_{m;\\;t} - r_m\\cdot h_{m} $\n",
    "\n",
    "$w_s = H_s\\left(u_{s;\\;x} + v_{s;y}\\right)$\n",
    "\n",
    "$T_{s;\\;t} + \\begin{bmatrix} u_s\\\\ v_s \\\\ w_s \\end{bmatrix} \\cdot \\nabla T_s  + M(w_{s})\\gamma \\frac{T_s - T_d}{H_s}  = - \\frac{\\bar{Q} + Q'}{\\rho c_{pw} H_s}$\n",
    "\n",
    "$\\frac{1}{H^{*}}= \\frac{1}{H_s} - \\frac{1}{D_1} - \\frac{1}{D_2}$\n",
    "\n",
    "\n",
    " "
   ]
  },
  {
   "cell_type": "raw",
   "id": "5450154e",
   "metadata": {
    "ExecuteTime": {
     "end_time": "2021-06-01T12:44:43.066537Z",
     "start_time": "2021-06-01T12:44:42.919131Z"
    }
   },
   "source": [
    "\\begin{align}\n",
    "\n",
    "r_E\\begin{bmatrix}u_E\\\\ v_E \\end{bmatrix} + f \\begin{bmatrix}- v_E\\\\ u_E \\end{bmatrix} = \\frac{1}{\\rho H^{*}} \\begin{bmatrix}- \\tau^{x}\\\\ \\tau^{y} \\end{bmatrix}\\\\\n",
    "\n",
    "\\begin{bmatrix}u_{m;\\;t}\\\\ v_{m;\\; t} \\end{bmatrix} + f \\begin{bmatrix}- v_m\\\\ u_m \\end{bmatrix} = -g \\begin{bmatrix}- h_{m;\\;x}\\\\ h_{m;\\;y} \\end{bmatrix}  - r_m \\begin{bmatrix} u_m\\\\ v_m \\end{bmatrix} \\\\\n",
    "\n",
    "u_{m;\\;x} + v_{m;\\;y} = - h_{m;\\;t} - r_m\\cdot h_{m} \\\\\n",
    "\n",
    "\\end{align}"
   ]
  },
  {
   "cell_type": "code",
   "execution_count": null,
   "id": "fb4f9d41",
   "metadata": {},
   "outputs": [],
   "source": []
  }
 ],
 "metadata": {
  "hide_input": false,
  "kernelspec": {
   "display_name": "Python 3",
   "language": "python",
   "name": "python3"
  },
  "language_info": {
   "codemirror_mode": {
    "name": "ipython",
    "version": 3
   },
   "file_extension": ".py",
   "mimetype": "text/x-python",
   "name": "python",
   "nbconvert_exporter": "python",
   "pygments_lexer": "ipython3",
   "version": "3.8.8"
  },
  "varInspector": {
   "cols": {
    "lenName": 16,
    "lenType": 16,
    "lenVar": 40
   },
   "kernels_config": {
    "python": {
     "delete_cmd_postfix": "",
     "delete_cmd_prefix": "del ",
     "library": "var_list.py",
     "varRefreshCmd": "print(var_dic_list())"
    },
    "r": {
     "delete_cmd_postfix": ") ",
     "delete_cmd_prefix": "rm(",
     "library": "var_list.r",
     "varRefreshCmd": "cat(var_dic_list()) "
    }
   },
   "types_to_exclude": [
    "module",
    "function",
    "builtin_function_or_method",
    "instance",
    "_Feature"
   ],
   "window_display": false
  }
 },
 "nbformat": 4,
 "nbformat_minor": 5
}
