{
 "cells": [
  {
   "cell_type": "markdown",
   "id": "6ca79463",
   "metadata": {},
   "source": [
    "# Analysis"
   ]
  },
  {
   "cell_type": "code",
   "execution_count": 1,
   "id": "a6f3d9fc",
   "metadata": {
    "ExecuteTime": {
     "end_time": "2021-06-01T19:53:02.648564Z",
     "start_time": "2021-06-01T19:53:02.601947Z"
    }
   },
   "outputs": [],
   "source": [
    "# Convenient jupyter setup\n",
    "%load_ext autoreload\n",
    "%autoreload 2\n",
    "%config IPCompleter.greedy=True"
   ]
  },
  {
   "cell_type": "code",
   "execution_count": 5,
   "id": "dd9696a5",
   "metadata": {
    "ExecuteTime": {
     "end_time": "2021-06-01T19:56:17.261452Z",
     "start_time": "2021-06-01T19:56:16.310663Z"
    }
   },
   "outputs": [],
   "source": [
    "# set up plotting settings for dark mode.\n",
    "from jupyterthemes import jtplot\n",
    "jtplot.style(theme=\"grade3\", context=\"notebook\", ticks=True, grid=False)\n",
    "from src.plot_settings import ps_defaults\n",
    "ps_defaults(use_tex=False, dpi=150)"
   ]
  },
  {
   "cell_type": "markdown",
   "id": "fd98795e",
   "metadata": {},
   "source": [
    "$r_E\\begin{bmatrix}u_E\\\\ v_E \\end{bmatrix} + f \\begin{bmatrix}- v_E\\\\ u_E \\end{bmatrix} = \\frac{1}{\\rho H^{*}} \\begin{bmatrix}- \\tau^{x}\\\\ \\tau^{y} \\end{bmatrix}$\n",
    "\n",
    "$\\begin{bmatrix}u_{m;\\;t}\\\\ v_{m;\\; t} \\end{bmatrix} + f \\begin{bmatrix}- v_m\\\\ u_m \\end{bmatrix} = -g \\begin{bmatrix}- h_{m;\\;x}\\\\ h_{m;\\;y} \\end{bmatrix}  - r_m \\begin{bmatrix} u_m\\\\ v_m \\end{bmatrix}$\n",
    "\n",
    "$u_{m;\\;x} + v_{m;\\;y} = - h_{m;\\;t} - r_m\\cdot h_{m} $\n",
    "\n",
    "$w_s = H_s\\left(u_{s;\\;x} + v_{s;y}\\right)$\n",
    "\n",
    "$T_{s;\\;t} + \\begin{bmatrix} u_s\\\\ v_s \\\\ w_s \\end{bmatrix} \\cdot \\nabla T_s  + \\gamma M(w_{s}) \\frac{T_s - T_d}{H_s}  = - \\frac{\\bar{Q} + Q'}{\\rho c_{pw} H_s}$\n",
    "\n",
    "$\\frac{1}{H^{*}}= \\frac{1}{H_s} - \\frac{1}{D_1} - \\frac{1}{D_2}$\n",
    "\n",
    "\n",
    " "
   ]
  },
  {
   "cell_type": "raw",
   "id": "91ef8b10",
   "metadata": {
    "ExecuteTime": {
     "end_time": "2021-06-01T12:44:43.066537Z",
     "start_time": "2021-06-01T12:44:42.919131Z"
    }
   },
   "source": [
    "\\begin{align}\n",
    "\n",
    "r_E\\begin{bmatrix}u_E\\\\ v_E \\end{bmatrix} + f \\begin{bmatrix}- v_E\\\\ u_E \\end{bmatrix} = \\frac{1}{\\rho H^{*}} \\begin{bmatrix}- \\tau^{x}\\\\ \\tau^{y} \\end{bmatrix}\\\\\n",
    "\n",
    "\\begin{bmatrix}u_{m;\\;t}\\\\ v_{m;\\; t} \\end{bmatrix} + f \\begin{bmatrix}- v_m\\\\ u_m \\end{bmatrix} = -g \\begin{bmatrix}- h_{m;\\;x}\\\\ h_{m;\\;y} \\end{bmatrix}  - r_m \\begin{bmatrix} u_m\\\\ v_m \\end{bmatrix} \\\\\n",
    "\n",
    "u_{m;\\;x} + v_{m;\\;y} = - h_{m;\\;t} - r_m\\cdot h_{m} \\\\\n",
    "\n",
    "\\end{align}"
   ]
  },
  {
   "cell_type": "code",
   "execution_count": 2,
   "id": "6be64b74",
   "metadata": {
    "ExecuteTime": {
     "end_time": "2021-06-01T19:54:03.869367Z",
     "start_time": "2021-06-01T19:53:56.618349Z"
    }
   },
   "outputs": [],
   "source": [
    "from src.configs.load_config import load_config\n",
    "from src.models.model_setup import ModelSetup\n",
    "from src.constants import TEST_DIREC\n",
    "from src.models.ocean import Ocean"
   ]
  },
  {
   "cell_type": "code",
   "execution_count": 3,
   "id": "e5253d9d",
   "metadata": {
    "ExecuteTime": {
     "end_time": "2021-06-01T19:54:09.273954Z",
     "start_time": "2021-06-01T19:54:05.456317Z"
    }
   },
   "outputs": [
    {
     "name": "stdout",
     "output_type": "stream",
     "text": [
      "{'project': 'seager19', 'user': 'test_user', 'test': True, 'notes': 'test', 'run': True, 'animate': True, 'atmos': True, 'ocean': {'tcom_name': 'tcom', 'tios2cdf_name': 'tios2cdf', 'spin': False, 'diag': False, 'ingrid': False, 'run_through': False}, 'oc': {'nummode': 2, 'boundaries': 'Periodic', 'wind_file': 'tau-ECMWF-clim', 'dq_dtemp_file': 'dQdT-sample.nc', 'dq_df_file': 'dQdf-sample.nc', 'mask_file': 'om_mask.nc', 'time_test': '2 months', 'time_spin': '2 months', 'time_diag': '2 years', 'time_run2f': '58 years'}, 'coup': {'c_d': 0.00225, 'rho_air': 1.225}, 'atm': {'k_days': 10, 'e_frac': 2.0, 'prcp_land': 1, 'r': 0.8, 'h_q': 1800, 'wnsp_min': 4, 'rho_00': 0.3, 'pr_max': '20.0 / 3600 / 24', 'relative_humidity': 0.8, 'number_iterations': 50, 'height_tropopause': 15000.0, 'theta_00': 300, 'nbsq': 0.0003, 'radius_earth': 6370000.0, 'pi': 3.141592653589793, 'stefan_boltzman_const': 5.67e-08, 'sec_in_day': 86400, 'gravity': 9.8, 'temp_0_c': 273.15, 'omega_2': '2 * 2 * ${atm.pi} / ${atm.sec_in_day}', 'latent_heat_vap': 2500000.0, 'cp_air': 1000, 'b_coeff': '${atm.gravity} * ${atm.pi} / ${atm.nbsq} / ${atm.theta_00} / ${atm.height_tropopause}', 'eps_days': 0.75, 'eps': '1.0 / ${atm.eps_days} / ${atm.sec_in_day}', 'eps_u': '${atm.eps}', 'eps_v': '${atm.e_frac} * ${atm.eps}', 'newtonian_cooling_coeff_k1': '${atm.b_coeff} / ${atm.k_days} / ${atm.sec_in_day}', 'eps_p': '(${atm.pi} / ${atm.height_tropopause}) ** 2 / ${atm.nbsq} / ${atm.k_days} / ${atm.sec_in_day}', 'beta': '${atm.omega_2} / ${atm.radius_earth}', 'rho_air': 1.225, 'emmisivity': 0.97, 'p_s': 1000, 'es_0': 6.11, 'delta_temp': 1.0, 'f2': 0.05, 'a_cloud_const': 0.6, 'f1_bar': 0.39, 'u_bar': 5.0, 'temp_surface_bar': '${atm.temp_0_c} + 25', 'c_e': 0.00125, 'c_bar': 0.6, 'qlh_coeff': '${atm.rho_air} * ${atm.c_e} * ${atm.latent_heat_vap}', 'qlw_coeff': '${atm.emmisivity} * ${atm.stefan_boltzman_const}', 'nx': 180, 'ny': 60, 'y_north_lim': 60, 'y_south_lim': '-${atm.y_north_lim} / 1', 'dx': '360 / ${atm.nx}', 'dy': '(${atm.y_north_lim} - ${atm.y_south_lim}) / ${atm.ny}'}, 'name': 'test_run'}\n",
      "{'project': 'seager19', 'user': 'test_user', 'test': True, 'notes': 'test', 'run': True, 'animate': True, 'atmos': True, 'ocean': {'tcom_name': 'tcom', 'tios2cdf_name': 'tios2cdf', 'spin': False, 'diag': False, 'ingrid': False, 'run_through': False}, 'oc': {'nummode': 2, 'boundaries': 'Periodic', 'wind_file': 'tau-ECMWF-clim', 'dq_dtemp_file': 'dQdT-sample.nc', 'dq_df_file': 'dQdf-sample.nc', 'mask_file': 'om_mask.nc', 'time_test': '2 months', 'time_spin': '2 months', 'time_diag': '2 years', 'time_run2f': '58 years'}, 'coup': {'c_d': 0.00225, 'rho_air': 1.225}, 'atm': {'k_days': 10, 'e_frac': 2.0, 'prcp_land': 1, 'r': 0.8, 'h_q': 1800, 'wnsp_min': 4, 'rho_00': 0.3, 'pr_max': 0.0002314814814814815, 'relative_humidity': 0.8, 'number_iterations': 50, 'height_tropopause': 15000.0, 'theta_00': 300, 'nbsq': 0.0003, 'radius_earth': 6370000.0, 'pi': 3.141592653589793, 'stefan_boltzman_const': 5.67e-08, 'sec_in_day': 86400, 'gravity': 9.8, 'temp_0_c': 273.15, 'omega_2': 0.0001454441043328608, 'latent_heat_vap': 2500000.0, 'cp_air': 1000, 'b_coeff': 0.022805635559392575, 'eps_days': 0.75, 'eps': 1.54320987654321e-05, 'eps_u': '${atm.eps}', 'eps_v': 3.08641975308642e-05, 'newtonian_cooling_coeff_k1': 2.639541152707474e-08, 'eps_p': 1.6923189988150473e-10, 'beta': 2.2832669440009544e-11, 'rho_air': 1.225, 'emmisivity': 0.97, 'p_s': 1000, 'es_0': 6.11, 'delta_temp': 1.0, 'f2': 0.05, 'a_cloud_const': 0.6, 'f1_bar': 0.39, 'u_bar': 5.0, 'temp_surface_bar': '${atm.temp_0_c} + 25', 'c_e': 0.00125, 'c_bar': 0.6, 'qlh_coeff': 3828.125, 'qlw_coeff': 5.4998999999999995e-08, 'nx': 180, 'ny': 60, 'y_north_lim': 60, 'y_south_lim': -60.0, 'dx': 2.0, 'dy': 2.0}, 'name': 'test_run'}\n"
     ]
    }
   ],
   "source": [
    "cfg = load_config()\n",
    "setup = ModelSetup(str(TEST_DIREC))"
   ]
  },
  {
   "cell_type": "code",
   "execution_count": 4,
   "id": "7329e888",
   "metadata": {
    "ExecuteTime": {
     "end_time": "2021-06-01T19:54:27.204046Z",
     "start_time": "2021-06-01T19:54:09.779706Z"
    }
   },
   "outputs": [
    {
     "name": "stdout",
     "output_type": "stream",
     "text": [
      "editing  /home/users/sithom/seager19/src/test/test_direc/ocean/RUN/om_spin\n",
      "editing  /home/users/sithom/seager19/src/test/test_direc/ocean/RUN/om_diag\n",
      "editing  /home/users/sithom/seager19/src/test/test_direc/ocean/RUN/om_run2f\n",
      "cd /home/users/sithom/seager19/src/test/test_direc/ocean/RUN \n",
      "../SRC/tcom -i om_test 2.03007 s\n",
      "\n",
      "'run_all'  2.05800 s \n",
      "\n",
      "'animate_all'  0.00031 s \n",
      "\n"
     ]
    }
   ],
   "source": [
    "ocean = Ocean(cfg, setup)\n",
    "ocean.compile_all()\n",
    "if cfg.run:\n",
    "   ocean.run_all()\n",
    "if cfg.animate:\n",
    "   ocean.animate_all()"
   ]
  },
  {
   "cell_type": "code",
   "execution_count": 13,
   "id": "cb7be045",
   "metadata": {
    "ExecuteTime": {
     "end_time": "2021-06-01T19:58:21.847148Z",
     "start_time": "2021-06-01T19:58:21.748529Z"
    }
   },
   "outputs": [],
   "source": [
    "import os\n",
    "import xarray as xr"
   ]
  },
  {
   "cell_type": "code",
   "execution_count": 20,
   "id": "3f04b125",
   "metadata": {
    "ExecuteTime": {
     "end_time": "2021-06-01T20:01:33.115841Z",
     "start_time": "2021-06-01T20:01:32.228000Z"
    }
   },
   "outputs": [
    {
     "name": "stdout",
     "output_type": "stream",
     "text": [
      "<xarray.Dataset>\n",
      "Dimensions:  (T: 12, X: 360, Y: 181, Z: 1)\n",
      "Coordinates:\n",
      "  * Y        (Y) float32 -90.0 -89.0 -88.0 -87.0 -86.0 ... 87.0 88.0 89.0 90.0\n",
      "  * Z        (Z) float32 1.0\n",
      "  * T        (T) float32 0.5 1.5 2.5 3.5 4.5 5.5 6.5 7.5 8.5 9.5 10.5 11.5\n",
      "  * X        (X) float32 0.0 1.0 2.0 3.0 4.0 ... 355.0 356.0 357.0 358.0 359.0\n",
      "Data variables:\n",
      "    dQdT     (T, Z, Y, X) float32 ...\n"
     ]
    }
   ],
   "source": [
    "xr_da = xr.open_dataset(os.path.join(setup.ocean_data_path, cfg.oc.dq_dtemp_file), decode_times=False)\n",
    "print(xr_da)"
   ]
  },
  {
   "cell_type": "code",
   "execution_count": 22,
   "id": "591ebcb4",
   "metadata": {
    "ExecuteTime": {
     "end_time": "2021-06-01T20:02:25.259415Z",
     "start_time": "2021-06-01T20:02:25.137763Z"
    },
    "scrolled": true
   },
   "outputs": [
    {
     "name": "stdout",
     "output_type": "stream",
     "text": [
      "<xarray.Dataset>\n",
      "Dimensions:  (T: 12, X: 360, Y: 181, Z: 1)\n",
      "Coordinates:\n",
      "  * Y        (Y) float32 -90.0 -89.0 -88.0 -87.0 -86.0 ... 87.0 88.0 89.0 90.0\n",
      "  * Z        (Z) float32 1.0\n",
      "  * T        (T) float32 0.5 1.5 2.5 3.5 4.5 5.5 6.5 7.5 8.5 9.5 10.5 11.5\n",
      "  * X        (X) float32 0.0 1.0 2.0 3.0 4.0 ... 355.0 356.0 357.0 358.0 359.0\n",
      "Data variables:\n",
      "    dQdf     (T, Z, Y, X) float32 ...\n"
     ]
    }
   ],
   "source": [
    "xr_da = xr.open_dataset(os.path.join(setup.ocean_data_path, cfg.oc.dq_df_file), decode_times=False)\n",
    "print(xr_da)"
   ]
  },
  {
   "cell_type": "code",
   "execution_count": 23,
   "id": "7c95bbf7",
   "metadata": {
    "ExecuteTime": {
     "end_time": "2021-06-01T20:02:53.947903Z",
     "start_time": "2021-06-01T20:02:53.033636Z"
    }
   },
   "outputs": [
    {
     "data": {
      "text/plain": [
       "['dQdf-sample.nc',\n",
       " 'dQdT-sample.nc',\n",
       " 'om_mask.nc',\n",
       " 'qflx-0.nc',\n",
       " 'qflx.nc',\n",
       " 'qflx-test.nc',\n",
       " 'rzk.pro',\n",
       " 'spline_ECMWF.txt',\n",
       " 'sst-ECMWF-clim.nc',\n",
       " 'tau-ECMWF-clim.x',\n",
       " 'tau-ECMWF-clim.y',\n",
       " 'tau-ECMWF.x',\n",
       " 'tau-ECMWF.y']"
      ]
     },
     "execution_count": 23,
     "metadata": {},
     "output_type": "execute_result"
    }
   ],
   "source": [
    "os.listdir(setup.ocean_data_path)"
   ]
  },
  {
   "cell_type": "code",
   "execution_count": 28,
   "id": "62bbd48a",
   "metadata": {
    "ExecuteTime": {
     "end_time": "2021-06-01T20:05:26.955606Z",
     "start_time": "2021-06-01T20:05:25.773591Z"
    }
   },
   "outputs": [
    {
     "data": {
      "text/plain": [
       "['rzk.pro',\n",
       " 'spline_ECMWF.txt',\n",
       " 'dQdf-sample.nc',\n",
       " 'om_mask.nc',\n",
       " 'qflx.nc',\n",
       " 'tau-ECMWF.y',\n",
       " 'sst-ECMWF-clim.nc',\n",
       " 'tau-ECMWF.x',\n",
       " 'dQdT-sample.nc',\n",
       " 'qflx-0.nc',\n",
       " 'tau-ECMWF-clim.x',\n",
       " 'tau-ECMWF-clim.y',\n",
       " 'qflx-test.nc']"
      ]
     },
     "execution_count": 28,
     "metadata": {},
     "output_type": "execute_result"
    }
   ],
   "source": [
    "from src.constants import PROJECT_PATH\n",
    "setup_old = ModelSetup(str(PROJECT_PATH))\n",
    "os.listdir(setup_old.ocean_data_path)"
   ]
  },
  {
   "cell_type": "code",
   "execution_count": 29,
   "id": "ed54b32d",
   "metadata": {
    "ExecuteTime": {
     "end_time": "2021-06-01T20:06:28.904706Z",
     "start_time": "2021-06-01T20:06:27.964053Z"
    }
   },
   "outputs": [
    {
     "data": {
      "text/plain": [
       "['om_spin.20y.restart',\n",
       " 'om_run2f.nc',\n",
       " 'om_spin.nc',\n",
       " 'om_spin.save',\n",
       " 'om_run2f.save',\n",
       " 'om_diag.2y.restart',\n",
       " 'om_diag.nc',\n",
       " 'om_diag.save',\n",
       " 'om_run2f_T1.nc',\n",
       " 'om_spin_T1.nc',\n",
       " 'om_spin_T2.nc',\n",
       " 'om_diag_T2.nc',\n",
       " 'om_run2f_T2.nc',\n",
       " 'om_spin_T3.nc',\n",
       " 'om_diag_T3.nc',\n",
       " 'om_run2f_T3.nc']"
      ]
     },
     "execution_count": 29,
     "metadata": {},
     "output_type": "execute_result"
    }
   ],
   "source": [
    "os.listdir(setup_old.ocean_output_path)"
   ]
  },
  {
   "cell_type": "code",
   "execution_count": 30,
   "id": "3a975dee",
   "metadata": {
    "ExecuteTime": {
     "end_time": "2021-06-01T20:08:29.501478Z",
     "start_time": "2021-06-01T20:08:28.611121Z"
    }
   },
   "outputs": [
    {
     "data": {
      "text/plain": [
       "['S91-Hq1800-PrcpLand1.nc',\n",
       " 'S91-Hq1800-PrcpLand0.nc',\n",
       " 'S91-hq1800-prcp_land1.nc']"
      ]
     },
     "execution_count": 30,
     "metadata": {},
     "output_type": "execute_result"
    }
   ],
   "source": [
    "os.listdir(setup_old.atmos_tmp_path)"
   ]
  },
  {
   "cell_type": "code",
   "execution_count": 31,
   "id": "d7088f57",
   "metadata": {
    "ExecuteTime": {
     "end_time": "2021-06-01T20:08:53.039480Z",
     "start_time": "2021-06-01T20:08:52.933795Z"
    }
   },
   "outputs": [
    {
     "data": {
      "text/plain": [
       "['ps-ECMWF-clim.nc',\n",
       " 'ts-ECMWF-clim60.nc',\n",
       " 'sfcWind-ECMWF-clim60.nc',\n",
       " 'pr-ECMWF-trend.nc',\n",
       " 'sst-ECMWF-clim.nc',\n",
       " 'mask-360x181.nc',\n",
       " 'ts-ECMWF-clim.nc',\n",
       " 'mask-360x180.nc',\n",
       " 'clt-ECMWF-clim60.nc',\n",
       " 'ts-ECMWF-trend.nc',\n",
       " 'sst-ECMWF-trend.nc',\n",
       " 'rh-fixed-clim60.nc',\n",
       " 'rh-ECMWF-clim60.nc',\n",
       " 'sfcWind-ECMWF-clim.nc',\n",
       " 'pr-ECMWF-clim.nc']"
      ]
     },
     "execution_count": 31,
     "metadata": {},
     "output_type": "execute_result"
    }
   ],
   "source": [
    "os.listdir(setup_old.atmos_data_path)"
   ]
  },
  {
   "cell_type": "code",
   "execution_count": 32,
   "id": "30b3c4de",
   "metadata": {
    "ExecuteTime": {
     "end_time": "2021-06-01T20:10:32.033935Z",
     "start_time": "2021-06-01T20:10:31.933640Z"
    }
   },
   "outputs": [
    {
     "data": {
      "text/plain": [
       "'/home/users/sithom/seager19/atmos/DATA/mask-360x180.nc'"
      ]
     },
     "execution_count": 32,
     "metadata": {},
     "output_type": "execute_result"
    }
   ],
   "source": [
    "os.path.join(setup_old.atmos_data_path, \"mask-360x180.nc\")"
   ]
  },
  {
   "cell_type": "code",
   "execution_count": 35,
   "id": "dd7ce728",
   "metadata": {
    "ExecuteTime": {
     "end_time": "2021-06-01T20:12:34.972742Z",
     "start_time": "2021-06-01T20:12:34.031243Z"
    }
   },
   "outputs": [
    {
     "name": "stdout",
     "output_type": "stream",
     "text": [
      "<xarray.Dataset>\n",
      "Dimensions:  (X: 360, Y: 181)\n",
      "Coordinates:\n",
      "  * Y        (Y) float32 -90.0 -89.0 -88.0 -87.0 -86.0 ... 87.0 88.0 89.0 90.0\n",
      "  * X        (X) float32 0.0 1.0 2.0 3.0 4.0 ... 355.0 356.0 357.0 358.0 359.0\n",
      "Data variables:\n",
      "    ts       (Y, X) float32 ...\n"
     ]
    }
   ],
   "source": [
    "xr_da = xr.open_dataset(os.path.join(os.path.join(setup_old.atmos_data_path, \"ts-ECMWF-clim.nc\")), decode_times=False)\n",
    "print(xr_da)"
   ]
  },
  {
   "cell_type": "code",
   "execution_count": null,
   "id": "50629d99",
   "metadata": {},
   "outputs": [],
   "source": []
  }
 ],
 "metadata": {
  "hide_input": false,
  "kernelspec": {
   "display_name": "Python 3",
   "language": "python",
   "name": "python3"
  },
  "language_info": {
   "codemirror_mode": {
    "name": "ipython",
    "version": 3
   },
   "file_extension": ".py",
   "mimetype": "text/x-python",
   "name": "python",
   "nbconvert_exporter": "python",
   "pygments_lexer": "ipython3",
   "version": "3.8.8"
  },
  "varInspector": {
   "cols": {
    "lenName": 16,
    "lenType": 16,
    "lenVar": 40
   },
   "kernels_config": {
    "python": {
     "delete_cmd_postfix": "",
     "delete_cmd_prefix": "del ",
     "library": "var_list.py",
     "varRefreshCmd": "print(var_dic_list())"
    },
    "r": {
     "delete_cmd_postfix": ") ",
     "delete_cmd_prefix": "rm(",
     "library": "var_list.r",
     "varRefreshCmd": "cat(var_dic_list()) "
    }
   },
   "types_to_exclude": [
    "module",
    "function",
    "builtin_function_or_method",
    "instance",
    "_Feature"
   ],
   "window_display": false
  }
 },
 "nbformat": 4,
 "nbformat_minor": 5
}
