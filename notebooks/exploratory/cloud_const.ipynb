{
 "cells": [
  {
   "cell_type": "markdown",
   "id": "6ca79463",
   "metadata": {},
   "source": [
    "# Cloud constants"
   ]
  },
  {
   "cell_type": "code",
   "execution_count": 1,
   "id": "a6f3d9fc",
   "metadata": {
    "ExecuteTime": {
     "end_time": "2021-07-07T20:47:03.276760Z",
     "start_time": "2021-07-07T20:47:03.167970Z"
    }
   },
   "outputs": [],
   "source": [
    "# Convenient jupyter setup\n",
    "%load_ext autoreload\n",
    "%autoreload 2\n",
    "%config IPCompleter.greedy=True"
   ]
  },
  {
   "cell_type": "code",
   "execution_count": 2,
   "id": "dd9696a5",
   "metadata": {
    "ExecuteTime": {
     "end_time": "2021-07-07T20:47:17.556182Z",
     "start_time": "2021-07-07T20:47:12.147484Z"
    }
   },
   "outputs": [],
   "source": [
    "# set up plotting settings for dark mode.\n",
    "from jupyterthemes import jtplot\n",
    "jtplot.style(theme=\"grade3\", context=\"notebook\", ticks=True, grid=False)\n",
    "from src.plot_utils import ps_defaults\n",
    "ps_defaults(use_tex=False, dpi=150)"
   ]
  },
  {
   "cell_type": "code",
   "execution_count": null,
   "id": "8e7900c5",
   "metadata": {},
   "outputs": [],
   "source": [
    "from src.models.model_setup import ModelSetup, Atmos, Ocean\n",
    "from src.xr_utils import open_dataset, open_dataarray, get_trend, clip, can_coords, sel\n",
    "from src.utils import get_default_setup\n",
    "from src.configs.load_config import load_config\n",
    "from src.plot_utils import add_units, cmap, get_dim, label_subplots\n",
    "from src.plot_utils import cmap, get_dim\n",
    "from src.constants import UC_LOGS, FIGURE_DATA_PATH\n",
    "uncoupled_run_dir = str(UC_LOGS / \"it_1\")\n",
    "uc_2_dr = str(UC_LOGS / \"pap_2\")\n",
    "cfg = load_config(test=False)\n",
    "fig_data = xr.open_dataset(FIGURE_DATA_PATH)\n",
    "uc2_stp = ModelSetup(uc_2_dr, cfg, make_move=False)\n",
    "uc_f1_stp = ModelSetup(str(UC_LOGS / \"diff_f1prime_no_ingrid\"), cfg, make_move=False)\n",
    "uncoup_setup = ModelSetup(uncoupled_run_dir, cfg, make_move=False)\n",
    "coup_setup = get_default_setup()"
   ]
  }
 ],
 "metadata": {
  "hide_input": false,
  "kernelspec": {
   "display_name": "Python 3",
   "language": "python",
   "name": "python3"
  },
  "language_info": {
   "codemirror_mode": {
    "name": "ipython",
    "version": 3
   },
   "file_extension": ".py",
   "mimetype": "text/x-python",
   "name": "python",
   "nbconvert_exporter": "python",
   "pygments_lexer": "ipython3",
   "version": "3.8.8"
  },
  "varInspector": {
   "cols": {
    "lenName": 16,
    "lenType": 16,
    "lenVar": 40
   },
   "kernels_config": {
    "python": {
     "delete_cmd_postfix": "",
     "delete_cmd_prefix": "del ",
     "library": "var_list.py",
     "varRefreshCmd": "print(var_dic_list())"
    },
    "r": {
     "delete_cmd_postfix": ") ",
     "delete_cmd_prefix": "rm(",
     "library": "var_list.r",
     "varRefreshCmd": "cat(var_dic_list()) "
    }
   },
   "types_to_exclude": [
    "module",
    "function",
    "builtin_function_or_method",
    "instance",
    "_Feature"
   ],
   "window_display": false
  }
 },
 "nbformat": 4,
 "nbformat_minor": 5
}
