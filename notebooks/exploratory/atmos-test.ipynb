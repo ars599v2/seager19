{
 "cells": [
  {
   "cell_type": "markdown",
   "id": "6ca79463",
   "metadata": {},
   "source": [
    "# Atmospheric model"
   ]
  },
  {
   "cell_type": "code",
   "execution_count": 1,
   "id": "a6f3d9fc",
   "metadata": {
    "ExecuteTime": {
     "end_time": "2021-04-13T21:52:20.223925Z",
     "start_time": "2021-04-13T21:52:19.897600Z"
    }
   },
   "outputs": [],
   "source": [
    "# Convenient jupyter setup\n",
    "%load_ext autoreload\n",
    "%autoreload 2\n",
    "%config IPCompleter.greedy=True"
   ]
  },
  {
   "cell_type": "code",
   "execution_count": 1,
   "id": "dd9696a5",
   "metadata": {
    "ExecuteTime": {
     "end_time": "2021-04-13T21:53:36.583165Z",
     "start_time": "2021-04-13T21:53:31.531242Z"
    }
   },
   "outputs": [],
   "source": [
    "# set up plotting settings for dark mode.\n",
    "from jupyterthemes import jtplot\n",
    "jtplot.style(theme=\"grade3\", context=\"notebook\", ticks=True, grid=False)\n",
    "from src.plot_settings import ps_defaults\n",
    "ps_defaults(use_tex=False, dpi=150)"
   ]
  },
  {
   "cell_type": "code",
   "execution_count": 2,
   "id": "88eb16aa",
   "metadata": {
    "ExecuteTime": {
     "end_time": "2021-04-13T21:53:42.435388Z",
     "start_time": "2021-04-13T21:53:41.178901Z"
    }
   },
   "outputs": [
    {
     "name": "stdout",
     "output_type": "stream",
     "text": [
      "ECMWF ts /home/users/sithom/test/seager19/atmos/DATA/ts-ECMWF-clim60.nc\n",
      "/home/users/sithom/test/seager19/atmos/DATA/ts-ECMWF-clim60.nc\n",
      "ECMWF clt /home/users/sithom/test/seager19/atmos/DATA/clt-ECMWF-clim60.nc\n",
      "/home/users/sithom/test/seager19/atmos/DATA/clt-ECMWF-clim60.nc\n",
      "ECMWF sfcWind /home/users/sithom/test/seager19/atmos/DATA/sfcWind-ECMWF-clim60.nc\n",
      "/home/users/sithom/test/seager19/atmos/DATA/sfcWind-ECMWF-clim60.nc\n",
      "fixed rh /home/users/sithom/test/seager19/atmos/DATA/rh-fixed-clim60.nc\n",
      "/home/users/sithom/test/seager19/atmos/DATA/rh-fixed-clim60.nc\n",
      "U <class 'float'>\n",
      "U <class 'xarray.core.dataarray.DataArray'>\n",
      "U <class 'float'>\n",
      "U <class 'xarray.core.dataarray.DataArray'>\n"
     ]
    }
   ],
   "source": [
    "from src.models import atmos\n",
    "from src.data_loading.download import get_data"
   ]
  },
  {
   "cell_type": "code",
   "execution_count": 2,
   "id": "60b0bd36",
   "metadata": {
    "ExecuteTime": {
     "end_time": "2021-06-03T19:20:00.656675Z",
     "start_time": "2021-06-03T19:20:00.647648Z"
    }
   },
   "outputs": [
    {
     "ename": "NameError",
     "evalue": "name 'load_config' is not defined",
     "output_type": "error",
     "traceback": [
      "\u001b[0;31m---------------------------------------------------------------------------\u001b[0m",
      "\u001b[0;31mNameError\u001b[0m                                 Traceback (most recent call last)",
      "\u001b[0;32m<ipython-input-2-5f36682ca0cd>\u001b[0m in \u001b[0;36m<module>\u001b[0;34m\u001b[0m\n\u001b[0;32m----> 1\u001b[0;31m \u001b[0mcfg\u001b[0m \u001b[0;34m=\u001b[0m \u001b[0mload_config\u001b[0m\u001b[0;34m(\u001b[0m\u001b[0;34m)\u001b[0m\u001b[0;34m\u001b[0m\u001b[0;34m\u001b[0m\u001b[0m\n\u001b[0m\u001b[1;32m      2\u001b[0m \u001b[0msetup\u001b[0m \u001b[0;34m=\u001b[0m \u001b[0mModelSetup\u001b[0m\u001b[0;34m(\u001b[0m\u001b[0mstr\u001b[0m\u001b[0;34m(\u001b[0m\u001b[0mTEST_DIREC\u001b[0m\u001b[0;34m)\u001b[0m\u001b[0;34m)\u001b[0m\u001b[0;34m\u001b[0m\u001b[0;34m\u001b[0m\u001b[0m\n\u001b[1;32m      3\u001b[0m \u001b[0matmos\u001b[0m \u001b[0;34m=\u001b[0m \u001b[0mAtmos\u001b[0m\u001b[0;34m(\u001b[0m\u001b[0mcfg\u001b[0m\u001b[0;34m,\u001b[0m \u001b[0msetup\u001b[0m\u001b[0;34m)\u001b[0m\u001b[0;34m\u001b[0m\u001b[0;34m\u001b[0m\u001b[0m\n\u001b[1;32m      4\u001b[0m \u001b[0matmos\u001b[0m\u001b[0;34m.\u001b[0m\u001b[0mrun_all\u001b[0m\u001b[0;34m(\u001b[0m\u001b[0;34m)\u001b[0m\u001b[0;34m\u001b[0m\u001b[0;34m\u001b[0m\u001b[0m\n",
      "\u001b[0;31mNameError\u001b[0m: name 'load_config' is not defined"
     ]
    }
   ],
   "source": [
    "cfg = load_config()\n",
    "setup = ModelSetup(str(TEST_DIREC))\n",
    "atmos = Atmos(cfg, setup)\n",
    "atmos.run_all()"
   ]
  },
  {
   "cell_type": "code",
   "execution_count": null,
   "id": "5d03d005",
   "metadata": {},
   "outputs": [],
   "source": []
  }
 ],
 "metadata": {
  "hide_input": false,
  "kernelspec": {
   "display_name": "Python 3",
   "language": "python",
   "name": "python3"
  },
  "language_info": {
   "codemirror_mode": {
    "name": "ipython",
    "version": 3
   },
   "file_extension": ".py",
   "mimetype": "text/x-python",
   "name": "python",
   "nbconvert_exporter": "python",
   "pygments_lexer": "ipython3",
   "version": "3.8.8"
  },
  "varInspector": {
   "cols": {
    "lenName": 16,
    "lenType": 16,
    "lenVar": 40
   },
   "kernels_config": {
    "python": {
     "delete_cmd_postfix": "",
     "delete_cmd_prefix": "del ",
     "library": "var_list.py",
     "varRefreshCmd": "print(var_dic_list())"
    },
    "r": {
     "delete_cmd_postfix": ") ",
     "delete_cmd_prefix": "rm(",
     "library": "var_list.r",
     "varRefreshCmd": "cat(var_dic_list()) "
    }
   },
   "types_to_exclude": [
    "module",
    "function",
    "builtin_function_or_method",
    "instance",
    "_Feature"
   ],
   "window_display": false
  }
 },
 "nbformat": 4,
 "nbformat_minor": 5
}
