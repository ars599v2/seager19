{
 "cells": [
  {
   "cell_type": "markdown",
   "id": "6ca79463",
   "metadata": {},
   "source": [
    "# Analysis"
   ]
  },
  {
   "cell_type": "code",
   "execution_count": 1,
   "id": "a6f3d9fc",
   "metadata": {
    "ExecuteTime": {
     "end_time": "2021-04-13T21:52:20.223925Z",
     "start_time": "2021-04-13T21:52:19.897600Z"
    }
   },
   "outputs": [],
   "source": [
    "# Convenient jupyter setup\n",
    "%load_ext autoreload\n",
    "%autoreload 2\n",
    "%config IPCompleter.greedy=True"
   ]
  },
  {
   "cell_type": "code",
   "execution_count": 1,
   "id": "dd9696a5",
   "metadata": {
    "ExecuteTime": {
     "end_time": "2021-04-13T21:53:36.583165Z",
     "start_time": "2021-04-13T21:53:31.531242Z"
    }
   },
   "outputs": [],
   "source": [
    "# set up plotting settings for dark mode.\n",
    "from jupyterthemes import jtplot\n",
    "jtplot.style(theme=\"grade3\", context=\"notebook\", ticks=True, grid=False)\n",
    "from src.plot_settings import ps_defaults\n",
    "ps_defaults(use_tex=False, dpi=150)"
   ]
  },
  {
   "cell_type": "code",
   "execution_count": 2,
   "id": "88eb16aa",
   "metadata": {
    "ExecuteTime": {
     "end_time": "2021-04-13T21:53:42.435388Z",
     "start_time": "2021-04-13T21:53:41.178901Z"
    }
   },
   "outputs": [
    {
     "name": "stdout",
     "output_type": "stream",
     "text": [
      "ECMWF ts /home/users/sithom/test/seager19/atmos/DATA/ts-ECMWF-clim60.nc\n",
      "/home/users/sithom/test/seager19/atmos/DATA/ts-ECMWF-clim60.nc\n",
      "ECMWF clt /home/users/sithom/test/seager19/atmos/DATA/clt-ECMWF-clim60.nc\n",
      "/home/users/sithom/test/seager19/atmos/DATA/clt-ECMWF-clim60.nc\n",
      "ECMWF sfcWind /home/users/sithom/test/seager19/atmos/DATA/sfcWind-ECMWF-clim60.nc\n",
      "/home/users/sithom/test/seager19/atmos/DATA/sfcWind-ECMWF-clim60.nc\n",
      "fixed rh /home/users/sithom/test/seager19/atmos/DATA/rh-fixed-clim60.nc\n",
      "/home/users/sithom/test/seager19/atmos/DATA/rh-fixed-clim60.nc\n",
      "U <class 'float'>\n",
      "U <class 'xarray.core.dataarray.DataArray'>\n",
      "U <class 'float'>\n",
      "U <class 'xarray.core.dataarray.DataArray'>\n"
     ]
    }
   ],
   "source": [
    "from src.models import atmos\n",
    "from src.data_loading.download import get_data"
   ]
  },
  {
   "cell_type": "code",
   "execution_count": null,
   "id": "60b0bd36",
   "metadata": {},
   "outputs": [],
   "source": [
    "get_data()\n",
    "atmos.make_figure()\n",
    "atmos.output_trends()\n",
    "atmos.output_dq()"
   ]
  }
 ],
 "metadata": {
  "hide_input": false,
  "kernelspec": {
   "display_name": "Python 3",
   "language": "python",
   "name": "python3"
  },
  "language_info": {
   "codemirror_mode": {
    "name": "ipython",
    "version": 3
   },
   "file_extension": ".py",
   "mimetype": "text/x-python",
   "name": "python",
   "nbconvert_exporter": "python",
   "pygments_lexer": "ipython3",
   "version": "3.8.8"
  },
  "varInspector": {
   "cols": {
    "lenName": 16,
    "lenType": 16,
    "lenVar": 40
   },
   "kernels_config": {
    "python": {
     "delete_cmd_postfix": "",
     "delete_cmd_prefix": "del ",
     "library": "var_list.py",
     "varRefreshCmd": "print(var_dic_list())"
    },
    "r": {
     "delete_cmd_postfix": ") ",
     "delete_cmd_prefix": "rm(",
     "library": "var_list.r",
     "varRefreshCmd": "cat(var_dic_list()) "
    }
   },
   "types_to_exclude": [
    "module",
    "function",
    "builtin_function_or_method",
    "instance",
    "_Feature"
   ],
   "window_display": false
  }
 },
 "nbformat": 4,
 "nbformat_minor": 5
}
