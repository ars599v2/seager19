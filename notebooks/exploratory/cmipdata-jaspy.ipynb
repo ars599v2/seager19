{
 "cells": [
  {
   "cell_type": "markdown",
   "id": "6ca79463",
   "metadata": {},
   "source": [
    "# Analysis"
   ]
  },
  {
   "cell_type": "code",
   "execution_count": 1,
   "id": "a6f3d9fc",
   "metadata": {
    "ExecuteTime": {
     "end_time": "2022-03-03T11:18:07.668637Z",
     "start_time": "2022-03-03T11:18:07.649692Z"
    }
   },
   "outputs": [],
   "source": [
    "# Convenient jupyter setup\n",
    "%load_ext autoreload\n",
    "%autoreload 2\n",
    "%config IPCompleter.greedy=True"
   ]
  },
  {
   "cell_type": "code",
   "execution_count": 3,
   "id": "3420be52",
   "metadata": {
    "ExecuteTime": {
     "end_time": "2022-03-03T11:18:15.347864Z",
     "start_time": "2022-03-03T11:18:14.531789Z"
    }
   },
   "outputs": [
    {
     "name": "stdout",
     "output_type": "stream",
     "text": [
      "/home/users/sithom/miniconda3/bin/python\r\n"
     ]
    }
   ],
   "source": [
    "! which python"
   ]
  },
  {
   "cell_type": "code",
   "execution_count": 5,
   "id": "2d9bf9a0",
   "metadata": {
    "ExecuteTime": {
     "end_time": "2022-03-03T11:18:26.265290Z",
     "start_time": "2022-03-03T11:18:25.435192Z"
    }
   },
   "outputs": [
    {
     "name": "stdout",
     "output_type": "stream",
     "text": [
      "/apps/jasmin/jaspy/miniconda_envs/jaspy3.8/m3-4.9.2/envs/jaspy3.8-m3-4.9.2-r20211105/bin/cdo\r\n"
     ]
    }
   ],
   "source": [
    "! which cdo"
   ]
  },
  {
   "cell_type": "code",
   "execution_count": null,
   "id": "f41d78fb",
   "metadata": {
    "ExecuteTime": {
     "end_time": "2022-03-03T11:18:15.367135Z",
     "start_time": "2022-03-03T11:18:15.367126Z"
    }
   },
   "outputs": [],
   "source": [
    "! pip install -U -e ../../../PYTHON/cmipdata"
   ]
  },
  {
   "cell_type": "code",
   "execution_count": 4,
   "id": "b7a0920a",
   "metadata": {
    "ExecuteTime": {
     "end_time": "2022-03-03T11:18:18.163608Z",
     "start_time": "2022-03-03T11:18:15.566786Z"
    }
   },
   "outputs": [],
   "source": [
    "import cmipdata as cd"
   ]
  },
  {
   "cell_type": "code",
   "execution_count": 6,
   "id": "0b36becb",
   "metadata": {
    "ExecuteTime": {
     "end_time": "2022-03-03T11:19:13.702843Z",
     "start_time": "2022-03-03T11:19:13.241466Z"
    }
   },
   "outputs": [
    {
     "name": "stdout",
     "output_type": "stream",
     "text": [
      "This ensemble contains:\n",
      "0 variables\n",
      "0 models\n",
      "0 experiments\n",
      "0 realizations\n",
      "0 ncfiles\n",
      "\n",
      " For more details use ens.fulldetails() \n",
      "\n"
     ]
    }
   ],
   "source": [
    "ens = cd.mkensemble('sic_OImon*')"
   ]
  },
  {
   "cell_type": "code",
   "execution_count": 7,
   "id": "6f9edfec",
   "metadata": {
    "ExecuteTime": {
     "end_time": "2022-03-03T11:21:30.075175Z",
     "start_time": "2022-03-03T11:21:28.742748Z"
    }
   },
   "outputs": [
    {
     "name": "stdout",
     "output_type": "stream",
     "text": [
      "\u001b[0m\u001b[01;34mBCC\u001b[0m/    \u001b[01;34mCNRM-CERFACS\u001b[0m/  \u001b[01;34mFIO\u001b[0m/    \u001b[01;34mLASG-CESS\u001b[0m/  \u001b[01;34mMPI-M\u001b[0m/      \u001b[01;34mNCAR\u001b[0m/      \u001b[01;34mNOAA-GFDL\u001b[0m/\r\n",
      "\u001b[01;34mBNU\u001b[0m/    \u001b[01;34mCOLA-CFS\u001b[0m/      \u001b[01;34mICHEC\u001b[0m/  \u001b[01;34mLASG-IAP\u001b[0m/   \u001b[01;34mMRI\u001b[0m/        \u001b[01;34mNCC\u001b[0m/       \u001b[01;34mNOAA-NCEP\u001b[0m/\r\n",
      "\u001b[01;34mCCCma\u001b[0m/  \u001b[01;34mCSIRO-BOM\u001b[0m/     \u001b[01;34mINM\u001b[0m/    \u001b[01;34mMIROC\u001b[0m/      \u001b[01;34mNASA-GISS\u001b[0m/  \u001b[01;34mNICAM\u001b[0m/     \u001b[01;34mNSF-DOE-NCAR\u001b[0m/\r\n",
      "\u001b[01;34mCMCC\u001b[0m/   \u001b[01;34mCSIRO-QCCCE\u001b[0m/   \u001b[01;34mIPSL\u001b[0m/   \u001b[01;34mMOHC\u001b[0m/       \u001b[01;34mNASA-GMAO\u001b[0m/  \u001b[01;34mNIMR-KMA\u001b[0m/\r\n"
     ]
    }
   ],
   "source": [
    "ls /badc/cmip5/data/cmip5/output1"
   ]
  },
  {
   "cell_type": "code",
   "execution_count": 9,
   "id": "43b77732",
   "metadata": {
    "ExecuteTime": {
     "end_time": "2022-03-03T11:26:10.004502Z",
     "start_time": "2022-03-03T11:26:09.460689Z"
    }
   },
   "outputs": [
    {
     "ename": "IndexError",
     "evalue": "list index out of range",
     "output_type": "error",
     "traceback": [
      "\u001b[0;31m---------------------------------------------------------------------------\u001b[0m",
      "\u001b[0;31mIndexError\u001b[0m                                Traceback (most recent call last)",
      "\u001b[0;32m/tmp/ipykernel_37808/2090183170.py\u001b[0m in \u001b[0;36m<module>\u001b[0;34m\u001b[0m\n\u001b[0;32m----> 1\u001b[0;31m \u001b[0mens\u001b[0m \u001b[0;34m=\u001b[0m \u001b[0mcd\u001b[0m\u001b[0;34m.\u001b[0m\u001b[0mmkensemble\u001b[0m\u001b[0;34m(\u001b[0m\u001b[0;34m'/badc/cmip5/data/cmip5/output1/*'\u001b[0m\u001b[0;34m)\u001b[0m\u001b[0;34m\u001b[0m\u001b[0;34m\u001b[0m\u001b[0m\n\u001b[0m",
      "\u001b[0;32m~/PYTHON/cmipdata/cmipdata/classes.py\u001b[0m in \u001b[0;36mmkensemble\u001b[0;34m(filepattern, experiment, prefix, kwargs)\u001b[0m\n\u001b[1;32m    339\u001b[0m         \u001b[0mname\u001b[0m \u001b[0;34m=\u001b[0m \u001b[0mname\u001b[0m\u001b[0;34m.\u001b[0m\u001b[0mreplace\u001b[0m\u001b[0;34m(\u001b[0m\u001b[0mprefix\u001b[0m\u001b[0;34m,\u001b[0m \u001b[0;34m''\u001b[0m\u001b[0;34m)\u001b[0m\u001b[0;34m\u001b[0m\u001b[0;34m\u001b[0m\u001b[0m\n\u001b[1;32m    340\u001b[0m         \u001b[0mvariablename\u001b[0m \u001b[0;34m=\u001b[0m \u001b[0mname\u001b[0m\u001b[0;34m.\u001b[0m\u001b[0msplit\u001b[0m\u001b[0;34m(\u001b[0m\u001b[0mkwargs\u001b[0m\u001b[0;34m[\u001b[0m\u001b[0;34m'separator'\u001b[0m\u001b[0;34m]\u001b[0m\u001b[0;34m)\u001b[0m\u001b[0;34m[\u001b[0m\u001b[0mkwargs\u001b[0m\u001b[0;34m[\u001b[0m\u001b[0;34m'variable'\u001b[0m\u001b[0;34m]\u001b[0m\u001b[0;34m]\u001b[0m\u001b[0;34m\u001b[0m\u001b[0;34m\u001b[0m\u001b[0m\n\u001b[0;32m--> 341\u001b[0;31m         \u001b[0mrealm\u001b[0m \u001b[0;34m=\u001b[0m \u001b[0mname\u001b[0m\u001b[0;34m.\u001b[0m\u001b[0msplit\u001b[0m\u001b[0;34m(\u001b[0m\u001b[0mkwargs\u001b[0m\u001b[0;34m[\u001b[0m\u001b[0;34m'separator'\u001b[0m\u001b[0;34m]\u001b[0m\u001b[0;34m)\u001b[0m\u001b[0;34m[\u001b[0m\u001b[0mkwargs\u001b[0m\u001b[0;34m[\u001b[0m\u001b[0;34m'realm'\u001b[0m\u001b[0;34m]\u001b[0m\u001b[0;34m]\u001b[0m\u001b[0;34m\u001b[0m\u001b[0;34m\u001b[0m\u001b[0m\n\u001b[0m\u001b[1;32m    342\u001b[0m         \u001b[0mmodelname\u001b[0m \u001b[0;34m=\u001b[0m \u001b[0mname\u001b[0m\u001b[0;34m.\u001b[0m\u001b[0msplit\u001b[0m\u001b[0;34m(\u001b[0m\u001b[0mkwargs\u001b[0m\u001b[0;34m[\u001b[0m\u001b[0;34m'separator'\u001b[0m\u001b[0;34m]\u001b[0m\u001b[0;34m)\u001b[0m\u001b[0;34m[\u001b[0m\u001b[0mkwargs\u001b[0m\u001b[0;34m[\u001b[0m\u001b[0;34m'model'\u001b[0m\u001b[0;34m]\u001b[0m\u001b[0;34m]\u001b[0m\u001b[0;34m\u001b[0m\u001b[0;34m\u001b[0m\u001b[0m\n\u001b[1;32m    343\u001b[0m         \u001b[0mexperiment\u001b[0m \u001b[0;34m=\u001b[0m \u001b[0mname\u001b[0m\u001b[0;34m.\u001b[0m\u001b[0msplit\u001b[0m\u001b[0;34m(\u001b[0m\u001b[0mkwargs\u001b[0m\u001b[0;34m[\u001b[0m\u001b[0;34m'separator'\u001b[0m\u001b[0;34m]\u001b[0m\u001b[0;34m)\u001b[0m\u001b[0;34m[\u001b[0m\u001b[0mkwargs\u001b[0m\u001b[0;34m[\u001b[0m\u001b[0;34m'experiment'\u001b[0m\u001b[0;34m]\u001b[0m\u001b[0;34m]\u001b[0m\u001b[0;34m\u001b[0m\u001b[0;34m\u001b[0m\u001b[0m\n",
      "\u001b[0;31mIndexError\u001b[0m: list index out of range"
     ]
    }
   ],
   "source": [
    "ens = cd.mkensemble('/badc/cmip5/data/cmip5/output1/*')"
   ]
  },
  {
   "cell_type": "code",
   "execution_count": null,
   "id": "d76d9231",
   "metadata": {},
   "outputs": [],
   "source": []
  }
 ],
 "metadata": {
  "hide_input": false,
  "kernelspec": {
   "display_name": "Python 3 (ipykernel)",
   "language": "python",
   "name": "python3"
  },
  "language_info": {
   "codemirror_mode": {
    "name": "ipython",
    "version": 3
   },
   "file_extension": ".py",
   "mimetype": "text/x-python",
   "name": "python",
   "nbconvert_exporter": "python",
   "pygments_lexer": "ipython3",
   "version": "3.8.12"
  },
  "varInspector": {
   "cols": {
    "lenName": 16,
    "lenType": 16,
    "lenVar": 40
   },
   "kernels_config": {
    "python": {
     "delete_cmd_postfix": "",
     "delete_cmd_prefix": "del ",
     "library": "var_list.py",
     "varRefreshCmd": "print(var_dic_list())"
    },
    "r": {
     "delete_cmd_postfix": ") ",
     "delete_cmd_prefix": "rm(",
     "library": "var_list.r",
     "varRefreshCmd": "cat(var_dic_list()) "
    }
   },
   "types_to_exclude": [
    "module",
    "function",
    "builtin_function_or_method",
    "instance",
    "_Feature"
   ],
   "window_display": false
  }
 },
 "nbformat": 4,
 "nbformat_minor": 5
}
