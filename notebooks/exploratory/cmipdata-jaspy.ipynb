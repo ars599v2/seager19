{
 "cells": [
  {
   "cell_type": "markdown",
   "id": "6ca79463",
   "metadata": {},
   "source": [
    "# Analysis"
   ]
  },
  {
   "cell_type": "code",
   "execution_count": 1,
   "id": "a6f3d9fc",
   "metadata": {
    "ExecuteTime": {
     "end_time": "2022-03-03T11:40:43.108543Z",
     "start_time": "2022-03-03T11:40:43.084025Z"
    }
   },
   "outputs": [],
   "source": [
    "# Convenient jupyter setup\n",
    "%load_ext autoreload\n",
    "%autoreload 2\n",
    "%config IPCompleter.greedy=True"
   ]
  },
  {
   "cell_type": "code",
   "execution_count": 2,
   "id": "3420be52",
   "metadata": {
    "ExecuteTime": {
     "end_time": "2022-03-03T11:40:49.775363Z",
     "start_time": "2022-03-03T11:40:48.954848Z"
    }
   },
   "outputs": [
    {
     "name": "stdout",
     "output_type": "stream",
     "text": [
      "/home/users/sithom/miniconda3/bin/python\r\n"
     ]
    }
   ],
   "source": [
    "! which python"
   ]
  },
  {
   "cell_type": "code",
   "execution_count": 3,
   "id": "2d9bf9a0",
   "metadata": {
    "ExecuteTime": {
     "end_time": "2022-03-03T11:40:50.858677Z",
     "start_time": "2022-03-03T11:40:50.041364Z"
    }
   },
   "outputs": [
    {
     "name": "stdout",
     "output_type": "stream",
     "text": [
      "/apps/jasmin/jaspy/miniconda_envs/jaspy3.8/m3-4.9.2/envs/jaspy3.8-m3-4.9.2-r20211105/bin/cdo\r\n"
     ]
    }
   ],
   "source": [
    "! which cdo"
   ]
  },
  {
   "cell_type": "code",
   "execution_count": null,
   "id": "f41d78fb",
   "metadata": {
    "ExecuteTime": {
     "end_time": "2022-03-03T11:18:15.367135Z",
     "start_time": "2022-03-03T11:18:15.367126Z"
    }
   },
   "outputs": [],
   "source": [
    "! pip install -U -e ../../../PYTHON/cmipdata"
   ]
  },
  {
   "cell_type": "code",
   "execution_count": 4,
   "id": "b7a0920a",
   "metadata": {
    "ExecuteTime": {
     "end_time": "2022-03-03T11:41:01.167902Z",
     "start_time": "2022-03-03T11:40:58.537179Z"
    }
   },
   "outputs": [],
   "source": [
    "import cmipdata as cd"
   ]
  },
  {
   "cell_type": "code",
   "execution_count": 20,
   "id": "0b36becb",
   "metadata": {
    "ExecuteTime": {
     "end_time": "2022-03-03T11:48:09.483520Z",
     "start_time": "2022-03-03T11:48:09.301643Z"
    }
   },
   "outputs": [
    {
     "name": "stdout",
     "output_type": "stream",
     "text": [
      "This ensemble contains:\n",
      "0 variables\n",
      "0 models\n",
      "0 experiments\n",
      "0 realizations\n",
      "0 ncfiles\n",
      "\n",
      " For more details use ens.fulldetails() \n",
      "\n"
     ]
    }
   ],
   "source": [
    "prefix=\"/badc/cmip5/data/cmip5/output1/\"\n",
    "ens = cd.mkensemble(prefix + '*/*/*' + \"historical\" + \"*\" + \".nc4\", prefix=prefix)"
   ]
  },
  {
   "cell_type": "code",
   "execution_count": 22,
   "id": "ede9e54c",
   "metadata": {
    "ExecuteTime": {
     "end_time": "2022-03-03T11:58:18.630838Z",
     "start_time": "2022-03-03T11:58:18.601185Z"
    }
   },
   "outputs": [],
   "source": [
    "ens.fulldetails()"
   ]
  },
  {
   "cell_type": "code",
   "execution_count": null,
   "id": "22a511e9",
   "metadata": {},
   "outputs": [],
   "source": []
  }
 ],
 "metadata": {
  "hide_input": false,
  "kernelspec": {
   "display_name": "Python 3 (ipykernel)",
   "language": "python",
   "name": "python3"
  },
  "language_info": {
   "codemirror_mode": {
    "name": "ipython",
    "version": 3
   },
   "file_extension": ".py",
   "mimetype": "text/x-python",
   "name": "python",
   "nbconvert_exporter": "python",
   "pygments_lexer": "ipython3",
   "version": "3.8.12"
  },
  "varInspector": {
   "cols": {
    "lenName": 16,
    "lenType": 16,
    "lenVar": 40
   },
   "kernels_config": {
    "python": {
     "delete_cmd_postfix": "",
     "delete_cmd_prefix": "del ",
     "library": "var_list.py",
     "varRefreshCmd": "print(var_dic_list())"
    },
    "r": {
     "delete_cmd_postfix": ") ",
     "delete_cmd_prefix": "rm(",
     "library": "var_list.r",
     "varRefreshCmd": "cat(var_dic_list()) "
    }
   },
   "types_to_exclude": [
    "module",
    "function",
    "builtin_function_or_method",
    "instance",
    "_Feature"
   ],
   "window_display": false
  }
 },
 "nbformat": 4,
 "nbformat_minor": 5
}
