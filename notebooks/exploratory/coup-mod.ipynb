{
 "cells": [
  {
   "cell_type": "markdown",
   "id": "6ca79463",
   "metadata": {},
   "source": [
    "# Coupled Model"
   ]
  },
  {
   "cell_type": "code",
   "execution_count": null,
   "id": "a6f3d9fc",
   "metadata": {
    "ExecuteTime": {
     "end_time": "2021-06-07T11:40:47.580816Z",
     "start_time": "2021-06-07T11:40:40.766Z"
    }
   },
   "outputs": [],
   "source": [
    "# Convenient jupyter setup\n",
    "%load_ext autoreload\n",
    "%autoreload 2\n",
    "%config IPCompleter.greedy=True"
   ]
  },
  {
   "cell_type": "code",
   "execution_count": 2,
   "id": "dd9696a5",
   "metadata": {
    "ExecuteTime": {
     "end_time": "2021-06-07T11:41:00.107823Z",
     "start_time": "2021-06-07T11:40:52.815249Z"
    }
   },
   "outputs": [],
   "source": [
    "# set up plotting settings for dark mode.\n",
    "from jupyterthemes import jtplot\n",
    "jtplot.style(theme=\"grade3\", context=\"notebook\", ticks=True, grid=False)\n",
    "from src.plot_utils import ps_defaults\n",
    "ps_defaults(use_tex=False, dpi=150)\n",
    "from IPython.display import Latex"
   ]
  },
  {
   "cell_type": "code",
   "execution_count": 3,
   "id": "7679f109",
   "metadata": {
    "ExecuteTime": {
     "end_time": "2021-06-07T11:41:06.608232Z",
     "start_time": "2021-06-07T11:41:06.405186Z"
    }
   },
   "outputs": [],
   "source": [
    "import matplotlib.pyplot as plt"
   ]
  },
  {
   "cell_type": "code",
   "execution_count": 4,
   "id": "904beae8",
   "metadata": {
    "ExecuteTime": {
     "end_time": "2021-06-07T11:41:07.810166Z",
     "start_time": "2021-06-07T11:41:07.095440Z"
    }
   },
   "outputs": [],
   "source": [
    "from src.configs.load_config import load_config"
   ]
  },
  {
   "cell_type": "code",
   "execution_count": 7,
   "id": "f7cbdd66",
   "metadata": {
    "ExecuteTime": {
     "end_time": "2021-06-07T11:41:28.193208Z",
     "start_time": "2021-06-07T11:41:27.094305Z"
    }
   },
   "outputs": [],
   "source": [
    "cfg = load_config(test=False)"
   ]
  },
  {
   "cell_type": "code",
   "execution_count": 8,
   "id": "6f40e8cd",
   "metadata": {
    "ExecuteTime": {
     "end_time": "2021-06-07T11:41:28.865336Z",
     "start_time": "2021-06-07T11:41:28.764143Z"
    }
   },
   "outputs": [
    {
     "data": {
      "text/plain": [
       "{'project': 'seager19', 'user': 'non-test', 'test': True, 'notes': 'test', 'run': True, 'animate': True, 'atmos': True, 'ocean': {'tcom_name': 'tcom', 'tios2cdf_name': 'tios2cdf', 'spin': True, 'diag': True, 'ingrid': True, 'run_through': True, 'animate_qflx': True}, 'oc': {'nummode': 2, 'boundaries': 'Periodic', 'wind_file': 'tau-ECMWF-clim', 'dq_dtemp_file': 'dQdT-sample.nc', 'dq_df_file': 'dQdf-sample.nc', 'sst_file': 'sst-ECMWF-clim.nc', 'mask_file': 'om_mask.nc', 'time_test': '2 months', 'time_spin': '2 months', 'time_diag': '2 years', 'time_run2f': '58 years'}, 'coup': {'c_d': 0.00225, 'rho_air': 1.225}, 'atm': {'k_days': 10, 'e_frac': 2.0, 'prcp_land': 1, 'r': 0.8, 'h_q': 1800, 'wnsp_min': 4, 'rho_00': 0.3, 'pr_max': 0.0002314814814814815, 'relative_humidity': 0.8, 'number_iterations': 50, 'height_tropopause': 15000.0, 'theta_00': 300, 'nbsq': 0.0003, 'radius_earth': 6370000.0, 'pi': 3.141592653589793, 'stefan_boltzman_const': 5.67e-08, 'sec_in_day': 86400, 'gravity': 9.8, 'temp_0_c': 273.15, 'omega_2': 0.0001454441043328608, 'latent_heat_vap': 2500000.0, 'cp_air': 1000, 'b_coeff': 0.022805635559392575, 'eps_days': 0.75, 'eps': 1.54320987654321e-05, 'eps_u': '${atm.eps}', 'eps_v': 3.08641975308642e-05, 'newtonian_cooling_coeff_k1': 2.639541152707474e-08, 'eps_p': 1.6923189988150473e-10, 'beta': 2.2832669440009544e-11, 'rho_air': 1.225, 'emmisivity': 0.97, 'p_s': 1000, 'es_0': 6.11, 'delta_temp': 1.0, 'f2': 0.05, 'a_cloud_const': 0.6, 'f1_bar': 0.39, 'u_bar': 5.0, 'temp_surface_bar': '${atm.temp_0_c} + 25', 'c_e': 0.00125, 'c_bar': 0.6, 'qlh_coeff': 3828.125, 'qlw_coeff': 5.4998999999999995e-08, 'nx': 180, 'ny': 60, 'y_north_lim': 60, 'y_south_lim': -60.0, 'dx': 2.0, 'dy': 2.0}, 'name': 'nummode_${oc.nummode}_uncoupled_test5'}"
      ]
     },
     "execution_count": 8,
     "metadata": {},
     "output_type": "execute_result"
    }
   ],
   "source": [
    "cfg"
   ]
  },
  {
   "cell_type": "code",
   "execution_count": 9,
   "id": "e5167adb",
   "metadata": {
    "ExecuteTime": {
     "end_time": "2021-06-07T11:41:38.055478Z",
     "start_time": "2021-06-07T11:41:36.568257Z"
    }
   },
   "outputs": [],
   "source": [
    "from src.models.model_setup import ModelSetup\n",
    "from src.constants import TEST_DIREC"
   ]
  },
  {
   "cell_type": "code",
   "execution_count": 10,
   "id": "98bf246e",
   "metadata": {
    "ExecuteTime": {
     "end_time": "2021-06-07T11:41:41.784148Z",
     "start_time": "2021-06-07T11:41:38.634201Z"
    }
   },
   "outputs": [],
   "source": [
    "cfg = load_config(test=False)\n",
    "setup = ModelSetup(str(TEST_DIREC))"
   ]
  },
  {
   "cell_type": "code",
   "execution_count": 11,
   "id": "1281297e",
   "metadata": {
    "ExecuteTime": {
     "end_time": "2021-06-07T11:41:50.739025Z",
     "start_time": "2021-06-07T11:41:42.748544Z"
    }
   },
   "outputs": [],
   "source": [
    "from src.models.ocean import Ocean"
   ]
  },
  {
   "cell_type": "code",
   "execution_count": 1,
   "id": "52429abe",
   "metadata": {
    "ExecuteTime": {
     "end_time": "2021-06-07T12:48:27.994876Z",
     "start_time": "2021-06-07T12:48:27.288917Z"
    }
   },
   "outputs": [
    {
     "ename": "NameError",
     "evalue": "name 'Ocean' is not defined",
     "output_type": "error",
     "traceback": [
      "\u001b[0;31m---------------------------------------------------------------------------\u001b[0m",
      "\u001b[0;31mNameError\u001b[0m                                 Traceback (most recent call last)",
      "\u001b[0;32m<ipython-input-1-9d1f1bc2def3>\u001b[0m in \u001b[0;36m<module>\u001b[0;34m\u001b[0m\n\u001b[0;32m----> 1\u001b[0;31m \u001b[0mocean\u001b[0m \u001b[0;34m=\u001b[0m \u001b[0mOcean\u001b[0m\u001b[0;34m(\u001b[0m\u001b[0mcfg\u001b[0m\u001b[0;34m,\u001b[0m \u001b[0msetup\u001b[0m\u001b[0;34m)\u001b[0m\u001b[0;34m\u001b[0m\u001b[0;34m\u001b[0m\u001b[0m\n\u001b[0m\u001b[1;32m      2\u001b[0m \u001b[0mocean\u001b[0m\u001b[0;34m.\u001b[0m\u001b[0mcompile_all\u001b[0m\u001b[0;34m(\u001b[0m\u001b[0;34m)\u001b[0m\u001b[0;34m\u001b[0m\u001b[0;34m\u001b[0m\u001b[0m\n\u001b[1;32m      3\u001b[0m \u001b[0;32mif\u001b[0m \u001b[0mcfg\u001b[0m\u001b[0;34m.\u001b[0m\u001b[0mrun\u001b[0m\u001b[0;34m:\u001b[0m\u001b[0;34m\u001b[0m\u001b[0;34m\u001b[0m\u001b[0m\n\u001b[1;32m      4\u001b[0m    \u001b[0mocean\u001b[0m\u001b[0;34m.\u001b[0m\u001b[0mrun_all\u001b[0m\u001b[0;34m(\u001b[0m\u001b[0;34m)\u001b[0m\u001b[0;34m\u001b[0m\u001b[0;34m\u001b[0m\u001b[0m\n\u001b[1;32m      5\u001b[0m \u001b[0;32mif\u001b[0m \u001b[0mcfg\u001b[0m\u001b[0;34m.\u001b[0m\u001b[0manimate\u001b[0m\u001b[0;34m:\u001b[0m\u001b[0;34m\u001b[0m\u001b[0;34m\u001b[0m\u001b[0m\n",
      "\u001b[0;31mNameError\u001b[0m: name 'Ocean' is not defined"
     ]
    }
   ],
   "source": [
    "ocean = Ocean(cfg, setup)\n",
    "ocean.compile_all()\n",
    "if cfg.run:\n",
    "   ocean.run_all()\n",
    "if cfg.animate:\n",
    "   ocean.animate_all()"
   ]
  },
  {
   "cell_type": "raw",
   "id": "70eacb10",
   "metadata": {},
   "source": [
    "This iterative coupling is repeated until equilibrium is reached, which takes just a few times. There is a unique solution for any given value of CO2. The model wind stress change is computed as 𝜌a𝑐D𝑊𝐮, where cD is a drag coefficient and 𝐮 is the vector surface wind change computed by the atmosphere model, which is added to the ECMWF climatological stresses. Since the atmosphere model dynamics are only applicable in the tropics, the computed wind stress anomaly is only applied to the ocean model between 20° S and 20° N, and is linearly tapered to zero at 25° S and 25° N."
   ]
  },
  {
   "cell_type": "code",
   "execution_count": null,
   "id": "f60d5c73",
   "metadata": {
    "ExecuteTime": {
     "end_time": "2021-06-07T12:03:29.376539Z",
     "start_time": "2021-06-07T11:45:10.245Z"
    }
   },
   "outputs": [],
   "source": [
    "os.listdir(setup.ocean_data_path)"
   ]
  },
  {
   "cell_type": "code",
   "execution_count": null,
   "id": "dd402cd1",
   "metadata": {
    "ExecuteTime": {
     "end_time": "2021-06-07T12:03:29.388446Z",
     "start_time": "2021-06-07T11:45:11.993Z"
    }
   },
   "outputs": [],
   "source": [
    "os.listdir(setup.ocean_output_path)"
   ]
  },
  {
   "cell_type": "markdown",
   "id": "dd06eeff",
   "metadata": {},
   "source": [
    ". For coupling, the drag coefficient, cD—used to convert modelled winds into stresses to force the ocean component—is 2.25 × 10−3, which is about 50% larger than typical values, but was found necessary for a coupled response with approximately the observed amplitude."
   ]
  },
  {
   "cell_type": "code",
   "execution_count": null,
   "id": "ac82ee3d",
   "metadata": {},
   "outputs": [],
   "source": []
  }
 ],
 "metadata": {
  "hide_input": false,
  "kernelspec": {
   "display_name": "Python 3",
   "language": "python",
   "name": "python3"
  },
  "language_info": {
   "codemirror_mode": {
    "name": "ipython",
    "version": 3
   },
   "file_extension": ".py",
   "mimetype": "text/x-python",
   "name": "python",
   "nbconvert_exporter": "python",
   "pygments_lexer": "ipython3",
   "version": "3.8.8"
  },
  "varInspector": {
   "cols": {
    "lenName": 16,
    "lenType": 16,
    "lenVar": 40
   },
   "kernels_config": {
    "python": {
     "delete_cmd_postfix": "",
     "delete_cmd_prefix": "del ",
     "library": "var_list.py",
     "varRefreshCmd": "print(var_dic_list())"
    },
    "r": {
     "delete_cmd_postfix": ") ",
     "delete_cmd_prefix": "rm(",
     "library": "var_list.r",
     "varRefreshCmd": "cat(var_dic_list()) "
    }
   },
   "types_to_exclude": [
    "module",
    "function",
    "builtin_function_or_method",
    "instance",
    "_Feature"
   ],
   "window_display": false
  }
 },
 "nbformat": 4,
 "nbformat_minor": 5
}
