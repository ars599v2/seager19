{
 "cells": [
  {
   "cell_type": "markdown",
   "id": "6ca79463",
   "metadata": {},
   "source": [
    "# Coupled Model"
   ]
  },
  {
   "cell_type": "code",
   "execution_count": 1,
   "id": "a6f3d9fc",
   "metadata": {
    "ExecuteTime": {
     "end_time": "2021-06-10T12:08:13.172882Z",
     "start_time": "2021-06-10T12:08:13.099084Z"
    }
   },
   "outputs": [],
   "source": [
    "# Convenient jupyter setup\n",
    "%load_ext autoreload\n",
    "%autoreload 2\n",
    "%config IPCompleter.greedy=True"
   ]
  },
  {
   "cell_type": "code",
   "execution_count": 9,
   "id": "dd9696a5",
   "metadata": {
    "ExecuteTime": {
     "end_time": "2021-06-10T12:54:51.247270Z",
     "start_time": "2021-06-10T12:54:49.988571Z"
    }
   },
   "outputs": [],
   "source": [
    "# set up plotting settings for dark mode.\n",
    "from jupyterthemes import jtplot\n",
    "jtplot.style(theme=\"grade3\", context=\"notebook\", ticks=True, grid=False)\n",
    "from src.plot_utils import ps_defaults\n",
    "ps_defaults(use_tex=False, dpi=150)\n",
    "from IPython.display import Latex"
   ]
  },
  {
   "cell_type": "code",
   "execution_count": 10,
   "id": "507e4628",
   "metadata": {
    "ExecuteTime": {
     "end_time": "2021-06-10T12:54:52.510770Z",
     "start_time": "2021-06-10T12:54:52.456103Z"
    }
   },
   "outputs": [],
   "source": [
    "import os\n",
    "import matplotlib.pyplot as plt"
   ]
  },
  {
   "cell_type": "code",
   "execution_count": 11,
   "id": "d993f5c6",
   "metadata": {
    "ExecuteTime": {
     "end_time": "2021-06-10T12:54:52.931109Z",
     "start_time": "2021-06-10T12:54:52.874590Z"
    }
   },
   "outputs": [],
   "source": [
    "from src.configs.load_config import load_config"
   ]
  },
  {
   "cell_type": "code",
   "execution_count": 12,
   "id": "077750d9",
   "metadata": {
    "ExecuteTime": {
     "end_time": "2021-06-10T12:54:53.327840Z",
     "start_time": "2021-06-10T12:54:53.272981Z"
    }
   },
   "outputs": [],
   "source": [
    "from src.models.model_setup import ModelSetup\n",
    "from src.constants import TEST_DIREC"
   ]
  },
  {
   "cell_type": "code",
   "execution_count": 13,
   "id": "954feafd",
   "metadata": {
    "ExecuteTime": {
     "end_time": "2021-06-10T12:54:58.349883Z",
     "start_time": "2021-06-10T12:54:54.288961Z"
    }
   },
   "outputs": [],
   "source": [
    "cfg = load_config(test=False)\n",
    "setup = ModelSetup(str(TEST_DIREC))"
   ]
  },
  {
   "cell_type": "code",
   "execution_count": 14,
   "id": "8ab421ba",
   "metadata": {
    "ExecuteTime": {
     "end_time": "2021-06-10T12:54:58.709148Z",
     "start_time": "2021-06-10T12:54:58.648246Z"
    }
   },
   "outputs": [],
   "source": [
    "from src.models.ocean import Ocean\n",
    "from src.models.atmos import Atmos\n",
    "from src.models.coupling import Coupling"
   ]
  },
  {
   "cell_type": "raw",
   "id": "8d4d529e",
   "metadata": {},
   "source": [
    "This iterative coupling is repeated until equilibrium is reached, which takes just a few times. There is a unique solution for any given value of CO2. The model wind stress change is computed as 𝜌a𝑐D𝑊𝐮, where cD is a drag coefficient and 𝐮 is the vector surface wind change computed by the atmosphere model, which is added to the ECMWF climatological stresses. Since the atmosphere model dynamics are only applicable in the tropics, the computed wind stress anomaly is only applied to the ocean model between 20° S and 20° N, and is linearly tapered to zero at 25° S and 25° N."
   ]
  },
  {
   "cell_type": "code",
   "execution_count": 15,
   "id": "6b81ec77",
   "metadata": {
    "ExecuteTime": {
     "end_time": "2021-06-10T12:55:02.599844Z",
     "start_time": "2021-06-10T12:55:02.540868Z"
    }
   },
   "outputs": [
    {
     "data": {
      "text/plain": [
       "['dQdf-sample.nc',\n",
       " 'dQdT-sample.nc',\n",
       " 'om_mask.nc',\n",
       " 'qflx-0.nc',\n",
       " 'qflx.nc',\n",
       " 'qflx-test.nc',\n",
       " 'rzk.pro',\n",
       " 'spline_ECMWF.txt',\n",
       " 'sst-ECMWF-clim.nc',\n",
       " 'tau-ECMWF-clim.x',\n",
       " 'tau-ECMWF-clim.y',\n",
       " 'tau-ECMWF.x',\n",
       " 'tau-ECMWF.y']"
      ]
     },
     "execution_count": 15,
     "metadata": {},
     "output_type": "execute_result"
    }
   ],
   "source": [
    "os.listdir(setup.ocean_data_path)"
   ]
  },
  {
   "cell_type": "code",
   "execution_count": 16,
   "id": "14f3d2d9",
   "metadata": {
    "ExecuteTime": {
     "end_time": "2021-06-10T12:55:03.881146Z",
     "start_time": "2021-06-10T12:55:03.814313Z"
    }
   },
   "outputs": [
    {
     "data": {
      "text/plain": [
       "['om_diag.nc',\n",
       " 'om_test.save',\n",
       " 'om_spin.save',\n",
       " 'om_spin.nc',\n",
       " 'om_spin.20y.restart',\n",
       " 'om_diag.save',\n",
       " 'om_diag.2y.restart',\n",
       " 'om_run2f.save',\n",
       " 'om_run2f.nc']"
      ]
     },
     "execution_count": 16,
     "metadata": {},
     "output_type": "execute_result"
    }
   ],
   "source": [
    "os.listdir(setup.ocean_output_path)"
   ]
  },
  {
   "cell_type": "markdown",
   "id": "fd30fa29",
   "metadata": {},
   "source": [
    ". For coupling, the drag coefficient, cD—used to convert modelled winds into stresses to force the ocean component—is 2.25 × 10−3, which is about 50% larger than typical values, but was found necessary for a coupled response with approximately the observed amplitude."
   ]
  },
  {
   "cell_type": "code",
   "execution_count": 17,
   "id": "42707711",
   "metadata": {
    "ExecuteTime": {
     "end_time": "2021-06-10T12:55:05.121614Z",
     "start_time": "2021-06-10T12:55:05.057828Z"
    }
   },
   "outputs": [
    {
     "data": {
      "text/plain": [
       "['DATA',\n",
       " 'tmp',\n",
       " 'prTrend.png',\n",
       " 'S90-H2000-Stab.eps',\n",
       " 'S91-hq1800-prcp_land1.nc',\n",
       " 'Q.nc',\n",
       " 'dQ.nc',\n",
       " 'Tsp4.eps']"
      ]
     },
     "execution_count": 17,
     "metadata": {},
     "output_type": "execute_result"
    }
   ],
   "source": [
    "os.listdir(setup.atmos_path)"
   ]
  },
  {
   "cell_type": "code",
   "execution_count": 18,
   "id": "103408ac",
   "metadata": {
    "ExecuteTime": {
     "end_time": "2021-06-10T12:55:05.611074Z",
     "start_time": "2021-06-10T12:55:05.552471Z"
    }
   },
   "outputs": [
    {
     "data": {
      "text/plain": [
       "['clt-ECMWF-clim60.nc',\n",
       " 'mask-360x180.nc',\n",
       " 'mask-360x181.nc',\n",
       " 'pr-ECMWF-clim.nc',\n",
       " 'pr-ECMWF-trend.nc',\n",
       " 'ps-ECMWF-clim.nc',\n",
       " 'rh-ECMWF-clim60.nc',\n",
       " 'rh-fixed-clim60.nc',\n",
       " 'sfcWind-ECMWF-clim60.nc',\n",
       " 'sfcWind-ECMWF-clim.nc',\n",
       " 'sst-ECMWF-clim.nc',\n",
       " 'sst-ECMWF-trend.nc',\n",
       " 'ts-ECMWF-clim60.nc',\n",
       " 'ts-ECMWF-clim.nc',\n",
       " 'ts-ECMWF-trend.nc']"
      ]
     },
     "execution_count": 18,
     "metadata": {},
     "output_type": "execute_result"
    }
   ],
   "source": [
    "os.listdir(setup.atmos_data_path)"
   ]
  },
  {
   "cell_type": "code",
   "execution_count": null,
   "id": "d223ee76",
   "metadata": {
    "ExecuteTime": {
     "start_time": "2021-06-10T12:55:05.952Z"
    }
   },
   "outputs": [
    {
     "name": "stdout",
     "output_type": "stream",
     "text": [
      "editing  /home/users/sithom/seager19/src/test/test_direc/ocean/RUN/om_spin\n",
      "editing  /home/users/sithom/seager19/src/test/test_direc/ocean/RUN/om_diag\n",
      "editing  /home/users/sithom/seager19/src/test/test_direc/ocean/RUN/om_run2f\n",
      "cd /home/users/sithom/seager19/src/test/test_direc/ocean/RUN \n",
      "../SRC/tcom -i om_test 2.06095 s\n",
      "\n"
     ]
    }
   ],
   "source": [
    "coup = Coupling(cfg, setup)\n",
    "coup.run()"
   ]
  },
  {
   "cell_type": "code",
   "execution_count": null,
   "id": "6f0ae43c",
   "metadata": {},
   "outputs": [],
   "source": []
  }
 ],
 "metadata": {
  "hide_input": false,
  "kernelspec": {
   "display_name": "Python 3",
   "language": "python",
   "name": "python3"
  },
  "language_info": {
   "codemirror_mode": {
    "name": "ipython",
    "version": 3
   },
   "file_extension": ".py",
   "mimetype": "text/x-python",
   "name": "python",
   "nbconvert_exporter": "python",
   "pygments_lexer": "ipython3",
   "version": "3.8.8"
  },
  "varInspector": {
   "cols": {
    "lenName": 16,
    "lenType": 16,
    "lenVar": 40
   },
   "kernels_config": {
    "python": {
     "delete_cmd_postfix": "",
     "delete_cmd_prefix": "del ",
     "library": "var_list.py",
     "varRefreshCmd": "print(var_dic_list())"
    },
    "r": {
     "delete_cmd_postfix": ") ",
     "delete_cmd_prefix": "rm(",
     "library": "var_list.r",
     "varRefreshCmd": "cat(var_dic_list()) "
    }
   },
   "types_to_exclude": [
    "module",
    "function",
    "builtin_function_or_method",
    "instance",
    "_Feature"
   ],
   "window_display": false
  }
 },
 "nbformat": 4,
 "nbformat_minor": 5
}
