{
 "cells": [
  {
   "cell_type": "markdown",
   "id": "6ca79463",
   "metadata": {},
   "source": [
    "# Coupled Model"
   ]
  },
  {
   "cell_type": "code",
   "execution_count": 1,
   "id": "a6f3d9fc",
   "metadata": {
    "ExecuteTime": {
     "end_time": "2021-06-06T18:07:42.678521Z",
     "start_time": "2021-06-06T18:07:42.399412Z"
    }
   },
   "outputs": [],
   "source": [
    "# Convenient jupyter setup\n",
    "%load_ext autoreload\n",
    "%autoreload 2\n",
    "%config IPCompleter.greedy=True"
   ]
  },
  {
   "cell_type": "code",
   "execution_count": 15,
   "id": "dd9696a5",
   "metadata": {
    "ExecuteTime": {
     "end_time": "2021-06-06T18:12:50.317128Z",
     "start_time": "2021-06-06T18:12:49.716903Z"
    }
   },
   "outputs": [],
   "source": [
    "# set up plotting settings for dark mode.\n",
    "from jupyterthemes import jtplot\n",
    "jtplot.style(theme=\"grade3\", context=\"notebook\", ticks=True, grid=False)\n",
    "from src.plot_utils import ps_defaults\n",
    "ps_defaults(use_tex=False, dpi=150)"
   ]
  },
  {
   "cell_type": "code",
   "execution_count": 5,
   "id": "80f329ef",
   "metadata": {
    "ExecuteTime": {
     "end_time": "2021-06-06T18:10:02.467445Z",
     "start_time": "2021-06-06T18:10:02.400152Z"
    }
   },
   "outputs": [],
   "source": [
    "import matplotlib.pyplot as plt"
   ]
  },
  {
   "cell_type": "code",
   "execution_count": 20,
   "id": "c8784269",
   "metadata": {
    "ExecuteTime": {
     "end_time": "2021-06-06T18:35:24.515214Z",
     "start_time": "2021-06-06T18:35:23.286391Z"
    }
   },
   "outputs": [
    {
     "data": {
      "text/plain": [
       "Text(0, 0.5, 'y')"
      ]
     },
     "execution_count": 20,
     "metadata": {},
     "output_type": "execute_result"
    },
    {
     "data": {
      "image/png": "[encoded data removed]",
      "text/plain": [
       "<Figure size 826.772x510.973 with 1 Axes>"
      ]
     },
     "metadata": {},
     "output_type": "display_data"
    }
   ],
   "source": [
    "plt.scatter([0, 1], [1, 0], color=\"green\")\n",
    "plt.xlabel(\"x\")\n",
    "plt.ylabel(\"y\")"
   ]
  },
  {
   "cell_type": "code",
   "execution_count": 21,
   "id": "f5ff03a3",
   "metadata": {
    "ExecuteTime": {
     "end_time": "2021-06-06T19:17:23.101826Z",
     "start_time": "2021-06-06T19:17:21.964809Z"
    }
   },
   "outputs": [],
   "source": [
    "from src.configs.load_config import load_config"
   ]
  },
  {
   "cell_type": "code",
   "execution_count": 30,
   "id": "3d8ad799",
   "metadata": {
    "ExecuteTime": {
     "end_time": "2021-06-06T19:20:13.180322Z",
     "start_time": "2021-06-06T19:20:12.628424Z"
    }
   },
   "outputs": [],
   "source": [
    "cfg = load_config(test=False)"
   ]
  },
  {
   "cell_type": "code",
   "execution_count": 28,
   "id": "ecc82141",
   "metadata": {
    "ExecuteTime": {
     "end_time": "2021-06-06T19:20:04.277966Z",
     "start_time": "2021-06-06T19:20:04.215242Z"
    }
   },
   "outputs": [],
   "source": [
    "cfg.project = \"h\""
   ]
  },
  {
   "cell_type": "code",
   "execution_count": 31,
   "id": "037eccc9",
   "metadata": {
    "ExecuteTime": {
     "end_time": "2021-06-06T19:20:14.594381Z",
     "start_time": "2021-06-06T19:20:14.519086Z"
    }
   },
   "outputs": [
    {
     "data": {
      "text/plain": [
       "{'project': 'seager19', 'user': 'non-test', 'test': True, 'notes': 'test', 'run': True, 'animate': True, 'atmos': True, 'ocean': {'tcom_name': 'tcom', 'tios2cdf_name': 'tios2cdf', 'spin': True, 'diag': True, 'ingrid': True, 'run_through': True, 'animate_qflx': True}, 'oc': {'nummode': 2, 'boundaries': 'Periodic', 'wind_file': 'tau-ECMWF-clim', 'dq_dtemp_file': 'dQdT-sample.nc', 'dq_df_file': 'dQdf-sample.nc', 'sst_file': 'sst-ECMWF-clim.nc', 'mask_file': 'om_mask.nc', 'time_test': '2 months', 'time_spin': '2 months', 'time_diag': '2 years', 'time_run2f': '58 years'}, 'coup': {'c_d': 0.00225, 'rho_air': 1.225}, 'atm': {'k_days': 10, 'e_frac': 2.0, 'prcp_land': 1, 'r': 0.8, 'h_q': 1800, 'wnsp_min': 4, 'rho_00': 0.3, 'pr_max': 0.0002314814814814815, 'relative_humidity': 0.8, 'number_iterations': 50, 'height_tropopause': 15000.0, 'theta_00': 300, 'nbsq': 0.0003, 'radius_earth': 6370000.0, 'pi': 3.141592653589793, 'stefan_boltzman_const': 5.67e-08, 'sec_in_day': 86400, 'gravity': 9.8, 'temp_0_c': 273.15, 'omega_2': 0.0001454441043328608, 'latent_heat_vap': 2500000.0, 'cp_air': 1000, 'b_coeff': 0.022805635559392575, 'eps_days': 0.75, 'eps': 1.54320987654321e-05, 'eps_u': '${atm.eps}', 'eps_v': 3.08641975308642e-05, 'newtonian_cooling_coeff_k1': 2.639541152707474e-08, 'eps_p': 1.6923189988150473e-10, 'beta': 2.2832669440009544e-11, 'rho_air': 1.225, 'emmisivity': 0.97, 'p_s': 1000, 'es_0': 6.11, 'delta_temp': 1.0, 'f2': 0.05, 'a_cloud_const': 0.6, 'f1_bar': 0.39, 'u_bar': 5.0, 'temp_surface_bar': '${atm.temp_0_c} + 25', 'c_e': 0.00125, 'c_bar': 0.6, 'qlh_coeff': 3828.125, 'qlw_coeff': 5.4998999999999995e-08, 'nx': 180, 'ny': 60, 'y_north_lim': 60, 'y_south_lim': -60.0, 'dx': 2.0, 'dy': 2.0}, 'name': 'nummode_${oc.nummode}_uncoupled_test5'}"
      ]
     },
     "execution_count": 31,
     "metadata": {},
     "output_type": "execute_result"
    }
   ],
   "source": [
    "cfg"
   ]
  },
  {
   "cell_type": "code",
   "execution_count": 34,
   "id": "acb7015b",
   "metadata": {
    "ExecuteTime": {
     "end_time": "2021-06-06T19:21:09.445401Z",
     "start_time": "2021-06-06T19:21:09.388831Z"
    }
   },
   "outputs": [],
   "source": [
    "from src.models.model_setup import ModelSetup\n",
    "from src.constants import TEST_DIREC"
   ]
  },
  {
   "cell_type": "code",
   "execution_count": 35,
   "id": "86620443",
   "metadata": {
    "ExecuteTime": {
     "end_time": "2021-06-06T19:21:14.048487Z",
     "start_time": "2021-06-06T19:21:09.672943Z"
    }
   },
   "outputs": [],
   "source": [
    "cfg = load_config(test=False)\n",
    "setup = ModelSetup(str(TEST_DIREC))"
   ]
  },
  {
   "cell_type": "code",
   "execution_count": 37,
   "id": "1547d9a4",
   "metadata": {
    "ExecuteTime": {
     "end_time": "2021-06-06T19:22:25.530493Z",
     "start_time": "2021-06-06T19:22:19.499526Z"
    }
   },
   "outputs": [],
   "source": [
    "from src.models.ocean import Ocean"
   ]
  },
  {
   "cell_type": "code",
   "execution_count": null,
   "id": "239af014",
   "metadata": {
    "ExecuteTime": {
     "start_time": "2021-06-06T19:22:21.027Z"
    }
   },
   "outputs": [
    {
     "name": "stdout",
     "output_type": "stream",
     "text": [
      "editing  /home/users/sithom/seager19/src/test/test_direc/ocean/RUN/om_spin\n",
      "editing  /home/users/sithom/seager19/src/test/test_direc/ocean/RUN/om_diag\n",
      "editing  /home/users/sithom/seager19/src/test/test_direc/ocean/RUN/om_run2f\n",
      "cd /home/users/sithom/seager19/src/test/test_direc/ocean/RUN \n",
      "../SRC/tcom -i om_test 2.86110 s\n",
      "\n"
     ]
    }
   ],
   "source": [
    "ocean = Ocean(cfg, setup)\n",
    "ocean.compile_all()\n",
    "if cfg.run:\n",
    "   ocean.run_all()\n",
    "if cfg.animate:\n",
    "   ocean.animate_all()"
   ]
  },
  {
   "cell_type": "raw",
   "id": "b1289d23",
   "metadata": {},
   "source": [
    "This iterative coupling is repeated until equilibrium is reached, which takes just a few times. There is a unique solution for any given value of CO2. The model wind stress change is computed as 𝜌a𝑐D𝑊𝐮, where cD is a drag coefficient and 𝐮 is the vector surface wind change computed by the atmosphere model, which is added to the ECMWF climatological stresses. Since the atmosphere model dynamics are only applicable in the tropics, the computed wind stress anomaly is only applied to the ocean model between 20° S and 20° N, and is linearly tapered to zero at 25° S and 25° N."
   ]
  },
  {
   "cell_type": "code",
   "execution_count": null,
   "id": "bc53a3ad",
   "metadata": {
    "ExecuteTime": {
     "start_time": "2021-06-06T19:24:53.801Z"
    }
   },
   "outputs": [],
   "source": [
    "os.listdir(setup.ocean_data_path)"
   ]
  },
  {
   "cell_type": "code",
   "execution_count": null,
   "id": "f3614fd9",
   "metadata": {
    "ExecuteTime": {
     "start_time": "2021-06-06T19:25:02.197Z"
    }
   },
   "outputs": [],
   "source": [
    "os.listdir(setup.ocean_output_path)"
   ]
  },
  {
   "cell_type": "code",
   "execution_count": null,
   "id": "76747ef9",
   "metadata": {},
   "outputs": [],
   "source": []
  }
 ],
 "metadata": {
  "hide_input": false,
  "kernelspec": {
   "display_name": "Python 3",
   "language": "python",
   "name": "python3"
  },
  "language_info": {
   "codemirror_mode": {
    "name": "ipython",
    "version": 3
   },
   "file_extension": ".py",
   "mimetype": "text/x-python",
   "name": "python",
   "nbconvert_exporter": "python",
   "pygments_lexer": "ipython3",
   "version": "3.8.8"
  },
  "varInspector": {
   "cols": {
    "lenName": 16,
    "lenType": 16,
    "lenVar": 40
   },
   "kernels_config": {
    "python": {
     "delete_cmd_postfix": "",
     "delete_cmd_prefix": "del ",
     "library": "var_list.py",
     "varRefreshCmd": "print(var_dic_list())"
    },
    "r": {
     "delete_cmd_postfix": ") ",
     "delete_cmd_prefix": "rm(",
     "library": "var_list.r",
     "varRefreshCmd": "cat(var_dic_list()) "
    }
   },
   "types_to_exclude": [
    "module",
    "function",
    "builtin_function_or_method",
    "instance",
    "_Feature"
   ],
   "window_display": false
  }
 },
 "nbformat": 4,
 "nbformat_minor": 5
}
