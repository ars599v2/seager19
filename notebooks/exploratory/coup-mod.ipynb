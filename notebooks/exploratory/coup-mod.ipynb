{
 "cells": [
  {
   "cell_type": "markdown",
   "id": "6ca79463",
   "metadata": {},
   "source": [
    "# Coupled Model"
   ]
  },
  {
   "cell_type": "code",
   "execution_count": 1,
   "id": "a6f3d9fc",
   "metadata": {
    "ExecuteTime": {
     "end_time": "2021-06-09T21:38:09.057537Z",
     "start_time": "2021-06-09T21:38:08.990188Z"
    }
   },
   "outputs": [],
   "source": [
    "# Convenient jupyter setup\n",
    "%load_ext autoreload\n",
    "%autoreload 2\n",
    "%config IPCompleter.greedy=True"
   ]
  },
  {
   "cell_type": "code",
   "execution_count": 2,
   "id": "dd9696a5",
   "metadata": {
    "ExecuteTime": {
     "end_time": "2021-06-09T21:38:16.350916Z",
     "start_time": "2021-06-09T21:38:09.428761Z"
    }
   },
   "outputs": [],
   "source": [
    "# set up plotting settings for dark mode.\n",
    "from jupyterthemes import jtplot\n",
    "jtplot.style(theme=\"grade3\", context=\"notebook\", ticks=True, grid=False)\n",
    "from src.plot_utils import ps_defaults\n",
    "ps_defaults(use_tex=False, dpi=150)\n",
    "from IPython.display import Latex"
   ]
  },
  {
   "cell_type": "code",
   "execution_count": 3,
   "id": "507e4628",
   "metadata": {
    "ExecuteTime": {
     "end_time": "2021-06-09T21:38:16.515155Z",
     "start_time": "2021-06-09T21:38:16.440668Z"
    }
   },
   "outputs": [],
   "source": [
    "import os\n",
    "import matplotlib.pyplot as plt"
   ]
  },
  {
   "cell_type": "code",
   "execution_count": 4,
   "id": "d993f5c6",
   "metadata": {
    "ExecuteTime": {
     "end_time": "2021-06-09T21:38:17.181920Z",
     "start_time": "2021-06-09T21:38:16.599436Z"
    }
   },
   "outputs": [],
   "source": [
    "from src.configs.load_config import load_config"
   ]
  },
  {
   "cell_type": "code",
   "execution_count": 5,
   "id": "077750d9",
   "metadata": {
    "ExecuteTime": {
     "end_time": "2021-06-09T21:38:17.364164Z",
     "start_time": "2021-06-09T21:38:17.274004Z"
    }
   },
   "outputs": [],
   "source": [
    "from src.models.model_setup import ModelSetup\n",
    "from src.constants import TEST_DIREC"
   ]
  },
  {
   "cell_type": "code",
   "execution_count": 6,
   "id": "954feafd",
   "metadata": {
    "ExecuteTime": {
     "end_time": "2021-06-08T14:25:44.226376Z",
     "start_time": "2021-06-08T14:25:39.230877Z"
    }
   },
   "outputs": [],
   "source": [
    "cfg = load_config(test=False)\n",
    "setup = ModelSetup(str(TEST_DIREC))"
   ]
  },
  {
   "cell_type": "code",
   "execution_count": 6,
   "id": "8ab421ba",
   "metadata": {
    "ExecuteTime": {
     "end_time": "2021-06-09T21:39:07.388819Z",
     "start_time": "2021-06-09T21:39:04.366681Z"
    }
   },
   "outputs": [],
   "source": [
    "from src.models.ocean import Ocean\n",
    "from src.models.atmos import Atmos\n",
    "from src.models.coupling import Coupling"
   ]
  },
  {
   "cell_type": "code",
   "execution_count": null,
   "id": "fcd42239",
   "metadata": {},
   "outputs": [],
   "source": [
    "Ocean\n",
    "Atmos\n",
    "Coupling"
   ]
  },
  {
   "cell_type": "code",
   "execution_count": 1,
   "id": "fdd39c91",
   "metadata": {
    "ExecuteTime": {
     "end_time": "2021-06-07T12:48:27.994876Z",
     "start_time": "2021-06-07T12:48:27.288917Z"
    }
   },
   "outputs": [
    {
     "ename": "NameError",
     "evalue": "name 'Ocean' is not defined",
     "output_type": "error",
     "traceback": [
      "\u001b[0;31m---------------------------------------------------------------------------\u001b[0m",
      "\u001b[0;31mNameError\u001b[0m                                 Traceback (most recent call last)",
      "\u001b[0;32m<ipython-input-1-9d1f1bc2def3>\u001b[0m in \u001b[0;36m<module>\u001b[0;34m\u001b[0m\n\u001b[0;32m----> 1\u001b[0;31m \u001b[0mocean\u001b[0m \u001b[0;34m=\u001b[0m \u001b[0mOcean\u001b[0m\u001b[0;34m(\u001b[0m\u001b[0mcfg\u001b[0m\u001b[0;34m,\u001b[0m \u001b[0msetup\u001b[0m\u001b[0;34m)\u001b[0m\u001b[0;34m\u001b[0m\u001b[0;34m\u001b[0m\u001b[0m\n\u001b[0m\u001b[1;32m      2\u001b[0m \u001b[0mocean\u001b[0m\u001b[0;34m.\u001b[0m\u001b[0mcompile_all\u001b[0m\u001b[0;34m(\u001b[0m\u001b[0;34m)\u001b[0m\u001b[0;34m\u001b[0m\u001b[0;34m\u001b[0m\u001b[0m\n\u001b[1;32m      3\u001b[0m \u001b[0;32mif\u001b[0m \u001b[0mcfg\u001b[0m\u001b[0;34m.\u001b[0m\u001b[0mrun\u001b[0m\u001b[0;34m:\u001b[0m\u001b[0;34m\u001b[0m\u001b[0;34m\u001b[0m\u001b[0m\n\u001b[1;32m      4\u001b[0m    \u001b[0mocean\u001b[0m\u001b[0;34m.\u001b[0m\u001b[0mrun_all\u001b[0m\u001b[0;34m(\u001b[0m\u001b[0;34m)\u001b[0m\u001b[0;34m\u001b[0m\u001b[0;34m\u001b[0m\u001b[0m\n\u001b[1;32m      5\u001b[0m \u001b[0;32mif\u001b[0m \u001b[0mcfg\u001b[0m\u001b[0;34m.\u001b[0m\u001b[0manimate\u001b[0m\u001b[0;34m:\u001b[0m\u001b[0;34m\u001b[0m\u001b[0;34m\u001b[0m\u001b[0m\n",
      "\u001b[0;31mNameError\u001b[0m: name 'Ocean' is not defined"
     ]
    }
   ],
   "source": [
    "ocean = Ocean(cfg, setup)\n",
    "ocean.compile_all()\n",
    "if cfg.run:\n",
    "   ocean.run_all()\n",
    "if cfg.animate:\n",
    "   ocean.animate_all()"
   ]
  },
  {
   "cell_type": "raw",
   "id": "8d4d529e",
   "metadata": {},
   "source": [
    "This iterative coupling is repeated until equilibrium is reached, which takes just a few times. There is a unique solution for any given value of CO2. The model wind stress change is computed as 𝜌a𝑐D𝑊𝐮, where cD is a drag coefficient and 𝐮 is the vector surface wind change computed by the atmosphere model, which is added to the ECMWF climatological stresses. Since the atmosphere model dynamics are only applicable in the tropics, the computed wind stress anomaly is only applied to the ocean model between 20° S and 20° N, and is linearly tapered to zero at 25° S and 25° N."
   ]
  },
  {
   "cell_type": "code",
   "execution_count": null,
   "id": "6b81ec77",
   "metadata": {
    "ExecuteTime": {
     "end_time": "2021-06-07T12:03:29.376539Z",
     "start_time": "2021-06-07T11:45:10.245Z"
    }
   },
   "outputs": [],
   "source": [
    "os.listdir(setup.ocean_data_path)"
   ]
  },
  {
   "cell_type": "code",
   "execution_count": 10,
   "id": "14f3d2d9",
   "metadata": {
    "ExecuteTime": {
     "end_time": "2021-06-07T13:31:35.535371Z",
     "start_time": "2021-06-07T13:31:35.479881Z"
    }
   },
   "outputs": [
    {
     "data": {
      "text/plain": [
       "['om_diag.nc',\n",
       " 'om_test.save',\n",
       " 'om_spin.save',\n",
       " 'om_spin.nc',\n",
       " 'om_spin.20y.restart',\n",
       " 'om_diag.save',\n",
       " 'om_diag.2y.restart',\n",
       " 'om_run2f.save',\n",
       " 'om_run2f.nc']"
      ]
     },
     "execution_count": 10,
     "metadata": {},
     "output_type": "execute_result"
    }
   ],
   "source": [
    "os.listdir(setup.ocean_output_path)"
   ]
  },
  {
   "cell_type": "markdown",
   "id": "fd30fa29",
   "metadata": {},
   "source": [
    ". For coupling, the drag coefficient, cD—used to convert modelled winds into stresses to force the ocean component—is 2.25 × 10−3, which is about 50% larger than typical values, but was found necessary for a coupled response with approximately the observed amplitude."
   ]
  },
  {
   "cell_type": "code",
   "execution_count": 12,
   "id": "42707711",
   "metadata": {
    "ExecuteTime": {
     "end_time": "2021-06-07T13:31:46.082632Z",
     "start_time": "2021-06-07T13:31:46.032519Z"
    }
   },
   "outputs": [
    {
     "data": {
      "text/plain": [
       "['DATA',\n",
       " 'tmp',\n",
       " 'prTrend.png',\n",
       " 'S90-H2000-Stab.eps',\n",
       " 'S91-hq1800-prcp_land1.nc',\n",
       " 'Q.nc',\n",
       " 'dQ.nc',\n",
       " 'Tsp4.eps']"
      ]
     },
     "execution_count": 12,
     "metadata": {},
     "output_type": "execute_result"
    }
   ],
   "source": [
    "os.listdir(setup.atmos_path)"
   ]
  },
  {
   "cell_type": "code",
   "execution_count": 13,
   "id": "103408ac",
   "metadata": {
    "ExecuteTime": {
     "end_time": "2021-06-07T13:34:25.969350Z",
     "start_time": "2021-06-07T13:34:25.463281Z"
    }
   },
   "outputs": [
    {
     "data": {
      "text/plain": [
       "['clt-ECMWF-clim60.nc',\n",
       " 'mask-360x180.nc',\n",
       " 'mask-360x181.nc',\n",
       " 'pr-ECMWF-clim.nc',\n",
       " 'pr-ECMWF-trend.nc',\n",
       " 'ps-ECMWF-clim.nc',\n",
       " 'rh-ECMWF-clim60.nc',\n",
       " 'rh-fixed-clim60.nc',\n",
       " 'sfcWind-ECMWF-clim60.nc',\n",
       " 'sfcWind-ECMWF-clim.nc',\n",
       " 'sst-ECMWF-clim.nc',\n",
       " 'sst-ECMWF-trend.nc',\n",
       " 'ts-ECMWF-clim60.nc',\n",
       " 'ts-ECMWF-clim.nc',\n",
       " 'ts-ECMWF-trend.nc']"
      ]
     },
     "execution_count": 13,
     "metadata": {},
     "output_type": "execute_result"
    }
   ],
   "source": [
    "os.listdir(setup.atmos_data_path)"
   ]
  },
  {
   "cell_type": "code",
   "execution_count": null,
   "id": "d223ee76",
   "metadata": {},
   "outputs": [],
   "source": []
  }
 ],
 "metadata": {
  "hide_input": false,
  "kernelspec": {
   "display_name": "Python 3",
   "language": "python",
   "name": "python3"
  },
  "language_info": {
   "codemirror_mode": {
    "name": "ipython",
    "version": 3
   },
   "file_extension": ".py",
   "mimetype": "text/x-python",
   "name": "python",
   "nbconvert_exporter": "python",
   "pygments_lexer": "ipython3",
   "version": "3.8.8"
  },
  "varInspector": {
   "cols": {
    "lenName": 16,
    "lenType": 16,
    "lenVar": 40
   },
   "kernels_config": {
    "python": {
     "delete_cmd_postfix": "",
     "delete_cmd_prefix": "del ",
     "library": "var_list.py",
     "varRefreshCmd": "print(var_dic_list())"
    },
    "r": {
     "delete_cmd_postfix": ") ",
     "delete_cmd_prefix": "rm(",
     "library": "var_list.r",
     "varRefreshCmd": "cat(var_dic_list()) "
    }
   },
   "types_to_exclude": [
    "module",
    "function",
    "builtin_function_or_method",
    "instance",
    "_Feature"
   ],
   "window_display": false
  }
 },
 "nbformat": 4,
 "nbformat_minor": 5
}
